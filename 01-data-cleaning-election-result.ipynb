{
 "cells": [
  {
   "cell_type": "markdown",
   "metadata": {},
   "source": [
    "## Data Cleaning"
   ]
  },
  {
   "cell_type": "markdown",
   "metadata": {},
   "source": [
    "#### Import modules"
   ]
  },
  {
   "cell_type": "code",
   "execution_count": 1,
   "metadata": {},
   "outputs": [],
   "source": [
    "import os\n",
    "import pandas as pd"
   ]
  },
  {
   "cell_type": "markdown",
   "metadata": {},
   "source": [
    "#### Define paths and load data"
   ]
  },
  {
   "cell_type": "code",
   "execution_count": 2,
   "metadata": {},
   "outputs": [],
   "source": [
    "pd.set_option('display.max_columns', None)"
   ]
  },
  {
   "cell_type": "code",
   "execution_count": 3,
   "metadata": {},
   "outputs": [],
   "source": [
    "PATH = 'raw_data'"
   ]
  },
  {
   "cell_type": "code",
   "execution_count": 4,
   "metadata": {},
   "outputs": [],
   "source": [
    "OUTPUT_PATH = 'outputs'"
   ]
  },
  {
   "cell_type": "markdown",
   "metadata": {},
   "source": [
    "### Election results"
   ]
  },
  {
   "cell_type": "markdown",
   "metadata": {},
   "source": [
    "#### Load data"
   ]
  },
  {
   "cell_type": "code",
   "execution_count": 5,
   "metadata": {},
   "outputs": [],
   "source": [
    "results = pd.read_csv(os.path.join(PATH, 'HarvardData_countypres_2000-2020.csv'))\n",
    "results = results[results['party'].isin(['DEMOCRAT', 'REPUBLICAN'])]\n",
    "grpby_cols = ['year', 'state', 'state_po', 'county_name', 'county_fips', 'office',\n",
    "              'candidate', 'party', 'totalvotes', 'version']\n",
    "results = results.groupby(grpby_cols, as_index=False).sum()"
   ]
  },
  {
   "cell_type": "code",
   "execution_count": 6,
   "metadata": {},
   "outputs": [],
   "source": [
    "results['pctvotes'] = results['candidatevotes'] / results['totalvotes']\n",
    "results['office'] = 'PRESIDENT'  # for consistency"
   ]
  },
  {
   "cell_type": "code",
   "execution_count": 7,
   "metadata": {},
   "outputs": [
    {
     "data": {
      "text/plain": [
       "array(['ALABAMA', 'ALASKA', 'ARIZONA', 'ARKANSAS', 'CALIFORNIA',\n",
       "       'COLORADO', 'CONNECTICUT', 'DELAWARE', 'DISTRICT OF COLUMBIA',\n",
       "       'FLORIDA', 'GEORGIA', 'HAWAII', 'IDAHO', 'ILLINOIS', 'INDIANA',\n",
       "       'IOWA', 'KANSAS', 'KENTUCKY', 'LOUISIANA', 'MAINE', 'MARYLAND',\n",
       "       'MASSACHUSETTS', 'MICHIGAN', 'MINNESOTA', 'MISSISSIPPI',\n",
       "       'MISSOURI', 'MONTANA', 'NEBRASKA', 'NEVADA', 'NEW HAMPSHIRE',\n",
       "       'NEW JERSEY', 'NEW MEXICO', 'NEW YORK', 'NORTH CAROLINA',\n",
       "       'NORTH DAKOTA', 'OHIO', 'OKLAHOMA', 'OREGON', 'PENNSYLVANIA',\n",
       "       'RHODE ISLAND', 'SOUTH CAROLINA', 'SOUTH DAKOTA', 'TENNESSEE',\n",
       "       'TEXAS', 'UTAH', 'VERMONT', 'VIRGINIA', 'WASHINGTON',\n",
       "       'WEST VIRGINIA', 'WISCONSIN', 'WYOMING'], dtype=object)"
      ]
     },
     "execution_count": 7,
     "metadata": {},
     "output_type": "execute_result"
    }
   ],
   "source": [
    "results.state.unique()"
   ]
  },
  {
   "cell_type": "markdown",
   "metadata": {},
   "source": [
    "#### Pivot table"
   ]
  },
  {
   "cell_type": "code",
   "execution_count": 8,
   "metadata": {},
   "outputs": [],
   "source": [
    "index_cols = ['year', 'state', 'state_po', 'county_name', \n",
    "              'county_fips', 'office']"
   ]
  },
  {
   "cell_type": "code",
   "execution_count": 9,
   "metadata": {},
   "outputs": [],
   "source": [
    "pivoted_results = pd.pivot_table(results, index=index_cols, values=['pctvotes', 'candidatevotes'], columns=['party']).reset_index()\n",
    "pivoted_results.columns.name = ''\n",
    "pivoted_results.columns = [(x[0] + '_' + x[1]).lower() if x[1] != '' else x[0] for x in  pivoted_results.columns.values]\n",
    "a = pivoted_results['candidatevotes_democrat'] > pivoted_results['candidatevotes_republican']\n",
    "pivoted_results['winner'] = ['democrat' if x else 'republican' for x in a]\n",
    "pivoted_results = pivoted_results[['year', 'state', 'county_name', 'county_fips', 'candidatevotes_democrat',\n",
    "                                   'candidatevotes_republican', 'pctvotes_democrat', 'pctvotes_republican', 'winner']]"
   ]
  },
  {
   "cell_type": "code",
   "execution_count": 10,
   "metadata": {},
   "outputs": [
    {
     "data": {
      "text/html": [
       "<div>\n",
       "<style scoped>\n",
       "    .dataframe tbody tr th:only-of-type {\n",
       "        vertical-align: middle;\n",
       "    }\n",
       "\n",
       "    .dataframe tbody tr th {\n",
       "        vertical-align: top;\n",
       "    }\n",
       "\n",
       "    .dataframe thead th {\n",
       "        text-align: right;\n",
       "    }\n",
       "</style>\n",
       "<table border=\"1\" class=\"dataframe\">\n",
       "  <thead>\n",
       "    <tr style=\"text-align: right;\">\n",
       "      <th></th>\n",
       "      <th>year</th>\n",
       "      <th>state</th>\n",
       "      <th>county_name</th>\n",
       "      <th>county_fips</th>\n",
       "      <th>candidatevotes_democrat</th>\n",
       "      <th>candidatevotes_republican</th>\n",
       "      <th>pctvotes_democrat</th>\n",
       "      <th>pctvotes_republican</th>\n",
       "      <th>winner</th>\n",
       "    </tr>\n",
       "  </thead>\n",
       "  <tbody>\n",
       "    <tr>\n",
       "      <th>0</th>\n",
       "      <td>2000</td>\n",
       "      <td>ALABAMA</td>\n",
       "      <td>AUTAUGA</td>\n",
       "      <td>1001.0</td>\n",
       "      <td>4942.0</td>\n",
       "      <td>11993.0</td>\n",
       "      <td>0.287192</td>\n",
       "      <td>0.696943</td>\n",
       "      <td>republican</td>\n",
       "    </tr>\n",
       "    <tr>\n",
       "      <th>1</th>\n",
       "      <td>2000</td>\n",
       "      <td>ALABAMA</td>\n",
       "      <td>BALDWIN</td>\n",
       "      <td>1003.0</td>\n",
       "      <td>13997.0</td>\n",
       "      <td>40872.0</td>\n",
       "      <td>0.247822</td>\n",
       "      <td>0.723654</td>\n",
       "      <td>republican</td>\n",
       "    </tr>\n",
       "    <tr>\n",
       "      <th>2</th>\n",
       "      <td>2000</td>\n",
       "      <td>ALABAMA</td>\n",
       "      <td>BARBOUR</td>\n",
       "      <td>1005.0</td>\n",
       "      <td>5188.0</td>\n",
       "      <td>5096.0</td>\n",
       "      <td>0.499086</td>\n",
       "      <td>0.490236</td>\n",
       "      <td>democrat</td>\n",
       "    </tr>\n",
       "    <tr>\n",
       "      <th>3</th>\n",
       "      <td>2000</td>\n",
       "      <td>ALABAMA</td>\n",
       "      <td>BIBB</td>\n",
       "      <td>1007.0</td>\n",
       "      <td>2710.0</td>\n",
       "      <td>4273.0</td>\n",
       "      <td>0.381636</td>\n",
       "      <td>0.601746</td>\n",
       "      <td>republican</td>\n",
       "    </tr>\n",
       "    <tr>\n",
       "      <th>4</th>\n",
       "      <td>2000</td>\n",
       "      <td>ALABAMA</td>\n",
       "      <td>BLOUNT</td>\n",
       "      <td>1009.0</td>\n",
       "      <td>4977.0</td>\n",
       "      <td>12667.0</td>\n",
       "      <td>0.276915</td>\n",
       "      <td>0.704779</td>\n",
       "      <td>republican</td>\n",
       "    </tr>\n",
       "  </tbody>\n",
       "</table>\n",
       "</div>"
      ],
      "text/plain": [
       "   year    state county_name  county_fips  candidatevotes_democrat  \\\n",
       "0  2000  ALABAMA     AUTAUGA       1001.0                   4942.0   \n",
       "1  2000  ALABAMA     BALDWIN       1003.0                  13997.0   \n",
       "2  2000  ALABAMA     BARBOUR       1005.0                   5188.0   \n",
       "3  2000  ALABAMA        BIBB       1007.0                   2710.0   \n",
       "4  2000  ALABAMA      BLOUNT       1009.0                   4977.0   \n",
       "\n",
       "   candidatevotes_republican  pctvotes_democrat  pctvotes_republican  \\\n",
       "0                    11993.0           0.287192             0.696943   \n",
       "1                    40872.0           0.247822             0.723654   \n",
       "2                     5096.0           0.499086             0.490236   \n",
       "3                     4273.0           0.381636             0.601746   \n",
       "4                    12667.0           0.276915             0.704779   \n",
       "\n",
       "       winner  \n",
       "0  republican  \n",
       "1  republican  \n",
       "2    democrat  \n",
       "3  republican  \n",
       "4  republican  "
      ]
     },
     "execution_count": 10,
     "metadata": {},
     "output_type": "execute_result"
    }
   ],
   "source": [
    "pivoted_results.head()"
   ]
  },
  {
   "cell_type": "markdown",
   "metadata": {},
   "source": [
    "Export election results"
   ]
  },
  {
   "cell_type": "code",
   "execution_count": 11,
   "metadata": {},
   "outputs": [],
   "source": [
    "for year in pivoted_results['year'].unique():\n",
    "    df_temp = pivoted_results[pivoted_results['year'] == year]\n",
    "    df_temp.to_csv(os.path.join(OUTPUT_PATH, f'results_{year}.csv'), index=False)"
   ]
  },
  {
   "cell_type": "markdown",
   "metadata": {},
   "source": [
    "### Unemployment data"
   ]
  },
  {
   "cell_type": "code",
   "execution_count": 12,
   "metadata": {},
   "outputs": [],
   "source": [
    "unemployment = pd.read_excel(os.path.join(PATH, 'ERS_Unemployment.xlsx'), header=4)"
   ]
  },
  {
   "cell_type": "code",
   "execution_count": 13,
   "metadata": {},
   "outputs": [],
   "source": [
    "rates_cols = ['Unemployment_rate_2000',\n",
    "              'Unemployment_rate_2004',\n",
    "              'Unemployment_rate_2008',\n",
    "              'Unemployment_rate_2012',\n",
    "              'Unemployment_rate_2016',\n",
    "              'Unemployment_rate_2020']"
   ]
  },
  {
   "cell_type": "code",
   "execution_count": 14,
   "metadata": {},
   "outputs": [],
   "source": [
    "area_cols = ['State', 'Area_name', 'FIPS_Code']"
   ]
  },
  {
   "cell_type": "code",
   "execution_count": 15,
   "metadata": {},
   "outputs": [],
   "source": [
    "unemployment_ey = unemployment[area_cols + rates_cols]"
   ]
  },
  {
   "cell_type": "code",
   "execution_count": 16,
   "metadata": {},
   "outputs": [
    {
     "data": {
      "text/html": [
       "<div>\n",
       "<style scoped>\n",
       "    .dataframe tbody tr th:only-of-type {\n",
       "        vertical-align: middle;\n",
       "    }\n",
       "\n",
       "    .dataframe tbody tr th {\n",
       "        vertical-align: top;\n",
       "    }\n",
       "\n",
       "    .dataframe thead th {\n",
       "        text-align: right;\n",
       "    }\n",
       "</style>\n",
       "<table border=\"1\" class=\"dataframe\">\n",
       "  <thead>\n",
       "    <tr style=\"text-align: right;\">\n",
       "      <th></th>\n",
       "      <th>State</th>\n",
       "      <th>Area_name</th>\n",
       "      <th>FIPS_Code</th>\n",
       "      <th>Unemployment_rate_2000</th>\n",
       "      <th>Unemployment_rate_2004</th>\n",
       "      <th>Unemployment_rate_2008</th>\n",
       "      <th>Unemployment_rate_2012</th>\n",
       "      <th>Unemployment_rate_2016</th>\n",
       "      <th>Unemployment_rate_2020</th>\n",
       "    </tr>\n",
       "  </thead>\n",
       "  <tbody>\n",
       "    <tr>\n",
       "      <th>2480</th>\n",
       "      <td>TN</td>\n",
       "      <td>Campbell County, TN</td>\n",
       "      <td>47013</td>\n",
       "      <td>6.0</td>\n",
       "      <td>5.9</td>\n",
       "      <td>7.7</td>\n",
       "      <td>11.2</td>\n",
       "      <td>6.9</td>\n",
       "      <td>7.6</td>\n",
       "    </tr>\n",
       "    <tr>\n",
       "      <th>2037</th>\n",
       "      <td>ND</td>\n",
       "      <td>Cavalier County, ND</td>\n",
       "      <td>38019</td>\n",
       "      <td>3.4</td>\n",
       "      <td>3.6</td>\n",
       "      <td>3.0</td>\n",
       "      <td>3.0</td>\n",
       "      <td>2.7</td>\n",
       "      <td>3.5</td>\n",
       "    </tr>\n",
       "  </tbody>\n",
       "</table>\n",
       "</div>"
      ],
      "text/plain": [
       "     State            Area_name  FIPS_Code  Unemployment_rate_2000  \\\n",
       "2480    TN  Campbell County, TN      47013                     6.0   \n",
       "2037    ND  Cavalier County, ND      38019                     3.4   \n",
       "\n",
       "      Unemployment_rate_2004  Unemployment_rate_2008  Unemployment_rate_2012  \\\n",
       "2480                     5.9                     7.7                    11.2   \n",
       "2037                     3.6                     3.0                     3.0   \n",
       "\n",
       "      Unemployment_rate_2016  Unemployment_rate_2020  \n",
       "2480                     6.9                     7.6  \n",
       "2037                     2.7                     3.5  "
      ]
     },
     "execution_count": 16,
     "metadata": {},
     "output_type": "execute_result"
    }
   ],
   "source": [
    "unemployment_ey.sample(2)"
   ]
  },
  {
   "cell_type": "code",
   "execution_count": 17,
   "metadata": {},
   "outputs": [],
   "source": [
    "unemployment_ey_melted = pd.melt(unemployment_ey, \n",
    "                                 id_vars=area_cols, \n",
    "                                 value_vars=rates_cols, \n",
    "                                 value_name='unemployment',\n",
    "                                 var_name='year')\n",
    "unemployment_ey_melted['year'] = [x.split('_')[2] for x in unemployment_ey_melted['year']]\n",
    "unemployment_ey_melted['year'] = unemployment_ey_melted['year'].astype(int)\n",
    "unemployment_ey_melted.rename(columns={'FIPS_Code': 'county_fips'}, inplace=True)\n",
    "unemployment_ey_melted = unemployment_ey_melted[['county_fips', 'year', 'unemployment']]"
   ]
  },
  {
   "cell_type": "code",
   "execution_count": 18,
   "metadata": {},
   "outputs": [
    {
     "data": {
      "text/html": [
       "<div>\n",
       "<style scoped>\n",
       "    .dataframe tbody tr th:only-of-type {\n",
       "        vertical-align: middle;\n",
       "    }\n",
       "\n",
       "    .dataframe tbody tr th {\n",
       "        vertical-align: top;\n",
       "    }\n",
       "\n",
       "    .dataframe thead th {\n",
       "        text-align: right;\n",
       "    }\n",
       "</style>\n",
       "<table border=\"1\" class=\"dataframe\">\n",
       "  <thead>\n",
       "    <tr style=\"text-align: right;\">\n",
       "      <th></th>\n",
       "      <th>county_fips</th>\n",
       "      <th>year</th>\n",
       "      <th>unemployment</th>\n",
       "    </tr>\n",
       "  </thead>\n",
       "  <tbody>\n",
       "    <tr>\n",
       "      <th>4345</th>\n",
       "      <td>21113</td>\n",
       "      <td>2004</td>\n",
       "      <td>4.4</td>\n",
       "    </tr>\n",
       "  </tbody>\n",
       "</table>\n",
       "</div>"
      ],
      "text/plain": [
       "      county_fips  year  unemployment\n",
       "4345        21113  2004           4.4"
      ]
     },
     "execution_count": 18,
     "metadata": {},
     "output_type": "execute_result"
    }
   ],
   "source": [
    "unemployment_ey_melted.sample()"
   ]
  },
  {
   "cell_type": "markdown",
   "metadata": {},
   "source": [
    "Export unemployment data"
   ]
  },
  {
   "cell_type": "code",
   "execution_count": 19,
   "metadata": {},
   "outputs": [],
   "source": [
    "for year in unemployment_ey_melted['year'].unique():\n",
    "    \n",
    "    df_temp = unemployment_ey_melted[unemployment_ey_melted['year'] == year]\n",
    "    df_temp.to_csv(os.path.join(OUTPUT_PATH, f'unemployment_{year}.csv'), index=False)"
   ]
  },
  {
   "cell_type": "markdown",
   "metadata": {},
   "source": [
    "#### Population"
   ]
  },
  {
   "cell_type": "code",
   "execution_count": 20,
   "metadata": {},
   "outputs": [],
   "source": [
    "population = pd.read_excel(os.path.join(PATH, 'ERS_PopulationEstimates.xls'), header=2)"
   ]
  },
  {
   "cell_type": "code",
   "execution_count": 21,
   "metadata": {},
   "outputs": [
    {
     "data": {
      "text/html": [
       "<div>\n",
       "<style scoped>\n",
       "    .dataframe tbody tr th:only-of-type {\n",
       "        vertical-align: middle;\n",
       "    }\n",
       "\n",
       "    .dataframe tbody tr th {\n",
       "        vertical-align: top;\n",
       "    }\n",
       "\n",
       "    .dataframe thead th {\n",
       "        text-align: right;\n",
       "    }\n",
       "</style>\n",
       "<table border=\"1\" class=\"dataframe\">\n",
       "  <thead>\n",
       "    <tr style=\"text-align: right;\">\n",
       "      <th></th>\n",
       "      <th>FIPStxt</th>\n",
       "      <th>State</th>\n",
       "      <th>Area_Name</th>\n",
       "      <th>Rural-urban_Continuum Code_2003</th>\n",
       "      <th>Rural-urban_Continuum Code_2013</th>\n",
       "      <th>Urban_Influence_Code_2003</th>\n",
       "      <th>Urban_Influence_Code_2013</th>\n",
       "      <th>Economic_typology_2015</th>\n",
       "      <th>CENSUS_2010_POP</th>\n",
       "      <th>ESTIMATES_BASE_2010</th>\n",
       "      <th>POP_ESTIMATE_2010</th>\n",
       "      <th>POP_ESTIMATE_2011</th>\n",
       "      <th>POP_ESTIMATE_2012</th>\n",
       "      <th>POP_ESTIMATE_2013</th>\n",
       "      <th>POP_ESTIMATE_2014</th>\n",
       "      <th>POP_ESTIMATE_2015</th>\n",
       "      <th>POP_ESTIMATE_2016</th>\n",
       "      <th>POP_ESTIMATE_2017</th>\n",
       "      <th>POP_ESTIMATE_2018</th>\n",
       "      <th>POP_ESTIMATE_2019</th>\n",
       "      <th>N_POP_CHG_2010</th>\n",
       "      <th>N_POP_CHG_2011</th>\n",
       "      <th>N_POP_CHG_2012</th>\n",
       "      <th>N_POP_CHG_2013</th>\n",
       "      <th>N_POP_CHG_2014</th>\n",
       "      <th>N_POP_CHG_2015</th>\n",
       "      <th>N_POP_CHG_2016</th>\n",
       "      <th>N_POP_CHG_2017</th>\n",
       "      <th>N_POP_CHG_2018</th>\n",
       "      <th>N_POP_CHG_2019</th>\n",
       "      <th>Births_2010</th>\n",
       "      <th>Births_2011</th>\n",
       "      <th>Births_2012</th>\n",
       "      <th>Births_2013</th>\n",
       "      <th>Births_2014</th>\n",
       "      <th>Births_2015</th>\n",
       "      <th>Births_2016</th>\n",
       "      <th>Births_2017</th>\n",
       "      <th>Births_2018</th>\n",
       "      <th>Births_2019</th>\n",
       "      <th>Deaths_2010</th>\n",
       "      <th>Deaths_2011</th>\n",
       "      <th>Deaths_2012</th>\n",
       "      <th>Deaths_2013</th>\n",
       "      <th>Deaths_2014</th>\n",
       "      <th>Deaths_2015</th>\n",
       "      <th>Deaths_2016</th>\n",
       "      <th>Deaths_2017</th>\n",
       "      <th>Deaths_2018</th>\n",
       "      <th>Deaths_2019</th>\n",
       "      <th>NATURAL_INC_2010</th>\n",
       "      <th>NATURAL_INC_2011</th>\n",
       "      <th>NATURAL_INC_2012</th>\n",
       "      <th>NATURAL_INC_2013</th>\n",
       "      <th>NATURAL_INC_2014</th>\n",
       "      <th>NATURAL_INC_2015</th>\n",
       "      <th>NATURAL_INC_2016</th>\n",
       "      <th>NATURAL_INC_2017</th>\n",
       "      <th>NATURAL_INC_2018</th>\n",
       "      <th>NATURAL_INC_2019</th>\n",
       "      <th>INTERNATIONAL_MIG_2010</th>\n",
       "      <th>INTERNATIONAL_MIG_2011</th>\n",
       "      <th>INTERNATIONAL_MIG_2012</th>\n",
       "      <th>INTERNATIONAL_MIG_2013</th>\n",
       "      <th>INTERNATIONAL_MIG_2014</th>\n",
       "      <th>INTERNATIONAL_MIG_2015</th>\n",
       "      <th>INTERNATIONAL_MIG_2016</th>\n",
       "      <th>INTERNATIONAL_MIG_2017</th>\n",
       "      <th>INTERNATIONAL_MIG_2018</th>\n",
       "      <th>INTERNATIONAL_MIG_2019</th>\n",
       "      <th>DOMESTIC_MIG_2010</th>\n",
       "      <th>DOMESTIC_MIG_2011</th>\n",
       "      <th>DOMESTIC_MIG_2012</th>\n",
       "      <th>DOMESTIC_MIG_2013</th>\n",
       "      <th>DOMESTIC_MIG_2014</th>\n",
       "      <th>DOMESTIC_MIG_2015</th>\n",
       "      <th>DOMESTIC_MIG_2016</th>\n",
       "      <th>DOMESTIC_MIG_2017</th>\n",
       "      <th>DOMESTIC_MIG_2018</th>\n",
       "      <th>DOMESTIC_MIG_2019</th>\n",
       "      <th>NET_MIG_2010</th>\n",
       "      <th>NET_MIG_2011</th>\n",
       "      <th>NET_MIG_2012</th>\n",
       "      <th>NET_MIG_2013</th>\n",
       "      <th>NET_MIG_2014</th>\n",
       "      <th>NET_MIG_2015</th>\n",
       "      <th>NET_MIG_2016</th>\n",
       "      <th>NET_MIG_2017</th>\n",
       "      <th>NET_MIG_2018</th>\n",
       "      <th>NET_MIG_2019</th>\n",
       "      <th>RESIDUAL_2010</th>\n",
       "      <th>RESIDUAL_2011</th>\n",
       "      <th>RESIDUAL_2012</th>\n",
       "      <th>RESIDUAL_2013</th>\n",
       "      <th>RESIDUAL_2014</th>\n",
       "      <th>RESIDUAL_2015</th>\n",
       "      <th>RESIDUAL_2016</th>\n",
       "      <th>RESIDUAL_2017</th>\n",
       "      <th>RESIDUAL_2018</th>\n",
       "      <th>RESIDUAL_2019</th>\n",
       "      <th>GQ_ESTIMATES_BASE_2010</th>\n",
       "      <th>GQ_ESTIMATES_2010</th>\n",
       "      <th>GQ_ESTIMATES_2011</th>\n",
       "      <th>GQ_ESTIMATES_2012</th>\n",
       "      <th>GQ_ESTIMATES_2013</th>\n",
       "      <th>GQ_ESTIMATES_2014</th>\n",
       "      <th>GQ_ESTIMATES_2015</th>\n",
       "      <th>GQ_ESTIMATES_2016</th>\n",
       "      <th>GQ_ESTIMATES_2017</th>\n",
       "      <th>GQ_ESTIMATES_2018</th>\n",
       "      <th>GQ_ESTIMATES_2019</th>\n",
       "      <th>R_birth_2011</th>\n",
       "      <th>R_birth_2012</th>\n",
       "      <th>R_birth_2013</th>\n",
       "      <th>R_birth_2014</th>\n",
       "      <th>R_birth_2015</th>\n",
       "      <th>R_birth_2016</th>\n",
       "      <th>R_birth_2017</th>\n",
       "      <th>R_birth_2018</th>\n",
       "      <th>R_birth_2019</th>\n",
       "      <th>R_death_2011</th>\n",
       "      <th>R_death_2012</th>\n",
       "      <th>R_death_2013</th>\n",
       "      <th>R_death_2014</th>\n",
       "      <th>R_death_2015</th>\n",
       "      <th>R_death_2016</th>\n",
       "      <th>R_death_2017</th>\n",
       "      <th>R_death_2018</th>\n",
       "      <th>R_death_2019</th>\n",
       "      <th>R_NATURAL_INC_2011</th>\n",
       "      <th>R_NATURAL_INC_2012</th>\n",
       "      <th>R_NATURAL_INC_2013</th>\n",
       "      <th>R_NATURAL_INC_2014</th>\n",
       "      <th>R_NATURAL_INC_2015</th>\n",
       "      <th>R_NATURAL_INC_2016</th>\n",
       "      <th>R_NATURAL_INC_2017</th>\n",
       "      <th>R_NATURAL_INC_2018</th>\n",
       "      <th>R_NATURAL_INC_2019</th>\n",
       "      <th>R_INTERNATIONAL_MIG_2011</th>\n",
       "      <th>R_INTERNATIONAL_MIG_2012</th>\n",
       "      <th>R_INTERNATIONAL_MIG_2013</th>\n",
       "      <th>R_INTERNATIONAL_MIG_2014</th>\n",
       "      <th>R_INTERNATIONAL_MIG_2015</th>\n",
       "      <th>R_INTERNATIONAL_MIG_2016</th>\n",
       "      <th>R_INTERNATIONAL_MIG_2017</th>\n",
       "      <th>R_INTERNATIONAL_MIG_2018</th>\n",
       "      <th>R_INTERNATIONAL_MIG_2019</th>\n",
       "      <th>R_DOMESTIC_MIG_2011</th>\n",
       "      <th>R_DOMESTIC_MIG_2012</th>\n",
       "      <th>R_DOMESTIC_MIG_2013</th>\n",
       "      <th>R_DOMESTIC_MIG_2014</th>\n",
       "      <th>R_DOMESTIC_MIG_2015</th>\n",
       "      <th>R_DOMESTIC_MIG_2016</th>\n",
       "      <th>R_DOMESTIC_MIG_2017</th>\n",
       "      <th>R_DOMESTIC_MIG_2018</th>\n",
       "      <th>R_DOMESTIC_MIG_2019</th>\n",
       "      <th>R_NET_MIG_2011</th>\n",
       "      <th>R_NET_MIG_2012</th>\n",
       "      <th>R_NET_MIG_2013</th>\n",
       "      <th>R_NET_MIG_2014</th>\n",
       "      <th>R_NET_MIG_2015</th>\n",
       "      <th>R_NET_MIG_2016</th>\n",
       "      <th>R_NET_MIG_2017</th>\n",
       "      <th>R_NET_MIG_2018</th>\n",
       "      <th>R_NET_MIG_2019</th>\n",
       "    </tr>\n",
       "  </thead>\n",
       "  <tbody>\n",
       "    <tr>\n",
       "      <th>2693</th>\n",
       "      <td>48251</td>\n",
       "      <td>TX</td>\n",
       "      <td>Johnson County</td>\n",
       "      <td>1.0</td>\n",
       "      <td>1.0</td>\n",
       "      <td>1.0</td>\n",
       "      <td>1.0</td>\n",
       "      <td>0.0</td>\n",
       "      <td>150934</td>\n",
       "      <td>150956</td>\n",
       "      <td>151264</td>\n",
       "      <td>152094</td>\n",
       "      <td>153415</td>\n",
       "      <td>154535</td>\n",
       "      <td>156733</td>\n",
       "      <td>159345</td>\n",
       "      <td>162763</td>\n",
       "      <td>167012</td>\n",
       "      <td>171121</td>\n",
       "      <td>175817</td>\n",
       "      <td>308.0</td>\n",
       "      <td>830.0</td>\n",
       "      <td>1321.0</td>\n",
       "      <td>1120.0</td>\n",
       "      <td>2198.0</td>\n",
       "      <td>2612.0</td>\n",
       "      <td>3418.0</td>\n",
       "      <td>4249.0</td>\n",
       "      <td>4109.0</td>\n",
       "      <td>4696.0</td>\n",
       "      <td>484.0</td>\n",
       "      <td>1919.0</td>\n",
       "      <td>1964.0</td>\n",
       "      <td>1938.0</td>\n",
       "      <td>1953.0</td>\n",
       "      <td>2107.0</td>\n",
       "      <td>2092.0</td>\n",
       "      <td>2093.0</td>\n",
       "      <td>2153.0</td>\n",
       "      <td>2155.0</td>\n",
       "      <td>228.0</td>\n",
       "      <td>1284.0</td>\n",
       "      <td>1172.0</td>\n",
       "      <td>1269.0</td>\n",
       "      <td>1311.0</td>\n",
       "      <td>1332.0</td>\n",
       "      <td>1369.0</td>\n",
       "      <td>1395.0</td>\n",
       "      <td>1462.0</td>\n",
       "      <td>1464.0</td>\n",
       "      <td>256.0</td>\n",
       "      <td>635.0</td>\n",
       "      <td>792.0</td>\n",
       "      <td>669.0</td>\n",
       "      <td>642.0</td>\n",
       "      <td>775.0</td>\n",
       "      <td>723.0</td>\n",
       "      <td>698.0</td>\n",
       "      <td>691.0</td>\n",
       "      <td>691.0</td>\n",
       "      <td>22.0</td>\n",
       "      <td>59.0</td>\n",
       "      <td>20.0</td>\n",
       "      <td>2.0</td>\n",
       "      <td>-14.0</td>\n",
       "      <td>27.0</td>\n",
       "      <td>27.0</td>\n",
       "      <td>8.0</td>\n",
       "      <td>-11.0</td>\n",
       "      <td>-18.0</td>\n",
       "      <td>43.0</td>\n",
       "      <td>140.0</td>\n",
       "      <td>542.0</td>\n",
       "      <td>474.0</td>\n",
       "      <td>1569.0</td>\n",
       "      <td>1804.0</td>\n",
       "      <td>2664.0</td>\n",
       "      <td>3536.0</td>\n",
       "      <td>3429.0</td>\n",
       "      <td>4018.0</td>\n",
       "      <td>65.0</td>\n",
       "      <td>199.0</td>\n",
       "      <td>562.0</td>\n",
       "      <td>476.0</td>\n",
       "      <td>1555.0</td>\n",
       "      <td>1831.0</td>\n",
       "      <td>2691.0</td>\n",
       "      <td>3544.0</td>\n",
       "      <td>3418.0</td>\n",
       "      <td>4000.0</td>\n",
       "      <td>-13.0</td>\n",
       "      <td>-4.0</td>\n",
       "      <td>-33.0</td>\n",
       "      <td>-25.0</td>\n",
       "      <td>1.0</td>\n",
       "      <td>6.0</td>\n",
       "      <td>4.0</td>\n",
       "      <td>7.0</td>\n",
       "      <td>0.0</td>\n",
       "      <td>5.0</td>\n",
       "      <td>2644.0</td>\n",
       "      <td>2645.0</td>\n",
       "      <td>2643.0</td>\n",
       "      <td>2648.0</td>\n",
       "      <td>2678.0</td>\n",
       "      <td>2696.0</td>\n",
       "      <td>2709.0</td>\n",
       "      <td>2698.0</td>\n",
       "      <td>2676.0</td>\n",
       "      <td>2601.0</td>\n",
       "      <td>2596.0</td>\n",
       "      <td>12.651718</td>\n",
       "      <td>12.857232</td>\n",
       "      <td>12.586459</td>\n",
       "      <td>12.548672</td>\n",
       "      <td>13.332152</td>\n",
       "      <td>12.989432</td>\n",
       "      <td>12.693503</td>\n",
       "      <td>12.734634</td>\n",
       "      <td>12.422969</td>\n",
       "      <td>8.465246</td>\n",
       "      <td>7.672442</td>\n",
       "      <td>8.241598</td>\n",
       "      <td>8.423609</td>\n",
       "      <td>8.428299</td>\n",
       "      <td>8.500255</td>\n",
       "      <td>8.460314</td>\n",
       "      <td>8.647485</td>\n",
       "      <td>8.439548</td>\n",
       "      <td>4.186473</td>\n",
       "      <td>5.18479</td>\n",
       "      <td>4.344861</td>\n",
       "      <td>4.125063</td>\n",
       "      <td>4.903853</td>\n",
       "      <td>4.489178</td>\n",
       "      <td>4.233189</td>\n",
       "      <td>4.087149</td>\n",
       "      <td>3.983421</td>\n",
       "      <td>0.388979</td>\n",
       "      <td>0.130929</td>\n",
       "      <td>0.012989</td>\n",
       "      <td>-0.089955</td>\n",
       "      <td>0.170844</td>\n",
       "      <td>0.167646</td>\n",
       "      <td>0.048518</td>\n",
       "      <td>-0.065063</td>\n",
       "      <td>-0.103765</td>\n",
       "      <td>0.923002</td>\n",
       "      <td>3.548177</td>\n",
       "      <td>3.078422</td>\n",
       "      <td>10.081345</td>\n",
       "      <td>11.414904</td>\n",
       "      <td>16.541036</td>\n",
       "      <td>21.444925</td>\n",
       "      <td>20.28196</td>\n",
       "      <td>23.16264</td>\n",
       "      <td>1.311981</td>\n",
       "      <td>3.679106</td>\n",
       "      <td>3.091411</td>\n",
       "      <td>9.99139</td>\n",
       "      <td>11.585748</td>\n",
       "      <td>16.708682</td>\n",
       "      <td>21.493442</td>\n",
       "      <td>20.216897</td>\n",
       "      <td>23.058875</td>\n",
       "    </tr>\n",
       "  </tbody>\n",
       "</table>\n",
       "</div>"
      ],
      "text/plain": [
       "      FIPStxt State       Area_Name  Rural-urban_Continuum Code_2003  \\\n",
       "2693    48251    TX  Johnson County                              1.0   \n",
       "\n",
       "      Rural-urban_Continuum Code_2013  Urban_Influence_Code_2003  \\\n",
       "2693                              1.0                        1.0   \n",
       "\n",
       "      Urban_Influence_Code_2013  Economic_typology_2015  CENSUS_2010_POP  \\\n",
       "2693                        1.0                     0.0           150934   \n",
       "\n",
       "      ESTIMATES_BASE_2010  POP_ESTIMATE_2010  POP_ESTIMATE_2011  \\\n",
       "2693               150956             151264             152094   \n",
       "\n",
       "      POP_ESTIMATE_2012  POP_ESTIMATE_2013  POP_ESTIMATE_2014  \\\n",
       "2693             153415             154535             156733   \n",
       "\n",
       "      POP_ESTIMATE_2015  POP_ESTIMATE_2016  POP_ESTIMATE_2017  \\\n",
       "2693             159345             162763             167012   \n",
       "\n",
       "      POP_ESTIMATE_2018  POP_ESTIMATE_2019  N_POP_CHG_2010  N_POP_CHG_2011  \\\n",
       "2693             171121             175817           308.0           830.0   \n",
       "\n",
       "      N_POP_CHG_2012  N_POP_CHG_2013  N_POP_CHG_2014  N_POP_CHG_2015  \\\n",
       "2693          1321.0          1120.0          2198.0          2612.0   \n",
       "\n",
       "      N_POP_CHG_2016  N_POP_CHG_2017  N_POP_CHG_2018  N_POP_CHG_2019  \\\n",
       "2693          3418.0          4249.0          4109.0          4696.0   \n",
       "\n",
       "      Births_2010  Births_2011  Births_2012  Births_2013  Births_2014  \\\n",
       "2693        484.0       1919.0       1964.0       1938.0       1953.0   \n",
       "\n",
       "      Births_2015  Births_2016  Births_2017  Births_2018  Births_2019  \\\n",
       "2693       2107.0       2092.0       2093.0       2153.0       2155.0   \n",
       "\n",
       "      Deaths_2010  Deaths_2011  Deaths_2012  Deaths_2013  Deaths_2014  \\\n",
       "2693        228.0       1284.0       1172.0       1269.0       1311.0   \n",
       "\n",
       "      Deaths_2015  Deaths_2016  Deaths_2017  Deaths_2018  Deaths_2019  \\\n",
       "2693       1332.0       1369.0       1395.0       1462.0       1464.0   \n",
       "\n",
       "      NATURAL_INC_2010  NATURAL_INC_2011  NATURAL_INC_2012  NATURAL_INC_2013  \\\n",
       "2693             256.0             635.0             792.0             669.0   \n",
       "\n",
       "      NATURAL_INC_2014  NATURAL_INC_2015  NATURAL_INC_2016  NATURAL_INC_2017  \\\n",
       "2693             642.0             775.0             723.0             698.0   \n",
       "\n",
       "      NATURAL_INC_2018  NATURAL_INC_2019  INTERNATIONAL_MIG_2010  \\\n",
       "2693             691.0             691.0                    22.0   \n",
       "\n",
       "      INTERNATIONAL_MIG_2011  INTERNATIONAL_MIG_2012  INTERNATIONAL_MIG_2013  \\\n",
       "2693                    59.0                    20.0                     2.0   \n",
       "\n",
       "      INTERNATIONAL_MIG_2014  INTERNATIONAL_MIG_2015  INTERNATIONAL_MIG_2016  \\\n",
       "2693                   -14.0                    27.0                    27.0   \n",
       "\n",
       "      INTERNATIONAL_MIG_2017  INTERNATIONAL_MIG_2018  INTERNATIONAL_MIG_2019  \\\n",
       "2693                     8.0                   -11.0                   -18.0   \n",
       "\n",
       "      DOMESTIC_MIG_2010  DOMESTIC_MIG_2011  DOMESTIC_MIG_2012  \\\n",
       "2693               43.0              140.0              542.0   \n",
       "\n",
       "      DOMESTIC_MIG_2013  DOMESTIC_MIG_2014  DOMESTIC_MIG_2015  \\\n",
       "2693              474.0             1569.0             1804.0   \n",
       "\n",
       "      DOMESTIC_MIG_2016  DOMESTIC_MIG_2017  DOMESTIC_MIG_2018  \\\n",
       "2693             2664.0             3536.0             3429.0   \n",
       "\n",
       "      DOMESTIC_MIG_2019  NET_MIG_2010  NET_MIG_2011  NET_MIG_2012  \\\n",
       "2693             4018.0          65.0         199.0         562.0   \n",
       "\n",
       "      NET_MIG_2013  NET_MIG_2014  NET_MIG_2015  NET_MIG_2016  NET_MIG_2017  \\\n",
       "2693         476.0        1555.0        1831.0        2691.0        3544.0   \n",
       "\n",
       "      NET_MIG_2018  NET_MIG_2019  RESIDUAL_2010  RESIDUAL_2011  RESIDUAL_2012  \\\n",
       "2693        3418.0        4000.0          -13.0           -4.0          -33.0   \n",
       "\n",
       "      RESIDUAL_2013  RESIDUAL_2014  RESIDUAL_2015  RESIDUAL_2016  \\\n",
       "2693          -25.0            1.0            6.0            4.0   \n",
       "\n",
       "      RESIDUAL_2017  RESIDUAL_2018  RESIDUAL_2019  GQ_ESTIMATES_BASE_2010  \\\n",
       "2693            7.0            0.0            5.0                  2644.0   \n",
       "\n",
       "      GQ_ESTIMATES_2010  GQ_ESTIMATES_2011  GQ_ESTIMATES_2012  \\\n",
       "2693             2645.0             2643.0             2648.0   \n",
       "\n",
       "      GQ_ESTIMATES_2013  GQ_ESTIMATES_2014  GQ_ESTIMATES_2015  \\\n",
       "2693             2678.0             2696.0             2709.0   \n",
       "\n",
       "      GQ_ESTIMATES_2016  GQ_ESTIMATES_2017  GQ_ESTIMATES_2018  \\\n",
       "2693             2698.0             2676.0             2601.0   \n",
       "\n",
       "      GQ_ESTIMATES_2019  R_birth_2011  R_birth_2012  R_birth_2013  \\\n",
       "2693             2596.0     12.651718     12.857232     12.586459   \n",
       "\n",
       "      R_birth_2014  R_birth_2015  R_birth_2016  R_birth_2017  R_birth_2018  \\\n",
       "2693     12.548672     13.332152     12.989432     12.693503     12.734634   \n",
       "\n",
       "      R_birth_2019  R_death_2011  R_death_2012  R_death_2013  R_death_2014  \\\n",
       "2693     12.422969      8.465246      7.672442      8.241598      8.423609   \n",
       "\n",
       "      R_death_2015  R_death_2016  R_death_2017  R_death_2018  R_death_2019  \\\n",
       "2693      8.428299      8.500255      8.460314      8.647485      8.439548   \n",
       "\n",
       "      R_NATURAL_INC_2011  R_NATURAL_INC_2012  R_NATURAL_INC_2013  \\\n",
       "2693            4.186473             5.18479            4.344861   \n",
       "\n",
       "      R_NATURAL_INC_2014  R_NATURAL_INC_2015  R_NATURAL_INC_2016  \\\n",
       "2693            4.125063            4.903853            4.489178   \n",
       "\n",
       "      R_NATURAL_INC_2017  R_NATURAL_INC_2018  R_NATURAL_INC_2019  \\\n",
       "2693            4.233189            4.087149            3.983421   \n",
       "\n",
       "      R_INTERNATIONAL_MIG_2011  R_INTERNATIONAL_MIG_2012  \\\n",
       "2693                  0.388979                  0.130929   \n",
       "\n",
       "      R_INTERNATIONAL_MIG_2013  R_INTERNATIONAL_MIG_2014  \\\n",
       "2693                  0.012989                 -0.089955   \n",
       "\n",
       "      R_INTERNATIONAL_MIG_2015  R_INTERNATIONAL_MIG_2016  \\\n",
       "2693                  0.170844                  0.167646   \n",
       "\n",
       "      R_INTERNATIONAL_MIG_2017  R_INTERNATIONAL_MIG_2018  \\\n",
       "2693                  0.048518                 -0.065063   \n",
       "\n",
       "      R_INTERNATIONAL_MIG_2019  R_DOMESTIC_MIG_2011  R_DOMESTIC_MIG_2012  \\\n",
       "2693                 -0.103765             0.923002             3.548177   \n",
       "\n",
       "      R_DOMESTIC_MIG_2013  R_DOMESTIC_MIG_2014  R_DOMESTIC_MIG_2015  \\\n",
       "2693             3.078422            10.081345            11.414904   \n",
       "\n",
       "      R_DOMESTIC_MIG_2016  R_DOMESTIC_MIG_2017  R_DOMESTIC_MIG_2018  \\\n",
       "2693            16.541036            21.444925             20.28196   \n",
       "\n",
       "      R_DOMESTIC_MIG_2019  R_NET_MIG_2011  R_NET_MIG_2012  R_NET_MIG_2013  \\\n",
       "2693             23.16264        1.311981        3.679106        3.091411   \n",
       "\n",
       "      R_NET_MIG_2014  R_NET_MIG_2015  R_NET_MIG_2016  R_NET_MIG_2017  \\\n",
       "2693         9.99139       11.585748       16.708682       21.493442   \n",
       "\n",
       "      R_NET_MIG_2018  R_NET_MIG_2019  \n",
       "2693       20.216897       23.058875  "
      ]
     },
     "execution_count": 21,
     "metadata": {},
     "output_type": "execute_result"
    }
   ],
   "source": [
    "population.sample()"
   ]
  },
  {
   "cell_type": "markdown",
   "metadata": {},
   "source": [
    "We obtained the rates for natural increase in population, international migration, domestic migration, and net migration for the years 2012, 2016, and we substituted the value of 2019 for 2020. "
   ]
  },
  {
   "cell_type": "code",
   "execution_count": 22,
   "metadata": {},
   "outputs": [],
   "source": [
    "years_population = ['2012', '2016', '2019']"
   ]
  },
  {
   "cell_type": "code",
   "execution_count": 23,
   "metadata": {},
   "outputs": [],
   "source": [
    "rate_nat_inc_cols = ['R_NATURAL_INC_' + str(x) for x in years_population]\n",
    "rate_int_mig_cols = ['R_INTERNATIONAL_MIG_' + str(x) for x in years_population]\n",
    "rate_dom_mig_cols = ['R_DOMESTIC_MIG_' + str(x) for x in years_population]\n",
    "rate_net_mig_cols = ['R_NET_MIG_' + str(x) for x in years_population]"
   ]
  },
  {
   "cell_type": "code",
   "execution_count": 24,
   "metadata": {},
   "outputs": [],
   "source": [
    "population_dict = {'rate_natural_increase_population': rate_nat_inc_cols,\n",
    "                   'rate_international_migration': rate_int_mig_cols,\n",
    "                   'rate_domestic_migration': rate_dom_mig_cols,\n",
    "                   'rate_net_migration': rate_net_mig_cols}"
   ]
  },
  {
   "cell_type": "code",
   "execution_count": 25,
   "metadata": {},
   "outputs": [
    {
     "name": "stderr",
     "output_type": "stream",
     "text": [
      "C:\\Users\\isnek\\envs\\algo1\\lib\\site-packages\\pandas\\core\\frame.py:4441: SettingWithCopyWarning: \n",
      "A value is trying to be set on a copy of a slice from a DataFrame\n",
      "\n",
      "See the caveats in the documentation: https://pandas.pydata.org/pandas-docs/stable/user_guide/indexing.html#returning-a-view-versus-a-copy\n",
      "  return super().rename(\n",
      "C:\\Users\\isnek\\envs\\algo1\\lib\\site-packages\\pandas\\core\\frame.py:4308: SettingWithCopyWarning: \n",
      "A value is trying to be set on a copy of a slice from a DataFrame\n",
      "\n",
      "See the caveats in the documentation: https://pandas.pydata.org/pandas-docs/stable/user_guide/indexing.html#returning-a-view-versus-a-copy\n",
      "  return super().drop(\n"
     ]
    }
   ],
   "source": [
    "for key in population_dict.keys():\n",
    "    \n",
    "    cols = population_dict[key]\n",
    "    temp2 = pd.melt(population[['FIPStxt'] + cols], \n",
    "                    id_vars=['FIPStxt'], \n",
    "                    value_vars=cols, \n",
    "                    value_name=key,\n",
    "                    var_name='year')\n",
    "    temp2['year'] = [x.split(\"_\")[3] for x in temp2['year']]\n",
    "    temp2['year'] = ['2020' if x == '2019' else x for x in temp2['year']]\n",
    "    \n",
    "    for year in temp2['year'].unique():\n",
    "        df_temp = temp2[temp2['year'] == year]\n",
    "        df_temp.rename(columns={'FIPStxt': 'county_fips'}, inplace=True)\n",
    "        df_temp.drop(['year'], inplace=True, axis=1)\n",
    "        df_temp.to_csv(os.path.join(OUTPUT_PATH, f'{key}_{year}.csv'), index=False)\n",
    "        "
   ]
  },
  {
   "cell_type": "code",
   "execution_count": 26,
   "metadata": {},
   "outputs": [],
   "source": [
    "natural_inc_year = pd.melt(population[['FIPStxt'] + rate_nat_inc_cols], \n",
    "                           id_vars=['FIPStxt'], \n",
    "                           value_vars=rate_nat_inc_cols, \n",
    "                           value_name='natural_increase_in_pop',\n",
    "                           var_name='year')\n",
    "\n",
    "natural_inc_year['year'] = [x.split(\"_\")[3] for x in natural_inc_year['year']]\n",
    "natural_inc_year['year'] = ['2020' if x == '2019' else x for x in natural_inc_year['year']]"
   ]
  },
  {
   "cell_type": "markdown",
   "metadata": {},
   "source": [
    "#### Facebook"
   ]
  },
  {
   "cell_type": "code",
   "execution_count": 27,
   "metadata": {},
   "outputs": [],
   "source": [
    "facebook = pd.read_csv(os.path.join(PATH, 'Facebook_Cornell_ERS_SocialConnectednessIndex.csv'))\n",
    "facebook.rename(columns={'FIPS': 'county_fips'}, inplace=True)\n",
    "facebook = facebook[['county_fips', 'sh050m', 'sh100m', 'sh500m']]"
   ]
  },
  {
   "cell_type": "code",
   "execution_count": 28,
   "metadata": {},
   "outputs": [],
   "source": [
    "facebook.to_csv(os.path.join(OUTPUT_PATH, f'facebook_2014.csv'), index=False)"
   ]
  },
  {
   "cell_type": "markdown",
   "metadata": {},
   "source": [
    "#### Social Capital"
   ]
  },
  {
   "cell_type": "code",
   "execution_count": 29,
   "metadata": {},
   "outputs": [],
   "source": [
    "social_capital = pd.read_csv(os.path.join(PATH, 'PennState_AgriScienceDept_Religion_and_Social_Capital.csv'))\n",
    "social_capital = social_capital.iloc[:, :18]\n",
    "social_capital.drop(['County_Name', 'pop2014'], inplace=True, axis=1)\n",
    "social_capital.rename(columns={'FIPS': 'county_fips'}, inplace=True)"
   ]
  },
  {
   "cell_type": "code",
   "execution_count": 30,
   "metadata": {},
   "outputs": [],
   "source": [
    "social_capital.to_csv(os.path.join(OUTPUT_PATH, f'social_capital.csv'), index=False)"
   ]
  },
  {
   "cell_type": "markdown",
   "metadata": {},
   "source": [
    "#### Infra"
   ]
  },
  {
   "cell_type": "code",
   "execution_count": 31,
   "metadata": {},
   "outputs": [],
   "source": [
    "infra = pd.read_csv(os.path.join(PATH, 'HarvardData_streets_intersections.csv'))\n",
    "infra.rename(columns={'geoid': 'county_fips'}, inplace=True)\n",
    "infra = infra[['county_fips', 'streets_per_node_avg']]"
   ]
  },
  {
   "cell_type": "code",
   "execution_count": 32,
   "metadata": {},
   "outputs": [
    {
     "data": {
      "text/html": [
       "<div>\n",
       "<style scoped>\n",
       "    .dataframe tbody tr th:only-of-type {\n",
       "        vertical-align: middle;\n",
       "    }\n",
       "\n",
       "    .dataframe tbody tr th {\n",
       "        vertical-align: top;\n",
       "    }\n",
       "\n",
       "    .dataframe thead th {\n",
       "        text-align: right;\n",
       "    }\n",
       "</style>\n",
       "<table border=\"1\" class=\"dataframe\">\n",
       "  <thead>\n",
       "    <tr style=\"text-align: right;\">\n",
       "      <th></th>\n",
       "      <th>county_fips</th>\n",
       "      <th>streets_per_node_avg</th>\n",
       "    </tr>\n",
       "  </thead>\n",
       "  <tbody>\n",
       "    <tr>\n",
       "      <th>0</th>\n",
       "      <td>1001</td>\n",
       "      <td>2.455156</td>\n",
       "    </tr>\n",
       "    <tr>\n",
       "      <th>1</th>\n",
       "      <td>1003</td>\n",
       "      <td>2.501281</td>\n",
       "    </tr>\n",
       "    <tr>\n",
       "      <th>2</th>\n",
       "      <td>1005</td>\n",
       "      <td>2.526385</td>\n",
       "    </tr>\n",
       "    <tr>\n",
       "      <th>3</th>\n",
       "      <td>1007</td>\n",
       "      <td>2.398802</td>\n",
       "    </tr>\n",
       "    <tr>\n",
       "      <th>4</th>\n",
       "      <td>1009</td>\n",
       "      <td>2.334520</td>\n",
       "    </tr>\n",
       "  </tbody>\n",
       "</table>\n",
       "</div>"
      ],
      "text/plain": [
       "   county_fips  streets_per_node_avg\n",
       "0         1001              2.455156\n",
       "1         1003              2.501281\n",
       "2         1005              2.526385\n",
       "3         1007              2.398802\n",
       "4         1009              2.334520"
      ]
     },
     "execution_count": 32,
     "metadata": {},
     "output_type": "execute_result"
    }
   ],
   "source": [
    "infra.head()"
   ]
  },
  {
   "cell_type": "code",
   "execution_count": 33,
   "metadata": {},
   "outputs": [],
   "source": [
    "infra.to_csv(os.path.join(OUTPUT_PATH, f'infra.csv'), index=False)"
   ]
  },
  {
   "cell_type": "markdown",
   "metadata": {},
   "source": [
    "#### Broadband"
   ]
  },
  {
   "cell_type": "code",
   "execution_count": 34,
   "metadata": {},
   "outputs": [],
   "source": [
    "broadband = pd.read_csv(os.path.join(PATH, 'FCC_Health_and_Broadband.csv'))\n",
    "broadband.rename(columns={'geography_id': 'county_fips'}, inplace=True)\n",
    "broadband = broadband[['county_fips', 'pctpopwbbacc']]"
   ]
  },
  {
   "cell_type": "code",
   "execution_count": 35,
   "metadata": {},
   "outputs": [
    {
     "data": {
      "text/html": [
       "<div>\n",
       "<style scoped>\n",
       "    .dataframe tbody tr th:only-of-type {\n",
       "        vertical-align: middle;\n",
       "    }\n",
       "\n",
       "    .dataframe tbody tr th {\n",
       "        vertical-align: top;\n",
       "    }\n",
       "\n",
       "    .dataframe thead th {\n",
       "        text-align: right;\n",
       "    }\n",
       "</style>\n",
       "<table border=\"1\" class=\"dataframe\">\n",
       "  <thead>\n",
       "    <tr style=\"text-align: right;\">\n",
       "      <th></th>\n",
       "      <th>county_fips</th>\n",
       "      <th>pctpopwbbacc</th>\n",
       "    </tr>\n",
       "  </thead>\n",
       "  <tbody>\n",
       "    <tr>\n",
       "      <th>0</th>\n",
       "      <td>21109</td>\n",
       "      <td>99.6</td>\n",
       "    </tr>\n",
       "    <tr>\n",
       "      <th>1</th>\n",
       "      <td>37005</td>\n",
       "      <td>87.7</td>\n",
       "    </tr>\n",
       "    <tr>\n",
       "      <th>2</th>\n",
       "      <td>13123</td>\n",
       "      <td>95.1</td>\n",
       "    </tr>\n",
       "    <tr>\n",
       "      <th>3</th>\n",
       "      <td>20015</td>\n",
       "      <td>73.3</td>\n",
       "    </tr>\n",
       "    <tr>\n",
       "      <th>4</th>\n",
       "      <td>6025</td>\n",
       "      <td>85.7</td>\n",
       "    </tr>\n",
       "  </tbody>\n",
       "</table>\n",
       "</div>"
      ],
      "text/plain": [
       "   county_fips  pctpopwbbacc\n",
       "0        21109          99.6\n",
       "1        37005          87.7\n",
       "2        13123          95.1\n",
       "3        20015          73.3\n",
       "4         6025          85.7"
      ]
     },
     "execution_count": 35,
     "metadata": {},
     "output_type": "execute_result"
    }
   ],
   "source": [
    "broadband.head()"
   ]
  },
  {
   "cell_type": "code",
   "execution_count": 36,
   "metadata": {},
   "outputs": [],
   "source": [
    "broadband.to_csv(os.path.join(OUTPUT_PATH, f'broadband.csv'), index=False)"
   ]
  },
  {
   "cell_type": "code",
   "execution_count": null,
   "metadata": {},
   "outputs": [],
   "source": []
  }
 ],
 "metadata": {
  "kernelspec": {
   "display_name": "Python 3",
   "language": "python",
   "name": "python3"
  },
  "language_info": {
   "codemirror_mode": {
    "name": "ipython",
    "version": 3
   },
   "file_extension": ".py",
   "mimetype": "text/x-python",
   "name": "python",
   "nbconvert_exporter": "python",
   "pygments_lexer": "ipython3",
   "version": "3.9.5"
  }
 },
 "nbformat": 4,
 "nbformat_minor": 4
}
