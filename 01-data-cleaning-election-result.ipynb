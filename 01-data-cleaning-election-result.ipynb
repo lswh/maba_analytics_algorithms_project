{
 "cells": [
  {
   "cell_type": "markdown",
   "source": "## Data Cleaning",
   "metadata": {
    "cell_id": "00000-123b52e4-7bd5-4d06-a643-af4ba198af0e",
    "deepnote_cell_type": "markdown"
   }
  },
  {
   "cell_type": "markdown",
   "source": "#### Import modules",
   "metadata": {
    "cell_id": "00001-49542440-1937-4eff-b546-d46b05a9e32f",
    "deepnote_cell_type": "markdown"
   }
  },
  {
   "cell_type": "code",
   "metadata": {
    "cell_id": "00002-28e352bf-053f-48c6-8093-9d7cdf99513e",
    "deepnote_cell_type": "code"
   },
   "source": "import os\nimport pandas as pd",
   "execution_count": 1,
   "outputs": []
  },
  {
   "cell_type": "markdown",
   "source": "#### Define paths and load data",
   "metadata": {
    "cell_id": "00003-186fb741-4fff-4e1c-a94e-af98359baf88",
    "deepnote_cell_type": "markdown"
   }
  },
  {
   "cell_type": "code",
   "metadata": {
    "cell_id": "00004-68008e7d-aaa6-4e6f-95e7-0b4ff35adf0c",
    "deepnote_cell_type": "code"
   },
   "source": "pd.set_option('display.max_columns', None)",
   "execution_count": 2,
   "outputs": []
  },
  {
   "cell_type": "code",

   "execution_count": 9,
   "metadata": {},
   "outputs": [],
   "source": [
    "PATH = 'data'"
   ]
  },
  {
   "cell_type": "code",
   "execution_count": 13,
   "metadata": {},
   "outputs": [],
   "source": [
    "OUTPUT_PATH = 'outputs'"
   ]
  },
  {
   "cell_type": "markdown",
   "source": "### Election results",
   "metadata": {
    "cell_id": "00007-45a668e4-c851-4f60-a2a1-6a52c5f6ba0e",
    "deepnote_cell_type": "markdown"
   }
  },
  {
   "cell_type": "markdown",
   "source": "#### Load data",
   "metadata": {
    "cell_id": "00008-072f0e53-8e68-4077-9ce6-79e8d0e9c8e2",
    "deepnote_cell_type": "markdown"
   }
  },
  {
   "cell_type": "code",

   "execution_count": 33,
   "metadata": {},
   "outputs": [],
   "source": [
    "results = pd.read_csv(os.path.join(PATH, 'HarvardData_countypres_2000-2020.csv'))\n",
    "results = results[results['party'].isin(['DEMOCRAT', 'REPUBLICAN'])]\n",
    "grpby_cols = ['year', 'state', 'state_po', 'county_name', 'county_fips', 'office',\n",
    "              'candidate', 'party', 'totalvotes', 'version']\n",
    "results = results.groupby(grpby_cols, as_index=False).sum()"
   ]
  },
  {
   "cell_type": "code",
   "execution_count": 34,
   "metadata": {},
   "outputs": [],
   "source": [
    "results['pctvotes'] = results['candidatevotes'] / results['totalvotes']\n",
    "results['office'] = 'PRESIDENT'  # for consistency"
   ]

  },
  {
   "cell_type": "markdown",
   "source": "#### Pivot table",
   "metadata": {
    "cell_id": "00011-31c74eb9-ad09-4598-ac53-633f83cf7908",
    "deepnote_cell_type": "markdown"
   }
  },
  {
   "cell_type": "code",

   "execution_count": 35,
   "metadata": {},
   "outputs": [],
   "source": [
    "index_cols = ['year', 'state', 'state_po', 'county_name', \n",
    "              'county_fips', 'office']"
   ]
  },
  {
   "cell_type": "code",
   "execution_count": 36,
   "metadata": {},
   "outputs": [],
   "source": [
    "pivoted_results = pd.pivot_table(results, index=index_cols, values=['pctvotes', 'candidatevotes'], columns=['party']).reset_index()\n",
    "pivoted_results.columns.name = ''\n",
    "pivoted_results.columns = [(x[0] + '_' + x[1]).lower() if x[1] != '' else x[0] for x in  pivoted_results.columns.values]\n",
    "a = pivoted_results['candidatevotes_democrat'] > pivoted_results['candidatevotes_republican']\n",
    "pivoted_results['winner'] = ['democrat' if x else 'republican' for x in a]\n",
    "pivoted_results = pivoted_results[['year', 'state', 'county_name', 'county_fips', 'candidatevotes_democrat',\n",
    "                                   'candidatevotes_republican', 'pctvotes_democrat', 'pctvotes_republican', 'winner']]"
   ]
  },
  {
   "cell_type": "code",
   "execution_count": 42,
   "metadata": {},

   "outputs": [
    {
     "data": {
      "text/html": "<div>\n<style scoped>\n    .dataframe tbody tr th:only-of-type {\n        vertical-align: middle;\n    }\n\n    .dataframe tbody tr th {\n        vertical-align: top;\n    }\n\n    .dataframe thead th {\n        text-align: right;\n    }\n</style>\n<table border=\"1\" class=\"dataframe\">\n  <thead>\n    <tr style=\"text-align: right;\">\n      <th></th>\n      <th>year</th>\n      <th>state</th>\n      <th>county_name</th>\n      <th>county_fips</th>\n      <th>candidatevotes_democrat</th>\n      <th>candidatevotes_republican</th>\n      <th>pctvotes_democrat</th>\n      <th>pctvotes_republican</th>\n      <th>winner</th>\n    </tr>\n  </thead>\n  <tbody>\n    <tr>\n      <th>0</th>\n      <td>2000</td>\n      <td>ALABAMA</td>\n      <td>AUTAUGA</td>\n      <td>1001.0</td>\n      <td>4942.0</td>\n      <td>11993.0</td>\n      <td>0.287192</td>\n      <td>0.696943</td>\n      <td>republican</td>\n    </tr>\n    <tr>\n      <th>1</th>\n      <td>2000</td>\n      <td>ALABAMA</td>\n      <td>BALDWIN</td>\n      <td>1003.0</td>\n      <td>13997.0</td>\n      <td>40872.0</td>\n      <td>0.247822</td>\n      <td>0.723654</td>\n      <td>republican</td>\n    </tr>\n    <tr>\n      <th>2</th>\n      <td>2000</td>\n      <td>ALABAMA</td>\n      <td>BARBOUR</td>\n      <td>1005.0</td>\n      <td>5188.0</td>\n      <td>5096.0</td>\n      <td>0.499086</td>\n      <td>0.490236</td>\n      <td>democrat</td>\n    </tr>\n    <tr>\n      <th>3</th>\n      <td>2000</td>\n      <td>ALABAMA</td>\n      <td>BIBB</td>\n      <td>1007.0</td>\n      <td>2710.0</td>\n      <td>4273.0</td>\n      <td>0.381636</td>\n      <td>0.601746</td>\n      <td>republican</td>\n    </tr>\n    <tr>\n      <th>4</th>\n      <td>2000</td>\n      <td>ALABAMA</td>\n      <td>BLOUNT</td>\n      <td>1009.0</td>\n      <td>4977.0</td>\n      <td>12667.0</td>\n      <td>0.276915</td>\n      <td>0.704779</td>\n      <td>republican</td>\n    </tr>\n  </tbody>\n</table>\n</div>",
      "text/plain": "   year    state county_name  county_fips  candidatevotes_democrat  \\\n0  2000  ALABAMA     AUTAUGA       1001.0                   4942.0   \n1  2000  ALABAMA     BALDWIN       1003.0                  13997.0   \n2  2000  ALABAMA     BARBOUR       1005.0                   5188.0   \n3  2000  ALABAMA        BIBB       1007.0                   2710.0   \n4  2000  ALABAMA      BLOUNT       1009.0                   4977.0   \n\n   candidatevotes_republican  pctvotes_democrat  pctvotes_republican  \\\n0                    11993.0           0.287192             0.696943   \n1                    40872.0           0.247822             0.723654   \n2                     5096.0           0.499086             0.490236   \n3                     4273.0           0.381636             0.601746   \n4                    12667.0           0.276915             0.704779   \n\n       winner  \n0  republican  \n1  republican  \n2    democrat  \n3  republican  \n4  republican  "
     },
     "execution_count": 42,
     "metadata": {},
     "output_type": "execute_result"
    }
   ]
  },
  {

   "cell_type": "markdown",
   "source": "Export election results",
   "metadata": {
    "cell_id": "00018-e36865c5-65f4-42ee-b308-62670d82020e",
    "deepnote_cell_type": "markdown"
   }
  },
  {
   "cell_type": "code",

   "execution_count": 44,
   "metadata": {},
   "outputs": [],
   "source": [
    "for year in pivoted_results['year'].unique():\n",
    "    \n",
    "    df_temp = pivoted_results[pivoted_results['year'] == year]\n",
    "    df_temp.to_csv(os.path.join(OUTPUT_PATH, f'results_{year}.csv'), index=False)"
   ]

  },
  {
   "cell_type": "markdown",
   "source": "### Unemployment data",
   "metadata": {
    "cell_id": "00020-c4821b53-895e-4a12-abe8-93ec7b07a430",
    "deepnote_cell_type": "markdown"
   }
  },
  {
   "cell_type": "code",

   "execution_count": 45,
   "metadata": {},
   "outputs": [],
   "source": [
    "unemployment = pd.read_excel(os.path.join(PATH, 'ERS_Unemployment.xlsx'), header=4)"
   ]
  },
  {
   "cell_type": "code",
   "execution_count": 46,
   "metadata": {},
   "outputs": [],
   "source": [
    "rates_cols = ['Unemployment_rate_2000',\n",
    "              'Unemployment_rate_2004',\n",
    "              'Unemployment_rate_2008',\n",
    "              'Unemployment_rate_2012',\n",
    "              'Unemployment_rate_2016',\n",
    "              'Unemployment_rate_2020']"
   ]
  },
  {
   "cell_type": "code",
   "execution_count": 47,
   "metadata": {},
   "outputs": [],
   "source": [
    "area_cols = ['State', 'Area_name', 'FIPS_Code']"
   ]
  },
  {
   "cell_type": "code",
   "execution_count": 48,
   "metadata": {},
   "outputs": [],
   "source": [
    "unemployment_ey = unemployment[area_cols + rates_cols]"
   ]
  },
  {
   "cell_type": "code",
   "execution_count": 49,
   "metadata": {},
   "outputs": [
    {
     "data": {
      "text/html": [
       "<div>\n",
       "<style scoped>\n",
       "    .dataframe tbody tr th:only-of-type {\n",
       "        vertical-align: middle;\n",
       "    }\n",
       "\n",
       "    .dataframe tbody tr th {\n",
       "        vertical-align: top;\n",
       "    }\n",
       "\n",
       "    .dataframe thead th {\n",
       "        text-align: right;\n",
       "    }\n",
       "</style>\n",
       "<table border=\"1\" class=\"dataframe\">\n",
       "  <thead>\n",
       "    <tr style=\"text-align: right;\">\n",
       "      <th></th>\n",
       "      <th>State</th>\n",
       "      <th>Area_name</th>\n",
       "      <th>FIPS_Code</th>\n",
       "      <th>Unemployment_rate_2000</th>\n",
       "      <th>Unemployment_rate_2004</th>\n",
       "      <th>Unemployment_rate_2008</th>\n",
       "      <th>Unemployment_rate_2012</th>\n",
       "      <th>Unemployment_rate_2016</th>\n",
       "      <th>Unemployment_rate_2020</th>\n",
       "    </tr>\n",
       "  </thead>\n",
       "  <tbody>\n",
       "    <tr>\n",
       "      <th>2386</th>\n",
       "      <td>SC</td>\n",
       "      <td>Jasper County, SC</td>\n",
       "      <td>45053</td>\n",
       "      <td>3.6</td>\n",
       "      <td>6.0</td>\n",
       "      <td>6.5</td>\n",
       "      <td>8.3</td>\n",
       "      <td>4.3</td>\n",
       "      <td>5.1</td>\n",
       "    </tr>\n",
       "    <tr>\n",
       "      <th>477</th>\n",
       "      <td>GA</td>\n",
       "      <td>Houston County, GA</td>\n",
       "      <td>13153</td>\n",
       "      <td>3.4</td>\n",
       "      <td>4.3</td>\n",
       "      <td>5.6</td>\n",
       "      <td>7.9</td>\n",
       "      <td>5.4</td>\n",
       "      <td>5.2</td>\n",
       "    </tr>\n",
       "  </tbody>\n",
       "</table>\n",
       "</div>"
      ],
      "text/plain": [
       "     State           Area_name  FIPS_Code  Unemployment_rate_2000  \\\n",
       "2386    SC   Jasper County, SC      45053                     3.6   \n",
       "477     GA  Houston County, GA      13153                     3.4   \n",
       "\n",
       "      Unemployment_rate_2004  Unemployment_rate_2008  Unemployment_rate_2012  \\\n",
       "2386                     6.0                     6.5                     8.3   \n",
       "477                      4.3                     5.6                     7.9   \n",
       "\n",
       "      Unemployment_rate_2016  Unemployment_rate_2020  \n",
       "2386                     4.3                     5.1  \n",
       "477                      5.4                     5.2  "
      ]

     },
     "execution_count": 49,
     "metadata": {},
     "output_type": "execute_result"
    }

   ],
   "source": [
    "unemployment_ey.sample(2)"
   ]
  },
  {
   "cell_type": "code",
   "execution_count": 50,
   "metadata": {},
   "outputs": [],
   "source": [
    "unemployment_ey_melted = pd.melt(unemployment_ey, \n",
    "                                 id_vars=area_cols, \n",
    "                                 value_vars=rates_cols, \n",
    "                                 value_name='unemployment',\n",
    "                                 var_name='year')\n",
    "unemployment_ey_melted['year'] = [x.split('_')[2] for x in unemployment_ey_melted['year']]\n",
    "unemployment_ey_melted['year'] = unemployment_ey_melted['year'].astype(int)\n",
    "unemployment_ey_melted.rename(columns={'FIPS_Code': 'county_fips'}, inplace=True)\n",
    "unemployment_ey_melted = unemployment_ey_melted[['county_fips', 'year', 'unemployment']]"
   ]
  },
  {
   "cell_type": "code",
   "execution_count": 51,
   "metadata": {},
   "outputs": [
    {
     "data": {
      "text/html": [
       "<div>\n",
       "<style scoped>\n",
       "    .dataframe tbody tr th:only-of-type {\n",
       "        vertical-align: middle;\n",
       "    }\n",
       "\n",
       "    .dataframe tbody tr th {\n",
       "        vertical-align: top;\n",
       "    }\n",
       "\n",
       "    .dataframe thead th {\n",
       "        text-align: right;\n",
       "    }\n",
       "</style>\n",
       "<table border=\"1\" class=\"dataframe\">\n",
       "  <thead>\n",
       "    <tr style=\"text-align: right;\">\n",
       "      <th></th>\n",
       "      <th>county_fips</th>\n",
       "      <th>year</th>\n",
       "      <th>unemployment</th>\n",
       "    </tr>\n",
       "  </thead>\n",
       "  <tbody>\n",
       "    <tr>\n",
       "      <th>2707</th>\n",
       "      <td>48275</td>\n",
       "      <td>2000</td>\n",
       "      <td>4.7</td>\n",
       "    </tr>\n",
       "  </tbody>\n",
       "</table>\n",
       "</div>"
      ],
      "text/plain": [
       "      county_fips  year  unemployment\n",
       "2707        48275  2000           4.7"
      ]

     },
     "execution_count": 51,
     "metadata": {},
     "output_type": "execute_result"
    }
   ]
  },
  {
   "cell_type": "markdown",
   "metadata": {},
   "source": [
    "Export unemployment data"
   ]
  },
  {
   "cell_type": "code",

   "execution_count": 52,
   "metadata": {},
   "outputs": [],
   "source": [
    "for year in unemployment_ey_melted['year'].unique():\n",
    "    \n",
    "    df_temp = unemployment_ey_melted[unemployment_ey_melted['year'] == year]\n",
    "    df_temp.to_csv(os.path.join(OUTPUT_PATH, f'unemployment_{year}.csv'), index=False)"
   ]

  },
  {
   "cell_type": "markdown",
   "source": "#### Population",
   "metadata": {
    "cell_id": "00034-3e999851-577d-494b-bcbc-1e7211a2e526",
    "deepnote_cell_type": "markdown"
   }
  },
  {
   "cell_type": "code",

   "execution_count": 53,
   "metadata": {},
   "outputs": [],
   "source": [
    "population = pd.read_excel(os.path.join(PATH, 'ERS_PopulationEstimates.xls'), header=2)"
   ]
  },
  {
   "cell_type": "code",
   "execution_count": 54,
   "metadata": {},
   "outputs": [
    {
     "data": {
      "text/html": [
       "<div>\n",
       "<style scoped>\n",
       "    .dataframe tbody tr th:only-of-type {\n",
       "        vertical-align: middle;\n",
       "    }\n",
       "\n",
       "    .dataframe tbody tr th {\n",
       "        vertical-align: top;\n",
       "    }\n",
       "\n",
       "    .dataframe thead th {\n",
       "        text-align: right;\n",
       "    }\n",
       "</style>\n",
       "<table border=\"1\" class=\"dataframe\">\n",
       "  <thead>\n",
       "    <tr style=\"text-align: right;\">\n",
       "      <th></th>\n",
       "      <th>FIPStxt</th>\n",
       "      <th>State</th>\n",
       "      <th>Area_Name</th>\n",
       "      <th>Rural-urban_Continuum Code_2003</th>\n",
       "      <th>Rural-urban_Continuum Code_2013</th>\n",
       "      <th>Urban_Influence_Code_2003</th>\n",
       "      <th>Urban_Influence_Code_2013</th>\n",
       "      <th>Economic_typology_2015</th>\n",
       "      <th>CENSUS_2010_POP</th>\n",
       "      <th>ESTIMATES_BASE_2010</th>\n",
       "      <th>POP_ESTIMATE_2010</th>\n",
       "      <th>POP_ESTIMATE_2011</th>\n",
       "      <th>POP_ESTIMATE_2012</th>\n",
       "      <th>POP_ESTIMATE_2013</th>\n",
       "      <th>POP_ESTIMATE_2014</th>\n",
       "      <th>POP_ESTIMATE_2015</th>\n",
       "      <th>POP_ESTIMATE_2016</th>\n",
       "      <th>POP_ESTIMATE_2017</th>\n",
       "      <th>POP_ESTIMATE_2018</th>\n",
       "      <th>POP_ESTIMATE_2019</th>\n",
       "      <th>N_POP_CHG_2010</th>\n",
       "      <th>N_POP_CHG_2011</th>\n",
       "      <th>N_POP_CHG_2012</th>\n",
       "      <th>N_POP_CHG_2013</th>\n",
       "      <th>N_POP_CHG_2014</th>\n",
       "      <th>N_POP_CHG_2015</th>\n",
       "      <th>N_POP_CHG_2016</th>\n",
       "      <th>N_POP_CHG_2017</th>\n",
       "      <th>N_POP_CHG_2018</th>\n",
       "      <th>N_POP_CHG_2019</th>\n",
       "      <th>Births_2010</th>\n",
       "      <th>Births_2011</th>\n",
       "      <th>Births_2012</th>\n",
       "      <th>Births_2013</th>\n",
       "      <th>Births_2014</th>\n",
       "      <th>Births_2015</th>\n",
       "      <th>Births_2016</th>\n",
       "      <th>Births_2017</th>\n",
       "      <th>Births_2018</th>\n",
       "      <th>Births_2019</th>\n",
       "      <th>Deaths_2010</th>\n",
       "      <th>Deaths_2011</th>\n",
       "      <th>Deaths_2012</th>\n",
       "      <th>Deaths_2013</th>\n",
       "      <th>Deaths_2014</th>\n",
       "      <th>Deaths_2015</th>\n",
       "      <th>Deaths_2016</th>\n",
       "      <th>Deaths_2017</th>\n",
       "      <th>Deaths_2018</th>\n",
       "      <th>Deaths_2019</th>\n",
       "      <th>NATURAL_INC_2010</th>\n",
       "      <th>NATURAL_INC_2011</th>\n",
       "      <th>NATURAL_INC_2012</th>\n",
       "      <th>NATURAL_INC_2013</th>\n",
       "      <th>NATURAL_INC_2014</th>\n",
       "      <th>NATURAL_INC_2015</th>\n",
       "      <th>NATURAL_INC_2016</th>\n",
       "      <th>NATURAL_INC_2017</th>\n",
       "      <th>NATURAL_INC_2018</th>\n",
       "      <th>NATURAL_INC_2019</th>\n",
       "      <th>INTERNATIONAL_MIG_2010</th>\n",
       "      <th>INTERNATIONAL_MIG_2011</th>\n",
       "      <th>INTERNATIONAL_MIG_2012</th>\n",
       "      <th>INTERNATIONAL_MIG_2013</th>\n",
       "      <th>INTERNATIONAL_MIG_2014</th>\n",
       "      <th>INTERNATIONAL_MIG_2015</th>\n",
       "      <th>INTERNATIONAL_MIG_2016</th>\n",
       "      <th>INTERNATIONAL_MIG_2017</th>\n",
       "      <th>INTERNATIONAL_MIG_2018</th>\n",
       "      <th>INTERNATIONAL_MIG_2019</th>\n",
       "      <th>DOMESTIC_MIG_2010</th>\n",
       "      <th>DOMESTIC_MIG_2011</th>\n",
       "      <th>DOMESTIC_MIG_2012</th>\n",
       "      <th>DOMESTIC_MIG_2013</th>\n",
       "      <th>DOMESTIC_MIG_2014</th>\n",
       "      <th>DOMESTIC_MIG_2015</th>\n",
       "      <th>DOMESTIC_MIG_2016</th>\n",
       "      <th>DOMESTIC_MIG_2017</th>\n",
       "      <th>DOMESTIC_MIG_2018</th>\n",
       "      <th>DOMESTIC_MIG_2019</th>\n",
       "      <th>NET_MIG_2010</th>\n",
       "      <th>NET_MIG_2011</th>\n",
       "      <th>NET_MIG_2012</th>\n",
       "      <th>NET_MIG_2013</th>\n",
       "      <th>NET_MIG_2014</th>\n",
       "      <th>NET_MIG_2015</th>\n",
       "      <th>NET_MIG_2016</th>\n",
       "      <th>NET_MIG_2017</th>\n",
       "      <th>NET_MIG_2018</th>\n",
       "      <th>NET_MIG_2019</th>\n",
       "      <th>RESIDUAL_2010</th>\n",
       "      <th>RESIDUAL_2011</th>\n",
       "      <th>RESIDUAL_2012</th>\n",
       "      <th>RESIDUAL_2013</th>\n",
       "      <th>RESIDUAL_2014</th>\n",
       "      <th>RESIDUAL_2015</th>\n",
       "      <th>RESIDUAL_2016</th>\n",
       "      <th>RESIDUAL_2017</th>\n",
       "      <th>RESIDUAL_2018</th>\n",
       "      <th>RESIDUAL_2019</th>\n",
       "      <th>GQ_ESTIMATES_BASE_2010</th>\n",
       "      <th>GQ_ESTIMATES_2010</th>\n",
       "      <th>GQ_ESTIMATES_2011</th>\n",
       "      <th>GQ_ESTIMATES_2012</th>\n",
       "      <th>GQ_ESTIMATES_2013</th>\n",
       "      <th>GQ_ESTIMATES_2014</th>\n",
       "      <th>GQ_ESTIMATES_2015</th>\n",
       "      <th>GQ_ESTIMATES_2016</th>\n",
       "      <th>GQ_ESTIMATES_2017</th>\n",
       "      <th>GQ_ESTIMATES_2018</th>\n",
       "      <th>GQ_ESTIMATES_2019</th>\n",
       "      <th>R_birth_2011</th>\n",
       "      <th>R_birth_2012</th>\n",
       "      <th>R_birth_2013</th>\n",
       "      <th>R_birth_2014</th>\n",
       "      <th>R_birth_2015</th>\n",
       "      <th>R_birth_2016</th>\n",
       "      <th>R_birth_2017</th>\n",
       "      <th>R_birth_2018</th>\n",
       "      <th>R_birth_2019</th>\n",
       "      <th>R_death_2011</th>\n",
       "      <th>R_death_2012</th>\n",
       "      <th>R_death_2013</th>\n",
       "      <th>R_death_2014</th>\n",
       "      <th>R_death_2015</th>\n",
       "      <th>R_death_2016</th>\n",
       "      <th>R_death_2017</th>\n",
       "      <th>R_death_2018</th>\n",
       "      <th>R_death_2019</th>\n",
       "      <th>R_NATURAL_INC_2011</th>\n",
       "      <th>R_NATURAL_INC_2012</th>\n",
       "      <th>R_NATURAL_INC_2013</th>\n",
       "      <th>R_NATURAL_INC_2014</th>\n",
       "      <th>R_NATURAL_INC_2015</th>\n",
       "      <th>R_NATURAL_INC_2016</th>\n",
       "      <th>R_NATURAL_INC_2017</th>\n",
       "      <th>R_NATURAL_INC_2018</th>\n",
       "      <th>R_NATURAL_INC_2019</th>\n",
       "      <th>R_INTERNATIONAL_MIG_2011</th>\n",
       "      <th>R_INTERNATIONAL_MIG_2012</th>\n",
       "      <th>R_INTERNATIONAL_MIG_2013</th>\n",
       "      <th>R_INTERNATIONAL_MIG_2014</th>\n",
       "      <th>R_INTERNATIONAL_MIG_2015</th>\n",
       "      <th>R_INTERNATIONAL_MIG_2016</th>\n",
       "      <th>R_INTERNATIONAL_MIG_2017</th>\n",
       "      <th>R_INTERNATIONAL_MIG_2018</th>\n",
       "      <th>R_INTERNATIONAL_MIG_2019</th>\n",
       "      <th>R_DOMESTIC_MIG_2011</th>\n",
       "      <th>R_DOMESTIC_MIG_2012</th>\n",
       "      <th>R_DOMESTIC_MIG_2013</th>\n",
       "      <th>R_DOMESTIC_MIG_2014</th>\n",
       "      <th>R_DOMESTIC_MIG_2015</th>\n",
       "      <th>R_DOMESTIC_MIG_2016</th>\n",
       "      <th>R_DOMESTIC_MIG_2017</th>\n",
       "      <th>R_DOMESTIC_MIG_2018</th>\n",
       "      <th>R_DOMESTIC_MIG_2019</th>\n",
       "      <th>R_NET_MIG_2011</th>\n",
       "      <th>R_NET_MIG_2012</th>\n",
       "      <th>R_NET_MIG_2013</th>\n",
       "      <th>R_NET_MIG_2014</th>\n",
       "      <th>R_NET_MIG_2015</th>\n",
       "      <th>R_NET_MIG_2016</th>\n",
       "      <th>R_NET_MIG_2017</th>\n",
       "      <th>R_NET_MIG_2018</th>\n",
       "      <th>R_NET_MIG_2019</th>\n",
       "    </tr>\n",
       "  </thead>\n",
       "  <tbody>\n",
       "    <tr>\n",
       "      <th>2833</th>\n",
       "      <td>49021</td>\n",
       "      <td>UT</td>\n",
       "      <td>Iron County</td>\n",
       "      <td>4.0</td>\n",
       "      <td>4.0</td>\n",
       "      <td>5.0</td>\n",
       "      <td>5.0</td>\n",
       "      <td>4.0</td>\n",
       "      <td>46163</td>\n",
       "      <td>46163</td>\n",
       "      <td>46263</td>\n",
       "      <td>46622</td>\n",
       "      <td>46646</td>\n",
       "      <td>46530</td>\n",
       "      <td>47041</td>\n",
       "      <td>48113</td>\n",
       "      <td>49676</td>\n",
       "      <td>50761</td>\n",
       "      <td>52678</td>\n",
       "      <td>54839</td>\n",
       "      <td>100.0</td>\n",
       "      <td>359.0</td>\n",
       "      <td>24.0</td>\n",
       "      <td>-116.0</td>\n",
       "      <td>511.0</td>\n",
       "      <td>1072.0</td>\n",
       "      <td>1563.0</td>\n",
       "      <td>1085.0</td>\n",
       "      <td>1917.0</td>\n",
       "      <td>2161.0</td>\n",
       "      <td>240.0</td>\n",
       "      <td>876.0</td>\n",
       "      <td>832.0</td>\n",
       "      <td>838.0</td>\n",
       "      <td>828.0</td>\n",
       "      <td>861.0</td>\n",
       "      <td>858.0</td>\n",
       "      <td>833.0</td>\n",
       "      <td>806.0</td>\n",
       "      <td>830.0</td>\n",
       "      <td>81.0</td>\n",
       "      <td>261.0</td>\n",
       "      <td>292.0</td>\n",
       "      <td>290.0</td>\n",
       "      <td>314.0</td>\n",
       "      <td>288.0</td>\n",
       "      <td>345.0</td>\n",
       "      <td>319.0</td>\n",
       "      <td>310.0</td>\n",
       "      <td>323.0</td>\n",
       "      <td>159.0</td>\n",
       "      <td>615.0</td>\n",
       "      <td>540.0</td>\n",
       "      <td>548.0</td>\n",
       "      <td>514.0</td>\n",
       "      <td>573.0</td>\n",
       "      <td>513.0</td>\n",
       "      <td>514.0</td>\n",
       "      <td>496.0</td>\n",
       "      <td>507.0</td>\n",
       "      <td>12.0</td>\n",
       "      <td>14.0</td>\n",
       "      <td>11.0</td>\n",
       "      <td>-10.0</td>\n",
       "      <td>-19.0</td>\n",
       "      <td>-33.0</td>\n",
       "      <td>-25.0</td>\n",
       "      <td>-20.0</td>\n",
       "      <td>-30.0</td>\n",
       "      <td>-30.0</td>\n",
       "      <td>-70.0</td>\n",
       "      <td>-270.0</td>\n",
       "      <td>-535.0</td>\n",
       "      <td>-666.0</td>\n",
       "      <td>23.0</td>\n",
       "      <td>531.0</td>\n",
       "      <td>1070.0</td>\n",
       "      <td>589.0</td>\n",
       "      <td>1450.0</td>\n",
       "      <td>1675.0</td>\n",
       "      <td>-58.0</td>\n",
       "      <td>-256.0</td>\n",
       "      <td>-524.0</td>\n",
       "      <td>-676.0</td>\n",
       "      <td>4.0</td>\n",
       "      <td>498.0</td>\n",
       "      <td>1045.0</td>\n",
       "      <td>569.0</td>\n",
       "      <td>1420.0</td>\n",
       "      <td>1645.0</td>\n",
       "      <td>-1.0</td>\n",
       "      <td>0.0</td>\n",
       "      <td>8.0</td>\n",
       "      <td>12.0</td>\n",
       "      <td>-7.0</td>\n",
       "      <td>1.0</td>\n",
       "      <td>5.0</td>\n",
       "      <td>2.0</td>\n",
       "      <td>1.0</td>\n",
       "      <td>9.0</td>\n",
       "      <td>1050.0</td>\n",
       "      <td>1050.0</td>\n",
       "      <td>1085.0</td>\n",
       "      <td>865.0</td>\n",
       "      <td>906.0</td>\n",
       "      <td>859.0</td>\n",
       "      <td>853.0</td>\n",
       "      <td>858.0</td>\n",
       "      <td>857.0</td>\n",
       "      <td>851.0</td>\n",
       "      <td>1121.0</td>\n",
       "      <td>18.862034</td>\n",
       "      <td>17.84106</td>\n",
       "      <td>17.987465</td>\n",
       "      <td>17.697791</td>\n",
       "      <td>18.09698</td>\n",
       "      <td>17.547986</td>\n",
       "      <td>16.587513</td>\n",
       "      <td>15.584064</td>\n",
       "      <td>15.439419</td>\n",
       "      <td>5.619853</td>\n",
       "      <td>6.261526</td>\n",
       "      <td>6.224779</td>\n",
       "      <td>6.711481</td>\n",
       "      <td>6.053345</td>\n",
       "      <td>7.056008</td>\n",
       "      <td>6.352241</td>\n",
       "      <td>5.993871</td>\n",
       "      <td>6.008352</td>\n",
       "      <td>13.242181</td>\n",
       "      <td>11.579534</td>\n",
       "      <td>11.762686</td>\n",
       "      <td>10.98631</td>\n",
       "      <td>12.043635</td>\n",
       "      <td>10.491978</td>\n",
       "      <td>10.235272</td>\n",
       "      <td>9.590193</td>\n",
       "      <td>9.431067</td>\n",
       "      <td>0.301448</td>\n",
       "      <td>0.235879</td>\n",
       "      <td>-0.214648</td>\n",
       "      <td>-0.406109</td>\n",
       "      <td>-0.693612</td>\n",
       "      <td>-0.511305</td>\n",
       "      <td>-0.39826</td>\n",
       "      <td>-0.580052</td>\n",
       "      <td>-0.558051</td>\n",
       "      <td>-5.813641</td>\n",
       "      <td>-11.472316</td>\n",
       "      <td>-14.295527</td>\n",
       "      <td>0.491605</td>\n",
       "      <td>11.160855</td>\n",
       "      <td>21.883852</td>\n",
       "      <td>11.728745</td>\n",
       "      <td>28.035847</td>\n",
       "      <td>31.157863</td>\n",
       "      <td>-5.512192</td>\n",
       "      <td>-11.236437</td>\n",
       "      <td>-14.510174</td>\n",
       "      <td>0.085497</td>\n",
       "      <td>10.467243</td>\n",
       "      <td>21.372547</td>\n",
       "      <td>11.330486</td>\n",
       "      <td>27.455795</td>\n",
       "      <td>30.599812</td>\n",
       "    </tr>\n",
       "  </tbody>\n",
       "</table>\n",
       "</div>"
      ],
      "text/plain": [
       "      FIPStxt State    Area_Name  Rural-urban_Continuum Code_2003  \\\n",
       "2833    49021    UT  Iron County                              4.0   \n",
       "\n",
       "      Rural-urban_Continuum Code_2013  Urban_Influence_Code_2003  \\\n",
       "2833                              4.0                        5.0   \n",
       "\n",
       "      Urban_Influence_Code_2013  Economic_typology_2015  CENSUS_2010_POP  \\\n",
       "2833                        5.0                     4.0            46163   \n",
       "\n",
       "      ESTIMATES_BASE_2010  POP_ESTIMATE_2010  POP_ESTIMATE_2011  \\\n",
       "2833                46163              46263              46622   \n",
       "\n",
       "      POP_ESTIMATE_2012  POP_ESTIMATE_2013  POP_ESTIMATE_2014  \\\n",
       "2833              46646              46530              47041   \n",
       "\n",
       "      POP_ESTIMATE_2015  POP_ESTIMATE_2016  POP_ESTIMATE_2017  \\\n",
       "2833              48113              49676              50761   \n",
       "\n",
       "      POP_ESTIMATE_2018  POP_ESTIMATE_2019  N_POP_CHG_2010  N_POP_CHG_2011  \\\n",
       "2833              52678              54839           100.0           359.0   \n",
       "\n",
       "      N_POP_CHG_2012  N_POP_CHG_2013  N_POP_CHG_2014  N_POP_CHG_2015  \\\n",
       "2833            24.0          -116.0           511.0          1072.0   \n",
       "\n",
       "      N_POP_CHG_2016  N_POP_CHG_2017  N_POP_CHG_2018  N_POP_CHG_2019  \\\n",
       "2833          1563.0          1085.0          1917.0          2161.0   \n",
       "\n",
       "      Births_2010  Births_2011  Births_2012  Births_2013  Births_2014  \\\n",
       "2833        240.0        876.0        832.0        838.0        828.0   \n",
       "\n",
       "      Births_2015  Births_2016  Births_2017  Births_2018  Births_2019  \\\n",
       "2833        861.0        858.0        833.0        806.0        830.0   \n",
       "\n",
       "      Deaths_2010  Deaths_2011  Deaths_2012  Deaths_2013  Deaths_2014  \\\n",
       "2833         81.0        261.0        292.0        290.0        314.0   \n",
       "\n",
       "      Deaths_2015  Deaths_2016  Deaths_2017  Deaths_2018  Deaths_2019  \\\n",
       "2833        288.0        345.0        319.0        310.0        323.0   \n",
       "\n",
       "      NATURAL_INC_2010  NATURAL_INC_2011  NATURAL_INC_2012  NATURAL_INC_2013  \\\n",
       "2833             159.0             615.0             540.0             548.0   \n",
       "\n",
       "      NATURAL_INC_2014  NATURAL_INC_2015  NATURAL_INC_2016  NATURAL_INC_2017  \\\n",
       "2833             514.0             573.0             513.0             514.0   \n",
       "\n",
       "      NATURAL_INC_2018  NATURAL_INC_2019  INTERNATIONAL_MIG_2010  \\\n",
       "2833             496.0             507.0                    12.0   \n",
       "\n",
       "      INTERNATIONAL_MIG_2011  INTERNATIONAL_MIG_2012  INTERNATIONAL_MIG_2013  \\\n",
       "2833                    14.0                    11.0                   -10.0   \n",
       "\n",
       "      INTERNATIONAL_MIG_2014  INTERNATIONAL_MIG_2015  INTERNATIONAL_MIG_2016  \\\n",
       "2833                   -19.0                   -33.0                   -25.0   \n",
       "\n",
       "      INTERNATIONAL_MIG_2017  INTERNATIONAL_MIG_2018  INTERNATIONAL_MIG_2019  \\\n",
       "2833                   -20.0                   -30.0                   -30.0   \n",
       "\n",
       "      DOMESTIC_MIG_2010  DOMESTIC_MIG_2011  DOMESTIC_MIG_2012  \\\n",
       "2833              -70.0             -270.0             -535.0   \n",
       "\n",
       "      DOMESTIC_MIG_2013  DOMESTIC_MIG_2014  DOMESTIC_MIG_2015  \\\n",
       "2833             -666.0               23.0              531.0   \n",
       "\n",
       "      DOMESTIC_MIG_2016  DOMESTIC_MIG_2017  DOMESTIC_MIG_2018  \\\n",
       "2833             1070.0              589.0             1450.0   \n",
       "\n",
       "      DOMESTIC_MIG_2019  NET_MIG_2010  NET_MIG_2011  NET_MIG_2012  \\\n",
       "2833             1675.0         -58.0        -256.0        -524.0   \n",
       "\n",
       "      NET_MIG_2013  NET_MIG_2014  NET_MIG_2015  NET_MIG_2016  NET_MIG_2017  \\\n",
       "2833        -676.0           4.0         498.0        1045.0         569.0   \n",
       "\n",
       "      NET_MIG_2018  NET_MIG_2019  RESIDUAL_2010  RESIDUAL_2011  RESIDUAL_2012  \\\n",
       "2833        1420.0        1645.0           -1.0            0.0            8.0   \n",
       "\n",
       "      RESIDUAL_2013  RESIDUAL_2014  RESIDUAL_2015  RESIDUAL_2016  \\\n",
       "2833           12.0           -7.0            1.0            5.0   \n",
       "\n",
       "      RESIDUAL_2017  RESIDUAL_2018  RESIDUAL_2019  GQ_ESTIMATES_BASE_2010  \\\n",
       "2833            2.0            1.0            9.0                  1050.0   \n",
       "\n",
       "      GQ_ESTIMATES_2010  GQ_ESTIMATES_2011  GQ_ESTIMATES_2012  \\\n",
       "2833             1050.0             1085.0              865.0   \n",
       "\n",
       "      GQ_ESTIMATES_2013  GQ_ESTIMATES_2014  GQ_ESTIMATES_2015  \\\n",
       "2833              906.0              859.0              853.0   \n",
       "\n",
       "      GQ_ESTIMATES_2016  GQ_ESTIMATES_2017  GQ_ESTIMATES_2018  \\\n",
       "2833              858.0              857.0              851.0   \n",
       "\n",
       "      GQ_ESTIMATES_2019  R_birth_2011  R_birth_2012  R_birth_2013  \\\n",
       "2833             1121.0     18.862034      17.84106     17.987465   \n",
       "\n",
       "      R_birth_2014  R_birth_2015  R_birth_2016  R_birth_2017  R_birth_2018  \\\n",
       "2833     17.697791      18.09698     17.547986     16.587513     15.584064   \n",
       "\n",
       "      R_birth_2019  R_death_2011  R_death_2012  R_death_2013  R_death_2014  \\\n",
       "2833     15.439419      5.619853      6.261526      6.224779      6.711481   \n",
       "\n",
       "      R_death_2015  R_death_2016  R_death_2017  R_death_2018  R_death_2019  \\\n",
       "2833      6.053345      7.056008      6.352241      5.993871      6.008352   \n",
       "\n",
       "      R_NATURAL_INC_2011  R_NATURAL_INC_2012  R_NATURAL_INC_2013  \\\n",
       "2833           13.242181           11.579534           11.762686   \n",
       "\n",
       "      R_NATURAL_INC_2014  R_NATURAL_INC_2015  R_NATURAL_INC_2016  \\\n",
       "2833            10.98631           12.043635           10.491978   \n",
       "\n",
       "      R_NATURAL_INC_2017  R_NATURAL_INC_2018  R_NATURAL_INC_2019  \\\n",
       "2833           10.235272            9.590193            9.431067   \n",
       "\n",
       "      R_INTERNATIONAL_MIG_2011  R_INTERNATIONAL_MIG_2012  \\\n",
       "2833                  0.301448                  0.235879   \n",
       "\n",
       "      R_INTERNATIONAL_MIG_2013  R_INTERNATIONAL_MIG_2014  \\\n",
       "2833                 -0.214648                 -0.406109   \n",
       "\n",
       "      R_INTERNATIONAL_MIG_2015  R_INTERNATIONAL_MIG_2016  \\\n",
       "2833                 -0.693612                 -0.511305   \n",
       "\n",
       "      R_INTERNATIONAL_MIG_2017  R_INTERNATIONAL_MIG_2018  \\\n",
       "2833                  -0.39826                 -0.580052   \n",
       "\n",
       "      R_INTERNATIONAL_MIG_2019  R_DOMESTIC_MIG_2011  R_DOMESTIC_MIG_2012  \\\n",
       "2833                 -0.558051            -5.813641           -11.472316   \n",
       "\n",
       "      R_DOMESTIC_MIG_2013  R_DOMESTIC_MIG_2014  R_DOMESTIC_MIG_2015  \\\n",
       "2833           -14.295527             0.491605            11.160855   \n",
       "\n",
       "      R_DOMESTIC_MIG_2016  R_DOMESTIC_MIG_2017  R_DOMESTIC_MIG_2018  \\\n",
       "2833            21.883852            11.728745            28.035847   \n",
       "\n",
       "      R_DOMESTIC_MIG_2019  R_NET_MIG_2011  R_NET_MIG_2012  R_NET_MIG_2013  \\\n",
       "2833            31.157863       -5.512192      -11.236437      -14.510174   \n",
       "\n",
       "      R_NET_MIG_2014  R_NET_MIG_2015  R_NET_MIG_2016  R_NET_MIG_2017  \\\n",
       "2833        0.085497       10.467243       21.372547       11.330486   \n",
       "\n",
       "      R_NET_MIG_2018  R_NET_MIG_2019  \n",
       "2833       27.455795       30.599812  "
      ]

     },
     "execution_count": 54,
     "metadata": {},
     "output_type": "execute_result"
    }
   ]
  },
  {
   "cell_type": "markdown",
   "source": "We obtained the rates for natural increase in population, international migration, domestic migration, and net migration for the years 2012, 2016, and we substituted the value of 2019 for 2020. ",
   "metadata": {
    "cell_id": "00037-955ec8d1-3144-46e3-85d1-b23772752274",
    "deepnote_cell_type": "markdown"
   }
  },
  {
   "cell_type": "code",

   "execution_count": 55,
   "metadata": {},
   "outputs": [],
   "source": [
    "years_population = ['2012', '2016', '2019']"
   ]
  },
  {
   "cell_type": "code",
   "execution_count": 58,
   "metadata": {},
   "outputs": [],
   "source": [
    "rate_nat_inc_cols = ['R_NATURAL_INC_' + str(x) for x in years_population]\n",
    "rate_int_mig_cols = ['R_INTERNATIONAL_MIG_' + str(x) for x in years_population]\n",
    "rate_dom_mig_cols = ['R_DOMESTIC_MIG_' + str(x) for x in years_population]\n",
    "rate_net_mig_cols = ['R_NET_MIG_' + str(x) for x in years_population]"
   ]
  },
  {
   "cell_type": "code",
   "execution_count": 57,
   "metadata": {},
   "outputs": [
    {
     "ename": "NameError",
     "evalue": "name 'rate_nat_inc_cols' is not defined",
     "output_type": "error",
     "traceback": [
      "\u001b[0;31m---------------------------------------------------------------------------\u001b[0m",
      "\u001b[0;31mNameError\u001b[0m                                 Traceback (most recent call last)",
      "\u001b[0;32m<ipython-input-57-87ba0f36ec2f>\u001b[0m in \u001b[0;36m<module>\u001b[0;34m()\u001b[0m\n\u001b[0;32m----> 1\u001b[0;31m \u001b[0mtest\u001b[0m \u001b[0;34m=\u001b[0m \u001b[0mpopulation\u001b[0m\u001b[0;34m[\u001b[0m\u001b[0;34m[\u001b[0m\u001b[0;34m'FIPStxt'\u001b[0m\u001b[0;34m]\u001b[0m \u001b[0;34m+\u001b[0m \u001b[0mrate_nat_inc_cols\u001b[0m\u001b[0;34m]\u001b[0m\u001b[0;34m\u001b[0m\u001b[0;34m\u001b[0m\u001b[0m\n\u001b[0m",
      "\u001b[0;31mNameError\u001b[0m: name 'rate_nat_inc_cols' is not defined"
     ]
    }
   ],
   "source": [
    "test = population[['FIPStxt'] + rate_nat_inc_cols]"
   ]
  },
  {
   "cell_type": "code",
   "execution_count": 59,
   "metadata": {},
   "outputs": [],
   "source": [
    "population_dict = {'rate_natural_increase_population': rate_nat_inc_cols,\n",
    "                   'rate_international_migration': rate_int_mig_cols,\n",
    "                   'rate_domestic_migration': rate_dom_mig_cols,\n",
    "                   'rate_net_migration': rate_net_mig_cols}"
   ]
  },
  {
   "cell_type": "code",
   "execution_count": 60,
   "metadata": {},
   "outputs": [],
   "source": [
    "for key in population_dict.keys():\n",
    "    \n",
    "    cols = population_dict[key]\n",
    "    temp2 = pd.melt(population[['FIPStxt'] + cols], \n",
    "                    id_vars=['FIPStxt'], \n",
    "                    value_vars=cols, \n",
    "                    value_name=key,\n",
    "                    var_name='year')\n",
    "    temp2['year'] = [x.split(\"_\")[3] for x in temp2['year']]\n",
    "    temp2['year'] = ['2020' if x == '2019' else x for x in temp2['year']]\n",
    "    \n",
    "    for year in temp2['year'].unique():\n",
    "        df_temp = temp2[temp2['year'] == year]\n",
    "        df_temp.to_csv(os.path.join(OUTPUT_PATH, f'{key}_{year}.csv'), index=False)\n",
    "        "
   ]

  },
  {
   "cell_type": "code",
   "metadata": {
    "cell_id": "00043-3615844f-dae7-4040-a9e5-e9daa261b96b",
    "deepnote_cell_type": "code"
   },
   "source": "natural_inc_year = pd.melt(population[['FIPStxt'] + rate_nat_inc_cols], \n                           id_vars=['FIPStxt'], \n                           value_vars=rate_nat_inc_cols, \n                           value_name='natural_increase_in_pop',\n                           var_name='year')\n\nnatural_inc_year['year'] = [x.split(\"_\")[3] for x in natural_inc_year['year']]\nnatural_inc_year['year'] = ['2020' if x == '2019' else x for x in natural_inc_year['year']]",
   "execution_count": 115,
   "outputs": []
  },
  {
   "cell_type": "code",
   "metadata": {
    "cell_id": "00044-49d1f458-01ff-403d-bd3e-b6636c061ef6",
    "deepnote_cell_type": "code"
   },
   "source": "natural_inc_year",
   "execution_count": 116,
   "outputs": [
    {
     "data": {
      "text/html": "<div>\n<style scoped>\n    .dataframe tbody tr th:only-of-type {\n        vertical-align: middle;\n    }\n\n    .dataframe tbody tr th {\n        vertical-align: top;\n    }\n\n    .dataframe thead th {\n        text-align: right;\n    }\n</style>\n<table border=\"1\" class=\"dataframe\">\n  <thead>\n    <tr style=\"text-align: right;\">\n      <th></th>\n      <th>FIPStxt</th>\n      <th>year</th>\n      <th>natural_increase_in_pop</th>\n    </tr>\n  </thead>\n  <tbody>\n    <tr>\n      <th>0</th>\n      <td>0</td>\n      <td>2012</td>\n      <td>NaN</td>\n    </tr>\n    <tr>\n      <th>1</th>\n      <td>1000</td>\n      <td>2012</td>\n      <td>2.225976</td>\n    </tr>\n    <tr>\n      <th>2</th>\n      <td>1001</td>\n      <td>2012</td>\n      <td>0.998357</td>\n    </tr>\n    <tr>\n      <th>3</th>\n      <td>1003</td>\n      <td>2012</td>\n      <td>1.104318</td>\n    </tr>\n    <tr>\n      <th>4</th>\n      <td>1005</td>\n      <td>2012</td>\n      <td>0.513667</td>\n    </tr>\n    <tr>\n      <th>...</th>\n      <td>...</td>\n      <td>...</td>\n      <td>...</td>\n    </tr>\n    <tr>\n      <th>9814</th>\n      <td>72145</td>\n      <td>2020</td>\n      <td>NaN</td>\n    </tr>\n    <tr>\n      <th>9815</th>\n      <td>72147</td>\n      <td>2020</td>\n      <td>NaN</td>\n    </tr>\n    <tr>\n      <th>9816</th>\n      <td>72149</td>\n      <td>2020</td>\n      <td>NaN</td>\n    </tr>\n    <tr>\n      <th>9817</th>\n      <td>72151</td>\n      <td>2020</td>\n      <td>NaN</td>\n    </tr>\n    <tr>\n      <th>9818</th>\n      <td>72153</td>\n      <td>2020</td>\n      <td>NaN</td>\n    </tr>\n  </tbody>\n</table>\n<p>9819 rows × 3 columns</p>\n</div>",
      "text/plain": "      FIPStxt  year  natural_increase_in_pop\n0           0  2012                      NaN\n1        1000  2012                 2.225976\n2        1001  2012                 0.998357\n3        1003  2012                 1.104318\n4        1005  2012                 0.513667\n...       ...   ...                      ...\n9814    72145  2020                      NaN\n9815    72147  2020                      NaN\n9816    72149  2020                      NaN\n9817    72151  2020                      NaN\n9818    72153  2020                      NaN\n\n[9819 rows x 3 columns]"
     },
     "execution_count": 116,
     "metadata": {},
     "output_type": "execute_result"
    }
   ]
  },
  {
   "cell_type": "markdown",
   "source": "#### Results and unemployment merged",
   "metadata": {
    "cell_id": "00045-9dd214dd-091f-4471-ae60-c27d0135e3d6",
    "deepnote_cell_type": "markdown"
   }
  },
  {
   "cell_type": "code",
   "source": "merged_results_unemployment = pivoted_results.merge(unemployment_ey_melted, on=['year', 'county_fips'], how='left')",
   "metadata": {
    "cell_id": "00046-2a889e5b-13e7-409a-9dd5-d356494269d7",
    "deepnote_cell_type": "code"
   },
   "execution_count": null,
   "outputs": []
  },
  {
   "cell_type": "code",
   "source": "merged_results_unemployment.sample(10)",
   "metadata": {
    "cell_id": "00047-a9916f46-f624-4dfa-ab97-257d13d36936",
    "deepnote_cell_type": "code"
   },
   "execution_count": null,
   "outputs": []
  },
  {
   "cell_type": "code",
   "metadata": {
    "cell_id": "00048-b45b8d5c-7e4b-459d-9f06-3d1eedfa6f27",
    "deepnote_cell_type": "code"
   },
   "source": "",
   "execution_count": null,
   "outputs": []
  },
  {
   "cell_type": "markdown",
   "source": "<a style='text-decoration:none;line-height:16px;display:flex;color:#5B5B62;padding:10px;justify-content:end;' href='https://deepnote.com?utm_source=created-in-deepnote-cell&projectId=5e29d49d-e8a5-4b79-a7a8-5fff20f26b9d' target=\"_blank\">\n<img alt='Created in deepnote.com' style='display:inline;max-height:16px;margin:0px;margin-right:7.5px;' src='data:image/svg+xml;base64,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' > </img>\nCreated in <span style='font-weight:600;margin-left:4px;'>Deepnote</span></a>",
   "metadata": {
    "tags": [],
    "created_in_deepnote_cell": true,
    "deepnote_cell_type": "markdown"
   }
  }
 ],
 "nbformat": 4,
 "nbformat_minor": 4,
 "metadata": {
  "kernelspec": {
   "display_name": "Python 3",
   "language": "python",
   "name": "python3"
  },
  "language_info": {
   "codemirror_mode": {
    "name": "ipython",
    "version": 3
   },
   "file_extension": ".py",
   "mimetype": "text/x-python",
   "name": "python",
   "nbconvert_exporter": "python",
   "pygments_lexer": "ipython3",
   "version": "3.6.12"
  },
  "deepnote_notebook_id": "afddc243-8a87-44b2-b032-64b12ea423cd",
  "deepnote": {},
  "deepnote_execution_queue": []
 }
}