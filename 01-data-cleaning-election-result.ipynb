{
 "cells": [
  {
   "cell_type": "markdown",
   "source": "## Data Cleaning",
   "metadata": {
    "cell_id": "00000-123b52e4-7bd5-4d06-a643-af4ba198af0e",
    "deepnote_cell_type": "markdown"
   }
  },
  {
   "cell_type": "markdown",
   "source": "#### Import modules",
   "metadata": {
    "cell_id": "00001-49542440-1937-4eff-b546-d46b05a9e32f",
    "deepnote_cell_type": "markdown"
   }
  },
  {
   "cell_type": "code",
   "metadata": {
    "cell_id": "00002-28e352bf-053f-48c6-8093-9d7cdf99513e",
    "deepnote_cell_type": "code"
   },
   "source": "import os\nimport pandas as pd",
   "execution_count": 1,
   "outputs": []
  },
  {
   "cell_type": "markdown",
   "source": "#### Define paths and load data",
   "metadata": {
    "cell_id": "00003-186fb741-4fff-4e1c-a94e-af98359baf88",
    "deepnote_cell_type": "markdown"
   }
  },
  {
   "cell_type": "code",
   "metadata": {
    "cell_id": "00004-68008e7d-aaa6-4e6f-95e7-0b4ff35adf0c",
    "deepnote_cell_type": "code"
   },
   "source": "pd.set_option('display.max_columns', None)",
   "execution_count": 2,
   "outputs": []
  },
  {
   "cell_type": "code",
   "metadata": {
    "cell_id": "00005-abb624ec-5905-42e8-a23a-5debda04608d",
    "deepnote_cell_type": "code"
   },
   "source": "PATH = '../raw_data'",
   "execution_count": 3,
   "outputs": []
  },
  {
   "cell_type": "code",
   "metadata": {
    "cell_id": "00006-c8f1b03e-ac13-40d6-b0e0-4dc393f7d4e4",
    "deepnote_cell_type": "code"
   },
   "source": "OUTPUT_PATH = '../outputs'",
   "execution_count": 90,
   "outputs": []
  },
  {
   "cell_type": "markdown",
   "source": "### Election results",
   "metadata": {
    "cell_id": "00007-45a668e4-c851-4f60-a2a1-6a52c5f6ba0e",
    "deepnote_cell_type": "markdown"
   }
  },
  {
   "cell_type": "markdown",
   "source": "#### Load data",
   "metadata": {
    "cell_id": "00008-072f0e53-8e68-4077-9ce6-79e8d0e9c8e2",
    "deepnote_cell_type": "markdown"
   }
  },
  {
   "cell_type": "code",
   "metadata": {
    "cell_id": "00009-1d653ff5-7ad0-4862-ac91-2f30790c68fe",
    "deepnote_cell_type": "code"
   },
   "source": "results = pd.read_csv(os.path.join(PATH, 'countypres_2000-2020.csv'))\nresults = results[results['party'].isin(['DEMOCRAT', 'REPUBLICAN'])]",
   "execution_count": 5,
   "outputs": []
  },
  {
   "cell_type": "code",
   "metadata": {
    "cell_id": "00010-46e2b6c5-02d3-4c9c-a3b2-c26f3b5dddeb",
    "deepnote_cell_type": "code"
   },
   "source": "results['pctvotes'] = results['candidatevotes'] / results['totalvotes']\nresults['office'] = 'PRESIDENT'",
   "execution_count": 6,
   "outputs": []
  },
  {
   "cell_type": "markdown",
   "source": "#### Pivot table",
   "metadata": {
    "cell_id": "00011-31c74eb9-ad09-4598-ac53-633f83cf7908",
    "deepnote_cell_type": "markdown"
   }
  },
  {
   "cell_type": "code",
   "metadata": {
    "cell_id": "00012-cfc13689-cc5f-44fb-9218-a8d72a340eca",
    "deepnote_cell_type": "code"
   },
   "source": "index_cols = ['year', 'state', 'state_po', 'county_name', \n              'county_fips', 'office']",
   "execution_count": 51,
   "outputs": []
  },
  {
   "cell_type": "code",
   "metadata": {
    "cell_id": "00013-59e432f3-4501-4153-94b8-9733427403c9",
    "deepnote_cell_type": "code"
   },
   "source": "pivoted_results = pd.pivot_table(results, index=index_cols, values=['pctvotes', 'candidatevotes'], columns=['party']).reset_index()\npivoted_results.columns.name = ''\npivoted_results.columns = [(x[0] + '_' + x[1]).lower() if x[1] != '' else x[0] for x in  pivoted_results.columns.values]\na = pivoted_results['candidatevotes_democrat'] > pivoted_results['candidatevotes_republican']\npivoted_results['winner'] = ['democrat' if x else 'republican' for x in a]\npivoted_results = pivoted_results[['year', 'state', 'county_name', 'county_fips', 'candidatevotes_democrat',\n                                   'candidatevotes_republican', 'pctvotes_democrat', 'pctvotes_republican', 'winner']]",
   "execution_count": 56,
   "outputs": []
  },
  {
   "cell_type": "code",
   "source": "results.head(2)",
   "metadata": {
    "cell_id": "00014-8e08660c-26c4-4c27-b5f6-501f6ebabadd",
    "deepnote_cell_type": "code"
   },
   "execution_count": null,
   "outputs": []
  },
  {
   "cell_type": "code",
   "metadata": {
    "cell_id": "00015-d7da78b5-1950-499b-84b3-c63386ea8674",
    "deepnote_cell_type": "code"
   },
   "source": "pivoted_results.head()",
   "execution_count": 57,
   "outputs": [
    {
     "data": {
      "text/html": "<div>\n<style scoped>\n    .dataframe tbody tr th:only-of-type {\n        vertical-align: middle;\n    }\n\n    .dataframe tbody tr th {\n        vertical-align: top;\n    }\n\n    .dataframe thead th {\n        text-align: right;\n    }\n</style>\n<table border=\"1\" class=\"dataframe\">\n  <thead>\n    <tr style=\"text-align: right;\">\n      <th></th>\n      <th>year</th>\n      <th>state</th>\n      <th>county_name</th>\n      <th>county_fips</th>\n      <th>candidatevotes_democrat</th>\n      <th>candidatevotes_republican</th>\n      <th>pctvotes_democrat</th>\n      <th>pctvotes_republican</th>\n      <th>winner</th>\n    </tr>\n  </thead>\n  <tbody>\n    <tr>\n      <th>0</th>\n      <td>2000</td>\n      <td>ALABAMA</td>\n      <td>AUTAUGA</td>\n      <td>1001.0</td>\n      <td>4942.0</td>\n      <td>11993.0</td>\n      <td>0.287192</td>\n      <td>0.696943</td>\n      <td>republican</td>\n    </tr>\n    <tr>\n      <th>1</th>\n      <td>2000</td>\n      <td>ALABAMA</td>\n      <td>BALDWIN</td>\n      <td>1003.0</td>\n      <td>13997.0</td>\n      <td>40872.0</td>\n      <td>0.247822</td>\n      <td>0.723654</td>\n      <td>republican</td>\n    </tr>\n    <tr>\n      <th>2</th>\n      <td>2000</td>\n      <td>ALABAMA</td>\n      <td>BARBOUR</td>\n      <td>1005.0</td>\n      <td>5188.0</td>\n      <td>5096.0</td>\n      <td>0.499086</td>\n      <td>0.490236</td>\n      <td>democrat</td>\n    </tr>\n    <tr>\n      <th>3</th>\n      <td>2000</td>\n      <td>ALABAMA</td>\n      <td>BIBB</td>\n      <td>1007.0</td>\n      <td>2710.0</td>\n      <td>4273.0</td>\n      <td>0.381636</td>\n      <td>0.601746</td>\n      <td>republican</td>\n    </tr>\n    <tr>\n      <th>4</th>\n      <td>2000</td>\n      <td>ALABAMA</td>\n      <td>BLOUNT</td>\n      <td>1009.0</td>\n      <td>4977.0</td>\n      <td>12667.0</td>\n      <td>0.276915</td>\n      <td>0.704779</td>\n      <td>republican</td>\n    </tr>\n  </tbody>\n</table>\n</div>",
      "text/plain": "   year    state county_name  county_fips  candidatevotes_democrat  \\\n0  2000  ALABAMA     AUTAUGA       1001.0                   4942.0   \n1  2000  ALABAMA     BALDWIN       1003.0                  13997.0   \n2  2000  ALABAMA     BARBOUR       1005.0                   5188.0   \n3  2000  ALABAMA        BIBB       1007.0                   2710.0   \n4  2000  ALABAMA      BLOUNT       1009.0                   4977.0   \n\n   candidatevotes_republican  pctvotes_democrat  pctvotes_republican  \\\n0                    11993.0           0.287192             0.696943   \n1                    40872.0           0.247822             0.723654   \n2                     5096.0           0.499086             0.490236   \n3                     4273.0           0.381636             0.601746   \n4                    12667.0           0.276915             0.704779   \n\n       winner  \n0  republican  \n1  republican  \n2    democrat  \n3  republican  \n4  republican  "
     },
     "execution_count": 57,
     "metadata": {},
     "output_type": "execute_result"
    }
   ]
  },
  {
   "cell_type": "code",
   "metadata": {
    "cell_id": "00016-810865f0-f11e-4991-81d8-1fbc17ff9f5d",
    "deepnote_cell_type": "code"
   },
   "source": "pivoted_results.shape",
   "execution_count": 89,
   "outputs": [
    {
     "data": {
      "text/plain": "(18920, 9)"
     },
     "execution_count": 89,
     "metadata": {},
     "output_type": "execute_result"
    }
   ]
  },
  {
   "cell_type": "code",
   "metadata": {
    "cell_id": "00017-4539628f-0fdc-4f3a-a7e9-338edda34a29",
    "deepnote_cell_type": "code"
   },
   "source": "results[results['county_fips'] == 13123]",
   "execution_count": 125,
   "outputs": [
    {
     "data": {
      "text/html": "<div>\n<style scoped>\n    .dataframe tbody tr th:only-of-type {\n        vertical-align: middle;\n    }\n\n    .dataframe tbody tr th {\n        vertical-align: top;\n    }\n\n    .dataframe thead th {\n        text-align: right;\n    }\n</style>\n<table border=\"1\" class=\"dataframe\">\n  <thead>\n    <tr style=\"text-align: right;\">\n      <th></th>\n      <th>year</th>\n      <th>state</th>\n      <th>state_po</th>\n      <th>county_name</th>\n      <th>county_fips</th>\n      <th>office</th>\n      <th>candidate</th>\n      <th>party</th>\n      <th>candidatevotes</th>\n      <th>totalvotes</th>\n      <th>version</th>\n      <th>mode</th>\n      <th>pctvotes</th>\n    </tr>\n  </thead>\n  <tbody>\n    <tr>\n      <th>1668</th>\n      <td>2000</td>\n      <td>GEORGIA</td>\n      <td>GA</td>\n      <td>GILMER</td>\n      <td>13123.0</td>\n      <td>PRESIDENT</td>\n      <td>AL GORE</td>\n      <td>DEMOCRAT</td>\n      <td>2230.0</td>\n      <td>7370.0</td>\n      <td>20191203</td>\n      <td>TOTAL</td>\n      <td>0.302578</td>\n    </tr>\n    <tr>\n      <th>1669</th>\n      <td>2000</td>\n      <td>GEORGIA</td>\n      <td>GA</td>\n      <td>GILMER</td>\n      <td>13123.0</td>\n      <td>PRESIDENT</td>\n      <td>GEORGE W. BUSH</td>\n      <td>REPUBLICAN</td>\n      <td>4941.0</td>\n      <td>7370.0</td>\n      <td>20191203</td>\n      <td>TOTAL</td>\n      <td>0.670421</td>\n    </tr>\n    <tr>\n      <th>13718</th>\n      <td>2004</td>\n      <td>GEORGIA</td>\n      <td>GA</td>\n      <td>GILMER</td>\n      <td>13123.0</td>\n      <td>PRESIDENT</td>\n      <td>JOHN KERRY</td>\n      <td>DEMOCRAT</td>\n      <td>2510.0</td>\n      <td>9998.0</td>\n      <td>20191203</td>\n      <td>TOTAL</td>\n      <td>0.251050</td>\n    </tr>\n    <tr>\n      <th>13719</th>\n      <td>2004</td>\n      <td>GEORGIA</td>\n      <td>GA</td>\n      <td>GILMER</td>\n      <td>13123.0</td>\n      <td>PRESIDENT</td>\n      <td>GEORGE W. BUSH</td>\n      <td>REPUBLICAN</td>\n      <td>7414.0</td>\n      <td>9998.0</td>\n      <td>20191203</td>\n      <td>TOTAL</td>\n      <td>0.741548</td>\n    </tr>\n    <tr>\n      <th>23069</th>\n      <td>2008</td>\n      <td>GEORGIA</td>\n      <td>GA</td>\n      <td>GILMER</td>\n      <td>13123.0</td>\n      <td>PRESIDENT</td>\n      <td>BARACK OBAMA</td>\n      <td>DEMOCRAT</td>\n      <td>2614.0</td>\n      <td>11149.0</td>\n      <td>20191203</td>\n      <td>TOTAL</td>\n      <td>0.234460</td>\n    </tr>\n    <tr>\n      <th>23070</th>\n      <td>2008</td>\n      <td>GEORGIA</td>\n      <td>GA</td>\n      <td>GILMER</td>\n      <td>13123.0</td>\n      <td>PRESIDENT</td>\n      <td>JOHN MCCAIN</td>\n      <td>REPUBLICAN</td>\n      <td>8408.0</td>\n      <td>11149.0</td>\n      <td>20191203</td>\n      <td>TOTAL</td>\n      <td>0.754148</td>\n    </tr>\n    <tr>\n      <th>32420</th>\n      <td>2012</td>\n      <td>GEORGIA</td>\n      <td>GA</td>\n      <td>GILMER</td>\n      <td>13123.0</td>\n      <td>PRESIDENT</td>\n      <td>BARACK OBAMA</td>\n      <td>DEMOCRAT</td>\n      <td>1958.0</td>\n      <td>11018.0</td>\n      <td>20191203</td>\n      <td>TOTAL</td>\n      <td>0.177709</td>\n    </tr>\n    <tr>\n      <th>32421</th>\n      <td>2012</td>\n      <td>GEORGIA</td>\n      <td>GA</td>\n      <td>GILMER</td>\n      <td>13123.0</td>\n      <td>PRESIDENT</td>\n      <td>MITT ROMNEY</td>\n      <td>REPUBLICAN</td>\n      <td>8926.0</td>\n      <td>11018.0</td>\n      <td>20191203</td>\n      <td>TOTAL</td>\n      <td>0.810129</td>\n    </tr>\n    <tr>\n      <th>41771</th>\n      <td>2016</td>\n      <td>GEORGIA</td>\n      <td>GA</td>\n      <td>GILMER</td>\n      <td>13123.0</td>\n      <td>PRESIDENT</td>\n      <td>HILLARY CLINTON</td>\n      <td>DEMOCRAT</td>\n      <td>1965.0</td>\n      <td>12773.0</td>\n      <td>20191203</td>\n      <td>TOTAL</td>\n      <td>0.153840</td>\n    </tr>\n    <tr>\n      <th>41772</th>\n      <td>2016</td>\n      <td>GEORGIA</td>\n      <td>GA</td>\n      <td>GILMER</td>\n      <td>13123.0</td>\n      <td>PRESIDENT</td>\n      <td>DONALD TRUMP</td>\n      <td>REPUBLICAN</td>\n      <td>10477.0</td>\n      <td>12773.0</td>\n      <td>20191203</td>\n      <td>TOTAL</td>\n      <td>0.820246</td>\n    </tr>\n    <tr>\n      <th>54377</th>\n      <td>2020</td>\n      <td>GEORGIA</td>\n      <td>GA</td>\n      <td>GILMER</td>\n      <td>13123.0</td>\n      <td>PRESIDENT</td>\n      <td>JOSEPH R BIDEN JR</td>\n      <td>DEMOCRAT</td>\n      <td>1270.0</td>\n      <td>16525.0</td>\n      <td>20210608</td>\n      <td>ABSENTEE</td>\n      <td>0.076853</td>\n    </tr>\n    <tr>\n      <th>54378</th>\n      <td>2020</td>\n      <td>GEORGIA</td>\n      <td>GA</td>\n      <td>GILMER</td>\n      <td>13123.0</td>\n      <td>PRESIDENT</td>\n      <td>JOSEPH R BIDEN JR</td>\n      <td>DEMOCRAT</td>\n      <td>1209.0</td>\n      <td>16525.0</td>\n      <td>20210608</td>\n      <td>ADVANCED VOTING</td>\n      <td>0.073162</td>\n    </tr>\n    <tr>\n      <th>54379</th>\n      <td>2020</td>\n      <td>GEORGIA</td>\n      <td>GA</td>\n      <td>GILMER</td>\n      <td>13123.0</td>\n      <td>PRESIDENT</td>\n      <td>JOSEPH R BIDEN JR</td>\n      <td>DEMOCRAT</td>\n      <td>453.0</td>\n      <td>16525.0</td>\n      <td>20210608</td>\n      <td>ELECTION DAY</td>\n      <td>0.027413</td>\n    </tr>\n    <tr>\n      <th>54380</th>\n      <td>2020</td>\n      <td>GEORGIA</td>\n      <td>GA</td>\n      <td>GILMER</td>\n      <td>13123.0</td>\n      <td>PRESIDENT</td>\n      <td>JOSEPH R BIDEN JR</td>\n      <td>DEMOCRAT</td>\n      <td>0.0</td>\n      <td>16525.0</td>\n      <td>20210608</td>\n      <td>PROV</td>\n      <td>0.000000</td>\n    </tr>\n    <tr>\n      <th>54385</th>\n      <td>2020</td>\n      <td>GEORGIA</td>\n      <td>GA</td>\n      <td>GILMER</td>\n      <td>13123.0</td>\n      <td>PRESIDENT</td>\n      <td>DONALD J TRUMP</td>\n      <td>REPUBLICAN</td>\n      <td>2183.0</td>\n      <td>16525.0</td>\n      <td>20210608</td>\n      <td>ABSENTEE</td>\n      <td>0.132103</td>\n    </tr>\n    <tr>\n      <th>54386</th>\n      <td>2020</td>\n      <td>GEORGIA</td>\n      <td>GA</td>\n      <td>GILMER</td>\n      <td>13123.0</td>\n      <td>PRESIDENT</td>\n      <td>DONALD J TRUMP</td>\n      <td>REPUBLICAN</td>\n      <td>6863.0</td>\n      <td>16525.0</td>\n      <td>20210608</td>\n      <td>ADVANCED VOTING</td>\n      <td>0.415310</td>\n    </tr>\n    <tr>\n      <th>54387</th>\n      <td>2020</td>\n      <td>GEORGIA</td>\n      <td>GA</td>\n      <td>GILMER</td>\n      <td>13123.0</td>\n      <td>PRESIDENT</td>\n      <td>DONALD J TRUMP</td>\n      <td>REPUBLICAN</td>\n      <td>4371.0</td>\n      <td>16525.0</td>\n      <td>20210608</td>\n      <td>ELECTION DAY</td>\n      <td>0.264508</td>\n    </tr>\n    <tr>\n      <th>54388</th>\n      <td>2020</td>\n      <td>GEORGIA</td>\n      <td>GA</td>\n      <td>GILMER</td>\n      <td>13123.0</td>\n      <td>PRESIDENT</td>\n      <td>DONALD J TRUMP</td>\n      <td>REPUBLICAN</td>\n      <td>12.0</td>\n      <td>16525.0</td>\n      <td>20210608</td>\n      <td>PROV</td>\n      <td>0.000726</td>\n    </tr>\n  </tbody>\n</table>\n</div>",
      "text/plain": "       year    state state_po county_name  county_fips     office  \\\n1668   2000  GEORGIA       GA      GILMER      13123.0  PRESIDENT   \n1669   2000  GEORGIA       GA      GILMER      13123.0  PRESIDENT   \n13718  2004  GEORGIA       GA      GILMER      13123.0  PRESIDENT   \n13719  2004  GEORGIA       GA      GILMER      13123.0  PRESIDENT   \n23069  2008  GEORGIA       GA      GILMER      13123.0  PRESIDENT   \n23070  2008  GEORGIA       GA      GILMER      13123.0  PRESIDENT   \n32420  2012  GEORGIA       GA      GILMER      13123.0  PRESIDENT   \n32421  2012  GEORGIA       GA      GILMER      13123.0  PRESIDENT   \n41771  2016  GEORGIA       GA      GILMER      13123.0  PRESIDENT   \n41772  2016  GEORGIA       GA      GILMER      13123.0  PRESIDENT   \n54377  2020  GEORGIA       GA      GILMER      13123.0  PRESIDENT   \n54378  2020  GEORGIA       GA      GILMER      13123.0  PRESIDENT   \n54379  2020  GEORGIA       GA      GILMER      13123.0  PRESIDENT   \n54380  2020  GEORGIA       GA      GILMER      13123.0  PRESIDENT   \n54385  2020  GEORGIA       GA      GILMER      13123.0  PRESIDENT   \n54386  2020  GEORGIA       GA      GILMER      13123.0  PRESIDENT   \n54387  2020  GEORGIA       GA      GILMER      13123.0  PRESIDENT   \n54388  2020  GEORGIA       GA      GILMER      13123.0  PRESIDENT   \n\n               candidate       party  candidatevotes  totalvotes   version  \\\n1668             AL GORE    DEMOCRAT          2230.0      7370.0  20191203   \n1669      GEORGE W. BUSH  REPUBLICAN          4941.0      7370.0  20191203   \n13718         JOHN KERRY    DEMOCRAT          2510.0      9998.0  20191203   \n13719     GEORGE W. BUSH  REPUBLICAN          7414.0      9998.0  20191203   \n23069       BARACK OBAMA    DEMOCRAT          2614.0     11149.0  20191203   \n23070        JOHN MCCAIN  REPUBLICAN          8408.0     11149.0  20191203   \n32420       BARACK OBAMA    DEMOCRAT          1958.0     11018.0  20191203   \n32421        MITT ROMNEY  REPUBLICAN          8926.0     11018.0  20191203   \n41771    HILLARY CLINTON    DEMOCRAT          1965.0     12773.0  20191203   \n41772       DONALD TRUMP  REPUBLICAN         10477.0     12773.0  20191203   \n54377  JOSEPH R BIDEN JR    DEMOCRAT          1270.0     16525.0  20210608   \n54378  JOSEPH R BIDEN JR    DEMOCRAT          1209.0     16525.0  20210608   \n54379  JOSEPH R BIDEN JR    DEMOCRAT           453.0     16525.0  20210608   \n54380  JOSEPH R BIDEN JR    DEMOCRAT             0.0     16525.0  20210608   \n54385     DONALD J TRUMP  REPUBLICAN          2183.0     16525.0  20210608   \n54386     DONALD J TRUMP  REPUBLICAN          6863.0     16525.0  20210608   \n54387     DONALD J TRUMP  REPUBLICAN          4371.0     16525.0  20210608   \n54388     DONALD J TRUMP  REPUBLICAN            12.0     16525.0  20210608   \n\n                  mode  pctvotes  \n1668             TOTAL  0.302578  \n1669             TOTAL  0.670421  \n13718            TOTAL  0.251050  \n13719            TOTAL  0.741548  \n23069            TOTAL  0.234460  \n23070            TOTAL  0.754148  \n32420            TOTAL  0.177709  \n32421            TOTAL  0.810129  \n41771            TOTAL  0.153840  \n41772            TOTAL  0.820246  \n54377         ABSENTEE  0.076853  \n54378  ADVANCED VOTING  0.073162  \n54379     ELECTION DAY  0.027413  \n54380             PROV  0.000000  \n54385         ABSENTEE  0.132103  \n54386  ADVANCED VOTING  0.415310  \n54387     ELECTION DAY  0.264508  \n54388             PROV  0.000726  "
     },
     "execution_count": 125,
     "metadata": {},
     "output_type": "execute_result"
    }
   ]
  },
  {
   "cell_type": "markdown",
   "source": "Export election results",
   "metadata": {
    "cell_id": "00018-e36865c5-65f4-42ee-b308-62670d82020e",
    "deepnote_cell_type": "markdown"
   }
  },
  {
   "cell_type": "code",
   "metadata": {
    "cell_id": "00019-f450ac5d-4d87-43df-8e75-8e3a2ff4b910",
    "deepnote_cell_type": "code"
   },
   "source": "for year in pivoted_results['year'].unique():\n    \n    df_temp = pivoted_results[pivoted_results['year'] == year]\n    df_temp.to_csv(os.path.join(OUTPUT_PATH, f'results_{year}.csv'), index=False)",
   "execution_count": 91,
   "outputs": []
  },
  {
   "cell_type": "markdown",
   "source": "### Unemployment data",
   "metadata": {
    "cell_id": "00020-c4821b53-895e-4a12-abe8-93ec7b07a430",
    "deepnote_cell_type": "markdown"
   }
  },
  {
   "cell_type": "code",
   "metadata": {
    "cell_id": "00021-34b58a33-701f-4983-8a62-b2824d6e453f",
    "deepnote_cell_type": "code"
   },
   "source": "unemployment = pd.read_excel(os.path.join(PATH, 'Unemployment.xlsx'), header=4)",
   "execution_count": 58,
   "outputs": []
  },
  {
   "cell_type": "code",
   "metadata": {
    "cell_id": "00022-1e5c7777-4f4e-47c3-8eab-cadb5a9de811",
    "deepnote_cell_type": "code"
   },
   "source": "rates_cols = ['Unemployment_rate_2000',\n              'Unemployment_rate_2004',\n              'Unemployment_rate_2008',\n              'Unemployment_rate_2012',\n              'Unemployment_rate_2016',\n              'Unemployment_rate_2020']",
   "execution_count": 59,
   "outputs": []
  },
  {
   "cell_type": "code",
   "metadata": {
    "cell_id": "00023-06427748-e3a8-4637-8ca4-abd96ca50b7e",
    "deepnote_cell_type": "code"
   },
   "source": "area_cols = ['State', 'Area_name', 'FIPS_Code']",
   "execution_count": 60,
   "outputs": []
  },
  {
   "cell_type": "code",
   "source": "unemployment.head(3)",
   "metadata": {
    "cell_id": "00024-fc2f0b78-0c79-4f48-b306-b5b786707437",
    "deepnote_cell_type": "code"
   },
   "execution_count": null,
   "outputs": []
  },
  {
   "cell_type": "code",
   "metadata": {
    "cell_id": "00025-2cdc97ca-22db-4872-9735-ce9dc370aeea",
    "deepnote_cell_type": "code"
   },
   "source": "unemployment_ey = unemployment[area_cols + rates_cols]",
   "execution_count": 61,
   "outputs": []
  },
  {
   "cell_type": "code",
   "metadata": {
    "cell_id": "00026-4d12869a-b960-4438-84b9-953470278823",
    "deepnote_cell_type": "code"
   },
   "source": "unemployment_ey.sample()",
   "execution_count": 62,
   "outputs": [
    {
     "data": {
      "text/html": "<div>\n<style scoped>\n    .dataframe tbody tr th:only-of-type {\n        vertical-align: middle;\n    }\n\n    .dataframe tbody tr th {\n        vertical-align: top;\n    }\n\n    .dataframe thead th {\n        text-align: right;\n    }\n</style>\n<table border=\"1\" class=\"dataframe\">\n  <thead>\n    <tr style=\"text-align: right;\">\n      <th></th>\n      <th>State</th>\n      <th>Area_name</th>\n      <th>FIPS_Code</th>\n      <th>Unemployment_rate_2000</th>\n      <th>Unemployment_rate_2004</th>\n      <th>Unemployment_rate_2008</th>\n      <th>Unemployment_rate_2012</th>\n      <th>Unemployment_rate_2016</th>\n      <th>Unemployment_rate_2020</th>\n    </tr>\n  </thead>\n  <tbody>\n    <tr>\n      <th>872</th>\n      <td>IA</td>\n      <td>Mills County, IA</td>\n      <td>19129</td>\n      <td>2.0</td>\n      <td>4.2</td>\n      <td>3.6</td>\n      <td>4.6</td>\n      <td>3.6</td>\n      <td>3.9</td>\n    </tr>\n  </tbody>\n</table>\n</div>",
      "text/plain": "    State         Area_name  FIPS_Code  Unemployment_rate_2000  \\\n872    IA  Mills County, IA      19129                     2.0   \n\n     Unemployment_rate_2004  Unemployment_rate_2008  Unemployment_rate_2012  \\\n872                     4.2                     3.6                     4.6   \n\n     Unemployment_rate_2016  Unemployment_rate_2020  \n872                     3.6                     3.9  "
     },
     "execution_count": 62,
     "metadata": {},
     "output_type": "execute_result"
    }
   ]
  },
  {
   "cell_type": "code",
   "metadata": {
    "cell_id": "00027-bee16b69-10a5-4875-9c99-661964366a98",
    "deepnote_cell_type": "code"
   },
   "source": "unemployment_ey[unemployment_ey['FIPS_Code'] == 1007]",
   "execution_count": 63,
   "outputs": [
    {
     "data": {
      "text/html": "<div>\n<style scoped>\n    .dataframe tbody tr th:only-of-type {\n        vertical-align: middle;\n    }\n\n    .dataframe tbody tr th {\n        vertical-align: top;\n    }\n\n    .dataframe thead th {\n        text-align: right;\n    }\n</style>\n<table border=\"1\" class=\"dataframe\">\n  <thead>\n    <tr style=\"text-align: right;\">\n      <th></th>\n      <th>State</th>\n      <th>Area_name</th>\n      <th>FIPS_Code</th>\n      <th>Unemployment_rate_2000</th>\n      <th>Unemployment_rate_2004</th>\n      <th>Unemployment_rate_2008</th>\n      <th>Unemployment_rate_2012</th>\n      <th>Unemployment_rate_2016</th>\n      <th>Unemployment_rate_2020</th>\n    </tr>\n  </thead>\n  <tbody>\n    <tr>\n      <th>5</th>\n      <td>AL</td>\n      <td>Bibb County, AL</td>\n      <td>1007</td>\n      <td>5.4</td>\n      <td>5.4</td>\n      <td>6.0</td>\n      <td>8.8</td>\n      <td>6.5</td>\n      <td>6.6</td>\n    </tr>\n  </tbody>\n</table>\n</div>",
      "text/plain": "  State        Area_name  FIPS_Code  Unemployment_rate_2000  \\\n5    AL  Bibb County, AL       1007                     5.4   \n\n   Unemployment_rate_2004  Unemployment_rate_2008  Unemployment_rate_2012  \\\n5                     5.4                     6.0                     8.8   \n\n   Unemployment_rate_2016  Unemployment_rate_2020  \n5                     6.5                     6.6  "
     },
     "execution_count": 63,
     "metadata": {},
     "output_type": "execute_result"
    }
   ]
  },
  {
   "cell_type": "code",
   "metadata": {
    "cell_id": "00028-760cdc74-a86a-4db5-8488-92a4c713dbf1",
    "deepnote_cell_type": "code"
   },
   "source": "unemployment.sample(2)",
   "execution_count": 87,
   "outputs": [
    {
     "data": {
      "text/html": "<div>\n<style scoped>\n    .dataframe tbody tr th:only-of-type {\n        vertical-align: middle;\n    }\n\n    .dataframe tbody tr th {\n        vertical-align: top;\n    }\n\n    .dataframe thead th {\n        text-align: right;\n    }\n</style>\n<table border=\"1\" class=\"dataframe\">\n  <thead>\n    <tr style=\"text-align: right;\">\n      <th></th>\n      <th>FIPS_Code</th>\n      <th>State</th>\n      <th>Area_name</th>\n      <th>Rural_urban_continuum_code_2013</th>\n      <th>Urban_influence_code_2013</th>\n      <th>Metro_2013</th>\n      <th>Civilian_labor_force_2000</th>\n      <th>Employed_2000</th>\n      <th>Unemployed_2000</th>\n      <th>Unemployment_rate_2000</th>\n      <th>Civilian_labor_force_2001</th>\n      <th>Employed_2001</th>\n      <th>Unemployed_2001</th>\n      <th>Unemployment_rate_2001</th>\n      <th>Civilian_labor_force_2002</th>\n      <th>Employed_2002</th>\n      <th>Unemployed_2002</th>\n      <th>Unemployment_rate_2002</th>\n      <th>Civilian_labor_force_2003</th>\n      <th>Employed_2003</th>\n      <th>Unemployed_2003</th>\n      <th>Unemployment_rate_2003</th>\n      <th>Civilian_labor_force_2004</th>\n      <th>Employed_2004</th>\n      <th>Unemployed_2004</th>\n      <th>Unemployment_rate_2004</th>\n      <th>Civilian_labor_force_2005</th>\n      <th>Employed_2005</th>\n      <th>Unemployed_2005</th>\n      <th>Unemployment_rate_2005</th>\n      <th>Civilian_labor_force_2006</th>\n      <th>Employed_2006</th>\n      <th>Unemployed_2006</th>\n      <th>Unemployment_rate_2006</th>\n      <th>Civilian_labor_force_2007</th>\n      <th>Employed_2007</th>\n      <th>Unemployed_2007</th>\n      <th>Unemployment_rate_2007</th>\n      <th>Civilian_labor_force_2008</th>\n      <th>Employed_2008</th>\n      <th>Unemployed_2008</th>\n      <th>Unemployment_rate_2008</th>\n      <th>Civilian_labor_force_2009</th>\n      <th>Employed_2009</th>\n      <th>Unemployed_2009</th>\n      <th>Unemployment_rate_2009</th>\n      <th>Civilian_labor_force_2010</th>\n      <th>Employed_2010</th>\n      <th>Unemployed_2010</th>\n      <th>Unemployment_rate_2010</th>\n      <th>Civilian_labor_force_2011</th>\n      <th>Employed_2011</th>\n      <th>Unemployed_2011</th>\n      <th>Unemployment_rate_2011</th>\n      <th>Civilian_labor_force_2012</th>\n      <th>Employed_2012</th>\n      <th>Unemployed_2012</th>\n      <th>Unemployment_rate_2012</th>\n      <th>Civilian_labor_force_2013</th>\n      <th>Employed_2013</th>\n      <th>Unemployed_2013</th>\n      <th>Unemployment_rate_2013</th>\n      <th>Civilian_labor_force_2014</th>\n      <th>Employed_2014</th>\n      <th>Unemployed_2014</th>\n      <th>Unemployment_rate_2014</th>\n      <th>Civilian_labor_force_2015</th>\n      <th>Employed_2015</th>\n      <th>Unemployed_2015</th>\n      <th>Unemployment_rate_2015</th>\n      <th>Civilian_labor_force_2016</th>\n      <th>Employed_2016</th>\n      <th>Unemployed_2016</th>\n      <th>Unemployment_rate_2016</th>\n      <th>Civilian_labor_force_2017</th>\n      <th>Employed_2017</th>\n      <th>Unemployed_2017</th>\n      <th>Unemployment_rate_2017</th>\n      <th>Civilian_labor_force_2018</th>\n      <th>Employed_2018</th>\n      <th>Unemployed_2018</th>\n      <th>Unemployment_rate_2018</th>\n      <th>Civilian_labor_force_2019</th>\n      <th>Employed_2019</th>\n      <th>Unemployed_2019</th>\n      <th>Unemployment_rate_2019</th>\n      <th>Civilian_labor_force_2020</th>\n      <th>Employed_2020</th>\n      <th>Unemployed_2020</th>\n      <th>Unemployment_rate_2020</th>\n      <th>Median_Household_Income_2019</th>\n      <th>Med_HH_Income_Percent_of_State_Total_2019</th>\n    </tr>\n  </thead>\n  <tbody>\n    <tr>\n      <th>2465</th>\n      <td>46119</td>\n      <td>SD</td>\n      <td>Sully County, SD</td>\n      <td>9.0</td>\n      <td>8.0</td>\n      <td>0.0</td>\n      <td>913.0</td>\n      <td>892.0</td>\n      <td>21.0</td>\n      <td>2.3</td>\n      <td>907.0</td>\n      <td>885.0</td>\n      <td>22.0</td>\n      <td>2.4</td>\n      <td>975.0</td>\n      <td>955.0</td>\n      <td>20.0</td>\n      <td>2.1</td>\n      <td>1018.0</td>\n      <td>996.0</td>\n      <td>22.0</td>\n      <td>2.2</td>\n      <td>1018.0</td>\n      <td>994.0</td>\n      <td>24.0</td>\n      <td>2.4</td>\n      <td>1016.0</td>\n      <td>988.0</td>\n      <td>28.0</td>\n      <td>2.8</td>\n      <td>1013.0</td>\n      <td>990.0</td>\n      <td>23.0</td>\n      <td>2.3</td>\n      <td>978.0</td>\n      <td>956.0</td>\n      <td>22.0</td>\n      <td>2.2</td>\n      <td>985.0</td>\n      <td>963.0</td>\n      <td>22.0</td>\n      <td>2.2</td>\n      <td>992.0</td>\n      <td>964.0</td>\n      <td>28.0</td>\n      <td>2.8</td>\n      <td>891.0</td>\n      <td>859.0</td>\n      <td>32.0</td>\n      <td>3.6</td>\n      <td>884.0</td>\n      <td>851.0</td>\n      <td>33.0</td>\n      <td>3.7</td>\n      <td>890.0</td>\n      <td>864.0</td>\n      <td>26.0</td>\n      <td>2.9</td>\n      <td>888.0</td>\n      <td>863.0</td>\n      <td>25.0</td>\n      <td>2.8</td>\n      <td>891.0</td>\n      <td>867.0</td>\n      <td>24.0</td>\n      <td>2.7</td>\n      <td>876.0</td>\n      <td>854.0</td>\n      <td>22.0</td>\n      <td>2.5</td>\n      <td>863.0</td>\n      <td>843.0</td>\n      <td>20.0</td>\n      <td>2.3</td>\n      <td>836.0</td>\n      <td>811.0</td>\n      <td>25.0</td>\n      <td>3.0</td>\n      <td>806.0</td>\n      <td>786.0</td>\n      <td>20.0</td>\n      <td>2.5</td>\n      <td>799.0</td>\n      <td>778.0</td>\n      <td>21.0</td>\n      <td>2.6</td>\n      <td>789.0</td>\n      <td>767.0</td>\n      <td>22.0</td>\n      <td>2.8</td>\n      <td>61791.0</td>\n      <td>102.279274</td>\n    </tr>\n    <tr>\n      <th>638</th>\n      <td>17053</td>\n      <td>IL</td>\n      <td>Ford County, IL</td>\n      <td>3.0</td>\n      <td>2.0</td>\n      <td>1.0</td>\n      <td>7342.0</td>\n      <td>7079.0</td>\n      <td>263.0</td>\n      <td>3.6</td>\n      <td>7342.0</td>\n      <td>7017.0</td>\n      <td>325.0</td>\n      <td>4.4</td>\n      <td>7223.0</td>\n      <td>6894.0</td>\n      <td>329.0</td>\n      <td>4.6</td>\n      <td>7158.0</td>\n      <td>6787.0</td>\n      <td>371.0</td>\n      <td>5.2</td>\n      <td>7207.0</td>\n      <td>6840.0</td>\n      <td>367.0</td>\n      <td>5.1</td>\n      <td>7306.0</td>\n      <td>6961.0</td>\n      <td>345.0</td>\n      <td>4.7</td>\n      <td>7378.0</td>\n      <td>7058.0</td>\n      <td>320.0</td>\n      <td>4.3</td>\n      <td>7321.0</td>\n      <td>6954.0</td>\n      <td>367.0</td>\n      <td>5.0</td>\n      <td>7170.0</td>\n      <td>6725.0</td>\n      <td>445.0</td>\n      <td>6.2</td>\n      <td>7080.0</td>\n      <td>6366.0</td>\n      <td>714.0</td>\n      <td>10.1</td>\n      <td>7279.0</td>\n      <td>6585.0</td>\n      <td>694.0</td>\n      <td>9.5</td>\n      <td>7129.0</td>\n      <td>6519.0</td>\n      <td>610.0</td>\n      <td>8.6</td>\n      <td>6957.0</td>\n      <td>6437.0</td>\n      <td>520.0</td>\n      <td>7.5</td>\n      <td>6726.0</td>\n      <td>6232.0</td>\n      <td>494.0</td>\n      <td>7.3</td>\n      <td>6640.0</td>\n      <td>6246.0</td>\n      <td>394.0</td>\n      <td>5.9</td>\n      <td>6662.0</td>\n      <td>6309.0</td>\n      <td>353.0</td>\n      <td>5.3</td>\n      <td>6683.0</td>\n      <td>6319.0</td>\n      <td>364.0</td>\n      <td>5.4</td>\n      <td>6472.0</td>\n      <td>6161.0</td>\n      <td>311.0</td>\n      <td>4.8</td>\n      <td>6486.0</td>\n      <td>6184.0</td>\n      <td>302.0</td>\n      <td>4.7</td>\n      <td>6391.0</td>\n      <td>6128.0</td>\n      <td>263.0</td>\n      <td>4.1</td>\n      <td>6236.0</td>\n      <td>5834.0</td>\n      <td>402.0</td>\n      <td>6.4</td>\n      <td>55369.0</td>\n      <td>79.999130</td>\n    </tr>\n  </tbody>\n</table>\n</div>",
      "text/plain": "      FIPS_Code State         Area_name  Rural_urban_continuum_code_2013  \\\n2465      46119    SD  Sully County, SD                              9.0   \n638       17053    IL   Ford County, IL                              3.0   \n\n      Urban_influence_code_2013  Metro_2013  Civilian_labor_force_2000  \\\n2465                        8.0         0.0                      913.0   \n638                         2.0         1.0                     7342.0   \n\n      Employed_2000  Unemployed_2000  Unemployment_rate_2000  \\\n2465          892.0             21.0                     2.3   \n638          7079.0            263.0                     3.6   \n\n      Civilian_labor_force_2001  Employed_2001  Unemployed_2001  \\\n2465                      907.0          885.0             22.0   \n638                      7342.0         7017.0            325.0   \n\n      Unemployment_rate_2001  Civilian_labor_force_2002  Employed_2002  \\\n2465                     2.4                      975.0          955.0   \n638                      4.4                     7223.0         6894.0   \n\n      Unemployed_2002  Unemployment_rate_2002  Civilian_labor_force_2003  \\\n2465             20.0                     2.1                     1018.0   \n638             329.0                     4.6                     7158.0   \n\n      Employed_2003  Unemployed_2003  Unemployment_rate_2003  \\\n2465          996.0             22.0                     2.2   \n638          6787.0            371.0                     5.2   \n\n      Civilian_labor_force_2004  Employed_2004  Unemployed_2004  \\\n2465                     1018.0          994.0             24.0   \n638                      7207.0         6840.0            367.0   \n\n      Unemployment_rate_2004  Civilian_labor_force_2005  Employed_2005  \\\n2465                     2.4                     1016.0          988.0   \n638                      5.1                     7306.0         6961.0   \n\n      Unemployed_2005  Unemployment_rate_2005  Civilian_labor_force_2006  \\\n2465             28.0                     2.8                     1013.0   \n638             345.0                     4.7                     7378.0   \n\n      Employed_2006  Unemployed_2006  Unemployment_rate_2006  \\\n2465          990.0             23.0                     2.3   \n638          7058.0            320.0                     4.3   \n\n      Civilian_labor_force_2007  Employed_2007  Unemployed_2007  \\\n2465                      978.0          956.0             22.0   \n638                      7321.0         6954.0            367.0   \n\n      Unemployment_rate_2007  Civilian_labor_force_2008  Employed_2008  \\\n2465                     2.2                      985.0          963.0   \n638                      5.0                     7170.0         6725.0   \n\n      Unemployed_2008  Unemployment_rate_2008  Civilian_labor_force_2009  \\\n2465             22.0                     2.2                      992.0   \n638             445.0                     6.2                     7080.0   \n\n      Employed_2009  Unemployed_2009  Unemployment_rate_2009  \\\n2465          964.0             28.0                     2.8   \n638          6366.0            714.0                    10.1   \n\n      Civilian_labor_force_2010  Employed_2010  Unemployed_2010  \\\n2465                      891.0          859.0             32.0   \n638                      7279.0         6585.0            694.0   \n\n      Unemployment_rate_2010  Civilian_labor_force_2011  Employed_2011  \\\n2465                     3.6                      884.0          851.0   \n638                      9.5                     7129.0         6519.0   \n\n      Unemployed_2011  Unemployment_rate_2011  Civilian_labor_force_2012  \\\n2465             33.0                     3.7                      890.0   \n638             610.0                     8.6                     6957.0   \n\n      Employed_2012  Unemployed_2012  Unemployment_rate_2012  \\\n2465          864.0             26.0                     2.9   \n638          6437.0            520.0                     7.5   \n\n      Civilian_labor_force_2013  Employed_2013  Unemployed_2013  \\\n2465                      888.0          863.0             25.0   \n638                      6726.0         6232.0            494.0   \n\n      Unemployment_rate_2013  Civilian_labor_force_2014  Employed_2014  \\\n2465                     2.8                      891.0          867.0   \n638                      7.3                     6640.0         6246.0   \n\n      Unemployed_2014  Unemployment_rate_2014  Civilian_labor_force_2015  \\\n2465             24.0                     2.7                      876.0   \n638             394.0                     5.9                     6662.0   \n\n      Employed_2015  Unemployed_2015  Unemployment_rate_2015  \\\n2465          854.0             22.0                     2.5   \n638          6309.0            353.0                     5.3   \n\n      Civilian_labor_force_2016  Employed_2016  Unemployed_2016  \\\n2465                      863.0          843.0             20.0   \n638                      6683.0         6319.0            364.0   \n\n      Unemployment_rate_2016  Civilian_labor_force_2017  Employed_2017  \\\n2465                     2.3                      836.0          811.0   \n638                      5.4                     6472.0         6161.0   \n\n      Unemployed_2017  Unemployment_rate_2017  Civilian_labor_force_2018  \\\n2465             25.0                     3.0                      806.0   \n638             311.0                     4.8                     6486.0   \n\n      Employed_2018  Unemployed_2018  Unemployment_rate_2018  \\\n2465          786.0             20.0                     2.5   \n638          6184.0            302.0                     4.7   \n\n      Civilian_labor_force_2019  Employed_2019  Unemployed_2019  \\\n2465                      799.0          778.0             21.0   \n638                      6391.0         6128.0            263.0   \n\n      Unemployment_rate_2019  Civilian_labor_force_2020  Employed_2020  \\\n2465                     2.6                      789.0          767.0   \n638                      4.1                     6236.0         5834.0   \n\n      Unemployed_2020  Unemployment_rate_2020  Median_Household_Income_2019  \\\n2465             22.0                     2.8                       61791.0   \n638             402.0                     6.4                       55369.0   \n\n      Med_HH_Income_Percent_of_State_Total_2019  \n2465                                 102.279274  \n638                                   79.999130  "
     },
     "execution_count": 87,
     "metadata": {},
     "output_type": "execute_result"
    }
   ]
  },
  {
   "cell_type": "code",
   "source": "unemployment.columns",
   "metadata": {
    "cell_id": "00029-e18786e9-5b12-4b96-bd4e-7fd4d6167005",
    "deepnote_cell_type": "code"
   },
   "execution_count": null,
   "outputs": []
  },
  {
   "cell_type": "code",
   "metadata": {
    "cell_id": "00030-85cd5514-01c6-4324-95a2-ba3d270bbdbb",
    "deepnote_cell_type": "code"
   },
   "source": "unemployment_ey_melted = pd.melt(unemployment_ey, \n                                 id_vars=area_cols, \n                                 value_vars=rates_cols, \n                                 value_name='unemployment',\n                                 var_name='year')\nunemployment_ey_melted['year'] = [x.split('_')[2] for x in unemployment_ey_melted['year']]\nunemployment_ey_melted['year'] = unemployment_ey_melted['year'].astype(int)\nunemployment_ey_melted.rename(columns={'FIPS_Code': 'county_fips'}, inplace=True)\nunemployment_ey_melted = unemployment_ey_melted[['county_fips', 'year', 'unemployment']]",
   "execution_count": 72,
   "outputs": []
  },
  {
   "cell_type": "code",
   "source": "unemployment_ey_melted.head(20)",
   "metadata": {
    "cell_id": "00031-14dd378f-a829-48df-93d3-211ff9b4076e",
    "deepnote_cell_type": "code"
   },
   "execution_count": null,
   "outputs": []
  },
  {
   "cell_type": "code",
   "metadata": {
    "cell_id": "00032-743a12c0-1f70-4914-a2bd-162442abfa1c",
    "deepnote_cell_type": "code"
   },
   "source": "unemployment_ey_melted.sample()",
   "execution_count": 73,
   "outputs": [
    {
     "data": {
      "text/html": "<div>\n<style scoped>\n    .dataframe tbody tr th:only-of-type {\n        vertical-align: middle;\n    }\n\n    .dataframe tbody tr th {\n        vertical-align: top;\n    }\n\n    .dataframe thead th {\n        text-align: right;\n    }\n</style>\n<table border=\"1\" class=\"dataframe\">\n  <thead>\n    <tr style=\"text-align: right;\">\n      <th></th>\n      <th>county_fips</th>\n      <th>year</th>\n      <th>unemployment</th>\n    </tr>\n  </thead>\n  <tbody>\n    <tr>\n      <th>15544</th>\n      <td>46077</td>\n      <td>2016</td>\n      <td>2.7</td>\n    </tr>\n  </tbody>\n</table>\n</div>",
      "text/plain": "       county_fips  year  unemployment\n15544        46077  2016           2.7"
     },
     "execution_count": 73,
     "metadata": {},
     "output_type": "execute_result"
    }
   ]
  },
  {
   "cell_type": "code",
   "metadata": {
    "cell_id": "00033-4622092c-7b0d-49ed-97db-77d9e9c31aaa",
    "deepnote_cell_type": "code"
   },
   "source": "for year in unemployment_ey_melted['year'].unique():\n    \n    df_temp = unemployment_ey_melted[unemployment_ey_melted['year'] == year]\n    df_temp.to_csv(os.path.join(OUTPUT_PATH, f'unemployment_{year}.csv'), index=False)",
   "execution_count": 92,
   "outputs": []
  },
  {
   "cell_type": "markdown",
   "source": "#### Population",
   "metadata": {
    "cell_id": "00034-3e999851-577d-494b-bcbc-1e7211a2e526",
    "deepnote_cell_type": "markdown"
   }
  },
  {
   "cell_type": "code",
   "metadata": {
    "cell_id": "00035-22720956-d908-4a5c-9044-fca0e6494b4e",
    "deepnote_cell_type": "code"
   },
   "source": "population = pd.read_excel(os.path.join(PATH, 'PopulationEstimates.xls'), header=2)",
   "execution_count": 85,
   "outputs": []
  },
  {
   "cell_type": "code",
   "metadata": {
    "cell_id": "00036-8c1be647-5bff-4e3c-8dc3-23c2aa6833d1",
    "deepnote_cell_type": "code"
   },
   "source": "population.sample()",
   "execution_count": 106,
   "outputs": [
    {
     "data": {
      "text/html": "<div>\n<style scoped>\n    .dataframe tbody tr th:only-of-type {\n        vertical-align: middle;\n    }\n\n    .dataframe tbody tr th {\n        vertical-align: top;\n    }\n\n    .dataframe thead th {\n        text-align: right;\n    }\n</style>\n<table border=\"1\" class=\"dataframe\">\n  <thead>\n    <tr style=\"text-align: right;\">\n      <th></th>\n      <th>FIPStxt</th>\n      <th>State</th>\n      <th>Area_Name</th>\n      <th>Rural-urban_Continuum Code_2003</th>\n      <th>Rural-urban_Continuum Code_2013</th>\n      <th>Urban_Influence_Code_2003</th>\n      <th>Urban_Influence_Code_2013</th>\n      <th>Economic_typology_2015</th>\n      <th>CENSUS_2010_POP</th>\n      <th>ESTIMATES_BASE_2010</th>\n      <th>POP_ESTIMATE_2010</th>\n      <th>POP_ESTIMATE_2011</th>\n      <th>POP_ESTIMATE_2012</th>\n      <th>POP_ESTIMATE_2013</th>\n      <th>POP_ESTIMATE_2014</th>\n      <th>POP_ESTIMATE_2015</th>\n      <th>POP_ESTIMATE_2016</th>\n      <th>POP_ESTIMATE_2017</th>\n      <th>POP_ESTIMATE_2018</th>\n      <th>POP_ESTIMATE_2019</th>\n      <th>N_POP_CHG_2010</th>\n      <th>N_POP_CHG_2011</th>\n      <th>N_POP_CHG_2012</th>\n      <th>N_POP_CHG_2013</th>\n      <th>N_POP_CHG_2014</th>\n      <th>N_POP_CHG_2015</th>\n      <th>N_POP_CHG_2016</th>\n      <th>N_POP_CHG_2017</th>\n      <th>N_POP_CHG_2018</th>\n      <th>N_POP_CHG_2019</th>\n      <th>Births_2010</th>\n      <th>Births_2011</th>\n      <th>Births_2012</th>\n      <th>Births_2013</th>\n      <th>Births_2014</th>\n      <th>Births_2015</th>\n      <th>Births_2016</th>\n      <th>Births_2017</th>\n      <th>Births_2018</th>\n      <th>Births_2019</th>\n      <th>Deaths_2010</th>\n      <th>Deaths_2011</th>\n      <th>Deaths_2012</th>\n      <th>Deaths_2013</th>\n      <th>Deaths_2014</th>\n      <th>Deaths_2015</th>\n      <th>Deaths_2016</th>\n      <th>Deaths_2017</th>\n      <th>Deaths_2018</th>\n      <th>Deaths_2019</th>\n      <th>NATURAL_INC_2010</th>\n      <th>NATURAL_INC_2011</th>\n      <th>NATURAL_INC_2012</th>\n      <th>NATURAL_INC_2013</th>\n      <th>NATURAL_INC_2014</th>\n      <th>NATURAL_INC_2015</th>\n      <th>NATURAL_INC_2016</th>\n      <th>NATURAL_INC_2017</th>\n      <th>NATURAL_INC_2018</th>\n      <th>NATURAL_INC_2019</th>\n      <th>INTERNATIONAL_MIG_2010</th>\n      <th>INTERNATIONAL_MIG_2011</th>\n      <th>INTERNATIONAL_MIG_2012</th>\n      <th>INTERNATIONAL_MIG_2013</th>\n      <th>INTERNATIONAL_MIG_2014</th>\n      <th>INTERNATIONAL_MIG_2015</th>\n      <th>INTERNATIONAL_MIG_2016</th>\n      <th>INTERNATIONAL_MIG_2017</th>\n      <th>INTERNATIONAL_MIG_2018</th>\n      <th>INTERNATIONAL_MIG_2019</th>\n      <th>DOMESTIC_MIG_2010</th>\n      <th>DOMESTIC_MIG_2011</th>\n      <th>DOMESTIC_MIG_2012</th>\n      <th>DOMESTIC_MIG_2013</th>\n      <th>DOMESTIC_MIG_2014</th>\n      <th>DOMESTIC_MIG_2015</th>\n      <th>DOMESTIC_MIG_2016</th>\n      <th>DOMESTIC_MIG_2017</th>\n      <th>DOMESTIC_MIG_2018</th>\n      <th>DOMESTIC_MIG_2019</th>\n      <th>NET_MIG_2010</th>\n      <th>NET_MIG_2011</th>\n      <th>NET_MIG_2012</th>\n      <th>NET_MIG_2013</th>\n      <th>NET_MIG_2014</th>\n      <th>NET_MIG_2015</th>\n      <th>NET_MIG_2016</th>\n      <th>NET_MIG_2017</th>\n      <th>NET_MIG_2018</th>\n      <th>NET_MIG_2019</th>\n      <th>RESIDUAL_2010</th>\n      <th>RESIDUAL_2011</th>\n      <th>RESIDUAL_2012</th>\n      <th>RESIDUAL_2013</th>\n      <th>RESIDUAL_2014</th>\n      <th>RESIDUAL_2015</th>\n      <th>RESIDUAL_2016</th>\n      <th>RESIDUAL_2017</th>\n      <th>RESIDUAL_2018</th>\n      <th>RESIDUAL_2019</th>\n      <th>GQ_ESTIMATES_BASE_2010</th>\n      <th>GQ_ESTIMATES_2010</th>\n      <th>GQ_ESTIMATES_2011</th>\n      <th>GQ_ESTIMATES_2012</th>\n      <th>GQ_ESTIMATES_2013</th>\n      <th>GQ_ESTIMATES_2014</th>\n      <th>GQ_ESTIMATES_2015</th>\n      <th>GQ_ESTIMATES_2016</th>\n      <th>GQ_ESTIMATES_2017</th>\n      <th>GQ_ESTIMATES_2018</th>\n      <th>GQ_ESTIMATES_2019</th>\n      <th>R_birth_2011</th>\n      <th>R_birth_2012</th>\n      <th>R_birth_2013</th>\n      <th>R_birth_2014</th>\n      <th>R_birth_2015</th>\n      <th>R_birth_2016</th>\n      <th>R_birth_2017</th>\n      <th>R_birth_2018</th>\n      <th>R_birth_2019</th>\n      <th>R_death_2011</th>\n      <th>R_death_2012</th>\n      <th>R_death_2013</th>\n      <th>R_death_2014</th>\n      <th>R_death_2015</th>\n      <th>R_death_2016</th>\n      <th>R_death_2017</th>\n      <th>R_death_2018</th>\n      <th>R_death_2019</th>\n      <th>R_NATURAL_INC_2011</th>\n      <th>R_NATURAL_INC_2012</th>\n      <th>R_NATURAL_INC_2013</th>\n      <th>R_NATURAL_INC_2014</th>\n      <th>R_NATURAL_INC_2015</th>\n      <th>R_NATURAL_INC_2016</th>\n      <th>R_NATURAL_INC_2017</th>\n      <th>R_NATURAL_INC_2018</th>\n      <th>R_NATURAL_INC_2019</th>\n      <th>R_INTERNATIONAL_MIG_2011</th>\n      <th>R_INTERNATIONAL_MIG_2012</th>\n      <th>R_INTERNATIONAL_MIG_2013</th>\n      <th>R_INTERNATIONAL_MIG_2014</th>\n      <th>R_INTERNATIONAL_MIG_2015</th>\n      <th>R_INTERNATIONAL_MIG_2016</th>\n      <th>R_INTERNATIONAL_MIG_2017</th>\n      <th>R_INTERNATIONAL_MIG_2018</th>\n      <th>R_INTERNATIONAL_MIG_2019</th>\n      <th>R_DOMESTIC_MIG_2011</th>\n      <th>R_DOMESTIC_MIG_2012</th>\n      <th>R_DOMESTIC_MIG_2013</th>\n      <th>R_DOMESTIC_MIG_2014</th>\n      <th>R_DOMESTIC_MIG_2015</th>\n      <th>R_DOMESTIC_MIG_2016</th>\n      <th>R_DOMESTIC_MIG_2017</th>\n      <th>R_DOMESTIC_MIG_2018</th>\n      <th>R_DOMESTIC_MIG_2019</th>\n      <th>R_NET_MIG_2011</th>\n      <th>R_NET_MIG_2012</th>\n      <th>R_NET_MIG_2013</th>\n      <th>R_NET_MIG_2014</th>\n      <th>R_NET_MIG_2015</th>\n      <th>R_NET_MIG_2016</th>\n      <th>R_NET_MIG_2017</th>\n      <th>R_NET_MIG_2018</th>\n      <th>R_NET_MIG_2019</th>\n    </tr>\n  </thead>\n  <tbody>\n    <tr>\n      <th>703</th>\n      <td>17187</td>\n      <td>IL</td>\n      <td>Warren County</td>\n      <td>7.0</td>\n      <td>6.0</td>\n      <td>8.0</td>\n      <td>6.0</td>\n      <td>3.0</td>\n      <td>17707</td>\n      <td>17704</td>\n      <td>17713</td>\n      <td>17836</td>\n      <td>17749</td>\n      <td>17662</td>\n      <td>17712</td>\n      <td>17455</td>\n      <td>17294</td>\n      <td>17144</td>\n      <td>16992</td>\n      <td>16844</td>\n      <td>9.0</td>\n      <td>123.0</td>\n      <td>-87.0</td>\n      <td>-87.0</td>\n      <td>50.0</td>\n      <td>-257.0</td>\n      <td>-161.0</td>\n      <td>-150.0</td>\n      <td>-152.0</td>\n      <td>-148.0</td>\n      <td>54.0</td>\n      <td>194.0</td>\n      <td>224.0</td>\n      <td>211.0</td>\n      <td>218.0</td>\n      <td>214.0</td>\n      <td>231.0</td>\n      <td>207.0</td>\n      <td>213.0</td>\n      <td>204.0</td>\n      <td>30.0</td>\n      <td>180.0</td>\n      <td>192.0</td>\n      <td>181.0</td>\n      <td>188.0</td>\n      <td>190.0</td>\n      <td>189.0</td>\n      <td>165.0</td>\n      <td>189.0</td>\n      <td>178.0</td>\n      <td>24.0</td>\n      <td>14.0</td>\n      <td>32.0</td>\n      <td>30.0</td>\n      <td>30.0</td>\n      <td>24.0</td>\n      <td>42.0</td>\n      <td>42.0</td>\n      <td>24.0</td>\n      <td>26.0</td>\n      <td>3.0</td>\n      <td>28.0</td>\n      <td>49.0</td>\n      <td>45.0</td>\n      <td>49.0</td>\n      <td>47.0</td>\n      <td>42.0</td>\n      <td>42.0</td>\n      <td>36.0</td>\n      <td>37.0</td>\n      <td>-16.0</td>\n      <td>80.0</td>\n      <td>-168.0</td>\n      <td>-168.0</td>\n      <td>-25.0</td>\n      <td>-331.0</td>\n      <td>-246.0</td>\n      <td>-234.0</td>\n      <td>-212.0</td>\n      <td>-212.0</td>\n      <td>-13.0</td>\n      <td>108.0</td>\n      <td>-119.0</td>\n      <td>-123.0</td>\n      <td>24.0</td>\n      <td>-284.0</td>\n      <td>-204.0</td>\n      <td>-192.0</td>\n      <td>-176.0</td>\n      <td>-175.0</td>\n      <td>-2.0</td>\n      <td>1.0</td>\n      <td>0.0</td>\n      <td>6.0</td>\n      <td>-4.0</td>\n      <td>3.0</td>\n      <td>1.0</td>\n      <td>0.0</td>\n      <td>0.0</td>\n      <td>1.0</td>\n      <td>1116.0</td>\n      <td>1116.0</td>\n      <td>1116.0</td>\n      <td>1053.0</td>\n      <td>1010.0</td>\n      <td>1033.0</td>\n      <td>1053.0</td>\n      <td>973.0</td>\n      <td>975.0</td>\n      <td>977.0</td>\n      <td>977.0</td>\n      <td>10.914512</td>\n      <td>12.589574</td>\n      <td>11.917201</td>\n      <td>12.325437</td>\n      <td>12.170501</td>\n      <td>13.295347</td>\n      <td>12.021604</td>\n      <td>12.479494</td>\n      <td>12.058163</td>\n      <td>10.126867</td>\n      <td>10.791064</td>\n      <td>10.222812</td>\n      <td>10.629276</td>\n      <td>10.805585</td>\n      <td>10.878011</td>\n      <td>9.582438</td>\n      <td>11.073354</td>\n      <td>10.521338</td>\n      <td>0.787645</td>\n      <td>1.798511</td>\n      <td>1.694389</td>\n      <td>1.696161</td>\n      <td>1.364916</td>\n      <td>2.417336</td>\n      <td>2.439166</td>\n      <td>1.40614</td>\n      <td>1.536825</td>\n      <td>1.57529</td>\n      <td>2.753969</td>\n      <td>2.541583</td>\n      <td>2.770396</td>\n      <td>2.67296</td>\n      <td>2.417336</td>\n      <td>2.439166</td>\n      <td>2.10921</td>\n      <td>2.18702</td>\n      <td>4.50083</td>\n      <td>-9.442181</td>\n      <td>-9.488577</td>\n      <td>-1.413468</td>\n      <td>-18.824466</td>\n      <td>-14.158681</td>\n      <td>-13.589639</td>\n      <td>-12.420905</td>\n      <td>-12.531032</td>\n      <td>6.07612</td>\n      <td>-6.688211</td>\n      <td>-6.946994</td>\n      <td>1.356929</td>\n      <td>-16.151506</td>\n      <td>-11.741345</td>\n      <td>-11.150473</td>\n      <td>-10.311694</td>\n      <td>-10.344012</td>\n    </tr>\n  </tbody>\n</table>\n</div>",
      "text/plain": "     FIPStxt State      Area_Name  Rural-urban_Continuum Code_2003  \\\n703    17187    IL  Warren County                              7.0   \n\n     Rural-urban_Continuum Code_2013  Urban_Influence_Code_2003  \\\n703                              6.0                        8.0   \n\n     Urban_Influence_Code_2013  Economic_typology_2015  CENSUS_2010_POP  \\\n703                        6.0                     3.0            17707   \n\n     ESTIMATES_BASE_2010  POP_ESTIMATE_2010  POP_ESTIMATE_2011  \\\n703                17704              17713              17836   \n\n     POP_ESTIMATE_2012  POP_ESTIMATE_2013  POP_ESTIMATE_2014  \\\n703              17749              17662              17712   \n\n     POP_ESTIMATE_2015  POP_ESTIMATE_2016  POP_ESTIMATE_2017  \\\n703              17455              17294              17144   \n\n     POP_ESTIMATE_2018  POP_ESTIMATE_2019  N_POP_CHG_2010  N_POP_CHG_2011  \\\n703              16992              16844             9.0           123.0   \n\n     N_POP_CHG_2012  N_POP_CHG_2013  N_POP_CHG_2014  N_POP_CHG_2015  \\\n703           -87.0           -87.0            50.0          -257.0   \n\n     N_POP_CHG_2016  N_POP_CHG_2017  N_POP_CHG_2018  N_POP_CHG_2019  \\\n703          -161.0          -150.0          -152.0          -148.0   \n\n     Births_2010  Births_2011  Births_2012  Births_2013  Births_2014  \\\n703         54.0        194.0        224.0        211.0        218.0   \n\n     Births_2015  Births_2016  Births_2017  Births_2018  Births_2019  \\\n703        214.0        231.0        207.0        213.0        204.0   \n\n     Deaths_2010  Deaths_2011  Deaths_2012  Deaths_2013  Deaths_2014  \\\n703         30.0        180.0        192.0        181.0        188.0   \n\n     Deaths_2015  Deaths_2016  Deaths_2017  Deaths_2018  Deaths_2019  \\\n703        190.0        189.0        165.0        189.0        178.0   \n\n     NATURAL_INC_2010  NATURAL_INC_2011  NATURAL_INC_2012  NATURAL_INC_2013  \\\n703              24.0              14.0              32.0              30.0   \n\n     NATURAL_INC_2014  NATURAL_INC_2015  NATURAL_INC_2016  NATURAL_INC_2017  \\\n703              30.0              24.0              42.0              42.0   \n\n     NATURAL_INC_2018  NATURAL_INC_2019  INTERNATIONAL_MIG_2010  \\\n703              24.0              26.0                     3.0   \n\n     INTERNATIONAL_MIG_2011  INTERNATIONAL_MIG_2012  INTERNATIONAL_MIG_2013  \\\n703                    28.0                    49.0                    45.0   \n\n     INTERNATIONAL_MIG_2014  INTERNATIONAL_MIG_2015  INTERNATIONAL_MIG_2016  \\\n703                    49.0                    47.0                    42.0   \n\n     INTERNATIONAL_MIG_2017  INTERNATIONAL_MIG_2018  INTERNATIONAL_MIG_2019  \\\n703                    42.0                    36.0                    37.0   \n\n     DOMESTIC_MIG_2010  DOMESTIC_MIG_2011  DOMESTIC_MIG_2012  \\\n703              -16.0               80.0             -168.0   \n\n     DOMESTIC_MIG_2013  DOMESTIC_MIG_2014  DOMESTIC_MIG_2015  \\\n703             -168.0              -25.0             -331.0   \n\n     DOMESTIC_MIG_2016  DOMESTIC_MIG_2017  DOMESTIC_MIG_2018  \\\n703             -246.0             -234.0             -212.0   \n\n     DOMESTIC_MIG_2019  NET_MIG_2010  NET_MIG_2011  NET_MIG_2012  \\\n703             -212.0         -13.0         108.0        -119.0   \n\n     NET_MIG_2013  NET_MIG_2014  NET_MIG_2015  NET_MIG_2016  NET_MIG_2017  \\\n703        -123.0          24.0        -284.0        -204.0        -192.0   \n\n     NET_MIG_2018  NET_MIG_2019  RESIDUAL_2010  RESIDUAL_2011  RESIDUAL_2012  \\\n703        -176.0        -175.0           -2.0            1.0            0.0   \n\n     RESIDUAL_2013  RESIDUAL_2014  RESIDUAL_2015  RESIDUAL_2016  \\\n703            6.0           -4.0            3.0            1.0   \n\n     RESIDUAL_2017  RESIDUAL_2018  RESIDUAL_2019  GQ_ESTIMATES_BASE_2010  \\\n703            0.0            0.0            1.0                  1116.0   \n\n     GQ_ESTIMATES_2010  GQ_ESTIMATES_2011  GQ_ESTIMATES_2012  \\\n703             1116.0             1116.0             1053.0   \n\n     GQ_ESTIMATES_2013  GQ_ESTIMATES_2014  GQ_ESTIMATES_2015  \\\n703             1010.0             1033.0             1053.0   \n\n     GQ_ESTIMATES_2016  GQ_ESTIMATES_2017  GQ_ESTIMATES_2018  \\\n703              973.0              975.0              977.0   \n\n     GQ_ESTIMATES_2019  R_birth_2011  R_birth_2012  R_birth_2013  \\\n703              977.0     10.914512     12.589574     11.917201   \n\n     R_birth_2014  R_birth_2015  R_birth_2016  R_birth_2017  R_birth_2018  \\\n703     12.325437     12.170501     13.295347     12.021604     12.479494   \n\n     R_birth_2019  R_death_2011  R_death_2012  R_death_2013  R_death_2014  \\\n703     12.058163     10.126867     10.791064     10.222812     10.629276   \n\n     R_death_2015  R_death_2016  R_death_2017  R_death_2018  R_death_2019  \\\n703     10.805585     10.878011      9.582438     11.073354     10.521338   \n\n     R_NATURAL_INC_2011  R_NATURAL_INC_2012  R_NATURAL_INC_2013  \\\n703            0.787645            1.798511            1.694389   \n\n     R_NATURAL_INC_2014  R_NATURAL_INC_2015  R_NATURAL_INC_2016  \\\n703            1.696161            1.364916            2.417336   \n\n     R_NATURAL_INC_2017  R_NATURAL_INC_2018  R_NATURAL_INC_2019  \\\n703            2.439166             1.40614            1.536825   \n\n     R_INTERNATIONAL_MIG_2011  R_INTERNATIONAL_MIG_2012  \\\n703                   1.57529                  2.753969   \n\n     R_INTERNATIONAL_MIG_2013  R_INTERNATIONAL_MIG_2014  \\\n703                  2.541583                  2.770396   \n\n     R_INTERNATIONAL_MIG_2015  R_INTERNATIONAL_MIG_2016  \\\n703                   2.67296                  2.417336   \n\n     R_INTERNATIONAL_MIG_2017  R_INTERNATIONAL_MIG_2018  \\\n703                  2.439166                   2.10921   \n\n     R_INTERNATIONAL_MIG_2019  R_DOMESTIC_MIG_2011  R_DOMESTIC_MIG_2012  \\\n703                   2.18702              4.50083            -9.442181   \n\n     R_DOMESTIC_MIG_2013  R_DOMESTIC_MIG_2014  R_DOMESTIC_MIG_2015  \\\n703            -9.488577            -1.413468           -18.824466   \n\n     R_DOMESTIC_MIG_2016  R_DOMESTIC_MIG_2017  R_DOMESTIC_MIG_2018  \\\n703           -14.158681           -13.589639           -12.420905   \n\n     R_DOMESTIC_MIG_2019  R_NET_MIG_2011  R_NET_MIG_2012  R_NET_MIG_2013  \\\n703           -12.531032         6.07612       -6.688211       -6.946994   \n\n     R_NET_MIG_2014  R_NET_MIG_2015  R_NET_MIG_2016  R_NET_MIG_2017  \\\n703        1.356929      -16.151506      -11.741345      -11.150473   \n\n     R_NET_MIG_2018  R_NET_MIG_2019  \n703      -10.311694      -10.344012  "
     },
     "execution_count": 106,
     "metadata": {},
     "output_type": "execute_result"
    }
   ]
  },
  {
   "cell_type": "markdown",
   "source": "We obtained the rates for natural increase in population, international migration, domestic migration, and net migration for the years 2012, 2016, and we substituted the value of 2019 for 2020. ",
   "metadata": {
    "cell_id": "00037-955ec8d1-3144-46e3-85d1-b23772752274",
    "deepnote_cell_type": "markdown"
   }
  },
  {
   "cell_type": "code",
   "metadata": {
    "cell_id": "00038-3dcc9d8e-3f16-42bc-9c74-e522881c966c",
    "deepnote_cell_type": "code"
   },
   "source": "years_population = ['2012', '2016', '2019']",
   "execution_count": 103,
   "outputs": []
  },
  {
   "cell_type": "code",
   "metadata": {
    "cell_id": "00039-814a039e-9bf2-47e2-b867-e03c98b4241d",
    "deepnote_cell_type": "code"
   },
   "source": "rate_nat_inc_cols = ['R_NATURAL_INC_' + str(x) for x in years]\nrate_int_mig_cols = ['R_INTERNATIONAL_MIG_' + str(x) for x in years]\nrate_dom_mig_cols = ['R_DOMESTIC_MIG_' + str(x) for x in years]\nrate_net_mig_cols = ['R_NET_MIG_' + str(x) for x in years]",
   "execution_count": 105,
   "outputs": []
  },
  {
   "cell_type": "code",
   "metadata": {
    "cell_id": "00040-0d17880e-9c9f-4bfd-9d97-1272fe31d76b",
    "deepnote_cell_type": "code"
   },
   "source": "test = population[['FIPStxt'] + rate_nat_inc_cols]",
   "execution_count": 108,
   "outputs": []
  },
  {
   "cell_type": "code",
   "metadata": {
    "cell_id": "00041-727cff2a-f05d-4c72-9152-ff9a348a9419",
    "deepnote_cell_type": "code"
   },
   "source": "population_dict = {'rate_natural_increase_population': rate_nat_inc_cols,\n                   'rate_international_migration': rate_int_mig_cols,\n                   'rate_domestic_migration': rate_dom_mig_cols,\n                   'rate_net_migration': rate_net_mig_cols}",
   "execution_count": 117,
   "outputs": []
  },
  {
   "cell_type": "code",
   "metadata": {
    "cell_id": "00042-1ab0c16d-a3e9-46d3-9750-250c9416c1d6",
    "deepnote_cell_type": "code"
   },
   "source": "for key in population_dict.keys():\n    \n    cols = population_dict[key]\n    temp2 = pd.melt(population[['FIPStxt'] + cols], \n                    id_vars=['FIPStxt'], \n                    value_vars=cols, \n                    value_name=key,\n                    var_name='year')\n    temp2['year'] = [x.split(\"_\")[3] for x in temp2['year']]\n    temp2['year'] = ['2020' if x == '2019' else x for x in temp2['year']]\n    \n    for year in temp2['year']:\n        df_temp = temp2[temp2['year'] == year]\n        df_temp.to_csv(os.path.join(OUTPUT_PATH, f'unemployment_{year}.csv'), index=False)\n        ",
   "execution_count": null,
   "outputs": []
  },
  {
   "cell_type": "code",
   "metadata": {
    "cell_id": "00043-3615844f-dae7-4040-a9e5-e9daa261b96b",
    "deepnote_cell_type": "code"
   },
   "source": "natural_inc_year = pd.melt(population[['FIPStxt'] + rate_nat_inc_cols], \n                           id_vars=['FIPStxt'], \n                           value_vars=rate_nat_inc_cols, \n                           value_name='natural_increase_in_pop',\n                           var_name='year')\n\nnatural_inc_year['year'] = [x.split(\"_\")[3] for x in natural_inc_year['year']]\nnatural_inc_year['year'] = ['2020' if x == '2019' else x for x in natural_inc_year['year']]",
   "execution_count": 115,
   "outputs": []
  },
  {
   "cell_type": "code",
   "metadata": {
    "cell_id": "00044-49d1f458-01ff-403d-bd3e-b6636c061ef6",
    "deepnote_cell_type": "code"
   },
   "source": "natural_inc_year",
   "execution_count": 116,
   "outputs": [
    {
     "data": {
      "text/html": "<div>\n<style scoped>\n    .dataframe tbody tr th:only-of-type {\n        vertical-align: middle;\n    }\n\n    .dataframe tbody tr th {\n        vertical-align: top;\n    }\n\n    .dataframe thead th {\n        text-align: right;\n    }\n</style>\n<table border=\"1\" class=\"dataframe\">\n  <thead>\n    <tr style=\"text-align: right;\">\n      <th></th>\n      <th>FIPStxt</th>\n      <th>year</th>\n      <th>natural_increase_in_pop</th>\n    </tr>\n  </thead>\n  <tbody>\n    <tr>\n      <th>0</th>\n      <td>0</td>\n      <td>2012</td>\n      <td>NaN</td>\n    </tr>\n    <tr>\n      <th>1</th>\n      <td>1000</td>\n      <td>2012</td>\n      <td>2.225976</td>\n    </tr>\n    <tr>\n      <th>2</th>\n      <td>1001</td>\n      <td>2012</td>\n      <td>0.998357</td>\n    </tr>\n    <tr>\n      <th>3</th>\n      <td>1003</td>\n      <td>2012</td>\n      <td>1.104318</td>\n    </tr>\n    <tr>\n      <th>4</th>\n      <td>1005</td>\n      <td>2012</td>\n      <td>0.513667</td>\n    </tr>\n    <tr>\n      <th>...</th>\n      <td>...</td>\n      <td>...</td>\n      <td>...</td>\n    </tr>\n    <tr>\n      <th>9814</th>\n      <td>72145</td>\n      <td>2020</td>\n      <td>NaN</td>\n    </tr>\n    <tr>\n      <th>9815</th>\n      <td>72147</td>\n      <td>2020</td>\n      <td>NaN</td>\n    </tr>\n    <tr>\n      <th>9816</th>\n      <td>72149</td>\n      <td>2020</td>\n      <td>NaN</td>\n    </tr>\n    <tr>\n      <th>9817</th>\n      <td>72151</td>\n      <td>2020</td>\n      <td>NaN</td>\n    </tr>\n    <tr>\n      <th>9818</th>\n      <td>72153</td>\n      <td>2020</td>\n      <td>NaN</td>\n    </tr>\n  </tbody>\n</table>\n<p>9819 rows × 3 columns</p>\n</div>",
      "text/plain": "      FIPStxt  year  natural_increase_in_pop\n0           0  2012                      NaN\n1        1000  2012                 2.225976\n2        1001  2012                 0.998357\n3        1003  2012                 1.104318\n4        1005  2012                 0.513667\n...       ...   ...                      ...\n9814    72145  2020                      NaN\n9815    72147  2020                      NaN\n9816    72149  2020                      NaN\n9817    72151  2020                      NaN\n9818    72153  2020                      NaN\n\n[9819 rows x 3 columns]"
     },
     "execution_count": 116,
     "metadata": {},
     "output_type": "execute_result"
    }
   ]
  },
  {
   "cell_type": "markdown",
   "source": "#### Results and unemployment merged",
   "metadata": {
    "cell_id": "00045-9dd214dd-091f-4471-ae60-c27d0135e3d6",
    "deepnote_cell_type": "markdown"
   }
  },
  {
   "cell_type": "code",
   "source": "merged_results_unemployment = pivoted_results.merge(unemployment_ey_melted, on=['year', 'county_fips'], how='left')",
   "metadata": {
    "cell_id": "00046-2a889e5b-13e7-409a-9dd5-d356494269d7",
    "deepnote_cell_type": "code"
   },
   "execution_count": null,
   "outputs": []
  },
  {
   "cell_type": "code",
   "source": "merged_results_unemployment.sample(10)",
   "metadata": {
    "cell_id": "00047-a9916f46-f624-4dfa-ab97-257d13d36936",
    "deepnote_cell_type": "code"
   },
   "execution_count": null,
   "outputs": []
  },
  {
   "cell_type": "code",
   "metadata": {
    "cell_id": "00048-b45b8d5c-7e4b-459d-9f06-3d1eedfa6f27",
    "deepnote_cell_type": "code"
   },
   "source": "",
   "execution_count": null,
   "outputs": []
  },
  {
   "cell_type": "markdown",
   "source": "<a style='text-decoration:none;line-height:16px;display:flex;color:#5B5B62;padding:10px;justify-content:end;' href='https://deepnote.com?utm_source=created-in-deepnote-cell&projectId=5e29d49d-e8a5-4b79-a7a8-5fff20f26b9d' target=\"_blank\">\n<img alt='Created in deepnote.com' style='display:inline;max-height:16px;margin:0px;margin-right:7.5px;' src='data:image/svg+xml;base64,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' > </img>\nCreated in <span style='font-weight:600;margin-left:4px;'>Deepnote</span></a>",
   "metadata": {
    "tags": [],
    "created_in_deepnote_cell": true,
    "deepnote_cell_type": "markdown"
   }
  }
 ],
 "nbformat": 4,
 "nbformat_minor": 4,
 "metadata": {
  "kernelspec": {
   "display_name": "Python 3",
   "language": "python",
   "name": "python3"
  },
  "language_info": {
   "codemirror_mode": {
    "name": "ipython",
    "version": 3
   },
   "file_extension": ".py",
   "mimetype": "text/x-python",
   "name": "python",
   "nbconvert_exporter": "python",
   "pygments_lexer": "ipython3",
   "version": "3.6.12"
  },
  "deepnote_notebook_id": "afddc243-8a87-44b2-b032-64b12ea423cd",
  "deepnote": {},
  "deepnote_execution_queue": []
 }
}