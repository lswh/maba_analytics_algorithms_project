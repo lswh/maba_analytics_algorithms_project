{
 "cells": [
  {
   "cell_type": "markdown",
   "id": "979c5730",
   "metadata": {},
   "source": [
    "# Draft as of 06/26/2021"
   ]
  },
  {
   "cell_type": "code",
   "execution_count": 1,
   "id": "b0bdf58f",
   "metadata": {},
   "outputs": [],
   "source": [
    "import pandas as pd"
   ]
  },
  {
   "cell_type": "code",
   "execution_count": null,
   "id": "becb2fa0",
   "metadata": {},
   "outputs": [],
   "source": [
    "# Load raw datasets for inspection: \n",
    "election_returns_main=pd.read_csv('./data/HarvardData_countypres_2000-2020.csv')"
   ]
  }
 ],
 "metadata": {
  "kernelspec": {
   "display_name": "Python 3",
   "language": "python",
   "name": "python3"
  },
  "language_info": {
   "codemirror_mode": {
    "name": "ipython",
    "version": 3
   },
   "file_extension": ".py",
   "mimetype": "text/x-python",
   "name": "python",
   "nbconvert_exporter": "python",
   "pygments_lexer": "ipython3",
   "version": "3.9.5"
  }
 },
 "nbformat": 4,
 "nbformat_minor": 5
}
