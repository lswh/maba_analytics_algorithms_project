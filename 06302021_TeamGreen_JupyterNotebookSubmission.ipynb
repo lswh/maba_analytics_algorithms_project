{
 "cells": [
  {
   "cell_type": "markdown",
   "id": "575e2fa6",
   "metadata": {},
   "source": [
    "# Load the Primary Election Return Dataset First \n",
    "\n",
    "# Set Political Leaning as Variable to be Predicted\n",
    "\n",
    "\n"
   ]
  },
  {
   "cell_type": "code",
   "execution_count": null,
   "id": "d0c99855",
   "metadata": {},
   "outputs": [],
   "source": []
  }
 ],
 "metadata": {
  "kernelspec": {
   "display_name": "Python 3",
   "language": "python",
   "name": "python3"
  },
  "language_info": {
   "codemirror_mode": {
    "name": "ipython",
    "version": 3
   },
   "file_extension": ".py",
   "mimetype": "text/x-python",
   "name": "python",
   "nbconvert_exporter": "python",
   "pygments_lexer": "ipython3",
   "version": "3.9.5"
  }
 },
 "nbformat": 4,
 "nbformat_minor": 5
}
