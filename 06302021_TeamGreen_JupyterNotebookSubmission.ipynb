{
 "cells": [
  {
   "cell_type": "markdown",
   "source": "# Code Notebook Draft as of 06/26/2021",
   "metadata": {
    "cell_id": "00000-b632796f-c8a8-411d-8833-21ffd1d29544",
    "deepnote_cell_type": "markdown"
   }
  },
  {
   "cell_type": "code",
   "metadata": {
    "cell_id": "00001-b995630d-50ab-4c93-a6ae-69e945c8fac3",
    "deepnote_to_be_reexecuted": false,
    "source_hash": "6cb636ab",
    "execution_start": 1624685144646,
    "execution_millis": 1,
    "deepnote_cell_type": "code"
   },
   "source": "# Import the necessary libraries\nimport pandas as pd",
   "execution_count": null,
   "outputs": []
  },
  {
   "cell_type": "code",
   "metadata": {
    "cell_id": "00002-f3161f9c-bfc0-4c1a-ab46-89249225491c",
    "deepnote_to_be_reexecuted": false,
    "source_hash": "eaa16efe",
    "execution_start": 1624685146825,
    "execution_millis": 1991,
    "deepnote_cell_type": "code"
   },
   "source": "# Load all raw datasets first: \n# c/o BONG\nraw_harvard_election_returns_main = pd.read_csv('./data/HarvardData_countypres_2000-2020.csv')\nraw_nytimes_dataset = pd.read_csv('./data/NYTimes_covidcasedata.csv')\nraw_facebook_social_connectedness_index = pd.read_csv('./data/Facebook_Cornell_ERS_SocialConnectednessIndex.csv')\nraw_landareas_counties = pd.read_csv('./data/AgriCensus_LandAreas.csv')\n# c/o BONG\nraw_bls_unemployment_2014 = pd.read_csv('./data/BLS_LaborUnemployment_2014_csv.csv')\nraw_bls_unemployment_2015 = pd.read_csv('./data/BLS_LaborUnemployment_2015_csv.csv')\nraw_bls_unemployment_2016 = pd.read_csv('./data/BLS_LaborUnemployment_2016_csv.csv')\nraw_ers_detailed_labor = pd.read_csv('./data/ERS_RurAtlas_DetailedLabor.csv')\nraw_ers_migration = pd.read_csv('./data/ERS_RurAtlas_Migration.csv')\nraw_ers_urban_rural = pd.read_csv('./data/ERS_RurAtlas_UrbanRuralClassification.csv')\nraw_fcc_health_and_broadband = pd.read_csv('./data/FCC_Health_and_Broadband.csv')\nraw_harvard_streets_and_intersections = pd.read_csv('./data/HarvardData_streets_intersections.csv')\nraw_noaa_storm_events = pd.read_csv('./data/NOAA_StormEvent_Fatalities_2016.csv')\nraw_openicpsr_crime = pd.read_csv('./data/OPENICPSR_Crime.csv')\nraw_pennstateagri_social_capital_variables = pd.read_csv('./data/PennState_AgriScienceDept_Religion_and_Social_Capital.csv')",
   "execution_count": null,
   "outputs": [
    {
     "name": "stderr",
     "text": "/shared-libs/python3.9/py-core/lib/python3.9/site-packages/IPython/core/interactiveshell.py:3169: DtypeWarning: Columns (2,7,8,9,10,11,12,13,14,15,16,17,18,19,20,21,22,23,24,25,26,27,28,29,30,31,32,33,34,36,38,39,40,41,42,43,44,45,46,47,48,49,50,51,52,53,54,55,56,57,58,59,60,61,62,63,64,65,66,67,68,69,70,73,74,75,76,77,78,79,80,81,82,83,84,85,86,87,88,89,90,91,92,93,94,95,96,97,98,99,100,101,102,103,104,105,106,107,108,109,110,111,112,113,114,115,116,117,118,119,120,121,122,123,124,125,126,127,128,129,130,131,132,133,134,135,136,137,138,139,140,141,142,143,144,145,146,147,148,149,150,151,152,153,154,155,156,157,158,159,160,161,162,163,164,165,166,167,168,169,170,171,172,173,174,175,176,177,178,179,180,181,182,183,184,185,186,187,188,189,190,191,192,193,194,195,196,197,198,199,200,201,202,203,204,205,206,207,208,209,210,211,212,213,214,215,216,217,218,219,220,221,222,223,224,225,226,227,228,229,230,231,232,233,234,235,236,237,238,267,269,303,304) have mixed types.Specify dtype option on import or set low_memory=False.\n  has_raised = await self.run_ast_nodes(code_ast.body, cell_name,\n",
     "output_type": "stream"
    }
   ]
  },
  {
   "cell_type": "code",
   "metadata": {
    "cell_id": "00003-ba56cd81-7625-4f4d-b76a-9d8fdcfd98b6",
    "deepnote_to_be_reexecuted": false,
    "source_hash": "5e427816",
    "execution_start": 1624685245252,
    "execution_millis": 18,
    "deepnote_cell_type": "code"
   },
   "source": "# Begin investigating the raw datasets for dimension reduction\nraw_nytimes_dataset.shape",
   "execution_count": null,
   "outputs": [
    {
     "output_type": "execute_result",
     "execution_count": 16,
     "data": {
      "text/plain": "(1439876, 6)"
     },
     "metadata": {}
    }
   ]
  },
  {
   "cell_type": "code",
   "metadata": {
    "cell_id": "00004-05592b61-d375-453d-9d5f-fe6fb09a8727",
    "deepnote_to_be_reexecuted": false,
    "source_hash": "b3eb717f",
    "execution_start": 1624686071775,
    "execution_millis": 20,
    "deepnote_cell_type": "code"
   },
   "source": "raw_harvard_election_returns_main.shape\nraw_harvard_election_returns_main.info()",
   "execution_count": null,
   "outputs": [
    {
     "name": "stdout",
     "text": "<class 'pandas.core.frame.DataFrame'>\nRangeIndex: 72617 entries, 0 to 72616\nData columns (total 12 columns):\n #   Column          Non-Null Count  Dtype  \n---  ------          --------------  -----  \n 0   year            72617 non-null  int64  \n 1   state           72617 non-null  object \n 2   state_po        72553 non-null  object \n 3   county_name     72617 non-null  object \n 4   county_fips     72560 non-null  float64\n 5   office          72617 non-null  object \n 6   candidate       72617 non-null  object \n 7   party           72617 non-null  object \n 8   candidatevotes  72212 non-null  float64\n 9   totalvotes      72612 non-null  float64\n 10  version         72617 non-null  int64  \n 11  mode            72617 non-null  object \ndtypes: float64(3), int64(2), object(7)\nmemory usage: 6.6+ MB\n",
     "output_type": "stream"
    }
   ]
  },
  {
   "cell_type": "code",
   "metadata": {
    "cell_id": "00005-0e50d9fc-328a-4ac6-ab19-dff9086e9f09",
    "deepnote_to_be_reexecuted": false,
    "source_hash": "ee0f0533",
    "execution_start": 1624686008507,
    "execution_millis": 21,
    "deepnote_cell_type": "code"
   },
   "source": "raw_facebook_social_connectedness_index.columns\nraw_facebook_social_connectedness_index.info()\n# Social Index Density within 50 mile, 100 mile and 500 mile radius:",
   "execution_count": null,
   "outputs": [
    {
     "name": "stdout",
     "text": "<class 'pandas.core.frame.DataFrame'>\nRangeIndex: 3106 entries, 0 to 3105\nData columns (total 11 columns):\n #   Column        Non-Null Count  Dtype  \n---  ------        --------------  -----  \n 0   FIPS          3106 non-null   int64  \n 1   sh050m        3106 non-null   float64\n 2   sh100m        3106 non-null   float64\n 3   sh500m        3106 non-null   float64\n 4   income        3106 non-null   float64\n 5   migration     3106 non-null   float64\n 6   birth         3106 non-null   float64\n 7   death         3106 non-null   float64\n 8   education     3106 non-null   float64\n 9   unemployment  3106 non-null   float64\n 10  election      3106 non-null   float64\ndtypes: float64(10), int64(1)\nmemory usage: 267.0 KB\n",
     "output_type": "stream"
    }
   ]
  },
  {
   "cell_type": "code",
   "metadata": {
    "tags": [],
    "cell_id": "00006-d2d97ead-4aa3-4dd4-a508-48459adec60f",
    "deepnote_to_be_reexecuted": false,
    "source_hash": "869e602e",
    "execution_start": 1624686113811,
    "execution_millis": 17,
    "deepnote_cell_type": "code"
   },
   "source": "raw_landareas_counties.info()",
   "execution_count": null,
   "outputs": [
    {
     "name": "stdout",
     "text": "<class 'pandas.core.frame.DataFrame'>\nRangeIndex: 3234 entries, 0 to 3233\nData columns (total 7 columns):\n #   Column                     Non-Null Count  Dtype \n---  ------                     --------------  ----- \n 0   STATE FIPS                 3234 non-null   int64 \n 1   COUNTY FIPS                3234 non-null   int64 \n 2   STATE/TERRITORY NAME       3234 non-null   object\n 3   COUNTY NAME                3234 non-null   object\n 4    2010 POPULATION           3234 non-null   object\n 5    2015 POPULATION           3218 non-null   object\n 6    LAND AREA (Sqare Miles)   3234 non-null   object\ndtypes: int64(2), object(5)\nmemory usage: 177.0+ KB\n",
     "output_type": "stream"
    }
   ]
  },
  {
   "cell_type": "code",
   "metadata": {
    "tags": [],
    "cell_id": "00007-7f257138-6d88-437e-bcce-c96a05192136",
    "deepnote_to_be_reexecuted": false,
    "source_hash": "80f4a394",
    "execution_start": 1624686138680,
    "execution_millis": 10,
    "deepnote_cell_type": "code"
   },
   "source": "raw_bls_unemployment_2014.head(5)",
   "execution_count": null,
   "outputs": [
    {
     "output_type": "execute_result",
     "execution_count": 23,
     "data": {
      "application/vnd.deepnote.dataframe.v2+json": {
       "row_count": 5,
       "column_count": 10,
       "columns": [
        {
         "name": "LAUS_Code",
         "dtype": "object",
         "stats": {
          "unique_count": 5,
          "nan_count": 0,
          "categories": [
           {
            "name": "CN0100100000000",
            "count": 1
           },
           {
            "name": "CN0100300000000",
            "count": 1
           },
           {
            "name": "3 others",
            "count": 3
           }
          ]
         }
        },
        {
         "name": "S_Code",
         "dtype": "float64",
         "stats": {
          "unique_count": 1,
          "nan_count": 0,
          "min": "1.0",
          "max": "1.0",
          "histogram": [
           {
            "bin_start": 0.5,
            "bin_end": 0.6,
            "count": 0
           },
           {
            "bin_start": 0.6,
            "bin_end": 0.7,
            "count": 0
           },
           {
            "bin_start": 0.7,
            "bin_end": 0.8,
            "count": 0
           },
           {
            "bin_start": 0.8,
            "bin_end": 0.9,
            "count": 0
           },
           {
            "bin_start": 0.9,
            "bin_end": 1,
            "count": 0
           },
           {
            "bin_start": 1,
            "bin_end": 1.1,
            "count": 5
           },
           {
            "bin_start": 1.1,
            "bin_end": 1.2000000000000002,
            "count": 0
           },
           {
            "bin_start": 1.2000000000000002,
            "bin_end": 1.3,
            "count": 0
           },
           {
            "bin_start": 1.3,
            "bin_end": 1.4,
            "count": 0
           },
           {
            "bin_start": 1.4,
            "bin_end": 1.5,
            "count": 0
           }
          ]
         }
        },
        {
         "name": "C_Code",
         "dtype": "float64",
         "stats": {
          "unique_count": 5,
          "nan_count": 0,
          "min": "1.0",
          "max": "9.0",
          "histogram": [
           {
            "bin_start": 1,
            "bin_end": 1.8,
            "count": 1
           },
           {
            "bin_start": 1.8,
            "bin_end": 2.6,
            "count": 0
           },
           {
            "bin_start": 2.6,
            "bin_end": 3.4000000000000004,
            "count": 1
           },
           {
            "bin_start": 3.4000000000000004,
            "bin_end": 4.2,
            "count": 0
           },
           {
            "bin_start": 4.2,
            "bin_end": 5,
            "count": 0
           },
           {
            "bin_start": 5,
            "bin_end": 5.800000000000001,
            "count": 1
           },
           {
            "bin_start": 5.800000000000001,
            "bin_end": 6.6000000000000005,
            "count": 0
           },
           {
            "bin_start": 6.6000000000000005,
            "bin_end": 7.4,
            "count": 1
           },
           {
            "bin_start": 7.4,
            "bin_end": 8.2,
            "count": 0
           },
           {
            "bin_start": 8.2,
            "bin_end": 9,
            "count": 1
           }
          ]
         }
        },
        {
         "name": "County",
         "dtype": "object",
         "stats": {
          "unique_count": 5,
          "nan_count": 0,
          "categories": [
           {
            "name": "Autauga County, AL",
            "count": 1
           },
           {
            "name": "Baldwin County, AL",
            "count": 1
           },
           {
            "name": "3 others",
            "count": 3
           }
          ]
         }
        },
        {
         "name": "Year",
         "dtype": "float64",
         "stats": {
          "unique_count": 1,
          "nan_count": 0,
          "min": "2014.0",
          "max": "2014.0",
          "histogram": [
           {
            "bin_start": 2013.5,
            "bin_end": 2013.6,
            "count": 0
           },
           {
            "bin_start": 2013.6,
            "bin_end": 2013.7,
            "count": 0
           },
           {
            "bin_start": 2013.7,
            "bin_end": 2013.8,
            "count": 0
           },
           {
            "bin_start": 2013.8,
            "bin_end": 2013.9,
            "count": 0
           },
           {
            "bin_start": 2013.9,
            "bin_end": 2014,
            "count": 0
           },
           {
            "bin_start": 2014,
            "bin_end": 2014.1,
            "count": 5
           },
           {
            "bin_start": 2014.1,
            "bin_end": 2014.2,
            "count": 0
           },
           {
            "bin_start": 2014.2,
            "bin_end": 2014.3,
            "count": 0
           },
           {
            "bin_start": 2014.3,
            "bin_end": 2014.4,
            "count": 0
           },
           {
            "bin_start": 2014.4,
            "bin_end": 2014.5,
            "count": 0
           }
          ]
         }
        },
        {
         "name": "Unnamed: 5",
         "dtype": "float64",
         "stats": {
          "unique_count": 0,
          "nan_count": 5,
          "min": null,
          "max": null,
          "histogram": [
           {
            "bin_start": 0,
            "bin_end": 0.1,
            "count": 0
           },
           {
            "bin_start": 0.1,
            "bin_end": 0.2,
            "count": 0
           },
           {
            "bin_start": 0.2,
            "bin_end": 0.30000000000000004,
            "count": 0
           },
           {
            "bin_start": 0.30000000000000004,
            "bin_end": 0.4,
            "count": 0
           },
           {
            "bin_start": 0.4,
            "bin_end": 0.5,
            "count": 0
           },
           {
            "bin_start": 0.5,
            "bin_end": 0.6000000000000001,
            "count": 0
           },
           {
            "bin_start": 0.6000000000000001,
            "bin_end": 0.7000000000000001,
            "count": 0
           },
           {
            "bin_start": 0.7000000000000001,
            "bin_end": 0.8,
            "count": 0
           },
           {
            "bin_start": 0.8,
            "bin_end": 0.9,
            "count": 0
           },
           {
            "bin_start": 0.9,
            "bin_end": 1,
            "count": 0
           }
          ]
         }
        },
        {
         "name": "Labor_Force",
         "dtype": "object",
         "stats": {
          "unique_count": 5,
          "nan_count": 0,
          "categories": [
           {
            "name": "25,639     ",
            "count": 1
           },
           {
            "name": "86,546     ",
            "count": 1
           },
           {
            "name": "3 others",
            "count": 3
           }
          ]
         }
        },
        {
         "name": "Employed",
         "dtype": "object",
         "stats": {
          "unique_count": 5,
          "nan_count": 0,
          "categories": [
           {
            "name": "24,150     ",
            "count": 1
           },
           {
            "name": "81,265     ",
            "count": 1
           },
           {
            "name": "3 others",
            "count": 3
           }
          ]
         }
        },
        {
         "name": "Unemployed",
         "dtype": "object",
         "stats": {
          "unique_count": 5,
          "nan_count": 0,
          "categories": [
           {
            "name": "1,489     ",
            "count": 1
           },
           {
            "name": "5,281     ",
            "count": 1
           },
           {
            "name": "3 others",
            "count": 3
           }
          ]
         }
        },
        {
         "name": "Unemp_Rate",
         "dtype": "float64",
         "stats": {
          "unique_count": 4,
          "nan_count": 0,
          "min": "5.8",
          "max": "10.5",
          "histogram": [
           {
            "bin_start": 5.8,
            "bin_end": 6.27,
            "count": 3
           },
           {
            "bin_start": 6.27,
            "bin_end": 6.74,
            "count": 0
           },
           {
            "bin_start": 6.74,
            "bin_end": 7.21,
            "count": 1
           },
           {
            "bin_start": 7.21,
            "bin_end": 7.68,
            "count": 0
           },
           {
            "bin_start": 7.68,
            "bin_end": 8.15,
            "count": 0
           },
           {
            "bin_start": 8.15,
            "bin_end": 8.620000000000001,
            "count": 0
           },
           {
            "bin_start": 8.620000000000001,
            "bin_end": 9.09,
            "count": 0
           },
           {
            "bin_start": 9.09,
            "bin_end": 9.56,
            "count": 0
           },
           {
            "bin_start": 9.56,
            "bin_end": 10.030000000000001,
            "count": 0
           },
           {
            "bin_start": 10.030000000000001,
            "bin_end": 10.5,
            "count": 1
           }
          ]
         }
        },
        {
         "name": "_deepnote_index_column",
         "dtype": "int64"
        }
       ],
       "rows_top": [
        {
         "LAUS_Code": "CN0100100000000",
         "S_Code": 1,
         "C_Code": 1,
         "County": "Autauga County, AL",
         "Year": 2014,
         "Unnamed: 5": "nan",
         "Labor_Force": "25,639     ",
         "Employed": "24,150     ",
         "Unemployed": "1,489     ",
         "Unemp_Rate": 5.8,
         "_deepnote_index_column": 0
        },
        {
         "LAUS_Code": "CN0100300000000",
         "S_Code": 1,
         "C_Code": 3,
         "County": "Baldwin County, AL",
         "Year": 2014,
         "Unnamed: 5": "nan",
         "Labor_Force": "86,546     ",
         "Employed": "81,265     ",
         "Unemployed": "5,281     ",
         "Unemp_Rate": 6.1,
         "_deepnote_index_column": 1
        },
        {
         "LAUS_Code": "CN0100500000000",
         "S_Code": 1,
         "C_Code": 5,
         "County": "Barbour County, AL",
         "Year": 2014,
         "Unnamed: 5": "nan",
         "Labor_Force": "8,859     ",
         "Employed": "7,930     ",
         "Unemployed": "929     ",
         "Unemp_Rate": 10.5,
         "_deepnote_index_column": 2
        },
        {
         "LAUS_Code": "CN0100700000000",
         "S_Code": 1,
         "C_Code": 7,
         "County": "Bibb County, AL",
         "Year": 2014,
         "Unnamed: 5": "nan",
         "Labor_Force": "8,573     ",
         "Employed": "7,959     ",
         "Unemployed": "614     ",
         "Unemp_Rate": 7.2,
         "_deepnote_index_column": 3
        },
        {
         "LAUS_Code": "CN0100900000000",
         "S_Code": 1,
         "C_Code": 9,
         "County": "Blount County, AL",
         "Year": 2014,
         "Unnamed: 5": "nan",
         "Labor_Force": "24,571     ",
         "Employed": "23,074     ",
         "Unemployed": "1,497     ",
         "Unemp_Rate": 6.1,
         "_deepnote_index_column": 4
        }
       ],
       "rows_bottom": null
      },
      "text/plain": "         LAUS_Code  S_Code  C_Code              County    Year  Unnamed: 5  \\\n0  CN0100100000000     1.0     1.0  Autauga County, AL  2014.0         NaN   \n1  CN0100300000000     1.0     3.0  Baldwin County, AL  2014.0         NaN   \n2  CN0100500000000     1.0     5.0  Barbour County, AL  2014.0         NaN   \n3  CN0100700000000     1.0     7.0     Bibb County, AL  2014.0         NaN   \n4  CN0100900000000     1.0     9.0   Blount County, AL  2014.0         NaN   \n\n   Labor_Force     Employed  Unemployed  Unemp_Rate  \n0  25,639       24,150       1,489              5.8  \n1  86,546       81,265       5,281              6.1  \n2   8,859        7,930         929             10.5  \n3   8,573        7,959         614              7.2  \n4  24,571       23,074       1,497              6.1  ",
      "text/html": "<div>\n<style scoped>\n    .dataframe tbody tr th:only-of-type {\n        vertical-align: middle;\n    }\n\n    .dataframe tbody tr th {\n        vertical-align: top;\n    }\n\n    .dataframe thead th {\n        text-align: right;\n    }\n</style>\n<table border=\"1\" class=\"dataframe\">\n  <thead>\n    <tr style=\"text-align: right;\">\n      <th></th>\n      <th>LAUS_Code</th>\n      <th>S_Code</th>\n      <th>C_Code</th>\n      <th>County</th>\n      <th>Year</th>\n      <th>Unnamed: 5</th>\n      <th>Labor_Force</th>\n      <th>Employed</th>\n      <th>Unemployed</th>\n      <th>Unemp_Rate</th>\n    </tr>\n  </thead>\n  <tbody>\n    <tr>\n      <th>0</th>\n      <td>CN0100100000000</td>\n      <td>1.0</td>\n      <td>1.0</td>\n      <td>Autauga County, AL</td>\n      <td>2014.0</td>\n      <td>NaN</td>\n      <td>25,639</td>\n      <td>24,150</td>\n      <td>1,489</td>\n      <td>5.8</td>\n    </tr>\n    <tr>\n      <th>1</th>\n      <td>CN0100300000000</td>\n      <td>1.0</td>\n      <td>3.0</td>\n      <td>Baldwin County, AL</td>\n      <td>2014.0</td>\n      <td>NaN</td>\n      <td>86,546</td>\n      <td>81,265</td>\n      <td>5,281</td>\n      <td>6.1</td>\n    </tr>\n    <tr>\n      <th>2</th>\n      <td>CN0100500000000</td>\n      <td>1.0</td>\n      <td>5.0</td>\n      <td>Barbour County, AL</td>\n      <td>2014.0</td>\n      <td>NaN</td>\n      <td>8,859</td>\n      <td>7,930</td>\n      <td>929</td>\n      <td>10.5</td>\n    </tr>\n    <tr>\n      <th>3</th>\n      <td>CN0100700000000</td>\n      <td>1.0</td>\n      <td>7.0</td>\n      <td>Bibb County, AL</td>\n      <td>2014.0</td>\n      <td>NaN</td>\n      <td>8,573</td>\n      <td>7,959</td>\n      <td>614</td>\n      <td>7.2</td>\n    </tr>\n    <tr>\n      <th>4</th>\n      <td>CN0100900000000</td>\n      <td>1.0</td>\n      <td>9.0</td>\n      <td>Blount County, AL</td>\n      <td>2014.0</td>\n      <td>NaN</td>\n      <td>24,571</td>\n      <td>23,074</td>\n      <td>1,497</td>\n      <td>6.1</td>\n    </tr>\n  </tbody>\n</table>\n</div>"
     },
     "metadata": {}
    }
   ]
  },
  {
   "cell_type": "code",
   "metadata": {
    "tags": [],
    "cell_id": "00008-f5f3ecf1-b572-49ea-85cb-275f97d46965",
    "deepnote_to_be_reexecuted": false,
    "source_hash": "3753eb83",
    "execution_start": 1624685175636,
    "execution_millis": 264,
    "deepnote_cell_type": "code"
   },
   "source": "raw_ers_detailed_labor.head(2)",
   "execution_count": null,
   "outputs": [
    {
     "output_type": "execute_result",
     "execution_count": 8,
     "data": {
      "application/vnd.deepnote.dataframe.v2+json": {
       "row_count": 2,
       "column_count": 75,
       "columns": [
        {
         "name": "FIPS",
         "dtype": "int64",
         "stats": {
          "unique_count": 2,
          "nan_count": 0,
          "min": "0",
          "max": "1000",
          "histogram": [
           {
            "bin_start": 0,
            "bin_end": 100,
            "count": 1
           },
           {
            "bin_start": 100,
            "bin_end": 200,
            "count": 0
           },
           {
            "bin_start": 200,
            "bin_end": 300,
            "count": 0
           },
           {
            "bin_start": 300,
            "bin_end": 400,
            "count": 0
           },
           {
            "bin_start": 400,
            "bin_end": 500,
            "count": 0
           },
           {
            "bin_start": 500,
            "bin_end": 600,
            "count": 0
           },
           {
            "bin_start": 600,
            "bin_end": 700,
            "count": 0
           },
           {
            "bin_start": 700,
            "bin_end": 800,
            "count": 0
           },
           {
            "bin_start": 800,
            "bin_end": 900,
            "count": 0
           },
           {
            "bin_start": 900,
            "bin_end": 1000,
            "count": 1
           }
          ]
         }
        },
        {
         "name": "State",
         "dtype": "object",
         "stats": {
          "unique_count": 2,
          "nan_count": 0,
          "categories": [
           {
            "name": "US",
            "count": 1
           },
           {
            "name": "AL",
            "count": 1
           }
          ]
         }
        },
        {
         "name": "County",
         "dtype": "object",
         "stats": {
          "unique_count": 2,
          "nan_count": 0,
          "categories": [
           {
            "name": "United States",
            "count": 1
           },
           {
            "name": "Alabama",
            "count": 1
           }
          ]
         }
        },
        {
         "name": "UnempRate2020",
         "dtype": "float64",
         "stats": {
          "unique_count": 2,
          "nan_count": 0,
          "min": "5.9",
          "max": "8.1",
          "histogram": [
           {
            "bin_start": 5.9,
            "bin_end": 6.12,
            "count": 1
           },
           {
            "bin_start": 6.12,
            "bin_end": 6.34,
            "count": 0
           },
           {
            "bin_start": 6.34,
            "bin_end": 6.5600000000000005,
            "count": 0
           },
           {
            "bin_start": 6.5600000000000005,
            "bin_end": 6.78,
            "count": 0
           },
           {
            "bin_start": 6.78,
            "bin_end": 7,
            "count": 0
           },
           {
            "bin_start": 7,
            "bin_end": 7.22,
            "count": 0
           },
           {
            "bin_start": 7.22,
            "bin_end": 7.4399999999999995,
            "count": 0
           },
           {
            "bin_start": 7.4399999999999995,
            "bin_end": 7.66,
            "count": 0
           },
           {
            "bin_start": 7.66,
            "bin_end": 7.88,
            "count": 0
           },
           {
            "bin_start": 7.88,
            "bin_end": 8.1,
            "count": 1
           }
          ]
         }
        },
        {
         "name": "PctEmpChange1920",
         "dtype": "float64",
         "stats": {
          "unique_count": 2,
          "nan_count": 0,
          "min": "-6.0",
          "max": "-3.2",
          "histogram": [
           {
            "bin_start": -6,
            "bin_end": -5.72,
            "count": 1
           },
           {
            "bin_start": -5.72,
            "bin_end": -5.44,
            "count": 0
           },
           {
            "bin_start": -5.44,
            "bin_end": -5.16,
            "count": 0
           },
           {
            "bin_start": -5.16,
            "bin_end": -4.88,
            "count": 0
           },
           {
            "bin_start": -4.88,
            "bin_end": -4.6,
            "count": 0
           },
           {
            "bin_start": -4.6,
            "bin_end": -4.32,
            "count": 0
           },
           {
            "bin_start": -4.32,
            "bin_end": -4.04,
            "count": 0
           },
           {
            "bin_start": -4.04,
            "bin_end": -3.7600000000000002,
            "count": 0
           },
           {
            "bin_start": -3.7600000000000002,
            "bin_end": -3.4800000000000004,
            "count": 0
           },
           {
            "bin_start": -3.4800000000000004,
            "bin_end": -3.2,
            "count": 1
           }
          ]
         }
        },
        {
         "name": "UnempRate2019",
         "dtype": "float64",
         "stats": {
          "unique_count": 2,
          "nan_count": 0,
          "min": "3.0",
          "max": "3.7",
          "histogram": [
           {
            "bin_start": 3,
            "bin_end": 3.07,
            "count": 1
           },
           {
            "bin_start": 3.07,
            "bin_end": 3.14,
            "count": 0
           },
           {
            "bin_start": 3.14,
            "bin_end": 3.21,
            "count": 0
           },
           {
            "bin_start": 3.21,
            "bin_end": 3.2800000000000002,
            "count": 0
           },
           {
            "bin_start": 3.2800000000000002,
            "bin_end": 3.35,
            "count": 0
           },
           {
            "bin_start": 3.35,
            "bin_end": 3.42,
            "count": 0
           },
           {
            "bin_start": 3.42,
            "bin_end": 3.49,
            "count": 0
           },
           {
            "bin_start": 3.49,
            "bin_end": 3.56,
            "count": 0
           },
           {
            "bin_start": 3.56,
            "bin_end": 3.6300000000000003,
            "count": 0
           },
           {
            "bin_start": 3.6300000000000003,
            "bin_end": 3.7,
            "count": 1
           }
          ]
         }
        },
        {
         "name": "PctEmpChange1819",
         "dtype": "float64",
         "stats": {
          "unique_count": 2,
          "nan_count": 0,
          "min": "1.3",
          "max": "2.3",
          "histogram": [
           {
            "bin_start": 1.3,
            "bin_end": 1.4,
            "count": 1
           },
           {
            "bin_start": 1.4,
            "bin_end": 1.5,
            "count": 0
           },
           {
            "bin_start": 1.5,
            "bin_end": 1.6,
            "count": 0
           },
           {
            "bin_start": 1.6,
            "bin_end": 1.7,
            "count": 0
           },
           {
            "bin_start": 1.7,
            "bin_end": 1.7999999999999998,
            "count": 0
           },
           {
            "bin_start": 1.7999999999999998,
            "bin_end": 1.9,
            "count": 0
           },
           {
            "bin_start": 1.9,
            "bin_end": 2,
            "count": 0
           },
           {
            "bin_start": 2,
            "bin_end": 2.0999999999999996,
            "count": 0
           },
           {
            "bin_start": 2.0999999999999996,
            "bin_end": 2.1999999999999997,
            "count": 0
           },
           {
            "bin_start": 2.1999999999999997,
            "bin_end": 2.3,
            "count": 1
           }
          ]
         }
        },
        {
         "name": "UnempRate2018",
         "dtype": "float64",
         "stats": {
          "unique_count": 1,
          "nan_count": 0,
          "min": "3.9",
          "max": "3.9",
          "histogram": [
           {
            "bin_start": 3.4,
            "bin_end": 3.5,
            "count": 0
           },
           {
            "bin_start": 3.5,
            "bin_end": 3.6,
            "count": 0
           },
           {
            "bin_start": 3.6,
            "bin_end": 3.7,
            "count": 0
           },
           {
            "bin_start": 3.7,
            "bin_end": 3.8000000000000003,
            "count": 0
           },
           {
            "bin_start": 3.8000000000000003,
            "bin_end": 3.9000000000000004,
            "count": 2
           },
           {
            "bin_start": 3.9000000000000004,
            "bin_end": 4,
            "count": 0
           },
           {
            "bin_start": 4,
            "bin_end": 4.1000000000000005,
            "count": 0
           },
           {
            "bin_start": 4.1000000000000005,
            "bin_end": 4.2,
            "count": 0
           },
           {
            "bin_start": 4.2,
            "bin_end": 4.300000000000001,
            "count": 0
           },
           {
            "bin_start": 4.300000000000001,
            "bin_end": 4.4,
            "count": 0
           }
          ]
         }
        },
        {
         "name": "UnempRate2017",
         "dtype": "float64",
         "stats": {
          "unique_count": 2,
          "nan_count": 0,
          "min": "4.4",
          "max": "4.6",
          "histogram": [
           {
            "bin_start": 4.4,
            "bin_end": 4.42,
            "count": 1
           },
           {
            "bin_start": 4.42,
            "bin_end": 4.44,
            "count": 0
           },
           {
            "bin_start": 4.44,
            "bin_end": 4.46,
            "count": 0
           },
           {
            "bin_start": 4.46,
            "bin_end": 4.48,
            "count": 0
           },
           {
            "bin_start": 4.48,
            "bin_end": 4.5,
            "count": 0
           },
           {
            "bin_start": 4.5,
            "bin_end": 4.52,
            "count": 0
           },
           {
            "bin_start": 4.52,
            "bin_end": 4.54,
            "count": 0
           },
           {
            "bin_start": 4.54,
            "bin_end": 4.56,
            "count": 0
           },
           {
            "bin_start": 4.56,
            "bin_end": 4.58,
            "count": 0
           },
           {
            "bin_start": 4.58,
            "bin_end": 4.6,
            "count": 1
           }
          ]
         }
        },
        {
         "name": "UnempRate2016",
         "dtype": "float64",
         "stats": {
          "unique_count": 2,
          "nan_count": 0,
          "min": "4.9",
          "max": "5.9",
          "histogram": [
           {
            "bin_start": 4.9,
            "bin_end": 5,
            "count": 1
           },
           {
            "bin_start": 5,
            "bin_end": 5.1000000000000005,
            "count": 0
           },
           {
            "bin_start": 5.1000000000000005,
            "bin_end": 5.2,
            "count": 0
           },
           {
            "bin_start": 5.2,
            "bin_end": 5.300000000000001,
            "count": 0
           },
           {
            "bin_start": 5.300000000000001,
            "bin_end": 5.4,
            "count": 0
           },
           {
            "bin_start": 5.4,
            "bin_end": 5.5,
            "count": 0
           },
           {
            "bin_start": 5.5,
            "bin_end": 5.6000000000000005,
            "count": 0
           },
           {
            "bin_start": 5.6000000000000005,
            "bin_end": 5.7,
            "count": 0
           },
           {
            "bin_start": 5.7,
            "bin_end": 5.800000000000001,
            "count": 0
           },
           {
            "bin_start": 5.800000000000001,
            "bin_end": 5.9,
            "count": 1
           }
          ]
         }
        },
        {
         "name": "UnempRate2015",
         "dtype": "float64",
         "stats": {
          "unique_count": 2,
          "nan_count": 0,
          "min": "5.3",
          "max": "6.1",
          "histogram": [
           {
            "bin_start": 5.3,
            "bin_end": 5.38,
            "count": 1
           },
           {
            "bin_start": 5.38,
            "bin_end": 5.46,
            "count": 0
           },
           {
            "bin_start": 5.46,
            "bin_end": 5.54,
            "count": 0
           },
           {
            "bin_start": 5.54,
            "bin_end": 5.62,
            "count": 0
           },
           {
            "bin_start": 5.62,
            "bin_end": 5.699999999999999,
            "count": 0
           },
           {
            "bin_start": 5.699999999999999,
            "bin_end": 5.779999999999999,
            "count": 0
           },
           {
            "bin_start": 5.779999999999999,
            "bin_end": 5.859999999999999,
            "count": 0
           },
           {
            "bin_start": 5.859999999999999,
            "bin_end": 5.9399999999999995,
            "count": 0
           },
           {
            "bin_start": 5.9399999999999995,
            "bin_end": 6.02,
            "count": 0
           },
           {
            "bin_start": 6.02,
            "bin_end": 6.1,
            "count": 1
           }
          ]
         }
        },
        {
         "name": "UnempRate2014",
         "dtype": "float64",
         "stats": {
          "unique_count": 2,
          "nan_count": 0,
          "min": "6.2",
          "max": "6.7",
          "histogram": [
           {
            "bin_start": 6.2,
            "bin_end": 6.25,
            "count": 1
           },
           {
            "bin_start": 6.25,
            "bin_end": 6.3,
            "count": 0
           },
           {
            "bin_start": 6.3,
            "bin_end": 6.3500000000000005,
            "count": 0
           },
           {
            "bin_start": 6.3500000000000005,
            "bin_end": 6.4,
            "count": 0
           },
           {
            "bin_start": 6.4,
            "bin_end": 6.45,
            "count": 0
           },
           {
            "bin_start": 6.45,
            "bin_end": 6.5,
            "count": 0
           },
           {
            "bin_start": 6.5,
            "bin_end": 6.55,
            "count": 0
           },
           {
            "bin_start": 6.55,
            "bin_end": 6.6000000000000005,
            "count": 0
           },
           {
            "bin_start": 6.6000000000000005,
            "bin_end": 6.65,
            "count": 0
           },
           {
            "bin_start": 6.65,
            "bin_end": 6.7,
            "count": 1
           }
          ]
         }
        },
        {
         "name": "UnempRate2010",
         "dtype": "float64",
         "stats": {
          "unique_count": 2,
          "nan_count": 0,
          "min": "9.6",
          "max": "10.4",
          "histogram": [
           {
            "bin_start": 9.6,
            "bin_end": 9.68,
            "count": 1
           },
           {
            "bin_start": 9.68,
            "bin_end": 9.76,
            "count": 0
           },
           {
            "bin_start": 9.76,
            "bin_end": 9.84,
            "count": 0
           },
           {
            "bin_start": 9.84,
            "bin_end": 9.92,
            "count": 0
           },
           {
            "bin_start": 9.92,
            "bin_end": 10,
            "count": 0
           },
           {
            "bin_start": 10,
            "bin_end": 10.08,
            "count": 0
           },
           {
            "bin_start": 10.08,
            "bin_end": 10.16,
            "count": 0
           },
           {
            "bin_start": 10.16,
            "bin_end": 10.24,
            "count": 0
           },
           {
            "bin_start": 10.24,
            "bin_end": 10.32,
            "count": 0
           },
           {
            "bin_start": 10.32,
            "bin_end": 10.4,
            "count": 1
           }
          ]
         }
        },
        {
         "name": "UnempRate2007",
         "dtype": "float64",
         "stats": {
          "unique_count": 2,
          "nan_count": 0,
          "min": "4.1",
          "max": "4.6",
          "histogram": [
           {
            "bin_start": 4.1,
            "bin_end": 4.1499999999999995,
            "count": 1
           },
           {
            "bin_start": 4.1499999999999995,
            "bin_end": 4.199999999999999,
            "count": 0
           },
           {
            "bin_start": 4.199999999999999,
            "bin_end": 4.25,
            "count": 0
           },
           {
            "bin_start": 4.25,
            "bin_end": 4.3,
            "count": 0
           },
           {
            "bin_start": 4.3,
            "bin_end": 4.35,
            "count": 0
           },
           {
            "bin_start": 4.35,
            "bin_end": 4.3999999999999995,
            "count": 0
           },
           {
            "bin_start": 4.3999999999999995,
            "bin_end": 4.449999999999999,
            "count": 0
           },
           {
            "bin_start": 4.449999999999999,
            "bin_end": 4.5,
            "count": 0
           },
           {
            "bin_start": 4.5,
            "bin_end": 4.55,
            "count": 0
           },
           {
            "bin_start": 4.55,
            "bin_end": 4.6,
            "count": 1
           }
          ]
         }
        },
        {
         "name": "PctEmpChange1020",
         "dtype": "float64",
         "stats": {
          "unique_count": 2,
          "nan_count": 0,
          "min": "5.9",
          "max": "6.6",
          "histogram": [
           {
            "bin_start": 5.9,
            "bin_end": 5.970000000000001,
            "count": 1
           },
           {
            "bin_start": 5.970000000000001,
            "bin_end": 6.04,
            "count": 0
           },
           {
            "bin_start": 6.04,
            "bin_end": 6.11,
            "count": 0
           },
           {
            "bin_start": 6.11,
            "bin_end": 6.18,
            "count": 0
           },
           {
            "bin_start": 6.18,
            "bin_end": 6.25,
            "count": 0
           },
           {
            "bin_start": 6.25,
            "bin_end": 6.32,
            "count": 0
           },
           {
            "bin_start": 6.32,
            "bin_end": 6.39,
            "count": 0
           },
           {
            "bin_start": 6.39,
            "bin_end": 6.46,
            "count": 0
           },
           {
            "bin_start": 6.46,
            "bin_end": 6.529999999999999,
            "count": 0
           },
           {
            "bin_start": 6.529999999999999,
            "bin_end": 6.6,
            "count": 1
           }
          ]
         }
        },
        {
         "name": "PctEmpChange0720",
         "dtype": "float64",
         "stats": {
          "unique_count": 2,
          "nan_count": 0,
          "min": "0.3",
          "max": "1.7",
          "histogram": [
           {
            "bin_start": 0.3,
            "bin_end": 0.43999999999999995,
            "count": 1
           },
           {
            "bin_start": 0.43999999999999995,
            "bin_end": 0.58,
            "count": 0
           },
           {
            "bin_start": 0.58,
            "bin_end": 0.72,
            "count": 0
           },
           {
            "bin_start": 0.72,
            "bin_end": 0.8599999999999999,
            "count": 0
           },
           {
            "bin_start": 0.8599999999999999,
            "bin_end": 1,
            "count": 0
           },
           {
            "bin_start": 1,
            "bin_end": 1.14,
            "count": 0
           },
           {
            "bin_start": 1.14,
            "bin_end": 1.2799999999999998,
            "count": 0
           },
           {
            "bin_start": 1.2799999999999998,
            "bin_end": 1.42,
            "count": 0
           },
           {
            "bin_start": 1.42,
            "bin_end": 1.5599999999999998,
            "count": 0
           },
           {
            "bin_start": 1.5599999999999998,
            "bin_end": 1.7,
            "count": 1
           }
          ]
         }
        },
        {
         "name": "PctEmpChange0710",
         "dtype": "float64",
         "stats": {
          "unique_count": 2,
          "nan_count": 0,
          "min": "-5.9",
          "max": "-4.0",
          "histogram": [
           {
            "bin_start": -5.9,
            "bin_end": -5.71,
            "count": 1
           },
           {
            "bin_start": -5.71,
            "bin_end": -5.5200000000000005,
            "count": 0
           },
           {
            "bin_start": -5.5200000000000005,
            "bin_end": -5.33,
            "count": 0
           },
           {
            "bin_start": -5.33,
            "bin_end": -5.140000000000001,
            "count": 0
           },
           {
            "bin_start": -5.140000000000001,
            "bin_end": -4.95,
            "count": 0
           },
           {
            "bin_start": -4.95,
            "bin_end": -4.76,
            "count": 0
           },
           {
            "bin_start": -4.76,
            "bin_end": -4.57,
            "count": 0
           },
           {
            "bin_start": -4.57,
            "bin_end": -4.38,
            "count": 0
           },
           {
            "bin_start": -4.38,
            "bin_end": -4.19,
            "count": 0
           },
           {
            "bin_start": -4.19,
            "bin_end": -4,
            "count": 1
           }
          ]
         }
        },
        {
         "name": "PctEmpAgriculture",
         "dtype": "float64",
         "stats": {
          "unique_count": 2,
          "nan_count": 0,
          "min": "0.993189611",
          "max": "1.259202071",
          "histogram": [
           {
            "bin_start": 0.993189611,
            "bin_end": 1.019790857,
            "count": 1
           },
           {
            "bin_start": 1.019790857,
            "bin_end": 1.046392103,
            "count": 0
           },
           {
            "bin_start": 1.046392103,
            "bin_end": 1.072993349,
            "count": 0
           },
           {
            "bin_start": 1.072993349,
            "bin_end": 1.0995945950000001,
            "count": 0
           },
           {
            "bin_start": 1.0995945950000001,
            "bin_end": 1.126195841,
            "count": 0
           },
           {
            "bin_start": 1.126195841,
            "bin_end": 1.1527970870000002,
            "count": 0
           },
           {
            "bin_start": 1.1527970870000002,
            "bin_end": 1.179398333,
            "count": 0
           },
           {
            "bin_start": 1.179398333,
            "bin_end": 1.205999579,
            "count": 0
           },
           {
            "bin_start": 1.205999579,
            "bin_end": 1.232600825,
            "count": 0
           },
           {
            "bin_start": 1.232600825,
            "bin_end": 1.259202071,
            "count": 1
           }
          ]
         }
        },
        {
         "name": "PctEmpMining",
         "dtype": "float64",
         "stats": {
          "unique_count": 2,
          "nan_count": 0,
          "min": "0.398210342",
          "max": "0.51272268",
          "histogram": [
           {
            "bin_start": 0.398210342,
            "bin_end": 0.4096615758,
            "count": 1
           },
           {
            "bin_start": 0.4096615758,
            "bin_end": 0.42111280959999997,
            "count": 0
           },
           {
            "bin_start": 0.42111280959999997,
            "bin_end": 0.4325640434,
            "count": 0
           },
           {
            "bin_start": 0.4325640434,
            "bin_end": 0.4440152772,
            "count": 0
           },
           {
            "bin_start": 0.4440152772,
            "bin_end": 0.455466511,
            "count": 0
           },
           {
            "bin_start": 0.455466511,
            "bin_end": 0.4669177448,
            "count": 0
           },
           {
            "bin_start": 0.4669177448,
            "bin_end": 0.4783689786,
            "count": 0
           },
           {
            "bin_start": 0.4783689786,
            "bin_end": 0.48982021239999995,
            "count": 0
           },
           {
            "bin_start": 0.48982021239999995,
            "bin_end": 0.5012714462,
            "count": 0
           },
           {
            "bin_start": 0.5012714462,
            "bin_end": 0.51272268,
            "count": 1
           }
          ]
         }
        },
        {
         "name": "PctEmpConstruction",
         "dtype": "float64",
         "stats": {
          "unique_count": 2,
          "nan_count": 0,
          "min": "6.592261663",
          "max": "6.604989835",
          "histogram": [
           {
            "bin_start": 6.592261663,
            "bin_end": 6.593534480200001,
            "count": 1
           },
           {
            "bin_start": 6.593534480200001,
            "bin_end": 6.5948072974,
            "count": 0
           },
           {
            "bin_start": 6.5948072974,
            "bin_end": 6.5960801146,
            "count": 0
           },
           {
            "bin_start": 6.5960801146,
            "bin_end": 6.5973529318,
            "count": 0
           },
           {
            "bin_start": 6.5973529318,
            "bin_end": 6.598625749,
            "count": 0
           },
           {
            "bin_start": 6.598625749,
            "bin_end": 6.5998985662,
            "count": 0
           },
           {
            "bin_start": 6.5998985662,
            "bin_end": 6.6011713834,
            "count": 0
           },
           {
            "bin_start": 6.6011713834,
            "bin_end": 6.6024442006,
            "count": 0
           },
           {
            "bin_start": 6.6024442006,
            "bin_end": 6.603717017799999,
            "count": 0
           },
           {
            "bin_start": 6.603717017799999,
            "bin_end": 6.604989835,
            "count": 1
           }
          ]
         }
        },
        {
         "name": "PctEmpManufacturing",
         "dtype": "float64",
         "stats": {
          "unique_count": 2,
          "nan_count": 0,
          "min": "10.10800771",
          "max": "14.33256857",
          "histogram": [
           {
            "bin_start": 10.10800771,
            "bin_end": 10.530463796000001,
            "count": 1
           },
           {
            "bin_start": 10.530463796000001,
            "bin_end": 10.952919882,
            "count": 0
           },
           {
            "bin_start": 10.952919882,
            "bin_end": 11.375375968,
            "count": 0
           },
           {
            "bin_start": 11.375375968,
            "bin_end": 11.797832054,
            "count": 0
           },
           {
            "bin_start": 11.797832054,
            "bin_end": 12.220288140000001,
            "count": 0
           },
           {
            "bin_start": 12.220288140000001,
            "bin_end": 12.642744226,
            "count": 0
           },
           {
            "bin_start": 12.642744226,
            "bin_end": 13.065200312,
            "count": 0
           },
           {
            "bin_start": 13.065200312,
            "bin_end": 13.487656397999999,
            "count": 0
           },
           {
            "bin_start": 13.487656397999999,
            "bin_end": 13.910112483999999,
            "count": 0
           },
           {
            "bin_start": 13.910112483999999,
            "bin_end": 14.33256857,
            "count": 1
           }
          ]
         }
        },
        {
         "name": "PctEmpTrade",
         "dtype": "float64",
         "stats": {
          "unique_count": 2,
          "nan_count": 0,
          "min": "13.74533368",
          "max": "14.08373479",
          "histogram": [
           {
            "bin_start": 13.74533368,
            "bin_end": 13.779173791,
            "count": 1
           },
           {
            "bin_start": 13.779173791,
            "bin_end": 13.813013902,
            "count": 0
           },
           {
            "bin_start": 13.813013902,
            "bin_end": 13.846854013,
            "count": 0
           },
           {
            "bin_start": 13.846854013,
            "bin_end": 13.880694124,
            "count": 0
           },
           {
            "bin_start": 13.880694124,
            "bin_end": 13.914534235,
            "count": 0
           },
           {
            "bin_start": 13.914534235,
            "bin_end": 13.948374346,
            "count": 0
           },
           {
            "bin_start": 13.948374346,
            "bin_end": 13.982214457,
            "count": 0
           },
           {
            "bin_start": 13.982214457,
            "bin_end": 14.016054568,
            "count": 0
           },
           {
            "bin_start": 14.016054568,
            "bin_end": 14.049894679,
            "count": 0
           },
           {
            "bin_start": 14.049894679,
            "bin_end": 14.08373479,
            "count": 1
           }
          ]
         }
        },
        {
         "name": "PctEmpTrans",
         "dtype": "float64",
         "stats": {
          "unique_count": 2,
          "nan_count": 0,
          "min": "5.363914233",
          "max": "5.454652081",
          "histogram": [
           {
            "bin_start": 5.363914233,
            "bin_end": 5.3729880178,
            "count": 1
           },
           {
            "bin_start": 5.3729880178,
            "bin_end": 5.3820618026,
            "count": 0
           },
           {
            "bin_start": 5.3820618026,
            "bin_end": 5.3911355874,
            "count": 0
           },
           {
            "bin_start": 5.3911355874,
            "bin_end": 5.4002093722,
            "count": 0
           },
           {
            "bin_start": 5.4002093722,
            "bin_end": 5.409283157,
            "count": 0
           },
           {
            "bin_start": 5.409283157,
            "bin_end": 5.4183569418,
            "count": 0
           },
           {
            "bin_start": 5.4183569418,
            "bin_end": 5.4274307266,
            "count": 0
           },
           {
            "bin_start": 5.4274307266,
            "bin_end": 5.4365045114,
            "count": 0
           },
           {
            "bin_start": 5.4365045114,
            "bin_end": 5.4455782962,
            "count": 0
           },
           {
            "bin_start": 5.4455782962,
            "bin_end": 5.454652081,
            "count": 1
           }
          ]
         }
        },
        {
         "name": "PctEmpInformation",
         "dtype": "float64",
         "stats": {
          "unique_count": 2,
          "nan_count": 0,
          "min": "1.519607282",
          "max": "2.011223234",
          "histogram": [
           {
            "bin_start": 1.519607282,
            "bin_end": 1.5687688772,
            "count": 1
           },
           {
            "bin_start": 1.5687688772,
            "bin_end": 1.6179304723999999,
            "count": 0
           },
           {
            "bin_start": 1.6179304723999999,
            "bin_end": 1.6670920676,
            "count": 0
           },
           {
            "bin_start": 1.6670920676,
            "bin_end": 1.7162536628,
            "count": 0
           },
           {
            "bin_start": 1.7162536628,
            "bin_end": 1.765415258,
            "count": 0
           },
           {
            "bin_start": 1.765415258,
            "bin_end": 1.8145768532,
            "count": 0
           },
           {
            "bin_start": 1.8145768532,
            "bin_end": 1.8637384484,
            "count": 0
           },
           {
            "bin_start": 1.8637384484,
            "bin_end": 1.9129000436,
            "count": 0
           },
           {
            "bin_start": 1.9129000436,
            "bin_end": 1.9620616388,
            "count": 0
           },
           {
            "bin_start": 1.9620616388,
            "bin_end": 2.011223234,
            "count": 1
           }
          ]
         }
        },
        {
         "name": "PctEmpFIRE",
         "dtype": "float64",
         "stats": {
          "unique_count": 2,
          "nan_count": 0,
          "min": "5.523166001",
          "max": "6.555840064",
          "histogram": [
           {
            "bin_start": 5.523166001,
            "bin_end": 5.6264334072999995,
            "count": 1
           },
           {
            "bin_start": 5.6264334072999995,
            "bin_end": 5.7297008136,
            "count": 0
           },
           {
            "bin_start": 5.7297008136,
            "bin_end": 5.8329682199,
            "count": 0
           },
           {
            "bin_start": 5.8329682199,
            "bin_end": 5.9362356262,
            "count": 0
           },
           {
            "bin_start": 5.9362356262,
            "bin_end": 6.0395030325,
            "count": 0
           },
           {
            "bin_start": 6.0395030325,
            "bin_end": 6.1427704387999995,
            "count": 0
           },
           {
            "bin_start": 6.1427704387999995,
            "bin_end": 6.2460378451,
            "count": 0
           },
           {
            "bin_start": 6.2460378451,
            "bin_end": 6.3493052514,
            "count": 0
           },
           {
            "bin_start": 6.3493052514,
            "bin_end": 6.4525726577,
            "count": 0
           },
           {
            "bin_start": 6.4525726577,
            "bin_end": 6.555840064,
            "count": 1
           }
          ]
         }
        },
        {
         "name": "PctEmpServices",
         "dtype": "float64",
         "stats": {
          "unique_count": 2,
          "nan_count": 0,
          "min": "45.67804465",
          "max": "49.24412879",
          "histogram": [
           {
            "bin_start": 45.67804465,
            "bin_end": 46.034653064,
            "count": 1
           },
           {
            "bin_start": 46.034653064,
            "bin_end": 46.391261478,
            "count": 0
           },
           {
            "bin_start": 46.391261478,
            "bin_end": 46.747869892,
            "count": 0
           },
           {
            "bin_start": 46.747869892,
            "bin_end": 47.104478306,
            "count": 0
           },
           {
            "bin_start": 47.104478306,
            "bin_end": 47.46108672,
            "count": 0
           },
           {
            "bin_start": 47.46108672,
            "bin_end": 47.817695134,
            "count": 0
           },
           {
            "bin_start": 47.817695134,
            "bin_end": 48.174303548,
            "count": 0
           },
           {
            "bin_start": 48.174303548,
            "bin_end": 48.530911962,
            "count": 0
           },
           {
            "bin_start": 48.530911962,
            "bin_end": 48.887520376,
            "count": 0
           },
           {
            "bin_start": 48.887520376,
            "bin_end": 49.24412879,
            "count": 1
           }
          ]
         }
        },
        {
         "name": "PctEmpGovt",
         "dtype": "float64",
         "stats": {
          "unique_count": 2,
          "nan_count": 0,
          "min": "4.60736588",
          "max": "5.411836841",
          "histogram": [
           {
            "bin_start": 4.60736588,
            "bin_end": 4.6878129761,
            "count": 1
           },
           {
            "bin_start": 4.6878129761,
            "bin_end": 4.7682600721999995,
            "count": 0
           },
           {
            "bin_start": 4.7682600721999995,
            "bin_end": 4.8487071683,
            "count": 0
           },
           {
            "bin_start": 4.8487071683,
            "bin_end": 4.9291542644,
            "count": 0
           },
           {
            "bin_start": 4.9291542644,
            "bin_end": 5.0096013605,
            "count": 0
           },
           {
            "bin_start": 5.0096013605,
            "bin_end": 5.0900484566,
            "count": 0
           },
           {
            "bin_start": 5.0900484566,
            "bin_end": 5.1704955527,
            "count": 0
           },
           {
            "bin_start": 5.1704955527,
            "bin_end": 5.250942648800001,
            "count": 0
           },
           {
            "bin_start": 5.250942648800001,
            "bin_end": 5.3313897449,
            "count": 0
           },
           {
            "bin_start": 5.3313897449,
            "bin_end": 5.411836841,
            "count": 1
           }
          ]
         }
        },
        {
         "name": "NumCivEmployed",
         "dtype": "float64",
         "stats": {
          "unique_count": 2,
          "nan_count": 0,
          "min": "2097384.0",
          "max": "154842185.0",
          "histogram": [
           {
            "bin_start": 2097384,
            "bin_end": 17371864.1,
            "count": 1
           },
           {
            "bin_start": 17371864.1,
            "bin_end": 32646344.2,
            "count": 0
           },
           {
            "bin_start": 32646344.2,
            "bin_end": 47920824.3,
            "count": 0
           },
           {
            "bin_start": 47920824.3,
            "bin_end": 63195304.4,
            "count": 0
           },
           {
            "bin_start": 63195304.4,
            "bin_end": 78469784.5,
            "count": 0
           },
           {
            "bin_start": 78469784.5,
            "bin_end": 93744264.6,
            "count": 0
           },
           {
            "bin_start": 93744264.6,
            "bin_end": 109018744.7,
            "count": 0
           },
           {
            "bin_start": 109018744.7,
            "bin_end": 124293224.8,
            "count": 0
           },
           {
            "bin_start": 124293224.8,
            "bin_end": 139567704.9,
            "count": 0
           },
           {
            "bin_start": 139567704.9,
            "bin_end": 154842185,
            "count": 1
           }
          ]
         }
        },
        {
         "name": "NumCivLaborForce2012",
         "dtype": "float64",
         "stats": {
          "unique_count": 2,
          "nan_count": 0,
          "min": "2178508.0",
          "max": "155038121.0",
          "histogram": [
           {
            "bin_start": 2178508,
            "bin_end": 17464469.3,
            "count": 1
           },
           {
            "bin_start": 17464469.3,
            "bin_end": 32750430.6,
            "count": 0
           },
           {
            "bin_start": 32750430.6,
            "bin_end": 48036391.900000006,
            "count": 0
           },
           {
            "bin_start": 48036391.900000006,
            "bin_end": 63322353.2,
            "count": 0
           },
           {
            "bin_start": 63322353.2,
            "bin_end": 78608314.5,
            "count": 0
           },
           {
            "bin_start": 78608314.5,
            "bin_end": 93894275.80000001,
            "count": 0
           },
           {
            "bin_start": 93894275.80000001,
            "bin_end": 109180237.10000001,
            "count": 0
           },
           {
            "bin_start": 109180237.10000001,
            "bin_end": 124466198.4,
            "count": 0
           },
           {
            "bin_start": 124466198.4,
            "bin_end": 139752159.70000002,
            "count": 0
           },
           {
            "bin_start": 139752159.70000002,
            "bin_end": 155038121,
            "count": 1
           }
          ]
         }
        },
        {
         "name": "NumUnemployed2011",
         "dtype": "float64",
         "stats": {
          "unique_count": 2,
          "nan_count": 0,
          "min": "210958.0",
          "max": "13831817.0",
          "histogram": [
           {
            "bin_start": 210958,
            "bin_end": 1573043.9,
            "count": 1
           },
           {
            "bin_start": 1573043.9,
            "bin_end": 2935129.8,
            "count": 0
           },
           {
            "bin_start": 2935129.8,
            "bin_end": 4297215.699999999,
            "count": 0
           },
           {
            "bin_start": 4297215.699999999,
            "bin_end": 5659301.6,
            "count": 0
           },
           {
            "bin_start": 5659301.6,
            "bin_end": 7021387.5,
            "count": 0
           },
           {
            "bin_start": 7021387.5,
            "bin_end": 8383473.399999999,
            "count": 0
           },
           {
            "bin_start": 8383473.399999999,
            "bin_end": 9745559.299999999,
            "count": 0
           },
           {
            "bin_start": 9745559.299999999,
            "bin_end": 11107645.2,
            "count": 0
           },
           {
            "bin_start": 11107645.2,
            "bin_end": 12469731.1,
            "count": 0
           },
           {
            "bin_start": 12469731.1,
            "bin_end": 13831817,
            "count": 1
           }
          ]
         }
        },
        {
         "name": "UnempRate2012",
         "dtype": "float64",
         "stats": {
          "unique_count": 2,
          "nan_count": 0,
          "min": "8.1",
          "max": "8.2",
          "histogram": [
           {
            "bin_start": 8.1,
            "bin_end": 8.11,
            "count": 1
           },
           {
            "bin_start": 8.11,
            "bin_end": 8.12,
            "count": 0
           },
           {
            "bin_start": 8.12,
            "bin_end": 8.129999999999999,
            "count": 0
           },
           {
            "bin_start": 8.129999999999999,
            "bin_end": 8.139999999999999,
            "count": 0
           },
           {
            "bin_start": 8.139999999999999,
            "bin_end": 8.149999999999999,
            "count": 0
           },
           {
            "bin_start": 8.149999999999999,
            "bin_end": 8.16,
            "count": 0
           },
           {
            "bin_start": 8.16,
            "bin_end": 8.17,
            "count": 0
           },
           {
            "bin_start": 8.17,
            "bin_end": 8.18,
            "count": 0
           },
           {
            "bin_start": 8.18,
            "bin_end": 8.19,
            "count": 0
           },
           {
            "bin_start": 8.19,
            "bin_end": 8.2,
            "count": 1
           }
          ]
         }
        },
        {
         "name": "NumEmployed2011",
         "dtype": "float64",
         "stats": {
          "unique_count": 2,
          "nan_count": 0,
          "min": "1991379.0",
          "max": "140688861.0",
          "histogram": [
           {
            "bin_start": 1991379,
            "bin_end": 15861127.2,
            "count": 1
           },
           {
            "bin_start": 15861127.2,
            "bin_end": 29730875.4,
            "count": 0
           },
           {
            "bin_start": 29730875.4,
            "bin_end": 43600623.599999994,
            "count": 0
           },
           {
            "bin_start": 43600623.599999994,
            "bin_end": 57470371.8,
            "count": 0
           },
           {
            "bin_start": 57470371.8,
            "bin_end": 71340120,
            "count": 0
           },
           {
            "bin_start": 71340120,
            "bin_end": 85209868.19999999,
            "count": 0
           },
           {
            "bin_start": 85209868.19999999,
            "bin_end": 99079616.39999999,
            "count": 0
           },
           {
            "bin_start": 99079616.39999999,
            "bin_end": 112949364.6,
            "count": 0
           },
           {
            "bin_start": 112949364.6,
            "bin_end": 126819112.8,
            "count": 0
           },
           {
            "bin_start": 126819112.8,
            "bin_end": 140688861,
            "count": 1
           }
          ]
         }
        },
        {
         "name": "NumEmployed2012",
         "dtype": "float64",
         "stats": {
          "unique_count": 2,
          "nan_count": 0,
          "min": "2000848.0",
          "max": "142527201.0",
          "histogram": [
           {
            "bin_start": 2000848,
            "bin_end": 16053483.3,
            "count": 1
           },
           {
            "bin_start": 16053483.3,
            "bin_end": 30106118.6,
            "count": 0
           },
           {
            "bin_start": 30106118.6,
            "bin_end": 44158753.900000006,
            "count": 0
           },
           {
            "bin_start": 44158753.900000006,
            "bin_end": 58211389.2,
            "count": 0
           },
           {
            "bin_start": 58211389.2,
            "bin_end": 72264024.5,
            "count": 0
           },
           {
            "bin_start": 72264024.5,
            "bin_end": 86316659.80000001,
            "count": 0
           },
           {
            "bin_start": 86316659.80000001,
            "bin_end": 100369295.10000001,
            "count": 0
           },
           {
            "bin_start": 100369295.10000001,
            "bin_end": 114421930.4,
            "count": 0
           },
           {
            "bin_start": 114421930.4,
            "bin_end": 128474565.7,
            "count": 0
           },
           {
            "bin_start": 128474565.7,
            "bin_end": 142527201,
            "count": 1
           }
          ]
         }
        },
        {
         "name": "NumCivLaborForce2011",
         "dtype": "float64",
         "stats": {
          "unique_count": 2,
          "nan_count": 0,
          "min": "2202337.0",
          "max": "154520678.0",
          "histogram": [
           {
            "bin_start": 2202337,
            "bin_end": 17434171.1,
            "count": 1
           },
           {
            "bin_start": 17434171.1,
            "bin_end": 32666005.2,
            "count": 0
           },
           {
            "bin_start": 32666005.2,
            "bin_end": 47897839.3,
            "count": 0
           },
           {
            "bin_start": 47897839.3,
            "bin_end": 63129673.4,
            "count": 0
           },
           {
            "bin_start": 63129673.4,
            "bin_end": 78361507.5,
            "count": 0
           },
           {
            "bin_start": 78361507.5,
            "bin_end": 93593341.6,
            "count": 0
           },
           {
            "bin_start": 93593341.6,
            "bin_end": 108825175.7,
            "count": 0
           },
           {
            "bin_start": 108825175.7,
            "bin_end": 124057009.8,
            "count": 0
           },
           {
            "bin_start": 124057009.8,
            "bin_end": 139288843.9,
            "count": 0
           },
           {
            "bin_start": 139288843.9,
            "bin_end": 154520678,
            "count": 1
           }
          ]
         }
        },
        {
         "name": "UnempRate2011",
         "dtype": "float64",
         "stats": {
          "unique_count": 2,
          "nan_count": 0,
          "min": "9.0",
          "max": "9.6",
          "histogram": [
           {
            "bin_start": 9,
            "bin_end": 9.06,
            "count": 1
           },
           {
            "bin_start": 9.06,
            "bin_end": 9.12,
            "count": 0
           },
           {
            "bin_start": 9.12,
            "bin_end": 9.18,
            "count": 0
           },
           {
            "bin_start": 9.18,
            "bin_end": 9.24,
            "count": 0
           },
           {
            "bin_start": 9.24,
            "bin_end": 9.3,
            "count": 0
           },
           {
            "bin_start": 9.3,
            "bin_end": 9.36,
            "count": 0
           },
           {
            "bin_start": 9.36,
            "bin_end": 9.42,
            "count": 0
           },
           {
            "bin_start": 9.42,
            "bin_end": 9.48,
            "count": 0
           },
           {
            "bin_start": 9.48,
            "bin_end": 9.54,
            "count": 0
           },
           {
            "bin_start": 9.54,
            "bin_end": 9.6,
            "count": 1
           }
          ]
         }
        },
        {
         "name": "NumUnemployed2010",
         "dtype": "float64",
         "stats": {
          "unique_count": 2,
          "nan_count": 0,
          "min": "228204.0",
          "max": "14860707.0",
          "histogram": [
           {
            "bin_start": 228204,
            "bin_end": 1691454.3,
            "count": 1
           },
           {
            "bin_start": 1691454.3,
            "bin_end": 3154704.6,
            "count": 0
           },
           {
            "bin_start": 3154704.6,
            "bin_end": 4617954.9,
            "count": 0
           },
           {
            "bin_start": 4617954.9,
            "bin_end": 6081205.2,
            "count": 0
           },
           {
            "bin_start": 6081205.2,
            "bin_end": 7544455.5,
            "count": 0
           },
           {
            "bin_start": 7544455.5,
            "bin_end": 9007705.8,
            "count": 0
           },
           {
            "bin_start": 9007705.8,
            "bin_end": 10470956.1,
            "count": 0
           },
           {
            "bin_start": 10470956.1,
            "bin_end": 11934206.4,
            "count": 0
           },
           {
            "bin_start": 11934206.4,
            "bin_end": 13397456.700000001,
            "count": 0
           },
           {
            "bin_start": 13397456.700000001,
            "bin_end": 14860707,
            "count": 1
           }
          ]
         }
        },
        {
         "name": "NumEmployed2010",
         "dtype": "float64",
         "stats": {
          "unique_count": 2,
          "nan_count": 0,
          "min": "1968824.0",
          "max": "139393814.0",
          "histogram": [
           {
            "bin_start": 1968824,
            "bin_end": 15711323,
            "count": 1
           },
           {
            "bin_start": 15711323,
            "bin_end": 29453822,
            "count": 0
           },
           {
            "bin_start": 29453822,
            "bin_end": 43196321,
            "count": 0
           },
           {
            "bin_start": 43196321,
            "bin_end": 56938820,
            "count": 0
           },
           {
            "bin_start": 56938820,
            "bin_end": 70681319,
            "count": 0
           },
           {
            "bin_start": 70681319,
            "bin_end": 84423818,
            "count": 0
           },
           {
            "bin_start": 84423818,
            "bin_end": 98166317,
            "count": 0
           },
           {
            "bin_start": 98166317,
            "bin_end": 111908816,
            "count": 0
           },
           {
            "bin_start": 111908816,
            "bin_end": 125651315,
            "count": 0
           },
           {
            "bin_start": 125651315,
            "bin_end": 139393814,
            "count": 1
           }
          ]
         }
        },
        {
         "name": "NumCivLaborForce2010",
         "dtype": "float64",
         "stats": {
          "unique_count": 2,
          "nan_count": 0,
          "min": "2197028.0",
          "max": "154254521.0",
          "histogram": [
           {
            "bin_start": 2197028,
            "bin_end": 17402777.3,
            "count": 1
           },
           {
            "bin_start": 17402777.3,
            "bin_end": 32608526.6,
            "count": 0
           },
           {
            "bin_start": 32608526.6,
            "bin_end": 47814275.900000006,
            "count": 0
           },
           {
            "bin_start": 47814275.900000006,
            "bin_end": 63020025.2,
            "count": 0
           },
           {
            "bin_start": 63020025.2,
            "bin_end": 78225774.5,
            "count": 0
           },
           {
            "bin_start": 78225774.5,
            "bin_end": 93431523.80000001,
            "count": 0
           },
           {
            "bin_start": 93431523.80000001,
            "bin_end": 108637273.10000001,
            "count": 0
           },
           {
            "bin_start": 108637273.10000001,
            "bin_end": 123843022.4,
            "count": 0
           },
           {
            "bin_start": 123843022.4,
            "bin_end": 139048771.70000002,
            "count": 0
           },
           {
            "bin_start": 139048771.70000002,
            "bin_end": 154254521,
            "count": 1
           }
          ]
         }
        },
        {
         "name": "NumUnemployed2009",
         "dtype": "float64",
         "stats": {
          "unique_count": 2,
          "nan_count": 0,
          "min": "217809.0",
          "max": "14230755.0",
          "histogram": [
           {
            "bin_start": 217809,
            "bin_end": 1619103.6,
            "count": 1
           },
           {
            "bin_start": 1619103.6,
            "bin_end": 3020398.2,
            "count": 0
           },
           {
            "bin_start": 3020398.2,
            "bin_end": 4421692.800000001,
            "count": 0
           },
           {
            "bin_start": 4421692.800000001,
            "bin_end": 5822987.4,
            "count": 0
           },
           {
            "bin_start": 5822987.4,
            "bin_end": 7224282,
            "count": 0
           },
           {
            "bin_start": 7224282,
            "bin_end": 8625576.600000001,
            "count": 0
           },
           {
            "bin_start": 8625576.600000001,
            "bin_end": 10026871.200000001,
            "count": 0
           },
           {
            "bin_start": 10026871.200000001,
            "bin_end": 11428165.8,
            "count": 0
           },
           {
            "bin_start": 11428165.8,
            "bin_end": 12829460.4,
            "count": 0
           },
           {
            "bin_start": 12829460.4,
            "bin_end": 14230755,
            "count": 1
           }
          ]
         }
        },
        {
         "name": "NumEmployed2009",
         "dtype": "float64",
         "stats": {
          "unique_count": 2,
          "nan_count": 0,
          "min": "1938784.0",
          "max": "139594699.0",
          "histogram": [
           {
            "bin_start": 1938784,
            "bin_end": 15704375.5,
            "count": 1
           },
           {
            "bin_start": 15704375.5,
            "bin_end": 29469967,
            "count": 0
           },
           {
            "bin_start": 29469967,
            "bin_end": 43235558.5,
            "count": 0
           },
           {
            "bin_start": 43235558.5,
            "bin_end": 57001150,
            "count": 0
           },
           {
            "bin_start": 57001150,
            "bin_end": 70766741.5,
            "count": 0
           },
           {
            "bin_start": 70766741.5,
            "bin_end": 84532333,
            "count": 0
           },
           {
            "bin_start": 84532333,
            "bin_end": 98297924.5,
            "count": 0
           },
           {
            "bin_start": 98297924.5,
            "bin_end": 112063516,
            "count": 0
           },
           {
            "bin_start": 112063516,
            "bin_end": 125829107.5,
            "count": 0
           },
           {
            "bin_start": 125829107.5,
            "bin_end": 139594699,
            "count": 1
           }
          ]
         }
        },
        {
         "name": "NumCivLaborForce2009",
         "dtype": "float64",
         "stats": {
          "unique_count": 2,
          "nan_count": 0,
          "min": "2156593.0",
          "max": "153825454.0",
          "histogram": [
           {
            "bin_start": 2156593,
            "bin_end": 17323479.1,
            "count": 1
           },
           {
            "bin_start": 17323479.1,
            "bin_end": 32490365.2,
            "count": 0
           },
           {
            "bin_start": 32490365.2,
            "bin_end": 47657251.3,
            "count": 0
           },
           {
            "bin_start": 47657251.3,
            "bin_end": 62824137.4,
            "count": 0
           },
           {
            "bin_start": 62824137.4,
            "bin_end": 77991023.5,
            "count": 0
           },
           {
            "bin_start": 77991023.5,
            "bin_end": 93157909.6,
            "count": 0
           },
           {
            "bin_start": 93157909.6,
            "bin_end": 108324795.7,
            "count": 0
           },
           {
            "bin_start": 108324795.7,
            "bin_end": 123491681.8,
            "count": 0
           },
           {
            "bin_start": 123491681.8,
            "bin_end": 138658567.9,
            "count": 0
           },
           {
            "bin_start": 138658567.9,
            "bin_end": 153825454,
            "count": 1
           }
          ]
         }
        },
        {
         "name": "NumUnemployed2008",
         "dtype": "float64",
         "stats": {
          "unique_count": 2,
          "nan_count": 0,
          "min": "127275.0",
          "max": "8900688.0",
          "histogram": [
           {
            "bin_start": 127275,
            "bin_end": 1004616.3,
            "count": 1
           },
           {
            "bin_start": 1004616.3,
            "bin_end": 1881957.6,
            "count": 0
           },
           {
            "bin_start": 1881957.6,
            "bin_end": 2759298.9000000004,
            "count": 0
           },
           {
            "bin_start": 2759298.9000000004,
            "bin_end": 3636640.2,
            "count": 0
           },
           {
            "bin_start": 3636640.2,
            "bin_end": 4513981.5,
            "count": 0
           },
           {
            "bin_start": 4513981.5,
            "bin_end": 5391322.800000001,
            "count": 0
           },
           {
            "bin_start": 5391322.800000001,
            "bin_end": 6268664.100000001,
            "count": 0
           },
           {
            "bin_start": 6268664.100000001,
            "bin_end": 7146005.4,
            "count": 0
           },
           {
            "bin_start": 7146005.4,
            "bin_end": 8023346.7,
            "count": 0
           },
           {
            "bin_start": 8023346.7,
            "bin_end": 8900688,
            "count": 1
           }
          ]
         }
        },
        {
         "name": "UnempRate2013",
         "dtype": "float64",
         "stats": {
          "unique_count": 2,
          "nan_count": 0,
          "min": "7.3",
          "max": "7.4",
          "histogram": [
           {
            "bin_start": 7.3,
            "bin_end": 7.31,
            "count": 1
           },
           {
            "bin_start": 7.31,
            "bin_end": 7.32,
            "count": 0
           },
           {
            "bin_start": 7.32,
            "bin_end": 7.33,
            "count": 0
           },
           {
            "bin_start": 7.33,
            "bin_end": 7.34,
            "count": 0
           },
           {
            "bin_start": 7.34,
            "bin_end": 7.35,
            "count": 0
           },
           {
            "bin_start": 7.35,
            "bin_end": 7.36,
            "count": 0
           },
           {
            "bin_start": 7.36,
            "bin_end": 7.37,
            "count": 0
           },
           {
            "bin_start": 7.37,
            "bin_end": 7.38,
            "count": 0
           },
           {
            "bin_start": 7.38,
            "bin_end": 7.390000000000001,
            "count": 0
           },
           {
            "bin_start": 7.390000000000001,
            "bin_end": 7.4,
            "count": 1
           }
          ]
         }
        },
        {
         "name": "NumEmployed2008",
         "dtype": "float64",
         "stats": {
          "unique_count": 2,
          "nan_count": 0,
          "min": "2049579.0",
          "max": "144860349.0",
          "histogram": [
           {
            "bin_start": 2049579,
            "bin_end": 16330656,
            "count": 1
           },
           {
            "bin_start": 16330656,
            "bin_end": 30611733,
            "count": 0
           },
           {
            "bin_start": 30611733,
            "bin_end": 44892810,
            "count": 0
           },
           {
            "bin_start": 44892810,
            "bin_end": 59173887,
            "count": 0
           },
           {
            "bin_start": 59173887,
            "bin_end": 73454964,
            "count": 0
           },
           {
            "bin_start": 73454964,
            "bin_end": 87736041,
            "count": 0
           },
           {
            "bin_start": 87736041,
            "bin_end": 102017118,
            "count": 0
           },
           {
            "bin_start": 102017118,
            "bin_end": 116298195,
            "count": 0
           },
           {
            "bin_start": 116298195,
            "bin_end": 130579272,
            "count": 0
           },
           {
            "bin_start": 130579272,
            "bin_end": 144860349,
            "count": 1
           }
          ]
         }
        },
        {
         "name": "NumCivLaborForce2008",
         "dtype": "float64",
         "stats": {
          "unique_count": 2,
          "nan_count": 0,
          "min": "2176854.0",
          "max": "153761037.0",
          "histogram": [
           {
            "bin_start": 2176854,
            "bin_end": 17335272.3,
            "count": 1
           },
           {
            "bin_start": 17335272.3,
            "bin_end": 32493690.6,
            "count": 0
           },
           {
            "bin_start": 32493690.6,
            "bin_end": 47652108.900000006,
            "count": 0
           },
           {
            "bin_start": 47652108.900000006,
            "bin_end": 62810527.2,
            "count": 0
           },
           {
            "bin_start": 62810527.2,
            "bin_end": 77968945.5,
            "count": 0
           },
           {
            "bin_start": 77968945.5,
            "bin_end": 93127363.80000001,
            "count": 0
           },
           {
            "bin_start": 93127363.80000001,
            "bin_end": 108285782.10000001,
            "count": 0
           },
           {
            "bin_start": 108285782.10000001,
            "bin_end": 123444200.4,
            "count": 0
           },
           {
            "bin_start": 123444200.4,
            "bin_end": 138602618.70000002,
            "count": 0
           },
           {
            "bin_start": 138602618.70000002,
            "bin_end": 153761037,
            "count": 1
           }
          ]
         }
        },
        {
         "name": "UnempRate2009",
         "dtype": "float64",
         "stats": {
          "unique_count": 2,
          "nan_count": 0,
          "min": "9.3",
          "max": "10.1",
          "histogram": [
           {
            "bin_start": 9.3,
            "bin_end": 9.38,
            "count": 1
           },
           {
            "bin_start": 9.38,
            "bin_end": 9.46,
            "count": 0
           },
           {
            "bin_start": 9.46,
            "bin_end": 9.540000000000001,
            "count": 0
           },
           {
            "bin_start": 9.540000000000001,
            "bin_end": 9.620000000000001,
            "count": 0
           },
           {
            "bin_start": 9.620000000000001,
            "bin_end": 9.7,
            "count": 0
           },
           {
            "bin_start": 9.7,
            "bin_end": 9.78,
            "count": 0
           },
           {
            "bin_start": 9.78,
            "bin_end": 9.86,
            "count": 0
           },
           {
            "bin_start": 9.86,
            "bin_end": 9.94,
            "count": 0
           },
           {
            "bin_start": 9.94,
            "bin_end": 10.02,
            "count": 0
           },
           {
            "bin_start": 10.02,
            "bin_end": 10.1,
            "count": 1
           }
          ]
         }
        },
        {
         "name": "UnempRate2008",
         "dtype": "float64",
         "stats": {
          "unique_count": 1,
          "nan_count": 0,
          "min": "5.8",
          "max": "5.8",
          "histogram": [
           {
            "bin_start": 5.3,
            "bin_end": 5.3999999999999995,
            "count": 0
           },
           {
            "bin_start": 5.3999999999999995,
            "bin_end": 5.5,
            "count": 0
           },
           {
            "bin_start": 5.5,
            "bin_end": 5.6,
            "count": 0
           },
           {
            "bin_start": 5.6,
            "bin_end": 5.7,
            "count": 0
           },
           {
            "bin_start": 5.7,
            "bin_end": 5.8,
            "count": 0
           },
           {
            "bin_start": 5.8,
            "bin_end": 5.9,
            "count": 2
           },
           {
            "bin_start": 5.9,
            "bin_end": 6,
            "count": 0
           },
           {
            "bin_start": 6,
            "bin_end": 6.1,
            "count": 0
           },
           {
            "bin_start": 6.1,
            "bin_end": 6.2,
            "count": 0
           },
           {
            "bin_start": 6.2,
            "bin_end": 6.3,
            "count": 0
           }
          ]
         }
        },
        {
         "name": "NumEmployed2016",
         "dtype": "float64",
         "stats": {
          "unique_count": 2,
          "nan_count": 0,
          "min": "2029157.0",
          "max": "150949349.0",
          "histogram": [
           {
            "bin_start": 2029157,
            "bin_end": 16921176.2,
            "count": 1
           },
           {
            "bin_start": 16921176.2,
            "bin_end": 31813195.4,
            "count": 0
           },
           {
            "bin_start": 31813195.4,
            "bin_end": 46705214.599999994,
            "count": 0
           },
           {
            "bin_start": 46705214.599999994,
            "bin_end": 61597233.8,
            "count": 0
           },
           {
            "bin_start": 61597233.8,
            "bin_end": 76489253,
            "count": 0
           },
           {
            "bin_start": 76489253,
            "bin_end": 91381272.19999999,
            "count": 0
           },
           {
            "bin_start": 91381272.19999999,
            "bin_end": 106273291.39999999,
            "count": 0
           },
           {
            "bin_start": 106273291.39999999,
            "bin_end": 121165310.6,
            "count": 0
           },
           {
            "bin_start": 121165310.6,
            "bin_end": 136057329.8,
            "count": 0
           },
           {
            "bin_start": 136057329.8,
            "bin_end": 150949349,
            "count": 1
           }
          ]
         }
        },
        {
         "name": "NumEmployed2020",
         "dtype": "float64",
         "stats": {
          "unique_count": 2,
          "nan_count": 0,
          "min": "2099062.0",
          "max": "147677360.0",
          "histogram": [
           {
            "bin_start": 2099062,
            "bin_end": 16656891.8,
            "count": 1
           },
           {
            "bin_start": 16656891.8,
            "bin_end": 31214721.6,
            "count": 0
           },
           {
            "bin_start": 31214721.6,
            "bin_end": 45772551.400000006,
            "count": 0
           },
           {
            "bin_start": 45772551.400000006,
            "bin_end": 60330381.2,
            "count": 0
           },
           {
            "bin_start": 60330381.2,
            "bin_end": 74888211,
            "count": 0
           },
           {
            "bin_start": 74888211,
            "bin_end": 89446040.80000001,
            "count": 0
           },
           {
            "bin_start": 89446040.80000001,
            "bin_end": 104003870.60000001,
            "count": 0
           },
           {
            "bin_start": 104003870.60000001,
            "bin_end": 118561700.4,
            "count": 0
           },
           {
            "bin_start": 118561700.4,
            "bin_end": 133119530.2,
            "count": 0
           },
           {
            "bin_start": 133119530.2,
            "bin_end": 147677360,
            "count": 1
           }
          ]
         }
        },
        {
         "name": "NumCivLaborforce2020",
         "dtype": "float64",
         "stats": {
          "unique_count": 2,
          "nan_count": 0,
          "min": "2230118.0",
          "max": "160611064.0",
          "histogram": [
           {
            "bin_start": 2230118,
            "bin_end": 18068212.6,
            "count": 1
           },
           {
            "bin_start": 18068212.6,
            "bin_end": 33906307.2,
            "count": 0
           },
           {
            "bin_start": 33906307.2,
            "bin_end": 49744401.8,
            "count": 0
           },
           {
            "bin_start": 49744401.8,
            "bin_end": 65582496.4,
            "count": 0
           },
           {
            "bin_start": 65582496.4,
            "bin_end": 81420591,
            "count": 0
           },
           {
            "bin_start": 81420591,
            "bin_end": 97258685.6,
            "count": 0
           },
           {
            "bin_start": 97258685.6,
            "bin_end": 113096780.2,
            "count": 0
           },
           {
            "bin_start": 113096780.2,
            "bin_end": 128934874.8,
            "count": 0
           },
           {
            "bin_start": 128934874.8,
            "bin_end": 144772969.4,
            "count": 0
           },
           {
            "bin_start": 144772969.4,
            "bin_end": 160611064,
            "count": 1
           }
          ]
         }
        },
        {
         "name": "NumUnemployed2020",
         "dtype": "float64",
         "stats": {
          "unique_count": 2,
          "nan_count": 0,
          "min": "131056.0",
          "max": "12933704.0",
          "histogram": [
           {
            "bin_start": 131056,
            "bin_end": 1411320.8,
            "count": 1
           },
           {
            "bin_start": 1411320.8,
            "bin_end": 2691585.6,
            "count": 0
           },
           {
            "bin_start": 2691585.6,
            "bin_end": 3971850.4000000004,
            "count": 0
           },
           {
            "bin_start": 3971850.4000000004,
            "bin_end": 5252115.2,
            "count": 0
           },
           {
            "bin_start": 5252115.2,
            "bin_end": 6532380,
            "count": 0
           },
           {
            "bin_start": 6532380,
            "bin_end": 7812644.800000001,
            "count": 0
           },
           {
            "bin_start": 7812644.800000001,
            "bin_end": 9092909.6,
            "count": 0
           },
           {
            "bin_start": 9092909.6,
            "bin_end": 10373174.4,
            "count": 0
           },
           {
            "bin_start": 10373174.4,
            "bin_end": 11653439.200000001,
            "count": 0
           },
           {
            "bin_start": 11653439.200000001,
            "bin_end": 12933704,
            "count": 1
           }
          ]
         }
        },
        {
         "name": "NumEmployed2019",
         "dtype": "float64",
         "stats": {
          "unique_count": 2,
          "nan_count": 0,
          "min": "2169395.0",
          "max": "157154185.0",
          "histogram": [
           {
            "bin_start": 2169395,
            "bin_end": 17667874,
            "count": 1
           },
           {
            "bin_start": 17667874,
            "bin_end": 33166353,
            "count": 0
           },
           {
            "bin_start": 33166353,
            "bin_end": 48664832,
            "count": 0
           },
           {
            "bin_start": 48664832,
            "bin_end": 64163311,
            "count": 0
           },
           {
            "bin_start": 64163311,
            "bin_end": 79661790,
            "count": 0
           },
           {
            "bin_start": 79661790,
            "bin_end": 95160269,
            "count": 0
           },
           {
            "bin_start": 95160269,
            "bin_end": 110658748,
            "count": 0
           },
           {
            "bin_start": 110658748,
            "bin_end": 126157227,
            "count": 0
           },
           {
            "bin_start": 126157227,
            "bin_end": 141655706,
            "count": 0
           },
           {
            "bin_start": 141655706,
            "bin_end": 157154185,
            "count": 1
           }
          ]
         }
        },
        {
         "name": "NumUnemployed2019",
         "dtype": "float64",
         "stats": {
          "unique_count": 2,
          "nan_count": 0,
          "min": "67883.0",
          "max": "5986120.0",
          "histogram": [
           {
            "bin_start": 67883,
            "bin_end": 659706.7,
            "count": 1
           },
           {
            "bin_start": 659706.7,
            "bin_end": 1251530.4,
            "count": 0
           },
           {
            "bin_start": 1251530.4,
            "bin_end": 1843354.0999999999,
            "count": 0
           },
           {
            "bin_start": 1843354.0999999999,
            "bin_end": 2435177.8,
            "count": 0
           },
           {
            "bin_start": 2435177.8,
            "bin_end": 3027001.5,
            "count": 0
           },
           {
            "bin_start": 3027001.5,
            "bin_end": 3618825.1999999997,
            "count": 0
           },
           {
            "bin_start": 3618825.1999999997,
            "bin_end": 4210648.899999999,
            "count": 0
           },
           {
            "bin_start": 4210648.899999999,
            "bin_end": 4802472.6,
            "count": 0
           },
           {
            "bin_start": 4802472.6,
            "bin_end": 5394296.3,
            "count": 0
           },
           {
            "bin_start": 5394296.3,
            "bin_end": 5986120,
            "count": 1
           }
          ]
         }
        },
        {
         "name": "NumCivLaborforce2019",
         "dtype": "float64",
         "stats": {
          "unique_count": 2,
          "nan_count": 0,
          "min": "2237278.0",
          "max": "163140305.0",
          "histogram": [
           {
            "bin_start": 2237278,
            "bin_end": 18327580.7,
            "count": 1
           },
           {
            "bin_start": 18327580.7,
            "bin_end": 34417883.4,
            "count": 0
           },
           {
            "bin_start": 34417883.4,
            "bin_end": 50508186.099999994,
            "count": 0
           },
           {
            "bin_start": 50508186.099999994,
            "bin_end": 66598488.8,
            "count": 0
           },
           {
            "bin_start": 66598488.8,
            "bin_end": 82688791.5,
            "count": 0
           },
           {
            "bin_start": 82688791.5,
            "bin_end": 98779094.19999999,
            "count": 0
           },
           {
            "bin_start": 98779094.19999999,
            "bin_end": 114869396.89999999,
            "count": 0
           },
           {
            "bin_start": 114869396.89999999,
            "bin_end": 130959699.6,
            "count": 0
           },
           {
            "bin_start": 130959699.6,
            "bin_end": 147050002.29999998,
            "count": 0
           },
           {
            "bin_start": 147050002.29999998,
            "bin_end": 163140305,
            "count": 1
           }
          ]
         }
        },
        {
         "name": "NumUnemployed2018",
         "dtype": "float64",
         "stats": {
          "unique_count": 2,
          "nan_count": 0,
          "min": "86315.0",
          "max": "6288584.0",
          "histogram": [
           {
            "bin_start": 86315,
            "bin_end": 706541.9,
            "count": 1
           },
           {
            "bin_start": 706541.9,
            "bin_end": 1326768.8,
            "count": 0
           },
           {
            "bin_start": 1326768.8,
            "bin_end": 1946995.7000000002,
            "count": 0
           },
           {
            "bin_start": 1946995.7000000002,
            "bin_end": 2567222.6,
            "count": 0
           },
           {
            "bin_start": 2567222.6,
            "bin_end": 3187449.5,
            "count": 0
           },
           {
            "bin_start": 3187449.5,
            "bin_end": 3807676.4000000004,
            "count": 0
           },
           {
            "bin_start": 3807676.4000000004,
            "bin_end": 4427903.3,
            "count": 0
           },
           {
            "bin_start": 4427903.3,
            "bin_end": 5048130.2,
            "count": 0
           },
           {
            "bin_start": 5048130.2,
            "bin_end": 5668357.100000001,
            "count": 0
           },
           {
            "bin_start": 5668357.100000001,
            "bin_end": 6288584,
            "count": 1
           }
          ]
         }
        },
        {
         "name": "NumEmployed2018",
         "dtype": "float64",
         "stats": {
          "unique_count": 2,
          "nan_count": 0,
          "min": "2120704.0",
          "max": "155152550.0",
          "histogram": [
           {
            "bin_start": 2120704,
            "bin_end": 17423888.6,
            "count": 1
           },
           {
            "bin_start": 17423888.6,
            "bin_end": 32727073.2,
            "count": 0
           },
           {
            "bin_start": 32727073.2,
            "bin_end": 48030257.8,
            "count": 0
           },
           {
            "bin_start": 48030257.8,
            "bin_end": 63333442.4,
            "count": 0
           },
           {
            "bin_start": 63333442.4,
            "bin_end": 78636627,
            "count": 0
           },
           {
            "bin_start": 78636627,
            "bin_end": 93939811.6,
            "count": 0
           },
           {
            "bin_start": 93939811.6,
            "bin_end": 109242996.2,
            "count": 0
           },
           {
            "bin_start": 109242996.2,
            "bin_end": 124546180.8,
            "count": 0
           },
           {
            "bin_start": 124546180.8,
            "bin_end": 139849365.4,
            "count": 0
           },
           {
            "bin_start": 139849365.4,
            "bin_end": 155152550,
            "count": 1
           }
          ]
         }
        },
        {
         "name": "NumCivLaborforce2018",
         "dtype": "float64",
         "stats": {
          "unique_count": 2,
          "nan_count": 0,
          "min": "2207019.0",
          "max": "161441134.0",
          "histogram": [
           {
            "bin_start": 2207019,
            "bin_end": 18130430.5,
            "count": 1
           },
           {
            "bin_start": 18130430.5,
            "bin_end": 34053842,
            "count": 0
           },
           {
            "bin_start": 34053842,
            "bin_end": 49977253.5,
            "count": 0
           },
           {
            "bin_start": 49977253.5,
            "bin_end": 65900665,
            "count": 0
           },
           {
            "bin_start": 65900665,
            "bin_end": 81824076.5,
            "count": 0
           },
           {
            "bin_start": 81824076.5,
            "bin_end": 97747488,
            "count": 0
           },
           {
            "bin_start": 97747488,
            "bin_end": 113670899.5,
            "count": 0
           },
           {
            "bin_start": 113670899.5,
            "bin_end": 129594311,
            "count": 0
           },
           {
            "bin_start": 129594311,
            "bin_end": 145517722.5,
            "count": 0
           },
           {
            "bin_start": 145517722.5,
            "bin_end": 161441134,
            "count": 1
           }
          ]
         }
        },
        {
         "name": "NumUnemployed2017",
         "dtype": "float64",
         "stats": {
          "unique_count": 2,
          "nan_count": 0,
          "min": "99059.0",
          "max": "6977228.0",
          "histogram": [
           {
            "bin_start": 99059,
            "bin_end": 786875.9,
            "count": 1
           },
           {
            "bin_start": 786875.9,
            "bin_end": 1474692.8,
            "count": 0
           },
           {
            "bin_start": 1474692.8,
            "bin_end": 2162509.7,
            "count": 0
           },
           {
            "bin_start": 2162509.7,
            "bin_end": 2850326.6,
            "count": 0
           },
           {
            "bin_start": 2850326.6,
            "bin_end": 3538143.5,
            "count": 0
           },
           {
            "bin_start": 3538143.5,
            "bin_end": 4225960.4,
            "count": 0
           },
           {
            "bin_start": 4225960.4,
            "bin_end": 4913777.3,
            "count": 0
           },
           {
            "bin_start": 4913777.3,
            "bin_end": 5601594.2,
            "count": 0
           },
           {
            "bin_start": 5601594.2,
            "bin_end": 6289411.100000001,
            "count": 0
           },
           {
            "bin_start": 6289411.100000001,
            "bin_end": 6977228,
            "count": 1
           }
          ]
         }
        },
        {
         "name": "NumEmployed2017",
         "dtype": "float64",
         "stats": {
          "unique_count": 2,
          "nan_count": 0,
          "min": "2073396.0",
          "max": "153237150.0",
          "histogram": [
           {
            "bin_start": 2073396,
            "bin_end": 17189771.4,
            "count": 1
           },
           {
            "bin_start": 17189771.4,
            "bin_end": 32306146.8,
            "count": 0
           },
           {
            "bin_start": 32306146.8,
            "bin_end": 47422522.2,
            "count": 0
           },
           {
            "bin_start": 47422522.2,
            "bin_end": 62538897.6,
            "count": 0
           },
           {
            "bin_start": 62538897.6,
            "bin_end": 77655273,
            "count": 0
           },
           {
            "bin_start": 77655273,
            "bin_end": 92771648.4,
            "count": 0
           },
           {
            "bin_start": 92771648.4,
            "bin_end": 107888023.8,
            "count": 0
           },
           {
            "bin_start": 107888023.8,
            "bin_end": 123004399.2,
            "count": 0
           },
           {
            "bin_start": 123004399.2,
            "bin_end": 138120774.6,
            "count": 0
           },
           {
            "bin_start": 138120774.6,
            "bin_end": 153237150,
            "count": 1
           }
          ]
         }
        },
        {
         "name": "NumEmployed2013",
         "dtype": "float64",
         "stats": {
          "unique_count": 2,
          "nan_count": 0,
          "min": "2012828.0",
          "max": "143905037.0",
          "histogram": [
           {
            "bin_start": 2012828,
            "bin_end": 16202048.9,
            "count": 1
           },
           {
            "bin_start": 16202048.9,
            "bin_end": 30391269.8,
            "count": 0
           },
           {
            "bin_start": 30391269.8,
            "bin_end": 44580490.7,
            "count": 0
           },
           {
            "bin_start": 44580490.7,
            "bin_end": 58769711.6,
            "count": 0
           },
           {
            "bin_start": 58769711.6,
            "bin_end": 72958932.5,
            "count": 0
           },
           {
            "bin_start": 72958932.5,
            "bin_end": 87148153.4,
            "count": 0
           },
           {
            "bin_start": 87148153.4,
            "bin_end": 101337374.3,
            "count": 0
           },
           {
            "bin_start": 101337374.3,
            "bin_end": 115526595.2,
            "count": 0
           },
           {
            "bin_start": 115526595.2,
            "bin_end": 129715816.10000001,
            "count": 0
           },
           {
            "bin_start": 129715816.10000001,
            "bin_end": 143905037,
            "count": 1
           }
          ]
         }
        },
        {
         "name": "NumUnemployed2016",
         "dtype": "float64",
         "stats": {
          "unique_count": 2,
          "nan_count": 0,
          "min": "126572.0",
          "max": "7725602.0",
          "histogram": [
           {
            "bin_start": 126572,
            "bin_end": 886475,
            "count": 1
           },
           {
            "bin_start": 886475,
            "bin_end": 1646378,
            "count": 0
           },
           {
            "bin_start": 1646378,
            "bin_end": 2406281,
            "count": 0
           },
           {
            "bin_start": 2406281,
            "bin_end": 3166184,
            "count": 0
           },
           {
            "bin_start": 3166184,
            "bin_end": 3926087,
            "count": 0
           },
           {
            "bin_start": 3926087,
            "bin_end": 4685990,
            "count": 0
           },
           {
            "bin_start": 4685990,
            "bin_end": 5445893,
            "count": 0
           },
           {
            "bin_start": 5445893,
            "bin_end": 6205796,
            "count": 0
           },
           {
            "bin_start": 6205796,
            "bin_end": 6965699,
            "count": 0
           },
           {
            "bin_start": 6965699,
            "bin_end": 7725602,
            "count": 1
           }
          ]
         }
        },
        {
         "name": "NumUnemployed2012",
         "dtype": "float64",
         "stats": {
          "unique_count": 2,
          "nan_count": 0,
          "min": "177660.0",
          "max": "12510920.0",
          "histogram": [
           {
            "bin_start": 177660,
            "bin_end": 1410986,
            "count": 1
           },
           {
            "bin_start": 1410986,
            "bin_end": 2644312,
            "count": 0
           },
           {
            "bin_start": 2644312,
            "bin_end": 3877638,
            "count": 0
           },
           {
            "bin_start": 3877638,
            "bin_end": 5110964,
            "count": 0
           },
           {
            "bin_start": 5110964,
            "bin_end": 6344290,
            "count": 0
           },
           {
            "bin_start": 6344290,
            "bin_end": 7577616,
            "count": 0
           },
           {
            "bin_start": 7577616,
            "bin_end": 8810942,
            "count": 0
           },
           {
            "bin_start": 8810942,
            "bin_end": 10044268,
            "count": 0
           },
           {
            "bin_start": 10044268,
            "bin_end": 11277594,
            "count": 0
           },
           {
            "bin_start": 11277594,
            "bin_end": 12510920,
            "count": 1
           }
          ]
         }
        },
        {
         "name": "NumCivLaborforce2016",
         "dtype": "float64",
         "stats": {
          "unique_count": 2,
          "nan_count": 0,
          "min": "2155729.0",
          "max": "158674951.0",
          "histogram": [
           {
            "bin_start": 2155729,
            "bin_end": 17807651.2,
            "count": 1
           },
           {
            "bin_start": 17807651.2,
            "bin_end": 33459573.4,
            "count": 0
           },
           {
            "bin_start": 33459573.4,
            "bin_end": 49111495.599999994,
            "count": 0
           },
           {
            "bin_start": 49111495.599999994,
            "bin_end": 64763417.8,
            "count": 0
           },
           {
            "bin_start": 64763417.8,
            "bin_end": 80415340,
            "count": 0
           },
           {
            "bin_start": 80415340,
            "bin_end": 96067262.19999999,
            "count": 0
           },
           {
            "bin_start": 96067262.19999999,
            "bin_end": 111719184.39999999,
            "count": 0
           },
           {
            "bin_start": 111719184.39999999,
            "bin_end": 127371106.6,
            "count": 0
           },
           {
            "bin_start": 127371106.6,
            "bin_end": 143023028.79999998,
            "count": 0
           },
           {
            "bin_start": 143023028.79999998,
            "bin_end": 158674951,
            "count": 1
           }
          ]
         }
        },
        {
         "name": "NumCivLaborforce2015",
         "dtype": "float64",
         "stats": {
          "unique_count": 2,
          "nan_count": 0,
          "min": "2152295.0",
          "max": "156840649.0",
          "histogram": [
           {
            "bin_start": 2152295,
            "bin_end": 17621130.4,
            "count": 1
           },
           {
            "bin_start": 17621130.4,
            "bin_end": 33089965.8,
            "count": 0
           },
           {
            "bin_start": 33089965.8,
            "bin_end": 48558801.2,
            "count": 0
           },
           {
            "bin_start": 48558801.2,
            "bin_end": 64027636.6,
            "count": 0
           },
           {
            "bin_start": 64027636.6,
            "bin_end": 79496472,
            "count": 0
           },
           {
            "bin_start": 79496472,
            "bin_end": 94965307.4,
            "count": 0
           },
           {
            "bin_start": 94965307.4,
            "bin_end": 110434142.8,
            "count": 0
           },
           {
            "bin_start": 110434142.8,
            "bin_end": 125902978.2,
            "count": 0
           },
           {
            "bin_start": 125902978.2,
            "bin_end": 141371813.6,
            "count": 0
           },
           {
            "bin_start": 141371813.6,
            "bin_end": 156840649,
            "count": 1
           }
          ]
         }
        },
        {
         "name": "NumEmployed2015",
         "dtype": "float64",
         "stats": {
          "unique_count": 2,
          "nan_count": 0,
          "min": "2020443.0",
          "max": "148554918.0",
          "histogram": [
           {
            "bin_start": 2020443,
            "bin_end": 16673890.5,
            "count": 1
           },
           {
            "bin_start": 16673890.5,
            "bin_end": 31327338,
            "count": 0
           },
           {
            "bin_start": 31327338,
            "bin_end": 45980785.5,
            "count": 0
           },
           {
            "bin_start": 45980785.5,
            "bin_end": 60634233,
            "count": 0
           },
           {
            "bin_start": 60634233,
            "bin_end": 75287680.5,
            "count": 0
           },
           {
            "bin_start": 75287680.5,
            "bin_end": 89941128,
            "count": 0
           },
           {
            "bin_start": 89941128,
            "bin_end": 104594575.5,
            "count": 0
           },
           {
            "bin_start": 104594575.5,
            "bin_end": 119248023,
            "count": 0
           },
           {
            "bin_start": 119248023,
            "bin_end": 133901470.5,
            "count": 0
           },
           {
            "bin_start": 133901470.5,
            "bin_end": 148554918,
            "count": 1
           }
          ]
         }
        },
        {
         "name": "NumUnemployed2015",
         "dtype": "float64",
         "stats": {
          "unique_count": 2,
          "nan_count": 0,
          "min": "131852.0",
          "max": "8285731.0",
          "histogram": [
           {
            "bin_start": 131852,
            "bin_end": 947239.9,
            "count": 1
           },
           {
            "bin_start": 947239.9,
            "bin_end": 1762627.8,
            "count": 0
           },
           {
            "bin_start": 1762627.8,
            "bin_end": 2578015.7,
            "count": 0
           },
           {
            "bin_start": 2578015.7,
            "bin_end": 3393403.6,
            "count": 0
           },
           {
            "bin_start": 3393403.6,
            "bin_end": 4208791.5,
            "count": 0
           },
           {
            "bin_start": 4208791.5,
            "bin_end": 5024179.4,
            "count": 0
           },
           {
            "bin_start": 5024179.4,
            "bin_end": 5839567.3,
            "count": 0
           },
           {
            "bin_start": 5839567.3,
            "bin_end": 6654955.2,
            "count": 0
           },
           {
            "bin_start": 6654955.2,
            "bin_end": 7470343.100000001,
            "count": 0
           },
           {
            "bin_start": 7470343.100000001,
            "bin_end": 8285731,
            "count": 1
           }
          ]
         }
        },
        {
         "name": "NumUnemployed2014",
         "dtype": "float64",
         "stats": {
          "unique_count": 2,
          "nan_count": 0,
          "min": "146010.0",
          "max": "9617207.0",
          "histogram": [
           {
            "bin_start": 146010,
            "bin_end": 1093129.7,
            "count": 1
           },
           {
            "bin_start": 1093129.7,
            "bin_end": 2040249.4,
            "count": 0
           },
           {
            "bin_start": 2040249.4,
            "bin_end": 2987369.0999999996,
            "count": 0
           },
           {
            "bin_start": 2987369.0999999996,
            "bin_end": 3934488.8,
            "count": 0
           },
           {
            "bin_start": 3934488.8,
            "bin_end": 4881608.5,
            "count": 0
           },
           {
            "bin_start": 4881608.5,
            "bin_end": 5828728.199999999,
            "count": 0
           },
           {
            "bin_start": 5828728.199999999,
            "bin_end": 6775847.899999999,
            "count": 0
           },
           {
            "bin_start": 6775847.899999999,
            "bin_end": 7722967.6,
            "count": 0
           },
           {
            "bin_start": 7722967.6,
            "bin_end": 8670087.299999999,
            "count": 0
           },
           {
            "bin_start": 8670087.299999999,
            "bin_end": 9617207,
            "count": 1
           }
          ]
         }
        },
        {
         "name": "NumEmployed2014",
         "dtype": "float64",
         "stats": {
          "unique_count": 2,
          "nan_count": 0,
          "min": "2018705.0",
          "max": "146318952.0",
          "histogram": [
           {
            "bin_start": 2018705,
            "bin_end": 16448729.7,
            "count": 1
           },
           {
            "bin_start": 16448729.7,
            "bin_end": 30878754.4,
            "count": 0
           },
           {
            "bin_start": 30878754.4,
            "bin_end": 45308779.099999994,
            "count": 0
           },
           {
            "bin_start": 45308779.099999994,
            "bin_end": 59738803.8,
            "count": 0
           },
           {
            "bin_start": 59738803.8,
            "bin_end": 74168828.5,
            "count": 0
           },
           {
            "bin_start": 74168828.5,
            "bin_end": 88598853.19999999,
            "count": 0
           },
           {
            "bin_start": 88598853.19999999,
            "bin_end": 103028877.89999999,
            "count": 0
           },
           {
            "bin_start": 103028877.89999999,
            "bin_end": 117458902.6,
            "count": 0
           },
           {
            "bin_start": 117458902.6,
            "bin_end": 131888927.3,
            "count": 0
           },
           {
            "bin_start": 131888927.3,
            "bin_end": 146318952,
            "count": 1
           }
          ]
         }
        },
        {
         "name": "NumCivLaborforce2014",
         "dtype": "float64",
         "stats": {
          "unique_count": 2,
          "nan_count": 0,
          "min": "2164715.0",
          "max": "155936159.0",
          "histogram": [
           {
            "bin_start": 2164715,
            "bin_end": 17541859.4,
            "count": 1
           },
           {
            "bin_start": 17541859.4,
            "bin_end": 32919003.8,
            "count": 0
           },
           {
            "bin_start": 32919003.8,
            "bin_end": 48296148.2,
            "count": 0
           },
           {
            "bin_start": 48296148.2,
            "bin_end": 63673292.6,
            "count": 0
           },
           {
            "bin_start": 63673292.6,
            "bin_end": 79050437,
            "count": 0
           },
           {
            "bin_start": 79050437,
            "bin_end": 94427581.4,
            "count": 0
           },
           {
            "bin_start": 94427581.4,
            "bin_end": 109804725.8,
            "count": 0
           },
           {
            "bin_start": 109804725.8,
            "bin_end": 125181870.2,
            "count": 0
           },
           {
            "bin_start": 125181870.2,
            "bin_end": 140559014.6,
            "count": 0
           },
           {
            "bin_start": 140559014.6,
            "bin_end": 155936159,
            "count": 1
           }
          ]
         }
        },
        {
         "name": "NumUnemployed2013",
         "dtype": "float64",
         "stats": {
          "unique_count": 2,
          "nan_count": 0,
          "min": "159274.0",
          "max": "11457241.0",
          "histogram": [
           {
            "bin_start": 159274,
            "bin_end": 1289070.7,
            "count": 1
           },
           {
            "bin_start": 1289070.7,
            "bin_end": 2418867.4,
            "count": 0
           },
           {
            "bin_start": 2418867.4,
            "bin_end": 3548664.0999999996,
            "count": 0
           },
           {
            "bin_start": 3548664.0999999996,
            "bin_end": 4678460.8,
            "count": 0
           },
           {
            "bin_start": 4678460.8,
            "bin_end": 5808257.5,
            "count": 0
           },
           {
            "bin_start": 5808257.5,
            "bin_end": 6938054.199999999,
            "count": 0
           },
           {
            "bin_start": 6938054.199999999,
            "bin_end": 8067850.899999999,
            "count": 0
           },
           {
            "bin_start": 8067850.899999999,
            "bin_end": 9197647.6,
            "count": 0
           },
           {
            "bin_start": 9197647.6,
            "bin_end": 10327444.299999999,
            "count": 0
           },
           {
            "bin_start": 10327444.299999999,
            "bin_end": 11457241,
            "count": 1
           }
          ]
         }
        },
        {
         "name": "NumCivLaborforce2013",
         "dtype": "float64",
         "stats": {
          "unique_count": 2,
          "nan_count": 0,
          "min": "2172102.0",
          "max": "155362278.0",
          "histogram": [
           {
            "bin_start": 2172102,
            "bin_end": 17491119.6,
            "count": 1
           },
           {
            "bin_start": 17491119.6,
            "bin_end": 32810137.2,
            "count": 0
           },
           {
            "bin_start": 32810137.2,
            "bin_end": 48129154.8,
            "count": 0
           },
           {
            "bin_start": 48129154.8,
            "bin_end": 63448172.4,
            "count": 0
           },
           {
            "bin_start": 63448172.4,
            "bin_end": 78767190,
            "count": 0
           },
           {
            "bin_start": 78767190,
            "bin_end": 94086207.6,
            "count": 0
           },
           {
            "bin_start": 94086207.6,
            "bin_end": 109405225.2,
            "count": 0
           },
           {
            "bin_start": 109405225.2,
            "bin_end": 124724242.8,
            "count": 0
           },
           {
            "bin_start": 124724242.8,
            "bin_end": 140043260.4,
            "count": 0
           },
           {
            "bin_start": 140043260.4,
            "bin_end": 155362278,
            "count": 1
           }
          ]
         }
        },
        {
         "name": "NumUnemployed2007",
         "dtype": "float64",
         "stats": {
          "unique_count": 2,
          "nan_count": 0,
          "min": "88418.0",
          "max": "7034917.0",
          "histogram": [
           {
            "bin_start": 88418,
            "bin_end": 783067.9,
            "count": 1
           },
           {
            "bin_start": 783067.9,
            "bin_end": 1477717.8,
            "count": 0
           },
           {
            "bin_start": 1477717.8,
            "bin_end": 2172367.7,
            "count": 0
           },
           {
            "bin_start": 2172367.7,
            "bin_end": 2867017.6,
            "count": 0
           },
           {
            "bin_start": 2867017.6,
            "bin_end": 3561667.5,
            "count": 0
           },
           {
            "bin_start": 3561667.5,
            "bin_end": 4256317.4,
            "count": 0
           },
           {
            "bin_start": 4256317.4,
            "bin_end": 4950967.3,
            "count": 0
           },
           {
            "bin_start": 4950967.3,
            "bin_end": 5645617.2,
            "count": 0
           },
           {
            "bin_start": 5645617.2,
            "bin_end": 6340267.100000001,
            "count": 0
           },
           {
            "bin_start": 6340267.100000001,
            "bin_end": 7034917,
            "count": 1
           }
          ]
         }
        },
        {
         "name": "NumEmployed2007",
         "dtype": "float64",
         "stats": {
          "unique_count": 2,
          "nan_count": 0,
          "min": "2092030.0",
          "max": "145156133.0",
          "histogram": [
           {
            "bin_start": 2092030,
            "bin_end": 16398440.3,
            "count": 1
           },
           {
            "bin_start": 16398440.3,
            "bin_end": 30704850.6,
            "count": 0
           },
           {
            "bin_start": 30704850.6,
            "bin_end": 45011260.900000006,
            "count": 0
           },
           {
            "bin_start": 45011260.900000006,
            "bin_end": 59317671.2,
            "count": 0
           },
           {
            "bin_start": 59317671.2,
            "bin_end": 73624081.5,
            "count": 0
           },
           {
            "bin_start": 73624081.5,
            "bin_end": 87930491.80000001,
            "count": 0
           },
           {
            "bin_start": 87930491.80000001,
            "bin_end": 102236902.10000001,
            "count": 0
           },
           {
            "bin_start": 102236902.10000001,
            "bin_end": 116543312.4,
            "count": 0
           },
           {
            "bin_start": 116543312.4,
            "bin_end": 130849722.7,
            "count": 0
           },
           {
            "bin_start": 130849722.7,
            "bin_end": 145156133,
            "count": 1
           }
          ]
         }
        },
        {
         "name": "NumCivLaborforce2007",
         "dtype": "float64",
         "stats": {
          "unique_count": 2,
          "nan_count": 0,
          "min": "2180448.0",
          "max": "152191050.0",
          "histogram": [
           {
            "bin_start": 2180448,
            "bin_end": 17181508.2,
            "count": 1
           },
           {
            "bin_start": 17181508.2,
            "bin_end": 32182568.4,
            "count": 0
           },
           {
            "bin_start": 32182568.4,
            "bin_end": 47183628.599999994,
            "count": 0
           },
           {
            "bin_start": 47183628.599999994,
            "bin_end": 62184688.8,
            "count": 0
           },
           {
            "bin_start": 62184688.8,
            "bin_end": 77185749,
            "count": 0
           },
           {
            "bin_start": 77185749,
            "bin_end": 92186809.19999999,
            "count": 0
           },
           {
            "bin_start": 92186809.19999999,
            "bin_end": 107187869.39999999,
            "count": 0
           },
           {
            "bin_start": 107187869.39999999,
            "bin_end": 122188929.6,
            "count": 0
           },
           {
            "bin_start": 122188929.6,
            "bin_end": 137189989.79999998,
            "count": 0
           },
           {
            "bin_start": 137189989.79999998,
            "bin_end": 152191050,
            "count": 1
           }
          ]
         }
        },
        {
         "name": "NumCivLaborforce2017",
         "dtype": "float64",
         "stats": {
          "unique_count": 2,
          "nan_count": 0,
          "min": "2172455.0",
          "max": "160214378.0",
          "histogram": [
           {
            "bin_start": 2172455,
            "bin_end": 17976647.3,
            "count": 1
           },
           {
            "bin_start": 17976647.3,
            "bin_end": 33780839.6,
            "count": 0
           },
           {
            "bin_start": 33780839.6,
            "bin_end": 49585031.900000006,
            "count": 0
           },
           {
            "bin_start": 49585031.900000006,
            "bin_end": 65389224.2,
            "count": 0
           },
           {
            "bin_start": 65389224.2,
            "bin_end": 81193416.5,
            "count": 0
           },
           {
            "bin_start": 81193416.5,
            "bin_end": 96997608.80000001,
            "count": 0
           },
           {
            "bin_start": 96997608.80000001,
            "bin_end": 112801801.10000001,
            "count": 0
           },
           {
            "bin_start": 112801801.10000001,
            "bin_end": 128605993.4,
            "count": 0
           },
           {
            "bin_start": 128605993.4,
            "bin_end": 144410185.70000002,
            "count": 0
           },
           {
            "bin_start": 144410185.70000002,
            "bin_end": 160214378,
            "count": 1
           }
          ]
         }
        },
        {
         "name": "_deepnote_index_column",
         "dtype": "int64"
        }
       ],
       "rows_top": [
        {
         "FIPS": 0,
         "State": "US",
         "County": "United States",
         "UnempRate2020": 8.1,
         "PctEmpChange1920": -6,
         "UnempRate2019": 3.7,
         "PctEmpChange1819": 1.3,
         "UnempRate2018": 3.9,
         "UnempRate2017": 4.4,
         "UnempRate2016": 4.9,
         "UnempRate2015": 5.3,
         "UnempRate2014": 6.2,
         "UnempRate2010": 9.6,
         "UnempRate2007": 4.6,
         "PctEmpChange1020": 5.9,
         "PctEmpChange0720": 1.7,
         "PctEmpChange0710": -4,
         "PctEmpAgriculture": 1.259202071,
         "PctEmpMining": 0.51272268,
         "PctEmpConstruction": 6.592261663,
         "PctEmpManufacturing": 10.10800771,
         "PctEmpTrade": 13.74533368,
         "PctEmpTrans": 5.363914233,
         "PctEmpInformation": 2.011223234,
         "PctEmpFIRE": 6.555840064,
         "PctEmpServices": 49.24412879,
         "PctEmpGovt": 4.60736588,
         "NumCivEmployed": 154842185,
         "NumCivLaborForce2012": 155038121,
         "NumUnemployed2011": 13831817,
         "UnempRate2012": 8.1,
         "NumEmployed2011": 140688861,
         "NumEmployed2012": 142527201,
         "NumCivLaborForce2011": 154520678,
         "UnempRate2011": 9,
         "NumUnemployed2010": 14860707,
         "NumEmployed2010": 139393814,
         "NumCivLaborForce2010": 154254521,
         "NumUnemployed2009": 14230755,
         "NumEmployed2009": 139594699,
         "NumCivLaborForce2009": 153825454,
         "NumUnemployed2008": 8900688,
         "UnempRate2013": 7.4,
         "NumEmployed2008": 144860349,
         "NumCivLaborForce2008": 153761037,
         "UnempRate2009": 9.3,
         "UnempRate2008": 5.8,
         "NumEmployed2016": 150949349,
         "NumEmployed2020": 147677360,
         "NumCivLaborforce2020": 160611064,
         "NumUnemployed2020": 12933704,
         "NumEmployed2019": 157154185,
         "NumUnemployed2019": 5986120,
         "NumCivLaborforce2019": 163140305,
         "NumUnemployed2018": 6288584,
         "NumEmployed2018": 155152550,
         "NumCivLaborforce2018": 161441134,
         "NumUnemployed2017": 6977228,
         "NumEmployed2017": 153237150,
         "NumEmployed2013": 143905037,
         "NumUnemployed2016": 7725602,
         "NumUnemployed2012": 12510920,
         "NumCivLaborforce2016": 158674951,
         "NumCivLaborforce2015": 156840649,
         "NumEmployed2015": 148554918,
         "NumUnemployed2015": 8285731,
         "NumUnemployed2014": 9617207,
         "NumEmployed2014": 146318952,
         "NumCivLaborforce2014": 155936159,
         "NumUnemployed2013": 11457241,
         "NumCivLaborforce2013": 155362278,
         "NumUnemployed2007": 7034917,
         "NumEmployed2007": 145156133,
         "NumCivLaborforce2007": 152191050,
         "NumCivLaborforce2017": 160214378,
         "_deepnote_index_column": 0
        },
        {
         "FIPS": 1000,
         "State": "AL",
         "County": "Alabama",
         "UnempRate2020": 5.9,
         "PctEmpChange1920": -3.2,
         "UnempRate2019": 3,
         "PctEmpChange1819": 2.3,
         "UnempRate2018": 3.9,
         "UnempRate2017": 4.6,
         "UnempRate2016": 5.9,
         "UnempRate2015": 6.1,
         "UnempRate2014": 6.7,
         "UnempRate2010": 10.4,
         "UnempRate2007": 4.1,
         "PctEmpChange1020": 6.6,
         "PctEmpChange0720": 0.3,
         "PctEmpChange0710": -5.9,
         "PctEmpAgriculture": 0.993189611,
         "PctEmpMining": 0.398210342,
         "PctEmpConstruction": 6.604989835,
         "PctEmpManufacturing": 14.33256857,
         "PctEmpTrade": 14.08373479,
         "PctEmpTrans": 5.454652081,
         "PctEmpInformation": 1.519607282,
         "PctEmpFIRE": 5.523166001,
         "PctEmpServices": 45.67804465,
         "PctEmpGovt": 5.411836841,
         "NumCivEmployed": 2097384,
         "NumCivLaborForce2012": 2178508,
         "NumUnemployed2011": 210958,
         "UnempRate2012": 8.2,
         "NumEmployed2011": 1991379,
         "NumEmployed2012": 2000848,
         "NumCivLaborForce2011": 2202337,
         "UnempRate2011": 9.6,
         "NumUnemployed2010": 228204,
         "NumEmployed2010": 1968824,
         "NumCivLaborForce2010": 2197028,
         "NumUnemployed2009": 217809,
         "NumEmployed2009": 1938784,
         "NumCivLaborForce2009": 2156593,
         "NumUnemployed2008": 127275,
         "UnempRate2013": 7.3,
         "NumEmployed2008": 2049579,
         "NumCivLaborForce2008": 2176854,
         "UnempRate2009": 10.1,
         "UnempRate2008": 5.8,
         "NumEmployed2016": 2029157,
         "NumEmployed2020": 2099062,
         "NumCivLaborforce2020": 2230118,
         "NumUnemployed2020": 131056,
         "NumEmployed2019": 2169395,
         "NumUnemployed2019": 67883,
         "NumCivLaborforce2019": 2237278,
         "NumUnemployed2018": 86315,
         "NumEmployed2018": 2120704,
         "NumCivLaborforce2018": 2207019,
         "NumUnemployed2017": 99059,
         "NumEmployed2017": 2073396,
         "NumEmployed2013": 2012828,
         "NumUnemployed2016": 126572,
         "NumUnemployed2012": 177660,
         "NumCivLaborforce2016": 2155729,
         "NumCivLaborforce2015": 2152295,
         "NumEmployed2015": 2020443,
         "NumUnemployed2015": 131852,
         "NumUnemployed2014": 146010,
         "NumEmployed2014": 2018705,
         "NumCivLaborforce2014": 2164715,
         "NumUnemployed2013": 159274,
         "NumCivLaborforce2013": 2172102,
         "NumUnemployed2007": 88418,
         "NumEmployed2007": 2092030,
         "NumCivLaborforce2007": 2180448,
         "NumCivLaborforce2017": 2172455,
         "_deepnote_index_column": 1
        }
       ],
       "rows_bottom": null
      },
      "text/plain": "   FIPS State         County  UnempRate2020  PctEmpChange1920  UnempRate2019  \\\n0     0    US  United States            8.1              -6.0            3.7   \n1  1000    AL        Alabama            5.9              -3.2            3.0   \n\n   PctEmpChange1819  UnempRate2018  UnempRate2017  UnempRate2016  ...  \\\n0               1.3            3.9            4.4            4.9  ...   \n1               2.3            3.9            4.6            5.9  ...   \n\n   NumUnemployed2015  NumUnemployed2014  NumEmployed2014  \\\n0          8285731.0          9617207.0      146318952.0   \n1           131852.0           146010.0        2018705.0   \n\n   NumCivLaborforce2014  NumUnemployed2013  NumCivLaborforce2013  \\\n0           155936159.0         11457241.0           155362278.0   \n1             2164715.0           159274.0             2172102.0   \n\n   NumUnemployed2007  NumEmployed2007  NumCivLaborforce2007  \\\n0          7034917.0      145156133.0           152191050.0   \n1            88418.0        2092030.0             2180448.0   \n\n   NumCivLaborforce2017  \n0           160214378.0  \n1             2172455.0  \n\n[2 rows x 75 columns]",
      "text/html": "<div>\n<style scoped>\n    .dataframe tbody tr th:only-of-type {\n        vertical-align: middle;\n    }\n\n    .dataframe tbody tr th {\n        vertical-align: top;\n    }\n\n    .dataframe thead th {\n        text-align: right;\n    }\n</style>\n<table border=\"1\" class=\"dataframe\">\n  <thead>\n    <tr style=\"text-align: right;\">\n      <th></th>\n      <th>FIPS</th>\n      <th>State</th>\n      <th>County</th>\n      <th>UnempRate2020</th>\n      <th>PctEmpChange1920</th>\n      <th>UnempRate2019</th>\n      <th>PctEmpChange1819</th>\n      <th>UnempRate2018</th>\n      <th>UnempRate2017</th>\n      <th>UnempRate2016</th>\n      <th>...</th>\n      <th>NumUnemployed2015</th>\n      <th>NumUnemployed2014</th>\n      <th>NumEmployed2014</th>\n      <th>NumCivLaborforce2014</th>\n      <th>NumUnemployed2013</th>\n      <th>NumCivLaborforce2013</th>\n      <th>NumUnemployed2007</th>\n      <th>NumEmployed2007</th>\n      <th>NumCivLaborforce2007</th>\n      <th>NumCivLaborforce2017</th>\n    </tr>\n  </thead>\n  <tbody>\n    <tr>\n      <th>0</th>\n      <td>0</td>\n      <td>US</td>\n      <td>United States</td>\n      <td>8.1</td>\n      <td>-6.0</td>\n      <td>3.7</td>\n      <td>1.3</td>\n      <td>3.9</td>\n      <td>4.4</td>\n      <td>4.9</td>\n      <td>...</td>\n      <td>8285731.0</td>\n      <td>9617207.0</td>\n      <td>146318952.0</td>\n      <td>155936159.0</td>\n      <td>11457241.0</td>\n      <td>155362278.0</td>\n      <td>7034917.0</td>\n      <td>145156133.0</td>\n      <td>152191050.0</td>\n      <td>160214378.0</td>\n    </tr>\n    <tr>\n      <th>1</th>\n      <td>1000</td>\n      <td>AL</td>\n      <td>Alabama</td>\n      <td>5.9</td>\n      <td>-3.2</td>\n      <td>3.0</td>\n      <td>2.3</td>\n      <td>3.9</td>\n      <td>4.6</td>\n      <td>5.9</td>\n      <td>...</td>\n      <td>131852.0</td>\n      <td>146010.0</td>\n      <td>2018705.0</td>\n      <td>2164715.0</td>\n      <td>159274.0</td>\n      <td>2172102.0</td>\n      <td>88418.0</td>\n      <td>2092030.0</td>\n      <td>2180448.0</td>\n      <td>2172455.0</td>\n    </tr>\n  </tbody>\n</table>\n<p>2 rows × 75 columns</p>\n</div>"
     },
     "metadata": {}
    }
   ]
  },
  {
   "cell_type": "code",
   "metadata": {
    "tags": [],
    "cell_id": "00009-1b0ea0b4-aea1-4dde-bc14-23038e918640",
    "deepnote_to_be_reexecuted": false,
    "source_hash": "75bcd7c7",
    "execution_start": 1624685179576,
    "execution_millis": 302,
    "deepnote_cell_type": "code"
   },
   "source": "raw_ers_migration.head(2)",
   "execution_count": null,
   "outputs": [
    {
     "output_type": "execute_result",
     "execution_count": 9,
     "data": {
      "application/vnd.deepnote.dataframe.v2+json": {
       "row_count": 2,
       "column_count": 91,
       "columns": [
        {
         "name": "FIPS",
         "dtype": "int64",
         "stats": {
          "unique_count": 2,
          "nan_count": 0,
          "min": "0",
          "max": "1000",
          "histogram": [
           {
            "bin_start": 0,
            "bin_end": 100,
            "count": 1
           },
           {
            "bin_start": 100,
            "bin_end": 200,
            "count": 0
           },
           {
            "bin_start": 200,
            "bin_end": 300,
            "count": 0
           },
           {
            "bin_start": 300,
            "bin_end": 400,
            "count": 0
           },
           {
            "bin_start": 400,
            "bin_end": 500,
            "count": 0
           },
           {
            "bin_start": 500,
            "bin_end": 600,
            "count": 0
           },
           {
            "bin_start": 600,
            "bin_end": 700,
            "count": 0
           },
           {
            "bin_start": 700,
            "bin_end": 800,
            "count": 0
           },
           {
            "bin_start": 800,
            "bin_end": 900,
            "count": 0
           },
           {
            "bin_start": 900,
            "bin_end": 1000,
            "count": 1
           }
          ]
         }
        },
        {
         "name": "State",
         "dtype": "object",
         "stats": {
          "unique_count": 2,
          "nan_count": 0,
          "categories": [
           {
            "name": "US",
            "count": 1
           },
           {
            "name": "AL",
            "count": 1
           }
          ]
         }
        },
        {
         "name": "County",
         "dtype": "object",
         "stats": {
          "unique_count": 2,
          "nan_count": 0,
          "categories": [
           {
            "name": "United States",
            "count": 1
           },
           {
            "name": "Alabama",
            "count": 1
           }
          ]
         }
        },
        {
         "name": "PopChangeRate1819",
         "dtype": "float64",
         "stats": {
          "unique_count": 2,
          "nan_count": 0,
          "min": "0.317",
          "max": "0.475",
          "histogram": [
           {
            "bin_start": 0.317,
            "bin_end": 0.3328,
            "count": 1
           },
           {
            "bin_start": 0.3328,
            "bin_end": 0.3486,
            "count": 0
           },
           {
            "bin_start": 0.3486,
            "bin_end": 0.3644,
            "count": 0
           },
           {
            "bin_start": 0.3644,
            "bin_end": 0.3802,
            "count": 0
           },
           {
            "bin_start": 0.3802,
            "bin_end": 0.396,
            "count": 0
           },
           {
            "bin_start": 0.396,
            "bin_end": 0.4118,
            "count": 0
           },
           {
            "bin_start": 0.4118,
            "bin_end": 0.4276,
            "count": 0
           },
           {
            "bin_start": 0.4276,
            "bin_end": 0.4434,
            "count": 0
           },
           {
            "bin_start": 0.4434,
            "bin_end": 0.4592,
            "count": 0
           },
           {
            "bin_start": 0.4592,
            "bin_end": 0.475,
            "count": 1
           }
          ]
         }
        },
        {
         "name": "PopChangeRate1019",
         "dtype": "float64",
         "stats": {
          "unique_count": 2,
          "nan_count": 0,
          "min": "2.461",
          "max": "6.116",
          "histogram": [
           {
            "bin_start": 2.461,
            "bin_end": 2.8265,
            "count": 1
           },
           {
            "bin_start": 2.8265,
            "bin_end": 3.1919999999999997,
            "count": 0
           },
           {
            "bin_start": 3.1919999999999997,
            "bin_end": 3.5575,
            "count": 0
           },
           {
            "bin_start": 3.5575,
            "bin_end": 3.923,
            "count": 0
           },
           {
            "bin_start": 3.923,
            "bin_end": 4.2885,
            "count": 0
           },
           {
            "bin_start": 4.2885,
            "bin_end": 4.654,
            "count": 0
           },
           {
            "bin_start": 4.654,
            "bin_end": 5.0195,
            "count": 0
           },
           {
            "bin_start": 5.0195,
            "bin_end": 5.385,
            "count": 0
           },
           {
            "bin_start": 5.385,
            "bin_end": 5.7505,
            "count": 0
           },
           {
            "bin_start": 5.7505,
            "bin_end": 6.116,
            "count": 1
           }
          ]
         }
        },
        {
         "name": "TotalPopEst2019",
         "dtype": "int64",
         "stats": {
          "unique_count": 2,
          "nan_count": 0,
          "min": "4903185",
          "max": "328239523",
          "histogram": [
           {
            "bin_start": 4903185,
            "bin_end": 37236818.8,
            "count": 1
           },
           {
            "bin_start": 37236818.8,
            "bin_end": 69570452.6,
            "count": 0
           },
           {
            "bin_start": 69570452.6,
            "bin_end": 101904086.4,
            "count": 0
           },
           {
            "bin_start": 101904086.4,
            "bin_end": 134237720.2,
            "count": 0
           },
           {
            "bin_start": 134237720.2,
            "bin_end": 166571354,
            "count": 0
           },
           {
            "bin_start": 166571354,
            "bin_end": 198904987.8,
            "count": 0
           },
           {
            "bin_start": 198904987.8,
            "bin_end": 231238621.6,
            "count": 0
           },
           {
            "bin_start": 231238621.6,
            "bin_end": 263572255.4,
            "count": 0
           },
           {
            "bin_start": 263572255.4,
            "bin_end": 295905889.2,
            "count": 0
           },
           {
            "bin_start": 295905889.2,
            "bin_end": 328239523,
            "count": 1
           }
          ]
         }
        },
        {
         "name": "NetMigrationRate1019",
         "dtype": "float64",
         "stats": {
          "unique_count": 2,
          "nan_count": 0,
          "min": "1.059",
          "max": "2.485",
          "histogram": [
           {
            "bin_start": 1.059,
            "bin_end": 1.2016,
            "count": 1
           },
           {
            "bin_start": 1.2016,
            "bin_end": 1.3441999999999998,
            "count": 0
           },
           {
            "bin_start": 1.3441999999999998,
            "bin_end": 1.4868,
            "count": 0
           },
           {
            "bin_start": 1.4868,
            "bin_end": 1.6294,
            "count": 0
           },
           {
            "bin_start": 1.6294,
            "bin_end": 1.772,
            "count": 0
           },
           {
            "bin_start": 1.772,
            "bin_end": 1.9146,
            "count": 0
           },
           {
            "bin_start": 1.9146,
            "bin_end": 2.0572,
            "count": 0
           },
           {
            "bin_start": 2.0572,
            "bin_end": 2.1997999999999998,
            "count": 0
           },
           {
            "bin_start": 2.1997999999999998,
            "bin_end": 2.3424,
            "count": 0
           },
           {
            "bin_start": 2.3424,
            "bin_end": 2.485,
            "count": 1
           }
          ]
         }
        },
        {
         "name": "NaturalChangeRate1019",
         "dtype": "float64",
         "stats": {
          "unique_count": 2,
          "nan_count": 0,
          "min": "1.402",
          "max": "3.631",
          "histogram": [
           {
            "bin_start": 1.402,
            "bin_end": 1.6249,
            "count": 1
           },
           {
            "bin_start": 1.6249,
            "bin_end": 1.8477999999999999,
            "count": 0
           },
           {
            "bin_start": 1.8477999999999999,
            "bin_end": 2.0707,
            "count": 0
           },
           {
            "bin_start": 2.0707,
            "bin_end": 2.2936,
            "count": 0
           },
           {
            "bin_start": 2.2936,
            "bin_end": 2.5164999999999997,
            "count": 0
           },
           {
            "bin_start": 2.5164999999999997,
            "bin_end": 2.7394,
            "count": 0
           },
           {
            "bin_start": 2.7394,
            "bin_end": 2.9623,
            "count": 0
           },
           {
            "bin_start": 2.9623,
            "bin_end": 3.1852,
            "count": 0
           },
           {
            "bin_start": 3.1852,
            "bin_end": 3.4081,
            "count": 0
           },
           {
            "bin_start": 3.4081,
            "bin_end": 3.631,
            "count": 1
           }
          ]
         }
        },
        {
         "name": "Net_International_Migration_Rate_2010_2019",
         "dtype": "float64",
         "stats": {
          "unique_count": 2,
          "nan_count": 0,
          "min": "0.809",
          "max": "2.485",
          "histogram": [
           {
            "bin_start": 0.809,
            "bin_end": 0.9766,
            "count": 1
           },
           {
            "bin_start": 0.9766,
            "bin_end": 1.1442,
            "count": 0
           },
           {
            "bin_start": 1.1442,
            "bin_end": 1.3117999999999999,
            "count": 0
           },
           {
            "bin_start": 1.3117999999999999,
            "bin_end": 1.4794,
            "count": 0
           },
           {
            "bin_start": 1.4794,
            "bin_end": 1.6469999999999998,
            "count": 0
           },
           {
            "bin_start": 1.6469999999999998,
            "bin_end": 1.8146,
            "count": 0
           },
           {
            "bin_start": 1.8146,
            "bin_end": 1.9821999999999997,
            "count": 0
           },
           {
            "bin_start": 1.9821999999999997,
            "bin_end": 2.1498,
            "count": 0
           },
           {
            "bin_start": 2.1498,
            "bin_end": 2.3173999999999997,
            "count": 0
           },
           {
            "bin_start": 2.3173999999999997,
            "bin_end": 2.485,
            "count": 1
           }
          ]
         }
        },
        {
         "name": "PopChangeRate0010",
         "dtype": "float64",
         "stats": {
          "unique_count": 2,
          "nan_count": 0,
          "min": "7.48",
          "max": "9.71",
          "histogram": [
           {
            "bin_start": 7.48,
            "bin_end": 7.703,
            "count": 1
           },
           {
            "bin_start": 7.703,
            "bin_end": 7.926,
            "count": 0
           },
           {
            "bin_start": 7.926,
            "bin_end": 8.149000000000001,
            "count": 0
           },
           {
            "bin_start": 8.149000000000001,
            "bin_end": 8.372,
            "count": 0
           },
           {
            "bin_start": 8.372,
            "bin_end": 8.595,
            "count": 0
           },
           {
            "bin_start": 8.595,
            "bin_end": 8.818000000000001,
            "count": 0
           },
           {
            "bin_start": 8.818000000000001,
            "bin_end": 9.041,
            "count": 0
           },
           {
            "bin_start": 9.041,
            "bin_end": 9.264000000000001,
            "count": 0
           },
           {
            "bin_start": 9.264000000000001,
            "bin_end": 9.487,
            "count": 0
           },
           {
            "bin_start": 9.487,
            "bin_end": 9.71,
            "count": 1
           }
          ]
         }
        },
        {
         "name": "NetMigrationRate0010",
         "dtype": "float64",
         "stats": {
          "unique_count": 1,
          "nan_count": 1,
          "min": "3.3",
          "max": "3.3",
          "histogram": [
           {
            "bin_start": 2.8,
            "bin_end": 2.9,
            "count": 0
           },
           {
            "bin_start": 2.9,
            "bin_end": 3,
            "count": 0
           },
           {
            "bin_start": 3,
            "bin_end": 3.0999999999999996,
            "count": 0
           },
           {
            "bin_start": 3.0999999999999996,
            "bin_end": 3.1999999999999997,
            "count": 0
           },
           {
            "bin_start": 3.1999999999999997,
            "bin_end": 3.3,
            "count": 0
           },
           {
            "bin_start": 3.3,
            "bin_end": 3.4,
            "count": 1
           },
           {
            "bin_start": 3.4,
            "bin_end": 3.5,
            "count": 0
           },
           {
            "bin_start": 3.5,
            "bin_end": 3.5999999999999996,
            "count": 0
           },
           {
            "bin_start": 3.5999999999999996,
            "bin_end": 3.6999999999999997,
            "count": 0
           },
           {
            "bin_start": 3.6999999999999997,
            "bin_end": 3.8,
            "count": 0
           }
          ]
         }
        },
        {
         "name": "NaturalChangeRate0010",
         "dtype": "float64",
         "stats": {
          "unique_count": 1,
          "nan_count": 1,
          "min": "3.3",
          "max": "3.3",
          "histogram": [
           {
            "bin_start": 2.8,
            "bin_end": 2.9,
            "count": 0
           },
           {
            "bin_start": 2.9,
            "bin_end": 3,
            "count": 0
           },
           {
            "bin_start": 3,
            "bin_end": 3.0999999999999996,
            "count": 0
           },
           {
            "bin_start": 3.0999999999999996,
            "bin_end": 3.1999999999999997,
            "count": 0
           },
           {
            "bin_start": 3.1999999999999997,
            "bin_end": 3.3,
            "count": 0
           },
           {
            "bin_start": 3.3,
            "bin_end": 3.4,
            "count": 1
           },
           {
            "bin_start": 3.4,
            "bin_end": 3.5,
            "count": 0
           },
           {
            "bin_start": 3.5,
            "bin_end": 3.5999999999999996,
            "count": 0
           },
           {
            "bin_start": 3.5999999999999996,
            "bin_end": 3.6999999999999997,
            "count": 0
           },
           {
            "bin_start": 3.6999999999999997,
            "bin_end": 3.8,
            "count": 0
           }
          ]
         }
        },
        {
         "name": "Immigration_Rate_2000_2010",
         "dtype": "float64",
         "stats": {
          "unique_count": 1,
          "nan_count": 1,
          "min": "1.222930915",
          "max": "1.222930915",
          "histogram": [
           {
            "bin_start": 0.7229309150000001,
            "bin_end": 0.822930915,
            "count": 0
           },
           {
            "bin_start": 0.822930915,
            "bin_end": 0.922930915,
            "count": 0
           },
           {
            "bin_start": 0.922930915,
            "bin_end": 1.022930915,
            "count": 0
           },
           {
            "bin_start": 1.022930915,
            "bin_end": 1.122930915,
            "count": 0
           },
           {
            "bin_start": 1.122930915,
            "bin_end": 1.222930915,
            "count": 0
           },
           {
            "bin_start": 1.222930915,
            "bin_end": 1.3229309150000002,
            "count": 1
           },
           {
            "bin_start": 1.3229309150000002,
            "bin_end": 1.4229309150000002,
            "count": 0
           },
           {
            "bin_start": 1.4229309150000002,
            "bin_end": 1.522930915,
            "count": 0
           },
           {
            "bin_start": 1.522930915,
            "bin_end": 1.622930915,
            "count": 0
           },
           {
            "bin_start": 1.622930915,
            "bin_end": 1.722930915,
            "count": 0
           }
          ]
         }
        },
        {
         "name": "PopDensity2010",
         "dtype": "float64",
         "stats": {
          "unique_count": 2,
          "nan_count": 0,
          "min": "87.42",
          "max": "94.38",
          "histogram": [
           {
            "bin_start": 87.42,
            "bin_end": 88.116,
            "count": 1
           },
           {
            "bin_start": 88.116,
            "bin_end": 88.812,
            "count": 0
           },
           {
            "bin_start": 88.812,
            "bin_end": 89.508,
            "count": 0
           },
           {
            "bin_start": 89.508,
            "bin_end": 90.204,
            "count": 0
           },
           {
            "bin_start": 90.204,
            "bin_end": 90.9,
            "count": 0
           },
           {
            "bin_start": 90.9,
            "bin_end": 91.596,
            "count": 0
           },
           {
            "bin_start": 91.596,
            "bin_end": 92.292,
            "count": 0
           },
           {
            "bin_start": 92.292,
            "bin_end": 92.988,
            "count": 0
           },
           {
            "bin_start": 92.988,
            "bin_end": 93.684,
            "count": 0
           },
           {
            "bin_start": 93.684,
            "bin_end": 94.38,
            "count": 1
           }
          ]
         }
        },
        {
         "name": "Under18Pct2010",
         "dtype": "float64",
         "stats": {
          "unique_count": 2,
          "nan_count": 0,
          "min": "23.69",
          "max": "24.03",
          "histogram": [
           {
            "bin_start": 23.69,
            "bin_end": 23.724,
            "count": 1
           },
           {
            "bin_start": 23.724,
            "bin_end": 23.758000000000003,
            "count": 0
           },
           {
            "bin_start": 23.758000000000003,
            "bin_end": 23.792,
            "count": 0
           },
           {
            "bin_start": 23.792,
            "bin_end": 23.826,
            "count": 0
           },
           {
            "bin_start": 23.826,
            "bin_end": 23.86,
            "count": 0
           },
           {
            "bin_start": 23.86,
            "bin_end": 23.894000000000002,
            "count": 0
           },
           {
            "bin_start": 23.894000000000002,
            "bin_end": 23.928,
            "count": 0
           },
           {
            "bin_start": 23.928,
            "bin_end": 23.962,
            "count": 0
           },
           {
            "bin_start": 23.962,
            "bin_end": 23.996000000000002,
            "count": 0
           },
           {
            "bin_start": 23.996000000000002,
            "bin_end": 24.03,
            "count": 1
           }
          ]
         }
        },
        {
         "name": "Age65AndOlderPct2010",
         "dtype": "float64",
         "stats": {
          "unique_count": 2,
          "nan_count": 0,
          "min": "13.04",
          "max": "13.76",
          "histogram": [
           {
            "bin_start": 13.04,
            "bin_end": 13.111999999999998,
            "count": 1
           },
           {
            "bin_start": 13.111999999999998,
            "bin_end": 13.184,
            "count": 0
           },
           {
            "bin_start": 13.184,
            "bin_end": 13.256,
            "count": 0
           },
           {
            "bin_start": 13.256,
            "bin_end": 13.328,
            "count": 0
           },
           {
            "bin_start": 13.328,
            "bin_end": 13.399999999999999,
            "count": 0
           },
           {
            "bin_start": 13.399999999999999,
            "bin_end": 13.472,
            "count": 0
           },
           {
            "bin_start": 13.472,
            "bin_end": 13.544,
            "count": 0
           },
           {
            "bin_start": 13.544,
            "bin_end": 13.616,
            "count": 0
           },
           {
            "bin_start": 13.616,
            "bin_end": 13.687999999999999,
            "count": 0
           },
           {
            "bin_start": 13.687999999999999,
            "bin_end": 13.76,
            "count": 1
           }
          ]
         }
        },
        {
         "name": "WhiteNonHispanicPct2010",
         "dtype": "float64",
         "stats": {
          "unique_count": 2,
          "nan_count": 0,
          "min": "63.75",
          "max": "67.04",
          "histogram": [
           {
            "bin_start": 63.75,
            "bin_end": 64.07900000000001,
            "count": 1
           },
           {
            "bin_start": 64.07900000000001,
            "bin_end": 64.408,
            "count": 0
           },
           {
            "bin_start": 64.408,
            "bin_end": 64.737,
            "count": 0
           },
           {
            "bin_start": 64.737,
            "bin_end": 65.066,
            "count": 0
           },
           {
            "bin_start": 65.066,
            "bin_end": 65.39500000000001,
            "count": 0
           },
           {
            "bin_start": 65.39500000000001,
            "bin_end": 65.724,
            "count": 0
           },
           {
            "bin_start": 65.724,
            "bin_end": 66.053,
            "count": 0
           },
           {
            "bin_start": 66.053,
            "bin_end": 66.382,
            "count": 0
           },
           {
            "bin_start": 66.382,
            "bin_end": 66.71100000000001,
            "count": 0
           },
           {
            "bin_start": 66.71100000000001,
            "bin_end": 67.04,
            "count": 1
           }
          ]
         }
        },
        {
         "name": "BlackNonHispanicPct2010",
         "dtype": "float64",
         "stats": {
          "unique_count": 2,
          "nan_count": 0,
          "min": "12.21",
          "max": "26.04",
          "histogram": [
           {
            "bin_start": 12.21,
            "bin_end": 13.593,
            "count": 1
           },
           {
            "bin_start": 13.593,
            "bin_end": 14.976,
            "count": 0
           },
           {
            "bin_start": 14.976,
            "bin_end": 16.359,
            "count": 0
           },
           {
            "bin_start": 16.359,
            "bin_end": 17.742,
            "count": 0
           },
           {
            "bin_start": 17.742,
            "bin_end": 19.125,
            "count": 0
           },
           {
            "bin_start": 19.125,
            "bin_end": 20.508,
            "count": 0
           },
           {
            "bin_start": 20.508,
            "bin_end": 21.891,
            "count": 0
           },
           {
            "bin_start": 21.891,
            "bin_end": 23.274,
            "count": 0
           },
           {
            "bin_start": 23.274,
            "bin_end": 24.656999999999996,
            "count": 0
           },
           {
            "bin_start": 24.656999999999996,
            "bin_end": 26.04,
            "count": 1
           }
          ]
         }
        },
        {
         "name": "AsianNonHispanicPct2010",
         "dtype": "float64",
         "stats": {
          "unique_count": 2,
          "nan_count": 0,
          "min": "1.11",
          "max": "4.69",
          "histogram": [
           {
            "bin_start": 1.11,
            "bin_end": 1.468,
            "count": 1
           },
           {
            "bin_start": 1.468,
            "bin_end": 1.826,
            "count": 0
           },
           {
            "bin_start": 1.826,
            "bin_end": 2.184,
            "count": 0
           },
           {
            "bin_start": 2.184,
            "bin_end": 2.542,
            "count": 0
           },
           {
            "bin_start": 2.542,
            "bin_end": 2.9000000000000004,
            "count": 0
           },
           {
            "bin_start": 2.9000000000000004,
            "bin_end": 3.258,
            "count": 0
           },
           {
            "bin_start": 3.258,
            "bin_end": 3.6159999999999997,
            "count": 0
           },
           {
            "bin_start": 3.6159999999999997,
            "bin_end": 3.974,
            "count": 0
           },
           {
            "bin_start": 3.974,
            "bin_end": 4.332,
            "count": 0
           },
           {
            "bin_start": 4.332,
            "bin_end": 4.69,
            "count": 1
           }
          ]
         }
        },
        {
         "name": "NativeAmericanNonHispanicPct2010",
         "dtype": "float64",
         "stats": {
          "unique_count": 2,
          "nan_count": 0,
          "min": "0.54",
          "max": "0.73",
          "histogram": [
           {
            "bin_start": 0.54,
            "bin_end": 0.559,
            "count": 1
           },
           {
            "bin_start": 0.559,
            "bin_end": 0.5780000000000001,
            "count": 0
           },
           {
            "bin_start": 0.5780000000000001,
            "bin_end": 0.597,
            "count": 0
           },
           {
            "bin_start": 0.597,
            "bin_end": 0.616,
            "count": 0
           },
           {
            "bin_start": 0.616,
            "bin_end": 0.635,
            "count": 0
           },
           {
            "bin_start": 0.635,
            "bin_end": 0.654,
            "count": 0
           },
           {
            "bin_start": 0.654,
            "bin_end": 0.673,
            "count": 0
           },
           {
            "bin_start": 0.673,
            "bin_end": 0.692,
            "count": 0
           },
           {
            "bin_start": 0.692,
            "bin_end": 0.711,
            "count": 0
           },
           {
            "bin_start": 0.711,
            "bin_end": 0.73,
            "count": 1
           }
          ]
         }
        },
        {
         "name": "HispanicPct2010",
         "dtype": "float64",
         "stats": {
          "unique_count": 2,
          "nan_count": 0,
          "min": "3.88",
          "max": "16.35",
          "histogram": [
           {
            "bin_start": 3.88,
            "bin_end": 5.127000000000001,
            "count": 1
           },
           {
            "bin_start": 5.127000000000001,
            "bin_end": 6.3740000000000006,
            "count": 0
           },
           {
            "bin_start": 6.3740000000000006,
            "bin_end": 7.621,
            "count": 0
           },
           {
            "bin_start": 7.621,
            "bin_end": 8.868000000000002,
            "count": 0
           },
           {
            "bin_start": 8.868000000000002,
            "bin_end": 10.115000000000002,
            "count": 0
           },
           {
            "bin_start": 10.115000000000002,
            "bin_end": 11.362000000000002,
            "count": 0
           },
           {
            "bin_start": 11.362000000000002,
            "bin_end": 12.609000000000002,
            "count": 0
           },
           {
            "bin_start": 12.609000000000002,
            "bin_end": 13.856000000000002,
            "count": 0
           },
           {
            "bin_start": 13.856000000000002,
            "bin_end": 15.103000000000002,
            "count": 0
           },
           {
            "bin_start": 15.103000000000002,
            "bin_end": 16.35,
            "count": 1
           }
          ]
         }
        },
        {
         "name": "MultipleRacePct2010",
         "dtype": "float64",
         "stats": {
          "unique_count": 2,
          "nan_count": 0,
          "min": "1.49",
          "max": "2.92",
          "histogram": [
           {
            "bin_start": 1.49,
            "bin_end": 1.633,
            "count": 1
           },
           {
            "bin_start": 1.633,
            "bin_end": 1.776,
            "count": 0
           },
           {
            "bin_start": 1.776,
            "bin_end": 1.919,
            "count": 0
           },
           {
            "bin_start": 1.919,
            "bin_end": 2.062,
            "count": 0
           },
           {
            "bin_start": 2.062,
            "bin_end": 2.205,
            "count": 0
           },
           {
            "bin_start": 2.205,
            "bin_end": 2.348,
            "count": 0
           },
           {
            "bin_start": 2.348,
            "bin_end": 2.4909999999999997,
            "count": 0
           },
           {
            "bin_start": 2.4909999999999997,
            "bin_end": 2.634,
            "count": 0
           },
           {
            "bin_start": 2.634,
            "bin_end": 2.777,
            "count": 0
           },
           {
            "bin_start": 2.777,
            "bin_end": 2.92,
            "count": 1
           }
          ]
         }
        },
        {
         "name": "NonHispanicWhitePopChangeRate0010",
         "dtype": "float64",
         "stats": {
          "unique_count": 2,
          "nan_count": 0,
          "min": "1.16",
          "max": "2.51",
          "histogram": [
           {
            "bin_start": 1.16,
            "bin_end": 1.295,
            "count": 1
           },
           {
            "bin_start": 1.295,
            "bin_end": 1.43,
            "count": 0
           },
           {
            "bin_start": 1.43,
            "bin_end": 1.565,
            "count": 0
           },
           {
            "bin_start": 1.565,
            "bin_end": 1.6999999999999997,
            "count": 0
           },
           {
            "bin_start": 1.6999999999999997,
            "bin_end": 1.835,
            "count": 0
           },
           {
            "bin_start": 1.835,
            "bin_end": 1.9699999999999998,
            "count": 0
           },
           {
            "bin_start": 1.9699999999999998,
            "bin_end": 2.1049999999999995,
            "count": 0
           },
           {
            "bin_start": 2.1049999999999995,
            "bin_end": 2.2399999999999998,
            "count": 0
           },
           {
            "bin_start": 2.2399999999999998,
            "bin_end": 2.375,
            "count": 0
           },
           {
            "bin_start": 2.375,
            "bin_end": 2.51,
            "count": 1
           }
          ]
         }
        },
        {
         "name": "NonHispanicBlackPopChangeRate0010",
         "dtype": "float64",
         "stats": {
          "unique_count": 2,
          "nan_count": 0,
          "min": "8.2",
          "max": "11.01",
          "histogram": [
           {
            "bin_start": 8.2,
            "bin_end": 8.481,
            "count": 1
           },
           {
            "bin_start": 8.481,
            "bin_end": 8.761999999999999,
            "count": 0
           },
           {
            "bin_start": 8.761999999999999,
            "bin_end": 9.043,
            "count": 0
           },
           {
            "bin_start": 9.043,
            "bin_end": 9.324,
            "count": 0
           },
           {
            "bin_start": 9.324,
            "bin_end": 9.605,
            "count": 0
           },
           {
            "bin_start": 9.605,
            "bin_end": 9.886,
            "count": 0
           },
           {
            "bin_start": 9.886,
            "bin_end": 10.167,
            "count": 0
           },
           {
            "bin_start": 10.167,
            "bin_end": 10.448,
            "count": 0
           },
           {
            "bin_start": 10.448,
            "bin_end": 10.729,
            "count": 0
           },
           {
            "bin_start": 10.729,
            "bin_end": 11.01,
            "count": 1
           }
          ]
         }
        },
        {
         "name": "NonHispanicAsianPopChangeRate0010",
         "dtype": "float64",
         "stats": {
          "unique_count": 2,
          "nan_count": 0,
          "min": "42.89",
          "max": "70.83",
          "histogram": [
           {
            "bin_start": 42.89,
            "bin_end": 45.684,
            "count": 1
           },
           {
            "bin_start": 45.684,
            "bin_end": 48.478,
            "count": 0
           },
           {
            "bin_start": 48.478,
            "bin_end": 51.272,
            "count": 0
           },
           {
            "bin_start": 51.272,
            "bin_end": 54.066,
            "count": 0
           },
           {
            "bin_start": 54.066,
            "bin_end": 56.86,
            "count": 0
           },
           {
            "bin_start": 56.86,
            "bin_end": 59.653999999999996,
            "count": 0
           },
           {
            "bin_start": 59.653999999999996,
            "bin_end": 62.44799999999999,
            "count": 0
           },
           {
            "bin_start": 62.44799999999999,
            "bin_end": 65.24199999999999,
            "count": 0
           },
           {
            "bin_start": 65.24199999999999,
            "bin_end": 68.036,
            "count": 0
           },
           {
            "bin_start": 68.036,
            "bin_end": 70.83,
            "count": 1
           }
          ]
         }
        },
        {
         "name": "NonHispanicNativeAmericanPopChangeRate0010",
         "dtype": "float64",
         "stats": {
          "unique_count": 2,
          "nan_count": 0,
          "min": "8.61",
          "max": "19.84",
          "histogram": [
           {
            "bin_start": 8.61,
            "bin_end": 9.732999999999999,
            "count": 1
           },
           {
            "bin_start": 9.732999999999999,
            "bin_end": 10.856,
            "count": 0
           },
           {
            "bin_start": 10.856,
            "bin_end": 11.979,
            "count": 0
           },
           {
            "bin_start": 11.979,
            "bin_end": 13.102,
            "count": 0
           },
           {
            "bin_start": 13.102,
            "bin_end": 14.225,
            "count": 0
           },
           {
            "bin_start": 14.225,
            "bin_end": 15.347999999999999,
            "count": 0
           },
           {
            "bin_start": 15.347999999999999,
            "bin_end": 16.471,
            "count": 0
           },
           {
            "bin_start": 16.471,
            "bin_end": 17.594,
            "count": 0
           },
           {
            "bin_start": 17.594,
            "bin_end": 18.717,
            "count": 0
           },
           {
            "bin_start": 18.717,
            "bin_end": 19.84,
            "count": 1
           }
          ]
         }
        },
        {
         "name": "HispanicPopChangeRate0010",
         "dtype": "float64",
         "stats": {
          "unique_count": 2,
          "nan_count": 0,
          "min": "42.97",
          "max": "144.76",
          "histogram": [
           {
            "bin_start": 42.97,
            "bin_end": 53.149,
            "count": 1
           },
           {
            "bin_start": 53.149,
            "bin_end": 63.327999999999996,
            "count": 0
           },
           {
            "bin_start": 63.327999999999996,
            "bin_end": 73.50699999999999,
            "count": 0
           },
           {
            "bin_start": 73.50699999999999,
            "bin_end": 83.68599999999999,
            "count": 0
           },
           {
            "bin_start": 83.68599999999999,
            "bin_end": 93.865,
            "count": 0
           },
           {
            "bin_start": 93.865,
            "bin_end": 104.04399999999998,
            "count": 0
           },
           {
            "bin_start": 104.04399999999998,
            "bin_end": 114.22299999999998,
            "count": 0
           },
           {
            "bin_start": 114.22299999999998,
            "bin_end": 124.40199999999999,
            "count": 0
           },
           {
            "bin_start": 124.40199999999999,
            "bin_end": 134.581,
            "count": 0
           },
           {
            "bin_start": 134.581,
            "bin_end": 144.76,
            "count": 1
           }
          ]
         }
        },
        {
         "name": "MultipleRacePopChangeRate0010",
         "dtype": "float64",
         "stats": {
          "unique_count": 2,
          "nan_count": 0,
          "min": "31.98",
          "max": "61.28",
          "histogram": [
           {
            "bin_start": 31.98,
            "bin_end": 34.910000000000004,
            "count": 1
           },
           {
            "bin_start": 34.910000000000004,
            "bin_end": 37.84,
            "count": 0
           },
           {
            "bin_start": 37.84,
            "bin_end": 40.77,
            "count": 0
           },
           {
            "bin_start": 40.77,
            "bin_end": 43.7,
            "count": 0
           },
           {
            "bin_start": 43.7,
            "bin_end": 46.63,
            "count": 0
           },
           {
            "bin_start": 46.63,
            "bin_end": 49.56,
            "count": 0
           },
           {
            "bin_start": 49.56,
            "bin_end": 52.49,
            "count": 0
           },
           {
            "bin_start": 52.49,
            "bin_end": 55.42,
            "count": 0
           },
           {
            "bin_start": 55.42,
            "bin_end": 58.35,
            "count": 0
           },
           {
            "bin_start": 58.35,
            "bin_end": 61.28,
            "count": 1
           }
          ]
         }
        },
        {
         "name": "WhiteNonHispanicNum2010",
         "dtype": "int64",
         "stats": {
          "unique_count": 2,
          "nan_count": 0,
          "min": "3204402",
          "max": "196817552",
          "histogram": [
           {
            "bin_start": 3204402,
            "bin_end": 22565717,
            "count": 1
           },
           {
            "bin_start": 22565717,
            "bin_end": 41927032,
            "count": 0
           },
           {
            "bin_start": 41927032,
            "bin_end": 61288347,
            "count": 0
           },
           {
            "bin_start": 61288347,
            "bin_end": 80649662,
            "count": 0
           },
           {
            "bin_start": 80649662,
            "bin_end": 100010977,
            "count": 0
           },
           {
            "bin_start": 100010977,
            "bin_end": 119372292,
            "count": 0
           },
           {
            "bin_start": 119372292,
            "bin_end": 138733607,
            "count": 0
           },
           {
            "bin_start": 138733607,
            "bin_end": 158094922,
            "count": 0
           },
           {
            "bin_start": 158094922,
            "bin_end": 177456237,
            "count": 0
           },
           {
            "bin_start": 177456237,
            "bin_end": 196817552,
            "count": 1
           }
          ]
         }
        },
        {
         "name": "BlackNonHispanicNum2010",
         "dtype": "int64",
         "stats": {
          "unique_count": 2,
          "nan_count": 0,
          "min": "1244437",
          "max": "37685848",
          "histogram": [
           {
            "bin_start": 1244437,
            "bin_end": 4888578.1,
            "count": 1
           },
           {
            "bin_start": 4888578.1,
            "bin_end": 8532719.2,
            "count": 0
           },
           {
            "bin_start": 8532719.2,
            "bin_end": 12176860.3,
            "count": 0
           },
           {
            "bin_start": 12176860.3,
            "bin_end": 15821001.4,
            "count": 0
           },
           {
            "bin_start": 15821001.4,
            "bin_end": 19465142.5,
            "count": 0
           },
           {
            "bin_start": 19465142.5,
            "bin_end": 23109283.6,
            "count": 0
           },
           {
            "bin_start": 23109283.6,
            "bin_end": 26753424.7,
            "count": 0
           },
           {
            "bin_start": 26753424.7,
            "bin_end": 30397565.8,
            "count": 0
           },
           {
            "bin_start": 30397565.8,
            "bin_end": 34041706.900000006,
            "count": 0
           },
           {
            "bin_start": 34041706.900000006,
            "bin_end": 37685848,
            "count": 1
           }
          ]
         }
        },
        {
         "name": "AsianNonHispanicNum2010",
         "dtype": "int64",
         "stats": {
          "unique_count": 2,
          "nan_count": 0,
          "min": "52937",
          "max": "14465124",
          "histogram": [
           {
            "bin_start": 52937,
            "bin_end": 1494155.7,
            "count": 1
           },
           {
            "bin_start": 1494155.7,
            "bin_end": 2935374.4,
            "count": 0
           },
           {
            "bin_start": 2935374.4,
            "bin_end": 4376593.1,
            "count": 0
           },
           {
            "bin_start": 4376593.1,
            "bin_end": 5817811.8,
            "count": 0
           },
           {
            "bin_start": 5817811.8,
            "bin_end": 7259030.5,
            "count": 0
           },
           {
            "bin_start": 7259030.5,
            "bin_end": 8700249.2,
            "count": 0
           },
           {
            "bin_start": 8700249.2,
            "bin_end": 10141467.9,
            "count": 0
           },
           {
            "bin_start": 10141467.9,
            "bin_end": 11582686.6,
            "count": 0
           },
           {
            "bin_start": 11582686.6,
            "bin_end": 13023905.299999999,
            "count": 0
           },
           {
            "bin_start": 13023905.299999999,
            "bin_end": 14465124,
            "count": 1
           }
          ]
         }
        },
        {
         "name": "NativeAmericanNonHispanicNum2010",
         "dtype": "int64",
         "stats": {
          "unique_count": 2,
          "nan_count": 0,
          "min": "25907",
          "max": "2247098",
          "histogram": [
           {
            "bin_start": 25907,
            "bin_end": 248026.1,
            "count": 1
           },
           {
            "bin_start": 248026.1,
            "bin_end": 470145.2,
            "count": 0
           },
           {
            "bin_start": 470145.2,
            "bin_end": 692264.3,
            "count": 0
           },
           {
            "bin_start": 692264.3,
            "bin_end": 914383.4,
            "count": 0
           },
           {
            "bin_start": 914383.4,
            "bin_end": 1136502.5,
            "count": 0
           },
           {
            "bin_start": 1136502.5,
            "bin_end": 1358621.6,
            "count": 0
           },
           {
            "bin_start": 1358621.6,
            "bin_end": 1580740.7,
            "count": 0
           },
           {
            "bin_start": 1580740.7,
            "bin_end": 1802859.8,
            "count": 0
           },
           {
            "bin_start": 1802859.8,
            "bin_end": 2024978.9000000001,
            "count": 0
           },
           {
            "bin_start": 2024978.9000000001,
            "bin_end": 2247098,
            "count": 1
           }
          ]
         }
        },
        {
         "name": "HispanicNum2010",
         "dtype": "int64",
         "stats": {
          "unique_count": 2,
          "nan_count": 0,
          "min": "185602",
          "max": "50477594",
          "histogram": [
           {
            "bin_start": 185602,
            "bin_end": 5214801.2,
            "count": 1
           },
           {
            "bin_start": 5214801.2,
            "bin_end": 10244000.4,
            "count": 0
           },
           {
            "bin_start": 10244000.4,
            "bin_end": 15273199.600000001,
            "count": 0
           },
           {
            "bin_start": 15273199.600000001,
            "bin_end": 20302398.8,
            "count": 0
           },
           {
            "bin_start": 20302398.8,
            "bin_end": 25331598,
            "count": 0
           },
           {
            "bin_start": 25331598,
            "bin_end": 30360797.200000003,
            "count": 0
           },
           {
            "bin_start": 30360797.200000003,
            "bin_end": 35389996.4,
            "count": 0
           },
           {
            "bin_start": 35389996.4,
            "bin_end": 40419195.6,
            "count": 0
           },
           {
            "bin_start": 40419195.6,
            "bin_end": 45448394.800000004,
            "count": 0
           },
           {
            "bin_start": 45448394.800000004,
            "bin_end": 50477594,
            "count": 1
           }
          ]
         }
        },
        {
         "name": "MultipleRaceNum2010",
         "dtype": "int64",
         "stats": {
          "unique_count": 2,
          "nan_count": 0,
          "min": "71251",
          "max": "9009073",
          "histogram": [
           {
            "bin_start": 71251,
            "bin_end": 965033.2,
            "count": 1
           },
           {
            "bin_start": 965033.2,
            "bin_end": 1858815.4,
            "count": 0
           },
           {
            "bin_start": 1858815.4,
            "bin_end": 2752597.5999999996,
            "count": 0
           },
           {
            "bin_start": 2752597.5999999996,
            "bin_end": 3646379.8,
            "count": 0
           },
           {
            "bin_start": 3646379.8,
            "bin_end": 4540162,
            "count": 0
           },
           {
            "bin_start": 4540162,
            "bin_end": 5433944.199999999,
            "count": 0
           },
           {
            "bin_start": 5433944.199999999,
            "bin_end": 6327726.399999999,
            "count": 0
           },
           {
            "bin_start": 6327726.399999999,
            "bin_end": 7221508.6,
            "count": 0
           },
           {
            "bin_start": 7221508.6,
            "bin_end": 8115290.8,
            "count": 0
           },
           {
            "bin_start": 8115290.8,
            "bin_end": 9009073,
            "count": 1
           }
          ]
         }
        },
        {
         "name": "ForeignBornPct",
         "dtype": "float64",
         "stats": {
          "unique_count": 2,
          "nan_count": 0,
          "min": "3.546721354",
          "max": "13.55457526",
          "histogram": [
           {
            "bin_start": 3.546721354,
            "bin_end": 4.5475067446,
            "count": 1
           },
           {
            "bin_start": 4.5475067446,
            "bin_end": 5.5482921352000005,
            "count": 0
           },
           {
            "bin_start": 5.5482921352000005,
            "bin_end": 6.5490775258,
            "count": 0
           },
           {
            "bin_start": 6.5490775258,
            "bin_end": 7.5498629164,
            "count": 0
           },
           {
            "bin_start": 7.5498629164,
            "bin_end": 8.550648307,
            "count": 0
           },
           {
            "bin_start": 8.550648307,
            "bin_end": 9.5514336976,
            "count": 0
           },
           {
            "bin_start": 9.5514336976,
            "bin_end": 10.5522190882,
            "count": 0
           },
           {
            "bin_start": 10.5522190882,
            "bin_end": 11.5530044788,
            "count": 0
           },
           {
            "bin_start": 11.5530044788,
            "bin_end": 12.553789869400001,
            "count": 0
           },
           {
            "bin_start": 12.553789869400001,
            "bin_end": 13.55457526,
            "count": 1
           }
          ]
         }
        },
        {
         "name": "ForeignBornEuropePct",
         "dtype": "float64",
         "stats": {
          "unique_count": 2,
          "nan_count": 0,
          "min": "0.408285055",
          "max": "1.46716272",
          "histogram": [
           {
            "bin_start": 0.408285055,
            "bin_end": 0.5141728215,
            "count": 1
           },
           {
            "bin_start": 0.5141728215,
            "bin_end": 0.620060588,
            "count": 0
           },
           {
            "bin_start": 0.620060588,
            "bin_end": 0.7259483545,
            "count": 0
           },
           {
            "bin_start": 0.7259483545,
            "bin_end": 0.8318361209999999,
            "count": 0
           },
           {
            "bin_start": 0.8318361209999999,
            "bin_end": 0.9377238874999999,
            "count": 0
           },
           {
            "bin_start": 0.9377238874999999,
            "bin_end": 1.0436116539999998,
            "count": 0
           },
           {
            "bin_start": 1.0436116539999998,
            "bin_end": 1.1494994204999998,
            "count": 0
           },
           {
            "bin_start": 1.1494994204999998,
            "bin_end": 1.2553871869999997,
            "count": 0
           },
           {
            "bin_start": 1.2553871869999997,
            "bin_end": 1.3612749534999997,
            "count": 0
           },
           {
            "bin_start": 1.3612749534999997,
            "bin_end": 1.46716272,
            "count": 1
           }
          ]
         }
        },
        {
         "name": "ForeignBornMexPct",
         "dtype": "float64",
         "stats": {
          "unique_count": 2,
          "nan_count": 0,
          "min": "1.005936939",
          "max": "3.464926825",
          "histogram": [
           {
            "bin_start": 1.005936939,
            "bin_end": 1.2518359276,
            "count": 1
           },
           {
            "bin_start": 1.2518359276,
            "bin_end": 1.4977349162,
            "count": 0
           },
           {
            "bin_start": 1.4977349162,
            "bin_end": 1.7436339048,
            "count": 0
           },
           {
            "bin_start": 1.7436339048,
            "bin_end": 1.9895328934,
            "count": 0
           },
           {
            "bin_start": 1.9895328934,
            "bin_end": 2.2354318820000003,
            "count": 0
           },
           {
            "bin_start": 2.2354318820000003,
            "bin_end": 2.4813308706,
            "count": 0
           },
           {
            "bin_start": 2.4813308706,
            "bin_end": 2.7272298592000004,
            "count": 0
           },
           {
            "bin_start": 2.7272298592000004,
            "bin_end": 2.9731288478,
            "count": 0
           },
           {
            "bin_start": 2.9731288478,
            "bin_end": 3.2190278364000005,
            "count": 0
           },
           {
            "bin_start": 3.2190278364000005,
            "bin_end": 3.464926825,
            "count": 1
           }
          ]
         }
        },
        {
         "name": "NonEnglishHHPct",
         "dtype": "float64",
         "stats": {
          "unique_count": 2,
          "nan_count": 0,
          "min": "1.218324604",
          "max": "4.396049795",
          "histogram": [
           {
            "bin_start": 1.218324604,
            "bin_end": 1.5360971230999998,
            "count": 1
           },
           {
            "bin_start": 1.5360971230999998,
            "bin_end": 1.8538696421999998,
            "count": 0
           },
           {
            "bin_start": 1.8538696421999998,
            "bin_end": 2.1716421613,
            "count": 0
           },
           {
            "bin_start": 2.1716421613,
            "bin_end": 2.4894146803999995,
            "count": 0
           },
           {
            "bin_start": 2.4894146803999995,
            "bin_end": 2.8071871994999995,
            "count": 0
           },
           {
            "bin_start": 2.8071871994999995,
            "bin_end": 3.1249597185999995,
            "count": 0
           },
           {
            "bin_start": 3.1249597185999995,
            "bin_end": 3.4427322376999996,
            "count": 0
           },
           {
            "bin_start": 3.4427322376999996,
            "bin_end": 3.7605047567999996,
            "count": 0
           },
           {
            "bin_start": 3.7605047567999996,
            "bin_end": 4.0782772759,
            "count": 0
           },
           {
            "bin_start": 4.0782772759,
            "bin_end": 4.396049795,
            "count": 1
           }
          ]
         }
        },
        {
         "name": "Ed1LessThanHSPct",
         "dtype": "float64",
         "stats": {
          "unique_count": 2,
          "nan_count": 0,
          "min": "11.99891755",
          "max": "13.81930135",
          "histogram": [
           {
            "bin_start": 11.99891755,
            "bin_end": 12.18095593,
            "count": 1
           },
           {
            "bin_start": 12.18095593,
            "bin_end": 12.36299431,
            "count": 0
           },
           {
            "bin_start": 12.36299431,
            "bin_end": 12.54503269,
            "count": 0
           },
           {
            "bin_start": 12.54503269,
            "bin_end": 12.72707107,
            "count": 0
           },
           {
            "bin_start": 12.72707107,
            "bin_end": 12.909109449999999,
            "count": 0
           },
           {
            "bin_start": 12.909109449999999,
            "bin_end": 13.09114783,
            "count": 0
           },
           {
            "bin_start": 13.09114783,
            "bin_end": 13.27318621,
            "count": 0
           },
           {
            "bin_start": 13.27318621,
            "bin_end": 13.45522459,
            "count": 0
           },
           {
            "bin_start": 13.45522459,
            "bin_end": 13.63726297,
            "count": 0
           },
           {
            "bin_start": 13.63726297,
            "bin_end": 13.81930135,
            "count": 1
           }
          ]
         }
        },
        {
         "name": "Ed2HSDiplomaOnlyPct",
         "dtype": "float64",
         "stats": {
          "unique_count": 2,
          "nan_count": 0,
          "min": "26.95684361",
          "max": "30.80026752",
          "histogram": [
           {
            "bin_start": 26.95684361,
            "bin_end": 27.341186001,
            "count": 1
           },
           {
            "bin_start": 27.341186001,
            "bin_end": 27.725528392,
            "count": 0
           },
           {
            "bin_start": 27.725528392,
            "bin_end": 28.109870782999998,
            "count": 0
           },
           {
            "bin_start": 28.109870782999998,
            "bin_end": 28.494213174,
            "count": 0
           },
           {
            "bin_start": 28.494213174,
            "bin_end": 28.878555565,
            "count": 0
           },
           {
            "bin_start": 28.878555565,
            "bin_end": 29.262897956,
            "count": 0
           },
           {
            "bin_start": 29.262897956,
            "bin_end": 29.647240347,
            "count": 0
           },
           {
            "bin_start": 29.647240347,
            "bin_end": 30.031582737999997,
            "count": 0
           },
           {
            "bin_start": 30.031582737999997,
            "bin_end": 30.415925128999998,
            "count": 0
           },
           {
            "bin_start": 30.415925128999998,
            "bin_end": 30.80026752,
            "count": 1
           }
          ]
         }
        },
        {
         "name": "Ed3SomeCollegePct",
         "dtype": "float64",
         "stats": {
          "unique_count": 2,
          "nan_count": 0,
          "min": "20.41713088",
          "max": "21.41085021",
          "histogram": [
           {
            "bin_start": 20.41713088,
            "bin_end": 20.516502813,
            "count": 1
           },
           {
            "bin_start": 20.516502813,
            "bin_end": 20.615874746,
            "count": 0
           },
           {
            "bin_start": 20.615874746,
            "bin_end": 20.715246679,
            "count": 0
           },
           {
            "bin_start": 20.715246679,
            "bin_end": 20.814618612,
            "count": 0
           },
           {
            "bin_start": 20.814618612,
            "bin_end": 20.913990544999997,
            "count": 0
           },
           {
            "bin_start": 20.913990544999997,
            "bin_end": 21.013362477999998,
            "count": 0
           },
           {
            "bin_start": 21.013362477999998,
            "bin_end": 21.112734410999998,
            "count": 0
           },
           {
            "bin_start": 21.112734410999998,
            "bin_end": 21.212106344,
            "count": 0
           },
           {
            "bin_start": 21.212106344,
            "bin_end": 21.311478277,
            "count": 0
           },
           {
            "bin_start": 21.311478277,
            "bin_end": 21.41085021,
            "count": 1
           }
          ]
         }
        },
        {
         "name": "Ed4AssocDegreePct",
         "dtype": "float64",
         "stats": {
          "unique_count": 2,
          "nan_count": 0,
          "min": "8.481566006",
          "max": "8.501248315",
          "histogram": [
           {
            "bin_start": 8.481566006,
            "bin_end": 8.483534236899999,
            "count": 1
           },
           {
            "bin_start": 8.483534236899999,
            "bin_end": 8.4855024678,
            "count": 0
           },
           {
            "bin_start": 8.4855024678,
            "bin_end": 8.4874706987,
            "count": 0
           },
           {
            "bin_start": 8.4874706987,
            "bin_end": 8.4894389296,
            "count": 0
           },
           {
            "bin_start": 8.4894389296,
            "bin_end": 8.4914071605,
            "count": 0
           },
           {
            "bin_start": 8.4914071605,
            "bin_end": 8.493375391399999,
            "count": 0
           },
           {
            "bin_start": 8.493375391399999,
            "bin_end": 8.4953436223,
            "count": 0
           },
           {
            "bin_start": 8.4953436223,
            "bin_end": 8.4973118532,
            "count": 0
           },
           {
            "bin_start": 8.4973118532,
            "bin_end": 8.4992800841,
            "count": 0
           },
           {
            "bin_start": 8.4992800841,
            "bin_end": 8.501248315,
            "count": 1
           }
          ]
         }
        },
        {
         "name": "Ed5CollegePlusPct",
         "dtype": "float64",
         "stats": {
          "unique_count": 2,
          "nan_count": 0,
          "min": "25.46833261",
          "max": "32.14554195",
          "histogram": [
           {
            "bin_start": 25.46833261,
            "bin_end": 26.136053544,
            "count": 1
           },
           {
            "bin_start": 26.136053544,
            "bin_end": 26.803774478,
            "count": 0
           },
           {
            "bin_start": 26.803774478,
            "bin_end": 27.471495412000003,
            "count": 0
           },
           {
            "bin_start": 27.471495412000003,
            "bin_end": 28.139216346,
            "count": 0
           },
           {
            "bin_start": 28.139216346,
            "bin_end": 28.80693728,
            "count": 0
           },
           {
            "bin_start": 28.80693728,
            "bin_end": 29.474658214,
            "count": 0
           },
           {
            "bin_start": 29.474658214,
            "bin_end": 30.142379148000003,
            "count": 0
           },
           {
            "bin_start": 30.142379148000003,
            "bin_end": 30.810100082,
            "count": 0
           },
           {
            "bin_start": 30.810100082,
            "bin_end": 31.477821016,
            "count": 0
           },
           {
            "bin_start": 31.477821016,
            "bin_end": 32.14554195,
            "count": 1
           }
          ]
         }
        },
        {
         "name": "AvgHHSize",
         "dtype": "float64",
         "stats": {
          "unique_count": 2,
          "nan_count": 0,
          "min": "2.55",
          "max": "2.62",
          "histogram": [
           {
            "bin_start": 2.55,
            "bin_end": 2.557,
            "count": 1
           },
           {
            "bin_start": 2.557,
            "bin_end": 2.564,
            "count": 0
           },
           {
            "bin_start": 2.564,
            "bin_end": 2.5709999999999997,
            "count": 0
           },
           {
            "bin_start": 2.5709999999999997,
            "bin_end": 2.578,
            "count": 0
           },
           {
            "bin_start": 2.578,
            "bin_end": 2.585,
            "count": 0
           },
           {
            "bin_start": 2.585,
            "bin_end": 2.592,
            "count": 0
           },
           {
            "bin_start": 2.592,
            "bin_end": 2.599,
            "count": 0
           },
           {
            "bin_start": 2.599,
            "bin_end": 2.606,
            "count": 0
           },
           {
            "bin_start": 2.606,
            "bin_end": 2.613,
            "count": 0
           },
           {
            "bin_start": 2.613,
            "bin_end": 2.62,
            "count": 1
           }
          ]
         }
        },
        {
         "name": "FemaleHHPct",
         "dtype": "float64",
         "stats": {
          "unique_count": 2,
          "nan_count": 0,
          "min": "12.43578624",
          "max": "14.16660376",
          "histogram": [
           {
            "bin_start": 12.43578624,
            "bin_end": 12.608867992,
            "count": 1
           },
           {
            "bin_start": 12.608867992,
            "bin_end": 12.781949744,
            "count": 0
           },
           {
            "bin_start": 12.781949744,
            "bin_end": 12.955031496,
            "count": 0
           },
           {
            "bin_start": 12.955031496,
            "bin_end": 13.128113248,
            "count": 0
           },
           {
            "bin_start": 13.128113248,
            "bin_end": 13.301195,
            "count": 0
           },
           {
            "bin_start": 13.301195,
            "bin_end": 13.474276752,
            "count": 0
           },
           {
            "bin_start": 13.474276752,
            "bin_end": 13.647358504,
            "count": 0
           },
           {
            "bin_start": 13.647358504,
            "bin_end": 13.820440256,
            "count": 0
           },
           {
            "bin_start": 13.820440256,
            "bin_end": 13.993522008,
            "count": 0
           },
           {
            "bin_start": 13.993522008,
            "bin_end": 14.16660376,
            "count": 1
           }
          ]
         }
        },
        {
         "name": "HH65PlusAlonePct",
         "dtype": "float64",
         "stats": {
          "unique_count": 2,
          "nan_count": 0,
          "min": "10.98062268",
          "max": "11.67400916",
          "histogram": [
           {
            "bin_start": 10.98062268,
            "bin_end": 11.049961328,
            "count": 1
           },
           {
            "bin_start": 11.049961328,
            "bin_end": 11.119299976,
            "count": 0
           },
           {
            "bin_start": 11.119299976,
            "bin_end": 11.188638624,
            "count": 0
           },
           {
            "bin_start": 11.188638624,
            "bin_end": 11.257977272,
            "count": 0
           },
           {
            "bin_start": 11.257977272,
            "bin_end": 11.32731592,
            "count": 0
           },
           {
            "bin_start": 11.32731592,
            "bin_end": 11.396654568,
            "count": 0
           },
           {
            "bin_start": 11.396654568,
            "bin_end": 11.465993216000001,
            "count": 0
           },
           {
            "bin_start": 11.465993216000001,
            "bin_end": 11.535331864,
            "count": 0
           },
           {
            "bin_start": 11.535331864,
            "bin_end": 11.604670512,
            "count": 0
           },
           {
            "bin_start": 11.604670512,
            "bin_end": 11.67400916,
            "count": 1
           }
          ]
         }
        },
        {
         "name": "OwnHomePct",
         "dtype": "float64",
         "stats": {
          "unique_count": 2,
          "nan_count": 0,
          "min": "63.99214141",
          "max": "68.78059932",
          "histogram": [
           {
            "bin_start": 63.99214141,
            "bin_end": 64.470987201,
            "count": 1
           },
           {
            "bin_start": 64.470987201,
            "bin_end": 64.949832992,
            "count": 0
           },
           {
            "bin_start": 64.949832992,
            "bin_end": 65.428678783,
            "count": 0
           },
           {
            "bin_start": 65.428678783,
            "bin_end": 65.90752457399999,
            "count": 0
           },
           {
            "bin_start": 65.90752457399999,
            "bin_end": 66.386370365,
            "count": 0
           },
           {
            "bin_start": 66.386370365,
            "bin_end": 66.865216156,
            "count": 0
           },
           {
            "bin_start": 66.865216156,
            "bin_end": 67.344061947,
            "count": 0
           },
           {
            "bin_start": 67.344061947,
            "bin_end": 67.822907738,
            "count": 0
           },
           {
            "bin_start": 67.822907738,
            "bin_end": 68.301753529,
            "count": 0
           },
           {
            "bin_start": 68.301753529,
            "bin_end": 68.78059932,
            "count": 1
           }
          ]
         }
        },
        {
         "name": "ForeignBornNum",
         "dtype": "float64",
         "stats": {
          "unique_count": 2,
          "nan_count": 0,
          "min": "172947.0",
          "max": "44011407.0",
          "histogram": [
           {
            "bin_start": 172947,
            "bin_end": 4556793,
            "count": 1
           },
           {
            "bin_start": 4556793,
            "bin_end": 8940639,
            "count": 0
           },
           {
            "bin_start": 8940639,
            "bin_end": 13324485,
            "count": 0
           },
           {
            "bin_start": 13324485,
            "bin_end": 17708331,
            "count": 0
           },
           {
            "bin_start": 17708331,
            "bin_end": 22092177,
            "count": 0
           },
           {
            "bin_start": 22092177,
            "bin_end": 26476023,
            "count": 0
           },
           {
            "bin_start": 26476023,
            "bin_end": 30859869,
            "count": 0
           },
           {
            "bin_start": 30859869,
            "bin_end": 35243715,
            "count": 0
           },
           {
            "bin_start": 35243715,
            "bin_end": 39627561,
            "count": 0
           },
           {
            "bin_start": 39627561,
            "bin_end": 44011407,
            "count": 1
           }
          ]
         }
        },
        {
         "name": "TotalPopACS",
         "dtype": "int64",
         "stats": {
          "unique_count": 2,
          "nan_count": 0,
          "min": "4876250",
          "max": "324697795",
          "histogram": [
           {
            "bin_start": 4876250,
            "bin_end": 36858404.5,
            "count": 1
           },
           {
            "bin_start": 36858404.5,
            "bin_end": 68840559,
            "count": 0
           },
           {
            "bin_start": 68840559,
            "bin_end": 100822713.5,
            "count": 0
           },
           {
            "bin_start": 100822713.5,
            "bin_end": 132804868,
            "count": 0
           },
           {
            "bin_start": 132804868,
            "bin_end": 164787022.5,
            "count": 0
           },
           {
            "bin_start": 164787022.5,
            "bin_end": 196769177,
            "count": 0
           },
           {
            "bin_start": 196769177,
            "bin_end": 228751331.5,
            "count": 0
           },
           {
            "bin_start": 228751331.5,
            "bin_end": 260733486,
            "count": 0
           },
           {
            "bin_start": 260733486,
            "bin_end": 292715640.5,
            "count": 0
           },
           {
            "bin_start": 292715640.5,
            "bin_end": 324697795,
            "count": 1
           }
          ]
         }
        },
        {
         "name": "ForeignBornAfricaPct",
         "dtype": "float64",
         "stats": {
          "unique_count": 2,
          "nan_count": 0,
          "min": "0.185388362",
          "max": "0.695007184",
          "histogram": [
           {
            "bin_start": 0.185388362,
            "bin_end": 0.2363502442,
            "count": 1
           },
           {
            "bin_start": 0.2363502442,
            "bin_end": 0.2873121264,
            "count": 0
           },
           {
            "bin_start": 0.2873121264,
            "bin_end": 0.3382740086,
            "count": 0
           },
           {
            "bin_start": 0.3382740086,
            "bin_end": 0.3892358908,
            "count": 0
           },
           {
            "bin_start": 0.3892358908,
            "bin_end": 0.44019777299999996,
            "count": 0
           },
           {
            "bin_start": 0.44019777299999996,
            "bin_end": 0.49115965519999993,
            "count": 0
           },
           {
            "bin_start": 0.49115965519999993,
            "bin_end": 0.5421215374,
            "count": 0
           },
           {
            "bin_start": 0.5421215374,
            "bin_end": 0.5930834196,
            "count": 0
           },
           {
            "bin_start": 0.5930834196,
            "bin_end": 0.6440453018,
            "count": 0
           },
           {
            "bin_start": 0.6440453018,
            "bin_end": 0.695007184,
            "count": 1
           }
          ]
         }
        },
        {
         "name": "Ed3SomeCollegeNum",
         "dtype": "int64",
         "stats": {
          "unique_count": 2,
          "nan_count": 0,
          "min": "711028",
          "max": "45044698",
          "histogram": [
           {
            "bin_start": 711028,
            "bin_end": 5144395,
            "count": 1
           },
           {
            "bin_start": 5144395,
            "bin_end": 9577762,
            "count": 0
           },
           {
            "bin_start": 9577762,
            "bin_end": 14011129,
            "count": 0
           },
           {
            "bin_start": 14011129,
            "bin_end": 18444496,
            "count": 0
           },
           {
            "bin_start": 18444496,
            "bin_end": 22877863,
            "count": 0
           },
           {
            "bin_start": 22877863,
            "bin_end": 27311230,
            "count": 0
           },
           {
            "bin_start": 27311230,
            "bin_end": 31744597,
            "count": 0
           },
           {
            "bin_start": 31744597,
            "bin_end": 36177964,
            "count": 0
           },
           {
            "bin_start": 36177964,
            "bin_end": 40611331,
            "count": 0
           },
           {
            "bin_start": 40611331,
            "bin_end": 45044698,
            "count": 1
           }
          ]
         }
        },
        {
         "name": "Ed2HSDiplomaOnlyNum",
         "dtype": "int64",
         "stats": {
          "unique_count": 2,
          "nan_count": 0,
          "min": "1022839",
          "max": "59472748",
          "histogram": [
           {
            "bin_start": 1022839,
            "bin_end": 6867829.9,
            "count": 1
           },
           {
            "bin_start": 6867829.9,
            "bin_end": 12712820.8,
            "count": 0
           },
           {
            "bin_start": 12712820.8,
            "bin_end": 18557811.700000003,
            "count": 0
           },
           {
            "bin_start": 18557811.700000003,
            "bin_end": 24402802.6,
            "count": 0
           },
           {
            "bin_start": 24402802.6,
            "bin_end": 30247793.5,
            "count": 0
           },
           {
            "bin_start": 30247793.5,
            "bin_end": 36092784.400000006,
            "count": 0
           },
           {
            "bin_start": 36092784.400000006,
            "bin_end": 41937775.300000004,
            "count": 0
           },
           {
            "bin_start": 41937775.300000004,
            "bin_end": 47782766.2,
            "count": 0
           },
           {
            "bin_start": 47782766.2,
            "bin_end": 53627757.1,
            "count": 0
           },
           {
            "bin_start": 53627757.1,
            "bin_end": 59472748,
            "count": 1
           }
          ]
         }
        },
        {
         "name": "Ed1LessThanHSNum",
         "dtype": "int64",
         "stats": {
          "unique_count": 2,
          "nan_count": 0,
          "min": "458922",
          "max": "26472261",
          "histogram": [
           {
            "bin_start": 458922,
            "bin_end": 3060255.9,
            "count": 1
           },
           {
            "bin_start": 3060255.9,
            "bin_end": 5661589.8,
            "count": 0
           },
           {
            "bin_start": 5661589.8,
            "bin_end": 8262923.699999999,
            "count": 0
           },
           {
            "bin_start": 8262923.699999999,
            "bin_end": 10864257.6,
            "count": 0
           },
           {
            "bin_start": 10864257.6,
            "bin_end": 13465591.5,
            "count": 0
           },
           {
            "bin_start": 13465591.5,
            "bin_end": 16066925.399999999,
            "count": 0
           },
           {
            "bin_start": 16066925.399999999,
            "bin_end": 18668259.3,
            "count": 0
           },
           {
            "bin_start": 18668259.3,
            "bin_end": 21269593.2,
            "count": 0
           },
           {
            "bin_start": 21269593.2,
            "bin_end": 23870927.099999998,
            "count": 0
           },
           {
            "bin_start": 23870927.099999998,
            "bin_end": 26472261,
            "count": 1
           }
          ]
         }
        },
        {
         "name": "TotalPop25Plus",
         "dtype": "int64",
         "stats": {
          "unique_count": 2,
          "nan_count": 0,
          "min": "3320877",
          "max": "220622076",
          "histogram": [
           {
            "bin_start": 3320877,
            "bin_end": 25050996.9,
            "count": 1
           },
           {
            "bin_start": 25050996.9,
            "bin_end": 46781116.8,
            "count": 0
           },
           {
            "bin_start": 46781116.8,
            "bin_end": 68511236.69999999,
            "count": 0
           },
           {
            "bin_start": 68511236.69999999,
            "bin_end": 90241356.6,
            "count": 0
           },
           {
            "bin_start": 90241356.6,
            "bin_end": 111971476.5,
            "count": 0
           },
           {
            "bin_start": 111971476.5,
            "bin_end": 133701596.39999999,
            "count": 0
           },
           {
            "bin_start": 133701596.39999999,
            "bin_end": 155431716.29999998,
            "count": 0
           },
           {
            "bin_start": 155431716.29999998,
            "bin_end": 177161836.2,
            "count": 0
           },
           {
            "bin_start": 177161836.2,
            "bin_end": 198891956.1,
            "count": 0
           },
           {
            "bin_start": 198891956.1,
            "bin_end": 220622076,
            "count": 1
           }
          ]
         }
        },
        {
         "name": "Ed5CollegePlusNum",
         "dtype": "int64",
         "stats": {
          "unique_count": 2,
          "nan_count": 0,
          "min": "845772",
          "max": "70920162",
          "histogram": [
           {
            "bin_start": 845772,
            "bin_end": 7853211,
            "count": 1
           },
           {
            "bin_start": 7853211,
            "bin_end": 14860650,
            "count": 0
           },
           {
            "bin_start": 14860650,
            "bin_end": 21868089,
            "count": 0
           },
           {
            "bin_start": 21868089,
            "bin_end": 28875528,
            "count": 0
           },
           {
            "bin_start": 28875528,
            "bin_end": 35882967,
            "count": 0
           },
           {
            "bin_start": 35882967,
            "bin_end": 42890406,
            "count": 0
           },
           {
            "bin_start": 42890406,
            "bin_end": 49897845,
            "count": 0
           },
           {
            "bin_start": 49897845,
            "bin_end": 56905284,
            "count": 0
           },
           {
            "bin_start": 56905284,
            "bin_end": 63912723,
            "count": 0
           },
           {
            "bin_start": 63912723,
            "bin_end": 70920162,
            "count": 1
           }
          ]
         }
        },
        {
         "name": "TotalOccHU",
         "dtype": "int64",
         "stats": {
          "unique_count": 2,
          "nan_count": 0,
          "min": "1867893",
          "max": "120756048",
          "histogram": [
           {
            "bin_start": 1867893,
            "bin_end": 13756708.5,
            "count": 1
           },
           {
            "bin_start": 13756708.5,
            "bin_end": 25645524,
            "count": 0
           },
           {
            "bin_start": 25645524,
            "bin_end": 37534339.5,
            "count": 0
           },
           {
            "bin_start": 37534339.5,
            "bin_end": 49423155,
            "count": 0
           },
           {
            "bin_start": 49423155,
            "bin_end": 61311970.5,
            "count": 0
           },
           {
            "bin_start": 61311970.5,
            "bin_end": 73200786,
            "count": 0
           },
           {
            "bin_start": 73200786,
            "bin_end": 85089601.5,
            "count": 0
           },
           {
            "bin_start": 85089601.5,
            "bin_end": 96978417,
            "count": 0
           },
           {
            "bin_start": 96978417,
            "bin_end": 108867232.5,
            "count": 0
           },
           {
            "bin_start": 108867232.5,
            "bin_end": 120756048,
            "count": 1
           }
          ]
         }
        },
        {
         "name": "ForeignBornAsiaPct",
         "dtype": "float64",
         "stats": {
          "unique_count": 2,
          "nan_count": 0,
          "min": "1.116923866",
          "max": "4.201346671",
          "histogram": [
           {
            "bin_start": 1.116923866,
            "bin_end": 1.4253661465,
            "count": 1
           },
           {
            "bin_start": 1.4253661465,
            "bin_end": 1.733808427,
            "count": 0
           },
           {
            "bin_start": 1.733808427,
            "bin_end": 2.0422507075,
            "count": 0
           },
           {
            "bin_start": 2.0422507075,
            "bin_end": 2.3506929879999996,
            "count": 0
           },
           {
            "bin_start": 2.3506929879999996,
            "bin_end": 2.6591352685,
            "count": 0
           },
           {
            "bin_start": 2.6591352685,
            "bin_end": 2.9675775489999996,
            "count": 0
           },
           {
            "bin_start": 2.9675775489999996,
            "bin_end": 3.2760198294999996,
            "count": 0
           },
           {
            "bin_start": 3.2760198294999996,
            "bin_end": 3.5844621099999996,
            "count": 0
           },
           {
            "bin_start": 3.5844621099999996,
            "bin_end": 3.8929043904999996,
            "count": 0
           },
           {
            "bin_start": 3.8929043904999996,
            "bin_end": 4.201346671,
            "count": 1
           }
          ]
         }
        },
        {
         "name": "Ed4AssocDegreeNum",
         "dtype": "int64",
         "stats": {
          "unique_count": 2,
          "nan_count": 0,
          "min": "282316",
          "max": "18712207",
          "histogram": [
           {
            "bin_start": 282316,
            "bin_end": 2125305.1,
            "count": 1
           },
           {
            "bin_start": 2125305.1,
            "bin_end": 3968294.2,
            "count": 0
           },
           {
            "bin_start": 3968294.2,
            "bin_end": 5811283.300000001,
            "count": 0
           },
           {
            "bin_start": 5811283.300000001,
            "bin_end": 7654272.4,
            "count": 0
           },
           {
            "bin_start": 7654272.4,
            "bin_end": 9497261.5,
            "count": 0
           },
           {
            "bin_start": 9497261.5,
            "bin_end": 11340250.600000001,
            "count": 0
           },
           {
            "bin_start": 11340250.600000001,
            "bin_end": 13183239.700000001,
            "count": 0
           },
           {
            "bin_start": 13183239.700000001,
            "bin_end": 15026228.8,
            "count": 0
           },
           {
            "bin_start": 15026228.8,
            "bin_end": 16869217.9,
            "count": 0
           },
           {
            "bin_start": 16869217.9,
            "bin_end": 18712207,
            "count": 1
           }
          ]
         }
        },
        {
         "name": "ForeignBornEuropeNum",
         "dtype": "float64",
         "stats": {
          "unique_count": 2,
          "nan_count": 0,
          "min": "19909.0",
          "max": "4763845.0",
          "histogram": [
           {
            "bin_start": 19909,
            "bin_end": 494302.6,
            "count": 1
           },
           {
            "bin_start": 494302.6,
            "bin_end": 968696.2,
            "count": 0
           },
           {
            "bin_start": 968696.2,
            "bin_end": 1443089.7999999998,
            "count": 0
           },
           {
            "bin_start": 1443089.7999999998,
            "bin_end": 1917483.4,
            "count": 0
           },
           {
            "bin_start": 1917483.4,
            "bin_end": 2391877,
            "count": 0
           },
           {
            "bin_start": 2391877,
            "bin_end": 2866270.5999999996,
            "count": 0
           },
           {
            "bin_start": 2866270.5999999996,
            "bin_end": 3340664.1999999997,
            "count": 0
           },
           {
            "bin_start": 3340664.1999999997,
            "bin_end": 3815057.8,
            "count": 0
           },
           {
            "bin_start": 3815057.8,
            "bin_end": 4289451.399999999,
            "count": 0
           },
           {
            "bin_start": 4289451.399999999,
            "bin_end": 4763845,
            "count": 1
           }
          ]
         }
        },
        {
         "name": "NonEnglishHHNum",
         "dtype": "int64",
         "stats": {
          "unique_count": 2,
          "nan_count": 0,
          "min": "22757",
          "max": "5308496",
          "histogram": [
           {
            "bin_start": 22757,
            "bin_end": 551330.9,
            "count": 1
           },
           {
            "bin_start": 551330.9,
            "bin_end": 1079904.8,
            "count": 0
           },
           {
            "bin_start": 1079904.8,
            "bin_end": 1608478.7000000002,
            "count": 0
           },
           {
            "bin_start": 1608478.7000000002,
            "bin_end": 2137052.6,
            "count": 0
           },
           {
            "bin_start": 2137052.6,
            "bin_end": 2665626.5,
            "count": 0
           },
           {
            "bin_start": 2665626.5,
            "bin_end": 3194200.4000000004,
            "count": 0
           },
           {
            "bin_start": 3194200.4000000004,
            "bin_end": 3722774.3000000003,
            "count": 0
           },
           {
            "bin_start": 3722774.3000000003,
            "bin_end": 4251348.2,
            "count": 0
           },
           {
            "bin_start": 4251348.2,
            "bin_end": 4779922.100000001,
            "count": 0
           },
           {
            "bin_start": 4779922.100000001,
            "bin_end": 5308496,
            "count": 1
           }
          ]
         }
        },
        {
         "name": "HH65PlusAloneNum",
         "dtype": "int64",
         "stats": {
          "unique_count": 2,
          "nan_count": 0,
          "min": "218058",
          "max": "13259766",
          "histogram": [
           {
            "bin_start": 218058,
            "bin_end": 1522228.8,
            "count": 1
           },
           {
            "bin_start": 1522228.8,
            "bin_end": 2826399.6,
            "count": 0
           },
           {
            "bin_start": 2826399.6,
            "bin_end": 4130570.4000000004,
            "count": 0
           },
           {
            "bin_start": 4130570.4000000004,
            "bin_end": 5434741.2,
            "count": 0
           },
           {
            "bin_start": 5434741.2,
            "bin_end": 6738912,
            "count": 0
           },
           {
            "bin_start": 6738912,
            "bin_end": 8043082.800000001,
            "count": 0
           },
           {
            "bin_start": 8043082.800000001,
            "bin_end": 9347253.6,
            "count": 0
           },
           {
            "bin_start": 9347253.6,
            "bin_end": 10651424.4,
            "count": 0
           },
           {
            "bin_start": 10651424.4,
            "bin_end": 11955595.200000001,
            "count": 0
           },
           {
            "bin_start": 11955595.200000001,
            "bin_end": 13259766,
            "count": 1
           }
          ]
         }
        },
        {
         "name": "OwnHomeNum",
         "dtype": "int64",
         "stats": {
          "unique_count": 2,
          "nan_count": 0,
          "min": "1284748",
          "max": "77274381",
          "histogram": [
           {
            "bin_start": 1284748,
            "bin_end": 8883711.3,
            "count": 1
           },
           {
            "bin_start": 8883711.3,
            "bin_end": 16482674.6,
            "count": 0
           },
           {
            "bin_start": 16482674.6,
            "bin_end": 24081637.9,
            "count": 0
           },
           {
            "bin_start": 24081637.9,
            "bin_end": 31680601.2,
            "count": 0
           },
           {
            "bin_start": 31680601.2,
            "bin_end": 39279564.5,
            "count": 0
           },
           {
            "bin_start": 39279564.5,
            "bin_end": 46878527.8,
            "count": 0
           },
           {
            "bin_start": 46878527.8,
            "bin_end": 54477491.1,
            "count": 0
           },
           {
            "bin_start": 54477491.1,
            "bin_end": 62076454.4,
            "count": 0
           },
           {
            "bin_start": 62076454.4,
            "bin_end": 69675417.7,
            "count": 0
           },
           {
            "bin_start": 69675417.7,
            "bin_end": 77274381,
            "count": 1
           }
          ]
         }
        },
        {
         "name": "FemaleHHNum",
         "dtype": "int64",
         "stats": {
          "unique_count": 2,
          "nan_count": 0,
          "min": "264617",
          "max": "15016964",
          "histogram": [
           {
            "bin_start": 264617,
            "bin_end": 1739851.7,
            "count": 1
           },
           {
            "bin_start": 1739851.7,
            "bin_end": 3215086.4,
            "count": 0
           },
           {
            "bin_start": 3215086.4,
            "bin_end": 4690321.1,
            "count": 0
           },
           {
            "bin_start": 4690321.1,
            "bin_end": 6165555.8,
            "count": 0
           },
           {
            "bin_start": 6165555.8,
            "bin_end": 7640790.5,
            "count": 0
           },
           {
            "bin_start": 7640790.5,
            "bin_end": 9116025.2,
            "count": 0
           },
           {
            "bin_start": 9116025.2,
            "bin_end": 10591259.9,
            "count": 0
           },
           {
            "bin_start": 10591259.9,
            "bin_end": 12066494.6,
            "count": 0
           },
           {
            "bin_start": 12066494.6,
            "bin_end": 13541729.299999999,
            "count": 0
           },
           {
            "bin_start": 13541729.299999999,
            "bin_end": 15016964,
            "count": 1
           }
          ]
         }
        },
        {
         "name": "TotalHH",
         "dtype": "int64",
         "stats": {
          "unique_count": 2,
          "nan_count": 0,
          "min": "1867893",
          "max": "120756048",
          "histogram": [
           {
            "bin_start": 1867893,
            "bin_end": 13756708.5,
            "count": 1
           },
           {
            "bin_start": 13756708.5,
            "bin_end": 25645524,
            "count": 0
           },
           {
            "bin_start": 25645524,
            "bin_end": 37534339.5,
            "count": 0
           },
           {
            "bin_start": 37534339.5,
            "bin_end": 49423155,
            "count": 0
           },
           {
            "bin_start": 49423155,
            "bin_end": 61311970.5,
            "count": 0
           },
           {
            "bin_start": 61311970.5,
            "bin_end": 73200786,
            "count": 0
           },
           {
            "bin_start": 73200786,
            "bin_end": 85089601.5,
            "count": 0
           },
           {
            "bin_start": 85089601.5,
            "bin_end": 96978417,
            "count": 0
           },
           {
            "bin_start": 96978417,
            "bin_end": 108867232.5,
            "count": 0
           },
           {
            "bin_start": 108867232.5,
            "bin_end": 120756048,
            "count": 1
           }
          ]
         }
        },
        {
         "name": "ForeignBornCentralSouthAmPct",
         "dtype": "float64",
         "stats": {
          "unique_count": 2,
          "nan_count": 0,
          "min": "1.60664445",
          "max": "5.520748609",
          "histogram": [
           {
            "bin_start": 1.60664445,
            "bin_end": 1.9980548659,
            "count": 1
           },
           {
            "bin_start": 1.9980548659,
            "bin_end": 2.3894652817999997,
            "count": 0
           },
           {
            "bin_start": 2.3894652817999997,
            "bin_end": 2.7808756977,
            "count": 0
           },
           {
            "bin_start": 2.7808756977,
            "bin_end": 3.1722861136,
            "count": 0
           },
           {
            "bin_start": 3.1722861136,
            "bin_end": 3.5636965294999996,
            "count": 0
           },
           {
            "bin_start": 3.5636965294999996,
            "bin_end": 3.9551069454,
            "count": 0
           },
           {
            "bin_start": 3.9551069454,
            "bin_end": 4.3465173613,
            "count": 0
           },
           {
            "bin_start": 4.3465173613,
            "bin_end": 4.7379277771999995,
            "count": 0
           },
           {
            "bin_start": 4.7379277771999995,
            "bin_end": 5.1293381931,
            "count": 0
           },
           {
            "bin_start": 5.1293381931,
            "bin_end": 5.520748609,
            "count": 1
           }
          ]
         }
        },
        {
         "name": "ForeignBornCentralSouthAmNum",
         "dtype": "float64",
         "stats": {
          "unique_count": 2,
          "nan_count": 0,
          "min": "78344.0",
          "max": "17925749.0",
          "histogram": [
           {
            "bin_start": 78344,
            "bin_end": 1863084.5,
            "count": 1
           },
           {
            "bin_start": 1863084.5,
            "bin_end": 3647825,
            "count": 0
           },
           {
            "bin_start": 3647825,
            "bin_end": 5432565.5,
            "count": 0
           },
           {
            "bin_start": 5432565.5,
            "bin_end": 7217306,
            "count": 0
           },
           {
            "bin_start": 7217306,
            "bin_end": 9002046.5,
            "count": 0
           },
           {
            "bin_start": 9002046.5,
            "bin_end": 10786787,
            "count": 0
           },
           {
            "bin_start": 10786787,
            "bin_end": 12571527.5,
            "count": 0
           },
           {
            "bin_start": 12571527.5,
            "bin_end": 14356268,
            "count": 0
           },
           {
            "bin_start": 14356268,
            "bin_end": 16141008.5,
            "count": 0
           },
           {
            "bin_start": 16141008.5,
            "bin_end": 17925749,
            "count": 1
           }
          ]
         }
        },
        {
         "name": "ForeignBornCaribPct",
         "dtype": "float64",
         "stats": {
          "unique_count": 2,
          "nan_count": 0,
          "min": "0.143040246",
          "max": "1.335359854",
          "histogram": [
           {
            "bin_start": 0.143040246,
            "bin_end": 0.2622722068,
            "count": 1
           },
           {
            "bin_start": 0.2622722068,
            "bin_end": 0.38150416760000005,
            "count": 0
           },
           {
            "bin_start": 0.38150416760000005,
            "bin_end": 0.5007361284,
            "count": 0
           },
           {
            "bin_start": 0.5007361284,
            "bin_end": 0.6199680892,
            "count": 0
           },
           {
            "bin_start": 0.6199680892,
            "bin_end": 0.73920005,
            "count": 0
           },
           {
            "bin_start": 0.73920005,
            "bin_end": 0.8584320108000001,
            "count": 0
           },
           {
            "bin_start": 0.8584320108000001,
            "bin_end": 0.9776639716000001,
            "count": 0
           },
           {
            "bin_start": 0.9776639716000001,
            "bin_end": 1.0968959324,
            "count": 0
           },
           {
            "bin_start": 1.0968959324,
            "bin_end": 1.2161278932000001,
            "count": 0
           },
           {
            "bin_start": 1.2161278932000001,
            "bin_end": 1.335359854,
            "count": 1
           }
          ]
         }
        },
        {
         "name": "ForeignBornCaribNum",
         "dtype": "float64",
         "stats": {
          "unique_count": 2,
          "nan_count": 0,
          "min": "6975.0",
          "max": "4335884.0",
          "histogram": [
           {
            "bin_start": 6975,
            "bin_end": 439865.9,
            "count": 1
           },
           {
            "bin_start": 439865.9,
            "bin_end": 872756.8,
            "count": 0
           },
           {
            "bin_start": 872756.8,
            "bin_end": 1305647.7000000002,
            "count": 0
           },
           {
            "bin_start": 1305647.7000000002,
            "bin_end": 1738538.6,
            "count": 0
           },
           {
            "bin_start": 1738538.6,
            "bin_end": 2171429.5,
            "count": 0
           },
           {
            "bin_start": 2171429.5,
            "bin_end": 2604320.4000000004,
            "count": 0
           },
           {
            "bin_start": 2604320.4000000004,
            "bin_end": 3037211.3000000003,
            "count": 0
           },
           {
            "bin_start": 3037211.3000000003,
            "bin_end": 3470102.2,
            "count": 0
           },
           {
            "bin_start": 3470102.2,
            "bin_end": 3902993.1,
            "count": 0
           },
           {
            "bin_start": 3902993.1,
            "bin_end": 4335884,
            "count": 1
           }
          ]
         }
        },
        {
         "name": "ForeignBornAfricaNum",
         "dtype": "float64",
         "stats": {
          "unique_count": 2,
          "nan_count": 0,
          "min": "9040.0",
          "max": "2256673.0",
          "histogram": [
           {
            "bin_start": 9040,
            "bin_end": 233803.3,
            "count": 1
           },
           {
            "bin_start": 233803.3,
            "bin_end": 458566.6,
            "count": 0
           },
           {
            "bin_start": 458566.6,
            "bin_end": 683329.8999999999,
            "count": 0
           },
           {
            "bin_start": 683329.8999999999,
            "bin_end": 908093.2,
            "count": 0
           },
           {
            "bin_start": 908093.2,
            "bin_end": 1132856.5,
            "count": 0
           },
           {
            "bin_start": 1132856.5,
            "bin_end": 1357619.7999999998,
            "count": 0
           },
           {
            "bin_start": 1357619.7999999998,
            "bin_end": 1582383.0999999999,
            "count": 0
           },
           {
            "bin_start": 1582383.0999999999,
            "bin_end": 1807146.4,
            "count": 0
           },
           {
            "bin_start": 1807146.4,
            "bin_end": 2031909.7,
            "count": 0
           },
           {
            "bin_start": 2031909.7,
            "bin_end": 2256673,
            "count": 1
           }
          ]
         }
        },
        {
         "name": "ForeignBornAsiaNum",
         "dtype": "float64",
         "stats": {
          "unique_count": 2,
          "nan_count": 0,
          "min": "54464.0",
          "max": "13641680.0",
          "histogram": [
           {
            "bin_start": 54464,
            "bin_end": 1413185.6,
            "count": 1
           },
           {
            "bin_start": 1413185.6,
            "bin_end": 2771907.2,
            "count": 0
           },
           {
            "bin_start": 2771907.2,
            "bin_end": 4130628.8000000003,
            "count": 0
           },
           {
            "bin_start": 4130628.8000000003,
            "bin_end": 5489350.4,
            "count": 0
           },
           {
            "bin_start": 5489350.4,
            "bin_end": 6848072,
            "count": 0
           },
           {
            "bin_start": 6848072,
            "bin_end": 8206793.600000001,
            "count": 0
           },
           {
            "bin_start": 8206793.600000001,
            "bin_end": 9565515.200000001,
            "count": 0
           },
           {
            "bin_start": 9565515.200000001,
            "bin_end": 10924236.8,
            "count": 0
           },
           {
            "bin_start": 10924236.8,
            "bin_end": 12282958.4,
            "count": 0
           },
           {
            "bin_start": 12282958.4,
            "bin_end": 13641680,
            "count": 1
           }
          ]
         }
        },
        {
         "name": "ForeignBornMexNum",
         "dtype": "float64",
         "stats": {
          "unique_count": 2,
          "nan_count": 0,
          "min": "49052.0",
          "max": "11250541.0",
          "histogram": [
           {
            "bin_start": 49052,
            "bin_end": 1169200.9,
            "count": 1
           },
           {
            "bin_start": 1169200.9,
            "bin_end": 2289349.8,
            "count": 0
           },
           {
            "bin_start": 2289349.8,
            "bin_end": 3409498.6999999997,
            "count": 0
           },
           {
            "bin_start": 3409498.6999999997,
            "bin_end": 4529647.6,
            "count": 0
           },
           {
            "bin_start": 4529647.6,
            "bin_end": 5649796.5,
            "count": 0
           },
           {
            "bin_start": 5649796.5,
            "bin_end": 6769945.399999999,
            "count": 0
           },
           {
            "bin_start": 6769945.399999999,
            "bin_end": 7890094.299999999,
            "count": 0
           },
           {
            "bin_start": 7890094.299999999,
            "bin_end": 9010243.2,
            "count": 0
           },
           {
            "bin_start": 9010243.2,
            "bin_end": 10130392.1,
            "count": 0
           },
           {
            "bin_start": 10130392.1,
            "bin_end": 11250541,
            "count": 1
           }
          ]
         }
        },
        {
         "name": "LandAreaSQMiles2010",
         "dtype": "float64",
         "stats": {
          "unique_count": 2,
          "nan_count": 0,
          "min": "50645.33",
          "max": "3531905.43",
          "histogram": [
           {
            "bin_start": 50645.33,
            "bin_end": 398771.34,
            "count": 1
           },
           {
            "bin_start": 398771.34,
            "bin_end": 746897.35,
            "count": 0
           },
           {
            "bin_start": 746897.35,
            "bin_end": 1095023.36,
            "count": 0
           },
           {
            "bin_start": 1095023.36,
            "bin_end": 1443149.37,
            "count": 0
           },
           {
            "bin_start": 1443149.37,
            "bin_end": 1791275.3800000001,
            "count": 0
           },
           {
            "bin_start": 1791275.3800000001,
            "bin_end": 2139401.39,
            "count": 0
           },
           {
            "bin_start": 2139401.39,
            "bin_end": 2487527.4000000004,
            "count": 0
           },
           {
            "bin_start": 2487527.4000000004,
            "bin_end": 2835653.41,
            "count": 0
           },
           {
            "bin_start": 2835653.41,
            "bin_end": 3183779.42,
            "count": 0
           },
           {
            "bin_start": 3183779.42,
            "bin_end": 3531905.43,
            "count": 1
           }
          ]
         }
        },
        {
         "name": "Age65AndOlderNum2010",
         "dtype": "int64",
         "stats": {
          "unique_count": 2,
          "nan_count": 0,
          "min": "657792",
          "max": "40267984",
          "histogram": [
           {
            "bin_start": 657792,
            "bin_end": 4618811.2,
            "count": 1
           },
           {
            "bin_start": 4618811.2,
            "bin_end": 8579830.4,
            "count": 0
           },
           {
            "bin_start": 8579830.4,
            "bin_end": 12540849.600000001,
            "count": 0
           },
           {
            "bin_start": 12540849.600000001,
            "bin_end": 16501868.8,
            "count": 0
           },
           {
            "bin_start": 16501868.8,
            "bin_end": 20462888,
            "count": 0
           },
           {
            "bin_start": 20462888,
            "bin_end": 24423907.200000003,
            "count": 0
           },
           {
            "bin_start": 24423907.200000003,
            "bin_end": 28384926.400000002,
            "count": 0
           },
           {
            "bin_start": 28384926.400000002,
            "bin_end": 32345945.6,
            "count": 0
           },
           {
            "bin_start": 32345945.6,
            "bin_end": 36306964.800000004,
            "count": 0
           },
           {
            "bin_start": 36306964.800000004,
            "bin_end": 40267984,
            "count": 1
           }
          ]
         }
        },
        {
         "name": "TotalPop2010",
         "dtype": "int64",
         "stats": {
          "unique_count": 2,
          "nan_count": 0,
          "min": "4779736",
          "max": "308745538",
          "histogram": [
           {
            "bin_start": 4779736,
            "bin_end": 35176316.2,
            "count": 1
           },
           {
            "bin_start": 35176316.2,
            "bin_end": 65572896.4,
            "count": 0
           },
           {
            "bin_start": 65572896.4,
            "bin_end": 95969476.6,
            "count": 0
           },
           {
            "bin_start": 95969476.6,
            "bin_end": 126366056.8,
            "count": 0
           },
           {
            "bin_start": 126366056.8,
            "bin_end": 156762637,
            "count": 0
           },
           {
            "bin_start": 156762637,
            "bin_end": 187159217.2,
            "count": 0
           },
           {
            "bin_start": 187159217.2,
            "bin_end": 217555797.4,
            "count": 0
           },
           {
            "bin_start": 217555797.4,
            "bin_end": 247952377.6,
            "count": 0
           },
           {
            "bin_start": 247952377.6,
            "bin_end": 278348957.8,
            "count": 0
           },
           {
            "bin_start": 278348957.8,
            "bin_end": 308745538,
            "count": 1
           }
          ]
         }
        },
        {
         "name": "Under18Num2010",
         "dtype": "int64",
         "stats": {
          "unique_count": 2,
          "nan_count": 0,
          "min": "1132459",
          "max": "74181467",
          "histogram": [
           {
            "bin_start": 1132459,
            "bin_end": 8437359.8,
            "count": 1
           },
           {
            "bin_start": 8437359.8,
            "bin_end": 15742260.6,
            "count": 0
           },
           {
            "bin_start": 15742260.6,
            "bin_end": 23047161.4,
            "count": 0
           },
           {
            "bin_start": 23047161.4,
            "bin_end": 30352062.2,
            "count": 0
           },
           {
            "bin_start": 30352062.2,
            "bin_end": 37656963,
            "count": 0
           },
           {
            "bin_start": 37656963,
            "bin_end": 44961863.8,
            "count": 0
           },
           {
            "bin_start": 44961863.8,
            "bin_end": 52266764.6,
            "count": 0
           },
           {
            "bin_start": 52266764.6,
            "bin_end": 59571665.4,
            "count": 0
           },
           {
            "bin_start": 59571665.4,
            "bin_end": 66876566.199999996,
            "count": 0
           },
           {
            "bin_start": 66876566.199999996,
            "bin_end": 74181467,
            "count": 1
           }
          ]
         }
        },
        {
         "name": "Net_International_Migration_2000_2010",
         "dtype": "float64",
         "stats": {
          "unique_count": 1,
          "nan_count": 1,
          "min": "54447.0",
          "max": "54447.0",
          "histogram": [
           {
            "bin_start": 54446.5,
            "bin_end": 54446.6,
            "count": 0
           },
           {
            "bin_start": 54446.6,
            "bin_end": 54446.7,
            "count": 0
           },
           {
            "bin_start": 54446.7,
            "bin_end": 54446.8,
            "count": 0
           },
           {
            "bin_start": 54446.8,
            "bin_end": 54446.9,
            "count": 0
           },
           {
            "bin_start": 54446.9,
            "bin_end": 54447,
            "count": 0
           },
           {
            "bin_start": 54447,
            "bin_end": 54447.1,
            "count": 1
           },
           {
            "bin_start": 54447.1,
            "bin_end": 54447.2,
            "count": 0
           },
           {
            "bin_start": 54447.2,
            "bin_end": 54447.3,
            "count": 0
           },
           {
            "bin_start": 54447.3,
            "bin_end": 54447.4,
            "count": 0
           },
           {
            "bin_start": 54447.4,
            "bin_end": 54447.5,
            "count": 0
           }
          ]
         }
        },
        {
         "name": "NaturalChangeNum0010",
         "dtype": "float64",
         "stats": {
          "unique_count": 1,
          "nan_count": 1,
          "min": "147019.5",
          "max": "147019.5",
          "histogram": [
           {
            "bin_start": 147019,
            "bin_end": 147019.1,
            "count": 0
           },
           {
            "bin_start": 147019.1,
            "bin_end": 147019.2,
            "count": 0
           },
           {
            "bin_start": 147019.2,
            "bin_end": 147019.3,
            "count": 0
           },
           {
            "bin_start": 147019.3,
            "bin_end": 147019.4,
            "count": 0
           },
           {
            "bin_start": 147019.4,
            "bin_end": 147019.5,
            "count": 0
           },
           {
            "bin_start": 147019.5,
            "bin_end": 147019.6,
            "count": 1
           },
           {
            "bin_start": 147019.6,
            "bin_end": 147019.7,
            "count": 0
           },
           {
            "bin_start": 147019.7,
            "bin_end": 147019.8,
            "count": 0
           },
           {
            "bin_start": 147019.8,
            "bin_end": 147019.9,
            "count": 0
           },
           {
            "bin_start": 147019.9,
            "bin_end": 147020,
            "count": 0
           }
          ]
         }
        },
        {
         "name": "NetMigrationNum0010",
         "dtype": "float64",
         "stats": {
          "unique_count": 1,
          "nan_count": 1,
          "min": "147119.0",
          "max": "147119.0",
          "histogram": [
           {
            "bin_start": 147118.5,
            "bin_end": 147118.6,
            "count": 0
           },
           {
            "bin_start": 147118.6,
            "bin_end": 147118.7,
            "count": 0
           },
           {
            "bin_start": 147118.7,
            "bin_end": 147118.8,
            "count": 0
           },
           {
            "bin_start": 147118.8,
            "bin_end": 147118.9,
            "count": 0
           },
           {
            "bin_start": 147118.9,
            "bin_end": 147119,
            "count": 0
           },
           {
            "bin_start": 147119,
            "bin_end": 147119.1,
            "count": 1
           },
           {
            "bin_start": 147119.1,
            "bin_end": 147119.2,
            "count": 0
           },
           {
            "bin_start": 147119.2,
            "bin_end": 147119.3,
            "count": 0
           },
           {
            "bin_start": 147119.3,
            "bin_end": 147119.4,
            "count": 0
           },
           {
            "bin_start": 147119.4,
            "bin_end": 147119.5,
            "count": 0
           }
          ]
         }
        },
        {
         "name": "TotalPopEst2012",
         "dtype": "int64",
         "stats": {
          "unique_count": 2,
          "nan_count": 0,
          "min": "4815588",
          "max": "313830990",
          "histogram": [
           {
            "bin_start": 4815588,
            "bin_end": 35717128.2,
            "count": 1
           },
           {
            "bin_start": 35717128.2,
            "bin_end": 66618668.4,
            "count": 0
           },
           {
            "bin_start": 66618668.4,
            "bin_end": 97520208.6,
            "count": 0
           },
           {
            "bin_start": 97520208.6,
            "bin_end": 128421748.8,
            "count": 0
           },
           {
            "bin_start": 128421748.8,
            "bin_end": 159323289,
            "count": 0
           },
           {
            "bin_start": 159323289,
            "bin_end": 190224829.2,
            "count": 0
           },
           {
            "bin_start": 190224829.2,
            "bin_end": 221126369.4,
            "count": 0
           },
           {
            "bin_start": 221126369.4,
            "bin_end": 252027909.6,
            "count": 0
           },
           {
            "bin_start": 252027909.6,
            "bin_end": 282929449.8,
            "count": 0
           },
           {
            "bin_start": 282929449.8,
            "bin_end": 313830990,
            "count": 1
           }
          ]
         }
        },
        {
         "name": "TotalPopEst2013",
         "dtype": "int64",
         "stats": {
          "unique_count": 2,
          "nan_count": 0,
          "min": "4830081",
          "max": "315993715",
          "histogram": [
           {
            "bin_start": 4830081,
            "bin_end": 35946444.4,
            "count": 1
           },
           {
            "bin_start": 35946444.4,
            "bin_end": 67062807.8,
            "count": 0
           },
           {
            "bin_start": 67062807.8,
            "bin_end": 98179171.19999999,
            "count": 0
           },
           {
            "bin_start": 98179171.19999999,
            "bin_end": 129295534.6,
            "count": 0
           },
           {
            "bin_start": 129295534.6,
            "bin_end": 160411898,
            "count": 0
           },
           {
            "bin_start": 160411898,
            "bin_end": 191528261.39999998,
            "count": 0
           },
           {
            "bin_start": 191528261.39999998,
            "bin_end": 222644624.79999998,
            "count": 0
           },
           {
            "bin_start": 222644624.79999998,
            "bin_end": 253760988.2,
            "count": 0
           },
           {
            "bin_start": 253760988.2,
            "bin_end": 284877351.59999996,
            "count": 0
           },
           {
            "bin_start": 284877351.59999996,
            "bin_end": 315993715,
            "count": 1
           }
          ]
         }
        },
        {
         "name": "TotalPopEst2010",
         "dtype": "int64",
         "stats": {
          "unique_count": 2,
          "nan_count": 0,
          "min": "4785437",
          "max": "309321666",
          "histogram": [
           {
            "bin_start": 4785437,
            "bin_end": 35239059.9,
            "count": 1
           },
           {
            "bin_start": 35239059.9,
            "bin_end": 65692682.8,
            "count": 0
           },
           {
            "bin_start": 65692682.8,
            "bin_end": 96146305.69999999,
            "count": 0
           },
           {
            "bin_start": 96146305.69999999,
            "bin_end": 126599928.6,
            "count": 0
           },
           {
            "bin_start": 126599928.6,
            "bin_end": 157053551.5,
            "count": 0
           },
           {
            "bin_start": 157053551.5,
            "bin_end": 187507174.39999998,
            "count": 0
           },
           {
            "bin_start": 187507174.39999998,
            "bin_end": 217960797.29999998,
            "count": 0
           },
           {
            "bin_start": 217960797.29999998,
            "bin_end": 248414420.2,
            "count": 0
           },
           {
            "bin_start": 248414420.2,
            "bin_end": 278868043.09999996,
            "count": 0
           },
           {
            "bin_start": 278868043.09999996,
            "bin_end": 309321666,
            "count": 1
           }
          ]
         }
        },
        {
         "name": "TotalPopEst2014",
         "dtype": "int64",
         "stats": {
          "unique_count": 2,
          "nan_count": 0,
          "min": "4841799",
          "max": "318301008",
          "histogram": [
           {
            "bin_start": 4841799,
            "bin_end": 36187719.9,
            "count": 1
           },
           {
            "bin_start": 36187719.9,
            "bin_end": 67533640.8,
            "count": 0
           },
           {
            "bin_start": 67533640.8,
            "bin_end": 98879561.69999999,
            "count": 0
           },
           {
            "bin_start": 98879561.69999999,
            "bin_end": 130225482.6,
            "count": 0
           },
           {
            "bin_start": 130225482.6,
            "bin_end": 161571403.5,
            "count": 0
           },
           {
            "bin_start": 161571403.5,
            "bin_end": 192917324.39999998,
            "count": 0
           },
           {
            "bin_start": 192917324.39999998,
            "bin_end": 224263245.29999998,
            "count": 0
           },
           {
            "bin_start": 224263245.29999998,
            "bin_end": 255609166.2,
            "count": 0
           },
           {
            "bin_start": 255609166.2,
            "bin_end": 286955087.09999996,
            "count": 0
           },
           {
            "bin_start": 286955087.09999996,
            "bin_end": 318301008,
            "count": 1
           }
          ]
         }
        },
        {
         "name": "TotalPopEst2011",
         "dtype": "int64",
         "stats": {
          "unique_count": 2,
          "nan_count": 0,
          "min": "4799069",
          "max": "311556874",
          "histogram": [
           {
            "bin_start": 4799069,
            "bin_end": 35474849.5,
            "count": 1
           },
           {
            "bin_start": 35474849.5,
            "bin_end": 66150630,
            "count": 0
           },
           {
            "bin_start": 66150630,
            "bin_end": 96826410.5,
            "count": 0
           },
           {
            "bin_start": 96826410.5,
            "bin_end": 127502191,
            "count": 0
           },
           {
            "bin_start": 127502191,
            "bin_end": 158177971.5,
            "count": 0
           },
           {
            "bin_start": 158177971.5,
            "bin_end": 188853752,
            "count": 0
           },
           {
            "bin_start": 188853752,
            "bin_end": 219529532.5,
            "count": 0
           },
           {
            "bin_start": 219529532.5,
            "bin_end": 250205313,
            "count": 0
           },
           {
            "bin_start": 250205313,
            "bin_end": 280881093.5,
            "count": 0
           },
           {
            "bin_start": 280881093.5,
            "bin_end": 311556874,
            "count": 1
           }
          ]
         }
        },
        {
         "name": "Net_International_Migration_2010_2019",
         "dtype": "float64",
         "stats": {
          "unique_count": 2,
          "nan_count": 0,
          "min": "38731.0",
          "max": "7685444.0",
          "histogram": [
           {
            "bin_start": 38731,
            "bin_end": 803402.3,
            "count": 1
           },
           {
            "bin_start": 803402.3,
            "bin_end": 1568073.6,
            "count": 0
           },
           {
            "bin_start": 1568073.6,
            "bin_end": 2332744.9000000004,
            "count": 0
           },
           {
            "bin_start": 2332744.9000000004,
            "bin_end": 3097416.2,
            "count": 0
           },
           {
            "bin_start": 3097416.2,
            "bin_end": 3862087.5,
            "count": 0
           },
           {
            "bin_start": 3862087.5,
            "bin_end": 4626758.800000001,
            "count": 0
           },
           {
            "bin_start": 4626758.800000001,
            "bin_end": 5391430.100000001,
            "count": 0
           },
           {
            "bin_start": 5391430.100000001,
            "bin_end": 6156101.4,
            "count": 0
           },
           {
            "bin_start": 6156101.4,
            "bin_end": 6920772.7,
            "count": 0
           },
           {
            "bin_start": 6920772.7,
            "bin_end": 7685444,
            "count": 1
           }
          ]
         }
        },
        {
         "name": "NaturalChange1019",
         "dtype": "float64",
         "stats": {
          "unique_count": 2,
          "nan_count": 0,
          "min": "67083.0",
          "max": "11232413.0",
          "histogram": [
           {
            "bin_start": 67083,
            "bin_end": 1183616,
            "count": 1
           },
           {
            "bin_start": 1183616,
            "bin_end": 2300149,
            "count": 0
           },
           {
            "bin_start": 2300149,
            "bin_end": 3416682,
            "count": 0
           },
           {
            "bin_start": 3416682,
            "bin_end": 4533215,
            "count": 0
           },
           {
            "bin_start": 4533215,
            "bin_end": 5649748,
            "count": 0
           },
           {
            "bin_start": 5649748,
            "bin_end": 6766281,
            "count": 0
           },
           {
            "bin_start": 6766281,
            "bin_end": 7882814,
            "count": 0
           },
           {
            "bin_start": 7882814,
            "bin_end": 8999347,
            "count": 0
           },
           {
            "bin_start": 8999347,
            "bin_end": 10115880,
            "count": 0
           },
           {
            "bin_start": 10115880,
            "bin_end": 11232413,
            "count": 1
           }
          ]
         }
        },
        {
         "name": "TotalPopEst2015",
         "dtype": "int64",
         "stats": {
          "unique_count": 2,
          "nan_count": 0,
          "min": "4852347",
          "max": "320635163",
          "histogram": [
           {
            "bin_start": 4852347,
            "bin_end": 36430628.6,
            "count": 1
           },
           {
            "bin_start": 36430628.6,
            "bin_end": 68008910.2,
            "count": 0
           },
           {
            "bin_start": 68008910.2,
            "bin_end": 99587191.80000001,
            "count": 0
           },
           {
            "bin_start": 99587191.80000001,
            "bin_end": 131165473.4,
            "count": 0
           },
           {
            "bin_start": 131165473.4,
            "bin_end": 162743755,
            "count": 0
           },
           {
            "bin_start": 162743755,
            "bin_end": 194322036.60000002,
            "count": 0
           },
           {
            "bin_start": 194322036.60000002,
            "bin_end": 225900318.20000002,
            "count": 0
           },
           {
            "bin_start": 225900318.20000002,
            "bin_end": 257478599.8,
            "count": 0
           },
           {
            "bin_start": 257478599.8,
            "bin_end": 289056881.40000004,
            "count": 0
           },
           {
            "bin_start": 289056881.40000004,
            "bin_end": 320635163,
            "count": 1
           }
          ]
         }
        },
        {
         "name": "TotalPopEst2016",
         "dtype": "int64",
         "stats": {
          "unique_count": 2,
          "nan_count": 0,
          "min": "4863525",
          "max": "322941311",
          "histogram": [
           {
            "bin_start": 4863525,
            "bin_end": 36671303.6,
            "count": 1
           },
           {
            "bin_start": 36671303.6,
            "bin_end": 68479082.2,
            "count": 0
           },
           {
            "bin_start": 68479082.2,
            "bin_end": 100286860.80000001,
            "count": 0
           },
           {
            "bin_start": 100286860.80000001,
            "bin_end": 132094639.4,
            "count": 0
           },
           {
            "bin_start": 132094639.4,
            "bin_end": 163902418,
            "count": 0
           },
           {
            "bin_start": 163902418,
            "bin_end": 195710196.60000002,
            "count": 0
           },
           {
            "bin_start": 195710196.60000002,
            "bin_end": 227517975.20000002,
            "count": 0
           },
           {
            "bin_start": 227517975.20000002,
            "bin_end": 259325753.8,
            "count": 0
           },
           {
            "bin_start": 259325753.8,
            "bin_end": 291133532.40000004,
            "count": 0
           },
           {
            "bin_start": 291133532.40000004,
            "bin_end": 322941311,
            "count": 1
           }
          ]
         }
        },
        {
         "name": "TotalPopEst2017",
         "dtype": "int64",
         "stats": {
          "unique_count": 2,
          "nan_count": 0,
          "min": "4874486",
          "max": "324985539",
          "histogram": [
           {
            "bin_start": 4874486,
            "bin_end": 36885591.3,
            "count": 1
           },
           {
            "bin_start": 36885591.3,
            "bin_end": 68896696.6,
            "count": 0
           },
           {
            "bin_start": 68896696.6,
            "bin_end": 100907801.9,
            "count": 0
           },
           {
            "bin_start": 100907801.9,
            "bin_end": 132918907.2,
            "count": 0
           },
           {
            "bin_start": 132918907.2,
            "bin_end": 164930012.5,
            "count": 0
           },
           {
            "bin_start": 164930012.5,
            "bin_end": 196941117.8,
            "count": 0
           },
           {
            "bin_start": 196941117.8,
            "bin_end": 228952223.1,
            "count": 0
           },
           {
            "bin_start": 228952223.1,
            "bin_end": 260963328.4,
            "count": 0
           },
           {
            "bin_start": 260963328.4,
            "bin_end": 292974433.7,
            "count": 0
           },
           {
            "bin_start": 292974433.7,
            "bin_end": 324985539,
            "count": 1
           }
          ]
         }
        },
        {
         "name": "NetMigration1019",
         "dtype": "float64",
         "stats": {
          "unique_count": 2,
          "nan_count": 0,
          "min": "50665.0",
          "max": "7685444.0",
          "histogram": [
           {
            "bin_start": 50665,
            "bin_end": 814142.9,
            "count": 1
           },
           {
            "bin_start": 814142.9,
            "bin_end": 1577620.8,
            "count": 0
           },
           {
            "bin_start": 1577620.8,
            "bin_end": 2341098.7,
            "count": 0
           },
           {
            "bin_start": 2341098.7,
            "bin_end": 3104576.6,
            "count": 0
           },
           {
            "bin_start": 3104576.6,
            "bin_end": 3868054.5,
            "count": 0
           },
           {
            "bin_start": 3868054.5,
            "bin_end": 4631532.4,
            "count": 0
           },
           {
            "bin_start": 4631532.4,
            "bin_end": 5395010.3,
            "count": 0
           },
           {
            "bin_start": 5395010.3,
            "bin_end": 6158488.2,
            "count": 0
           },
           {
            "bin_start": 6158488.2,
            "bin_end": 6921966.100000001,
            "count": 0
           },
           {
            "bin_start": 6921966.100000001,
            "bin_end": 7685444,
            "count": 1
           }
          ]
         }
        },
        {
         "name": "TotalPopEst2018",
         "dtype": "int64",
         "stats": {
          "unique_count": 2,
          "nan_count": 0,
          "min": "4887681",
          "max": "326687501",
          "histogram": [
           {
            "bin_start": 4887681,
            "bin_end": 37067663,
            "count": 1
           },
           {
            "bin_start": 37067663,
            "bin_end": 69247645,
            "count": 0
           },
           {
            "bin_start": 69247645,
            "bin_end": 101427627,
            "count": 0
           },
           {
            "bin_start": 101427627,
            "bin_end": 133607609,
            "count": 0
           },
           {
            "bin_start": 133607609,
            "bin_end": 165787591,
            "count": 0
           },
           {
            "bin_start": 165787591,
            "bin_end": 197967573,
            "count": 0
           },
           {
            "bin_start": 197967573,
            "bin_end": 230147555,
            "count": 0
           },
           {
            "bin_start": 230147555,
            "bin_end": 262327537,
            "count": 0
           },
           {
            "bin_start": 262327537,
            "bin_end": 294507519,
            "count": 0
           },
           {
            "bin_start": 294507519,
            "bin_end": 326687501,
            "count": 1
           }
          ]
         }
        },
        {
         "name": "TotalPopEstBase2010",
         "dtype": "int64",
         "stats": {
          "unique_count": 2,
          "nan_count": 0,
          "min": "4780125",
          "max": "308758105",
          "histogram": [
           {
            "bin_start": 4780125,
            "bin_end": 35177923,
            "count": 1
           },
           {
            "bin_start": 35177923,
            "bin_end": 65575721,
            "count": 0
           },
           {
            "bin_start": 65575721,
            "bin_end": 95973519,
            "count": 0
           },
           {
            "bin_start": 95973519,
            "bin_end": 126371317,
            "count": 0
           },
           {
            "bin_start": 126371317,
            "bin_end": 156769115,
            "count": 0
           },
           {
            "bin_start": 156769115,
            "bin_end": 187166913,
            "count": 0
           },
           {
            "bin_start": 187166913,
            "bin_end": 217564711,
            "count": 0
           },
           {
            "bin_start": 217564711,
            "bin_end": 247962509,
            "count": 0
           },
           {
            "bin_start": 247962509,
            "bin_end": 278360307,
            "count": 0
           },
           {
            "bin_start": 278360307,
            "bin_end": 308758105,
            "count": 1
           }
          ]
         }
        },
        {
         "name": "_deepnote_index_column",
         "dtype": "int64"
        }
       ],
       "rows_top": [
        {
         "FIPS": 0,
         "State": "US",
         "County": "United States",
         "PopChangeRate1819": 0.475,
         "PopChangeRate1019": 6.116,
         "TotalPopEst2019": 328239523,
         "NetMigrationRate1019": 2.485,
         "NaturalChangeRate1019": 3.631,
         "Net_International_Migration_Rate_2010_2019": 2.485,
         "PopChangeRate0010": 9.71,
         "NetMigrationRate0010": "nan",
         "NaturalChangeRate0010": "nan",
         "Immigration_Rate_2000_2010": "nan",
         "PopDensity2010": 87.42,
         "Under18Pct2010": 24.03,
         "Age65AndOlderPct2010": 13.04,
         "WhiteNonHispanicPct2010": 63.75,
         "BlackNonHispanicPct2010": 12.21,
         "AsianNonHispanicPct2010": 4.69,
         "NativeAmericanNonHispanicPct2010": 0.73,
         "HispanicPct2010": 16.35,
         "MultipleRacePct2010": 2.92,
         "NonHispanicWhitePopChangeRate0010": 1.16,
         "NonHispanicBlackPopChangeRate0010": 11.01,
         "NonHispanicAsianPopChangeRate0010": 42.89,
         "NonHispanicNativeAmericanPopChangeRate0010": 8.61,
         "HispanicPopChangeRate0010": 42.97,
         "MultipleRacePopChangeRate0010": 31.98,
         "WhiteNonHispanicNum2010": 196817552,
         "BlackNonHispanicNum2010": 37685848,
         "AsianNonHispanicNum2010": 14465124,
         "NativeAmericanNonHispanicNum2010": 2247098,
         "HispanicNum2010": 50477594,
         "MultipleRaceNum2010": 9009073,
         "ForeignBornPct": 13.55457526,
         "ForeignBornEuropePct": 1.46716272,
         "ForeignBornMexPct": 3.464926825,
         "NonEnglishHHPct": 4.396049795,
         "Ed1LessThanHSPct": 11.99891755,
         "Ed2HSDiplomaOnlyPct": 26.95684361,
         "Ed3SomeCollegePct": 20.41713088,
         "Ed4AssocDegreePct": 8.481566006,
         "Ed5CollegePlusPct": 32.14554195,
         "AvgHHSize": 2.62,
         "FemaleHHPct": 12.43578624,
         "HH65PlusAlonePct": 10.98062268,
         "OwnHomePct": 63.99214141,
         "ForeignBornNum": 44011407,
         "TotalPopACS": 324697795,
         "ForeignBornAfricaPct": 0.695007184,
         "Ed3SomeCollegeNum": 45044698,
         "Ed2HSDiplomaOnlyNum": 59472748,
         "Ed1LessThanHSNum": 26472261,
         "TotalPop25Plus": 220622076,
         "Ed5CollegePlusNum": 70920162,
         "TotalOccHU": 120756048,
         "ForeignBornAsiaPct": 4.201346671,
         "Ed4AssocDegreeNum": 18712207,
         "ForeignBornEuropeNum": 4763845,
         "NonEnglishHHNum": 5308496,
         "HH65PlusAloneNum": 13259766,
         "OwnHomeNum": 77274381,
         "FemaleHHNum": 15016964,
         "TotalHH": 120756048,
         "ForeignBornCentralSouthAmPct": 5.520748609,
         "ForeignBornCentralSouthAmNum": 17925749,
         "ForeignBornCaribPct": 1.335359854,
         "ForeignBornCaribNum": 4335884,
         "ForeignBornAfricaNum": 2256673,
         "ForeignBornAsiaNum": 13641680,
         "ForeignBornMexNum": 11250541,
         "LandAreaSQMiles2010": 3531905.43,
         "Age65AndOlderNum2010": 40267984,
         "TotalPop2010": 308745538,
         "Under18Num2010": 74181467,
         "Net_International_Migration_2000_2010": "nan",
         "NaturalChangeNum0010": "nan",
         "NetMigrationNum0010": "nan",
         "TotalPopEst2012": 313830990,
         "TotalPopEst2013": 315993715,
         "TotalPopEst2010": 309321666,
         "TotalPopEst2014": 318301008,
         "TotalPopEst2011": 311556874,
         "Net_International_Migration_2010_2019": 7685444,
         "NaturalChange1019": 11232413,
         "TotalPopEst2015": 320635163,
         "TotalPopEst2016": 322941311,
         "TotalPopEst2017": 324985539,
         "NetMigration1019": 7685444,
         "TotalPopEst2018": 326687501,
         "TotalPopEstBase2010": 308758105,
         "_deepnote_index_column": 0
        },
        {
         "FIPS": 1000,
         "State": "AL",
         "County": "Alabama",
         "PopChangeRate1819": 0.317,
         "PopChangeRate1019": 2.461,
         "TotalPopEst2019": 4903185,
         "NetMigrationRate1019": 1.059,
         "NaturalChangeRate1019": 1.402,
         "Net_International_Migration_Rate_2010_2019": 0.809,
         "PopChangeRate0010": 7.48,
         "NetMigrationRate0010": 3.3,
         "NaturalChangeRate0010": 3.3,
         "Immigration_Rate_2000_2010": 1.222930915,
         "PopDensity2010": 94.38,
         "Under18Pct2010": 23.69,
         "Age65AndOlderPct2010": 13.76,
         "WhiteNonHispanicPct2010": 67.04,
         "BlackNonHispanicPct2010": 26.04,
         "AsianNonHispanicPct2010": 1.11,
         "NativeAmericanNonHispanicPct2010": 0.54,
         "HispanicPct2010": 3.88,
         "MultipleRacePct2010": 1.49,
         "NonHispanicWhitePopChangeRate0010": 2.51,
         "NonHispanicBlackPopChangeRate0010": 8.2,
         "NonHispanicAsianPopChangeRate0010": 70.83,
         "NonHispanicNativeAmericanPopChangeRate0010": 19.84,
         "HispanicPopChangeRate0010": 144.76,
         "MultipleRacePopChangeRate0010": 61.28,
         "WhiteNonHispanicNum2010": 3204402,
         "BlackNonHispanicNum2010": 1244437,
         "AsianNonHispanicNum2010": 52937,
         "NativeAmericanNonHispanicNum2010": 25907,
         "HispanicNum2010": 185602,
         "MultipleRaceNum2010": 71251,
         "ForeignBornPct": 3.546721354,
         "ForeignBornEuropePct": 0.408285055,
         "ForeignBornMexPct": 1.005936939,
         "NonEnglishHHPct": 1.218324604,
         "Ed1LessThanHSPct": 13.81930135,
         "Ed2HSDiplomaOnlyPct": 30.80026752,
         "Ed3SomeCollegePct": 21.41085021,
         "Ed4AssocDegreePct": 8.501248315,
         "Ed5CollegePlusPct": 25.46833261,
         "AvgHHSize": 2.55,
         "FemaleHHPct": 14.16660376,
         "HH65PlusAlonePct": 11.67400916,
         "OwnHomePct": 68.78059932,
         "ForeignBornNum": 172947,
         "TotalPopACS": 4876250,
         "ForeignBornAfricaPct": 0.185388362,
         "Ed3SomeCollegeNum": 711028,
         "Ed2HSDiplomaOnlyNum": 1022839,
         "Ed1LessThanHSNum": 458922,
         "TotalPop25Plus": 3320877,
         "Ed5CollegePlusNum": 845772,
         "TotalOccHU": 1867893,
         "ForeignBornAsiaPct": 1.116923866,
         "Ed4AssocDegreeNum": 282316,
         "ForeignBornEuropeNum": 19909,
         "NonEnglishHHNum": 22757,
         "HH65PlusAloneNum": 218058,
         "OwnHomeNum": 1284748,
         "FemaleHHNum": 264617,
         "TotalHH": 1867893,
         "ForeignBornCentralSouthAmPct": 1.60664445,
         "ForeignBornCentralSouthAmNum": 78344,
         "ForeignBornCaribPct": 0.143040246,
         "ForeignBornCaribNum": 6975,
         "ForeignBornAfricaNum": 9040,
         "ForeignBornAsiaNum": 54464,
         "ForeignBornMexNum": 49052,
         "LandAreaSQMiles2010": 50645.33,
         "Age65AndOlderNum2010": 657792,
         "TotalPop2010": 4779736,
         "Under18Num2010": 1132459,
         "Net_International_Migration_2000_2010": 54447,
         "NaturalChangeNum0010": 147019.5,
         "NetMigrationNum0010": 147119,
         "TotalPopEst2012": 4815588,
         "TotalPopEst2013": 4830081,
         "TotalPopEst2010": 4785437,
         "TotalPopEst2014": 4841799,
         "TotalPopEst2011": 4799069,
         "Net_International_Migration_2010_2019": 38731,
         "NaturalChange1019": 67083,
         "TotalPopEst2015": 4852347,
         "TotalPopEst2016": 4863525,
         "TotalPopEst2017": 4874486,
         "NetMigration1019": 50665,
         "TotalPopEst2018": 4887681,
         "TotalPopEstBase2010": 4780125,
         "_deepnote_index_column": 1
        }
       ],
       "rows_bottom": null
      },
      "text/plain": "   FIPS State         County  PopChangeRate1819  PopChangeRate1019  \\\n0     0    US  United States              0.475              6.116   \n1  1000    AL        Alabama              0.317              2.461   \n\n   TotalPopEst2019  NetMigrationRate1019  NaturalChangeRate1019  \\\n0        328239523                 2.485                  3.631   \n1          4903185                 1.059                  1.402   \n\n   Net_International_Migration_Rate_2010_2019  PopChangeRate0010  ...  \\\n0                                       2.485               9.71  ...   \n1                                       0.809               7.48  ...   \n\n   TotalPopEst2014  TotalPopEst2011  Net_International_Migration_2010_2019  \\\n0        318301008        311556874                              7685444.0   \n1          4841799          4799069                                38731.0   \n\n   NaturalChange1019  TotalPopEst2015  TotalPopEst2016  TotalPopEst2017  \\\n0         11232413.0        320635163        322941311        324985539   \n1            67083.0          4852347          4863525          4874486   \n\n   NetMigration1019  TotalPopEst2018  TotalPopEstBase2010  \n0         7685444.0        326687501            308758105  \n1           50665.0          4887681              4780125  \n\n[2 rows x 91 columns]",
      "text/html": "<div>\n<style scoped>\n    .dataframe tbody tr th:only-of-type {\n        vertical-align: middle;\n    }\n\n    .dataframe tbody tr th {\n        vertical-align: top;\n    }\n\n    .dataframe thead th {\n        text-align: right;\n    }\n</style>\n<table border=\"1\" class=\"dataframe\">\n  <thead>\n    <tr style=\"text-align: right;\">\n      <th></th>\n      <th>FIPS</th>\n      <th>State</th>\n      <th>County</th>\n      <th>PopChangeRate1819</th>\n      <th>PopChangeRate1019</th>\n      <th>TotalPopEst2019</th>\n      <th>NetMigrationRate1019</th>\n      <th>NaturalChangeRate1019</th>\n      <th>Net_International_Migration_Rate_2010_2019</th>\n      <th>PopChangeRate0010</th>\n      <th>...</th>\n      <th>TotalPopEst2014</th>\n      <th>TotalPopEst2011</th>\n      <th>Net_International_Migration_2010_2019</th>\n      <th>NaturalChange1019</th>\n      <th>TotalPopEst2015</th>\n      <th>TotalPopEst2016</th>\n      <th>TotalPopEst2017</th>\n      <th>NetMigration1019</th>\n      <th>TotalPopEst2018</th>\n      <th>TotalPopEstBase2010</th>\n    </tr>\n  </thead>\n  <tbody>\n    <tr>\n      <th>0</th>\n      <td>0</td>\n      <td>US</td>\n      <td>United States</td>\n      <td>0.475</td>\n      <td>6.116</td>\n      <td>328239523</td>\n      <td>2.485</td>\n      <td>3.631</td>\n      <td>2.485</td>\n      <td>9.71</td>\n      <td>...</td>\n      <td>318301008</td>\n      <td>311556874</td>\n      <td>7685444.0</td>\n      <td>11232413.0</td>\n      <td>320635163</td>\n      <td>322941311</td>\n      <td>324985539</td>\n      <td>7685444.0</td>\n      <td>326687501</td>\n      <td>308758105</td>\n    </tr>\n    <tr>\n      <th>1</th>\n      <td>1000</td>\n      <td>AL</td>\n      <td>Alabama</td>\n      <td>0.317</td>\n      <td>2.461</td>\n      <td>4903185</td>\n      <td>1.059</td>\n      <td>1.402</td>\n      <td>0.809</td>\n      <td>7.48</td>\n      <td>...</td>\n      <td>4841799</td>\n      <td>4799069</td>\n      <td>38731.0</td>\n      <td>67083.0</td>\n      <td>4852347</td>\n      <td>4863525</td>\n      <td>4874486</td>\n      <td>50665.0</td>\n      <td>4887681</td>\n      <td>4780125</td>\n    </tr>\n  </tbody>\n</table>\n<p>2 rows × 91 columns</p>\n</div>"
     },
     "metadata": {}
    }
   ]
  },
  {
   "cell_type": "code",
   "metadata": {
    "tags": [],
    "cell_id": "00010-ee0dd5a2-5c81-4ac1-b447-fea5fcb2516e",
    "deepnote_to_be_reexecuted": false,
    "source_hash": "53654c7a",
    "execution_start": 1624685185191,
    "execution_millis": 262,
    "deepnote_cell_type": "code"
   },
   "source": "raw_ers_urban_rural.head(2)",
   "execution_count": null,
   "outputs": [
    {
     "output_type": "execute_result",
     "execution_count": 10,
     "data": {
      "application/vnd.deepnote.dataframe.v2+json": {
       "row_count": 2,
       "column_count": 45,
       "columns": [
        {
         "name": "FIPStxt",
         "dtype": "int64",
         "stats": {
          "unique_count": 2,
          "nan_count": 0,
          "min": "1001",
          "max": "1003",
          "histogram": [
           {
            "bin_start": 1001,
            "bin_end": 1001.2,
            "count": 1
           },
           {
            "bin_start": 1001.2,
            "bin_end": 1001.4,
            "count": 0
           },
           {
            "bin_start": 1001.4,
            "bin_end": 1001.6,
            "count": 0
           },
           {
            "bin_start": 1001.6,
            "bin_end": 1001.8,
            "count": 0
           },
           {
            "bin_start": 1001.8,
            "bin_end": 1002,
            "count": 0
           },
           {
            "bin_start": 1002,
            "bin_end": 1002.2,
            "count": 0
           },
           {
            "bin_start": 1002.2,
            "bin_end": 1002.4,
            "count": 0
           },
           {
            "bin_start": 1002.4,
            "bin_end": 1002.6,
            "count": 0
           },
           {
            "bin_start": 1002.6,
            "bin_end": 1002.8,
            "count": 0
           },
           {
            "bin_start": 1002.8,
            "bin_end": 1003,
            "count": 1
           }
          ]
         }
        },
        {
         "name": "State",
         "dtype": "object",
         "stats": {
          "unique_count": 1,
          "nan_count": 0,
          "categories": [
           {
            "name": "AL",
            "count": 2
           }
          ]
         }
        },
        {
         "name": "County",
         "dtype": "object",
         "stats": {
          "unique_count": 2,
          "nan_count": 0,
          "categories": [
           {
            "name": "Autauga",
            "count": 1
           },
           {
            "name": "Baldwin",
            "count": 1
           }
          ]
         }
        },
        {
         "name": "RuralUrbanContinuumCode2013",
         "dtype": "float64",
         "stats": {
          "unique_count": 2,
          "nan_count": 0,
          "min": "2.0",
          "max": "3.0",
          "histogram": [
           {
            "bin_start": 2,
            "bin_end": 2.1,
            "count": 1
           },
           {
            "bin_start": 2.1,
            "bin_end": 2.2,
            "count": 0
           },
           {
            "bin_start": 2.2,
            "bin_end": 2.3,
            "count": 0
           },
           {
            "bin_start": 2.3,
            "bin_end": 2.4,
            "count": 0
           },
           {
            "bin_start": 2.4,
            "bin_end": 2.5,
            "count": 0
           },
           {
            "bin_start": 2.5,
            "bin_end": 2.6,
            "count": 0
           },
           {
            "bin_start": 2.6,
            "bin_end": 2.7,
            "count": 0
           },
           {
            "bin_start": 2.7,
            "bin_end": 2.8,
            "count": 0
           },
           {
            "bin_start": 2.8,
            "bin_end": 2.9,
            "count": 0
           },
           {
            "bin_start": 2.9,
            "bin_end": 3,
            "count": 1
           }
          ]
         }
        },
        {
         "name": "UrbanInfluenceCode2013",
         "dtype": "float64",
         "stats": {
          "unique_count": 1,
          "nan_count": 0,
          "min": "2.0",
          "max": "2.0",
          "histogram": [
           {
            "bin_start": 1.5,
            "bin_end": 1.6,
            "count": 0
           },
           {
            "bin_start": 1.6,
            "bin_end": 1.7,
            "count": 0
           },
           {
            "bin_start": 1.7,
            "bin_end": 1.8,
            "count": 0
           },
           {
            "bin_start": 1.8,
            "bin_end": 1.9,
            "count": 0
           },
           {
            "bin_start": 1.9,
            "bin_end": 2,
            "count": 0
           },
           {
            "bin_start": 2,
            "bin_end": 2.1,
            "count": 2
           },
           {
            "bin_start": 2.1,
            "bin_end": 2.2,
            "count": 0
           },
           {
            "bin_start": 2.2,
            "bin_end": 2.3,
            "count": 0
           },
           {
            "bin_start": 2.3,
            "bin_end": 2.4,
            "count": 0
           },
           {
            "bin_start": 2.4,
            "bin_end": 2.5,
            "count": 0
           }
          ]
         }
        },
        {
         "name": "RuralUrbanContinuumCode2003",
         "dtype": "float64",
         "stats": {
          "unique_count": 2,
          "nan_count": 0,
          "min": "2.0",
          "max": "4.0",
          "histogram": [
           {
            "bin_start": 2,
            "bin_end": 2.2,
            "count": 1
           },
           {
            "bin_start": 2.2,
            "bin_end": 2.4,
            "count": 0
           },
           {
            "bin_start": 2.4,
            "bin_end": 2.6,
            "count": 0
           },
           {
            "bin_start": 2.6,
            "bin_end": 2.8,
            "count": 0
           },
           {
            "bin_start": 2.8,
            "bin_end": 3,
            "count": 0
           },
           {
            "bin_start": 3,
            "bin_end": 3.2,
            "count": 0
           },
           {
            "bin_start": 3.2,
            "bin_end": 3.4000000000000004,
            "count": 0
           },
           {
            "bin_start": 3.4000000000000004,
            "bin_end": 3.6,
            "count": 0
           },
           {
            "bin_start": 3.6,
            "bin_end": 3.8,
            "count": 0
           },
           {
            "bin_start": 3.8,
            "bin_end": 4,
            "count": 1
           }
          ]
         }
        },
        {
         "name": "UrbanInfluenceCode2003",
         "dtype": "float64",
         "stats": {
          "unique_count": 2,
          "nan_count": 0,
          "min": "2.0",
          "max": "5.0",
          "histogram": [
           {
            "bin_start": 2,
            "bin_end": 2.3,
            "count": 1
           },
           {
            "bin_start": 2.3,
            "bin_end": 2.6,
            "count": 0
           },
           {
            "bin_start": 2.6,
            "bin_end": 2.9,
            "count": 0
           },
           {
            "bin_start": 2.9,
            "bin_end": 3.2,
            "count": 0
           },
           {
            "bin_start": 3.2,
            "bin_end": 3.5,
            "count": 0
           },
           {
            "bin_start": 3.5,
            "bin_end": 3.8,
            "count": 0
           },
           {
            "bin_start": 3.8,
            "bin_end": 4.1,
            "count": 0
           },
           {
            "bin_start": 4.1,
            "bin_end": 4.4,
            "count": 0
           },
           {
            "bin_start": 4.4,
            "bin_end": 4.699999999999999,
            "count": 0
           },
           {
            "bin_start": 4.699999999999999,
            "bin_end": 5,
            "count": 1
           }
          ]
         }
        },
        {
         "name": "Metro2013",
         "dtype": "float64",
         "stats": {
          "unique_count": 1,
          "nan_count": 0,
          "min": "1.0",
          "max": "1.0",
          "histogram": [
           {
            "bin_start": 0.5,
            "bin_end": 0.6,
            "count": 0
           },
           {
            "bin_start": 0.6,
            "bin_end": 0.7,
            "count": 0
           },
           {
            "bin_start": 0.7,
            "bin_end": 0.8,
            "count": 0
           },
           {
            "bin_start": 0.8,
            "bin_end": 0.9,
            "count": 0
           },
           {
            "bin_start": 0.9,
            "bin_end": 1,
            "count": 0
           },
           {
            "bin_start": 1,
            "bin_end": 1.1,
            "count": 2
           },
           {
            "bin_start": 1.1,
            "bin_end": 1.2000000000000002,
            "count": 0
           },
           {
            "bin_start": 1.2000000000000002,
            "bin_end": 1.3,
            "count": 0
           },
           {
            "bin_start": 1.3,
            "bin_end": 1.4,
            "count": 0
           },
           {
            "bin_start": 1.4,
            "bin_end": 1.5,
            "count": 0
           }
          ]
         }
        },
        {
         "name": "Nonmetro2013",
         "dtype": "float64",
         "stats": {
          "unique_count": 1,
          "nan_count": 0,
          "min": "0.0",
          "max": "0.0",
          "histogram": [
           {
            "bin_start": -0.5,
            "bin_end": -0.4,
            "count": 0
           },
           {
            "bin_start": -0.4,
            "bin_end": -0.3,
            "count": 0
           },
           {
            "bin_start": -0.3,
            "bin_end": -0.19999999999999996,
            "count": 0
           },
           {
            "bin_start": -0.19999999999999996,
            "bin_end": -0.09999999999999998,
            "count": 0
           },
           {
            "bin_start": -0.09999999999999998,
            "bin_end": 0,
            "count": 0
           },
           {
            "bin_start": 0,
            "bin_end": 0.10000000000000009,
            "count": 2
           },
           {
            "bin_start": 0.10000000000000009,
            "bin_end": 0.20000000000000007,
            "count": 0
           },
           {
            "bin_start": 0.20000000000000007,
            "bin_end": 0.30000000000000004,
            "count": 0
           },
           {
            "bin_start": 0.30000000000000004,
            "bin_end": 0.4,
            "count": 0
           },
           {
            "bin_start": 0.4,
            "bin_end": 0.5,
            "count": 0
           }
          ]
         }
        },
        {
         "name": "Micropolitan2013",
         "dtype": "float64",
         "stats": {
          "unique_count": 1,
          "nan_count": 0,
          "min": "0.0",
          "max": "0.0",
          "histogram": [
           {
            "bin_start": -0.5,
            "bin_end": -0.4,
            "count": 0
           },
           {
            "bin_start": -0.4,
            "bin_end": -0.3,
            "count": 0
           },
           {
            "bin_start": -0.3,
            "bin_end": -0.19999999999999996,
            "count": 0
           },
           {
            "bin_start": -0.19999999999999996,
            "bin_end": -0.09999999999999998,
            "count": 0
           },
           {
            "bin_start": -0.09999999999999998,
            "bin_end": 0,
            "count": 0
           },
           {
            "bin_start": 0,
            "bin_end": 0.10000000000000009,
            "count": 2
           },
           {
            "bin_start": 0.10000000000000009,
            "bin_end": 0.20000000000000007,
            "count": 0
           },
           {
            "bin_start": 0.20000000000000007,
            "bin_end": 0.30000000000000004,
            "count": 0
           },
           {
            "bin_start": 0.30000000000000004,
            "bin_end": 0.4,
            "count": 0
           },
           {
            "bin_start": 0.4,
            "bin_end": 0.5,
            "count": 0
           }
          ]
         }
        },
        {
         "name": "Type_2015_Update",
         "dtype": "float64",
         "stats": {
          "unique_count": 2,
          "nan_count": 0,
          "min": "0.0",
          "max": "5.0",
          "histogram": [
           {
            "bin_start": 0,
            "bin_end": 0.5,
            "count": 1
           },
           {
            "bin_start": 0.5,
            "bin_end": 1,
            "count": 0
           },
           {
            "bin_start": 1,
            "bin_end": 1.5,
            "count": 0
           },
           {
            "bin_start": 1.5,
            "bin_end": 2,
            "count": 0
           },
           {
            "bin_start": 2,
            "bin_end": 2.5,
            "count": 0
           },
           {
            "bin_start": 2.5,
            "bin_end": 3,
            "count": 0
           },
           {
            "bin_start": 3,
            "bin_end": 3.5,
            "count": 0
           },
           {
            "bin_start": 3.5,
            "bin_end": 4,
            "count": 0
           },
           {
            "bin_start": 4,
            "bin_end": 4.5,
            "count": 0
           },
           {
            "bin_start": 4.5,
            "bin_end": 5,
            "count": 1
           }
          ]
         }
        },
        {
         "name": "Type_2015_Farming_NO",
         "dtype": "float64",
         "stats": {
          "unique_count": 1,
          "nan_count": 0,
          "min": "0.0",
          "max": "0.0",
          "histogram": [
           {
            "bin_start": -0.5,
            "bin_end": -0.4,
            "count": 0
           },
           {
            "bin_start": -0.4,
            "bin_end": -0.3,
            "count": 0
           },
           {
            "bin_start": -0.3,
            "bin_end": -0.19999999999999996,
            "count": 0
           },
           {
            "bin_start": -0.19999999999999996,
            "bin_end": -0.09999999999999998,
            "count": 0
           },
           {
            "bin_start": -0.09999999999999998,
            "bin_end": 0,
            "count": 0
           },
           {
            "bin_start": 0,
            "bin_end": 0.10000000000000009,
            "count": 2
           },
           {
            "bin_start": 0.10000000000000009,
            "bin_end": 0.20000000000000007,
            "count": 0
           },
           {
            "bin_start": 0.20000000000000007,
            "bin_end": 0.30000000000000004,
            "count": 0
           },
           {
            "bin_start": 0.30000000000000004,
            "bin_end": 0.4,
            "count": 0
           },
           {
            "bin_start": 0.4,
            "bin_end": 0.5,
            "count": 0
           }
          ]
         }
        },
        {
         "name": "Type_2015_Manufacturing_NO",
         "dtype": "float64",
         "stats": {
          "unique_count": 1,
          "nan_count": 0,
          "min": "0.0",
          "max": "0.0",
          "histogram": [
           {
            "bin_start": -0.5,
            "bin_end": -0.4,
            "count": 0
           },
           {
            "bin_start": -0.4,
            "bin_end": -0.3,
            "count": 0
           },
           {
            "bin_start": -0.3,
            "bin_end": -0.19999999999999996,
            "count": 0
           },
           {
            "bin_start": -0.19999999999999996,
            "bin_end": -0.09999999999999998,
            "count": 0
           },
           {
            "bin_start": -0.09999999999999998,
            "bin_end": 0,
            "count": 0
           },
           {
            "bin_start": 0,
            "bin_end": 0.10000000000000009,
            "count": 2
           },
           {
            "bin_start": 0.10000000000000009,
            "bin_end": 0.20000000000000007,
            "count": 0
           },
           {
            "bin_start": 0.20000000000000007,
            "bin_end": 0.30000000000000004,
            "count": 0
           },
           {
            "bin_start": 0.30000000000000004,
            "bin_end": 0.4,
            "count": 0
           },
           {
            "bin_start": 0.4,
            "bin_end": 0.5,
            "count": 0
           }
          ]
         }
        },
        {
         "name": "Type_2015_Mining_NO",
         "dtype": "float64",
         "stats": {
          "unique_count": 1,
          "nan_count": 0,
          "min": "0.0",
          "max": "0.0",
          "histogram": [
           {
            "bin_start": -0.5,
            "bin_end": -0.4,
            "count": 0
           },
           {
            "bin_start": -0.4,
            "bin_end": -0.3,
            "count": 0
           },
           {
            "bin_start": -0.3,
            "bin_end": -0.19999999999999996,
            "count": 0
           },
           {
            "bin_start": -0.19999999999999996,
            "bin_end": -0.09999999999999998,
            "count": 0
           },
           {
            "bin_start": -0.09999999999999998,
            "bin_end": 0,
            "count": 0
           },
           {
            "bin_start": 0,
            "bin_end": 0.10000000000000009,
            "count": 2
           },
           {
            "bin_start": 0.10000000000000009,
            "bin_end": 0.20000000000000007,
            "count": 0
           },
           {
            "bin_start": 0.20000000000000007,
            "bin_end": 0.30000000000000004,
            "count": 0
           },
           {
            "bin_start": 0.30000000000000004,
            "bin_end": 0.4,
            "count": 0
           },
           {
            "bin_start": 0.4,
            "bin_end": 0.5,
            "count": 0
           }
          ]
         }
        },
        {
         "name": "Type_2015_Government_NO",
         "dtype": "float64",
         "stats": {
          "unique_count": 1,
          "nan_count": 0,
          "min": "0.0",
          "max": "0.0",
          "histogram": [
           {
            "bin_start": -0.5,
            "bin_end": -0.4,
            "count": 0
           },
           {
            "bin_start": -0.4,
            "bin_end": -0.3,
            "count": 0
           },
           {
            "bin_start": -0.3,
            "bin_end": -0.19999999999999996,
            "count": 0
           },
           {
            "bin_start": -0.19999999999999996,
            "bin_end": -0.09999999999999998,
            "count": 0
           },
           {
            "bin_start": -0.09999999999999998,
            "bin_end": 0,
            "count": 0
           },
           {
            "bin_start": 0,
            "bin_end": 0.10000000000000009,
            "count": 2
           },
           {
            "bin_start": 0.10000000000000009,
            "bin_end": 0.20000000000000007,
            "count": 0
           },
           {
            "bin_start": 0.20000000000000007,
            "bin_end": 0.30000000000000004,
            "count": 0
           },
           {
            "bin_start": 0.30000000000000004,
            "bin_end": 0.4,
            "count": 0
           },
           {
            "bin_start": 0.4,
            "bin_end": 0.5,
            "count": 0
           }
          ]
         }
        },
        {
         "name": "Type_2015_Recreation_NO",
         "dtype": "float64",
         "stats": {
          "unique_count": 2,
          "nan_count": 0,
          "min": "0.0",
          "max": "1.0",
          "histogram": [
           {
            "bin_start": 0,
            "bin_end": 0.1,
            "count": 1
           },
           {
            "bin_start": 0.1,
            "bin_end": 0.2,
            "count": 0
           },
           {
            "bin_start": 0.2,
            "bin_end": 0.30000000000000004,
            "count": 0
           },
           {
            "bin_start": 0.30000000000000004,
            "bin_end": 0.4,
            "count": 0
           },
           {
            "bin_start": 0.4,
            "bin_end": 0.5,
            "count": 0
           },
           {
            "bin_start": 0.5,
            "bin_end": 0.6000000000000001,
            "count": 0
           },
           {
            "bin_start": 0.6000000000000001,
            "bin_end": 0.7000000000000001,
            "count": 0
           },
           {
            "bin_start": 0.7000000000000001,
            "bin_end": 0.8,
            "count": 0
           },
           {
            "bin_start": 0.8,
            "bin_end": 0.9,
            "count": 0
           },
           {
            "bin_start": 0.9,
            "bin_end": 1,
            "count": 1
           }
          ]
         }
        },
        {
         "name": "Low_Education_2015_update",
         "dtype": "float64",
         "stats": {
          "unique_count": 1,
          "nan_count": 0,
          "min": "0.0",
          "max": "0.0",
          "histogram": [
           {
            "bin_start": -0.5,
            "bin_end": -0.4,
            "count": 0
           },
           {
            "bin_start": -0.4,
            "bin_end": -0.3,
            "count": 0
           },
           {
            "bin_start": -0.3,
            "bin_end": -0.19999999999999996,
            "count": 0
           },
           {
            "bin_start": -0.19999999999999996,
            "bin_end": -0.09999999999999998,
            "count": 0
           },
           {
            "bin_start": -0.09999999999999998,
            "bin_end": 0,
            "count": 0
           },
           {
            "bin_start": 0,
            "bin_end": 0.10000000000000009,
            "count": 2
           },
           {
            "bin_start": 0.10000000000000009,
            "bin_end": 0.20000000000000007,
            "count": 0
           },
           {
            "bin_start": 0.20000000000000007,
            "bin_end": 0.30000000000000004,
            "count": 0
           },
           {
            "bin_start": 0.30000000000000004,
            "bin_end": 0.4,
            "count": 0
           },
           {
            "bin_start": 0.4,
            "bin_end": 0.5,
            "count": 0
           }
          ]
         }
        },
        {
         "name": "Low_Employment_2015_update",
         "dtype": "float64",
         "stats": {
          "unique_count": 1,
          "nan_count": 0,
          "min": "0.0",
          "max": "0.0",
          "histogram": [
           {
            "bin_start": -0.5,
            "bin_end": -0.4,
            "count": 0
           },
           {
            "bin_start": -0.4,
            "bin_end": -0.3,
            "count": 0
           },
           {
            "bin_start": -0.3,
            "bin_end": -0.19999999999999996,
            "count": 0
           },
           {
            "bin_start": -0.19999999999999996,
            "bin_end": -0.09999999999999998,
            "count": 0
           },
           {
            "bin_start": -0.09999999999999998,
            "bin_end": 0,
            "count": 0
           },
           {
            "bin_start": 0,
            "bin_end": 0.10000000000000009,
            "count": 2
           },
           {
            "bin_start": 0.10000000000000009,
            "bin_end": 0.20000000000000007,
            "count": 0
           },
           {
            "bin_start": 0.20000000000000007,
            "bin_end": 0.30000000000000004,
            "count": 0
           },
           {
            "bin_start": 0.30000000000000004,
            "bin_end": 0.4,
            "count": 0
           },
           {
            "bin_start": 0.4,
            "bin_end": 0.5,
            "count": 0
           }
          ]
         }
        },
        {
         "name": "Population_loss_2015_update",
         "dtype": "float64",
         "stats": {
          "unique_count": 1,
          "nan_count": 0,
          "min": "0.0",
          "max": "0.0",
          "histogram": [
           {
            "bin_start": -0.5,
            "bin_end": -0.4,
            "count": 0
           },
           {
            "bin_start": -0.4,
            "bin_end": -0.3,
            "count": 0
           },
           {
            "bin_start": -0.3,
            "bin_end": -0.19999999999999996,
            "count": 0
           },
           {
            "bin_start": -0.19999999999999996,
            "bin_end": -0.09999999999999998,
            "count": 0
           },
           {
            "bin_start": -0.09999999999999998,
            "bin_end": 0,
            "count": 0
           },
           {
            "bin_start": 0,
            "bin_end": 0.10000000000000009,
            "count": 2
           },
           {
            "bin_start": 0.10000000000000009,
            "bin_end": 0.20000000000000007,
            "count": 0
           },
           {
            "bin_start": 0.20000000000000007,
            "bin_end": 0.30000000000000004,
            "count": 0
           },
           {
            "bin_start": 0.30000000000000004,
            "bin_end": 0.4,
            "count": 0
           },
           {
            "bin_start": 0.4,
            "bin_end": 0.5,
            "count": 0
           }
          ]
         }
        },
        {
         "name": "Retirement_Destination_2015_Update",
         "dtype": "float64",
         "stats": {
          "unique_count": 1,
          "nan_count": 0,
          "min": "1.0",
          "max": "1.0",
          "histogram": [
           {
            "bin_start": 0.5,
            "bin_end": 0.6,
            "count": 0
           },
           {
            "bin_start": 0.6,
            "bin_end": 0.7,
            "count": 0
           },
           {
            "bin_start": 0.7,
            "bin_end": 0.8,
            "count": 0
           },
           {
            "bin_start": 0.8,
            "bin_end": 0.9,
            "count": 0
           },
           {
            "bin_start": 0.9,
            "bin_end": 1,
            "count": 0
           },
           {
            "bin_start": 1,
            "bin_end": 1.1,
            "count": 2
           },
           {
            "bin_start": 1.1,
            "bin_end": 1.2000000000000002,
            "count": 0
           },
           {
            "bin_start": 1.2000000000000002,
            "bin_end": 1.3,
            "count": 0
           },
           {
            "bin_start": 1.3,
            "bin_end": 1.4,
            "count": 0
           },
           {
            "bin_start": 1.4,
            "bin_end": 1.5,
            "count": 0
           }
          ]
         }
        },
        {
         "name": "Perpov_1980_0711",
         "dtype": "float64",
         "stats": {
          "unique_count": 1,
          "nan_count": 0,
          "min": "0.0",
          "max": "0.0",
          "histogram": [
           {
            "bin_start": -0.5,
            "bin_end": -0.4,
            "count": 0
           },
           {
            "bin_start": -0.4,
            "bin_end": -0.3,
            "count": 0
           },
           {
            "bin_start": -0.3,
            "bin_end": -0.19999999999999996,
            "count": 0
           },
           {
            "bin_start": -0.19999999999999996,
            "bin_end": -0.09999999999999998,
            "count": 0
           },
           {
            "bin_start": -0.09999999999999998,
            "bin_end": 0,
            "count": 0
           },
           {
            "bin_start": 0,
            "bin_end": 0.10000000000000009,
            "count": 2
           },
           {
            "bin_start": 0.10000000000000009,
            "bin_end": 0.20000000000000007,
            "count": 0
           },
           {
            "bin_start": 0.20000000000000007,
            "bin_end": 0.30000000000000004,
            "count": 0
           },
           {
            "bin_start": 0.30000000000000004,
            "bin_end": 0.4,
            "count": 0
           },
           {
            "bin_start": 0.4,
            "bin_end": 0.5,
            "count": 0
           }
          ]
         }
        },
        {
         "name": "PersistentChildPoverty_1980_2011",
         "dtype": "float64",
         "stats": {
          "unique_count": 1,
          "nan_count": 0,
          "min": "0.0",
          "max": "0.0",
          "histogram": [
           {
            "bin_start": -0.5,
            "bin_end": -0.4,
            "count": 0
           },
           {
            "bin_start": -0.4,
            "bin_end": -0.3,
            "count": 0
           },
           {
            "bin_start": -0.3,
            "bin_end": -0.19999999999999996,
            "count": 0
           },
           {
            "bin_start": -0.19999999999999996,
            "bin_end": -0.09999999999999998,
            "count": 0
           },
           {
            "bin_start": -0.09999999999999998,
            "bin_end": 0,
            "count": 0
           },
           {
            "bin_start": 0,
            "bin_end": 0.10000000000000009,
            "count": 2
           },
           {
            "bin_start": 0.10000000000000009,
            "bin_end": 0.20000000000000007,
            "count": 0
           },
           {
            "bin_start": 0.20000000000000007,
            "bin_end": 0.30000000000000004,
            "count": 0
           },
           {
            "bin_start": 0.30000000000000004,
            "bin_end": 0.4,
            "count": 0
           },
           {
            "bin_start": 0.4,
            "bin_end": 0.5,
            "count": 0
           }
          ]
         }
        },
        {
         "name": "Hipov",
         "dtype": "float64",
         "stats": {
          "unique_count": 1,
          "nan_count": 0,
          "min": "0.0",
          "max": "0.0",
          "histogram": [
           {
            "bin_start": -0.5,
            "bin_end": -0.4,
            "count": 0
           },
           {
            "bin_start": -0.4,
            "bin_end": -0.3,
            "count": 0
           },
           {
            "bin_start": -0.3,
            "bin_end": -0.19999999999999996,
            "count": 0
           },
           {
            "bin_start": -0.19999999999999996,
            "bin_end": -0.09999999999999998,
            "count": 0
           },
           {
            "bin_start": -0.09999999999999998,
            "bin_end": 0,
            "count": 0
           },
           {
            "bin_start": 0,
            "bin_end": 0.10000000000000009,
            "count": 2
           },
           {
            "bin_start": 0.10000000000000009,
            "bin_end": 0.20000000000000007,
            "count": 0
           },
           {
            "bin_start": 0.20000000000000007,
            "bin_end": 0.30000000000000004,
            "count": 0
           },
           {
            "bin_start": 0.30000000000000004,
            "bin_end": 0.4,
            "count": 0
           },
           {
            "bin_start": 0.4,
            "bin_end": 0.5,
            "count": 0
           }
          ]
         }
        },
        {
         "name": "HiAmenity",
         "dtype": "float64",
         "stats": {
          "unique_count": 2,
          "nan_count": 0,
          "min": "0.0",
          "max": "1.0",
          "histogram": [
           {
            "bin_start": 0,
            "bin_end": 0.1,
            "count": 1
           },
           {
            "bin_start": 0.1,
            "bin_end": 0.2,
            "count": 0
           },
           {
            "bin_start": 0.2,
            "bin_end": 0.30000000000000004,
            "count": 0
           },
           {
            "bin_start": 0.30000000000000004,
            "bin_end": 0.4,
            "count": 0
           },
           {
            "bin_start": 0.4,
            "bin_end": 0.5,
            "count": 0
           },
           {
            "bin_start": 0.5,
            "bin_end": 0.6000000000000001,
            "count": 0
           },
           {
            "bin_start": 0.6000000000000001,
            "bin_end": 0.7000000000000001,
            "count": 0
           },
           {
            "bin_start": 0.7000000000000001,
            "bin_end": 0.8,
            "count": 0
           },
           {
            "bin_start": 0.8,
            "bin_end": 0.9,
            "count": 0
           },
           {
            "bin_start": 0.9,
            "bin_end": 1,
            "count": 1
           }
          ]
         }
        },
        {
         "name": "HiCreativeClass2000",
         "dtype": "float64",
         "stats": {
          "unique_count": 1,
          "nan_count": 0,
          "min": "1.0",
          "max": "1.0",
          "histogram": [
           {
            "bin_start": 0.5,
            "bin_end": 0.6,
            "count": 0
           },
           {
            "bin_start": 0.6,
            "bin_end": 0.7,
            "count": 0
           },
           {
            "bin_start": 0.7,
            "bin_end": 0.8,
            "count": 0
           },
           {
            "bin_start": 0.8,
            "bin_end": 0.9,
            "count": 0
           },
           {
            "bin_start": 0.9,
            "bin_end": 1,
            "count": 0
           },
           {
            "bin_start": 1,
            "bin_end": 1.1,
            "count": 2
           },
           {
            "bin_start": 1.1,
            "bin_end": 1.2000000000000002,
            "count": 0
           },
           {
            "bin_start": 1.2000000000000002,
            "bin_end": 1.3,
            "count": 0
           },
           {
            "bin_start": 1.3,
            "bin_end": 1.4,
            "count": 0
           },
           {
            "bin_start": 1.4,
            "bin_end": 1.5,
            "count": 0
           }
          ]
         }
        },
        {
         "name": "Gas_Change",
         "dtype": "float64",
         "stats": {
          "unique_count": 2,
          "nan_count": 0,
          "min": "0.0",
          "max": "9.0",
          "histogram": [
           {
            "bin_start": 0,
            "bin_end": 0.9,
            "count": 1
           },
           {
            "bin_start": 0.9,
            "bin_end": 1.8,
            "count": 0
           },
           {
            "bin_start": 1.8,
            "bin_end": 2.7,
            "count": 0
           },
           {
            "bin_start": 2.7,
            "bin_end": 3.6,
            "count": 0
           },
           {
            "bin_start": 3.6,
            "bin_end": 4.5,
            "count": 0
           },
           {
            "bin_start": 4.5,
            "bin_end": 5.4,
            "count": 0
           },
           {
            "bin_start": 5.4,
            "bin_end": 6.3,
            "count": 0
           },
           {
            "bin_start": 6.3,
            "bin_end": 7.2,
            "count": 0
           },
           {
            "bin_start": 7.2,
            "bin_end": 8.1,
            "count": 0
           },
           {
            "bin_start": 8.1,
            "bin_end": 9,
            "count": 1
           }
          ]
         }
        },
        {
         "name": "Oil_Change",
         "dtype": "float64",
         "stats": {
          "unique_count": 1,
          "nan_count": 0,
          "min": "0.0",
          "max": "0.0",
          "histogram": [
           {
            "bin_start": -0.5,
            "bin_end": -0.4,
            "count": 0
           },
           {
            "bin_start": -0.4,
            "bin_end": -0.3,
            "count": 0
           },
           {
            "bin_start": -0.3,
            "bin_end": -0.19999999999999996,
            "count": 0
           },
           {
            "bin_start": -0.19999999999999996,
            "bin_end": -0.09999999999999998,
            "count": 0
           },
           {
            "bin_start": -0.09999999999999998,
            "bin_end": 0,
            "count": 0
           },
           {
            "bin_start": 0,
            "bin_end": 0.10000000000000009,
            "count": 2
           },
           {
            "bin_start": 0.10000000000000009,
            "bin_end": 0.20000000000000007,
            "count": 0
           },
           {
            "bin_start": 0.20000000000000007,
            "bin_end": 0.30000000000000004,
            "count": 0
           },
           {
            "bin_start": 0.30000000000000004,
            "bin_end": 0.4,
            "count": 0
           },
           {
            "bin_start": 0.4,
            "bin_end": 0.5,
            "count": 0
           }
          ]
         }
        },
        {
         "name": "Oil_Gas_Change",
         "dtype": "float64",
         "stats": {
          "unique_count": 2,
          "nan_count": 0,
          "min": "0.0",
          "max": "9.0",
          "histogram": [
           {
            "bin_start": 0,
            "bin_end": 0.9,
            "count": 1
           },
           {
            "bin_start": 0.9,
            "bin_end": 1.8,
            "count": 0
           },
           {
            "bin_start": 1.8,
            "bin_end": 2.7,
            "count": 0
           },
           {
            "bin_start": 2.7,
            "bin_end": 3.6,
            "count": 0
           },
           {
            "bin_start": 3.6,
            "bin_end": 4.5,
            "count": 0
           },
           {
            "bin_start": 4.5,
            "bin_end": 5.4,
            "count": 0
           },
           {
            "bin_start": 5.4,
            "bin_end": 6.3,
            "count": 0
           },
           {
            "bin_start": 6.3,
            "bin_end": 7.2,
            "count": 0
           },
           {
            "bin_start": 7.2,
            "bin_end": 8.1,
            "count": 0
           },
           {
            "bin_start": 8.1,
            "bin_end": 9,
            "count": 1
           }
          ]
         }
        },
        {
         "name": "Metro2003",
         "dtype": "float64",
         "stats": {
          "unique_count": 2,
          "nan_count": 0,
          "min": "0.0",
          "max": "1.0",
          "histogram": [
           {
            "bin_start": 0,
            "bin_end": 0.1,
            "count": 1
           },
           {
            "bin_start": 0.1,
            "bin_end": 0.2,
            "count": 0
           },
           {
            "bin_start": 0.2,
            "bin_end": 0.30000000000000004,
            "count": 0
           },
           {
            "bin_start": 0.30000000000000004,
            "bin_end": 0.4,
            "count": 0
           },
           {
            "bin_start": 0.4,
            "bin_end": 0.5,
            "count": 0
           },
           {
            "bin_start": 0.5,
            "bin_end": 0.6000000000000001,
            "count": 0
           },
           {
            "bin_start": 0.6000000000000001,
            "bin_end": 0.7000000000000001,
            "count": 0
           },
           {
            "bin_start": 0.7000000000000001,
            "bin_end": 0.8,
            "count": 0
           },
           {
            "bin_start": 0.8,
            "bin_end": 0.9,
            "count": 0
           },
           {
            "bin_start": 0.9,
            "bin_end": 1,
            "count": 1
           }
          ]
         }
        },
        {
         "name": "NonmetroNotAdj2003",
         "dtype": "float64",
         "stats": {
          "unique_count": 1,
          "nan_count": 0,
          "min": "0.0",
          "max": "0.0",
          "histogram": [
           {
            "bin_start": -0.5,
            "bin_end": -0.4,
            "count": 0
           },
           {
            "bin_start": -0.4,
            "bin_end": -0.3,
            "count": 0
           },
           {
            "bin_start": -0.3,
            "bin_end": -0.19999999999999996,
            "count": 0
           },
           {
            "bin_start": -0.19999999999999996,
            "bin_end": -0.09999999999999998,
            "count": 0
           },
           {
            "bin_start": -0.09999999999999998,
            "bin_end": 0,
            "count": 0
           },
           {
            "bin_start": 0,
            "bin_end": 0.10000000000000009,
            "count": 2
           },
           {
            "bin_start": 0.10000000000000009,
            "bin_end": 0.20000000000000007,
            "count": 0
           },
           {
            "bin_start": 0.20000000000000007,
            "bin_end": 0.30000000000000004,
            "count": 0
           },
           {
            "bin_start": 0.30000000000000004,
            "bin_end": 0.4,
            "count": 0
           },
           {
            "bin_start": 0.4,
            "bin_end": 0.5,
            "count": 0
           }
          ]
         }
        },
        {
         "name": "NonmetroAdj2003",
         "dtype": "float64",
         "stats": {
          "unique_count": 2,
          "nan_count": 0,
          "min": "0.0",
          "max": "1.0",
          "histogram": [
           {
            "bin_start": 0,
            "bin_end": 0.1,
            "count": 1
           },
           {
            "bin_start": 0.1,
            "bin_end": 0.2,
            "count": 0
           },
           {
            "bin_start": 0.2,
            "bin_end": 0.30000000000000004,
            "count": 0
           },
           {
            "bin_start": 0.30000000000000004,
            "bin_end": 0.4,
            "count": 0
           },
           {
            "bin_start": 0.4,
            "bin_end": 0.5,
            "count": 0
           },
           {
            "bin_start": 0.5,
            "bin_end": 0.6000000000000001,
            "count": 0
           },
           {
            "bin_start": 0.6000000000000001,
            "bin_end": 0.7000000000000001,
            "count": 0
           },
           {
            "bin_start": 0.7000000000000001,
            "bin_end": 0.8,
            "count": 0
           },
           {
            "bin_start": 0.8,
            "bin_end": 0.9,
            "count": 0
           },
           {
            "bin_start": 0.9,
            "bin_end": 1,
            "count": 1
           }
          ]
         }
        },
        {
         "name": "Noncore2003",
         "dtype": "float64",
         "stats": {
          "unique_count": 1,
          "nan_count": 0,
          "min": "0.0",
          "max": "0.0",
          "histogram": [
           {
            "bin_start": -0.5,
            "bin_end": -0.4,
            "count": 0
           },
           {
            "bin_start": -0.4,
            "bin_end": -0.3,
            "count": 0
           },
           {
            "bin_start": -0.3,
            "bin_end": -0.19999999999999996,
            "count": 0
           },
           {
            "bin_start": -0.19999999999999996,
            "bin_end": -0.09999999999999998,
            "count": 0
           },
           {
            "bin_start": -0.09999999999999998,
            "bin_end": 0,
            "count": 0
           },
           {
            "bin_start": 0,
            "bin_end": 0.10000000000000009,
            "count": 2
           },
           {
            "bin_start": 0.10000000000000009,
            "bin_end": 0.20000000000000007,
            "count": 0
           },
           {
            "bin_start": 0.20000000000000007,
            "bin_end": 0.30000000000000004,
            "count": 0
           },
           {
            "bin_start": 0.30000000000000004,
            "bin_end": 0.4,
            "count": 0
           },
           {
            "bin_start": 0.4,
            "bin_end": 0.5,
            "count": 0
           }
          ]
         }
        },
        {
         "name": "EconomicDependence2000",
         "dtype": "float64",
         "stats": {
          "unique_count": 2,
          "nan_count": 0,
          "min": "3.0",
          "max": "5.0",
          "histogram": [
           {
            "bin_start": 3,
            "bin_end": 3.2,
            "count": 1
           },
           {
            "bin_start": 3.2,
            "bin_end": 3.4,
            "count": 0
           },
           {
            "bin_start": 3.4,
            "bin_end": 3.6,
            "count": 0
           },
           {
            "bin_start": 3.6,
            "bin_end": 3.8,
            "count": 0
           },
           {
            "bin_start": 3.8,
            "bin_end": 4,
            "count": 0
           },
           {
            "bin_start": 4,
            "bin_end": 4.2,
            "count": 0
           },
           {
            "bin_start": 4.2,
            "bin_end": 4.4,
            "count": 0
           },
           {
            "bin_start": 4.4,
            "bin_end": 4.6,
            "count": 0
           },
           {
            "bin_start": 4.6,
            "bin_end": 4.8,
            "count": 0
           },
           {
            "bin_start": 4.8,
            "bin_end": 5,
            "count": 1
           }
          ]
         }
        },
        {
         "name": "Nonmetro2003",
         "dtype": "float64",
         "stats": {
          "unique_count": 2,
          "nan_count": 0,
          "min": "0.0",
          "max": "1.0",
          "histogram": [
           {
            "bin_start": 0,
            "bin_end": 0.1,
            "count": 1
           },
           {
            "bin_start": 0.1,
            "bin_end": 0.2,
            "count": 0
           },
           {
            "bin_start": 0.2,
            "bin_end": 0.30000000000000004,
            "count": 0
           },
           {
            "bin_start": 0.30000000000000004,
            "bin_end": 0.4,
            "count": 0
           },
           {
            "bin_start": 0.4,
            "bin_end": 0.5,
            "count": 0
           },
           {
            "bin_start": 0.5,
            "bin_end": 0.6000000000000001,
            "count": 0
           },
           {
            "bin_start": 0.6000000000000001,
            "bin_end": 0.7000000000000001,
            "count": 0
           },
           {
            "bin_start": 0.7000000000000001,
            "bin_end": 0.8,
            "count": 0
           },
           {
            "bin_start": 0.8,
            "bin_end": 0.9,
            "count": 0
           },
           {
            "bin_start": 0.9,
            "bin_end": 1,
            "count": 1
           }
          ]
         }
        },
        {
         "name": "Micropolitan2003",
         "dtype": "float64",
         "stats": {
          "unique_count": 2,
          "nan_count": 0,
          "min": "0.0",
          "max": "1.0",
          "histogram": [
           {
            "bin_start": 0,
            "bin_end": 0.1,
            "count": 1
           },
           {
            "bin_start": 0.1,
            "bin_end": 0.2,
            "count": 0
           },
           {
            "bin_start": 0.2,
            "bin_end": 0.30000000000000004,
            "count": 0
           },
           {
            "bin_start": 0.30000000000000004,
            "bin_end": 0.4,
            "count": 0
           },
           {
            "bin_start": 0.4,
            "bin_end": 0.5,
            "count": 0
           },
           {
            "bin_start": 0.5,
            "bin_end": 0.6000000000000001,
            "count": 0
           },
           {
            "bin_start": 0.6000000000000001,
            "bin_end": 0.7000000000000001,
            "count": 0
           },
           {
            "bin_start": 0.7000000000000001,
            "bin_end": 0.8,
            "count": 0
           },
           {
            "bin_start": 0.8,
            "bin_end": 0.9,
            "count": 0
           },
           {
            "bin_start": 0.9,
            "bin_end": 1,
            "count": 1
           }
          ]
         }
        },
        {
         "name": "FarmDependent2003",
         "dtype": "float64",
         "stats": {
          "unique_count": 1,
          "nan_count": 0,
          "min": "0.0",
          "max": "0.0",
          "histogram": [
           {
            "bin_start": -0.5,
            "bin_end": -0.4,
            "count": 0
           },
           {
            "bin_start": -0.4,
            "bin_end": -0.3,
            "count": 0
           },
           {
            "bin_start": -0.3,
            "bin_end": -0.19999999999999996,
            "count": 0
           },
           {
            "bin_start": -0.19999999999999996,
            "bin_end": -0.09999999999999998,
            "count": 0
           },
           {
            "bin_start": -0.09999999999999998,
            "bin_end": 0,
            "count": 0
           },
           {
            "bin_start": 0,
            "bin_end": 0.10000000000000009,
            "count": 2
           },
           {
            "bin_start": 0.10000000000000009,
            "bin_end": 0.20000000000000007,
            "count": 0
           },
           {
            "bin_start": 0.20000000000000007,
            "bin_end": 0.30000000000000004,
            "count": 0
           },
           {
            "bin_start": 0.30000000000000004,
            "bin_end": 0.4,
            "count": 0
           },
           {
            "bin_start": 0.4,
            "bin_end": 0.5,
            "count": 0
           }
          ]
         }
        },
        {
         "name": "ManufacturingDependent2000",
         "dtype": "float64",
         "stats": {
          "unique_count": 2,
          "nan_count": 0,
          "min": "0.0",
          "max": "1.0",
          "histogram": [
           {
            "bin_start": 0,
            "bin_end": 0.1,
            "count": 1
           },
           {
            "bin_start": 0.1,
            "bin_end": 0.2,
            "count": 0
           },
           {
            "bin_start": 0.2,
            "bin_end": 0.30000000000000004,
            "count": 0
           },
           {
            "bin_start": 0.30000000000000004,
            "bin_end": 0.4,
            "count": 0
           },
           {
            "bin_start": 0.4,
            "bin_end": 0.5,
            "count": 0
           },
           {
            "bin_start": 0.5,
            "bin_end": 0.6000000000000001,
            "count": 0
           },
           {
            "bin_start": 0.6000000000000001,
            "bin_end": 0.7000000000000001,
            "count": 0
           },
           {
            "bin_start": 0.7000000000000001,
            "bin_end": 0.8,
            "count": 0
           },
           {
            "bin_start": 0.8,
            "bin_end": 0.9,
            "count": 0
           },
           {
            "bin_start": 0.9,
            "bin_end": 1,
            "count": 1
           }
          ]
         }
        },
        {
         "name": "LowEducation2000",
         "dtype": "float64",
         "stats": {
          "unique_count": 1,
          "nan_count": 0,
          "min": "0.0",
          "max": "0.0",
          "histogram": [
           {
            "bin_start": -0.5,
            "bin_end": -0.4,
            "count": 0
           },
           {
            "bin_start": -0.4,
            "bin_end": -0.3,
            "count": 0
           },
           {
            "bin_start": -0.3,
            "bin_end": -0.19999999999999996,
            "count": 0
           },
           {
            "bin_start": -0.19999999999999996,
            "bin_end": -0.09999999999999998,
            "count": 0
           },
           {
            "bin_start": -0.09999999999999998,
            "bin_end": 0,
            "count": 0
           },
           {
            "bin_start": 0,
            "bin_end": 0.10000000000000009,
            "count": 2
           },
           {
            "bin_start": 0.10000000000000009,
            "bin_end": 0.20000000000000007,
            "count": 0
           },
           {
            "bin_start": 0.20000000000000007,
            "bin_end": 0.30000000000000004,
            "count": 0
           },
           {
            "bin_start": 0.30000000000000004,
            "bin_end": 0.4,
            "count": 0
           },
           {
            "bin_start": 0.4,
            "bin_end": 0.5,
            "count": 0
           }
          ]
         }
        },
        {
         "name": "RetirementDestination2000",
         "dtype": "float64",
         "stats": {
          "unique_count": 2,
          "nan_count": 0,
          "min": "0.0",
          "max": "1.0",
          "histogram": [
           {
            "bin_start": 0,
            "bin_end": 0.1,
            "count": 1
           },
           {
            "bin_start": 0.1,
            "bin_end": 0.2,
            "count": 0
           },
           {
            "bin_start": 0.2,
            "bin_end": 0.30000000000000004,
            "count": 0
           },
           {
            "bin_start": 0.30000000000000004,
            "bin_end": 0.4,
            "count": 0
           },
           {
            "bin_start": 0.4,
            "bin_end": 0.5,
            "count": 0
           },
           {
            "bin_start": 0.5,
            "bin_end": 0.6000000000000001,
            "count": 0
           },
           {
            "bin_start": 0.6000000000000001,
            "bin_end": 0.7000000000000001,
            "count": 0
           },
           {
            "bin_start": 0.7000000000000001,
            "bin_end": 0.8,
            "count": 0
           },
           {
            "bin_start": 0.8,
            "bin_end": 0.9,
            "count": 0
           },
           {
            "bin_start": 0.9,
            "bin_end": 1,
            "count": 1
           }
          ]
         }
        },
        {
         "name": "PersistentPoverty2000",
         "dtype": "float64",
         "stats": {
          "unique_count": 1,
          "nan_count": 0,
          "min": "0.0",
          "max": "0.0",
          "histogram": [
           {
            "bin_start": -0.5,
            "bin_end": -0.4,
            "count": 0
           },
           {
            "bin_start": -0.4,
            "bin_end": -0.3,
            "count": 0
           },
           {
            "bin_start": -0.3,
            "bin_end": -0.19999999999999996,
            "count": 0
           },
           {
            "bin_start": -0.19999999999999996,
            "bin_end": -0.09999999999999998,
            "count": 0
           },
           {
            "bin_start": -0.09999999999999998,
            "bin_end": 0,
            "count": 0
           },
           {
            "bin_start": 0,
            "bin_end": 0.10000000000000009,
            "count": 2
           },
           {
            "bin_start": 0.10000000000000009,
            "bin_end": 0.20000000000000007,
            "count": 0
           },
           {
            "bin_start": 0.20000000000000007,
            "bin_end": 0.30000000000000004,
            "count": 0
           },
           {
            "bin_start": 0.30000000000000004,
            "bin_end": 0.4,
            "count": 0
           },
           {
            "bin_start": 0.4,
            "bin_end": 0.5,
            "count": 0
           }
          ]
         }
        },
        {
         "name": "Noncore2013",
         "dtype": "float64",
         "stats": {
          "unique_count": 1,
          "nan_count": 0,
          "min": "0.0",
          "max": "0.0",
          "histogram": [
           {
            "bin_start": -0.5,
            "bin_end": -0.4,
            "count": 0
           },
           {
            "bin_start": -0.4,
            "bin_end": -0.3,
            "count": 0
           },
           {
            "bin_start": -0.3,
            "bin_end": -0.19999999999999996,
            "count": 0
           },
           {
            "bin_start": -0.19999999999999996,
            "bin_end": -0.09999999999999998,
            "count": 0
           },
           {
            "bin_start": -0.09999999999999998,
            "bin_end": 0,
            "count": 0
           },
           {
            "bin_start": 0,
            "bin_end": 0.10000000000000009,
            "count": 2
           },
           {
            "bin_start": 0.10000000000000009,
            "bin_end": 0.20000000000000007,
            "count": 0
           },
           {
            "bin_start": 0.20000000000000007,
            "bin_end": 0.30000000000000004,
            "count": 0
           },
           {
            "bin_start": 0.30000000000000004,
            "bin_end": 0.4,
            "count": 0
           },
           {
            "bin_start": 0.4,
            "bin_end": 0.5,
            "count": 0
           }
          ]
         }
        },
        {
         "name": "Type_2015_Nonspecialized_NO",
         "dtype": "float64",
         "stats": {
          "unique_count": 2,
          "nan_count": 0,
          "min": "0.0",
          "max": "1.0",
          "histogram": [
           {
            "bin_start": 0,
            "bin_end": 0.1,
            "count": 1
           },
           {
            "bin_start": 0.1,
            "bin_end": 0.2,
            "count": 0
           },
           {
            "bin_start": 0.2,
            "bin_end": 0.30000000000000004,
            "count": 0
           },
           {
            "bin_start": 0.30000000000000004,
            "bin_end": 0.4,
            "count": 0
           },
           {
            "bin_start": 0.4,
            "bin_end": 0.5,
            "count": 0
           },
           {
            "bin_start": 0.5,
            "bin_end": 0.6000000000000001,
            "count": 0
           },
           {
            "bin_start": 0.6000000000000001,
            "bin_end": 0.7000000000000001,
            "count": 0
           },
           {
            "bin_start": 0.7000000000000001,
            "bin_end": 0.8,
            "count": 0
           },
           {
            "bin_start": 0.8,
            "bin_end": 0.9,
            "count": 0
           },
           {
            "bin_start": 0.9,
            "bin_end": 1,
            "count": 1
           }
          ]
         }
        },
        {
         "name": "Metro_Adjacent2013",
         "dtype": "float64",
         "stats": {
          "unique_count": 1,
          "nan_count": 0,
          "min": "0.0",
          "max": "0.0",
          "histogram": [
           {
            "bin_start": -0.5,
            "bin_end": -0.4,
            "count": 0
           },
           {
            "bin_start": -0.4,
            "bin_end": -0.3,
            "count": 0
           },
           {
            "bin_start": -0.3,
            "bin_end": -0.19999999999999996,
            "count": 0
           },
           {
            "bin_start": -0.19999999999999996,
            "bin_end": -0.09999999999999998,
            "count": 0
           },
           {
            "bin_start": -0.09999999999999998,
            "bin_end": 0,
            "count": 0
           },
           {
            "bin_start": 0,
            "bin_end": 0.10000000000000009,
            "count": 2
           },
           {
            "bin_start": 0.10000000000000009,
            "bin_end": 0.20000000000000007,
            "count": 0
           },
           {
            "bin_start": 0.20000000000000007,
            "bin_end": 0.30000000000000004,
            "count": 0
           },
           {
            "bin_start": 0.30000000000000004,
            "bin_end": 0.4,
            "count": 0
           },
           {
            "bin_start": 0.4,
            "bin_end": 0.5,
            "count": 0
           }
          ]
         }
        },
        {
         "name": "PersistentChildPoverty2004",
         "dtype": "float64",
         "stats": {
          "unique_count": 1,
          "nan_count": 0,
          "min": "0.0",
          "max": "0.0",
          "histogram": [
           {
            "bin_start": -0.5,
            "bin_end": -0.4,
            "count": 0
           },
           {
            "bin_start": -0.4,
            "bin_end": -0.3,
            "count": 0
           },
           {
            "bin_start": -0.3,
            "bin_end": -0.19999999999999996,
            "count": 0
           },
           {
            "bin_start": -0.19999999999999996,
            "bin_end": -0.09999999999999998,
            "count": 0
           },
           {
            "bin_start": -0.09999999999999998,
            "bin_end": 0,
            "count": 0
           },
           {
            "bin_start": 0,
            "bin_end": 0.10000000000000009,
            "count": 2
           },
           {
            "bin_start": 0.10000000000000009,
            "bin_end": 0.20000000000000007,
            "count": 0
           },
           {
            "bin_start": 0.20000000000000007,
            "bin_end": 0.30000000000000004,
            "count": 0
           },
           {
            "bin_start": 0.30000000000000004,
            "bin_end": 0.4,
            "count": 0
           },
           {
            "bin_start": 0.4,
            "bin_end": 0.5,
            "count": 0
           }
          ]
         }
        },
        {
         "name": "RecreationDependent2000",
         "dtype": "float64",
         "stats": {
          "unique_count": 2,
          "nan_count": 0,
          "min": "0.0",
          "max": "1.0",
          "histogram": [
           {
            "bin_start": 0,
            "bin_end": 0.1,
            "count": 1
           },
           {
            "bin_start": 0.1,
            "bin_end": 0.2,
            "count": 0
           },
           {
            "bin_start": 0.2,
            "bin_end": 0.30000000000000004,
            "count": 0
           },
           {
            "bin_start": 0.30000000000000004,
            "bin_end": 0.4,
            "count": 0
           },
           {
            "bin_start": 0.4,
            "bin_end": 0.5,
            "count": 0
           },
           {
            "bin_start": 0.5,
            "bin_end": 0.6000000000000001,
            "count": 0
           },
           {
            "bin_start": 0.6000000000000001,
            "bin_end": 0.7000000000000001,
            "count": 0
           },
           {
            "bin_start": 0.7000000000000001,
            "bin_end": 0.8,
            "count": 0
           },
           {
            "bin_start": 0.8,
            "bin_end": 0.9,
            "count": 0
           },
           {
            "bin_start": 0.9,
            "bin_end": 1,
            "count": 1
           }
          ]
         }
        },
        {
         "name": "_deepnote_index_column",
         "dtype": "int64"
        }
       ],
       "rows_top": [
        {
         "FIPStxt": 1001,
         "State": "AL",
         "County": "Autauga",
         "RuralUrbanContinuumCode2013": 2,
         "UrbanInfluenceCode2013": 2,
         "RuralUrbanContinuumCode2003": 2,
         "UrbanInfluenceCode2003": 2,
         "Metro2013": 1,
         "Nonmetro2013": 0,
         "Micropolitan2013": 0,
         "Type_2015_Update": 0,
         "Type_2015_Farming_NO": 0,
         "Type_2015_Manufacturing_NO": 0,
         "Type_2015_Mining_NO": 0,
         "Type_2015_Government_NO": 0,
         "Type_2015_Recreation_NO": 0,
         "Low_Education_2015_update": 0,
         "Low_Employment_2015_update": 0,
         "Population_loss_2015_update": 0,
         "Retirement_Destination_2015_Update": 1,
         "Perpov_1980_0711": 0,
         "PersistentChildPoverty_1980_2011": 0,
         "Hipov": 0,
         "HiAmenity": 0,
         "HiCreativeClass2000": 1,
         "Gas_Change": 0,
         "Oil_Change": 0,
         "Oil_Gas_Change": 0,
         "Metro2003": 1,
         "NonmetroNotAdj2003": 0,
         "NonmetroAdj2003": 0,
         "Noncore2003": 0,
         "EconomicDependence2000": 3,
         "Nonmetro2003": 0,
         "Micropolitan2003": 0,
         "FarmDependent2003": 0,
         "ManufacturingDependent2000": 1,
         "LowEducation2000": 0,
         "RetirementDestination2000": 0,
         "PersistentPoverty2000": 0,
         "Noncore2013": 0,
         "Type_2015_Nonspecialized_NO": 1,
         "Metro_Adjacent2013": 0,
         "PersistentChildPoverty2004": 0,
         "RecreationDependent2000": 0,
         "_deepnote_index_column": 0
        },
        {
         "FIPStxt": 1003,
         "State": "AL",
         "County": "Baldwin",
         "RuralUrbanContinuumCode2013": 3,
         "UrbanInfluenceCode2013": 2,
         "RuralUrbanContinuumCode2003": 4,
         "UrbanInfluenceCode2003": 5,
         "Metro2013": 1,
         "Nonmetro2013": 0,
         "Micropolitan2013": 0,
         "Type_2015_Update": 5,
         "Type_2015_Farming_NO": 0,
         "Type_2015_Manufacturing_NO": 0,
         "Type_2015_Mining_NO": 0,
         "Type_2015_Government_NO": 0,
         "Type_2015_Recreation_NO": 1,
         "Low_Education_2015_update": 0,
         "Low_Employment_2015_update": 0,
         "Population_loss_2015_update": 0,
         "Retirement_Destination_2015_Update": 1,
         "Perpov_1980_0711": 0,
         "PersistentChildPoverty_1980_2011": 0,
         "Hipov": 0,
         "HiAmenity": 1,
         "HiCreativeClass2000": 1,
         "Gas_Change": 9,
         "Oil_Change": 0,
         "Oil_Gas_Change": 9,
         "Metro2003": 0,
         "NonmetroNotAdj2003": 0,
         "NonmetroAdj2003": 1,
         "Noncore2003": 0,
         "EconomicDependence2000": 5,
         "Nonmetro2003": 1,
         "Micropolitan2003": 1,
         "FarmDependent2003": 0,
         "ManufacturingDependent2000": 0,
         "LowEducation2000": 0,
         "RetirementDestination2000": 1,
         "PersistentPoverty2000": 0,
         "Noncore2013": 0,
         "Type_2015_Nonspecialized_NO": 0,
         "Metro_Adjacent2013": 0,
         "PersistentChildPoverty2004": 0,
         "RecreationDependent2000": 1,
         "_deepnote_index_column": 1
        }
       ],
       "rows_bottom": null
      },
      "text/plain": "   FIPStxt State   County  RuralUrbanContinuumCode2013  \\\n0     1001    AL  Autauga                          2.0   \n1     1003    AL  Baldwin                          3.0   \n\n   UrbanInfluenceCode2013  RuralUrbanContinuumCode2003  \\\n0                     2.0                          2.0   \n1                     2.0                          4.0   \n\n   UrbanInfluenceCode2003  Metro2013  Nonmetro2013  Micropolitan2013  ...  \\\n0                     2.0        1.0           0.0               0.0  ...   \n1                     5.0        1.0           0.0               0.0  ...   \n\n   FarmDependent2003  ManufacturingDependent2000  LowEducation2000  \\\n0                0.0                         1.0               0.0   \n1                0.0                         0.0               0.0   \n\n   RetirementDestination2000  PersistentPoverty2000  Noncore2013  \\\n0                        0.0                    0.0          0.0   \n1                        1.0                    0.0          0.0   \n\n   Type_2015_Nonspecialized_NO  Metro_Adjacent2013  \\\n0                          1.0                 0.0   \n1                          0.0                 0.0   \n\n   PersistentChildPoverty2004  RecreationDependent2000  \n0                         0.0                      0.0  \n1                         0.0                      1.0  \n\n[2 rows x 45 columns]",
      "text/html": "<div>\n<style scoped>\n    .dataframe tbody tr th:only-of-type {\n        vertical-align: middle;\n    }\n\n    .dataframe tbody tr th {\n        vertical-align: top;\n    }\n\n    .dataframe thead th {\n        text-align: right;\n    }\n</style>\n<table border=\"1\" class=\"dataframe\">\n  <thead>\n    <tr style=\"text-align: right;\">\n      <th></th>\n      <th>FIPStxt</th>\n      <th>State</th>\n      <th>County</th>\n      <th>RuralUrbanContinuumCode2013</th>\n      <th>UrbanInfluenceCode2013</th>\n      <th>RuralUrbanContinuumCode2003</th>\n      <th>UrbanInfluenceCode2003</th>\n      <th>Metro2013</th>\n      <th>Nonmetro2013</th>\n      <th>Micropolitan2013</th>\n      <th>...</th>\n      <th>FarmDependent2003</th>\n      <th>ManufacturingDependent2000</th>\n      <th>LowEducation2000</th>\n      <th>RetirementDestination2000</th>\n      <th>PersistentPoverty2000</th>\n      <th>Noncore2013</th>\n      <th>Type_2015_Nonspecialized_NO</th>\n      <th>Metro_Adjacent2013</th>\n      <th>PersistentChildPoverty2004</th>\n      <th>RecreationDependent2000</th>\n    </tr>\n  </thead>\n  <tbody>\n    <tr>\n      <th>0</th>\n      <td>1001</td>\n      <td>AL</td>\n      <td>Autauga</td>\n      <td>2.0</td>\n      <td>2.0</td>\n      <td>2.0</td>\n      <td>2.0</td>\n      <td>1.0</td>\n      <td>0.0</td>\n      <td>0.0</td>\n      <td>...</td>\n      <td>0.0</td>\n      <td>1.0</td>\n      <td>0.0</td>\n      <td>0.0</td>\n      <td>0.0</td>\n      <td>0.0</td>\n      <td>1.0</td>\n      <td>0.0</td>\n      <td>0.0</td>\n      <td>0.0</td>\n    </tr>\n    <tr>\n      <th>1</th>\n      <td>1003</td>\n      <td>AL</td>\n      <td>Baldwin</td>\n      <td>3.0</td>\n      <td>2.0</td>\n      <td>4.0</td>\n      <td>5.0</td>\n      <td>1.0</td>\n      <td>0.0</td>\n      <td>0.0</td>\n      <td>...</td>\n      <td>0.0</td>\n      <td>0.0</td>\n      <td>0.0</td>\n      <td>1.0</td>\n      <td>0.0</td>\n      <td>0.0</td>\n      <td>0.0</td>\n      <td>0.0</td>\n      <td>0.0</td>\n      <td>1.0</td>\n    </tr>\n  </tbody>\n</table>\n<p>2 rows × 45 columns</p>\n</div>"
     },
     "metadata": {}
    }
   ]
  },
  {
   "cell_type": "code",
   "metadata": {
    "tags": [],
    "cell_id": "00011-53ca711f-e0fc-417d-a317-cf9a6f10fea3",
    "deepnote_to_be_reexecuted": false,
    "source_hash": "4c101dfe",
    "execution_start": 1624685192577,
    "execution_millis": 1563,
    "deepnote_cell_type": "code"
   },
   "source": "raw_fcc_health_and_broadband.head(3)",
   "execution_count": null,
   "outputs": [
    {
     "output_type": "execute_result",
     "execution_count": 11,
     "data": {
      "application/vnd.deepnote.dataframe.v2+json": {
       "row_count": 3,
       "column_count": 353,
       "columns": [
        {
         "name": "FID",
         "dtype": "object",
         "stats": {
          "unique_count": 3,
          "nan_count": 0,
          "categories": [
           {
            "name": "c2hgis_county.fid--3df29475_17a3fe20314_5ad2",
            "count": 1
           },
           {
            "name": "c2hgis_county.fid--3df29475_17a3fe20314_5ad3",
            "count": 1
           },
           {
            "name": "c2hgis_county.fid--3df29475_17a3fe20314_5ad4",
            "count": 1
           }
          ]
         }
        },
        {
         "name": "geography_type",
         "dtype": "object",
         "stats": {
          "unique_count": 1,
          "nan_count": 0,
          "categories": [
           {
            "name": "county",
            "count": 3
           }
          ]
         }
        },
        {
         "name": "geography_id",
         "dtype": "object",
         "stats": {
          "unique_count": 3,
          "nan_count": 0,
          "categories": [
           {
            "name": "21109",
            "count": 1
           },
           {
            "name": "37005",
            "count": 1
           },
           {
            "name": "13123",
            "count": 1
           }
          ]
         }
        },
        {
         "name": "geography_desc",
         "dtype": "object",
         "stats": {
          "unique_count": 3,
          "nan_count": 0,
          "categories": [
           {
            "name": "Jackson County",
            "count": 1
           },
           {
            "name": "Alleghany County",
            "count": 1
           },
           {
            "name": "Gilmer County",
            "count": 1
           }
          ]
         }
        },
        {
         "name": "submission_cycle",
         "dtype": "object",
         "stats": {
          "unique_count": 1,
          "nan_count": 0,
          "categories": [
           {
            "name": "2015-09",
            "count": 3
           }
          ]
         }
        },
        {
         "name": "geom",
         "dtype": "object",
         "stats": {
          "unique_count": 3,
          "nan_count": 0,
          "categories": [
           {
            "name": "MULTIPOLYGON (((-84.205306 37.503062, -84.199489 37.522858, -84.171836 37.557549, -84.142063 37.564839, -84.090364 37.566227, -84.045023 37.563573, -83.965244 37.581421, -83.939846 37.573173, -83.90557 37.542856, -83.893514 37.531119, -83.885262 37.517688, -83.88395299999999 37.477335, -83.865122 37.451378, -83.849961 37.447848, -83.81792 37.382216, -83.784975 37.348717, -83.783761 37.334733, -83.821693 37.331255, -83.863192 37.306571, -83.88198 37.306931999999996, -83.87683799999999 37.294652, -83.899891 37.266794999999995, -83.901476 37.25382, -83.921797 37.261803, -83.94371799999999 37.250551, -84.005606 37.253343, -84.056477 37.269762, -84.048486 37.281492, -84.076297 37.287769, -84.107254 37.308071999999996, -84.108069 37.326554, -84.124945 37.335626, -84.13789799999999 37.319759, -84.142928 37.35262, -84.129105 37.357389999999995, -84.16948099999999 37.385405999999996, -84.15960799999999 37.417791, -84.169547 37.426224999999995, -84.189256 37.456842, -84.203552 37.486177, -84.205306 37.503062)))",
            "count": 1
           },
           {
            "name": "MULTIPOLYGON (((-81.3531692825529 36.5747240034261, -81.30751099999999 36.575024, -81.262303 36.573924, -81.249816 36.573225, -81.176712 36.571926, -81.171212 36.571025999999996, -81.14180999999999 36.569527, -81.124809 36.569227, -81.08320599999999 36.567327999999996, -81.061866 36.56702, -81.058844 36.566976, -81.01140199999999 36.564429, -81.003802 36.563629, -80.945988 36.563196, -80.944338 36.563058, -80.9018363594172 36.5617543849563, -80.918577 36.540439, -80.914182 36.520700999999995, -80.963229 36.459165999999996, -80.97461899999999 36.452846, -80.947182 36.419073999999995, -80.967066 36.4016, -80.98196399999999 36.385521, -80.981555 36.376205999999996, -80.994653 36.379399, -81.013615 36.371271, -81.026688 36.373194999999996, -81.04378899999999 36.393322999999995, -81.04427199999999 36.411063, -81.07762699999999 36.417775999999996, -81.083558 36.433232, -81.09482899999999 36.440433, -81.128383 36.425833, -81.13824799999999 36.412448, -81.16303099999999 36.432432, -81.189256 36.399350999999996, -81.243151 36.365586, -81.25348199999999 36.365351, -81.245493 36.391317, -81.26606799999999 36.415651, -81.26375 36.428979, -81.272489 36.447373999999996, -81.296971 36.465264999999995, -81.320875 36.494866, -81.32830799999999 36.517208, -81.35322099999999 36.545823999999996, -81.3531692825529 36.5747240034261)))",
            "count": 1
           },
           {
            "name": "MULTIPOLYGON (((-84.65709799999999 34.728905, -84.638989 34.75443, -84.641463 34.777401999999995, -84.627348 34.784728, -84.609749 34.790937, -84.582306 34.825140999999995, -84.605256 34.840294, -84.61863699999999 34.855398, -84.42259299999999 34.857456, -84.41742099999999 34.849816, -84.354218 34.825019, -84.343661 34.824781, -84.328065 34.806402999999996, -84.31465299999999 34.807328, -84.252167 34.718160999999995, -84.252292 34.664609999999996, -84.24262399999999 34.670908, -84.22647099999999 34.653878, -84.19388699999999 34.638833999999996, -84.196754 34.617923999999995, -84.223907 34.596992, -84.254677 34.597496, -84.255112 34.568332999999996, -84.295059 34.570488, -84.307068 34.581398, -84.33663899999999 34.578945, -84.345553 34.562734999999996, -84.371496 34.562912, -84.371352 34.548494999999996, -84.437326 34.54935, -84.467863 34.549966999999995, -84.467989 34.563488, -84.485798 34.563266999999996, -84.476727 34.550128, -84.50281199999999 34.550475999999996, -84.50260999999999 34.563680999999995, -84.52139 34.550463, -84.654366 34.548946, -84.654523 34.583186999999995, -84.65709799999999 34.728905)))",
            "count": 1
           }
          ]
         }
        },
        {
         "name": "centroid",
         "dtype": "object",
         "stats": {
          "unique_count": 3,
          "nan_count": 0,
          "categories": [
           {
            "name": "POINT (-84.00617164501776 37.41979135091643)",
            "count": 1
           },
           {
            "name": "POINT (-81.127710400513 36.49135989086295)",
            "count": 1
           },
           {
            "name": "POINT (-84.45574304407471 34.69141719651767)",
            "count": 1
           }
          ]
         }
        },
        {
         "name": "res_concxns_pct",
         "dtype": "object",
         "stats": {
          "unique_count": 3,
          "nan_count": 0,
          "categories": [
           {
            "name": "3",
            "count": 1
           },
           {
            "name": "4",
            "count": 1
           },
           {
            "name": "5",
            "count": 1
           }
          ]
         }
        },
        {
         "name": "pctpopwbbacc",
         "dtype": "object",
         "stats": {
          "unique_count": 3,
          "nan_count": 0,
          "categories": [
           {
            "name": "99.6",
            "count": 1
           },
           {
            "name": "87.7",
            "count": 1
           },
           {
            "name": "95.1",
            "count": 1
           }
          ]
         }
        },
        {
         "name": "pctpopwobbacc",
         "dtype": "object",
         "stats": {
          "unique_count": 3,
          "nan_count": 0,
          "categories": [
           {
            "name": "0.4",
            "count": 1
           },
           {
            "name": "12.3",
            "count": 1
           },
           {
            "name": "4.9",
            "count": 1
           }
          ]
         }
        },
        {
         "name": "pctds0_hi",
         "dtype": "object",
         "stats": {
          "unique_count": 1,
          "nan_count": 0,
          "categories": [
           {
            "name": "0",
            "count": 3
           }
          ]
         }
        },
        {
         "name": "pctdsgt0kandlt1000k_hi",
         "dtype": "object",
         "stats": {
          "unique_count": 1,
          "nan_count": 0,
          "categories": [
           {
            "name": "0",
            "count": 3
           }
          ]
         }
        },
        {
         "name": "pctdsgt1000kandlt3000k_hi",
         "dtype": "object",
         "stats": {
          "unique_count": 1,
          "nan_count": 0,
          "categories": [
           {
            "name": "0",
            "count": 3
           }
          ]
         }
        },
        {
         "name": "pctdsgt3000kandlt4000k_hi",
         "dtype": "object",
         "stats": {
          "unique_count": 1,
          "nan_count": 0,
          "categories": [
           {
            "name": "0",
            "count": 3
           }
          ]
         }
        },
        {
         "name": "pctdsgt4000kandlt6000k_hi",
         "dtype": "object",
         "stats": {
          "unique_count": 1,
          "nan_count": 0,
          "categories": [
           {
            "name": "0",
            "count": 3
           }
          ]
         }
        },
        {
         "name": "pctdsgt6000kandlt10000k_hi",
         "dtype": "object",
         "stats": {
          "unique_count": 1,
          "nan_count": 0,
          "categories": [
           {
            "name": "0",
            "count": 3
           }
          ]
         }
        },
        {
         "name": "pctdsgt10000kandlt15000k_hi",
         "dtype": "object",
         "stats": {
          "unique_count": 1,
          "nan_count": 0,
          "categories": [
           {
            "name": "0",
            "count": 3
           }
          ]
         }
        },
        {
         "name": "pctdsgt15000kandlt25000k_hi",
         "dtype": "object",
         "stats": {
          "unique_count": 3,
          "nan_count": 0,
          "categories": [
           {
            "name": "0.4",
            "count": 1
           },
           {
            "name": "12.3",
            "count": 1
           },
           {
            "name": "4.9",
            "count": 1
           }
          ]
         }
        },
        {
         "name": "pctdsgt25000kandlt50000k_hi",
         "dtype": "object",
         "stats": {
          "unique_count": 1,
          "nan_count": 0,
          "categories": [
           {
            "name": "0",
            "count": 3
           }
          ]
         }
        },
        {
         "name": "pctdsgt50000kandlt100000k_hi",
         "dtype": "object",
         "stats": {
          "unique_count": 2,
          "nan_count": 0,
          "categories": [
           {
            "name": "0",
            "count": 2
           },
           {
            "name": "94.7",
            "count": 1
           }
          ]
         }
        },
        {
         "name": "pctdsgt100000kandlt1gig_hi",
         "dtype": "object",
         "stats": {
          "unique_count": 3,
          "nan_count": 0,
          "categories": [
           {
            "name": "0",
            "count": 1
           },
           {
            "name": "3.7",
            "count": 1
           },
           {
            "name": "0.4",
            "count": 1
           }
          ]
         }
        },
        {
         "name": "pctdsgt1gig_hi",
         "dtype": "object",
         "stats": {
          "unique_count": 3,
          "nan_count": 0,
          "categories": [
           {
            "name": "99.6",
            "count": 1
           },
           {
            "name": "83.9",
            "count": 1
           },
           {
            "name": "0",
            "count": 1
           }
          ]
         }
        },
        {
         "name": "pctus0_hi",
         "dtype": "object",
         "stats": {
          "unique_count": 1,
          "nan_count": 0,
          "categories": [
           {
            "name": "0",
            "count": 3
           }
          ]
         }
        },
        {
         "name": "pctusgt0kandlt1000k_hi",
         "dtype": "object",
         "stats": {
          "unique_count": 1,
          "nan_count": 0,
          "categories": [
           {
            "name": "0",
            "count": 3
           }
          ]
         }
        },
        {
         "name": "pctusgt1000kandlt3000k_hi",
         "dtype": "object",
         "stats": {
          "unique_count": 1,
          "nan_count": 0,
          "categories": [
           {
            "name": "0",
            "count": 3
           }
          ]
         }
        },
        {
         "name": "pctusgt3000kandlt4000k_hi",
         "dtype": "object",
         "stats": {
          "unique_count": 3,
          "nan_count": 0,
          "categories": [
           {
            "name": "0.2",
            "count": 1
           },
           {
            "name": "12.3",
            "count": 1
           },
           {
            "name": "4.9",
            "count": 1
           }
          ]
         }
        },
        {
         "name": "pctusgt4000kandlt6000k_hi",
         "dtype": "object",
         "stats": {
          "unique_count": 3,
          "nan_count": 0,
          "categories": [
           {
            "name": "0.2",
            "count": 1
           },
           {
            "name": "3.7",
            "count": 1
           },
           {
            "name": "94.7",
            "count": 1
           }
          ]
         }
        },
        {
         "name": "pctusgt6000kandlt10000k_hi",
         "dtype": "object",
         "stats": {
          "unique_count": 1,
          "nan_count": 0,
          "categories": [
           {
            "name": "0",
            "count": 3
           }
          ]
         }
        },
        {
         "name": "pctusgt10000kandlt15000k_hi",
         "dtype": "object",
         "stats": {
          "unique_count": 1,
          "nan_count": 0,
          "categories": [
           {
            "name": "0",
            "count": 3
           }
          ]
         }
        },
        {
         "name": "pctusgt15000kandlt25000k_hi",
         "dtype": "object",
         "stats": {
          "unique_count": 1,
          "nan_count": 0,
          "categories": [
           {
            "name": "0",
            "count": 3
           }
          ]
         }
        },
        {
         "name": "pctusgt25000kandlt50000k_hi",
         "dtype": "object",
         "stats": {
          "unique_count": 2,
          "nan_count": 0,
          "categories": [
           {
            "name": "0",
            "count": 2
           },
           {
            "name": "0.4",
            "count": 1
           }
          ]
         }
        },
        {
         "name": "pctusgt50000kandlt100000k_hi",
         "dtype": "object",
         "stats": {
          "unique_count": 2,
          "nan_count": 0,
          "categories": [
           {
            "name": "0",
            "count": 2
           },
           {
            "name": "82.7",
            "count": 1
           }
          ]
         }
        },
        {
         "name": "pctusgt100000kandlt1gig_hi",
         "dtype": "object",
         "stats": {
          "unique_count": 1,
          "nan_count": 0,
          "categories": [
           {
            "name": "0",
            "count": 3
           }
          ]
         }
        },
        {
         "name": "pctusgt1gig_hi",
         "dtype": "object",
         "stats": {
          "unique_count": 3,
          "nan_count": 0,
          "categories": [
           {
            "name": "99.6",
            "count": 1
           },
           {
            "name": "1.2",
            "count": 1
           },
           {
            "name": "0",
            "count": 1
           }
          ]
         }
        },
        {
         "name": "mcds_prop",
         "dtype": "object",
         "stats": {
          "unique_count": 3,
          "nan_count": 0,
          "categories": [
           {
            "name": "99.6",
            "count": 1
           },
           {
            "name": "83.9",
            "count": 1
           },
           {
            "name": "94.7",
            "count": 1
           }
          ]
         }
        },
        {
         "name": "mcds_tier",
         "dtype": "object",
         "stats": {
          "unique_count": 2,
          "nan_count": 0,
          "categories": [
           {
            "name": "pctDSGt1Gig_hi_c",
            "count": 2
           },
           {
            "name": "pctDSGt50000kAndLt100000k_hi_c",
            "count": 1
           }
          ]
         }
        },
        {
         "name": "mcus_prop",
         "dtype": "object",
         "stats": {
          "unique_count": 3,
          "nan_count": 0,
          "categories": [
           {
            "name": "99.6",
            "count": 1
           },
           {
            "name": "82.7",
            "count": 1
           },
           {
            "name": "94.7",
            "count": 1
           }
          ]
         }
        },
        {
         "name": "mcus_tier",
         "dtype": "object",
         "stats": {
          "unique_count": 3,
          "nan_count": 0,
          "categories": [
           {
            "name": "pctUSGt1Gig_hi_c",
            "count": 1
           },
           {
            "name": "pctUSGt50000kAndLt100000k_hi_c",
            "count": 1
           },
           {
            "name": "pctUSGt4000kAndLt6000k_hi_c",
            "count": 1
           }
          ]
         }
        },
        {
         "name": "provcount_b",
         "dtype": "object",
         "stats": {
          "unique_count": 3,
          "nan_count": 0,
          "categories": [
           {
            "name": "6",
            "count": 1
           },
           {
            "name": "9",
            "count": 1
           },
           {
            "name": "11",
            "count": 1
           }
          ]
         }
        },
        {
         "name": "provcount_c",
         "dtype": "object",
         "stats": {
          "unique_count": 2,
          "nan_count": 0,
          "categories": [
           {
            "name": "6",
            "count": 2
           },
           {
            "name": "8",
            "count": 1
           }
          ]
         }
        },
        {
         "name": "cumm_prov_c_0",
         "dtype": "object",
         "stats": {
          "unique_count": 1,
          "nan_count": 0,
          "categories": [
           {
            "name": "0",
            "count": 3
           }
          ]
         }
        },
        {
         "name": "cumm_prov_c_1",
         "dtype": "object",
         "stats": {
          "unique_count": 1,
          "nan_count": 0,
          "categories": [
           {
            "name": "0",
            "count": 3
           }
          ]
         }
        },
        {
         "name": "cumm_prov_c_2",
         "dtype": "object",
         "stats": {
          "unique_count": 1,
          "nan_count": 0,
          "categories": [
           {
            "name": "0",
            "count": 3
           }
          ]
         }
        },
        {
         "name": "cumm_prov_c_3",
         "dtype": "object",
         "stats": {
          "unique_count": 3,
          "nan_count": 0,
          "categories": [
           {
            "name": "0",
            "count": 1
           },
           {
            "name": "4.8",
            "count": 1
           },
           {
            "name": "4.5",
            "count": 1
           }
          ]
         }
        },
        {
         "name": "cumm_prov_c_4",
         "dtype": "object",
         "stats": {
          "unique_count": 3,
          "nan_count": 0,
          "categories": [
           {
            "name": "96.5",
            "count": 1
           },
           {
            "name": "77.8",
            "count": 1
           },
           {
            "name": "96.8",
            "count": 1
           }
          ]
         }
        },
        {
         "name": "cumm_prov_c_5",
         "dtype": "object",
         "stats": {
          "unique_count": 3,
          "nan_count": 0,
          "categories": [
           {
            "name": "97.4",
            "count": 1
           },
           {
            "name": "93.4",
            "count": 1
           },
           {
            "name": "100",
            "count": 1
           }
          ]
         }
        },
        {
         "name": "cumm_prov_c_6",
         "dtype": "object",
         "stats": {
          "unique_count": 2,
          "nan_count": 0,
          "categories": [
           {
            "name": "100",
            "count": 2
           },
           {
            "name": "96.9",
            "count": 1
           }
          ]
         }
        },
        {
         "name": "cumm_prov_c_7",
         "dtype": "object",
         "stats": {
          "unique_count": 1,
          "nan_count": 0,
          "categories": [
           {
            "name": "100",
            "count": 3
           }
          ]
         }
        },
        {
         "name": "cumm_prov_c_8",
         "dtype": "object",
         "stats": {
          "unique_count": 1,
          "nan_count": 0,
          "categories": [
           {
            "name": "100",
            "count": 3
           }
          ]
         }
        },
        {
         "name": "cumm_prov_c_50th",
         "dtype": "object",
         "stats": {
          "unique_count": 2,
          "nan_count": 0,
          "categories": [
           {
            "name": "4",
            "count": 2
           },
           {
            "name": "3",
            "count": 1
           }
          ]
         }
        },
        {
         "name": "dsgteq25",
         "dtype": "object",
         "stats": {
          "unique_count": 3,
          "nan_count": 0,
          "categories": [
           {
            "name": "99.6",
            "count": 1
           },
           {
            "name": "87.7",
            "count": 1
           },
           {
            "name": "95.1",
            "count": 1
           }
          ]
         }
        },
        {
         "name": "usgteq3",
         "dtype": "object",
         "stats": {
          "unique_count": 1,
          "nan_count": 0,
          "categories": [
           {
            "name": "100",
            "count": 3
           }
          ]
         }
        },
        {
         "name": "hcf_comm_13",
         "dtype": "object",
         "stats": {
          "unique_count": 2,
          "nan_count": 0,
          "categories": [
           {
            "name": "0",
            "count": 2
           },
           {
            "name": "15778.63",
            "count": 1
           }
          ]
         }
        },
        {
         "name": "hcf_comm_14",
         "dtype": "object",
         "stats": {
          "unique_count": 3,
          "nan_count": 0,
          "categories": [
           {
            "name": "0",
            "count": 1
           },
           {
            "name": "19922.51",
            "count": 1
           },
           {
            "name": "1176.4",
            "count": 1
           }
          ]
         }
        },
        {
         "name": "hcf_comm_15",
         "dtype": "object",
         "stats": {
          "unique_count": 3,
          "nan_count": 0,
          "categories": [
           {
            "name": "0",
            "count": 1
           },
           {
            "name": "116142.16",
            "count": 1
           },
           {
            "name": "3202.58",
            "count": 1
           }
          ]
         }
        },
        {
         "name": "tc_comm_12",
         "dtype": "object",
         "stats": {
          "unique_count": 3,
          "nan_count": 0,
          "categories": [
           {
            "name": "0",
            "count": 1
           },
           {
            "name": "21126.5",
            "count": 1
           },
           {
            "name": "319.35",
            "count": 1
           }
          ]
         }
        },
        {
         "name": "tc_comm_13",
         "dtype": "object",
         "stats": {
          "unique_count": 3,
          "nan_count": 0,
          "categories": [
           {
            "name": "0",
            "count": 1
           },
           {
            "name": "11476.46",
            "count": 1
           },
           {
            "name": "225",
            "count": 1
           }
          ]
         }
        },
        {
         "name": "tc_comm_14",
         "dtype": "object",
         "stats": {
          "unique_count": 1,
          "nan_count": 0,
          "categories": [
           {
            "name": "0",
            "count": 3
           }
          ]
         }
        },
        {
         "name": "tc_comm_15",
         "dtype": "object",
         "stats": {
          "unique_count": 1,
          "nan_count": 0,
          "categories": [
           {
            "name": "0",
            "count": 3
           }
          ]
         }
        },
        {
         "name": "hcf_comm_13_15",
         "dtype": "object",
         "stats": {
          "unique_count": 3,
          "nan_count": 0,
          "categories": [
           {
            "name": "0",
            "count": 1
           },
           {
            "name": "136064.67",
            "count": 1
           },
           {
            "name": "20157.61",
            "count": 1
           }
          ]
         }
        },
        {
         "name": "tc_comm_13_15",
         "dtype": "object",
         "stats": {
          "unique_count": 3,
          "nan_count": 0,
          "categories": [
           {
            "name": "0",
            "count": 1
           },
           {
            "name": "11476.46",
            "count": 1
           },
           {
            "name": "225",
            "count": 1
           }
          ]
         }
        },
        {
         "name": "bpr_ruralpctwaccess",
         "dtype": "object",
         "stats": {
          "unique_count": 3,
          "nan_count": 0,
          "categories": [
           {
            "name": "100",
            "count": 1
           },
           {
            "name": "88",
            "count": 1
           },
           {
            "name": "95",
            "count": 1
           }
          ]
         }
        },
        {
         "name": "povpct",
         "dtype": "object",
         "stats": {
          "unique_count": 3,
          "nan_count": 0,
          "categories": [
           {
            "name": "26.8",
            "count": 1
           },
           {
            "name": "20.5",
            "count": 1
           },
           {
            "name": "19.7",
            "count": 1
           }
          ]
         }
        },
        {
         "name": "medianhhinc",
         "dtype": "object",
         "stats": {
          "unique_count": 3,
          "nan_count": 0,
          "categories": [
           {
            "name": "29090",
            "count": 1
           },
           {
            "name": "35266",
            "count": 1
           },
           {
            "name": "40010",
            "count": 1
           }
          ]
         }
        },
        {
         "name": "ers_pers_pov",
         "dtype": "object",
         "stats": {
          "unique_count": 2,
          "nan_count": 0,
          "categories": [
           {
            "name": "0",
            "count": 2
           },
           {
            "name": "1",
            "count": 1
           }
          ]
         }
        },
        {
         "name": "ers_pers_rel_child_pov",
         "dtype": "object",
         "stats": {
          "unique_count": 2,
          "nan_count": 0,
          "categories": [
           {
            "name": "1",
            "count": 2
           },
           {
            "name": "0",
            "count": 1
           }
          ]
         }
        },
        {
         "name": "nchs_rural",
         "dtype": "object",
         "stats": {
          "unique_count": 1,
          "nan_count": 0,
          "categories": [
           {
            "name": "1",
            "count": 3
           }
          ]
         }
        },
        {
         "name": "nchs_urbanruralcode",
         "dtype": "object",
         "stats": {
          "unique_count": 1,
          "nan_count": 0,
          "categories": [
           {
            "name": "6",
            "count": 3
           }
          ]
         }
        },
        {
         "name": "omb_rural",
         "dtype": "object",
         "stats": {
          "unique_count": 1,
          "nan_count": 0,
          "categories": [
           {
            "name": "1",
            "count": 3
           }
          ]
         }
        },
        {
         "name": "rucc_2013",
         "dtype": "object",
         "stats": {
          "unique_count": 2,
          "nan_count": 0,
          "categories": [
           {
            "name": "9",
            "count": 2
           },
           {
            "name": "6",
            "count": 1
           }
          ]
         }
        },
        {
         "name": "rucc_metrononmetro",
         "dtype": "object",
         "stats": {
          "unique_count": 1,
          "nan_count": 0,
          "categories": [
           {
            "name": "1",
            "count": 3
           }
          ]
         }
        },
        {
         "name": "usac_rural",
         "dtype": "object",
         "stats": {
          "unique_count": 1,
          "nan_count": 0,
          "categories": [
           {
            "name": "Rural",
            "count": 3
           }
          ]
         }
        },
        {
         "name": "usac_rural_cat",
         "dtype": "object",
         "stats": {
          "unique_count": 1,
          "nan_count": 0,
          "categories": [
           {
            "name": "Rural",
            "count": 3
           }
          ]
         }
        },
        {
         "name": "telehealth_beneficiary_total",
         "dtype": "object",
         "stats": {
          "unique_count": 0,
          "nan_count": 3,
          "categories": [
           {
            "name": "Missing",
            "count": 3
           }
          ]
         }
        },
        {
         "name": "pop_2014",
         "dtype": "object",
         "stats": {
          "unique_count": 3,
          "nan_count": 0,
          "categories": [
           {
            "name": "13289",
            "count": 1
           },
           {
            "name": "10879",
            "count": 1
           },
           {
            "name": "28829",
            "count": 1
           }
          ]
         }
        },
        {
         "name": "pop_density",
         "dtype": "object",
         "stats": {
          "unique_count": 3,
          "nan_count": 0,
          "categories": [
           {
            "name": "38.22741408",
            "count": 1
           },
           {
            "name": "45.95868858",
            "count": 1
           },
           {
            "name": "66.51282856",
            "count": 1
           }
          ]
         }
        },
        {
         "name": "age_less_than_18_total",
         "dtype": "object",
         "stats": {
          "unique_count": 3,
          "nan_count": 0,
          "categories": [
           {
            "name": "3003",
            "count": 1
           },
           {
            "name": "2012",
            "count": 1
           },
           {
            "name": "5995",
            "count": 1
           }
          ]
         }
        },
        {
         "name": "age_less_than_18_pct",
         "dtype": "object",
         "stats": {
          "unique_count": 3,
          "nan_count": 0,
          "categories": [
           {
            "name": "22.6",
            "count": 1
           },
           {
            "name": "18.5",
            "count": 1
           },
           {
            "name": "20.8",
            "count": 1
           }
          ]
         }
        },
        {
         "name": "age_18_to_65_total",
         "dtype": "object",
         "stats": {
          "unique_count": 3,
          "nan_count": 0,
          "categories": [
           {
            "name": "8292",
            "count": 1
           },
           {
            "name": "6295",
            "count": 1
           },
           {
            "name": "16844",
            "count": 1
           }
          ]
         }
        },
        {
         "name": "age_18_to_65_pct",
         "dtype": "object",
         "stats": {
          "unique_count": 3,
          "nan_count": 0,
          "categories": [
           {
            "name": "62.4",
            "count": 1
           },
           {
            "name": "57.9",
            "count": 1
           },
           {
            "name": "58.4",
            "count": 1
           }
          ]
         }
        },
        {
         "name": "age_over_65_total",
         "dtype": "object",
         "stats": {
          "unique_count": 3,
          "nan_count": 0,
          "categories": [
           {
            "name": "1994",
            "count": 1
           },
           {
            "name": "2572",
            "count": 1
           },
           {
            "name": "5990",
            "count": 1
           }
          ]
         }
        },
        {
         "name": "age_over_65_pct",
         "dtype": "object",
         "stats": {
          "unique_count": 3,
          "nan_count": 0,
          "categories": [
           {
            "name": "15",
            "count": 1
           },
           {
            "name": "23.6",
            "count": 1
           },
           {
            "name": "20.8",
            "count": 1
           }
          ]
         }
        },
        {
         "name": "female_total",
         "dtype": "object",
         "stats": {
          "unique_count": 3,
          "nan_count": 0,
          "categories": [
           {
            "name": "6679",
            "count": 1
           },
           {
            "name": "5486",
            "count": 1
           },
           {
            "name": "14318",
            "count": 1
           }
          ]
         }
        },
        {
         "name": "female_pct",
         "dtype": "object",
         "stats": {
          "unique_count": 3,
          "nan_count": 0,
          "categories": [
           {
            "name": "50.3",
            "count": 1
           },
           {
            "name": "50.4",
            "count": 1
           },
           {
            "name": "49.7",
            "count": 1
           }
          ]
         }
        },
        {
         "name": "male_total",
         "dtype": "object",
         "stats": {
          "unique_count": 3,
          "nan_count": 0,
          "categories": [
           {
            "name": "6610",
            "count": 1
           },
           {
            "name": "5393",
            "count": 1
           },
           {
            "name": "14511",
            "count": 1
           }
          ]
         }
        },
        {
         "name": "male_pct",
         "dtype": "object",
         "stats": {
          "unique_count": 3,
          "nan_count": 0,
          "categories": [
           {
            "name": "49.7",
            "count": 1
           },
           {
            "name": "49.6",
            "count": 1
           },
           {
            "name": "50.3",
            "count": 1
           }
          ]
         }
        },
        {
         "name": "rural_total",
         "dtype": "object",
         "stats": {
          "unique_count": 3,
          "nan_count": 0,
          "categories": [
           {
            "name": "13289",
            "count": 1
           },
           {
            "name": "10879",
            "count": 1
           },
           {
            "name": "25267",
            "count": 1
           }
          ]
         }
        },
        {
         "name": "rural_pct",
         "dtype": "object",
         "stats": {
          "unique_count": 2,
          "nan_count": 0,
          "categories": [
           {
            "name": "100",
            "count": 2
           },
           {
            "name": "87.6",
            "count": 1
           }
          ]
         }
        },
        {
         "name": "urban_total",
         "dtype": "object",
         "stats": {
          "unique_count": 2,
          "nan_count": 0,
          "categories": [
           {
            "name": "0",
            "count": 2
           },
           {
            "name": "3562",
            "count": 1
           }
          ]
         }
        },
        {
         "name": "urban_pct",
         "dtype": "object",
         "stats": {
          "unique_count": 2,
          "nan_count": 0,
          "categories": [
           {
            "name": "0",
            "count": 2
           },
           {
            "name": "12.4",
            "count": 1
           }
          ]
         }
        },
        {
         "name": "high_school",
         "dtype": "object",
         "stats": {
          "unique_count": 3,
          "nan_count": 0,
          "categories": [
           {
            "name": "87",
            "count": 1
           },
           {
            "name": "87.5",
            "count": 1
           },
           {
            "name": "80",
            "count": 1
           }
          ]
         }
        },
        {
         "name": "some_college",
         "dtype": "object",
         "stats": {
          "unique_count": 3,
          "nan_count": 0,
          "categories": [
           {
            "name": "38.5",
            "count": 1
           },
           {
            "name": "50.7",
            "count": 1
           },
           {
            "name": "41.5",
            "count": 1
           }
          ]
         }
        },
        {
         "name": "unemployment",
         "dtype": "object",
         "stats": {
          "unique_count": 3,
          "nan_count": 0,
          "categories": [
           {
            "name": "15",
            "count": 1
           },
           {
            "name": "8.9",
            "count": 1
           },
           {
            "name": "8.7",
            "count": 1
           }
          ]
         }
        },
        {
         "name": "pcp_total",
         "dtype": "object",
         "stats": {
          "unique_count": 3,
          "nan_count": 0,
          "categories": [
           {
            "name": "1",
            "count": 1
           },
           {
            "name": "12",
            "count": 1
           },
           {
            "name": "15",
            "count": 1
           }
          ]
         }
        },
        {
         "name": "pcp_per_capita",
         "dtype": "object",
         "stats": {
          "unique_count": 3,
          "nan_count": 0,
          "categories": [
           {
            "name": "0.00007525",
            "count": 1
           },
           {
            "name": "0.00110304",
            "count": 1
           },
           {
            "name": "0.00052031",
            "count": 1
           }
          ]
         }
        },
        {
         "name": "dentist_total",
         "dtype": "object",
         "stats": {
          "unique_count": 3,
          "nan_count": 0,
          "categories": [
           {
            "name": "6",
            "count": 1
           },
           {
            "name": "2",
            "count": 1
           },
           {
            "name": "7",
            "count": 1
           }
          ]
         }
        },
        {
         "name": "dentist_per_capita",
         "dtype": "object",
         "stats": {
          "unique_count": 3,
          "nan_count": 0,
          "categories": [
           {
            "name": "0.0004515",
            "count": 1
           },
           {
            "name": "0.00018384",
            "count": 1
           },
           {
            "name": "0.00024281",
            "count": 1
           }
          ]
         }
        },
        {
         "name": "mhp_total",
         "dtype": "object",
         "stats": {
          "unique_count": 3,
          "nan_count": 0,
          "categories": [
           {
            "name": "1",
            "count": 1
           },
           {
            "name": "25",
            "count": 1
           },
           {
            "name": "17",
            "count": 1
           }
          ]
         }
        },
        {
         "name": "mhp_per_capita",
         "dtype": "object",
         "stats": {
          "unique_count": 3,
          "nan_count": 0,
          "categories": [
           {
            "name": "0.00007525",
            "count": 1
           },
           {
            "name": "0.00229801",
            "count": 1
           },
           {
            "name": "0.00058968",
            "count": 1
           }
          ]
         }
        },
        {
         "name": "poor_fair_health_total",
         "dtype": "object",
         "stats": {
          "unique_count": 3,
          "nan_count": 0,
          "categories": [
           {
            "name": "4505",
            "count": 1
           },
           {
            "name": "2546",
            "count": 1
           },
           {
            "name": "5679",
            "count": 1
           }
          ]
         }
        },
        {
         "name": "poor_fair_health_pct",
         "dtype": "object",
         "stats": {
          "unique_count": 3,
          "nan_count": 0,
          "categories": [
           {
            "name": "33.9",
            "count": 1
           },
           {
            "name": "23.4",
            "count": 1
           },
           {
            "name": "19.7",
            "count": 1
           }
          ]
         }
        },
        {
         "name": "adult_obesity_total",
         "dtype": "object",
         "stats": {
          "unique_count": 3,
          "nan_count": 0,
          "categories": [
           {
            "name": "5169",
            "count": 1
           },
           {
            "name": "2557",
            "count": 1
           },
           {
            "name": "8332",
            "count": 1
           }
          ]
         }
        },
        {
         "name": "adult_obesity_pct",
         "dtype": "object",
         "stats": {
          "unique_count": 3,
          "nan_count": 0,
          "categories": [
           {
            "name": "38.9",
            "count": 1
           },
           {
            "name": "23.5",
            "count": 1
           },
           {
            "name": "28.9",
            "count": 1
           }
          ]
         }
        },
        {
         "name": "diabetes_pct",
         "dtype": "object",
         "stats": {
          "unique_count": 3,
          "nan_count": 0,
          "categories": [
           {
            "name": "11.9",
            "count": 1
           },
           {
            "name": "11.3",
            "count": 1
           },
           {
            "name": "12.2",
            "count": 1
           }
          ]
         }
        },
        {
         "name": "smoking_pct",
         "dtype": "object",
         "stats": {
          "unique_count": 3,
          "nan_count": 0,
          "categories": [
           {
            "name": "33.9",
            "count": 1
           },
           {
            "name": "27.1",
            "count": 1
           },
           {
            "name": "22.3",
            "count": 1
           }
          ]
         }
        },
        {
         "name": "drinking_pct",
         "dtype": "object",
         "stats": {
          "unique_count": 1,
          "nan_count": 2,
          "categories": [
           {
            "name": "16.5",
            "count": 1
           },
           {
            "name": "Missing",
            "count": 2
           }
          ]
         }
        },
        {
         "name": "hiv_per_100000",
         "dtype": "object",
         "stats": {
          "unique_count": 2,
          "nan_count": 1,
          "categories": [
           {
            "name": "42.2",
            "count": 1
           },
           {
            "name": "76.6",
            "count": 1
           },
           {
            "name": "Missing",
            "count": 1
           }
          ]
         }
        },
        {
         "name": "years_lost_per_100000",
         "dtype": "object",
         "stats": {
          "unique_count": 3,
          "nan_count": 0,
          "categories": [
           {
            "name": "13519",
            "count": 1
           },
           {
            "name": "7324",
            "count": 1
           },
           {
            "name": "6031",
            "count": 1
           }
          ]
         }
        },
        {
         "name": "injury_deaths_per_100000",
         "dtype": "object",
         "stats": {
          "unique_count": 3,
          "nan_count": 0,
          "categories": [
           {
            "name": "84.6",
            "count": 1
           },
           {
            "name": "97.5",
            "count": 1
           },
           {
            "name": "73.7",
            "count": 1
           }
          ]
         }
        },
        {
         "name": "preventable_hospital_stays_per_1000",
         "dtype": "object",
         "stats": {
          "unique_count": 3,
          "nan_count": 0,
          "categories": [
           {
            "name": "90.48",
            "count": 1
           },
           {
            "name": "69.97",
            "count": 1
           },
           {
            "name": "76.33",
            "count": 1
           }
          ]
         }
        },
        {
         "name": "car_death_total",
         "dtype": "object",
         "stats": {
          "unique_count": 3,
          "nan_count": 0,
          "categories": [
           {
            "name": "35",
            "count": 1
           },
           {
            "name": "14",
            "count": 1
           },
           {
            "name": "42",
            "count": 1
           }
          ]
         }
        },
        {
         "name": "car_death_pct",
         "dtype": "object",
         "stats": {
          "unique_count": 3,
          "nan_count": 0,
          "categories": [
           {
            "name": "0.26337572",
            "count": 1
           },
           {
            "name": "0.1286883",
            "count": 1
           },
           {
            "name": "0.14568663",
            "count": 1
           }
          ]
         }
        },
        {
         "name": "poor_physical_health_days_within_last_30_days",
         "dtype": "object",
         "stats": {
          "unique_count": 3,
          "nan_count": 0,
          "categories": [
           {
            "name": "7.4",
            "count": 1
           },
           {
            "name": "3.9",
            "count": 1
           },
           {
            "name": "3.2",
            "count": 1
           }
          ]
         }
        },
        {
         "name": "long_commute_driving_alone",
         "dtype": "object",
         "stats": {
          "unique_count": 3,
          "nan_count": 0,
          "categories": [
           {
            "name": "46",
            "count": 1
           },
           {
            "name": "34.8",
            "count": 1
           },
           {
            "name": "37.9",
            "count": 1
           }
          ]
         }
        },
        {
         "name": "driving_alone_to_work",
         "dtype": "object",
         "stats": {
          "unique_count": 3,
          "nan_count": 0,
          "categories": [
           {
            "name": "74.2",
            "count": 1
           },
           {
            "name": "78.9",
            "count": 1
           },
           {
            "name": "78.2",
            "count": 1
           }
          ]
         }
        },
        {
         "name": "severe_housing_problems",
         "dtype": "object",
         "stats": {
          "unique_count": 3,
          "nan_count": 0,
          "categories": [
           {
            "name": "17.6",
            "count": 1
           },
           {
            "name": "14.4",
            "count": 1
           },
           {
            "name": "18.9",
            "count": 1
           }
          ]
         }
        },
        {
         "name": "physical_inactivity",
         "dtype": "object",
         "stats": {
          "unique_count": 3,
          "nan_count": 0,
          "categories": [
           {
            "name": "32.3",
            "count": 1
           },
           {
            "name": "31.5",
            "count": 1
           },
           {
            "name": "27.5",
            "count": 1
           }
          ]
         }
        },
        {
         "name": "food_insecurity",
         "dtype": "object",
         "stats": {
          "unique_count": 3,
          "nan_count": 0,
          "categories": [
           {
            "name": "21",
            "count": 1
           },
           {
            "name": "16",
            "count": 1
           },
           {
            "name": "15",
            "count": 1
           }
          ]
         }
        },
        {
         "name": "limited_access_to_healthy_foods",
         "dtype": "object",
         "stats": {
          "unique_count": 3,
          "nan_count": 0,
          "categories": [
           {
            "name": "0",
            "count": 1
           },
           {
            "name": "1",
            "count": 1
           },
           {
            "name": "2",
            "count": 1
           }
          ]
         }
        },
        {
         "name": "dl_tiers",
         "dtype": "object",
         "stats": {
          "unique_count": 2,
          "nan_count": 0,
          "categories": [
           {
            "name": "10",
            "count": 2
           },
           {
            "name": "8",
            "count": 1
           }
          ]
         }
        },
        {
         "name": "ul_tiers",
         "dtype": "object",
         "stats": {
          "unique_count": 3,
          "nan_count": 0,
          "categories": [
           {
            "name": "10",
            "count": 1
           },
           {
            "name": "8",
            "count": 1
           },
           {
            "name": "3",
            "count": 1
           }
          ]
         }
        },
        {
         "name": "Unnamed: 121",
         "dtype": "object",
         "stats": {
          "unique_count": 0,
          "nan_count": 3,
          "categories": [
           {
            "name": "Missing",
            "count": 3
           }
          ]
         }
        },
        {
         "name": "Unnamed: 122",
         "dtype": "object",
         "stats": {
          "unique_count": 0,
          "nan_count": 3,
          "categories": [
           {
            "name": "Missing",
            "count": 3
           }
          ]
         }
        },
        {
         "name": "Unnamed: 123",
         "dtype": "object",
         "stats": {
          "unique_count": 0,
          "nan_count": 3,
          "categories": [
           {
            "name": "Missing",
            "count": 3
           }
          ]
         }
        },
        {
         "name": "Unnamed: 124",
         "dtype": "object",
         "stats": {
          "unique_count": 0,
          "nan_count": 3,
          "categories": [
           {
            "name": "Missing",
            "count": 3
           }
          ]
         }
        },
        {
         "name": "Unnamed: 125",
         "dtype": "object",
         "stats": {
          "unique_count": 0,
          "nan_count": 3,
          "categories": [
           {
            "name": "Missing",
            "count": 3
           }
          ]
         }
        },
        {
         "name": "Unnamed: 126",
         "dtype": "object",
         "stats": {
          "unique_count": 0,
          "nan_count": 3,
          "categories": [
           {
            "name": "Missing",
            "count": 3
           }
          ]
         }
        },
        {
         "name": "Unnamed: 127",
         "dtype": "object",
         "stats": {
          "unique_count": 0,
          "nan_count": 3,
          "categories": [
           {
            "name": "Missing",
            "count": 3
           }
          ]
         }
        },
        {
         "name": "Unnamed: 128",
         "dtype": "object",
         "stats": {
          "unique_count": 0,
          "nan_count": 3,
          "categories": [
           {
            "name": "Missing",
            "count": 3
           }
          ]
         }
        },
        {
         "name": "Unnamed: 129",
         "dtype": "object",
         "stats": {
          "unique_count": 0,
          "nan_count": 3,
          "categories": [
           {
            "name": "Missing",
            "count": 3
           }
          ]
         }
        },
        {
         "name": "Unnamed: 130",
         "dtype": "object",
         "stats": {
          "unique_count": 0,
          "nan_count": 3,
          "categories": [
           {
            "name": "Missing",
            "count": 3
           }
          ]
         }
        },
        {
         "name": "Unnamed: 131",
         "dtype": "object",
         "stats": {
          "unique_count": 0,
          "nan_count": 3,
          "categories": [
           {
            "name": "Missing",
            "count": 3
           }
          ]
         }
        },
        {
         "name": "Unnamed: 132",
         "dtype": "object",
         "stats": {
          "unique_count": 0,
          "nan_count": 3,
          "categories": [
           {
            "name": "Missing",
            "count": 3
           }
          ]
         }
        },
        {
         "name": "Unnamed: 133",
         "dtype": "object",
         "stats": {
          "unique_count": 0,
          "nan_count": 3,
          "categories": [
           {
            "name": "Missing",
            "count": 3
           }
          ]
         }
        },
        {
         "name": "Unnamed: 134",
         "dtype": "object",
         "stats": {
          "unique_count": 0,
          "nan_count": 3,
          "categories": [
           {
            "name": "Missing",
            "count": 3
           }
          ]
         }
        },
        {
         "name": "Unnamed: 135",
         "dtype": "object",
         "stats": {
          "unique_count": 0,
          "nan_count": 3,
          "categories": [
           {
            "name": "Missing",
            "count": 3
           }
          ]
         }
        },
        {
         "name": "Unnamed: 136",
         "dtype": "object",
         "stats": {
          "unique_count": 0,
          "nan_count": 3,
          "categories": [
           {
            "name": "Missing",
            "count": 3
           }
          ]
         }
        },
        {
         "name": "Unnamed: 137",
         "dtype": "object",
         "stats": {
          "unique_count": 0,
          "nan_count": 3,
          "categories": [
           {
            "name": "Missing",
            "count": 3
           }
          ]
         }
        },
        {
         "name": "Unnamed: 138",
         "dtype": "object",
         "stats": {
          "unique_count": 0,
          "nan_count": 3,
          "categories": [
           {
            "name": "Missing",
            "count": 3
           }
          ]
         }
        },
        {
         "name": "Unnamed: 139",
         "dtype": "object",
         "stats": {
          "unique_count": 0,
          "nan_count": 3,
          "categories": [
           {
            "name": "Missing",
            "count": 3
           }
          ]
         }
        },
        {
         "name": "Unnamed: 140",
         "dtype": "object",
         "stats": {
          "unique_count": 0,
          "nan_count": 3,
          "categories": [
           {
            "name": "Missing",
            "count": 3
           }
          ]
         }
        },
        {
         "name": "Unnamed: 141",
         "dtype": "object",
         "stats": {
          "unique_count": 0,
          "nan_count": 3,
          "categories": [
           {
            "name": "Missing",
            "count": 3
           }
          ]
         }
        },
        {
         "name": "Unnamed: 142",
         "dtype": "object",
         "stats": {
          "unique_count": 0,
          "nan_count": 3,
          "categories": [
           {
            "name": "Missing",
            "count": 3
           }
          ]
         }
        },
        {
         "name": "Unnamed: 143",
         "dtype": "object",
         "stats": {
          "unique_count": 0,
          "nan_count": 3,
          "categories": [
           {
            "name": "Missing",
            "count": 3
           }
          ]
         }
        },
        {
         "name": "Unnamed: 144",
         "dtype": "object",
         "stats": {
          "unique_count": 0,
          "nan_count": 3,
          "categories": [
           {
            "name": "Missing",
            "count": 3
           }
          ]
         }
        },
        {
         "name": "Unnamed: 145",
         "dtype": "object",
         "stats": {
          "unique_count": 0,
          "nan_count": 3,
          "categories": [
           {
            "name": "Missing",
            "count": 3
           }
          ]
         }
        },
        {
         "name": "Unnamed: 146",
         "dtype": "object",
         "stats": {
          "unique_count": 0,
          "nan_count": 3,
          "categories": [
           {
            "name": "Missing",
            "count": 3
           }
          ]
         }
        },
        {
         "name": "Unnamed: 147",
         "dtype": "object",
         "stats": {
          "unique_count": 0,
          "nan_count": 3,
          "categories": [
           {
            "name": "Missing",
            "count": 3
           }
          ]
         }
        },
        {
         "name": "Unnamed: 148",
         "dtype": "object",
         "stats": {
          "unique_count": 0,
          "nan_count": 3,
          "categories": [
           {
            "name": "Missing",
            "count": 3
           }
          ]
         }
        },
        {
         "name": "Unnamed: 149",
         "dtype": "object",
         "stats": {
          "unique_count": 0,
          "nan_count": 3,
          "categories": [
           {
            "name": "Missing",
            "count": 3
           }
          ]
         }
        },
        {
         "name": "Unnamed: 150",
         "dtype": "object",
         "stats": {
          "unique_count": 0,
          "nan_count": 3,
          "categories": [
           {
            "name": "Missing",
            "count": 3
           }
          ]
         }
        },
        {
         "name": "Unnamed: 151",
         "dtype": "object",
         "stats": {
          "unique_count": 0,
          "nan_count": 3,
          "categories": [
           {
            "name": "Missing",
            "count": 3
           }
          ]
         }
        },
        {
         "name": "Unnamed: 152",
         "dtype": "object",
         "stats": {
          "unique_count": 0,
          "nan_count": 3,
          "categories": [
           {
            "name": "Missing",
            "count": 3
           }
          ]
         }
        },
        {
         "name": "Unnamed: 153",
         "dtype": "object",
         "stats": {
          "unique_count": 0,
          "nan_count": 3,
          "categories": [
           {
            "name": "Missing",
            "count": 3
           }
          ]
         }
        },
        {
         "name": "Unnamed: 154",
         "dtype": "object",
         "stats": {
          "unique_count": 0,
          "nan_count": 3,
          "categories": [
           {
            "name": "Missing",
            "count": 3
           }
          ]
         }
        },
        {
         "name": "Unnamed: 155",
         "dtype": "object",
         "stats": {
          "unique_count": 0,
          "nan_count": 3,
          "categories": [
           {
            "name": "Missing",
            "count": 3
           }
          ]
         }
        },
        {
         "name": "Unnamed: 156",
         "dtype": "object",
         "stats": {
          "unique_count": 0,
          "nan_count": 3,
          "categories": [
           {
            "name": "Missing",
            "count": 3
           }
          ]
         }
        },
        {
         "name": "Unnamed: 157",
         "dtype": "object",
         "stats": {
          "unique_count": 0,
          "nan_count": 3,
          "categories": [
           {
            "name": "Missing",
            "count": 3
           }
          ]
         }
        },
        {
         "name": "Unnamed: 158",
         "dtype": "object",
         "stats": {
          "unique_count": 0,
          "nan_count": 3,
          "categories": [
           {
            "name": "Missing",
            "count": 3
           }
          ]
         }
        },
        {
         "name": "Unnamed: 159",
         "dtype": "object",
         "stats": {
          "unique_count": 0,
          "nan_count": 3,
          "categories": [
           {
            "name": "Missing",
            "count": 3
           }
          ]
         }
        },
        {
         "name": "Unnamed: 160",
         "dtype": "object",
         "stats": {
          "unique_count": 0,
          "nan_count": 3,
          "categories": [
           {
            "name": "Missing",
            "count": 3
           }
          ]
         }
        },
        {
         "name": "Unnamed: 161",
         "dtype": "object",
         "stats": {
          "unique_count": 0,
          "nan_count": 3,
          "categories": [
           {
            "name": "Missing",
            "count": 3
           }
          ]
         }
        },
        {
         "name": "Unnamed: 162",
         "dtype": "object",
         "stats": {
          "unique_count": 0,
          "nan_count": 3,
          "categories": [
           {
            "name": "Missing",
            "count": 3
           }
          ]
         }
        },
        {
         "name": "Unnamed: 163",
         "dtype": "object",
         "stats": {
          "unique_count": 0,
          "nan_count": 3,
          "categories": [
           {
            "name": "Missing",
            "count": 3
           }
          ]
         }
        },
        {
         "name": "Unnamed: 164",
         "dtype": "object",
         "stats": {
          "unique_count": 0,
          "nan_count": 3,
          "categories": [
           {
            "name": "Missing",
            "count": 3
           }
          ]
         }
        },
        {
         "name": "Unnamed: 165",
         "dtype": "object",
         "stats": {
          "unique_count": 0,
          "nan_count": 3,
          "categories": [
           {
            "name": "Missing",
            "count": 3
           }
          ]
         }
        },
        {
         "name": "Unnamed: 166",
         "dtype": "object",
         "stats": {
          "unique_count": 0,
          "nan_count": 3,
          "categories": [
           {
            "name": "Missing",
            "count": 3
           }
          ]
         }
        },
        {
         "name": "Unnamed: 167",
         "dtype": "object",
         "stats": {
          "unique_count": 0,
          "nan_count": 3,
          "categories": [
           {
            "name": "Missing",
            "count": 3
           }
          ]
         }
        },
        {
         "name": "Unnamed: 168",
         "dtype": "object",
         "stats": {
          "unique_count": 0,
          "nan_count": 3,
          "categories": [
           {
            "name": "Missing",
            "count": 3
           }
          ]
         }
        },
        {
         "name": "Unnamed: 169",
         "dtype": "object",
         "stats": {
          "unique_count": 0,
          "nan_count": 3,
          "categories": [
           {
            "name": "Missing",
            "count": 3
           }
          ]
         }
        },
        {
         "name": "Unnamed: 170",
         "dtype": "object",
         "stats": {
          "unique_count": 0,
          "nan_count": 3,
          "categories": [
           {
            "name": "Missing",
            "count": 3
           }
          ]
         }
        },
        {
         "name": "Unnamed: 171",
         "dtype": "object",
         "stats": {
          "unique_count": 0,
          "nan_count": 3,
          "categories": [
           {
            "name": "Missing",
            "count": 3
           }
          ]
         }
        },
        {
         "name": "Unnamed: 172",
         "dtype": "object",
         "stats": {
          "unique_count": 0,
          "nan_count": 3,
          "categories": [
           {
            "name": "Missing",
            "count": 3
           }
          ]
         }
        },
        {
         "name": "Unnamed: 173",
         "dtype": "object",
         "stats": {
          "unique_count": 0,
          "nan_count": 3,
          "categories": [
           {
            "name": "Missing",
            "count": 3
           }
          ]
         }
        },
        {
         "name": "Unnamed: 174",
         "dtype": "object",
         "stats": {
          "unique_count": 0,
          "nan_count": 3,
          "categories": [
           {
            "name": "Missing",
            "count": 3
           }
          ]
         }
        },
        {
         "name": "Unnamed: 175",
         "dtype": "object",
         "stats": {
          "unique_count": 0,
          "nan_count": 3,
          "categories": [
           {
            "name": "Missing",
            "count": 3
           }
          ]
         }
        },
        {
         "name": "Unnamed: 176",
         "dtype": "object",
         "stats": {
          "unique_count": 0,
          "nan_count": 3,
          "categories": [
           {
            "name": "Missing",
            "count": 3
           }
          ]
         }
        },
        {
         "name": "Unnamed: 177",
         "dtype": "object",
         "stats": {
          "unique_count": 0,
          "nan_count": 3,
          "categories": [
           {
            "name": "Missing",
            "count": 3
           }
          ]
         }
        },
        {
         "name": "Unnamed: 178",
         "dtype": "object",
         "stats": {
          "unique_count": 0,
          "nan_count": 3,
          "categories": [
           {
            "name": "Missing",
            "count": 3
           }
          ]
         }
        },
        {
         "name": "Unnamed: 179",
         "dtype": "object",
         "stats": {
          "unique_count": 0,
          "nan_count": 3,
          "categories": [
           {
            "name": "Missing",
            "count": 3
           }
          ]
         }
        },
        {
         "name": "Unnamed: 180",
         "dtype": "object",
         "stats": {
          "unique_count": 0,
          "nan_count": 3,
          "categories": [
           {
            "name": "Missing",
            "count": 3
           }
          ]
         }
        },
        {
         "name": "Unnamed: 181",
         "dtype": "object",
         "stats": {
          "unique_count": 0,
          "nan_count": 3,
          "categories": [
           {
            "name": "Missing",
            "count": 3
           }
          ]
         }
        },
        {
         "name": "Unnamed: 182",
         "dtype": "object",
         "stats": {
          "unique_count": 0,
          "nan_count": 3,
          "categories": [
           {
            "name": "Missing",
            "count": 3
           }
          ]
         }
        },
        {
         "name": "Unnamed: 183",
         "dtype": "object",
         "stats": {
          "unique_count": 0,
          "nan_count": 3,
          "categories": [
           {
            "name": "Missing",
            "count": 3
           }
          ]
         }
        },
        {
         "name": "Unnamed: 184",
         "dtype": "object",
         "stats": {
          "unique_count": 0,
          "nan_count": 3,
          "categories": [
           {
            "name": "Missing",
            "count": 3
           }
          ]
         }
        },
        {
         "name": "Unnamed: 185",
         "dtype": "object",
         "stats": {
          "unique_count": 0,
          "nan_count": 3,
          "categories": [
           {
            "name": "Missing",
            "count": 3
           }
          ]
         }
        },
        {
         "name": "Unnamed: 186",
         "dtype": "object",
         "stats": {
          "unique_count": 0,
          "nan_count": 3,
          "categories": [
           {
            "name": "Missing",
            "count": 3
           }
          ]
         }
        },
        {
         "name": "Unnamed: 187",
         "dtype": "object",
         "stats": {
          "unique_count": 0,
          "nan_count": 3,
          "categories": [
           {
            "name": "Missing",
            "count": 3
           }
          ]
         }
        },
        {
         "name": "Unnamed: 188",
         "dtype": "object",
         "stats": {
          "unique_count": 0,
          "nan_count": 3,
          "categories": [
           {
            "name": "Missing",
            "count": 3
           }
          ]
         }
        },
        {
         "name": "Unnamed: 189",
         "dtype": "object",
         "stats": {
          "unique_count": 0,
          "nan_count": 3,
          "categories": [
           {
            "name": "Missing",
            "count": 3
           }
          ]
         }
        },
        {
         "name": "Unnamed: 190",
         "dtype": "object",
         "stats": {
          "unique_count": 0,
          "nan_count": 3,
          "categories": [
           {
            "name": "Missing",
            "count": 3
           }
          ]
         }
        },
        {
         "name": "Unnamed: 191",
         "dtype": "object",
         "stats": {
          "unique_count": 0,
          "nan_count": 3,
          "categories": [
           {
            "name": "Missing",
            "count": 3
           }
          ]
         }
        },
        {
         "name": "Unnamed: 192",
         "dtype": "object",
         "stats": {
          "unique_count": 0,
          "nan_count": 3,
          "categories": [
           {
            "name": "Missing",
            "count": 3
           }
          ]
         }
        },
        {
         "name": "Unnamed: 193",
         "dtype": "object",
         "stats": {
          "unique_count": 0,
          "nan_count": 3,
          "categories": [
           {
            "name": "Missing",
            "count": 3
           }
          ]
         }
        },
        {
         "name": "Unnamed: 194",
         "dtype": "object",
         "stats": {
          "unique_count": 0,
          "nan_count": 3,
          "categories": [
           {
            "name": "Missing",
            "count": 3
           }
          ]
         }
        },
        {
         "name": "Unnamed: 195",
         "dtype": "object",
         "stats": {
          "unique_count": 0,
          "nan_count": 3,
          "categories": [
           {
            "name": "Missing",
            "count": 3
           }
          ]
         }
        },
        {
         "name": "Unnamed: 196",
         "dtype": "object",
         "stats": {
          "unique_count": 0,
          "nan_count": 3,
          "categories": [
           {
            "name": "Missing",
            "count": 3
           }
          ]
         }
        },
        {
         "name": "Unnamed: 197",
         "dtype": "object",
         "stats": {
          "unique_count": 0,
          "nan_count": 3,
          "categories": [
           {
            "name": "Missing",
            "count": 3
           }
          ]
         }
        },
        {
         "name": "Unnamed: 198",
         "dtype": "object",
         "stats": {
          "unique_count": 0,
          "nan_count": 3,
          "categories": [
           {
            "name": "Missing",
            "count": 3
           }
          ]
         }
        },
        {
         "name": "Unnamed: 199",
         "dtype": "object",
         "stats": {
          "unique_count": 0,
          "nan_count": 3,
          "categories": [
           {
            "name": "Missing",
            "count": 3
           }
          ]
         }
        },
        {
         "name": "Unnamed: 200",
         "dtype": "object",
         "stats": {
          "unique_count": 0,
          "nan_count": 3,
          "categories": [
           {
            "name": "Missing",
            "count": 3
           }
          ]
         }
        },
        {
         "name": "Unnamed: 201",
         "dtype": "object",
         "stats": {
          "unique_count": 0,
          "nan_count": 3,
          "categories": [
           {
            "name": "Missing",
            "count": 3
           }
          ]
         }
        },
        {
         "name": "Unnamed: 202",
         "dtype": "object",
         "stats": {
          "unique_count": 0,
          "nan_count": 3,
          "categories": [
           {
            "name": "Missing",
            "count": 3
           }
          ]
         }
        },
        {
         "name": "Unnamed: 203",
         "dtype": "object",
         "stats": {
          "unique_count": 0,
          "nan_count": 3,
          "categories": [
           {
            "name": "Missing",
            "count": 3
           }
          ]
         }
        },
        {
         "name": "Unnamed: 204",
         "dtype": "object",
         "stats": {
          "unique_count": 0,
          "nan_count": 3,
          "categories": [
           {
            "name": "Missing",
            "count": 3
           }
          ]
         }
        },
        {
         "name": "Unnamed: 205",
         "dtype": "object",
         "stats": {
          "unique_count": 0,
          "nan_count": 3,
          "categories": [
           {
            "name": "Missing",
            "count": 3
           }
          ]
         }
        },
        {
         "name": "Unnamed: 206",
         "dtype": "object",
         "stats": {
          "unique_count": 0,
          "nan_count": 3,
          "categories": [
           {
            "name": "Missing",
            "count": 3
           }
          ]
         }
        },
        {
         "name": "Unnamed: 207",
         "dtype": "object",
         "stats": {
          "unique_count": 0,
          "nan_count": 3,
          "categories": [
           {
            "name": "Missing",
            "count": 3
           }
          ]
         }
        },
        {
         "name": "Unnamed: 208",
         "dtype": "object",
         "stats": {
          "unique_count": 0,
          "nan_count": 3,
          "categories": [
           {
            "name": "Missing",
            "count": 3
           }
          ]
         }
        },
        {
         "name": "Unnamed: 209",
         "dtype": "object",
         "stats": {
          "unique_count": 0,
          "nan_count": 3,
          "categories": [
           {
            "name": "Missing",
            "count": 3
           }
          ]
         }
        },
        {
         "name": "Unnamed: 210",
         "dtype": "object",
         "stats": {
          "unique_count": 0,
          "nan_count": 3,
          "categories": [
           {
            "name": "Missing",
            "count": 3
           }
          ]
         }
        },
        {
         "name": "Unnamed: 211",
         "dtype": "object",
         "stats": {
          "unique_count": 0,
          "nan_count": 3,
          "categories": [
           {
            "name": "Missing",
            "count": 3
           }
          ]
         }
        },
        {
         "name": "Unnamed: 212",
         "dtype": "object",
         "stats": {
          "unique_count": 0,
          "nan_count": 3,
          "categories": [
           {
            "name": "Missing",
            "count": 3
           }
          ]
         }
        },
        {
         "name": "Unnamed: 213",
         "dtype": "object",
         "stats": {
          "unique_count": 0,
          "nan_count": 3,
          "categories": [
           {
            "name": "Missing",
            "count": 3
           }
          ]
         }
        },
        {
         "name": "Unnamed: 214",
         "dtype": "object",
         "stats": {
          "unique_count": 0,
          "nan_count": 3,
          "categories": [
           {
            "name": "Missing",
            "count": 3
           }
          ]
         }
        },
        {
         "name": "Unnamed: 215",
         "dtype": "object",
         "stats": {
          "unique_count": 0,
          "nan_count": 3,
          "categories": [
           {
            "name": "Missing",
            "count": 3
           }
          ]
         }
        },
        {
         "name": "Unnamed: 216",
         "dtype": "object",
         "stats": {
          "unique_count": 0,
          "nan_count": 3,
          "categories": [
           {
            "name": "Missing",
            "count": 3
           }
          ]
         }
        },
        {
         "name": "Unnamed: 217",
         "dtype": "object",
         "stats": {
          "unique_count": 0,
          "nan_count": 3,
          "categories": [
           {
            "name": "Missing",
            "count": 3
           }
          ]
         }
        },
        {
         "name": "Unnamed: 218",
         "dtype": "object",
         "stats": {
          "unique_count": 0,
          "nan_count": 3,
          "categories": [
           {
            "name": "Missing",
            "count": 3
           }
          ]
         }
        },
        {
         "name": "Unnamed: 219",
         "dtype": "object",
         "stats": {
          "unique_count": 0,
          "nan_count": 3,
          "categories": [
           {
            "name": "Missing",
            "count": 3
           }
          ]
         }
        },
        {
         "name": "Unnamed: 220",
         "dtype": "object",
         "stats": {
          "unique_count": 0,
          "nan_count": 3,
          "categories": [
           {
            "name": "Missing",
            "count": 3
           }
          ]
         }
        },
        {
         "name": "Unnamed: 221",
         "dtype": "object",
         "stats": {
          "unique_count": 0,
          "nan_count": 3,
          "categories": [
           {
            "name": "Missing",
            "count": 3
           }
          ]
         }
        },
        {
         "name": "Unnamed: 222",
         "dtype": "object",
         "stats": {
          "unique_count": 0,
          "nan_count": 3,
          "categories": [
           {
            "name": "Missing",
            "count": 3
           }
          ]
         }
        },
        {
         "name": "Unnamed: 223",
         "dtype": "object",
         "stats": {
          "unique_count": 0,
          "nan_count": 3,
          "categories": [
           {
            "name": "Missing",
            "count": 3
           }
          ]
         }
        },
        {
         "name": "Unnamed: 224",
         "dtype": "object",
         "stats": {
          "unique_count": 0,
          "nan_count": 3,
          "categories": [
           {
            "name": "Missing",
            "count": 3
           }
          ]
         }
        },
        {
         "name": "Unnamed: 225",
         "dtype": "object",
         "stats": {
          "unique_count": 0,
          "nan_count": 3,
          "categories": [
           {
            "name": "Missing",
            "count": 3
           }
          ]
         }
        },
        {
         "name": "Unnamed: 226",
         "dtype": "object",
         "stats": {
          "unique_count": 0,
          "nan_count": 3,
          "categories": [
           {
            "name": "Missing",
            "count": 3
           }
          ]
         }
        },
        {
         "name": "Unnamed: 227",
         "dtype": "object",
         "stats": {
          "unique_count": 0,
          "nan_count": 3,
          "categories": [
           {
            "name": "Missing",
            "count": 3
           }
          ]
         }
        },
        {
         "name": "Unnamed: 228",
         "dtype": "object",
         "stats": {
          "unique_count": 0,
          "nan_count": 3,
          "categories": [
           {
            "name": "Missing",
            "count": 3
           }
          ]
         }
        },
        {
         "name": "Unnamed: 229",
         "dtype": "object",
         "stats": {
          "unique_count": 0,
          "nan_count": 3,
          "categories": [
           {
            "name": "Missing",
            "count": 3
           }
          ]
         }
        },
        {
         "name": "Unnamed: 230",
         "dtype": "object",
         "stats": {
          "unique_count": 0,
          "nan_count": 3,
          "categories": [
           {
            "name": "Missing",
            "count": 3
           }
          ]
         }
        },
        {
         "name": "Unnamed: 231",
         "dtype": "object",
         "stats": {
          "unique_count": 0,
          "nan_count": 3,
          "categories": [
           {
            "name": "Missing",
            "count": 3
           }
          ]
         }
        },
        {
         "name": "Unnamed: 232",
         "dtype": "object",
         "stats": {
          "unique_count": 0,
          "nan_count": 3,
          "categories": [
           {
            "name": "Missing",
            "count": 3
           }
          ]
         }
        },
        {
         "name": "Unnamed: 233",
         "dtype": "object",
         "stats": {
          "unique_count": 0,
          "nan_count": 3,
          "categories": [
           {
            "name": "Missing",
            "count": 3
           }
          ]
         }
        },
        {
         "name": "Unnamed: 234",
         "dtype": "object",
         "stats": {
          "unique_count": 0,
          "nan_count": 3,
          "categories": [
           {
            "name": "Missing",
            "count": 3
           }
          ]
         }
        },
        {
         "name": "Unnamed: 235",
         "dtype": "object",
         "stats": {
          "unique_count": 0,
          "nan_count": 3,
          "categories": [
           {
            "name": "Missing",
            "count": 3
           }
          ]
         }
        },
        {
         "name": "Unnamed: 236",
         "dtype": "object",
         "stats": {
          "unique_count": 0,
          "nan_count": 3,
          "categories": [
           {
            "name": "Missing",
            "count": 3
           }
          ]
         }
        },
        {
         "name": "Unnamed: 237",
         "dtype": "object",
         "stats": {
          "unique_count": 0,
          "nan_count": 3,
          "categories": [
           {
            "name": "Missing",
            "count": 3
           }
          ]
         }
        },
        {
         "name": "Unnamed: 238",
         "dtype": "object",
         "stats": {
          "unique_count": 0,
          "nan_count": 3,
          "categories": [
           {
            "name": "Missing",
            "count": 3
           }
          ]
         }
        },
        {
         "name": "Unnamed: 239",
         "dtype": "float64",
         "stats": {
          "unique_count": 0,
          "nan_count": 3,
          "min": null,
          "max": null,
          "histogram": [
           {
            "bin_start": 0,
            "bin_end": 0.1,
            "count": 0
           },
           {
            "bin_start": 0.1,
            "bin_end": 0.2,
            "count": 0
           },
           {
            "bin_start": 0.2,
            "bin_end": 0.30000000000000004,
            "count": 0
           },
           {
            "bin_start": 0.30000000000000004,
            "bin_end": 0.4,
            "count": 0
           },
           {
            "bin_start": 0.4,
            "bin_end": 0.5,
            "count": 0
           },
           {
            "bin_start": 0.5,
            "bin_end": 0.6000000000000001,
            "count": 0
           },
           {
            "bin_start": 0.6000000000000001,
            "bin_end": 0.7000000000000001,
            "count": 0
           },
           {
            "bin_start": 0.7000000000000001,
            "bin_end": 0.8,
            "count": 0
           },
           {
            "bin_start": 0.8,
            "bin_end": 0.9,
            "count": 0
           },
           {
            "bin_start": 0.9,
            "bin_end": 1,
            "count": 0
           }
          ]
         }
        },
        {
         "name": "Unnamed: 240",
         "dtype": "float64",
         "stats": {
          "unique_count": 0,
          "nan_count": 3,
          "min": null,
          "max": null,
          "histogram": [
           {
            "bin_start": 0,
            "bin_end": 0.1,
            "count": 0
           },
           {
            "bin_start": 0.1,
            "bin_end": 0.2,
            "count": 0
           },
           {
            "bin_start": 0.2,
            "bin_end": 0.30000000000000004,
            "count": 0
           },
           {
            "bin_start": 0.30000000000000004,
            "bin_end": 0.4,
            "count": 0
           },
           {
            "bin_start": 0.4,
            "bin_end": 0.5,
            "count": 0
           },
           {
            "bin_start": 0.5,
            "bin_end": 0.6000000000000001,
            "count": 0
           },
           {
            "bin_start": 0.6000000000000001,
            "bin_end": 0.7000000000000001,
            "count": 0
           },
           {
            "bin_start": 0.7000000000000001,
            "bin_end": 0.8,
            "count": 0
           },
           {
            "bin_start": 0.8,
            "bin_end": 0.9,
            "count": 0
           },
           {
            "bin_start": 0.9,
            "bin_end": 1,
            "count": 0
           }
          ]
         }
        },
        {
         "name": "Unnamed: 241",
         "dtype": "float64",
         "stats": {
          "unique_count": 0,
          "nan_count": 3,
          "min": null,
          "max": null,
          "histogram": [
           {
            "bin_start": 0,
            "bin_end": 0.1,
            "count": 0
           },
           {
            "bin_start": 0.1,
            "bin_end": 0.2,
            "count": 0
           },
           {
            "bin_start": 0.2,
            "bin_end": 0.30000000000000004,
            "count": 0
           },
           {
            "bin_start": 0.30000000000000004,
            "bin_end": 0.4,
            "count": 0
           },
           {
            "bin_start": 0.4,
            "bin_end": 0.5,
            "count": 0
           },
           {
            "bin_start": 0.5,
            "bin_end": 0.6000000000000001,
            "count": 0
           },
           {
            "bin_start": 0.6000000000000001,
            "bin_end": 0.7000000000000001,
            "count": 0
           },
           {
            "bin_start": 0.7000000000000001,
            "bin_end": 0.8,
            "count": 0
           },
           {
            "bin_start": 0.8,
            "bin_end": 0.9,
            "count": 0
           },
           {
            "bin_start": 0.9,
            "bin_end": 1,
            "count": 0
           }
          ]
         }
        },
        {
         "name": "Unnamed: 242",
         "dtype": "float64",
         "stats": {
          "unique_count": 0,
          "nan_count": 3,
          "min": null,
          "max": null,
          "histogram": [
           {
            "bin_start": 0,
            "bin_end": 0.1,
            "count": 0
           },
           {
            "bin_start": 0.1,
            "bin_end": 0.2,
            "count": 0
           },
           {
            "bin_start": 0.2,
            "bin_end": 0.30000000000000004,
            "count": 0
           },
           {
            "bin_start": 0.30000000000000004,
            "bin_end": 0.4,
            "count": 0
           },
           {
            "bin_start": 0.4,
            "bin_end": 0.5,
            "count": 0
           },
           {
            "bin_start": 0.5,
            "bin_end": 0.6000000000000001,
            "count": 0
           },
           {
            "bin_start": 0.6000000000000001,
            "bin_end": 0.7000000000000001,
            "count": 0
           },
           {
            "bin_start": 0.7000000000000001,
            "bin_end": 0.8,
            "count": 0
           },
           {
            "bin_start": 0.8,
            "bin_end": 0.9,
            "count": 0
           },
           {
            "bin_start": 0.9,
            "bin_end": 1,
            "count": 0
           }
          ]
         }
        },
        {
         "name": "Unnamed: 243",
         "dtype": "float64",
         "stats": {
          "unique_count": 0,
          "nan_count": 3,
          "min": null,
          "max": null,
          "histogram": [
           {
            "bin_start": 0,
            "bin_end": 0.1,
            "count": 0
           },
           {
            "bin_start": 0.1,
            "bin_end": 0.2,
            "count": 0
           },
           {
            "bin_start": 0.2,
            "bin_end": 0.30000000000000004,
            "count": 0
           },
           {
            "bin_start": 0.30000000000000004,
            "bin_end": 0.4,
            "count": 0
           },
           {
            "bin_start": 0.4,
            "bin_end": 0.5,
            "count": 0
           },
           {
            "bin_start": 0.5,
            "bin_end": 0.6000000000000001,
            "count": 0
           },
           {
            "bin_start": 0.6000000000000001,
            "bin_end": 0.7000000000000001,
            "count": 0
           },
           {
            "bin_start": 0.7000000000000001,
            "bin_end": 0.8,
            "count": 0
           },
           {
            "bin_start": 0.8,
            "bin_end": 0.9,
            "count": 0
           },
           {
            "bin_start": 0.9,
            "bin_end": 1,
            "count": 0
           }
          ]
         }
        },
        {
         "name": "Unnamed: 244",
         "dtype": "float64",
         "stats": {
          "unique_count": 0,
          "nan_count": 3,
          "min": null,
          "max": null,
          "histogram": [
           {
            "bin_start": 0,
            "bin_end": 0.1,
            "count": 0
           },
           {
            "bin_start": 0.1,
            "bin_end": 0.2,
            "count": 0
           },
           {
            "bin_start": 0.2,
            "bin_end": 0.30000000000000004,
            "count": 0
           },
           {
            "bin_start": 0.30000000000000004,
            "bin_end": 0.4,
            "count": 0
           },
           {
            "bin_start": 0.4,
            "bin_end": 0.5,
            "count": 0
           },
           {
            "bin_start": 0.5,
            "bin_end": 0.6000000000000001,
            "count": 0
           },
           {
            "bin_start": 0.6000000000000001,
            "bin_end": 0.7000000000000001,
            "count": 0
           },
           {
            "bin_start": 0.7000000000000001,
            "bin_end": 0.8,
            "count": 0
           },
           {
            "bin_start": 0.8,
            "bin_end": 0.9,
            "count": 0
           },
           {
            "bin_start": 0.9,
            "bin_end": 1,
            "count": 0
           }
          ]
         }
        },
        {
         "name": "Unnamed: 245",
         "dtype": "float64",
         "stats": {
          "unique_count": 0,
          "nan_count": 3,
          "min": null,
          "max": null,
          "histogram": [
           {
            "bin_start": 0,
            "bin_end": 0.1,
            "count": 0
           },
           {
            "bin_start": 0.1,
            "bin_end": 0.2,
            "count": 0
           },
           {
            "bin_start": 0.2,
            "bin_end": 0.30000000000000004,
            "count": 0
           },
           {
            "bin_start": 0.30000000000000004,
            "bin_end": 0.4,
            "count": 0
           },
           {
            "bin_start": 0.4,
            "bin_end": 0.5,
            "count": 0
           },
           {
            "bin_start": 0.5,
            "bin_end": 0.6000000000000001,
            "count": 0
           },
           {
            "bin_start": 0.6000000000000001,
            "bin_end": 0.7000000000000001,
            "count": 0
           },
           {
            "bin_start": 0.7000000000000001,
            "bin_end": 0.8,
            "count": 0
           },
           {
            "bin_start": 0.8,
            "bin_end": 0.9,
            "count": 0
           },
           {
            "bin_start": 0.9,
            "bin_end": 1,
            "count": 0
           }
          ]
         }
        },
        {
         "name": "Unnamed: 246",
         "dtype": "float64",
         "stats": {
          "unique_count": 0,
          "nan_count": 3,
          "min": null,
          "max": null,
          "histogram": [
           {
            "bin_start": 0,
            "bin_end": 0.1,
            "count": 0
           },
           {
            "bin_start": 0.1,
            "bin_end": 0.2,
            "count": 0
           },
           {
            "bin_start": 0.2,
            "bin_end": 0.30000000000000004,
            "count": 0
           },
           {
            "bin_start": 0.30000000000000004,
            "bin_end": 0.4,
            "count": 0
           },
           {
            "bin_start": 0.4,
            "bin_end": 0.5,
            "count": 0
           },
           {
            "bin_start": 0.5,
            "bin_end": 0.6000000000000001,
            "count": 0
           },
           {
            "bin_start": 0.6000000000000001,
            "bin_end": 0.7000000000000001,
            "count": 0
           },
           {
            "bin_start": 0.7000000000000001,
            "bin_end": 0.8,
            "count": 0
           },
           {
            "bin_start": 0.8,
            "bin_end": 0.9,
            "count": 0
           },
           {
            "bin_start": 0.9,
            "bin_end": 1,
            "count": 0
           }
          ]
         }
        },
        {
         "name": "Unnamed: 247",
         "dtype": "float64",
         "stats": {
          "unique_count": 0,
          "nan_count": 3,
          "min": null,
          "max": null,
          "histogram": [
           {
            "bin_start": 0,
            "bin_end": 0.1,
            "count": 0
           },
           {
            "bin_start": 0.1,
            "bin_end": 0.2,
            "count": 0
           },
           {
            "bin_start": 0.2,
            "bin_end": 0.30000000000000004,
            "count": 0
           },
           {
            "bin_start": 0.30000000000000004,
            "bin_end": 0.4,
            "count": 0
           },
           {
            "bin_start": 0.4,
            "bin_end": 0.5,
            "count": 0
           },
           {
            "bin_start": 0.5,
            "bin_end": 0.6000000000000001,
            "count": 0
           },
           {
            "bin_start": 0.6000000000000001,
            "bin_end": 0.7000000000000001,
            "count": 0
           },
           {
            "bin_start": 0.7000000000000001,
            "bin_end": 0.8,
            "count": 0
           },
           {
            "bin_start": 0.8,
            "bin_end": 0.9,
            "count": 0
           },
           {
            "bin_start": 0.9,
            "bin_end": 1,
            "count": 0
           }
          ]
         }
        },
        {
         "name": "Unnamed: 248",
         "dtype": "float64",
         "stats": {
          "unique_count": 0,
          "nan_count": 3,
          "min": null,
          "max": null,
          "histogram": [
           {
            "bin_start": 0,
            "bin_end": 0.1,
            "count": 0
           },
           {
            "bin_start": 0.1,
            "bin_end": 0.2,
            "count": 0
           },
           {
            "bin_start": 0.2,
            "bin_end": 0.30000000000000004,
            "count": 0
           },
           {
            "bin_start": 0.30000000000000004,
            "bin_end": 0.4,
            "count": 0
           },
           {
            "bin_start": 0.4,
            "bin_end": 0.5,
            "count": 0
           },
           {
            "bin_start": 0.5,
            "bin_end": 0.6000000000000001,
            "count": 0
           },
           {
            "bin_start": 0.6000000000000001,
            "bin_end": 0.7000000000000001,
            "count": 0
           },
           {
            "bin_start": 0.7000000000000001,
            "bin_end": 0.8,
            "count": 0
           },
           {
            "bin_start": 0.8,
            "bin_end": 0.9,
            "count": 0
           },
           {
            "bin_start": 0.9,
            "bin_end": 1,
            "count": 0
           }
          ]
         }
        },
        {
         "name": "Unnamed: 249",
         "dtype": "float64",
         "stats": {
          "unique_count": 0,
          "nan_count": 3,
          "min": null,
          "max": null,
          "histogram": [
           {
            "bin_start": 0,
            "bin_end": 0.1,
            "count": 0
           },
           {
            "bin_start": 0.1,
            "bin_end": 0.2,
            "count": 0
           },
           {
            "bin_start": 0.2,
            "bin_end": 0.30000000000000004,
            "count": 0
           },
           {
            "bin_start": 0.30000000000000004,
            "bin_end": 0.4,
            "count": 0
           },
           {
            "bin_start": 0.4,
            "bin_end": 0.5,
            "count": 0
           },
           {
            "bin_start": 0.5,
            "bin_end": 0.6000000000000001,
            "count": 0
           },
           {
            "bin_start": 0.6000000000000001,
            "bin_end": 0.7000000000000001,
            "count": 0
           },
           {
            "bin_start": 0.7000000000000001,
            "bin_end": 0.8,
            "count": 0
           },
           {
            "bin_start": 0.8,
            "bin_end": 0.9,
            "count": 0
           },
           {
            "bin_start": 0.9,
            "bin_end": 1,
            "count": 0
           }
          ]
         }
        },
        {
         "name": "Unnamed: 250",
         "dtype": "float64",
         "stats": {
          "unique_count": 0,
          "nan_count": 3,
          "min": null,
          "max": null,
          "histogram": [
           {
            "bin_start": 0,
            "bin_end": 0.1,
            "count": 0
           },
           {
            "bin_start": 0.1,
            "bin_end": 0.2,
            "count": 0
           },
           {
            "bin_start": 0.2,
            "bin_end": 0.30000000000000004,
            "count": 0
           },
           {
            "bin_start": 0.30000000000000004,
            "bin_end": 0.4,
            "count": 0
           },
           {
            "bin_start": 0.4,
            "bin_end": 0.5,
            "count": 0
           },
           {
            "bin_start": 0.5,
            "bin_end": 0.6000000000000001,
            "count": 0
           },
           {
            "bin_start": 0.6000000000000001,
            "bin_end": 0.7000000000000001,
            "count": 0
           },
           {
            "bin_start": 0.7000000000000001,
            "bin_end": 0.8,
            "count": 0
           },
           {
            "bin_start": 0.8,
            "bin_end": 0.9,
            "count": 0
           },
           {
            "bin_start": 0.9,
            "bin_end": 1,
            "count": 0
           }
          ]
         }
        },
        {
         "name": "Unnamed: 251",
         "dtype": "float64",
         "stats": {
          "unique_count": 0,
          "nan_count": 3,
          "min": null,
          "max": null,
          "histogram": [
           {
            "bin_start": 0,
            "bin_end": 0.1,
            "count": 0
           },
           {
            "bin_start": 0.1,
            "bin_end": 0.2,
            "count": 0
           },
           {
            "bin_start": 0.2,
            "bin_end": 0.30000000000000004,
            "count": 0
           },
           {
            "bin_start": 0.30000000000000004,
            "bin_end": 0.4,
            "count": 0
           },
           {
            "bin_start": 0.4,
            "bin_end": 0.5,
            "count": 0
           },
           {
            "bin_start": 0.5,
            "bin_end": 0.6000000000000001,
            "count": 0
           },
           {
            "bin_start": 0.6000000000000001,
            "bin_end": 0.7000000000000001,
            "count": 0
           },
           {
            "bin_start": 0.7000000000000001,
            "bin_end": 0.8,
            "count": 0
           },
           {
            "bin_start": 0.8,
            "bin_end": 0.9,
            "count": 0
           },
           {
            "bin_start": 0.9,
            "bin_end": 1,
            "count": 0
           }
          ]
         }
        },
        {
         "name": "Unnamed: 252",
         "dtype": "float64",
         "stats": {
          "unique_count": 0,
          "nan_count": 3,
          "min": null,
          "max": null,
          "histogram": [
           {
            "bin_start": 0,
            "bin_end": 0.1,
            "count": 0
           },
           {
            "bin_start": 0.1,
            "bin_end": 0.2,
            "count": 0
           },
           {
            "bin_start": 0.2,
            "bin_end": 0.30000000000000004,
            "count": 0
           },
           {
            "bin_start": 0.30000000000000004,
            "bin_end": 0.4,
            "count": 0
           },
           {
            "bin_start": 0.4,
            "bin_end": 0.5,
            "count": 0
           },
           {
            "bin_start": 0.5,
            "bin_end": 0.6000000000000001,
            "count": 0
           },
           {
            "bin_start": 0.6000000000000001,
            "bin_end": 0.7000000000000001,
            "count": 0
           },
           {
            "bin_start": 0.7000000000000001,
            "bin_end": 0.8,
            "count": 0
           },
           {
            "bin_start": 0.8,
            "bin_end": 0.9,
            "count": 0
           },
           {
            "bin_start": 0.9,
            "bin_end": 1,
            "count": 0
           }
          ]
         }
        },
        {
         "name": "Unnamed: 253",
         "dtype": "float64",
         "stats": {
          "unique_count": 0,
          "nan_count": 3,
          "min": null,
          "max": null,
          "histogram": [
           {
            "bin_start": 0,
            "bin_end": 0.1,
            "count": 0
           },
           {
            "bin_start": 0.1,
            "bin_end": 0.2,
            "count": 0
           },
           {
            "bin_start": 0.2,
            "bin_end": 0.30000000000000004,
            "count": 0
           },
           {
            "bin_start": 0.30000000000000004,
            "bin_end": 0.4,
            "count": 0
           },
           {
            "bin_start": 0.4,
            "bin_end": 0.5,
            "count": 0
           },
           {
            "bin_start": 0.5,
            "bin_end": 0.6000000000000001,
            "count": 0
           },
           {
            "bin_start": 0.6000000000000001,
            "bin_end": 0.7000000000000001,
            "count": 0
           },
           {
            "bin_start": 0.7000000000000001,
            "bin_end": 0.8,
            "count": 0
           },
           {
            "bin_start": 0.8,
            "bin_end": 0.9,
            "count": 0
           },
           {
            "bin_start": 0.9,
            "bin_end": 1,
            "count": 0
           }
          ]
         }
        },
        {
         "name": "Unnamed: 254",
         "dtype": "float64",
         "stats": {
          "unique_count": 0,
          "nan_count": 3,
          "min": null,
          "max": null,
          "histogram": [
           {
            "bin_start": 0,
            "bin_end": 0.1,
            "count": 0
           },
           {
            "bin_start": 0.1,
            "bin_end": 0.2,
            "count": 0
           },
           {
            "bin_start": 0.2,
            "bin_end": 0.30000000000000004,
            "count": 0
           },
           {
            "bin_start": 0.30000000000000004,
            "bin_end": 0.4,
            "count": 0
           },
           {
            "bin_start": 0.4,
            "bin_end": 0.5,
            "count": 0
           },
           {
            "bin_start": 0.5,
            "bin_end": 0.6000000000000001,
            "count": 0
           },
           {
            "bin_start": 0.6000000000000001,
            "bin_end": 0.7000000000000001,
            "count": 0
           },
           {
            "bin_start": 0.7000000000000001,
            "bin_end": 0.8,
            "count": 0
           },
           {
            "bin_start": 0.8,
            "bin_end": 0.9,
            "count": 0
           },
           {
            "bin_start": 0.9,
            "bin_end": 1,
            "count": 0
           }
          ]
         }
        },
        {
         "name": "Unnamed: 255",
         "dtype": "float64",
         "stats": {
          "unique_count": 0,
          "nan_count": 3,
          "min": null,
          "max": null,
          "histogram": [
           {
            "bin_start": 0,
            "bin_end": 0.1,
            "count": 0
           },
           {
            "bin_start": 0.1,
            "bin_end": 0.2,
            "count": 0
           },
           {
            "bin_start": 0.2,
            "bin_end": 0.30000000000000004,
            "count": 0
           },
           {
            "bin_start": 0.30000000000000004,
            "bin_end": 0.4,
            "count": 0
           },
           {
            "bin_start": 0.4,
            "bin_end": 0.5,
            "count": 0
           },
           {
            "bin_start": 0.5,
            "bin_end": 0.6000000000000001,
            "count": 0
           },
           {
            "bin_start": 0.6000000000000001,
            "bin_end": 0.7000000000000001,
            "count": 0
           },
           {
            "bin_start": 0.7000000000000001,
            "bin_end": 0.8,
            "count": 0
           },
           {
            "bin_start": 0.8,
            "bin_end": 0.9,
            "count": 0
           },
           {
            "bin_start": 0.9,
            "bin_end": 1,
            "count": 0
           }
          ]
         }
        },
        {
         "name": "Unnamed: 256",
         "dtype": "float64",
         "stats": {
          "unique_count": 0,
          "nan_count": 3,
          "min": null,
          "max": null,
          "histogram": [
           {
            "bin_start": 0,
            "bin_end": 0.1,
            "count": 0
           },
           {
            "bin_start": 0.1,
            "bin_end": 0.2,
            "count": 0
           },
           {
            "bin_start": 0.2,
            "bin_end": 0.30000000000000004,
            "count": 0
           },
           {
            "bin_start": 0.30000000000000004,
            "bin_end": 0.4,
            "count": 0
           },
           {
            "bin_start": 0.4,
            "bin_end": 0.5,
            "count": 0
           },
           {
            "bin_start": 0.5,
            "bin_end": 0.6000000000000001,
            "count": 0
           },
           {
            "bin_start": 0.6000000000000001,
            "bin_end": 0.7000000000000001,
            "count": 0
           },
           {
            "bin_start": 0.7000000000000001,
            "bin_end": 0.8,
            "count": 0
           },
           {
            "bin_start": 0.8,
            "bin_end": 0.9,
            "count": 0
           },
           {
            "bin_start": 0.9,
            "bin_end": 1,
            "count": 0
           }
          ]
         }
        },
        {
         "name": "Unnamed: 257",
         "dtype": "float64",
         "stats": {
          "unique_count": 0,
          "nan_count": 3,
          "min": null,
          "max": null,
          "histogram": [
           {
            "bin_start": 0,
            "bin_end": 0.1,
            "count": 0
           },
           {
            "bin_start": 0.1,
            "bin_end": 0.2,
            "count": 0
           },
           {
            "bin_start": 0.2,
            "bin_end": 0.30000000000000004,
            "count": 0
           },
           {
            "bin_start": 0.30000000000000004,
            "bin_end": 0.4,
            "count": 0
           },
           {
            "bin_start": 0.4,
            "bin_end": 0.5,
            "count": 0
           },
           {
            "bin_start": 0.5,
            "bin_end": 0.6000000000000001,
            "count": 0
           },
           {
            "bin_start": 0.6000000000000001,
            "bin_end": 0.7000000000000001,
            "count": 0
           },
           {
            "bin_start": 0.7000000000000001,
            "bin_end": 0.8,
            "count": 0
           },
           {
            "bin_start": 0.8,
            "bin_end": 0.9,
            "count": 0
           },
           {
            "bin_start": 0.9,
            "bin_end": 1,
            "count": 0
           }
          ]
         }
        },
        {
         "name": "Unnamed: 258",
         "dtype": "float64",
         "stats": {
          "unique_count": 0,
          "nan_count": 3,
          "min": null,
          "max": null,
          "histogram": [
           {
            "bin_start": 0,
            "bin_end": 0.1,
            "count": 0
           },
           {
            "bin_start": 0.1,
            "bin_end": 0.2,
            "count": 0
           },
           {
            "bin_start": 0.2,
            "bin_end": 0.30000000000000004,
            "count": 0
           },
           {
            "bin_start": 0.30000000000000004,
            "bin_end": 0.4,
            "count": 0
           },
           {
            "bin_start": 0.4,
            "bin_end": 0.5,
            "count": 0
           },
           {
            "bin_start": 0.5,
            "bin_end": 0.6000000000000001,
            "count": 0
           },
           {
            "bin_start": 0.6000000000000001,
            "bin_end": 0.7000000000000001,
            "count": 0
           },
           {
            "bin_start": 0.7000000000000001,
            "bin_end": 0.8,
            "count": 0
           },
           {
            "bin_start": 0.8,
            "bin_end": 0.9,
            "count": 0
           },
           {
            "bin_start": 0.9,
            "bin_end": 1,
            "count": 0
           }
          ]
         }
        },
        {
         "name": "Unnamed: 259",
         "dtype": "float64",
         "stats": {
          "unique_count": 0,
          "nan_count": 3,
          "min": null,
          "max": null,
          "histogram": [
           {
            "bin_start": 0,
            "bin_end": 0.1,
            "count": 0
           },
           {
            "bin_start": 0.1,
            "bin_end": 0.2,
            "count": 0
           },
           {
            "bin_start": 0.2,
            "bin_end": 0.30000000000000004,
            "count": 0
           },
           {
            "bin_start": 0.30000000000000004,
            "bin_end": 0.4,
            "count": 0
           },
           {
            "bin_start": 0.4,
            "bin_end": 0.5,
            "count": 0
           },
           {
            "bin_start": 0.5,
            "bin_end": 0.6000000000000001,
            "count": 0
           },
           {
            "bin_start": 0.6000000000000001,
            "bin_end": 0.7000000000000001,
            "count": 0
           },
           {
            "bin_start": 0.7000000000000001,
            "bin_end": 0.8,
            "count": 0
           },
           {
            "bin_start": 0.8,
            "bin_end": 0.9,
            "count": 0
           },
           {
            "bin_start": 0.9,
            "bin_end": 1,
            "count": 0
           }
          ]
         }
        },
        {
         "name": "Unnamed: 260",
         "dtype": "float64",
         "stats": {
          "unique_count": 0,
          "nan_count": 3,
          "min": null,
          "max": null,
          "histogram": [
           {
            "bin_start": 0,
            "bin_end": 0.1,
            "count": 0
           },
           {
            "bin_start": 0.1,
            "bin_end": 0.2,
            "count": 0
           },
           {
            "bin_start": 0.2,
            "bin_end": 0.30000000000000004,
            "count": 0
           },
           {
            "bin_start": 0.30000000000000004,
            "bin_end": 0.4,
            "count": 0
           },
           {
            "bin_start": 0.4,
            "bin_end": 0.5,
            "count": 0
           },
           {
            "bin_start": 0.5,
            "bin_end": 0.6000000000000001,
            "count": 0
           },
           {
            "bin_start": 0.6000000000000001,
            "bin_end": 0.7000000000000001,
            "count": 0
           },
           {
            "bin_start": 0.7000000000000001,
            "bin_end": 0.8,
            "count": 0
           },
           {
            "bin_start": 0.8,
            "bin_end": 0.9,
            "count": 0
           },
           {
            "bin_start": 0.9,
            "bin_end": 1,
            "count": 0
           }
          ]
         }
        },
        {
         "name": "Unnamed: 261",
         "dtype": "float64",
         "stats": {
          "unique_count": 0,
          "nan_count": 3,
          "min": null,
          "max": null,
          "histogram": [
           {
            "bin_start": 0,
            "bin_end": 0.1,
            "count": 0
           },
           {
            "bin_start": 0.1,
            "bin_end": 0.2,
            "count": 0
           },
           {
            "bin_start": 0.2,
            "bin_end": 0.30000000000000004,
            "count": 0
           },
           {
            "bin_start": 0.30000000000000004,
            "bin_end": 0.4,
            "count": 0
           },
           {
            "bin_start": 0.4,
            "bin_end": 0.5,
            "count": 0
           },
           {
            "bin_start": 0.5,
            "bin_end": 0.6000000000000001,
            "count": 0
           },
           {
            "bin_start": 0.6000000000000001,
            "bin_end": 0.7000000000000001,
            "count": 0
           },
           {
            "bin_start": 0.7000000000000001,
            "bin_end": 0.8,
            "count": 0
           },
           {
            "bin_start": 0.8,
            "bin_end": 0.9,
            "count": 0
           },
           {
            "bin_start": 0.9,
            "bin_end": 1,
            "count": 0
           }
          ]
         }
        },
        {
         "name": "Unnamed: 262",
         "dtype": "float64",
         "stats": {
          "unique_count": 0,
          "nan_count": 3,
          "min": null,
          "max": null,
          "histogram": [
           {
            "bin_start": 0,
            "bin_end": 0.1,
            "count": 0
           },
           {
            "bin_start": 0.1,
            "bin_end": 0.2,
            "count": 0
           },
           {
            "bin_start": 0.2,
            "bin_end": 0.30000000000000004,
            "count": 0
           },
           {
            "bin_start": 0.30000000000000004,
            "bin_end": 0.4,
            "count": 0
           },
           {
            "bin_start": 0.4,
            "bin_end": 0.5,
            "count": 0
           },
           {
            "bin_start": 0.5,
            "bin_end": 0.6000000000000001,
            "count": 0
           },
           {
            "bin_start": 0.6000000000000001,
            "bin_end": 0.7000000000000001,
            "count": 0
           },
           {
            "bin_start": 0.7000000000000001,
            "bin_end": 0.8,
            "count": 0
           },
           {
            "bin_start": 0.8,
            "bin_end": 0.9,
            "count": 0
           },
           {
            "bin_start": 0.9,
            "bin_end": 1,
            "count": 0
           }
          ]
         }
        },
        {
         "name": "Unnamed: 263",
         "dtype": "float64",
         "stats": {
          "unique_count": 0,
          "nan_count": 3,
          "min": null,
          "max": null,
          "histogram": [
           {
            "bin_start": 0,
            "bin_end": 0.1,
            "count": 0
           },
           {
            "bin_start": 0.1,
            "bin_end": 0.2,
            "count": 0
           },
           {
            "bin_start": 0.2,
            "bin_end": 0.30000000000000004,
            "count": 0
           },
           {
            "bin_start": 0.30000000000000004,
            "bin_end": 0.4,
            "count": 0
           },
           {
            "bin_start": 0.4,
            "bin_end": 0.5,
            "count": 0
           },
           {
            "bin_start": 0.5,
            "bin_end": 0.6000000000000001,
            "count": 0
           },
           {
            "bin_start": 0.6000000000000001,
            "bin_end": 0.7000000000000001,
            "count": 0
           },
           {
            "bin_start": 0.7000000000000001,
            "bin_end": 0.8,
            "count": 0
           },
           {
            "bin_start": 0.8,
            "bin_end": 0.9,
            "count": 0
           },
           {
            "bin_start": 0.9,
            "bin_end": 1,
            "count": 0
           }
          ]
         }
        },
        {
         "name": "Unnamed: 264",
         "dtype": "float64",
         "stats": {
          "unique_count": 0,
          "nan_count": 3,
          "min": null,
          "max": null,
          "histogram": [
           {
            "bin_start": 0,
            "bin_end": 0.1,
            "count": 0
           },
           {
            "bin_start": 0.1,
            "bin_end": 0.2,
            "count": 0
           },
           {
            "bin_start": 0.2,
            "bin_end": 0.30000000000000004,
            "count": 0
           },
           {
            "bin_start": 0.30000000000000004,
            "bin_end": 0.4,
            "count": 0
           },
           {
            "bin_start": 0.4,
            "bin_end": 0.5,
            "count": 0
           },
           {
            "bin_start": 0.5,
            "bin_end": 0.6000000000000001,
            "count": 0
           },
           {
            "bin_start": 0.6000000000000001,
            "bin_end": 0.7000000000000001,
            "count": 0
           },
           {
            "bin_start": 0.7000000000000001,
            "bin_end": 0.8,
            "count": 0
           },
           {
            "bin_start": 0.8,
            "bin_end": 0.9,
            "count": 0
           },
           {
            "bin_start": 0.9,
            "bin_end": 1,
            "count": 0
           }
          ]
         }
        },
        {
         "name": "Unnamed: 265",
         "dtype": "float64",
         "stats": {
          "unique_count": 0,
          "nan_count": 3,
          "min": null,
          "max": null,
          "histogram": [
           {
            "bin_start": 0,
            "bin_end": 0.1,
            "count": 0
           },
           {
            "bin_start": 0.1,
            "bin_end": 0.2,
            "count": 0
           },
           {
            "bin_start": 0.2,
            "bin_end": 0.30000000000000004,
            "count": 0
           },
           {
            "bin_start": 0.30000000000000004,
            "bin_end": 0.4,
            "count": 0
           },
           {
            "bin_start": 0.4,
            "bin_end": 0.5,
            "count": 0
           },
           {
            "bin_start": 0.5,
            "bin_end": 0.6000000000000001,
            "count": 0
           },
           {
            "bin_start": 0.6000000000000001,
            "bin_end": 0.7000000000000001,
            "count": 0
           },
           {
            "bin_start": 0.7000000000000001,
            "bin_end": 0.8,
            "count": 0
           },
           {
            "bin_start": 0.8,
            "bin_end": 0.9,
            "count": 0
           },
           {
            "bin_start": 0.9,
            "bin_end": 1,
            "count": 0
           }
          ]
         }
        },
        {
         "name": "Unnamed: 266",
         "dtype": "float64",
         "stats": {
          "unique_count": 0,
          "nan_count": 3,
          "min": null,
          "max": null,
          "histogram": [
           {
            "bin_start": 0,
            "bin_end": 0.1,
            "count": 0
           },
           {
            "bin_start": 0.1,
            "bin_end": 0.2,
            "count": 0
           },
           {
            "bin_start": 0.2,
            "bin_end": 0.30000000000000004,
            "count": 0
           },
           {
            "bin_start": 0.30000000000000004,
            "bin_end": 0.4,
            "count": 0
           },
           {
            "bin_start": 0.4,
            "bin_end": 0.5,
            "count": 0
           },
           {
            "bin_start": 0.5,
            "bin_end": 0.6000000000000001,
            "count": 0
           },
           {
            "bin_start": 0.6000000000000001,
            "bin_end": 0.7000000000000001,
            "count": 0
           },
           {
            "bin_start": 0.7000000000000001,
            "bin_end": 0.8,
            "count": 0
           },
           {
            "bin_start": 0.8,
            "bin_end": 0.9,
            "count": 0
           },
           {
            "bin_start": 0.9,
            "bin_end": 1,
            "count": 0
           }
          ]
         }
        },
        {
         "name": "Unnamed: 267",
         "dtype": "object",
         "stats": {
          "unique_count": 0,
          "nan_count": 3,
          "categories": [
           {
            "name": "Missing",
            "count": 3
           }
          ]
         }
        },
        {
         "name": "Unnamed: 268",
         "dtype": "float64",
         "stats": {
          "unique_count": 0,
          "nan_count": 3,
          "min": null,
          "max": null,
          "histogram": [
           {
            "bin_start": 0,
            "bin_end": 0.1,
            "count": 0
           },
           {
            "bin_start": 0.1,
            "bin_end": 0.2,
            "count": 0
           },
           {
            "bin_start": 0.2,
            "bin_end": 0.30000000000000004,
            "count": 0
           },
           {
            "bin_start": 0.30000000000000004,
            "bin_end": 0.4,
            "count": 0
           },
           {
            "bin_start": 0.4,
            "bin_end": 0.5,
            "count": 0
           },
           {
            "bin_start": 0.5,
            "bin_end": 0.6000000000000001,
            "count": 0
           },
           {
            "bin_start": 0.6000000000000001,
            "bin_end": 0.7000000000000001,
            "count": 0
           },
           {
            "bin_start": 0.7000000000000001,
            "bin_end": 0.8,
            "count": 0
           },
           {
            "bin_start": 0.8,
            "bin_end": 0.9,
            "count": 0
           },
           {
            "bin_start": 0.9,
            "bin_end": 1,
            "count": 0
           }
          ]
         }
        },
        {
         "name": "Unnamed: 269",
         "dtype": "object",
         "stats": {
          "unique_count": 0,
          "nan_count": 3,
          "categories": [
           {
            "name": "Missing",
            "count": 3
           }
          ]
         }
        },
        {
         "name": "Unnamed: 270",
         "dtype": "float64",
         "stats": {
          "unique_count": 0,
          "nan_count": 3,
          "min": null,
          "max": null,
          "histogram": [
           {
            "bin_start": 0,
            "bin_end": 0.1,
            "count": 0
           },
           {
            "bin_start": 0.1,
            "bin_end": 0.2,
            "count": 0
           },
           {
            "bin_start": 0.2,
            "bin_end": 0.30000000000000004,
            "count": 0
           },
           {
            "bin_start": 0.30000000000000004,
            "bin_end": 0.4,
            "count": 0
           },
           {
            "bin_start": 0.4,
            "bin_end": 0.5,
            "count": 0
           },
           {
            "bin_start": 0.5,
            "bin_end": 0.6000000000000001,
            "count": 0
           },
           {
            "bin_start": 0.6000000000000001,
            "bin_end": 0.7000000000000001,
            "count": 0
           },
           {
            "bin_start": 0.7000000000000001,
            "bin_end": 0.8,
            "count": 0
           },
           {
            "bin_start": 0.8,
            "bin_end": 0.9,
            "count": 0
           },
           {
            "bin_start": 0.9,
            "bin_end": 1,
            "count": 0
           }
          ]
         }
        },
        {
         "name": "Unnamed: 271",
         "dtype": "float64",
         "stats": {
          "unique_count": 0,
          "nan_count": 3,
          "min": null,
          "max": null,
          "histogram": [
           {
            "bin_start": 0,
            "bin_end": 0.1,
            "count": 0
           },
           {
            "bin_start": 0.1,
            "bin_end": 0.2,
            "count": 0
           },
           {
            "bin_start": 0.2,
            "bin_end": 0.30000000000000004,
            "count": 0
           },
           {
            "bin_start": 0.30000000000000004,
            "bin_end": 0.4,
            "count": 0
           },
           {
            "bin_start": 0.4,
            "bin_end": 0.5,
            "count": 0
           },
           {
            "bin_start": 0.5,
            "bin_end": 0.6000000000000001,
            "count": 0
           },
           {
            "bin_start": 0.6000000000000001,
            "bin_end": 0.7000000000000001,
            "count": 0
           },
           {
            "bin_start": 0.7000000000000001,
            "bin_end": 0.8,
            "count": 0
           },
           {
            "bin_start": 0.8,
            "bin_end": 0.9,
            "count": 0
           },
           {
            "bin_start": 0.9,
            "bin_end": 1,
            "count": 0
           }
          ]
         }
        },
        {
         "name": "Unnamed: 272",
         "dtype": "float64",
         "stats": {
          "unique_count": 0,
          "nan_count": 3,
          "min": null,
          "max": null,
          "histogram": [
           {
            "bin_start": 0,
            "bin_end": 0.1,
            "count": 0
           },
           {
            "bin_start": 0.1,
            "bin_end": 0.2,
            "count": 0
           },
           {
            "bin_start": 0.2,
            "bin_end": 0.30000000000000004,
            "count": 0
           },
           {
            "bin_start": 0.30000000000000004,
            "bin_end": 0.4,
            "count": 0
           },
           {
            "bin_start": 0.4,
            "bin_end": 0.5,
            "count": 0
           },
           {
            "bin_start": 0.5,
            "bin_end": 0.6000000000000001,
            "count": 0
           },
           {
            "bin_start": 0.6000000000000001,
            "bin_end": 0.7000000000000001,
            "count": 0
           },
           {
            "bin_start": 0.7000000000000001,
            "bin_end": 0.8,
            "count": 0
           },
           {
            "bin_start": 0.8,
            "bin_end": 0.9,
            "count": 0
           },
           {
            "bin_start": 0.9,
            "bin_end": 1,
            "count": 0
           }
          ]
         }
        },
        {
         "name": "Unnamed: 273",
         "dtype": "float64",
         "stats": {
          "unique_count": 0,
          "nan_count": 3,
          "min": null,
          "max": null,
          "histogram": [
           {
            "bin_start": 0,
            "bin_end": 0.1,
            "count": 0
           },
           {
            "bin_start": 0.1,
            "bin_end": 0.2,
            "count": 0
           },
           {
            "bin_start": 0.2,
            "bin_end": 0.30000000000000004,
            "count": 0
           },
           {
            "bin_start": 0.30000000000000004,
            "bin_end": 0.4,
            "count": 0
           },
           {
            "bin_start": 0.4,
            "bin_end": 0.5,
            "count": 0
           },
           {
            "bin_start": 0.5,
            "bin_end": 0.6000000000000001,
            "count": 0
           },
           {
            "bin_start": 0.6000000000000001,
            "bin_end": 0.7000000000000001,
            "count": 0
           },
           {
            "bin_start": 0.7000000000000001,
            "bin_end": 0.8,
            "count": 0
           },
           {
            "bin_start": 0.8,
            "bin_end": 0.9,
            "count": 0
           },
           {
            "bin_start": 0.9,
            "bin_end": 1,
            "count": 0
           }
          ]
         }
        },
        {
         "name": "Unnamed: 274",
         "dtype": "float64",
         "stats": {
          "unique_count": 0,
          "nan_count": 3,
          "min": null,
          "max": null,
          "histogram": [
           {
            "bin_start": 0,
            "bin_end": 0.1,
            "count": 0
           },
           {
            "bin_start": 0.1,
            "bin_end": 0.2,
            "count": 0
           },
           {
            "bin_start": 0.2,
            "bin_end": 0.30000000000000004,
            "count": 0
           },
           {
            "bin_start": 0.30000000000000004,
            "bin_end": 0.4,
            "count": 0
           },
           {
            "bin_start": 0.4,
            "bin_end": 0.5,
            "count": 0
           },
           {
            "bin_start": 0.5,
            "bin_end": 0.6000000000000001,
            "count": 0
           },
           {
            "bin_start": 0.6000000000000001,
            "bin_end": 0.7000000000000001,
            "count": 0
           },
           {
            "bin_start": 0.7000000000000001,
            "bin_end": 0.8,
            "count": 0
           },
           {
            "bin_start": 0.8,
            "bin_end": 0.9,
            "count": 0
           },
           {
            "bin_start": 0.9,
            "bin_end": 1,
            "count": 0
           }
          ]
         }
        },
        {
         "name": "Unnamed: 275",
         "dtype": "float64",
         "stats": {
          "unique_count": 0,
          "nan_count": 3,
          "min": null,
          "max": null,
          "histogram": [
           {
            "bin_start": 0,
            "bin_end": 0.1,
            "count": 0
           },
           {
            "bin_start": 0.1,
            "bin_end": 0.2,
            "count": 0
           },
           {
            "bin_start": 0.2,
            "bin_end": 0.30000000000000004,
            "count": 0
           },
           {
            "bin_start": 0.30000000000000004,
            "bin_end": 0.4,
            "count": 0
           },
           {
            "bin_start": 0.4,
            "bin_end": 0.5,
            "count": 0
           },
           {
            "bin_start": 0.5,
            "bin_end": 0.6000000000000001,
            "count": 0
           },
           {
            "bin_start": 0.6000000000000001,
            "bin_end": 0.7000000000000001,
            "count": 0
           },
           {
            "bin_start": 0.7000000000000001,
            "bin_end": 0.8,
            "count": 0
           },
           {
            "bin_start": 0.8,
            "bin_end": 0.9,
            "count": 0
           },
           {
            "bin_start": 0.9,
            "bin_end": 1,
            "count": 0
           }
          ]
         }
        },
        {
         "name": "Unnamed: 276",
         "dtype": "float64",
         "stats": {
          "unique_count": 0,
          "nan_count": 3,
          "min": null,
          "max": null,
          "histogram": [
           {
            "bin_start": 0,
            "bin_end": 0.1,
            "count": 0
           },
           {
            "bin_start": 0.1,
            "bin_end": 0.2,
            "count": 0
           },
           {
            "bin_start": 0.2,
            "bin_end": 0.30000000000000004,
            "count": 0
           },
           {
            "bin_start": 0.30000000000000004,
            "bin_end": 0.4,
            "count": 0
           },
           {
            "bin_start": 0.4,
            "bin_end": 0.5,
            "count": 0
           },
           {
            "bin_start": 0.5,
            "bin_end": 0.6000000000000001,
            "count": 0
           },
           {
            "bin_start": 0.6000000000000001,
            "bin_end": 0.7000000000000001,
            "count": 0
           },
           {
            "bin_start": 0.7000000000000001,
            "bin_end": 0.8,
            "count": 0
           },
           {
            "bin_start": 0.8,
            "bin_end": 0.9,
            "count": 0
           },
           {
            "bin_start": 0.9,
            "bin_end": 1,
            "count": 0
           }
          ]
         }
        },
        {
         "name": "Unnamed: 277",
         "dtype": "float64",
         "stats": {
          "unique_count": 0,
          "nan_count": 3,
          "min": null,
          "max": null,
          "histogram": [
           {
            "bin_start": 0,
            "bin_end": 0.1,
            "count": 0
           },
           {
            "bin_start": 0.1,
            "bin_end": 0.2,
            "count": 0
           },
           {
            "bin_start": 0.2,
            "bin_end": 0.30000000000000004,
            "count": 0
           },
           {
            "bin_start": 0.30000000000000004,
            "bin_end": 0.4,
            "count": 0
           },
           {
            "bin_start": 0.4,
            "bin_end": 0.5,
            "count": 0
           },
           {
            "bin_start": 0.5,
            "bin_end": 0.6000000000000001,
            "count": 0
           },
           {
            "bin_start": 0.6000000000000001,
            "bin_end": 0.7000000000000001,
            "count": 0
           },
           {
            "bin_start": 0.7000000000000001,
            "bin_end": 0.8,
            "count": 0
           },
           {
            "bin_start": 0.8,
            "bin_end": 0.9,
            "count": 0
           },
           {
            "bin_start": 0.9,
            "bin_end": 1,
            "count": 0
           }
          ]
         }
        },
        {
         "name": "Unnamed: 278",
         "dtype": "float64",
         "stats": {
          "unique_count": 0,
          "nan_count": 3,
          "min": null,
          "max": null,
          "histogram": [
           {
            "bin_start": 0,
            "bin_end": 0.1,
            "count": 0
           },
           {
            "bin_start": 0.1,
            "bin_end": 0.2,
            "count": 0
           },
           {
            "bin_start": 0.2,
            "bin_end": 0.30000000000000004,
            "count": 0
           },
           {
            "bin_start": 0.30000000000000004,
            "bin_end": 0.4,
            "count": 0
           },
           {
            "bin_start": 0.4,
            "bin_end": 0.5,
            "count": 0
           },
           {
            "bin_start": 0.5,
            "bin_end": 0.6000000000000001,
            "count": 0
           },
           {
            "bin_start": 0.6000000000000001,
            "bin_end": 0.7000000000000001,
            "count": 0
           },
           {
            "bin_start": 0.7000000000000001,
            "bin_end": 0.8,
            "count": 0
           },
           {
            "bin_start": 0.8,
            "bin_end": 0.9,
            "count": 0
           },
           {
            "bin_start": 0.9,
            "bin_end": 1,
            "count": 0
           }
          ]
         }
        },
        {
         "name": "Unnamed: 279",
         "dtype": "float64",
         "stats": {
          "unique_count": 0,
          "nan_count": 3,
          "min": null,
          "max": null,
          "histogram": [
           {
            "bin_start": 0,
            "bin_end": 0.1,
            "count": 0
           },
           {
            "bin_start": 0.1,
            "bin_end": 0.2,
            "count": 0
           },
           {
            "bin_start": 0.2,
            "bin_end": 0.30000000000000004,
            "count": 0
           },
           {
            "bin_start": 0.30000000000000004,
            "bin_end": 0.4,
            "count": 0
           },
           {
            "bin_start": 0.4,
            "bin_end": 0.5,
            "count": 0
           },
           {
            "bin_start": 0.5,
            "bin_end": 0.6000000000000001,
            "count": 0
           },
           {
            "bin_start": 0.6000000000000001,
            "bin_end": 0.7000000000000001,
            "count": 0
           },
           {
            "bin_start": 0.7000000000000001,
            "bin_end": 0.8,
            "count": 0
           },
           {
            "bin_start": 0.8,
            "bin_end": 0.9,
            "count": 0
           },
           {
            "bin_start": 0.9,
            "bin_end": 1,
            "count": 0
           }
          ]
         }
        },
        {
         "name": "Unnamed: 280",
         "dtype": "float64",
         "stats": {
          "unique_count": 0,
          "nan_count": 3,
          "min": null,
          "max": null,
          "histogram": [
           {
            "bin_start": 0,
            "bin_end": 0.1,
            "count": 0
           },
           {
            "bin_start": 0.1,
            "bin_end": 0.2,
            "count": 0
           },
           {
            "bin_start": 0.2,
            "bin_end": 0.30000000000000004,
            "count": 0
           },
           {
            "bin_start": 0.30000000000000004,
            "bin_end": 0.4,
            "count": 0
           },
           {
            "bin_start": 0.4,
            "bin_end": 0.5,
            "count": 0
           },
           {
            "bin_start": 0.5,
            "bin_end": 0.6000000000000001,
            "count": 0
           },
           {
            "bin_start": 0.6000000000000001,
            "bin_end": 0.7000000000000001,
            "count": 0
           },
           {
            "bin_start": 0.7000000000000001,
            "bin_end": 0.8,
            "count": 0
           },
           {
            "bin_start": 0.8,
            "bin_end": 0.9,
            "count": 0
           },
           {
            "bin_start": 0.9,
            "bin_end": 1,
            "count": 0
           }
          ]
         }
        },
        {
         "name": "Unnamed: 281",
         "dtype": "float64",
         "stats": {
          "unique_count": 0,
          "nan_count": 3,
          "min": null,
          "max": null,
          "histogram": [
           {
            "bin_start": 0,
            "bin_end": 0.1,
            "count": 0
           },
           {
            "bin_start": 0.1,
            "bin_end": 0.2,
            "count": 0
           },
           {
            "bin_start": 0.2,
            "bin_end": 0.30000000000000004,
            "count": 0
           },
           {
            "bin_start": 0.30000000000000004,
            "bin_end": 0.4,
            "count": 0
           },
           {
            "bin_start": 0.4,
            "bin_end": 0.5,
            "count": 0
           },
           {
            "bin_start": 0.5,
            "bin_end": 0.6000000000000001,
            "count": 0
           },
           {
            "bin_start": 0.6000000000000001,
            "bin_end": 0.7000000000000001,
            "count": 0
           },
           {
            "bin_start": 0.7000000000000001,
            "bin_end": 0.8,
            "count": 0
           },
           {
            "bin_start": 0.8,
            "bin_end": 0.9,
            "count": 0
           },
           {
            "bin_start": 0.9,
            "bin_end": 1,
            "count": 0
           }
          ]
         }
        },
        {
         "name": "Unnamed: 282",
         "dtype": "float64",
         "stats": {
          "unique_count": 0,
          "nan_count": 3,
          "min": null,
          "max": null,
          "histogram": [
           {
            "bin_start": 0,
            "bin_end": 0.1,
            "count": 0
           },
           {
            "bin_start": 0.1,
            "bin_end": 0.2,
            "count": 0
           },
           {
            "bin_start": 0.2,
            "bin_end": 0.30000000000000004,
            "count": 0
           },
           {
            "bin_start": 0.30000000000000004,
            "bin_end": 0.4,
            "count": 0
           },
           {
            "bin_start": 0.4,
            "bin_end": 0.5,
            "count": 0
           },
           {
            "bin_start": 0.5,
            "bin_end": 0.6000000000000001,
            "count": 0
           },
           {
            "bin_start": 0.6000000000000001,
            "bin_end": 0.7000000000000001,
            "count": 0
           },
           {
            "bin_start": 0.7000000000000001,
            "bin_end": 0.8,
            "count": 0
           },
           {
            "bin_start": 0.8,
            "bin_end": 0.9,
            "count": 0
           },
           {
            "bin_start": 0.9,
            "bin_end": 1,
            "count": 0
           }
          ]
         }
        },
        {
         "name": "Unnamed: 283",
         "dtype": "float64",
         "stats": {
          "unique_count": 0,
          "nan_count": 3,
          "min": null,
          "max": null,
          "histogram": [
           {
            "bin_start": 0,
            "bin_end": 0.1,
            "count": 0
           },
           {
            "bin_start": 0.1,
            "bin_end": 0.2,
            "count": 0
           },
           {
            "bin_start": 0.2,
            "bin_end": 0.30000000000000004,
            "count": 0
           },
           {
            "bin_start": 0.30000000000000004,
            "bin_end": 0.4,
            "count": 0
           },
           {
            "bin_start": 0.4,
            "bin_end": 0.5,
            "count": 0
           },
           {
            "bin_start": 0.5,
            "bin_end": 0.6000000000000001,
            "count": 0
           },
           {
            "bin_start": 0.6000000000000001,
            "bin_end": 0.7000000000000001,
            "count": 0
           },
           {
            "bin_start": 0.7000000000000001,
            "bin_end": 0.8,
            "count": 0
           },
           {
            "bin_start": 0.8,
            "bin_end": 0.9,
            "count": 0
           },
           {
            "bin_start": 0.9,
            "bin_end": 1,
            "count": 0
           }
          ]
         }
        },
        {
         "name": "Unnamed: 284",
         "dtype": "float64",
         "stats": {
          "unique_count": 0,
          "nan_count": 3,
          "min": null,
          "max": null,
          "histogram": [
           {
            "bin_start": 0,
            "bin_end": 0.1,
            "count": 0
           },
           {
            "bin_start": 0.1,
            "bin_end": 0.2,
            "count": 0
           },
           {
            "bin_start": 0.2,
            "bin_end": 0.30000000000000004,
            "count": 0
           },
           {
            "bin_start": 0.30000000000000004,
            "bin_end": 0.4,
            "count": 0
           },
           {
            "bin_start": 0.4,
            "bin_end": 0.5,
            "count": 0
           },
           {
            "bin_start": 0.5,
            "bin_end": 0.6000000000000001,
            "count": 0
           },
           {
            "bin_start": 0.6000000000000001,
            "bin_end": 0.7000000000000001,
            "count": 0
           },
           {
            "bin_start": 0.7000000000000001,
            "bin_end": 0.8,
            "count": 0
           },
           {
            "bin_start": 0.8,
            "bin_end": 0.9,
            "count": 0
           },
           {
            "bin_start": 0.9,
            "bin_end": 1,
            "count": 0
           }
          ]
         }
        },
        {
         "name": "Unnamed: 285",
         "dtype": "float64",
         "stats": {
          "unique_count": 0,
          "nan_count": 3,
          "min": null,
          "max": null,
          "histogram": [
           {
            "bin_start": 0,
            "bin_end": 0.1,
            "count": 0
           },
           {
            "bin_start": 0.1,
            "bin_end": 0.2,
            "count": 0
           },
           {
            "bin_start": 0.2,
            "bin_end": 0.30000000000000004,
            "count": 0
           },
           {
            "bin_start": 0.30000000000000004,
            "bin_end": 0.4,
            "count": 0
           },
           {
            "bin_start": 0.4,
            "bin_end": 0.5,
            "count": 0
           },
           {
            "bin_start": 0.5,
            "bin_end": 0.6000000000000001,
            "count": 0
           },
           {
            "bin_start": 0.6000000000000001,
            "bin_end": 0.7000000000000001,
            "count": 0
           },
           {
            "bin_start": 0.7000000000000001,
            "bin_end": 0.8,
            "count": 0
           },
           {
            "bin_start": 0.8,
            "bin_end": 0.9,
            "count": 0
           },
           {
            "bin_start": 0.9,
            "bin_end": 1,
            "count": 0
           }
          ]
         }
        },
        {
         "name": "Unnamed: 286",
         "dtype": "float64",
         "stats": {
          "unique_count": 0,
          "nan_count": 3,
          "min": null,
          "max": null,
          "histogram": [
           {
            "bin_start": 0,
            "bin_end": 0.1,
            "count": 0
           },
           {
            "bin_start": 0.1,
            "bin_end": 0.2,
            "count": 0
           },
           {
            "bin_start": 0.2,
            "bin_end": 0.30000000000000004,
            "count": 0
           },
           {
            "bin_start": 0.30000000000000004,
            "bin_end": 0.4,
            "count": 0
           },
           {
            "bin_start": 0.4,
            "bin_end": 0.5,
            "count": 0
           },
           {
            "bin_start": 0.5,
            "bin_end": 0.6000000000000001,
            "count": 0
           },
           {
            "bin_start": 0.6000000000000001,
            "bin_end": 0.7000000000000001,
            "count": 0
           },
           {
            "bin_start": 0.7000000000000001,
            "bin_end": 0.8,
            "count": 0
           },
           {
            "bin_start": 0.8,
            "bin_end": 0.9,
            "count": 0
           },
           {
            "bin_start": 0.9,
            "bin_end": 1,
            "count": 0
           }
          ]
         }
        },
        {
         "name": "Unnamed: 287",
         "dtype": "float64",
         "stats": {
          "unique_count": 0,
          "nan_count": 3,
          "min": null,
          "max": null,
          "histogram": [
           {
            "bin_start": 0,
            "bin_end": 0.1,
            "count": 0
           },
           {
            "bin_start": 0.1,
            "bin_end": 0.2,
            "count": 0
           },
           {
            "bin_start": 0.2,
            "bin_end": 0.30000000000000004,
            "count": 0
           },
           {
            "bin_start": 0.30000000000000004,
            "bin_end": 0.4,
            "count": 0
           },
           {
            "bin_start": 0.4,
            "bin_end": 0.5,
            "count": 0
           },
           {
            "bin_start": 0.5,
            "bin_end": 0.6000000000000001,
            "count": 0
           },
           {
            "bin_start": 0.6000000000000001,
            "bin_end": 0.7000000000000001,
            "count": 0
           },
           {
            "bin_start": 0.7000000000000001,
            "bin_end": 0.8,
            "count": 0
           },
           {
            "bin_start": 0.8,
            "bin_end": 0.9,
            "count": 0
           },
           {
            "bin_start": 0.9,
            "bin_end": 1,
            "count": 0
           }
          ]
         }
        },
        {
         "name": "Unnamed: 288",
         "dtype": "float64",
         "stats": {
          "unique_count": 0,
          "nan_count": 3,
          "min": null,
          "max": null,
          "histogram": [
           {
            "bin_start": 0,
            "bin_end": 0.1,
            "count": 0
           },
           {
            "bin_start": 0.1,
            "bin_end": 0.2,
            "count": 0
           },
           {
            "bin_start": 0.2,
            "bin_end": 0.30000000000000004,
            "count": 0
           },
           {
            "bin_start": 0.30000000000000004,
            "bin_end": 0.4,
            "count": 0
           },
           {
            "bin_start": 0.4,
            "bin_end": 0.5,
            "count": 0
           },
           {
            "bin_start": 0.5,
            "bin_end": 0.6000000000000001,
            "count": 0
           },
           {
            "bin_start": 0.6000000000000001,
            "bin_end": 0.7000000000000001,
            "count": 0
           },
           {
            "bin_start": 0.7000000000000001,
            "bin_end": 0.8,
            "count": 0
           },
           {
            "bin_start": 0.8,
            "bin_end": 0.9,
            "count": 0
           },
           {
            "bin_start": 0.9,
            "bin_end": 1,
            "count": 0
           }
          ]
         }
        },
        {
         "name": "Unnamed: 289",
         "dtype": "float64",
         "stats": {
          "unique_count": 0,
          "nan_count": 3,
          "min": null,
          "max": null,
          "histogram": [
           {
            "bin_start": 0,
            "bin_end": 0.1,
            "count": 0
           },
           {
            "bin_start": 0.1,
            "bin_end": 0.2,
            "count": 0
           },
           {
            "bin_start": 0.2,
            "bin_end": 0.30000000000000004,
            "count": 0
           },
           {
            "bin_start": 0.30000000000000004,
            "bin_end": 0.4,
            "count": 0
           },
           {
            "bin_start": 0.4,
            "bin_end": 0.5,
            "count": 0
           },
           {
            "bin_start": 0.5,
            "bin_end": 0.6000000000000001,
            "count": 0
           },
           {
            "bin_start": 0.6000000000000001,
            "bin_end": 0.7000000000000001,
            "count": 0
           },
           {
            "bin_start": 0.7000000000000001,
            "bin_end": 0.8,
            "count": 0
           },
           {
            "bin_start": 0.8,
            "bin_end": 0.9,
            "count": 0
           },
           {
            "bin_start": 0.9,
            "bin_end": 1,
            "count": 0
           }
          ]
         }
        },
        {
         "name": "Unnamed: 290",
         "dtype": "float64",
         "stats": {
          "unique_count": 0,
          "nan_count": 3,
          "min": null,
          "max": null,
          "histogram": [
           {
            "bin_start": 0,
            "bin_end": 0.1,
            "count": 0
           },
           {
            "bin_start": 0.1,
            "bin_end": 0.2,
            "count": 0
           },
           {
            "bin_start": 0.2,
            "bin_end": 0.30000000000000004,
            "count": 0
           },
           {
            "bin_start": 0.30000000000000004,
            "bin_end": 0.4,
            "count": 0
           },
           {
            "bin_start": 0.4,
            "bin_end": 0.5,
            "count": 0
           },
           {
            "bin_start": 0.5,
            "bin_end": 0.6000000000000001,
            "count": 0
           },
           {
            "bin_start": 0.6000000000000001,
            "bin_end": 0.7000000000000001,
            "count": 0
           },
           {
            "bin_start": 0.7000000000000001,
            "bin_end": 0.8,
            "count": 0
           },
           {
            "bin_start": 0.8,
            "bin_end": 0.9,
            "count": 0
           },
           {
            "bin_start": 0.9,
            "bin_end": 1,
            "count": 0
           }
          ]
         }
        },
        {
         "name": "Unnamed: 291",
         "dtype": "float64",
         "stats": {
          "unique_count": 0,
          "nan_count": 3,
          "min": null,
          "max": null,
          "histogram": [
           {
            "bin_start": 0,
            "bin_end": 0.1,
            "count": 0
           },
           {
            "bin_start": 0.1,
            "bin_end": 0.2,
            "count": 0
           },
           {
            "bin_start": 0.2,
            "bin_end": 0.30000000000000004,
            "count": 0
           },
           {
            "bin_start": 0.30000000000000004,
            "bin_end": 0.4,
            "count": 0
           },
           {
            "bin_start": 0.4,
            "bin_end": 0.5,
            "count": 0
           },
           {
            "bin_start": 0.5,
            "bin_end": 0.6000000000000001,
            "count": 0
           },
           {
            "bin_start": 0.6000000000000001,
            "bin_end": 0.7000000000000001,
            "count": 0
           },
           {
            "bin_start": 0.7000000000000001,
            "bin_end": 0.8,
            "count": 0
           },
           {
            "bin_start": 0.8,
            "bin_end": 0.9,
            "count": 0
           },
           {
            "bin_start": 0.9,
            "bin_end": 1,
            "count": 0
           }
          ]
         }
        },
        {
         "name": "Unnamed: 292",
         "dtype": "float64",
         "stats": {
          "unique_count": 0,
          "nan_count": 3,
          "min": null,
          "max": null,
          "histogram": [
           {
            "bin_start": 0,
            "bin_end": 0.1,
            "count": 0
           },
           {
            "bin_start": 0.1,
            "bin_end": 0.2,
            "count": 0
           },
           {
            "bin_start": 0.2,
            "bin_end": 0.30000000000000004,
            "count": 0
           },
           {
            "bin_start": 0.30000000000000004,
            "bin_end": 0.4,
            "count": 0
           },
           {
            "bin_start": 0.4,
            "bin_end": 0.5,
            "count": 0
           },
           {
            "bin_start": 0.5,
            "bin_end": 0.6000000000000001,
            "count": 0
           },
           {
            "bin_start": 0.6000000000000001,
            "bin_end": 0.7000000000000001,
            "count": 0
           },
           {
            "bin_start": 0.7000000000000001,
            "bin_end": 0.8,
            "count": 0
           },
           {
            "bin_start": 0.8,
            "bin_end": 0.9,
            "count": 0
           },
           {
            "bin_start": 0.9,
            "bin_end": 1,
            "count": 0
           }
          ]
         }
        },
        {
         "name": "Unnamed: 293",
         "dtype": "float64",
         "stats": {
          "unique_count": 0,
          "nan_count": 3,
          "min": null,
          "max": null,
          "histogram": [
           {
            "bin_start": 0,
            "bin_end": 0.1,
            "count": 0
           },
           {
            "bin_start": 0.1,
            "bin_end": 0.2,
            "count": 0
           },
           {
            "bin_start": 0.2,
            "bin_end": 0.30000000000000004,
            "count": 0
           },
           {
            "bin_start": 0.30000000000000004,
            "bin_end": 0.4,
            "count": 0
           },
           {
            "bin_start": 0.4,
            "bin_end": 0.5,
            "count": 0
           },
           {
            "bin_start": 0.5,
            "bin_end": 0.6000000000000001,
            "count": 0
           },
           {
            "bin_start": 0.6000000000000001,
            "bin_end": 0.7000000000000001,
            "count": 0
           },
           {
            "bin_start": 0.7000000000000001,
            "bin_end": 0.8,
            "count": 0
           },
           {
            "bin_start": 0.8,
            "bin_end": 0.9,
            "count": 0
           },
           {
            "bin_start": 0.9,
            "bin_end": 1,
            "count": 0
           }
          ]
         }
        },
        {
         "name": "Unnamed: 294",
         "dtype": "float64",
         "stats": {
          "unique_count": 0,
          "nan_count": 3,
          "min": null,
          "max": null,
          "histogram": [
           {
            "bin_start": 0,
            "bin_end": 0.1,
            "count": 0
           },
           {
            "bin_start": 0.1,
            "bin_end": 0.2,
            "count": 0
           },
           {
            "bin_start": 0.2,
            "bin_end": 0.30000000000000004,
            "count": 0
           },
           {
            "bin_start": 0.30000000000000004,
            "bin_end": 0.4,
            "count": 0
           },
           {
            "bin_start": 0.4,
            "bin_end": 0.5,
            "count": 0
           },
           {
            "bin_start": 0.5,
            "bin_end": 0.6000000000000001,
            "count": 0
           },
           {
            "bin_start": 0.6000000000000001,
            "bin_end": 0.7000000000000001,
            "count": 0
           },
           {
            "bin_start": 0.7000000000000001,
            "bin_end": 0.8,
            "count": 0
           },
           {
            "bin_start": 0.8,
            "bin_end": 0.9,
            "count": 0
           },
           {
            "bin_start": 0.9,
            "bin_end": 1,
            "count": 0
           }
          ]
         }
        },
        {
         "name": "Unnamed: 295",
         "dtype": "float64",
         "stats": {
          "unique_count": 0,
          "nan_count": 3,
          "min": null,
          "max": null,
          "histogram": [
           {
            "bin_start": 0,
            "bin_end": 0.1,
            "count": 0
           },
           {
            "bin_start": 0.1,
            "bin_end": 0.2,
            "count": 0
           },
           {
            "bin_start": 0.2,
            "bin_end": 0.30000000000000004,
            "count": 0
           },
           {
            "bin_start": 0.30000000000000004,
            "bin_end": 0.4,
            "count": 0
           },
           {
            "bin_start": 0.4,
            "bin_end": 0.5,
            "count": 0
           },
           {
            "bin_start": 0.5,
            "bin_end": 0.6000000000000001,
            "count": 0
           },
           {
            "bin_start": 0.6000000000000001,
            "bin_end": 0.7000000000000001,
            "count": 0
           },
           {
            "bin_start": 0.7000000000000001,
            "bin_end": 0.8,
            "count": 0
           },
           {
            "bin_start": 0.8,
            "bin_end": 0.9,
            "count": 0
           },
           {
            "bin_start": 0.9,
            "bin_end": 1,
            "count": 0
           }
          ]
         }
        },
        {
         "name": "Unnamed: 296",
         "dtype": "float64",
         "stats": {
          "unique_count": 0,
          "nan_count": 3,
          "min": null,
          "max": null,
          "histogram": [
           {
            "bin_start": 0,
            "bin_end": 0.1,
            "count": 0
           },
           {
            "bin_start": 0.1,
            "bin_end": 0.2,
            "count": 0
           },
           {
            "bin_start": 0.2,
            "bin_end": 0.30000000000000004,
            "count": 0
           },
           {
            "bin_start": 0.30000000000000004,
            "bin_end": 0.4,
            "count": 0
           },
           {
            "bin_start": 0.4,
            "bin_end": 0.5,
            "count": 0
           },
           {
            "bin_start": 0.5,
            "bin_end": 0.6000000000000001,
            "count": 0
           },
           {
            "bin_start": 0.6000000000000001,
            "bin_end": 0.7000000000000001,
            "count": 0
           },
           {
            "bin_start": 0.7000000000000001,
            "bin_end": 0.8,
            "count": 0
           },
           {
            "bin_start": 0.8,
            "bin_end": 0.9,
            "count": 0
           },
           {
            "bin_start": 0.9,
            "bin_end": 1,
            "count": 0
           }
          ]
         }
        },
        {
         "name": "Unnamed: 297",
         "dtype": "float64",
         "stats": {
          "unique_count": 0,
          "nan_count": 3,
          "min": null,
          "max": null,
          "histogram": [
           {
            "bin_start": 0,
            "bin_end": 0.1,
            "count": 0
           },
           {
            "bin_start": 0.1,
            "bin_end": 0.2,
            "count": 0
           },
           {
            "bin_start": 0.2,
            "bin_end": 0.30000000000000004,
            "count": 0
           },
           {
            "bin_start": 0.30000000000000004,
            "bin_end": 0.4,
            "count": 0
           },
           {
            "bin_start": 0.4,
            "bin_end": 0.5,
            "count": 0
           },
           {
            "bin_start": 0.5,
            "bin_end": 0.6000000000000001,
            "count": 0
           },
           {
            "bin_start": 0.6000000000000001,
            "bin_end": 0.7000000000000001,
            "count": 0
           },
           {
            "bin_start": 0.7000000000000001,
            "bin_end": 0.8,
            "count": 0
           },
           {
            "bin_start": 0.8,
            "bin_end": 0.9,
            "count": 0
           },
           {
            "bin_start": 0.9,
            "bin_end": 1,
            "count": 0
           }
          ]
         }
        },
        {
         "name": "Unnamed: 298",
         "dtype": "float64",
         "stats": {
          "unique_count": 0,
          "nan_count": 3,
          "min": null,
          "max": null,
          "histogram": [
           {
            "bin_start": 0,
            "bin_end": 0.1,
            "count": 0
           },
           {
            "bin_start": 0.1,
            "bin_end": 0.2,
            "count": 0
           },
           {
            "bin_start": 0.2,
            "bin_end": 0.30000000000000004,
            "count": 0
           },
           {
            "bin_start": 0.30000000000000004,
            "bin_end": 0.4,
            "count": 0
           },
           {
            "bin_start": 0.4,
            "bin_end": 0.5,
            "count": 0
           },
           {
            "bin_start": 0.5,
            "bin_end": 0.6000000000000001,
            "count": 0
           },
           {
            "bin_start": 0.6000000000000001,
            "bin_end": 0.7000000000000001,
            "count": 0
           },
           {
            "bin_start": 0.7000000000000001,
            "bin_end": 0.8,
            "count": 0
           },
           {
            "bin_start": 0.8,
            "bin_end": 0.9,
            "count": 0
           },
           {
            "bin_start": 0.9,
            "bin_end": 1,
            "count": 0
           }
          ]
         }
        },
        {
         "name": "Unnamed: 299",
         "dtype": "float64",
         "stats": {
          "unique_count": 0,
          "nan_count": 3,
          "min": null,
          "max": null,
          "histogram": [
           {
            "bin_start": 0,
            "bin_end": 0.1,
            "count": 0
           },
           {
            "bin_start": 0.1,
            "bin_end": 0.2,
            "count": 0
           },
           {
            "bin_start": 0.2,
            "bin_end": 0.30000000000000004,
            "count": 0
           },
           {
            "bin_start": 0.30000000000000004,
            "bin_end": 0.4,
            "count": 0
           },
           {
            "bin_start": 0.4,
            "bin_end": 0.5,
            "count": 0
           },
           {
            "bin_start": 0.5,
            "bin_end": 0.6000000000000001,
            "count": 0
           },
           {
            "bin_start": 0.6000000000000001,
            "bin_end": 0.7000000000000001,
            "count": 0
           },
           {
            "bin_start": 0.7000000000000001,
            "bin_end": 0.8,
            "count": 0
           },
           {
            "bin_start": 0.8,
            "bin_end": 0.9,
            "count": 0
           },
           {
            "bin_start": 0.9,
            "bin_end": 1,
            "count": 0
           }
          ]
         }
        },
        {
         "name": "Unnamed: 300",
         "dtype": "float64",
         "stats": {
          "unique_count": 0,
          "nan_count": 3,
          "min": null,
          "max": null,
          "histogram": [
           {
            "bin_start": 0,
            "bin_end": 0.1,
            "count": 0
           },
           {
            "bin_start": 0.1,
            "bin_end": 0.2,
            "count": 0
           },
           {
            "bin_start": 0.2,
            "bin_end": 0.30000000000000004,
            "count": 0
           },
           {
            "bin_start": 0.30000000000000004,
            "bin_end": 0.4,
            "count": 0
           },
           {
            "bin_start": 0.4,
            "bin_end": 0.5,
            "count": 0
           },
           {
            "bin_start": 0.5,
            "bin_end": 0.6000000000000001,
            "count": 0
           },
           {
            "bin_start": 0.6000000000000001,
            "bin_end": 0.7000000000000001,
            "count": 0
           },
           {
            "bin_start": 0.7000000000000001,
            "bin_end": 0.8,
            "count": 0
           },
           {
            "bin_start": 0.8,
            "bin_end": 0.9,
            "count": 0
           },
           {
            "bin_start": 0.9,
            "bin_end": 1,
            "count": 0
           }
          ]
         }
        },
        {
         "name": "Unnamed: 301",
         "dtype": "float64",
         "stats": {
          "unique_count": 0,
          "nan_count": 3,
          "min": null,
          "max": null,
          "histogram": [
           {
            "bin_start": 0,
            "bin_end": 0.1,
            "count": 0
           },
           {
            "bin_start": 0.1,
            "bin_end": 0.2,
            "count": 0
           },
           {
            "bin_start": 0.2,
            "bin_end": 0.30000000000000004,
            "count": 0
           },
           {
            "bin_start": 0.30000000000000004,
            "bin_end": 0.4,
            "count": 0
           },
           {
            "bin_start": 0.4,
            "bin_end": 0.5,
            "count": 0
           },
           {
            "bin_start": 0.5,
            "bin_end": 0.6000000000000001,
            "count": 0
           },
           {
            "bin_start": 0.6000000000000001,
            "bin_end": 0.7000000000000001,
            "count": 0
           },
           {
            "bin_start": 0.7000000000000001,
            "bin_end": 0.8,
            "count": 0
           },
           {
            "bin_start": 0.8,
            "bin_end": 0.9,
            "count": 0
           },
           {
            "bin_start": 0.9,
            "bin_end": 1,
            "count": 0
           }
          ]
         }
        },
        {
         "name": "Unnamed: 302",
         "dtype": "float64",
         "stats": {
          "unique_count": 0,
          "nan_count": 3,
          "min": null,
          "max": null,
          "histogram": [
           {
            "bin_start": 0,
            "bin_end": 0.1,
            "count": 0
           },
           {
            "bin_start": 0.1,
            "bin_end": 0.2,
            "count": 0
           },
           {
            "bin_start": 0.2,
            "bin_end": 0.30000000000000004,
            "count": 0
           },
           {
            "bin_start": 0.30000000000000004,
            "bin_end": 0.4,
            "count": 0
           },
           {
            "bin_start": 0.4,
            "bin_end": 0.5,
            "count": 0
           },
           {
            "bin_start": 0.5,
            "bin_end": 0.6000000000000001,
            "count": 0
           },
           {
            "bin_start": 0.6000000000000001,
            "bin_end": 0.7000000000000001,
            "count": 0
           },
           {
            "bin_start": 0.7000000000000001,
            "bin_end": 0.8,
            "count": 0
           },
           {
            "bin_start": 0.8,
            "bin_end": 0.9,
            "count": 0
           },
           {
            "bin_start": 0.9,
            "bin_end": 1,
            "count": 0
           }
          ]
         }
        },
        {
         "name": "Unnamed: 303",
         "dtype": "object",
         "stats": {
          "unique_count": 0,
          "nan_count": 3,
          "categories": [
           {
            "name": "Missing",
            "count": 3
           }
          ]
         }
        },
        {
         "name": "Unnamed: 304",
         "dtype": "object",
         "stats": {
          "unique_count": 0,
          "nan_count": 3,
          "categories": [
           {
            "name": "Missing",
            "count": 3
           }
          ]
         }
        },
        {
         "name": "Unnamed: 305",
         "dtype": "float64",
         "stats": {
          "unique_count": 0,
          "nan_count": 3,
          "min": null,
          "max": null,
          "histogram": [
           {
            "bin_start": 0,
            "bin_end": 0.1,
            "count": 0
           },
           {
            "bin_start": 0.1,
            "bin_end": 0.2,
            "count": 0
           },
           {
            "bin_start": 0.2,
            "bin_end": 0.30000000000000004,
            "count": 0
           },
           {
            "bin_start": 0.30000000000000004,
            "bin_end": 0.4,
            "count": 0
           },
           {
            "bin_start": 0.4,
            "bin_end": 0.5,
            "count": 0
           },
           {
            "bin_start": 0.5,
            "bin_end": 0.6000000000000001,
            "count": 0
           },
           {
            "bin_start": 0.6000000000000001,
            "bin_end": 0.7000000000000001,
            "count": 0
           },
           {
            "bin_start": 0.7000000000000001,
            "bin_end": 0.8,
            "count": 0
           },
           {
            "bin_start": 0.8,
            "bin_end": 0.9,
            "count": 0
           },
           {
            "bin_start": 0.9,
            "bin_end": 1,
            "count": 0
           }
          ]
         }
        },
        {
         "name": "Unnamed: 306",
         "dtype": "float64",
         "stats": {
          "unique_count": 0,
          "nan_count": 3,
          "min": null,
          "max": null,
          "histogram": [
           {
            "bin_start": 0,
            "bin_end": 0.1,
            "count": 0
           },
           {
            "bin_start": 0.1,
            "bin_end": 0.2,
            "count": 0
           },
           {
            "bin_start": 0.2,
            "bin_end": 0.30000000000000004,
            "count": 0
           },
           {
            "bin_start": 0.30000000000000004,
            "bin_end": 0.4,
            "count": 0
           },
           {
            "bin_start": 0.4,
            "bin_end": 0.5,
            "count": 0
           },
           {
            "bin_start": 0.5,
            "bin_end": 0.6000000000000001,
            "count": 0
           },
           {
            "bin_start": 0.6000000000000001,
            "bin_end": 0.7000000000000001,
            "count": 0
           },
           {
            "bin_start": 0.7000000000000001,
            "bin_end": 0.8,
            "count": 0
           },
           {
            "bin_start": 0.8,
            "bin_end": 0.9,
            "count": 0
           },
           {
            "bin_start": 0.9,
            "bin_end": 1,
            "count": 0
           }
          ]
         }
        },
        {
         "name": "Unnamed: 307",
         "dtype": "float64",
         "stats": {
          "unique_count": 0,
          "nan_count": 3,
          "min": null,
          "max": null,
          "histogram": [
           {
            "bin_start": 0,
            "bin_end": 0.1,
            "count": 0
           },
           {
            "bin_start": 0.1,
            "bin_end": 0.2,
            "count": 0
           },
           {
            "bin_start": 0.2,
            "bin_end": 0.30000000000000004,
            "count": 0
           },
           {
            "bin_start": 0.30000000000000004,
            "bin_end": 0.4,
            "count": 0
           },
           {
            "bin_start": 0.4,
            "bin_end": 0.5,
            "count": 0
           },
           {
            "bin_start": 0.5,
            "bin_end": 0.6000000000000001,
            "count": 0
           },
           {
            "bin_start": 0.6000000000000001,
            "bin_end": 0.7000000000000001,
            "count": 0
           },
           {
            "bin_start": 0.7000000000000001,
            "bin_end": 0.8,
            "count": 0
           },
           {
            "bin_start": 0.8,
            "bin_end": 0.9,
            "count": 0
           },
           {
            "bin_start": 0.9,
            "bin_end": 1,
            "count": 0
           }
          ]
         }
        },
        {
         "name": "Unnamed: 308",
         "dtype": "float64",
         "stats": {
          "unique_count": 0,
          "nan_count": 3,
          "min": null,
          "max": null,
          "histogram": [
           {
            "bin_start": 0,
            "bin_end": 0.1,
            "count": 0
           },
           {
            "bin_start": 0.1,
            "bin_end": 0.2,
            "count": 0
           },
           {
            "bin_start": 0.2,
            "bin_end": 0.30000000000000004,
            "count": 0
           },
           {
            "bin_start": 0.30000000000000004,
            "bin_end": 0.4,
            "count": 0
           },
           {
            "bin_start": 0.4,
            "bin_end": 0.5,
            "count": 0
           },
           {
            "bin_start": 0.5,
            "bin_end": 0.6000000000000001,
            "count": 0
           },
           {
            "bin_start": 0.6000000000000001,
            "bin_end": 0.7000000000000001,
            "count": 0
           },
           {
            "bin_start": 0.7000000000000001,
            "bin_end": 0.8,
            "count": 0
           },
           {
            "bin_start": 0.8,
            "bin_end": 0.9,
            "count": 0
           },
           {
            "bin_start": 0.9,
            "bin_end": 1,
            "count": 0
           }
          ]
         }
        },
        {
         "name": "Unnamed: 309",
         "dtype": "float64",
         "stats": {
          "unique_count": 0,
          "nan_count": 3,
          "min": null,
          "max": null,
          "histogram": [
           {
            "bin_start": 0,
            "bin_end": 0.1,
            "count": 0
           },
           {
            "bin_start": 0.1,
            "bin_end": 0.2,
            "count": 0
           },
           {
            "bin_start": 0.2,
            "bin_end": 0.30000000000000004,
            "count": 0
           },
           {
            "bin_start": 0.30000000000000004,
            "bin_end": 0.4,
            "count": 0
           },
           {
            "bin_start": 0.4,
            "bin_end": 0.5,
            "count": 0
           },
           {
            "bin_start": 0.5,
            "bin_end": 0.6000000000000001,
            "count": 0
           },
           {
            "bin_start": 0.6000000000000001,
            "bin_end": 0.7000000000000001,
            "count": 0
           },
           {
            "bin_start": 0.7000000000000001,
            "bin_end": 0.8,
            "count": 0
           },
           {
            "bin_start": 0.8,
            "bin_end": 0.9,
            "count": 0
           },
           {
            "bin_start": 0.9,
            "bin_end": 1,
            "count": 0
           }
          ]
         }
        },
        {
         "name": "Unnamed: 310",
         "dtype": "float64",
         "stats": {
          "unique_count": 0,
          "nan_count": 3,
          "min": null,
          "max": null,
          "histogram": [
           {
            "bin_start": 0,
            "bin_end": 0.1,
            "count": 0
           },
           {
            "bin_start": 0.1,
            "bin_end": 0.2,
            "count": 0
           },
           {
            "bin_start": 0.2,
            "bin_end": 0.30000000000000004,
            "count": 0
           },
           {
            "bin_start": 0.30000000000000004,
            "bin_end": 0.4,
            "count": 0
           },
           {
            "bin_start": 0.4,
            "bin_end": 0.5,
            "count": 0
           },
           {
            "bin_start": 0.5,
            "bin_end": 0.6000000000000001,
            "count": 0
           },
           {
            "bin_start": 0.6000000000000001,
            "bin_end": 0.7000000000000001,
            "count": 0
           },
           {
            "bin_start": 0.7000000000000001,
            "bin_end": 0.8,
            "count": 0
           },
           {
            "bin_start": 0.8,
            "bin_end": 0.9,
            "count": 0
           },
           {
            "bin_start": 0.9,
            "bin_end": 1,
            "count": 0
           }
          ]
         }
        },
        {
         "name": "Unnamed: 311",
         "dtype": "float64",
         "stats": {
          "unique_count": 0,
          "nan_count": 3,
          "min": null,
          "max": null,
          "histogram": [
           {
            "bin_start": 0,
            "bin_end": 0.1,
            "count": 0
           },
           {
            "bin_start": 0.1,
            "bin_end": 0.2,
            "count": 0
           },
           {
            "bin_start": 0.2,
            "bin_end": 0.30000000000000004,
            "count": 0
           },
           {
            "bin_start": 0.30000000000000004,
            "bin_end": 0.4,
            "count": 0
           },
           {
            "bin_start": 0.4,
            "bin_end": 0.5,
            "count": 0
           },
           {
            "bin_start": 0.5,
            "bin_end": 0.6000000000000001,
            "count": 0
           },
           {
            "bin_start": 0.6000000000000001,
            "bin_end": 0.7000000000000001,
            "count": 0
           },
           {
            "bin_start": 0.7000000000000001,
            "bin_end": 0.8,
            "count": 0
           },
           {
            "bin_start": 0.8,
            "bin_end": 0.9,
            "count": 0
           },
           {
            "bin_start": 0.9,
            "bin_end": 1,
            "count": 0
           }
          ]
         }
        },
        {
         "name": "Unnamed: 312",
         "dtype": "float64",
         "stats": {
          "unique_count": 0,
          "nan_count": 3,
          "min": null,
          "max": null,
          "histogram": [
           {
            "bin_start": 0,
            "bin_end": 0.1,
            "count": 0
           },
           {
            "bin_start": 0.1,
            "bin_end": 0.2,
            "count": 0
           },
           {
            "bin_start": 0.2,
            "bin_end": 0.30000000000000004,
            "count": 0
           },
           {
            "bin_start": 0.30000000000000004,
            "bin_end": 0.4,
            "count": 0
           },
           {
            "bin_start": 0.4,
            "bin_end": 0.5,
            "count": 0
           },
           {
            "bin_start": 0.5,
            "bin_end": 0.6000000000000001,
            "count": 0
           },
           {
            "bin_start": 0.6000000000000001,
            "bin_end": 0.7000000000000001,
            "count": 0
           },
           {
            "bin_start": 0.7000000000000001,
            "bin_end": 0.8,
            "count": 0
           },
           {
            "bin_start": 0.8,
            "bin_end": 0.9,
            "count": 0
           },
           {
            "bin_start": 0.9,
            "bin_end": 1,
            "count": 0
           }
          ]
         }
        },
        {
         "name": "Unnamed: 313",
         "dtype": "float64",
         "stats": {
          "unique_count": 0,
          "nan_count": 3,
          "min": null,
          "max": null,
          "histogram": [
           {
            "bin_start": 0,
            "bin_end": 0.1,
            "count": 0
           },
           {
            "bin_start": 0.1,
            "bin_end": 0.2,
            "count": 0
           },
           {
            "bin_start": 0.2,
            "bin_end": 0.30000000000000004,
            "count": 0
           },
           {
            "bin_start": 0.30000000000000004,
            "bin_end": 0.4,
            "count": 0
           },
           {
            "bin_start": 0.4,
            "bin_end": 0.5,
            "count": 0
           },
           {
            "bin_start": 0.5,
            "bin_end": 0.6000000000000001,
            "count": 0
           },
           {
            "bin_start": 0.6000000000000001,
            "bin_end": 0.7000000000000001,
            "count": 0
           },
           {
            "bin_start": 0.7000000000000001,
            "bin_end": 0.8,
            "count": 0
           },
           {
            "bin_start": 0.8,
            "bin_end": 0.9,
            "count": 0
           },
           {
            "bin_start": 0.9,
            "bin_end": 1,
            "count": 0
           }
          ]
         }
        },
        {
         "name": "Unnamed: 314",
         "dtype": "float64",
         "stats": {
          "unique_count": 0,
          "nan_count": 3,
          "min": null,
          "max": null,
          "histogram": [
           {
            "bin_start": 0,
            "bin_end": 0.1,
            "count": 0
           },
           {
            "bin_start": 0.1,
            "bin_end": 0.2,
            "count": 0
           },
           {
            "bin_start": 0.2,
            "bin_end": 0.30000000000000004,
            "count": 0
           },
           {
            "bin_start": 0.30000000000000004,
            "bin_end": 0.4,
            "count": 0
           },
           {
            "bin_start": 0.4,
            "bin_end": 0.5,
            "count": 0
           },
           {
            "bin_start": 0.5,
            "bin_end": 0.6000000000000001,
            "count": 0
           },
           {
            "bin_start": 0.6000000000000001,
            "bin_end": 0.7000000000000001,
            "count": 0
           },
           {
            "bin_start": 0.7000000000000001,
            "bin_end": 0.8,
            "count": 0
           },
           {
            "bin_start": 0.8,
            "bin_end": 0.9,
            "count": 0
           },
           {
            "bin_start": 0.9,
            "bin_end": 1,
            "count": 0
           }
          ]
         }
        },
        {
         "name": "Unnamed: 315",
         "dtype": "float64",
         "stats": {
          "unique_count": 0,
          "nan_count": 3,
          "min": null,
          "max": null,
          "histogram": [
           {
            "bin_start": 0,
            "bin_end": 0.1,
            "count": 0
           },
           {
            "bin_start": 0.1,
            "bin_end": 0.2,
            "count": 0
           },
           {
            "bin_start": 0.2,
            "bin_end": 0.30000000000000004,
            "count": 0
           },
           {
            "bin_start": 0.30000000000000004,
            "bin_end": 0.4,
            "count": 0
           },
           {
            "bin_start": 0.4,
            "bin_end": 0.5,
            "count": 0
           },
           {
            "bin_start": 0.5,
            "bin_end": 0.6000000000000001,
            "count": 0
           },
           {
            "bin_start": 0.6000000000000001,
            "bin_end": 0.7000000000000001,
            "count": 0
           },
           {
            "bin_start": 0.7000000000000001,
            "bin_end": 0.8,
            "count": 0
           },
           {
            "bin_start": 0.8,
            "bin_end": 0.9,
            "count": 0
           },
           {
            "bin_start": 0.9,
            "bin_end": 1,
            "count": 0
           }
          ]
         }
        },
        {
         "name": "Unnamed: 316",
         "dtype": "float64",
         "stats": {
          "unique_count": 0,
          "nan_count": 3,
          "min": null,
          "max": null,
          "histogram": [
           {
            "bin_start": 0,
            "bin_end": 0.1,
            "count": 0
           },
           {
            "bin_start": 0.1,
            "bin_end": 0.2,
            "count": 0
           },
           {
            "bin_start": 0.2,
            "bin_end": 0.30000000000000004,
            "count": 0
           },
           {
            "bin_start": 0.30000000000000004,
            "bin_end": 0.4,
            "count": 0
           },
           {
            "bin_start": 0.4,
            "bin_end": 0.5,
            "count": 0
           },
           {
            "bin_start": 0.5,
            "bin_end": 0.6000000000000001,
            "count": 0
           },
           {
            "bin_start": 0.6000000000000001,
            "bin_end": 0.7000000000000001,
            "count": 0
           },
           {
            "bin_start": 0.7000000000000001,
            "bin_end": 0.8,
            "count": 0
           },
           {
            "bin_start": 0.8,
            "bin_end": 0.9,
            "count": 0
           },
           {
            "bin_start": 0.9,
            "bin_end": 1,
            "count": 0
           }
          ]
         }
        },
        {
         "name": "Unnamed: 317",
         "dtype": "float64",
         "stats": {
          "unique_count": 0,
          "nan_count": 3,
          "min": null,
          "max": null,
          "histogram": [
           {
            "bin_start": 0,
            "bin_end": 0.1,
            "count": 0
           },
           {
            "bin_start": 0.1,
            "bin_end": 0.2,
            "count": 0
           },
           {
            "bin_start": 0.2,
            "bin_end": 0.30000000000000004,
            "count": 0
           },
           {
            "bin_start": 0.30000000000000004,
            "bin_end": 0.4,
            "count": 0
           },
           {
            "bin_start": 0.4,
            "bin_end": 0.5,
            "count": 0
           },
           {
            "bin_start": 0.5,
            "bin_end": 0.6000000000000001,
            "count": 0
           },
           {
            "bin_start": 0.6000000000000001,
            "bin_end": 0.7000000000000001,
            "count": 0
           },
           {
            "bin_start": 0.7000000000000001,
            "bin_end": 0.8,
            "count": 0
           },
           {
            "bin_start": 0.8,
            "bin_end": 0.9,
            "count": 0
           },
           {
            "bin_start": 0.9,
            "bin_end": 1,
            "count": 0
           }
          ]
         }
        },
        {
         "name": "Unnamed: 318",
         "dtype": "float64",
         "stats": {
          "unique_count": 0,
          "nan_count": 3,
          "min": null,
          "max": null,
          "histogram": [
           {
            "bin_start": 0,
            "bin_end": 0.1,
            "count": 0
           },
           {
            "bin_start": 0.1,
            "bin_end": 0.2,
            "count": 0
           },
           {
            "bin_start": 0.2,
            "bin_end": 0.30000000000000004,
            "count": 0
           },
           {
            "bin_start": 0.30000000000000004,
            "bin_end": 0.4,
            "count": 0
           },
           {
            "bin_start": 0.4,
            "bin_end": 0.5,
            "count": 0
           },
           {
            "bin_start": 0.5,
            "bin_end": 0.6000000000000001,
            "count": 0
           },
           {
            "bin_start": 0.6000000000000001,
            "bin_end": 0.7000000000000001,
            "count": 0
           },
           {
            "bin_start": 0.7000000000000001,
            "bin_end": 0.8,
            "count": 0
           },
           {
            "bin_start": 0.8,
            "bin_end": 0.9,
            "count": 0
           },
           {
            "bin_start": 0.9,
            "bin_end": 1,
            "count": 0
           }
          ]
         }
        },
        {
         "name": "Unnamed: 319",
         "dtype": "float64",
         "stats": {
          "unique_count": 0,
          "nan_count": 3,
          "min": null,
          "max": null,
          "histogram": [
           {
            "bin_start": 0,
            "bin_end": 0.1,
            "count": 0
           },
           {
            "bin_start": 0.1,
            "bin_end": 0.2,
            "count": 0
           },
           {
            "bin_start": 0.2,
            "bin_end": 0.30000000000000004,
            "count": 0
           },
           {
            "bin_start": 0.30000000000000004,
            "bin_end": 0.4,
            "count": 0
           },
           {
            "bin_start": 0.4,
            "bin_end": 0.5,
            "count": 0
           },
           {
            "bin_start": 0.5,
            "bin_end": 0.6000000000000001,
            "count": 0
           },
           {
            "bin_start": 0.6000000000000001,
            "bin_end": 0.7000000000000001,
            "count": 0
           },
           {
            "bin_start": 0.7000000000000001,
            "bin_end": 0.8,
            "count": 0
           },
           {
            "bin_start": 0.8,
            "bin_end": 0.9,
            "count": 0
           },
           {
            "bin_start": 0.9,
            "bin_end": 1,
            "count": 0
           }
          ]
         }
        },
        {
         "name": "Unnamed: 320",
         "dtype": "float64",
         "stats": {
          "unique_count": 0,
          "nan_count": 3,
          "min": null,
          "max": null,
          "histogram": [
           {
            "bin_start": 0,
            "bin_end": 0.1,
            "count": 0
           },
           {
            "bin_start": 0.1,
            "bin_end": 0.2,
            "count": 0
           },
           {
            "bin_start": 0.2,
            "bin_end": 0.30000000000000004,
            "count": 0
           },
           {
            "bin_start": 0.30000000000000004,
            "bin_end": 0.4,
            "count": 0
           },
           {
            "bin_start": 0.4,
            "bin_end": 0.5,
            "count": 0
           },
           {
            "bin_start": 0.5,
            "bin_end": 0.6000000000000001,
            "count": 0
           },
           {
            "bin_start": 0.6000000000000001,
            "bin_end": 0.7000000000000001,
            "count": 0
           },
           {
            "bin_start": 0.7000000000000001,
            "bin_end": 0.8,
            "count": 0
           },
           {
            "bin_start": 0.8,
            "bin_end": 0.9,
            "count": 0
           },
           {
            "bin_start": 0.9,
            "bin_end": 1,
            "count": 0
           }
          ]
         }
        },
        {
         "name": "Unnamed: 321",
         "dtype": "float64",
         "stats": {
          "unique_count": 0,
          "nan_count": 3,
          "min": null,
          "max": null,
          "histogram": [
           {
            "bin_start": 0,
            "bin_end": 0.1,
            "count": 0
           },
           {
            "bin_start": 0.1,
            "bin_end": 0.2,
            "count": 0
           },
           {
            "bin_start": 0.2,
            "bin_end": 0.30000000000000004,
            "count": 0
           },
           {
            "bin_start": 0.30000000000000004,
            "bin_end": 0.4,
            "count": 0
           },
           {
            "bin_start": 0.4,
            "bin_end": 0.5,
            "count": 0
           },
           {
            "bin_start": 0.5,
            "bin_end": 0.6000000000000001,
            "count": 0
           },
           {
            "bin_start": 0.6000000000000001,
            "bin_end": 0.7000000000000001,
            "count": 0
           },
           {
            "bin_start": 0.7000000000000001,
            "bin_end": 0.8,
            "count": 0
           },
           {
            "bin_start": 0.8,
            "bin_end": 0.9,
            "count": 0
           },
           {
            "bin_start": 0.9,
            "bin_end": 1,
            "count": 0
           }
          ]
         }
        },
        {
         "name": "Unnamed: 322",
         "dtype": "float64",
         "stats": {
          "unique_count": 0,
          "nan_count": 3,
          "min": null,
          "max": null,
          "histogram": [
           {
            "bin_start": 0,
            "bin_end": 0.1,
            "count": 0
           },
           {
            "bin_start": 0.1,
            "bin_end": 0.2,
            "count": 0
           },
           {
            "bin_start": 0.2,
            "bin_end": 0.30000000000000004,
            "count": 0
           },
           {
            "bin_start": 0.30000000000000004,
            "bin_end": 0.4,
            "count": 0
           },
           {
            "bin_start": 0.4,
            "bin_end": 0.5,
            "count": 0
           },
           {
            "bin_start": 0.5,
            "bin_end": 0.6000000000000001,
            "count": 0
           },
           {
            "bin_start": 0.6000000000000001,
            "bin_end": 0.7000000000000001,
            "count": 0
           },
           {
            "bin_start": 0.7000000000000001,
            "bin_end": 0.8,
            "count": 0
           },
           {
            "bin_start": 0.8,
            "bin_end": 0.9,
            "count": 0
           },
           {
            "bin_start": 0.9,
            "bin_end": 1,
            "count": 0
           }
          ]
         }
        },
        {
         "name": "Unnamed: 323",
         "dtype": "float64",
         "stats": {
          "unique_count": 0,
          "nan_count": 3,
          "min": null,
          "max": null,
          "histogram": [
           {
            "bin_start": 0,
            "bin_end": 0.1,
            "count": 0
           },
           {
            "bin_start": 0.1,
            "bin_end": 0.2,
            "count": 0
           },
           {
            "bin_start": 0.2,
            "bin_end": 0.30000000000000004,
            "count": 0
           },
           {
            "bin_start": 0.30000000000000004,
            "bin_end": 0.4,
            "count": 0
           },
           {
            "bin_start": 0.4,
            "bin_end": 0.5,
            "count": 0
           },
           {
            "bin_start": 0.5,
            "bin_end": 0.6000000000000001,
            "count": 0
           },
           {
            "bin_start": 0.6000000000000001,
            "bin_end": 0.7000000000000001,
            "count": 0
           },
           {
            "bin_start": 0.7000000000000001,
            "bin_end": 0.8,
            "count": 0
           },
           {
            "bin_start": 0.8,
            "bin_end": 0.9,
            "count": 0
           },
           {
            "bin_start": 0.9,
            "bin_end": 1,
            "count": 0
           }
          ]
         }
        },
        {
         "name": "Unnamed: 324",
         "dtype": "float64",
         "stats": {
          "unique_count": 0,
          "nan_count": 3,
          "min": null,
          "max": null,
          "histogram": [
           {
            "bin_start": 0,
            "bin_end": 0.1,
            "count": 0
           },
           {
            "bin_start": 0.1,
            "bin_end": 0.2,
            "count": 0
           },
           {
            "bin_start": 0.2,
            "bin_end": 0.30000000000000004,
            "count": 0
           },
           {
            "bin_start": 0.30000000000000004,
            "bin_end": 0.4,
            "count": 0
           },
           {
            "bin_start": 0.4,
            "bin_end": 0.5,
            "count": 0
           },
           {
            "bin_start": 0.5,
            "bin_end": 0.6000000000000001,
            "count": 0
           },
           {
            "bin_start": 0.6000000000000001,
            "bin_end": 0.7000000000000001,
            "count": 0
           },
           {
            "bin_start": 0.7000000000000001,
            "bin_end": 0.8,
            "count": 0
           },
           {
            "bin_start": 0.8,
            "bin_end": 0.9,
            "count": 0
           },
           {
            "bin_start": 0.9,
            "bin_end": 1,
            "count": 0
           }
          ]
         }
        },
        {
         "name": "Unnamed: 325",
         "dtype": "float64",
         "stats": {
          "unique_count": 0,
          "nan_count": 3,
          "min": null,
          "max": null,
          "histogram": [
           {
            "bin_start": 0,
            "bin_end": 0.1,
            "count": 0
           },
           {
            "bin_start": 0.1,
            "bin_end": 0.2,
            "count": 0
           },
           {
            "bin_start": 0.2,
            "bin_end": 0.30000000000000004,
            "count": 0
           },
           {
            "bin_start": 0.30000000000000004,
            "bin_end": 0.4,
            "count": 0
           },
           {
            "bin_start": 0.4,
            "bin_end": 0.5,
            "count": 0
           },
           {
            "bin_start": 0.5,
            "bin_end": 0.6000000000000001,
            "count": 0
           },
           {
            "bin_start": 0.6000000000000001,
            "bin_end": 0.7000000000000001,
            "count": 0
           },
           {
            "bin_start": 0.7000000000000001,
            "bin_end": 0.8,
            "count": 0
           },
           {
            "bin_start": 0.8,
            "bin_end": 0.9,
            "count": 0
           },
           {
            "bin_start": 0.9,
            "bin_end": 1,
            "count": 0
           }
          ]
         }
        },
        {
         "name": "Unnamed: 326",
         "dtype": "float64",
         "stats": {
          "unique_count": 0,
          "nan_count": 3,
          "min": null,
          "max": null,
          "histogram": [
           {
            "bin_start": 0,
            "bin_end": 0.1,
            "count": 0
           },
           {
            "bin_start": 0.1,
            "bin_end": 0.2,
            "count": 0
           },
           {
            "bin_start": 0.2,
            "bin_end": 0.30000000000000004,
            "count": 0
           },
           {
            "bin_start": 0.30000000000000004,
            "bin_end": 0.4,
            "count": 0
           },
           {
            "bin_start": 0.4,
            "bin_end": 0.5,
            "count": 0
           },
           {
            "bin_start": 0.5,
            "bin_end": 0.6000000000000001,
            "count": 0
           },
           {
            "bin_start": 0.6000000000000001,
            "bin_end": 0.7000000000000001,
            "count": 0
           },
           {
            "bin_start": 0.7000000000000001,
            "bin_end": 0.8,
            "count": 0
           },
           {
            "bin_start": 0.8,
            "bin_end": 0.9,
            "count": 0
           },
           {
            "bin_start": 0.9,
            "bin_end": 1,
            "count": 0
           }
          ]
         }
        },
        {
         "name": "Unnamed: 327",
         "dtype": "float64",
         "stats": {
          "unique_count": 0,
          "nan_count": 3,
          "min": null,
          "max": null,
          "histogram": [
           {
            "bin_start": 0,
            "bin_end": 0.1,
            "count": 0
           },
           {
            "bin_start": 0.1,
            "bin_end": 0.2,
            "count": 0
           },
           {
            "bin_start": 0.2,
            "bin_end": 0.30000000000000004,
            "count": 0
           },
           {
            "bin_start": 0.30000000000000004,
            "bin_end": 0.4,
            "count": 0
           },
           {
            "bin_start": 0.4,
            "bin_end": 0.5,
            "count": 0
           },
           {
            "bin_start": 0.5,
            "bin_end": 0.6000000000000001,
            "count": 0
           },
           {
            "bin_start": 0.6000000000000001,
            "bin_end": 0.7000000000000001,
            "count": 0
           },
           {
            "bin_start": 0.7000000000000001,
            "bin_end": 0.8,
            "count": 0
           },
           {
            "bin_start": 0.8,
            "bin_end": 0.9,
            "count": 0
           },
           {
            "bin_start": 0.9,
            "bin_end": 1,
            "count": 0
           }
          ]
         }
        },
        {
         "name": "Unnamed: 328",
         "dtype": "float64",
         "stats": {
          "unique_count": 0,
          "nan_count": 3,
          "min": null,
          "max": null,
          "histogram": [
           {
            "bin_start": 0,
            "bin_end": 0.1,
            "count": 0
           },
           {
            "bin_start": 0.1,
            "bin_end": 0.2,
            "count": 0
           },
           {
            "bin_start": 0.2,
            "bin_end": 0.30000000000000004,
            "count": 0
           },
           {
            "bin_start": 0.30000000000000004,
            "bin_end": 0.4,
            "count": 0
           },
           {
            "bin_start": 0.4,
            "bin_end": 0.5,
            "count": 0
           },
           {
            "bin_start": 0.5,
            "bin_end": 0.6000000000000001,
            "count": 0
           },
           {
            "bin_start": 0.6000000000000001,
            "bin_end": 0.7000000000000001,
            "count": 0
           },
           {
            "bin_start": 0.7000000000000001,
            "bin_end": 0.8,
            "count": 0
           },
           {
            "bin_start": 0.8,
            "bin_end": 0.9,
            "count": 0
           },
           {
            "bin_start": 0.9,
            "bin_end": 1,
            "count": 0
           }
          ]
         }
        },
        {
         "name": "Unnamed: 329",
         "dtype": "float64",
         "stats": {
          "unique_count": 0,
          "nan_count": 3,
          "min": null,
          "max": null,
          "histogram": [
           {
            "bin_start": 0,
            "bin_end": 0.1,
            "count": 0
           },
           {
            "bin_start": 0.1,
            "bin_end": 0.2,
            "count": 0
           },
           {
            "bin_start": 0.2,
            "bin_end": 0.30000000000000004,
            "count": 0
           },
           {
            "bin_start": 0.30000000000000004,
            "bin_end": 0.4,
            "count": 0
           },
           {
            "bin_start": 0.4,
            "bin_end": 0.5,
            "count": 0
           },
           {
            "bin_start": 0.5,
            "bin_end": 0.6000000000000001,
            "count": 0
           },
           {
            "bin_start": 0.6000000000000001,
            "bin_end": 0.7000000000000001,
            "count": 0
           },
           {
            "bin_start": 0.7000000000000001,
            "bin_end": 0.8,
            "count": 0
           },
           {
            "bin_start": 0.8,
            "bin_end": 0.9,
            "count": 0
           },
           {
            "bin_start": 0.9,
            "bin_end": 1,
            "count": 0
           }
          ]
         }
        },
        {
         "name": "Unnamed: 330",
         "dtype": "float64",
         "stats": {
          "unique_count": 0,
          "nan_count": 3,
          "min": null,
          "max": null,
          "histogram": [
           {
            "bin_start": 0,
            "bin_end": 0.1,
            "count": 0
           },
           {
            "bin_start": 0.1,
            "bin_end": 0.2,
            "count": 0
           },
           {
            "bin_start": 0.2,
            "bin_end": 0.30000000000000004,
            "count": 0
           },
           {
            "bin_start": 0.30000000000000004,
            "bin_end": 0.4,
            "count": 0
           },
           {
            "bin_start": 0.4,
            "bin_end": 0.5,
            "count": 0
           },
           {
            "bin_start": 0.5,
            "bin_end": 0.6000000000000001,
            "count": 0
           },
           {
            "bin_start": 0.6000000000000001,
            "bin_end": 0.7000000000000001,
            "count": 0
           },
           {
            "bin_start": 0.7000000000000001,
            "bin_end": 0.8,
            "count": 0
           },
           {
            "bin_start": 0.8,
            "bin_end": 0.9,
            "count": 0
           },
           {
            "bin_start": 0.9,
            "bin_end": 1,
            "count": 0
           }
          ]
         }
        },
        {
         "name": "Unnamed: 331",
         "dtype": "float64",
         "stats": {
          "unique_count": 0,
          "nan_count": 3,
          "min": null,
          "max": null,
          "histogram": [
           {
            "bin_start": 0,
            "bin_end": 0.1,
            "count": 0
           },
           {
            "bin_start": 0.1,
            "bin_end": 0.2,
            "count": 0
           },
           {
            "bin_start": 0.2,
            "bin_end": 0.30000000000000004,
            "count": 0
           },
           {
            "bin_start": 0.30000000000000004,
            "bin_end": 0.4,
            "count": 0
           },
           {
            "bin_start": 0.4,
            "bin_end": 0.5,
            "count": 0
           },
           {
            "bin_start": 0.5,
            "bin_end": 0.6000000000000001,
            "count": 0
           },
           {
            "bin_start": 0.6000000000000001,
            "bin_end": 0.7000000000000001,
            "count": 0
           },
           {
            "bin_start": 0.7000000000000001,
            "bin_end": 0.8,
            "count": 0
           },
           {
            "bin_start": 0.8,
            "bin_end": 0.9,
            "count": 0
           },
           {
            "bin_start": 0.9,
            "bin_end": 1,
            "count": 0
           }
          ]
         }
        },
        {
         "name": "Unnamed: 332",
         "dtype": "float64",
         "stats": {
          "unique_count": 0,
          "nan_count": 3,
          "min": null,
          "max": null,
          "histogram": [
           {
            "bin_start": 0,
            "bin_end": 0.1,
            "count": 0
           },
           {
            "bin_start": 0.1,
            "bin_end": 0.2,
            "count": 0
           },
           {
            "bin_start": 0.2,
            "bin_end": 0.30000000000000004,
            "count": 0
           },
           {
            "bin_start": 0.30000000000000004,
            "bin_end": 0.4,
            "count": 0
           },
           {
            "bin_start": 0.4,
            "bin_end": 0.5,
            "count": 0
           },
           {
            "bin_start": 0.5,
            "bin_end": 0.6000000000000001,
            "count": 0
           },
           {
            "bin_start": 0.6000000000000001,
            "bin_end": 0.7000000000000001,
            "count": 0
           },
           {
            "bin_start": 0.7000000000000001,
            "bin_end": 0.8,
            "count": 0
           },
           {
            "bin_start": 0.8,
            "bin_end": 0.9,
            "count": 0
           },
           {
            "bin_start": 0.9,
            "bin_end": 1,
            "count": 0
           }
          ]
         }
        },
        {
         "name": "Unnamed: 333",
         "dtype": "float64",
         "stats": {
          "unique_count": 0,
          "nan_count": 3,
          "min": null,
          "max": null,
          "histogram": [
           {
            "bin_start": 0,
            "bin_end": 0.1,
            "count": 0
           },
           {
            "bin_start": 0.1,
            "bin_end": 0.2,
            "count": 0
           },
           {
            "bin_start": 0.2,
            "bin_end": 0.30000000000000004,
            "count": 0
           },
           {
            "bin_start": 0.30000000000000004,
            "bin_end": 0.4,
            "count": 0
           },
           {
            "bin_start": 0.4,
            "bin_end": 0.5,
            "count": 0
           },
           {
            "bin_start": 0.5,
            "bin_end": 0.6000000000000001,
            "count": 0
           },
           {
            "bin_start": 0.6000000000000001,
            "bin_end": 0.7000000000000001,
            "count": 0
           },
           {
            "bin_start": 0.7000000000000001,
            "bin_end": 0.8,
            "count": 0
           },
           {
            "bin_start": 0.8,
            "bin_end": 0.9,
            "count": 0
           },
           {
            "bin_start": 0.9,
            "bin_end": 1,
            "count": 0
           }
          ]
         }
        },
        {
         "name": "Unnamed: 334",
         "dtype": "float64",
         "stats": {
          "unique_count": 0,
          "nan_count": 3,
          "min": null,
          "max": null,
          "histogram": [
           {
            "bin_start": 0,
            "bin_end": 0.1,
            "count": 0
           },
           {
            "bin_start": 0.1,
            "bin_end": 0.2,
            "count": 0
           },
           {
            "bin_start": 0.2,
            "bin_end": 0.30000000000000004,
            "count": 0
           },
           {
            "bin_start": 0.30000000000000004,
            "bin_end": 0.4,
            "count": 0
           },
           {
            "bin_start": 0.4,
            "bin_end": 0.5,
            "count": 0
           },
           {
            "bin_start": 0.5,
            "bin_end": 0.6000000000000001,
            "count": 0
           },
           {
            "bin_start": 0.6000000000000001,
            "bin_end": 0.7000000000000001,
            "count": 0
           },
           {
            "bin_start": 0.7000000000000001,
            "bin_end": 0.8,
            "count": 0
           },
           {
            "bin_start": 0.8,
            "bin_end": 0.9,
            "count": 0
           },
           {
            "bin_start": 0.9,
            "bin_end": 1,
            "count": 0
           }
          ]
         }
        },
        {
         "name": "Unnamed: 335",
         "dtype": "float64",
         "stats": {
          "unique_count": 0,
          "nan_count": 3,
          "min": null,
          "max": null,
          "histogram": [
           {
            "bin_start": 0,
            "bin_end": 0.1,
            "count": 0
           },
           {
            "bin_start": 0.1,
            "bin_end": 0.2,
            "count": 0
           },
           {
            "bin_start": 0.2,
            "bin_end": 0.30000000000000004,
            "count": 0
           },
           {
            "bin_start": 0.30000000000000004,
            "bin_end": 0.4,
            "count": 0
           },
           {
            "bin_start": 0.4,
            "bin_end": 0.5,
            "count": 0
           },
           {
            "bin_start": 0.5,
            "bin_end": 0.6000000000000001,
            "count": 0
           },
           {
            "bin_start": 0.6000000000000001,
            "bin_end": 0.7000000000000001,
            "count": 0
           },
           {
            "bin_start": 0.7000000000000001,
            "bin_end": 0.8,
            "count": 0
           },
           {
            "bin_start": 0.8,
            "bin_end": 0.9,
            "count": 0
           },
           {
            "bin_start": 0.9,
            "bin_end": 1,
            "count": 0
           }
          ]
         }
        },
        {
         "name": "Unnamed: 336",
         "dtype": "float64",
         "stats": {
          "unique_count": 0,
          "nan_count": 3,
          "min": null,
          "max": null,
          "histogram": [
           {
            "bin_start": 0,
            "bin_end": 0.1,
            "count": 0
           },
           {
            "bin_start": 0.1,
            "bin_end": 0.2,
            "count": 0
           },
           {
            "bin_start": 0.2,
            "bin_end": 0.30000000000000004,
            "count": 0
           },
           {
            "bin_start": 0.30000000000000004,
            "bin_end": 0.4,
            "count": 0
           },
           {
            "bin_start": 0.4,
            "bin_end": 0.5,
            "count": 0
           },
           {
            "bin_start": 0.5,
            "bin_end": 0.6000000000000001,
            "count": 0
           },
           {
            "bin_start": 0.6000000000000001,
            "bin_end": 0.7000000000000001,
            "count": 0
           },
           {
            "bin_start": 0.7000000000000001,
            "bin_end": 0.8,
            "count": 0
           },
           {
            "bin_start": 0.8,
            "bin_end": 0.9,
            "count": 0
           },
           {
            "bin_start": 0.9,
            "bin_end": 1,
            "count": 0
           }
          ]
         }
        },
        {
         "name": "Unnamed: 337",
         "dtype": "float64",
         "stats": {
          "unique_count": 0,
          "nan_count": 3,
          "min": null,
          "max": null,
          "histogram": [
           {
            "bin_start": 0,
            "bin_end": 0.1,
            "count": 0
           },
           {
            "bin_start": 0.1,
            "bin_end": 0.2,
            "count": 0
           },
           {
            "bin_start": 0.2,
            "bin_end": 0.30000000000000004,
            "count": 0
           },
           {
            "bin_start": 0.30000000000000004,
            "bin_end": 0.4,
            "count": 0
           },
           {
            "bin_start": 0.4,
            "bin_end": 0.5,
            "count": 0
           },
           {
            "bin_start": 0.5,
            "bin_end": 0.6000000000000001,
            "count": 0
           },
           {
            "bin_start": 0.6000000000000001,
            "bin_end": 0.7000000000000001,
            "count": 0
           },
           {
            "bin_start": 0.7000000000000001,
            "bin_end": 0.8,
            "count": 0
           },
           {
            "bin_start": 0.8,
            "bin_end": 0.9,
            "count": 0
           },
           {
            "bin_start": 0.9,
            "bin_end": 1,
            "count": 0
           }
          ]
         }
        },
        {
         "name": "Unnamed: 338",
         "dtype": "float64",
         "stats": {
          "unique_count": 0,
          "nan_count": 3,
          "min": null,
          "max": null,
          "histogram": [
           {
            "bin_start": 0,
            "bin_end": 0.1,
            "count": 0
           },
           {
            "bin_start": 0.1,
            "bin_end": 0.2,
            "count": 0
           },
           {
            "bin_start": 0.2,
            "bin_end": 0.30000000000000004,
            "count": 0
           },
           {
            "bin_start": 0.30000000000000004,
            "bin_end": 0.4,
            "count": 0
           },
           {
            "bin_start": 0.4,
            "bin_end": 0.5,
            "count": 0
           },
           {
            "bin_start": 0.5,
            "bin_end": 0.6000000000000001,
            "count": 0
           },
           {
            "bin_start": 0.6000000000000001,
            "bin_end": 0.7000000000000001,
            "count": 0
           },
           {
            "bin_start": 0.7000000000000001,
            "bin_end": 0.8,
            "count": 0
           },
           {
            "bin_start": 0.8,
            "bin_end": 0.9,
            "count": 0
           },
           {
            "bin_start": 0.9,
            "bin_end": 1,
            "count": 0
           }
          ]
         }
        },
        {
         "name": "Unnamed: 339",
         "dtype": "float64",
         "stats": {
          "unique_count": 0,
          "nan_count": 3,
          "min": null,
          "max": null,
          "histogram": [
           {
            "bin_start": 0,
            "bin_end": 0.1,
            "count": 0
           },
           {
            "bin_start": 0.1,
            "bin_end": 0.2,
            "count": 0
           },
           {
            "bin_start": 0.2,
            "bin_end": 0.30000000000000004,
            "count": 0
           },
           {
            "bin_start": 0.30000000000000004,
            "bin_end": 0.4,
            "count": 0
           },
           {
            "bin_start": 0.4,
            "bin_end": 0.5,
            "count": 0
           },
           {
            "bin_start": 0.5,
            "bin_end": 0.6000000000000001,
            "count": 0
           },
           {
            "bin_start": 0.6000000000000001,
            "bin_end": 0.7000000000000001,
            "count": 0
           },
           {
            "bin_start": 0.7000000000000001,
            "bin_end": 0.8,
            "count": 0
           },
           {
            "bin_start": 0.8,
            "bin_end": 0.9,
            "count": 0
           },
           {
            "bin_start": 0.9,
            "bin_end": 1,
            "count": 0
           }
          ]
         }
        },
        {
         "name": "Unnamed: 340",
         "dtype": "float64",
         "stats": {
          "unique_count": 0,
          "nan_count": 3,
          "min": null,
          "max": null,
          "histogram": [
           {
            "bin_start": 0,
            "bin_end": 0.1,
            "count": 0
           },
           {
            "bin_start": 0.1,
            "bin_end": 0.2,
            "count": 0
           },
           {
            "bin_start": 0.2,
            "bin_end": 0.30000000000000004,
            "count": 0
           },
           {
            "bin_start": 0.30000000000000004,
            "bin_end": 0.4,
            "count": 0
           },
           {
            "bin_start": 0.4,
            "bin_end": 0.5,
            "count": 0
           },
           {
            "bin_start": 0.5,
            "bin_end": 0.6000000000000001,
            "count": 0
           },
           {
            "bin_start": 0.6000000000000001,
            "bin_end": 0.7000000000000001,
            "count": 0
           },
           {
            "bin_start": 0.7000000000000001,
            "bin_end": 0.8,
            "count": 0
           },
           {
            "bin_start": 0.8,
            "bin_end": 0.9,
            "count": 0
           },
           {
            "bin_start": 0.9,
            "bin_end": 1,
            "count": 0
           }
          ]
         }
        },
        {
         "name": "Unnamed: 341",
         "dtype": "float64",
         "stats": {
          "unique_count": 0,
          "nan_count": 3,
          "min": null,
          "max": null,
          "histogram": [
           {
            "bin_start": 0,
            "bin_end": 0.1,
            "count": 0
           },
           {
            "bin_start": 0.1,
            "bin_end": 0.2,
            "count": 0
           },
           {
            "bin_start": 0.2,
            "bin_end": 0.30000000000000004,
            "count": 0
           },
           {
            "bin_start": 0.30000000000000004,
            "bin_end": 0.4,
            "count": 0
           },
           {
            "bin_start": 0.4,
            "bin_end": 0.5,
            "count": 0
           },
           {
            "bin_start": 0.5,
            "bin_end": 0.6000000000000001,
            "count": 0
           },
           {
            "bin_start": 0.6000000000000001,
            "bin_end": 0.7000000000000001,
            "count": 0
           },
           {
            "bin_start": 0.7000000000000001,
            "bin_end": 0.8,
            "count": 0
           },
           {
            "bin_start": 0.8,
            "bin_end": 0.9,
            "count": 0
           },
           {
            "bin_start": 0.9,
            "bin_end": 1,
            "count": 0
           }
          ]
         }
        },
        {
         "name": "Unnamed: 342",
         "dtype": "float64",
         "stats": {
          "unique_count": 0,
          "nan_count": 3,
          "min": null,
          "max": null,
          "histogram": [
           {
            "bin_start": 0,
            "bin_end": 0.1,
            "count": 0
           },
           {
            "bin_start": 0.1,
            "bin_end": 0.2,
            "count": 0
           },
           {
            "bin_start": 0.2,
            "bin_end": 0.30000000000000004,
            "count": 0
           },
           {
            "bin_start": 0.30000000000000004,
            "bin_end": 0.4,
            "count": 0
           },
           {
            "bin_start": 0.4,
            "bin_end": 0.5,
            "count": 0
           },
           {
            "bin_start": 0.5,
            "bin_end": 0.6000000000000001,
            "count": 0
           },
           {
            "bin_start": 0.6000000000000001,
            "bin_end": 0.7000000000000001,
            "count": 0
           },
           {
            "bin_start": 0.7000000000000001,
            "bin_end": 0.8,
            "count": 0
           },
           {
            "bin_start": 0.8,
            "bin_end": 0.9,
            "count": 0
           },
           {
            "bin_start": 0.9,
            "bin_end": 1,
            "count": 0
           }
          ]
         }
        },
        {
         "name": "Unnamed: 343",
         "dtype": "float64",
         "stats": {
          "unique_count": 0,
          "nan_count": 3,
          "min": null,
          "max": null,
          "histogram": [
           {
            "bin_start": 0,
            "bin_end": 0.1,
            "count": 0
           },
           {
            "bin_start": 0.1,
            "bin_end": 0.2,
            "count": 0
           },
           {
            "bin_start": 0.2,
            "bin_end": 0.30000000000000004,
            "count": 0
           },
           {
            "bin_start": 0.30000000000000004,
            "bin_end": 0.4,
            "count": 0
           },
           {
            "bin_start": 0.4,
            "bin_end": 0.5,
            "count": 0
           },
           {
            "bin_start": 0.5,
            "bin_end": 0.6000000000000001,
            "count": 0
           },
           {
            "bin_start": 0.6000000000000001,
            "bin_end": 0.7000000000000001,
            "count": 0
           },
           {
            "bin_start": 0.7000000000000001,
            "bin_end": 0.8,
            "count": 0
           },
           {
            "bin_start": 0.8,
            "bin_end": 0.9,
            "count": 0
           },
           {
            "bin_start": 0.9,
            "bin_end": 1,
            "count": 0
           }
          ]
         }
        },
        {
         "name": "Unnamed: 344",
         "dtype": "float64",
         "stats": {
          "unique_count": 0,
          "nan_count": 3,
          "min": null,
          "max": null,
          "histogram": [
           {
            "bin_start": 0,
            "bin_end": 0.1,
            "count": 0
           },
           {
            "bin_start": 0.1,
            "bin_end": 0.2,
            "count": 0
           },
           {
            "bin_start": 0.2,
            "bin_end": 0.30000000000000004,
            "count": 0
           },
           {
            "bin_start": 0.30000000000000004,
            "bin_end": 0.4,
            "count": 0
           },
           {
            "bin_start": 0.4,
            "bin_end": 0.5,
            "count": 0
           },
           {
            "bin_start": 0.5,
            "bin_end": 0.6000000000000001,
            "count": 0
           },
           {
            "bin_start": 0.6000000000000001,
            "bin_end": 0.7000000000000001,
            "count": 0
           },
           {
            "bin_start": 0.7000000000000001,
            "bin_end": 0.8,
            "count": 0
           },
           {
            "bin_start": 0.8,
            "bin_end": 0.9,
            "count": 0
           },
           {
            "bin_start": 0.9,
            "bin_end": 1,
            "count": 0
           }
          ]
         }
        },
        {
         "name": "Unnamed: 345",
         "dtype": "float64",
         "stats": {
          "unique_count": 0,
          "nan_count": 3,
          "min": null,
          "max": null,
          "histogram": [
           {
            "bin_start": 0,
            "bin_end": 0.1,
            "count": 0
           },
           {
            "bin_start": 0.1,
            "bin_end": 0.2,
            "count": 0
           },
           {
            "bin_start": 0.2,
            "bin_end": 0.30000000000000004,
            "count": 0
           },
           {
            "bin_start": 0.30000000000000004,
            "bin_end": 0.4,
            "count": 0
           },
           {
            "bin_start": 0.4,
            "bin_end": 0.5,
            "count": 0
           },
           {
            "bin_start": 0.5,
            "bin_end": 0.6000000000000001,
            "count": 0
           },
           {
            "bin_start": 0.6000000000000001,
            "bin_end": 0.7000000000000001,
            "count": 0
           },
           {
            "bin_start": 0.7000000000000001,
            "bin_end": 0.8,
            "count": 0
           },
           {
            "bin_start": 0.8,
            "bin_end": 0.9,
            "count": 0
           },
           {
            "bin_start": 0.9,
            "bin_end": 1,
            "count": 0
           }
          ]
         }
        },
        {
         "name": "Unnamed: 346",
         "dtype": "float64",
         "stats": {
          "unique_count": 0,
          "nan_count": 3,
          "min": null,
          "max": null,
          "histogram": [
           {
            "bin_start": 0,
            "bin_end": 0.1,
            "count": 0
           },
           {
            "bin_start": 0.1,
            "bin_end": 0.2,
            "count": 0
           },
           {
            "bin_start": 0.2,
            "bin_end": 0.30000000000000004,
            "count": 0
           },
           {
            "bin_start": 0.30000000000000004,
            "bin_end": 0.4,
            "count": 0
           },
           {
            "bin_start": 0.4,
            "bin_end": 0.5,
            "count": 0
           },
           {
            "bin_start": 0.5,
            "bin_end": 0.6000000000000001,
            "count": 0
           },
           {
            "bin_start": 0.6000000000000001,
            "bin_end": 0.7000000000000001,
            "count": 0
           },
           {
            "bin_start": 0.7000000000000001,
            "bin_end": 0.8,
            "count": 0
           },
           {
            "bin_start": 0.8,
            "bin_end": 0.9,
            "count": 0
           },
           {
            "bin_start": 0.9,
            "bin_end": 1,
            "count": 0
           }
          ]
         }
        },
        {
         "name": "Unnamed: 347",
         "dtype": "float64",
         "stats": {
          "unique_count": 0,
          "nan_count": 3,
          "min": null,
          "max": null,
          "histogram": [
           {
            "bin_start": 0,
            "bin_end": 0.1,
            "count": 0
           },
           {
            "bin_start": 0.1,
            "bin_end": 0.2,
            "count": 0
           },
           {
            "bin_start": 0.2,
            "bin_end": 0.30000000000000004,
            "count": 0
           },
           {
            "bin_start": 0.30000000000000004,
            "bin_end": 0.4,
            "count": 0
           },
           {
            "bin_start": 0.4,
            "bin_end": 0.5,
            "count": 0
           },
           {
            "bin_start": 0.5,
            "bin_end": 0.6000000000000001,
            "count": 0
           },
           {
            "bin_start": 0.6000000000000001,
            "bin_end": 0.7000000000000001,
            "count": 0
           },
           {
            "bin_start": 0.7000000000000001,
            "bin_end": 0.8,
            "count": 0
           },
           {
            "bin_start": 0.8,
            "bin_end": 0.9,
            "count": 0
           },
           {
            "bin_start": 0.9,
            "bin_end": 1,
            "count": 0
           }
          ]
         }
        },
        {
         "name": "Unnamed: 348",
         "dtype": "float64",
         "stats": {
          "unique_count": 0,
          "nan_count": 3,
          "min": null,
          "max": null,
          "histogram": [
           {
            "bin_start": 0,
            "bin_end": 0.1,
            "count": 0
           },
           {
            "bin_start": 0.1,
            "bin_end": 0.2,
            "count": 0
           },
           {
            "bin_start": 0.2,
            "bin_end": 0.30000000000000004,
            "count": 0
           },
           {
            "bin_start": 0.30000000000000004,
            "bin_end": 0.4,
            "count": 0
           },
           {
            "bin_start": 0.4,
            "bin_end": 0.5,
            "count": 0
           },
           {
            "bin_start": 0.5,
            "bin_end": 0.6000000000000001,
            "count": 0
           },
           {
            "bin_start": 0.6000000000000001,
            "bin_end": 0.7000000000000001,
            "count": 0
           },
           {
            "bin_start": 0.7000000000000001,
            "bin_end": 0.8,
            "count": 0
           },
           {
            "bin_start": 0.8,
            "bin_end": 0.9,
            "count": 0
           },
           {
            "bin_start": 0.9,
            "bin_end": 1,
            "count": 0
           }
          ]
         }
        },
        {
         "name": "Unnamed: 349",
         "dtype": "float64",
         "stats": {
          "unique_count": 0,
          "nan_count": 3,
          "min": null,
          "max": null,
          "histogram": [
           {
            "bin_start": 0,
            "bin_end": 0.1,
            "count": 0
           },
           {
            "bin_start": 0.1,
            "bin_end": 0.2,
            "count": 0
           },
           {
            "bin_start": 0.2,
            "bin_end": 0.30000000000000004,
            "count": 0
           },
           {
            "bin_start": 0.30000000000000004,
            "bin_end": 0.4,
            "count": 0
           },
           {
            "bin_start": 0.4,
            "bin_end": 0.5,
            "count": 0
           },
           {
            "bin_start": 0.5,
            "bin_end": 0.6000000000000001,
            "count": 0
           },
           {
            "bin_start": 0.6000000000000001,
            "bin_end": 0.7000000000000001,
            "count": 0
           },
           {
            "bin_start": 0.7000000000000001,
            "bin_end": 0.8,
            "count": 0
           },
           {
            "bin_start": 0.8,
            "bin_end": 0.9,
            "count": 0
           },
           {
            "bin_start": 0.9,
            "bin_end": 1,
            "count": 0
           }
          ]
         }
        },
        {
         "name": "Unnamed: 350",
         "dtype": "float64",
         "stats": {
          "unique_count": 0,
          "nan_count": 3,
          "min": null,
          "max": null,
          "histogram": [
           {
            "bin_start": 0,
            "bin_end": 0.1,
            "count": 0
           },
           {
            "bin_start": 0.1,
            "bin_end": 0.2,
            "count": 0
           },
           {
            "bin_start": 0.2,
            "bin_end": 0.30000000000000004,
            "count": 0
           },
           {
            "bin_start": 0.30000000000000004,
            "bin_end": 0.4,
            "count": 0
           },
           {
            "bin_start": 0.4,
            "bin_end": 0.5,
            "count": 0
           },
           {
            "bin_start": 0.5,
            "bin_end": 0.6000000000000001,
            "count": 0
           },
           {
            "bin_start": 0.6000000000000001,
            "bin_end": 0.7000000000000001,
            "count": 0
           },
           {
            "bin_start": 0.7000000000000001,
            "bin_end": 0.8,
            "count": 0
           },
           {
            "bin_start": 0.8,
            "bin_end": 0.9,
            "count": 0
           },
           {
            "bin_start": 0.9,
            "bin_end": 1,
            "count": 0
           }
          ]
         }
        },
        {
         "name": "Unnamed: 351",
         "dtype": "float64",
         "stats": {
          "unique_count": 0,
          "nan_count": 3,
          "min": null,
          "max": null,
          "histogram": [
           {
            "bin_start": 0,
            "bin_end": 0.1,
            "count": 0
           },
           {
            "bin_start": 0.1,
            "bin_end": 0.2,
            "count": 0
           },
           {
            "bin_start": 0.2,
            "bin_end": 0.30000000000000004,
            "count": 0
           },
           {
            "bin_start": 0.30000000000000004,
            "bin_end": 0.4,
            "count": 0
           },
           {
            "bin_start": 0.4,
            "bin_end": 0.5,
            "count": 0
           },
           {
            "bin_start": 0.5,
            "bin_end": 0.6000000000000001,
            "count": 0
           },
           {
            "bin_start": 0.6000000000000001,
            "bin_end": 0.7000000000000001,
            "count": 0
           },
           {
            "bin_start": 0.7000000000000001,
            "bin_end": 0.8,
            "count": 0
           },
           {
            "bin_start": 0.8,
            "bin_end": 0.9,
            "count": 0
           },
           {
            "bin_start": 0.9,
            "bin_end": 1,
            "count": 0
           }
          ]
         }
        },
        {
         "name": "Unnamed: 352",
         "dtype": "float64",
         "stats": {
          "unique_count": 0,
          "nan_count": 3,
          "min": null,
          "max": null,
          "histogram": [
           {
            "bin_start": 0,
            "bin_end": 0.1,
            "count": 0
           },
           {
            "bin_start": 0.1,
            "bin_end": 0.2,
            "count": 0
           },
           {
            "bin_start": 0.2,
            "bin_end": 0.30000000000000004,
            "count": 0
           },
           {
            "bin_start": 0.30000000000000004,
            "bin_end": 0.4,
            "count": 0
           },
           {
            "bin_start": 0.4,
            "bin_end": 0.5,
            "count": 0
           },
           {
            "bin_start": 0.5,
            "bin_end": 0.6000000000000001,
            "count": 0
           },
           {
            "bin_start": 0.6000000000000001,
            "bin_end": 0.7000000000000001,
            "count": 0
           },
           {
            "bin_start": 0.7000000000000001,
            "bin_end": 0.8,
            "count": 0
           },
           {
            "bin_start": 0.8,
            "bin_end": 0.9,
            "count": 0
           },
           {
            "bin_start": 0.9,
            "bin_end": 1,
            "count": 0
           }
          ]
         }
        },
        {
         "name": "_deepnote_index_column",
         "dtype": "int64"
        }
       ],
       "rows_top": [
        {
         "FID": "c2hgis_county.fid--3df29475_17a3fe20314_5ad2",
         "geography_type": "county",
         "geography_id": "21109",
         "geography_desc": "Jackson County",
         "submission_cycle": "2015-09",
         "geom": "MULTIPOLYGON (((-84.205306 37.503062, -84.199489 37.522858, -84.171836 37.557549, -84.142063 37.564…",
         "centroid": "POINT (-84.00617164501776 37.41979135091643)",
         "res_concxns_pct": "3",
         "pctpopwbbacc": "99.6",
         "pctpopwobbacc": "0.4",
         "pctds0_hi": "0",
         "pctdsgt0kandlt1000k_hi": "0",
         "pctdsgt1000kandlt3000k_hi": "0",
         "pctdsgt3000kandlt4000k_hi": "0",
         "pctdsgt4000kandlt6000k_hi": "0",
         "pctdsgt6000kandlt10000k_hi": "0",
         "pctdsgt10000kandlt15000k_hi": "0",
         "pctdsgt15000kandlt25000k_hi": "0.4",
         "pctdsgt25000kandlt50000k_hi": "0",
         "pctdsgt50000kandlt100000k_hi": "0",
         "pctdsgt100000kandlt1gig_hi": "0",
         "pctdsgt1gig_hi": "99.6",
         "pctus0_hi": "0",
         "pctusgt0kandlt1000k_hi": "0",
         "pctusgt1000kandlt3000k_hi": "0",
         "pctusgt3000kandlt4000k_hi": "0.2",
         "pctusgt4000kandlt6000k_hi": "0.2",
         "pctusgt6000kandlt10000k_hi": "0",
         "pctusgt10000kandlt15000k_hi": "0",
         "pctusgt15000kandlt25000k_hi": "0",
         "pctusgt25000kandlt50000k_hi": "0",
         "pctusgt50000kandlt100000k_hi": "0",
         "pctusgt100000kandlt1gig_hi": "0",
         "pctusgt1gig_hi": "99.6",
         "mcds_prop": "99.6",
         "mcds_tier": "pctDSGt1Gig_hi_c",
         "mcus_prop": "99.6",
         "mcus_tier": "pctUSGt1Gig_hi_c",
         "provcount_b": "6",
         "provcount_c": "6",
         "cumm_prov_c_0": "0",
         "cumm_prov_c_1": "0",
         "cumm_prov_c_2": "0",
         "cumm_prov_c_3": "0",
         "cumm_prov_c_4": "96.5",
         "cumm_prov_c_5": "97.4",
         "cumm_prov_c_6": "100",
         "cumm_prov_c_7": "100",
         "cumm_prov_c_8": "100",
         "cumm_prov_c_50th": "4",
         "dsgteq25": "99.6",
         "usgteq3": "100",
         "hcf_comm_13": "0",
         "hcf_comm_14": "0",
         "hcf_comm_15": "0",
         "tc_comm_12": "0",
         "tc_comm_13": "0",
         "tc_comm_14": "0",
         "tc_comm_15": "0",
         "hcf_comm_13_15": "0",
         "tc_comm_13_15": "0",
         "bpr_ruralpctwaccess": "100",
         "povpct": "26.8",
         "medianhhinc": "29090",
         "ers_pers_pov": "1",
         "ers_pers_rel_child_pov": "1",
         "nchs_rural": "1",
         "nchs_urbanruralcode": "6",
         "omb_rural": "1",
         "rucc_2013": "9",
         "rucc_metrononmetro": "1",
         "usac_rural": "Rural",
         "usac_rural_cat": "Rural",
         "telehealth_beneficiary_total": "nan",
         "pop_2014": "13289",
         "pop_density": "38.22741408",
         "age_less_than_18_total": "3003",
         "age_less_than_18_pct": "22.6",
         "age_18_to_65_total": "8292",
         "age_18_to_65_pct": "62.4",
         "age_over_65_total": "1994",
         "age_over_65_pct": "15",
         "female_total": "6679",
         "female_pct": "50.3",
         "male_total": "6610",
         "male_pct": "49.7",
         "rural_total": "13289",
         "rural_pct": "100",
         "urban_total": "0",
         "urban_pct": "0",
         "high_school": "87",
         "some_college": "38.5",
         "unemployment": "15",
         "pcp_total": "1",
         "pcp_per_capita": "0.00007525",
         "dentist_total": "6",
         "dentist_per_capita": "0.0004515",
         "mhp_total": "1",
         "mhp_per_capita": "0.00007525",
         "poor_fair_health_total": "4505",
         "poor_fair_health_pct": "33.9",
         "adult_obesity_total": "5169",
         "adult_obesity_pct": "38.9",
         "diabetes_pct": "11.9",
         "smoking_pct": "33.9",
         "drinking_pct": "nan",
         "hiv_per_100000": "42.2",
         "years_lost_per_100000": "13519",
         "injury_deaths_per_100000": "84.6",
         "preventable_hospital_stays_per_1000": "90.48",
         "car_death_total": "35",
         "car_death_pct": "0.26337572",
         "poor_physical_health_days_within_last_30_days": "7.4",
         "long_commute_driving_alone": "46",
         "driving_alone_to_work": "74.2",
         "severe_housing_problems": "17.6",
         "physical_inactivity": "32.3",
         "food_insecurity": "21",
         "limited_access_to_healthy_foods": "0",
         "dl_tiers": "10",
         "ul_tiers": "10",
         "Unnamed: 121": "nan",
         "Unnamed: 122": "nan",
         "Unnamed: 123": "nan",
         "Unnamed: 124": "nan",
         "Unnamed: 125": "nan",
         "Unnamed: 126": "nan",
         "Unnamed: 127": "nan",
         "Unnamed: 128": "nan",
         "Unnamed: 129": "nan",
         "Unnamed: 130": "nan",
         "Unnamed: 131": "nan",
         "Unnamed: 132": "nan",
         "Unnamed: 133": "nan",
         "Unnamed: 134": "nan",
         "Unnamed: 135": "nan",
         "Unnamed: 136": "nan",
         "Unnamed: 137": "nan",
         "Unnamed: 138": "nan",
         "Unnamed: 139": "nan",
         "Unnamed: 140": "nan",
         "Unnamed: 141": "nan",
         "Unnamed: 142": "nan",
         "Unnamed: 143": "nan",
         "Unnamed: 144": "nan",
         "Unnamed: 145": "nan",
         "Unnamed: 146": "nan",
         "Unnamed: 147": "nan",
         "Unnamed: 148": "nan",
         "Unnamed: 149": "nan",
         "Unnamed: 150": "nan",
         "Unnamed: 151": "nan",
         "Unnamed: 152": "nan",
         "Unnamed: 153": "nan",
         "Unnamed: 154": "nan",
         "Unnamed: 155": "nan",
         "Unnamed: 156": "nan",
         "Unnamed: 157": "nan",
         "Unnamed: 158": "nan",
         "Unnamed: 159": "nan",
         "Unnamed: 160": "nan",
         "Unnamed: 161": "nan",
         "Unnamed: 162": "nan",
         "Unnamed: 163": "nan",
         "Unnamed: 164": "nan",
         "Unnamed: 165": "nan",
         "Unnamed: 166": "nan",
         "Unnamed: 167": "nan",
         "Unnamed: 168": "nan",
         "Unnamed: 169": "nan",
         "Unnamed: 170": "nan",
         "Unnamed: 171": "nan",
         "Unnamed: 172": "nan",
         "Unnamed: 173": "nan",
         "Unnamed: 174": "nan",
         "Unnamed: 175": "nan",
         "Unnamed: 176": "nan",
         "Unnamed: 177": "nan",
         "Unnamed: 178": "nan",
         "Unnamed: 179": "nan",
         "Unnamed: 180": "nan",
         "Unnamed: 181": "nan",
         "Unnamed: 182": "nan",
         "Unnamed: 183": "nan",
         "Unnamed: 184": "nan",
         "Unnamed: 185": "nan",
         "Unnamed: 186": "nan",
         "Unnamed: 187": "nan",
         "Unnamed: 188": "nan",
         "Unnamed: 189": "nan",
         "Unnamed: 190": "nan",
         "Unnamed: 191": "nan",
         "Unnamed: 192": "nan",
         "Unnamed: 193": "nan",
         "Unnamed: 194": "nan",
         "Unnamed: 195": "nan",
         "Unnamed: 196": "nan",
         "Unnamed: 197": "nan",
         "Unnamed: 198": "nan",
         "Unnamed: 199": "nan",
         "Unnamed: 200": "nan",
         "Unnamed: 201": "nan",
         "Unnamed: 202": "nan",
         "Unnamed: 203": "nan",
         "Unnamed: 204": "nan",
         "Unnamed: 205": "nan",
         "Unnamed: 206": "nan",
         "Unnamed: 207": "nan",
         "Unnamed: 208": "nan",
         "Unnamed: 209": "nan",
         "Unnamed: 210": "nan",
         "Unnamed: 211": "nan",
         "Unnamed: 212": "nan",
         "Unnamed: 213": "nan",
         "Unnamed: 214": "nan",
         "Unnamed: 215": "nan",
         "Unnamed: 216": "nan",
         "Unnamed: 217": "nan",
         "Unnamed: 218": "nan",
         "Unnamed: 219": "nan",
         "Unnamed: 220": "nan",
         "Unnamed: 221": "nan",
         "Unnamed: 222": "nan",
         "Unnamed: 223": "nan",
         "Unnamed: 224": "nan",
         "Unnamed: 225": "nan",
         "Unnamed: 226": "nan",
         "Unnamed: 227": "nan",
         "Unnamed: 228": "nan",
         "Unnamed: 229": "nan",
         "Unnamed: 230": "nan",
         "Unnamed: 231": "nan",
         "Unnamed: 232": "nan",
         "Unnamed: 233": "nan",
         "Unnamed: 234": "nan",
         "Unnamed: 235": "nan",
         "Unnamed: 236": "nan",
         "Unnamed: 237": "nan",
         "Unnamed: 238": "nan",
         "Unnamed: 239": "nan",
         "Unnamed: 240": "nan",
         "Unnamed: 241": "nan",
         "Unnamed: 242": "nan",
         "Unnamed: 243": "nan",
         "Unnamed: 244": "nan",
         "Unnamed: 245": "nan",
         "Unnamed: 246": "nan",
         "Unnamed: 247": "nan",
         "Unnamed: 248": "nan",
         "Unnamed: 249": "nan",
         "Unnamed: 250": "nan",
         "Unnamed: 251": "nan",
         "Unnamed: 252": "nan",
         "Unnamed: 253": "nan",
         "Unnamed: 254": "nan",
         "Unnamed: 255": "nan",
         "Unnamed: 256": "nan",
         "Unnamed: 257": "nan",
         "Unnamed: 258": "nan",
         "Unnamed: 259": "nan",
         "Unnamed: 260": "nan",
         "Unnamed: 261": "nan",
         "Unnamed: 262": "nan",
         "Unnamed: 263": "nan",
         "Unnamed: 264": "nan",
         "Unnamed: 265": "nan",
         "Unnamed: 266": "nan",
         "Unnamed: 267": "nan",
         "Unnamed: 268": "nan",
         "Unnamed: 269": "nan",
         "Unnamed: 270": "nan",
         "Unnamed: 271": "nan",
         "Unnamed: 272": "nan",
         "Unnamed: 273": "nan",
         "Unnamed: 274": "nan",
         "Unnamed: 275": "nan",
         "Unnamed: 276": "nan",
         "Unnamed: 277": "nan",
         "Unnamed: 278": "nan",
         "Unnamed: 279": "nan",
         "Unnamed: 280": "nan",
         "Unnamed: 281": "nan",
         "Unnamed: 282": "nan",
         "Unnamed: 283": "nan",
         "Unnamed: 284": "nan",
         "Unnamed: 285": "nan",
         "Unnamed: 286": "nan",
         "Unnamed: 287": "nan",
         "Unnamed: 288": "nan",
         "Unnamed: 289": "nan",
         "Unnamed: 290": "nan",
         "Unnamed: 291": "nan",
         "Unnamed: 292": "nan",
         "Unnamed: 293": "nan",
         "Unnamed: 294": "nan",
         "Unnamed: 295": "nan",
         "Unnamed: 296": "nan",
         "Unnamed: 297": "nan",
         "Unnamed: 298": "nan",
         "Unnamed: 299": "nan",
         "Unnamed: 300": "nan",
         "Unnamed: 301": "nan",
         "Unnamed: 302": "nan",
         "Unnamed: 303": "nan",
         "Unnamed: 304": "nan",
         "Unnamed: 305": "nan",
         "Unnamed: 306": "nan",
         "Unnamed: 307": "nan",
         "Unnamed: 308": "nan",
         "Unnamed: 309": "nan",
         "Unnamed: 310": "nan",
         "Unnamed: 311": "nan",
         "Unnamed: 312": "nan",
         "Unnamed: 313": "nan",
         "Unnamed: 314": "nan",
         "Unnamed: 315": "nan",
         "Unnamed: 316": "nan",
         "Unnamed: 317": "nan",
         "Unnamed: 318": "nan",
         "Unnamed: 319": "nan",
         "Unnamed: 320": "nan",
         "Unnamed: 321": "nan",
         "Unnamed: 322": "nan",
         "Unnamed: 323": "nan",
         "Unnamed: 324": "nan",
         "Unnamed: 325": "nan",
         "Unnamed: 326": "nan",
         "Unnamed: 327": "nan",
         "Unnamed: 328": "nan",
         "Unnamed: 329": "nan",
         "Unnamed: 330": "nan",
         "Unnamed: 331": "nan",
         "Unnamed: 332": "nan",
         "Unnamed: 333": "nan",
         "Unnamed: 334": "nan",
         "Unnamed: 335": "nan",
         "Unnamed: 336": "nan",
         "Unnamed: 337": "nan",
         "Unnamed: 338": "nan",
         "Unnamed: 339": "nan",
         "Unnamed: 340": "nan",
         "Unnamed: 341": "nan",
         "Unnamed: 342": "nan",
         "Unnamed: 343": "nan",
         "Unnamed: 344": "nan",
         "Unnamed: 345": "nan",
         "Unnamed: 346": "nan",
         "Unnamed: 347": "nan",
         "Unnamed: 348": "nan",
         "Unnamed: 349": "nan",
         "Unnamed: 350": "nan",
         "Unnamed: 351": "nan",
         "Unnamed: 352": "nan",
         "_deepnote_index_column": 0
        }
       ],
       "rows_bottom": [
        {
         "FID": "c2hgis_county.fid--3df29475_17a3fe20314_5ad4",
         "geography_type": "county",
         "geography_id": "13123",
         "geography_desc": "Gilmer County",
         "submission_cycle": "2015-09",
         "geom": "MULTIPOLYGON (((-84.65709799999999 34.728905, -84.638989 34.75443, -84.641463 34.777401999999995, -…",
         "centroid": "POINT (-84.45574304407471 34.69141719651767)",
         "res_concxns_pct": "5",
         "pctpopwbbacc": "95.1",
         "pctpopwobbacc": "4.9",
         "pctds0_hi": "0",
         "pctdsgt0kandlt1000k_hi": "0",
         "pctdsgt1000kandlt3000k_hi": "0",
         "pctdsgt3000kandlt4000k_hi": "0",
         "pctdsgt4000kandlt6000k_hi": "0",
         "pctdsgt6000kandlt10000k_hi": "0",
         "pctdsgt10000kandlt15000k_hi": "0",
         "pctdsgt15000kandlt25000k_hi": "4.9",
         "pctdsgt25000kandlt50000k_hi": "0",
         "pctdsgt50000kandlt100000k_hi": "94.7",
         "pctdsgt100000kandlt1gig_hi": "0.4",
         "pctdsgt1gig_hi": "0",
         "pctus0_hi": "0",
         "pctusgt0kandlt1000k_hi": "0",
         "pctusgt1000kandlt3000k_hi": "0",
         "pctusgt3000kandlt4000k_hi": "4.9",
         "pctusgt4000kandlt6000k_hi": "94.7",
         "pctusgt6000kandlt10000k_hi": "0",
         "pctusgt10000kandlt15000k_hi": "0",
         "pctusgt15000kandlt25000k_hi": "0",
         "pctusgt25000kandlt50000k_hi": "0.4",
         "pctusgt50000kandlt100000k_hi": "0",
         "pctusgt100000kandlt1gig_hi": "0",
         "pctusgt1gig_hi": "0",
         "mcds_prop": "94.7",
         "mcds_tier": "pctDSGt50000kAndLt100000k_hi_c",
         "mcus_prop": "94.7",
         "mcus_tier": "pctUSGt4000kAndLt6000k_hi_c",
         "provcount_b": "11",
         "provcount_c": "6",
         "cumm_prov_c_0": "0",
         "cumm_prov_c_1": "0",
         "cumm_prov_c_2": "0",
         "cumm_prov_c_3": "4.5",
         "cumm_prov_c_4": "96.8",
         "cumm_prov_c_5": "100",
         "cumm_prov_c_6": "100",
         "cumm_prov_c_7": "100",
         "cumm_prov_c_8": "100",
         "cumm_prov_c_50th": "3",
         "dsgteq25": "95.1",
         "usgteq3": "100",
         "hcf_comm_13": "15778.63",
         "hcf_comm_14": "1176.4",
         "hcf_comm_15": "3202.58",
         "tc_comm_12": "319.35",
         "tc_comm_13": "225",
         "tc_comm_14": "0",
         "tc_comm_15": "0",
         "hcf_comm_13_15": "20157.61",
         "tc_comm_13_15": "225",
         "bpr_ruralpctwaccess": "95",
         "povpct": "19.7",
         "medianhhinc": "40010",
         "ers_pers_pov": "0",
         "ers_pers_rel_child_pov": "0",
         "nchs_rural": "1",
         "nchs_urbanruralcode": "6",
         "omb_rural": "1",
         "rucc_2013": "6",
         "rucc_metrononmetro": "1",
         "usac_rural": "Rural",
         "usac_rural_cat": "Rural",
         "telehealth_beneficiary_total": "nan",
         "pop_2014": "28829",
         "pop_density": "66.51282856",
         "age_less_than_18_total": "5995",
         "age_less_than_18_pct": "20.8",
         "age_18_to_65_total": "16844",
         "age_18_to_65_pct": "58.4",
         "age_over_65_total": "5990",
         "age_over_65_pct": "20.8",
         "female_total": "14318",
         "female_pct": "49.7",
         "male_total": "14511",
         "male_pct": "50.3",
         "rural_total": "25267",
         "rural_pct": "87.6",
         "urban_total": "3562",
         "urban_pct": "12.4",
         "high_school": "80",
         "some_college": "41.5",
         "unemployment": "8.7",
         "pcp_total": "15",
         "pcp_per_capita": "0.00052031",
         "dentist_total": "7",
         "dentist_per_capita": "0.00024281",
         "mhp_total": "17",
         "mhp_per_capita": "0.00058968",
         "poor_fair_health_total": "5679",
         "poor_fair_health_pct": "19.7",
         "adult_obesity_total": "8332",
         "adult_obesity_pct": "28.9",
         "diabetes_pct": "12.2",
         "smoking_pct": "22.3",
         "drinking_pct": "nan",
         "hiv_per_100000": "76.6",
         "years_lost_per_100000": "6031",
         "injury_deaths_per_100000": "73.7",
         "preventable_hospital_stays_per_1000": "76.33",
         "car_death_total": "42",
         "car_death_pct": "0.14568663",
         "poor_physical_health_days_within_last_30_days": "3.2",
         "long_commute_driving_alone": "37.9",
         "driving_alone_to_work": "78.2",
         "severe_housing_problems": "18.9",
         "physical_inactivity": "27.5",
         "food_insecurity": "15",
         "limited_access_to_healthy_foods": "2",
         "dl_tiers": "8",
         "ul_tiers": "3",
         "Unnamed: 121": "nan",
         "Unnamed: 122": "nan",
         "Unnamed: 123": "nan",
         "Unnamed: 124": "nan",
         "Unnamed: 125": "nan",
         "Unnamed: 126": "nan",
         "Unnamed: 127": "nan",
         "Unnamed: 128": "nan",
         "Unnamed: 129": "nan",
         "Unnamed: 130": "nan",
         "Unnamed: 131": "nan",
         "Unnamed: 132": "nan",
         "Unnamed: 133": "nan",
         "Unnamed: 134": "nan",
         "Unnamed: 135": "nan",
         "Unnamed: 136": "nan",
         "Unnamed: 137": "nan",
         "Unnamed: 138": "nan",
         "Unnamed: 139": "nan",
         "Unnamed: 140": "nan",
         "Unnamed: 141": "nan",
         "Unnamed: 142": "nan",
         "Unnamed: 143": "nan",
         "Unnamed: 144": "nan",
         "Unnamed: 145": "nan",
         "Unnamed: 146": "nan",
         "Unnamed: 147": "nan",
         "Unnamed: 148": "nan",
         "Unnamed: 149": "nan",
         "Unnamed: 150": "nan",
         "Unnamed: 151": "nan",
         "Unnamed: 152": "nan",
         "Unnamed: 153": "nan",
         "Unnamed: 154": "nan",
         "Unnamed: 155": "nan",
         "Unnamed: 156": "nan",
         "Unnamed: 157": "nan",
         "Unnamed: 158": "nan",
         "Unnamed: 159": "nan",
         "Unnamed: 160": "nan",
         "Unnamed: 161": "nan",
         "Unnamed: 162": "nan",
         "Unnamed: 163": "nan",
         "Unnamed: 164": "nan",
         "Unnamed: 165": "nan",
         "Unnamed: 166": "nan",
         "Unnamed: 167": "nan",
         "Unnamed: 168": "nan",
         "Unnamed: 169": "nan",
         "Unnamed: 170": "nan",
         "Unnamed: 171": "nan",
         "Unnamed: 172": "nan",
         "Unnamed: 173": "nan",
         "Unnamed: 174": "nan",
         "Unnamed: 175": "nan",
         "Unnamed: 176": "nan",
         "Unnamed: 177": "nan",
         "Unnamed: 178": "nan",
         "Unnamed: 179": "nan",
         "Unnamed: 180": "nan",
         "Unnamed: 181": "nan",
         "Unnamed: 182": "nan",
         "Unnamed: 183": "nan",
         "Unnamed: 184": "nan",
         "Unnamed: 185": "nan",
         "Unnamed: 186": "nan",
         "Unnamed: 187": "nan",
         "Unnamed: 188": "nan",
         "Unnamed: 189": "nan",
         "Unnamed: 190": "nan",
         "Unnamed: 191": "nan",
         "Unnamed: 192": "nan",
         "Unnamed: 193": "nan",
         "Unnamed: 194": "nan",
         "Unnamed: 195": "nan",
         "Unnamed: 196": "nan",
         "Unnamed: 197": "nan",
         "Unnamed: 198": "nan",
         "Unnamed: 199": "nan",
         "Unnamed: 200": "nan",
         "Unnamed: 201": "nan",
         "Unnamed: 202": "nan",
         "Unnamed: 203": "nan",
         "Unnamed: 204": "nan",
         "Unnamed: 205": "nan",
         "Unnamed: 206": "nan",
         "Unnamed: 207": "nan",
         "Unnamed: 208": "nan",
         "Unnamed: 209": "nan",
         "Unnamed: 210": "nan",
         "Unnamed: 211": "nan",
         "Unnamed: 212": "nan",
         "Unnamed: 213": "nan",
         "Unnamed: 214": "nan",
         "Unnamed: 215": "nan",
         "Unnamed: 216": "nan",
         "Unnamed: 217": "nan",
         "Unnamed: 218": "nan",
         "Unnamed: 219": "nan",
         "Unnamed: 220": "nan",
         "Unnamed: 221": "nan",
         "Unnamed: 222": "nan",
         "Unnamed: 223": "nan",
         "Unnamed: 224": "nan",
         "Unnamed: 225": "nan",
         "Unnamed: 226": "nan",
         "Unnamed: 227": "nan",
         "Unnamed: 228": "nan",
         "Unnamed: 229": "nan",
         "Unnamed: 230": "nan",
         "Unnamed: 231": "nan",
         "Unnamed: 232": "nan",
         "Unnamed: 233": "nan",
         "Unnamed: 234": "nan",
         "Unnamed: 235": "nan",
         "Unnamed: 236": "nan",
         "Unnamed: 237": "nan",
         "Unnamed: 238": "nan",
         "Unnamed: 239": "nan",
         "Unnamed: 240": "nan",
         "Unnamed: 241": "nan",
         "Unnamed: 242": "nan",
         "Unnamed: 243": "nan",
         "Unnamed: 244": "nan",
         "Unnamed: 245": "nan",
         "Unnamed: 246": "nan",
         "Unnamed: 247": "nan",
         "Unnamed: 248": "nan",
         "Unnamed: 249": "nan",
         "Unnamed: 250": "nan",
         "Unnamed: 251": "nan",
         "Unnamed: 252": "nan",
         "Unnamed: 253": "nan",
         "Unnamed: 254": "nan",
         "Unnamed: 255": "nan",
         "Unnamed: 256": "nan",
         "Unnamed: 257": "nan",
         "Unnamed: 258": "nan",
         "Unnamed: 259": "nan",
         "Unnamed: 260": "nan",
         "Unnamed: 261": "nan",
         "Unnamed: 262": "nan",
         "Unnamed: 263": "nan",
         "Unnamed: 264": "nan",
         "Unnamed: 265": "nan",
         "Unnamed: 266": "nan",
         "Unnamed: 267": "nan",
         "Unnamed: 268": "nan",
         "Unnamed: 269": "nan",
         "Unnamed: 270": "nan",
         "Unnamed: 271": "nan",
         "Unnamed: 272": "nan",
         "Unnamed: 273": "nan",
         "Unnamed: 274": "nan",
         "Unnamed: 275": "nan",
         "Unnamed: 276": "nan",
         "Unnamed: 277": "nan",
         "Unnamed: 278": "nan",
         "Unnamed: 279": "nan",
         "Unnamed: 280": "nan",
         "Unnamed: 281": "nan",
         "Unnamed: 282": "nan",
         "Unnamed: 283": "nan",
         "Unnamed: 284": "nan",
         "Unnamed: 285": "nan",
         "Unnamed: 286": "nan",
         "Unnamed: 287": "nan",
         "Unnamed: 288": "nan",
         "Unnamed: 289": "nan",
         "Unnamed: 290": "nan",
         "Unnamed: 291": "nan",
         "Unnamed: 292": "nan",
         "Unnamed: 293": "nan",
         "Unnamed: 294": "nan",
         "Unnamed: 295": "nan",
         "Unnamed: 296": "nan",
         "Unnamed: 297": "nan",
         "Unnamed: 298": "nan",
         "Unnamed: 299": "nan",
         "Unnamed: 300": "nan",
         "Unnamed: 301": "nan",
         "Unnamed: 302": "nan",
         "Unnamed: 303": "nan",
         "Unnamed: 304": "nan",
         "Unnamed: 305": "nan",
         "Unnamed: 306": "nan",
         "Unnamed: 307": "nan",
         "Unnamed: 308": "nan",
         "Unnamed: 309": "nan",
         "Unnamed: 310": "nan",
         "Unnamed: 311": "nan",
         "Unnamed: 312": "nan",
         "Unnamed: 313": "nan",
         "Unnamed: 314": "nan",
         "Unnamed: 315": "nan",
         "Unnamed: 316": "nan",
         "Unnamed: 317": "nan",
         "Unnamed: 318": "nan",
         "Unnamed: 319": "nan",
         "Unnamed: 320": "nan",
         "Unnamed: 321": "nan",
         "Unnamed: 322": "nan",
         "Unnamed: 323": "nan",
         "Unnamed: 324": "nan",
         "Unnamed: 325": "nan",
         "Unnamed: 326": "nan",
         "Unnamed: 327": "nan",
         "Unnamed: 328": "nan",
         "Unnamed: 329": "nan",
         "Unnamed: 330": "nan",
         "Unnamed: 331": "nan",
         "Unnamed: 332": "nan",
         "Unnamed: 333": "nan",
         "Unnamed: 334": "nan",
         "Unnamed: 335": "nan",
         "Unnamed: 336": "nan",
         "Unnamed: 337": "nan",
         "Unnamed: 338": "nan",
         "Unnamed: 339": "nan",
         "Unnamed: 340": "nan",
         "Unnamed: 341": "nan",
         "Unnamed: 342": "nan",
         "Unnamed: 343": "nan",
         "Unnamed: 344": "nan",
         "Unnamed: 345": "nan",
         "Unnamed: 346": "nan",
         "Unnamed: 347": "nan",
         "Unnamed: 348": "nan",
         "Unnamed: 349": "nan",
         "Unnamed: 350": "nan",
         "Unnamed: 351": "nan",
         "Unnamed: 352": "nan",
         "_deepnote_index_column": 2
        }
       ]
      },
      "text/plain": "                                            FID geography_type geography_id  \\\n0  c2hgis_county.fid--3df29475_17a3fe20314_5ad2         county        21109   \n1  c2hgis_county.fid--3df29475_17a3fe20314_5ad3         county        37005   \n2  c2hgis_county.fid--3df29475_17a3fe20314_5ad4         county        13123   \n\n     geography_desc submission_cycle  \\\n0    Jackson County          2015-09   \n1  Alleghany County          2015-09   \n2     Gilmer County          2015-09   \n\n                                                geom  \\\n0  MULTIPOLYGON (((-84.205306 37.503062, -84.1994...   \n1  MULTIPOLYGON (((-81.3531692825529 36.574724003...   \n2  MULTIPOLYGON (((-84.65709799999999 34.728905, ...   \n\n                                       centroid res_concxns_pct pctpopwbbacc  \\\n0  POINT (-84.00617164501776 37.41979135091643)               3         99.6   \n1    POINT (-81.127710400513 36.49135989086295)               4         87.7   \n2  POINT (-84.45574304407471 34.69141719651767)               5         95.1   \n\n  pctpopwobbacc  ... Unnamed: 343 Unnamed: 344 Unnamed: 345 Unnamed: 346  \\\n0           0.4  ...          NaN          NaN          NaN          NaN   \n1          12.3  ...          NaN          NaN          NaN          NaN   \n2           4.9  ...          NaN          NaN          NaN          NaN   \n\n  Unnamed: 347 Unnamed: 348 Unnamed: 349 Unnamed: 350 Unnamed: 351  \\\n0          NaN          NaN          NaN          NaN          NaN   \n1          NaN          NaN          NaN          NaN          NaN   \n2          NaN          NaN          NaN          NaN          NaN   \n\n  Unnamed: 352  \n0          NaN  \n1          NaN  \n2          NaN  \n\n[3 rows x 353 columns]",
      "text/html": "<div>\n<style scoped>\n    .dataframe tbody tr th:only-of-type {\n        vertical-align: middle;\n    }\n\n    .dataframe tbody tr th {\n        vertical-align: top;\n    }\n\n    .dataframe thead th {\n        text-align: right;\n    }\n</style>\n<table border=\"1\" class=\"dataframe\">\n  <thead>\n    <tr style=\"text-align: right;\">\n      <th></th>\n      <th>FID</th>\n      <th>geography_type</th>\n      <th>geography_id</th>\n      <th>geography_desc</th>\n      <th>submission_cycle</th>\n      <th>geom</th>\n      <th>centroid</th>\n      <th>res_concxns_pct</th>\n      <th>pctpopwbbacc</th>\n      <th>pctpopwobbacc</th>\n      <th>...</th>\n      <th>Unnamed: 343</th>\n      <th>Unnamed: 344</th>\n      <th>Unnamed: 345</th>\n      <th>Unnamed: 346</th>\n      <th>Unnamed: 347</th>\n      <th>Unnamed: 348</th>\n      <th>Unnamed: 349</th>\n      <th>Unnamed: 350</th>\n      <th>Unnamed: 351</th>\n      <th>Unnamed: 352</th>\n    </tr>\n  </thead>\n  <tbody>\n    <tr>\n      <th>0</th>\n      <td>c2hgis_county.fid--3df29475_17a3fe20314_5ad2</td>\n      <td>county</td>\n      <td>21109</td>\n      <td>Jackson County</td>\n      <td>2015-09</td>\n      <td>MULTIPOLYGON (((-84.205306 37.503062, -84.1994...</td>\n      <td>POINT (-84.00617164501776 37.41979135091643)</td>\n      <td>3</td>\n      <td>99.6</td>\n      <td>0.4</td>\n      <td>...</td>\n      <td>NaN</td>\n      <td>NaN</td>\n      <td>NaN</td>\n      <td>NaN</td>\n      <td>NaN</td>\n      <td>NaN</td>\n      <td>NaN</td>\n      <td>NaN</td>\n      <td>NaN</td>\n      <td>NaN</td>\n    </tr>\n    <tr>\n      <th>1</th>\n      <td>c2hgis_county.fid--3df29475_17a3fe20314_5ad3</td>\n      <td>county</td>\n      <td>37005</td>\n      <td>Alleghany County</td>\n      <td>2015-09</td>\n      <td>MULTIPOLYGON (((-81.3531692825529 36.574724003...</td>\n      <td>POINT (-81.127710400513 36.49135989086295)</td>\n      <td>4</td>\n      <td>87.7</td>\n      <td>12.3</td>\n      <td>...</td>\n      <td>NaN</td>\n      <td>NaN</td>\n      <td>NaN</td>\n      <td>NaN</td>\n      <td>NaN</td>\n      <td>NaN</td>\n      <td>NaN</td>\n      <td>NaN</td>\n      <td>NaN</td>\n      <td>NaN</td>\n    </tr>\n    <tr>\n      <th>2</th>\n      <td>c2hgis_county.fid--3df29475_17a3fe20314_5ad4</td>\n      <td>county</td>\n      <td>13123</td>\n      <td>Gilmer County</td>\n      <td>2015-09</td>\n      <td>MULTIPOLYGON (((-84.65709799999999 34.728905, ...</td>\n      <td>POINT (-84.45574304407471 34.69141719651767)</td>\n      <td>5</td>\n      <td>95.1</td>\n      <td>4.9</td>\n      <td>...</td>\n      <td>NaN</td>\n      <td>NaN</td>\n      <td>NaN</td>\n      <td>NaN</td>\n      <td>NaN</td>\n      <td>NaN</td>\n      <td>NaN</td>\n      <td>NaN</td>\n      <td>NaN</td>\n      <td>NaN</td>\n    </tr>\n  </tbody>\n</table>\n<p>3 rows × 353 columns</p>\n</div>"
     },
     "metadata": {}
    }
   ]
  },
  {
   "cell_type": "code",
   "metadata": {
    "tags": [],
    "cell_id": "00012-a74bdcf9-9b4c-438d-878b-4fb63116d988",
    "deepnote_to_be_reexecuted": false,
    "source_hash": "11d66e2f",
    "execution_start": 1624685197925,
    "execution_millis": 198,
    "deepnote_cell_type": "code"
   },
   "source": "raw_harvard_streets_and_intersections.head(2)",
   "execution_count": null,
   "outputs": [
    {
     "output_type": "execute_result",
     "execution_count": 12,
     "data": {
      "application/vnd.deepnote.dataframe.v2+json": {
       "row_count": 2,
       "column_count": 32,
       "columns": [
        {
         "name": "county",
         "dtype": "object",
         "stats": {
          "unique_count": 2,
          "nan_count": 0,
          "categories": [
           {
            "name": "Autauga County",
            "count": 1
           },
           {
            "name": "Baldwin County",
            "count": 1
           }
          ]
         }
        },
        {
         "name": "geoid",
         "dtype": "int64",
         "stats": {
          "unique_count": 2,
          "nan_count": 0,
          "min": "1001",
          "max": "1003",
          "histogram": [
           {
            "bin_start": 1001,
            "bin_end": 1001.2,
            "count": 1
           },
           {
            "bin_start": 1001.2,
            "bin_end": 1001.4,
            "count": 0
           },
           {
            "bin_start": 1001.4,
            "bin_end": 1001.6,
            "count": 0
           },
           {
            "bin_start": 1001.6,
            "bin_end": 1001.8,
            "count": 0
           },
           {
            "bin_start": 1001.8,
            "bin_end": 1002,
            "count": 0
           },
           {
            "bin_start": 1002,
            "bin_end": 1002.2,
            "count": 0
           },
           {
            "bin_start": 1002.2,
            "bin_end": 1002.4,
            "count": 0
           },
           {
            "bin_start": 1002.4,
            "bin_end": 1002.6,
            "count": 0
           },
           {
            "bin_start": 1002.6,
            "bin_end": 1002.8,
            "count": 0
           },
           {
            "bin_start": 1002.8,
            "bin_end": 1003,
            "count": 1
           }
          ]
         }
        },
        {
         "name": "area_km",
         "dtype": "float64",
         "stats": {
          "unique_count": 2,
          "nan_count": 0,
          "min": "1539.614693",
          "max": "4117.605847",
          "histogram": [
           {
            "bin_start": 1539.614693,
            "bin_end": 1797.4138084,
            "count": 1
           },
           {
            "bin_start": 1797.4138084,
            "bin_end": 2055.2129237999998,
            "count": 0
           },
           {
            "bin_start": 2055.2129237999998,
            "bin_end": 2313.0120392,
            "count": 0
           },
           {
            "bin_start": 2313.0120392,
            "bin_end": 2570.8111546,
            "count": 0
           },
           {
            "bin_start": 2570.8111546,
            "bin_end": 2828.61027,
            "count": 0
           },
           {
            "bin_start": 2828.61027,
            "bin_end": 3086.4093854000002,
            "count": 0
           },
           {
            "bin_start": 3086.4093854000002,
            "bin_end": 3344.2085008,
            "count": 0
           },
           {
            "bin_start": 3344.2085008,
            "bin_end": 3602.0076162,
            "count": 0
           },
           {
            "bin_start": 3602.0076162,
            "bin_end": 3859.8067316,
            "count": 0
           },
           {
            "bin_start": 3859.8067316,
            "bin_end": 4117.605847,
            "count": 1
           }
          ]
         }
        },
        {
         "name": "avg_neighbor_degree_avg",
         "dtype": "float64",
         "stats": {
          "unique_count": 2,
          "nan_count": 0,
          "min": "2.7539286349884886",
          "max": "2.8012437234453547",
          "histogram": [
           {
            "bin_start": 2.7539286349884886,
            "bin_end": 2.758660143834175,
            "count": 1
           },
           {
            "bin_start": 2.758660143834175,
            "bin_end": 2.7633916526798616,
            "count": 0
           },
           {
            "bin_start": 2.7633916526798616,
            "bin_end": 2.7681231615255486,
            "count": 0
           },
           {
            "bin_start": 2.7681231615255486,
            "bin_end": 2.772854670371235,
            "count": 0
           },
           {
            "bin_start": 2.772854670371235,
            "bin_end": 2.7775861792169216,
            "count": 0
           },
           {
            "bin_start": 2.7775861792169216,
            "bin_end": 2.782317688062608,
            "count": 0
           },
           {
            "bin_start": 2.782317688062608,
            "bin_end": 2.7870491969082947,
            "count": 0
           },
           {
            "bin_start": 2.7870491969082947,
            "bin_end": 2.7917807057539816,
            "count": 0
           },
           {
            "bin_start": 2.7917807057539816,
            "bin_end": 2.796512214599668,
            "count": 0
           },
           {
            "bin_start": 2.796512214599668,
            "bin_end": 2.8012437234453547,
            "count": 1
           }
          ]
         }
        },
        {
         "name": "avg_weighted_neighbor_degree_avg",
         "dtype": "float64",
         "stats": {
          "unique_count": 2,
          "nan_count": 0,
          "min": "0.0215442880881301",
          "max": "0.0262842018612395",
          "histogram": [
           {
            "bin_start": 0.0215442880881301,
            "bin_end": 0.022018279465441038,
            "count": 1
           },
           {
            "bin_start": 0.022018279465441038,
            "bin_end": 0.022492270842751978,
            "count": 0
           },
           {
            "bin_start": 0.022492270842751978,
            "bin_end": 0.02296626222006292,
            "count": 0
           },
           {
            "bin_start": 0.02296626222006292,
            "bin_end": 0.02344025359737386,
            "count": 0
           },
           {
            "bin_start": 0.02344025359737386,
            "bin_end": 0.0239142449746848,
            "count": 0
           },
           {
            "bin_start": 0.0239142449746848,
            "bin_end": 0.02438823635199574,
            "count": 0
           },
           {
            "bin_start": 0.02438823635199574,
            "bin_end": 0.024862227729306678,
            "count": 0
           },
           {
            "bin_start": 0.024862227729306678,
            "bin_end": 0.02533621910661762,
            "count": 0
           },
           {
            "bin_start": 0.02533621910661762,
            "bin_end": 0.02581021048392856,
            "count": 0
           },
           {
            "bin_start": 0.02581021048392856,
            "bin_end": 0.0262842018612395,
            "count": 1
           }
          ]
         }
        },
        {
         "name": "circuity_avg",
         "dtype": "float64",
         "stats": {
          "unique_count": 2,
          "nan_count": 0,
          "min": "1.078591579314444",
          "max": "1.0959061889786856",
          "histogram": [
           {
            "bin_start": 1.078591579314444,
            "bin_end": 1.0803230402808681,
            "count": 1
           },
           {
            "bin_start": 1.0803230402808681,
            "bin_end": 1.0820545012472924,
            "count": 0
           },
           {
            "bin_start": 1.0820545012472924,
            "bin_end": 1.0837859622137165,
            "count": 0
           },
           {
            "bin_start": 1.0837859622137165,
            "bin_end": 1.0855174231801408,
            "count": 0
           },
           {
            "bin_start": 1.0855174231801408,
            "bin_end": 1.0872488841465648,
            "count": 0
           },
           {
            "bin_start": 1.0872488841465648,
            "bin_end": 1.088980345112989,
            "count": 0
           },
           {
            "bin_start": 1.088980345112989,
            "bin_end": 1.0907118060794132,
            "count": 0
           },
           {
            "bin_start": 1.0907118060794132,
            "bin_end": 1.0924432670458373,
            "count": 0
           },
           {
            "bin_start": 1.0924432670458373,
            "bin_end": 1.0941747280122616,
            "count": 0
           },
           {
            "bin_start": 1.0941747280122616,
            "bin_end": 1.0959061889786856,
            "count": 1
           }
          ]
         }
        },
        {
         "name": "cluster_coeff_avg",
         "dtype": "float64",
         "stats": {
          "unique_count": 2,
          "nan_count": 0,
          "min": "0.0379533724862078",
          "max": "0.0452143684820396",
          "histogram": [
           {
            "bin_start": 0.0379533724862078,
            "bin_end": 0.038679472085790985,
            "count": 1
           },
           {
            "bin_start": 0.038679472085790985,
            "bin_end": 0.03940557168537416,
            "count": 0
           },
           {
            "bin_start": 0.03940557168537416,
            "bin_end": 0.04013167128495734,
            "count": 0
           },
           {
            "bin_start": 0.04013167128495734,
            "bin_end": 0.04085777088454052,
            "count": 0
           },
           {
            "bin_start": 0.04085777088454052,
            "bin_end": 0.0415838704841237,
            "count": 0
           },
           {
            "bin_start": 0.0415838704841237,
            "bin_end": 0.04230997008370688,
            "count": 0
           },
           {
            "bin_start": 0.04230997008370688,
            "bin_end": 0.04303606968329006,
            "count": 0
           },
           {
            "bin_start": 0.04303606968329006,
            "bin_end": 0.04376216928287324,
            "count": 0
           },
           {
            "bin_start": 0.04376216928287324,
            "bin_end": 0.04448826888245642,
            "count": 0
           },
           {
            "bin_start": 0.04448826888245642,
            "bin_end": 0.0452143684820396,
            "count": 1
           }
          ]
         }
        },
        {
         "name": "cluster_coeff_weighted_avg",
         "dtype": "float64",
         "stats": {
          "unique_count": 2,
          "nan_count": 0,
          "min": "0.0002406773553795",
          "max": "0.0008537819887872",
          "histogram": [
           {
            "bin_start": 0.0002406773553795,
            "bin_end": 0.00030198781872027,
            "count": 1
           },
           {
            "bin_start": 0.00030198781872027,
            "bin_end": 0.00036329828206103996,
            "count": 0
           },
           {
            "bin_start": 0.00036329828206103996,
            "bin_end": 0.00042460874540181,
            "count": 0
           },
           {
            "bin_start": 0.00042460874540181,
            "bin_end": 0.00048591920874258,
            "count": 0
           },
           {
            "bin_start": 0.00048591920874258,
            "bin_end": 0.00054722967208335,
            "count": 0
           },
           {
            "bin_start": 0.00054722967208335,
            "bin_end": 0.0006085401354241199,
            "count": 0
           },
           {
            "bin_start": 0.0006085401354241199,
            "bin_end": 0.0006698505987648899,
            "count": 0
           },
           {
            "bin_start": 0.0006698505987648899,
            "bin_end": 0.0007311610621056599,
            "count": 0
           },
           {
            "bin_start": 0.0007311610621056599,
            "bin_end": 0.00079247152544643,
            "count": 0
           },
           {
            "bin_start": 0.00079247152544643,
            "bin_end": 0.0008537819887872,
            "count": 1
           }
          ]
         }
        },
        {
         "name": "degree_centrality_avg",
         "dtype": "float64",
         "stats": {
          "unique_count": 2,
          "nan_count": 0,
          "min": "0.0002535503939531",
          "max": "0.001109433244641",
          "histogram": [
           {
            "bin_start": 0.0002535503939531,
            "bin_end": 0.00033913867902189004,
            "count": 1
           },
           {
            "bin_start": 0.00033913867902189004,
            "bin_end": 0.00042472696409068,
            "count": 0
           },
           {
            "bin_start": 0.00042472696409068,
            "bin_end": 0.00051031524915947,
            "count": 0
           },
           {
            "bin_start": 0.00051031524915947,
            "bin_end": 0.00059590353422826,
            "count": 0
           },
           {
            "bin_start": 0.00059590353422826,
            "bin_end": 0.00068149181929705,
            "count": 0
           },
           {
            "bin_start": 0.00068149181929705,
            "bin_end": 0.0007670801043658399,
            "count": 0
           },
           {
            "bin_start": 0.0007670801043658399,
            "bin_end": 0.0008526683894346299,
            "count": 0
           },
           {
            "bin_start": 0.0008526683894346299,
            "bin_end": 0.00093825667450342,
            "count": 0
           },
           {
            "bin_start": 0.00093825667450342,
            "bin_end": 0.00102384495957221,
            "count": 0
           },
           {
            "bin_start": 0.00102384495957221,
            "bin_end": 0.001109433244641,
            "count": 1
           }
          ]
         }
        },
        {
         "name": "edge_density_km",
         "dtype": "float64",
         "stats": {
          "unique_count": 2,
          "nan_count": 0,
          "min": "2519.774067263978",
          "max": "2772.858996525498",
          "histogram": [
           {
            "bin_start": 2519.774067263978,
            "bin_end": 2545.0825601901297,
            "count": 1
           },
           {
            "bin_start": 2545.0825601901297,
            "bin_end": 2570.391053116282,
            "count": 0
           },
           {
            "bin_start": 2570.391053116282,
            "bin_end": 2595.699546042434,
            "count": 0
           },
           {
            "bin_start": 2595.699546042434,
            "bin_end": 2621.008038968586,
            "count": 0
           },
           {
            "bin_start": 2621.008038968586,
            "bin_end": 2646.3165318947376,
            "count": 0
           },
           {
            "bin_start": 2646.3165318947376,
            "bin_end": 2671.62502482089,
            "count": 0
           },
           {
            "bin_start": 2671.62502482089,
            "bin_end": 2696.933517747042,
            "count": 0
           },
           {
            "bin_start": 2696.933517747042,
            "bin_end": 2722.242010673194,
            "count": 0
           },
           {
            "bin_start": 2722.242010673194,
            "bin_end": 2747.5505035993456,
            "count": 0
           },
           {
            "bin_start": 2747.5505035993456,
            "bin_end": 2772.858996525498,
            "count": 1
           }
          ]
         }
        },
        {
         "name": "edge_length_avg",
         "dtype": "float64",
         "stats": {
          "unique_count": 2,
          "nan_count": 0,
          "min": "256.73548338280136",
          "max": "375.7002883013743",
          "histogram": [
           {
            "bin_start": 256.73548338280136,
            "bin_end": 268.63196387465865,
            "count": 1
           },
           {
            "bin_start": 268.63196387465865,
            "bin_end": 280.52844436651594,
            "count": 0
           },
           {
            "bin_start": 280.52844436651594,
            "bin_end": 292.42492485837323,
            "count": 0
           },
           {
            "bin_start": 292.42492485837323,
            "bin_end": 304.3214053502305,
            "count": 0
           },
           {
            "bin_start": 304.3214053502305,
            "bin_end": 316.21788584208787,
            "count": 0
           },
           {
            "bin_start": 316.21788584208787,
            "bin_end": 328.1143663339451,
            "count": 0
           },
           {
            "bin_start": 328.1143663339451,
            "bin_end": 340.01084682580245,
            "count": 0
           },
           {
            "bin_start": 340.01084682580245,
            "bin_end": 351.90732731765974,
            "count": 0
           },
           {
            "bin_start": 351.90732731765974,
            "bin_end": 363.803807809517,
            "count": 0
           },
           {
            "bin_start": 363.803807809517,
            "bin_end": 375.7002883013743,
            "count": 1
           }
          ]
         }
        },
        {
         "name": "edge_length_total",
         "dtype": "int64",
         "stats": {
          "unique_count": 2,
          "nan_count": 0,
          "min": "3879481",
          "max": "11417540",
          "histogram": [
           {
            "bin_start": 3879481,
            "bin_end": 4633286.9,
            "count": 1
           },
           {
            "bin_start": 4633286.9,
            "bin_end": 5387092.8,
            "count": 0
           },
           {
            "bin_start": 5387092.8,
            "bin_end": 6140898.7,
            "count": 0
           },
           {
            "bin_start": 6140898.7,
            "bin_end": 6894704.6,
            "count": 0
           },
           {
            "bin_start": 6894704.6,
            "bin_end": 7648510.5,
            "count": 0
           },
           {
            "bin_start": 7648510.5,
            "bin_end": 8402316.4,
            "count": 0
           },
           {
            "bin_start": 8402316.4,
            "bin_end": 9156122.3,
            "count": 0
           },
           {
            "bin_start": 9156122.3,
            "bin_end": 9909928.2,
            "count": 0
           },
           {
            "bin_start": 9909928.2,
            "bin_end": 10663734.100000001,
            "count": 0
           },
           {
            "bin_start": 10663734.100000001,
            "bin_end": 11417540,
            "count": 1
           }
          ]
         }
        },
        {
         "name": "dead_end_count",
         "dtype": "int64",
         "stats": {
          "unique_count": 2,
          "nan_count": 0,
          "min": "1351",
          "max": "5689",
          "histogram": [
           {
            "bin_start": 1351,
            "bin_end": 1784.8,
            "count": 1
           },
           {
            "bin_start": 1784.8,
            "bin_end": 2218.6,
            "count": 0
           },
           {
            "bin_start": 2218.6,
            "bin_end": 2652.4,
            "count": 0
           },
           {
            "bin_start": 2652.4,
            "bin_end": 3086.2,
            "count": 0
           },
           {
            "bin_start": 3086.2,
            "bin_end": 3520,
            "count": 0
           },
           {
            "bin_start": 3520,
            "bin_end": 3953.8,
            "count": 0
           },
           {
            "bin_start": 3953.8,
            "bin_end": 4387.6,
            "count": 0
           },
           {
            "bin_start": 4387.6,
            "bin_end": 4821.4,
            "count": 0
           },
           {
            "bin_start": 4821.4,
            "bin_end": 5255.200000000001,
            "count": 0
           },
           {
            "bin_start": 5255.200000000001,
            "bin_end": 5689,
            "count": 1
           }
          ]
         }
        },
        {
         "name": "dead_end_proportion",
         "dtype": "float64",
         "stats": {
          "unique_count": 2,
          "nan_count": 0,
          "min": "0.303737319807795",
          "max": "0.3130938586326767",
          "histogram": [
           {
            "bin_start": 0.303737319807795,
            "bin_end": 0.3046729736902832,
            "count": 1
           },
           {
            "bin_start": 0.3046729736902832,
            "bin_end": 0.30560862757277135,
            "count": 0
           },
           {
            "bin_start": 0.30560862757277135,
            "bin_end": 0.3065442814552595,
            "count": 0
           },
           {
            "bin_start": 0.3065442814552595,
            "bin_end": 0.3074799353377477,
            "count": 0
           },
           {
            "bin_start": 0.3074799353377477,
            "bin_end": 0.3084155892202358,
            "count": 0
           },
           {
            "bin_start": 0.3084155892202358,
            "bin_end": 0.309351243102724,
            "count": 0
           },
           {
            "bin_start": 0.309351243102724,
            "bin_end": 0.31028689698521217,
            "count": 0
           },
           {
            "bin_start": 0.31028689698521217,
            "bin_end": 0.31122255086770034,
            "count": 0
           },
           {
            "bin_start": 0.31122255086770034,
            "bin_end": 0.3121582047501885,
            "count": 0
           },
           {
            "bin_start": 0.3121582047501885,
            "bin_end": 0.3130938586326767,
            "count": 1
           }
          ]
         }
        },
        {
         "name": "intersect_3way_count",
         "dtype": "int64",
         "stats": {
          "unique_count": 2,
          "nan_count": 0,
          "min": "2597",
          "max": "10621",
          "histogram": [
           {
            "bin_start": 2597,
            "bin_end": 3399.4,
            "count": 1
           },
           {
            "bin_start": 3399.4,
            "bin_end": 4201.8,
            "count": 0
           },
           {
            "bin_start": 4201.8,
            "bin_end": 5004.2,
            "count": 0
           },
           {
            "bin_start": 5004.2,
            "bin_end": 5806.6,
            "count": 0
           },
           {
            "bin_start": 5806.6,
            "bin_end": 6609,
            "count": 0
           },
           {
            "bin_start": 6609,
            "bin_end": 7411.4,
            "count": 0
           },
           {
            "bin_start": 7411.4,
            "bin_end": 8213.8,
            "count": 0
           },
           {
            "bin_start": 8213.8,
            "bin_end": 9016.2,
            "count": 0
           },
           {
            "bin_start": 9016.2,
            "bin_end": 9818.599999999999,
            "count": 0
           },
           {
            "bin_start": 9818.599999999999,
            "bin_end": 10621,
            "count": 1
           }
          ]
         }
        },
        {
         "name": "intersect_3way_proportion",
         "dtype": "float64",
         "stats": {
          "unique_count": 2,
          "nan_count": 0,
          "min": "0.5670581954084357",
          "max": "0.6018539976825029",
          "histogram": [
           {
            "bin_start": 0.5670581954084357,
            "bin_end": 0.5705377756358424,
            "count": 1
           },
           {
            "bin_start": 0.5705377756358424,
            "bin_end": 0.5740173558632492,
            "count": 0
           },
           {
            "bin_start": 0.5740173558632492,
            "bin_end": 0.5774969360906559,
            "count": 0
           },
           {
            "bin_start": 0.5774969360906559,
            "bin_end": 0.5809765163180626,
            "count": 0
           },
           {
            "bin_start": 0.5809765163180626,
            "bin_end": 0.5844560965454693,
            "count": 0
           },
           {
            "bin_start": 0.5844560965454693,
            "bin_end": 0.5879356767728761,
            "count": 0
           },
           {
            "bin_start": 0.5879356767728761,
            "bin_end": 0.5914152570002827,
            "count": 0
           },
           {
            "bin_start": 0.5914152570002827,
            "bin_end": 0.5948948372276894,
            "count": 0
           },
           {
            "bin_start": 0.5948948372276894,
            "bin_end": 0.5983744174550962,
            "count": 0
           },
           {
            "bin_start": 0.5983744174550962,
            "bin_end": 0.6018539976825029,
            "count": 1
           }
          ]
         }
        },
        {
         "name": "intersect_4way_count",
         "dtype": "int64",
         "stats": {
          "unique_count": 2,
          "nan_count": 0,
          "min": "346",
          "max": "2124",
          "histogram": [
           {
            "bin_start": 346,
            "bin_end": 523.8,
            "count": 1
           },
           {
            "bin_start": 523.8,
            "bin_end": 701.6,
            "count": 0
           },
           {
            "bin_start": 701.6,
            "bin_end": 879.4000000000001,
            "count": 0
           },
           {
            "bin_start": 879.4000000000001,
            "bin_end": 1057.2,
            "count": 0
           },
           {
            "bin_start": 1057.2,
            "bin_end": 1235,
            "count": 0
           },
           {
            "bin_start": 1235,
            "bin_end": 1412.8000000000002,
            "count": 0
           },
           {
            "bin_start": 1412.8000000000002,
            "bin_end": 1590.6000000000001,
            "count": 0
           },
           {
            "bin_start": 1590.6000000000001,
            "bin_end": 1768.4,
            "count": 0
           },
           {
            "bin_start": 1768.4,
            "bin_end": 1946.2,
            "count": 0
           },
           {
            "bin_start": 1946.2,
            "bin_end": 2124,
            "count": 1
           }
          ]
         }
        },
        {
         "name": "intersect_4way_proportion",
         "dtype": "float64",
         "stats": {
          "unique_count": 2,
          "nan_count": 0,
          "min": "0.0801853997682502",
          "max": "0.1134009610250934",
          "histogram": [
           {
            "bin_start": 0.0801853997682502,
            "bin_end": 0.08350695589393452,
            "count": 1
           },
           {
            "bin_start": 0.08350695589393452,
            "bin_end": 0.08682851201961884,
            "count": 0
           },
           {
            "bin_start": 0.08682851201961884,
            "bin_end": 0.09015006814530316,
            "count": 0
           },
           {
            "bin_start": 0.09015006814530316,
            "bin_end": 0.09347162427098749,
            "count": 0
           },
           {
            "bin_start": 0.09347162427098749,
            "bin_end": 0.0967931803966718,
            "count": 0
           },
           {
            "bin_start": 0.0967931803966718,
            "bin_end": 0.10011473652235611,
            "count": 0
           },
           {
            "bin_start": 0.10011473652235611,
            "bin_end": 0.10343629264804044,
            "count": 0
           },
           {
            "bin_start": 0.10343629264804044,
            "bin_end": 0.10675784877372475,
            "count": 0
           },
           {
            "bin_start": 0.10675784877372475,
            "bin_end": 0.11007940489940908,
            "count": 0
           },
           {
            "bin_start": 0.11007940489940908,
            "bin_end": 0.1134009610250934,
            "count": 1
           }
          ]
         }
        },
        {
         "name": "intersection_count",
         "dtype": "int64",
         "stats": {
          "unique_count": 2,
          "nan_count": 0,
          "min": "2963",
          "max": "13041",
          "histogram": [
           {
            "bin_start": 2963,
            "bin_end": 3970.8,
            "count": 1
           },
           {
            "bin_start": 3970.8,
            "bin_end": 4978.6,
            "count": 0
           },
           {
            "bin_start": 4978.6,
            "bin_end": 5986.4,
            "count": 0
           },
           {
            "bin_start": 5986.4,
            "bin_end": 6994.2,
            "count": 0
           },
           {
            "bin_start": 6994.2,
            "bin_end": 8002,
            "count": 0
           },
           {
            "bin_start": 8002,
            "bin_end": 9009.8,
            "count": 0
           },
           {
            "bin_start": 9009.8,
            "bin_end": 10017.599999999999,
            "count": 0
           },
           {
            "bin_start": 10017.599999999999,
            "bin_end": 11025.4,
            "count": 0
           },
           {
            "bin_start": 11025.4,
            "bin_end": 12033.199999999999,
            "count": 0
           },
           {
            "bin_start": 12033.199999999999,
            "bin_end": 13041,
            "count": 1
           }
          ]
         }
        },
        {
         "name": "intersect_density_km",
         "dtype": "float64",
         "stats": {
          "unique_count": 2,
          "nan_count": 0,
          "min": "1.924507484548928",
          "max": "3.167131698509073",
          "histogram": [
           {
            "bin_start": 1.924507484548928,
            "bin_end": 2.0487699059449427,
            "count": 1
           },
           {
            "bin_start": 2.0487699059449427,
            "bin_end": 2.173032327340957,
            "count": 0
           },
           {
            "bin_start": 2.173032327340957,
            "bin_end": 2.2972947487369715,
            "count": 0
           },
           {
            "bin_start": 2.2972947487369715,
            "bin_end": 2.421557170132986,
            "count": 0
           },
           {
            "bin_start": 2.421557170132986,
            "bin_end": 2.5458195915290007,
            "count": 0
           },
           {
            "bin_start": 2.5458195915290007,
            "bin_end": 2.670082012925015,
            "count": 0
           },
           {
            "bin_start": 2.670082012925015,
            "bin_end": 2.7943444343210295,
            "count": 0
           },
           {
            "bin_start": 2.7943444343210295,
            "bin_end": 2.9186068557170444,
            "count": 0
           },
           {
            "bin_start": 2.9186068557170444,
            "bin_end": 3.0428692771130583,
            "count": 0
           },
           {
            "bin_start": 3.0428692771130583,
            "bin_end": 3.167131698509073,
            "count": 1
           }
          ]
         }
        },
        {
         "name": "k_avg",
         "dtype": "float64",
         "stats": {
          "unique_count": 2,
          "nan_count": 0,
          "min": "4.74874532835024",
          "max": "4.7860950173812284",
          "histogram": [
           {
            "bin_start": 4.74874532835024,
            "bin_end": 4.752480297253339,
            "count": 1
           },
           {
            "bin_start": 4.752480297253339,
            "bin_end": 4.756215266156437,
            "count": 0
           },
           {
            "bin_start": 4.756215266156437,
            "bin_end": 4.759950235059536,
            "count": 0
           },
           {
            "bin_start": 4.759950235059536,
            "bin_end": 4.763685203962635,
            "count": 0
           },
           {
            "bin_start": 4.763685203962635,
            "bin_end": 4.767420172865734,
            "count": 0
           },
           {
            "bin_start": 4.767420172865734,
            "bin_end": 4.771155141768833,
            "count": 0
           },
           {
            "bin_start": 4.771155141768833,
            "bin_end": 4.774890110671932,
            "count": 0
           },
           {
            "bin_start": 4.774890110671932,
            "bin_end": 4.778625079575031,
            "count": 0
           },
           {
            "bin_start": 4.778625079575031,
            "bin_end": 4.78236004847813,
            "count": 0
           },
           {
            "bin_start": 4.78236004847813,
            "bin_end": 4.7860950173812284,
            "count": 1
           }
          ]
         }
        },
        {
         "name": "edge_count",
         "dtype": "int64",
         "stats": {
          "unique_count": 2,
          "nan_count": 0,
          "min": "10326",
          "max": "44472",
          "histogram": [
           {
            "bin_start": 10326,
            "bin_end": 13740.6,
            "count": 1
           },
           {
            "bin_start": 13740.6,
            "bin_end": 17155.2,
            "count": 0
           },
           {
            "bin_start": 17155.2,
            "bin_end": 20569.8,
            "count": 0
           },
           {
            "bin_start": 20569.8,
            "bin_end": 23984.4,
            "count": 0
           },
           {
            "bin_start": 23984.4,
            "bin_end": 27399,
            "count": 0
           },
           {
            "bin_start": 27399,
            "bin_end": 30813.6,
            "count": 0
           },
           {
            "bin_start": 30813.6,
            "bin_end": 34228.2,
            "count": 0
           },
           {
            "bin_start": 34228.2,
            "bin_end": 37642.8,
            "count": 0
           },
           {
            "bin_start": 37642.8,
            "bin_end": 41057.399999999994,
            "count": 0
           },
           {
            "bin_start": 41057.399999999994,
            "bin_end": 44472,
            "count": 1
           }
          ]
         }
        },
        {
         "name": "node_count",
         "dtype": "int64",
         "stats": {
          "unique_count": 2,
          "nan_count": 0,
          "min": "4315",
          "max": "18730",
          "histogram": [
           {
            "bin_start": 4315,
            "bin_end": 5756.5,
            "count": 1
           },
           {
            "bin_start": 5756.5,
            "bin_end": 7198,
            "count": 0
           },
           {
            "bin_start": 7198,
            "bin_end": 8639.5,
            "count": 0
           },
           {
            "bin_start": 8639.5,
            "bin_end": 10081,
            "count": 0
           },
           {
            "bin_start": 10081,
            "bin_end": 11522.5,
            "count": 0
           },
           {
            "bin_start": 11522.5,
            "bin_end": 12964,
            "count": 0
           },
           {
            "bin_start": 12964,
            "bin_end": 14405.5,
            "count": 0
           },
           {
            "bin_start": 14405.5,
            "bin_end": 15847,
            "count": 0
           },
           {
            "bin_start": 15847,
            "bin_end": 17288.5,
            "count": 0
           },
           {
            "bin_start": 17288.5,
            "bin_end": 18730,
            "count": 1
           }
          ]
         }
        },
        {
         "name": "node_density_km",
         "dtype": "float64",
         "stats": {
          "unique_count": 2,
          "nan_count": 0,
          "min": "2.8026492729762484",
          "max": "4.548759812366762",
          "histogram": [
           {
            "bin_start": 2.8026492729762484,
            "bin_end": 2.9772603269153,
            "count": 1
           },
           {
            "bin_start": 2.9772603269153,
            "bin_end": 3.151871380854351,
            "count": 0
           },
           {
            "bin_start": 3.151871380854351,
            "bin_end": 3.3264824347934026,
            "count": 0
           },
           {
            "bin_start": 3.3264824347934026,
            "bin_end": 3.5010934887324536,
            "count": 0
           },
           {
            "bin_start": 3.5010934887324536,
            "bin_end": 3.675704542671505,
            "count": 0
           },
           {
            "bin_start": 3.675704542671505,
            "bin_end": 3.8503155966105567,
            "count": 0
           },
           {
            "bin_start": 3.8503155966105567,
            "bin_end": 4.024926650549608,
            "count": 0
           },
           {
            "bin_start": 4.024926650549608,
            "bin_end": 4.199537704488659,
            "count": 0
           },
           {
            "bin_start": 4.199537704488659,
            "bin_end": 4.374148758427711,
            "count": 0
           },
           {
            "bin_start": 4.374148758427711,
            "bin_end": 4.548759812366762,
            "count": 1
           }
          ]
         }
        },
        {
         "name": "pagerank_max",
         "dtype": "float64",
         "stats": {
          "unique_count": 2,
          "nan_count": 0,
          "min": "0.0002029017406304",
          "max": "0.0007700665057169",
          "histogram": [
           {
            "bin_start": 0.0002029017406304,
            "bin_end": 0.00025961821713905,
            "count": 1
           },
           {
            "bin_start": 0.00025961821713905,
            "bin_end": 0.00031633469364769997,
            "count": 0
           },
           {
            "bin_start": 0.00031633469364769997,
            "bin_end": 0.00037305117015634995,
            "count": 0
           },
           {
            "bin_start": 0.00037305117015634995,
            "bin_end": 0.000429767646665,
            "count": 0
           },
           {
            "bin_start": 0.000429767646665,
            "bin_end": 0.00048648412317365,
            "count": 0
           },
           {
            "bin_start": 0.00048648412317365,
            "bin_end": 0.0005432005996823,
            "count": 0
           },
           {
            "bin_start": 0.0005432005996823,
            "bin_end": 0.00059991707619095,
            "count": 0
           },
           {
            "bin_start": 0.00059991707619095,
            "bin_end": 0.0006566335526996,
            "count": 0
           },
           {
            "bin_start": 0.0006566335526996,
            "bin_end": 0.00071335002920825,
            "count": 0
           },
           {
            "bin_start": 0.00071335002920825,
            "bin_end": 0.0007700665057169,
            "count": 1
           }
          ]
         }
        },
        {
         "name": "pagerank_min",
         "dtype": "float64",
         "stats": {
          "unique_count": 2,
          "nan_count": 0,
          "min": "8.02390199458343e-06",
          "max": "3.4837075483107936e-05",
          "histogram": [
           {
            "bin_start": 0.00000802390199458343,
            "bin_end": 0.00001070521934343588,
            "count": 1
           },
           {
            "bin_start": 0.00001070521934343588,
            "bin_end": 0.00001338653669228833,
            "count": 0
           },
           {
            "bin_start": 0.00001338653669228833,
            "bin_end": 0.00001606785404114078,
            "count": 0
           },
           {
            "bin_start": 0.00001606785404114078,
            "bin_end": 0.00001874917138999323,
            "count": 0
           },
           {
            "bin_start": 0.00001874917138999323,
            "bin_end": 0.000021430488738845682,
            "count": 0
           },
           {
            "bin_start": 0.000021430488738845682,
            "bin_end": 0.00002411180608769813,
            "count": 0
           },
           {
            "bin_start": 0.00002411180608769813,
            "bin_end": 0.00002679312343655058,
            "count": 0
           },
           {
            "bin_start": 0.00002679312343655058,
            "bin_end": 0.000029474440785403033,
            "count": 0
           },
           {
            "bin_start": 0.000029474440785403033,
            "bin_end": 0.00003215575813425548,
            "count": 0
           },
           {
            "bin_start": 0.00003215575813425548,
            "bin_end": 0.000034837075483107936,
            "count": 1
           }
          ]
         }
        },
        {
         "name": "self_loop_proportion",
         "dtype": "float64",
         "stats": {
          "unique_count": 2,
          "nan_count": 0,
          "min": "0.010265349602944",
          "max": "0.015717754991905",
          "histogram": [
           {
            "bin_start": 0.010265349602944,
            "bin_end": 0.0108105901418401,
            "count": 1
           },
           {
            "bin_start": 0.0108105901418401,
            "bin_end": 0.0113558306807362,
            "count": 0
           },
           {
            "bin_start": 0.0113558306807362,
            "bin_end": 0.011901071219632301,
            "count": 0
           },
           {
            "bin_start": 0.011901071219632301,
            "bin_end": 0.0124463117585284,
            "count": 0
           },
           {
            "bin_start": 0.0124463117585284,
            "bin_end": 0.0129915522974245,
            "count": 0
           },
           {
            "bin_start": 0.0129915522974245,
            "bin_end": 0.0135367928363206,
            "count": 0
           },
           {
            "bin_start": 0.0135367928363206,
            "bin_end": 0.0140820333752167,
            "count": 0
           },
           {
            "bin_start": 0.0140820333752167,
            "bin_end": 0.014627273914112799,
            "count": 0
           },
           {
            "bin_start": 0.014627273914112799,
            "bin_end": 0.0151725144530089,
            "count": 0
           },
           {
            "bin_start": 0.0151725144530089,
            "bin_end": 0.015717754991905,
            "count": 1
           }
          ]
         }
        },
        {
         "name": "street_density_km",
         "dtype": "float64",
         "stats": {
          "unique_count": 2,
          "nan_count": 0,
          "min": "1282.7944361531231",
          "max": "1465.7808205215424",
          "histogram": [
           {
            "bin_start": 1282.7944361531231,
            "bin_end": 1301.093074589965,
            "count": 1
           },
           {
            "bin_start": 1301.093074589965,
            "bin_end": 1319.3917130268069,
            "count": 0
           },
           {
            "bin_start": 1319.3917130268069,
            "bin_end": 1337.690351463649,
            "count": 0
           },
           {
            "bin_start": 1337.690351463649,
            "bin_end": 1355.9889899004909,
            "count": 0
           },
           {
            "bin_start": 1355.9889899004909,
            "bin_end": 1374.2876283373328,
            "count": 0
           },
           {
            "bin_start": 1374.2876283373328,
            "bin_end": 1392.5862667741746,
            "count": 0
           },
           {
            "bin_start": 1392.5862667741746,
            "bin_end": 1410.8849052110165,
            "count": 0
           },
           {
            "bin_start": 1410.8849052110165,
            "bin_end": 1429.1835436478586,
            "count": 0
           },
           {
            "bin_start": 1429.1835436478586,
            "bin_end": 1447.4821820847005,
            "count": 0
           },
           {
            "bin_start": 1447.4821820847005,
            "bin_end": 1465.7808205215424,
            "count": 1
           }
          ]
         }
        },
        {
         "name": "street_length_avg",
         "dtype": "float64",
         "stats": {
          "unique_count": 2,
          "nan_count": 0,
          "min": "254.31938635597336",
          "max": "371.521663280662",
          "histogram": [
           {
            "bin_start": 254.31938635597336,
            "bin_end": 266.0396140484422,
            "count": 1
           },
           {
            "bin_start": 266.0396140484422,
            "bin_end": 277.7598417409111,
            "count": 0
           },
           {
            "bin_start": 277.7598417409111,
            "bin_end": 289.48006943338,
            "count": 0
           },
           {
            "bin_start": 289.48006943338,
            "bin_end": 301.2002971258488,
            "count": 0
           },
           {
            "bin_start": 301.2002971258488,
            "bin_end": 312.9205248183177,
            "count": 0
           },
           {
            "bin_start": 312.9205248183177,
            "bin_end": 324.64075251078657,
            "count": 0
           },
           {
            "bin_start": 324.64075251078657,
            "bin_end": 336.3609802032554,
            "count": 0
           },
           {
            "bin_start": 336.3609802032554,
            "bin_end": 348.0812078957243,
            "count": 0
           },
           {
            "bin_start": 348.0812078957243,
            "bin_end": 359.80143558819316,
            "count": 0
           },
           {
            "bin_start": 359.80143558819316,
            "bin_end": 371.521663280662,
            "count": 1
           }
          ]
         }
        },
        {
         "name": "street_length_total",
         "dtype": "float64",
         "stats": {
          "unique_count": 2,
          "nan_count": 0,
          "min": "1975009.161999999",
          "max": "6035507.67699996",
          "histogram": [
           {
            "bin_start": 1975009.161999999,
            "bin_end": 2381059.013499995,
            "count": 1
           },
           {
            "bin_start": 2381059.013499995,
            "bin_end": 2787108.8649999914,
            "count": 0
           },
           {
            "bin_start": 2787108.8649999914,
            "bin_end": 3193158.716499987,
            "count": 0
           },
           {
            "bin_start": 3193158.716499987,
            "bin_end": 3599208.567999983,
            "count": 0
           },
           {
            "bin_start": 3599208.567999983,
            "bin_end": 4005258.4194999794,
            "count": 0
           },
           {
            "bin_start": 4005258.4194999794,
            "bin_end": 4411308.2709999755,
            "count": 0
           },
           {
            "bin_start": 4411308.2709999755,
            "bin_end": 4817358.122499972,
            "count": 0
           },
           {
            "bin_start": 4817358.122499972,
            "bin_end": 5223407.973999968,
            "count": 0
           },
           {
            "bin_start": 5223407.973999968,
            "bin_end": 5629457.825499964,
            "count": 0
           },
           {
            "bin_start": 5629457.825499964,
            "bin_end": 6035507.67699996,
            "count": 1
           }
          ]
         }
        },
        {
         "name": "street_segments_count",
         "dtype": "int64",
         "stats": {
          "unique_count": 2,
          "nan_count": 0,
          "min": "5316",
          "max": "23732",
          "histogram": [
           {
            "bin_start": 5316,
            "bin_end": 7157.6,
            "count": 1
           },
           {
            "bin_start": 7157.6,
            "bin_end": 8999.2,
            "count": 0
           },
           {
            "bin_start": 8999.2,
            "bin_end": 10840.8,
            "count": 0
           },
           {
            "bin_start": 10840.8,
            "bin_end": 12682.4,
            "count": 0
           },
           {
            "bin_start": 12682.4,
            "bin_end": 14524,
            "count": 0
           },
           {
            "bin_start": 14524,
            "bin_end": 16365.599999999999,
            "count": 0
           },
           {
            "bin_start": 16365.599999999999,
            "bin_end": 18207.199999999997,
            "count": 0
           },
           {
            "bin_start": 18207.199999999997,
            "bin_end": 20048.8,
            "count": 0
           },
           {
            "bin_start": 20048.8,
            "bin_end": 21890.399999999998,
            "count": 0
           },
           {
            "bin_start": 21890.399999999998,
            "bin_end": 23732,
            "count": 1
           }
          ]
         }
        },
        {
         "name": "streets_per_node_avg",
         "dtype": "float64",
         "stats": {
          "unique_count": 2,
          "nan_count": 0,
          "min": "2.455156431054461",
          "max": "2.501281366791244",
          "histogram": [
           {
            "bin_start": 2.455156431054461,
            "bin_end": 2.4597689246281393,
            "count": 1
           },
           {
            "bin_start": 2.4597689246281393,
            "bin_end": 2.4643814182018176,
            "count": 0
           },
           {
            "bin_start": 2.4643814182018176,
            "bin_end": 2.468993911775496,
            "count": 0
           },
           {
            "bin_start": 2.468993911775496,
            "bin_end": 2.4736064053491744,
            "count": 0
           },
           {
            "bin_start": 2.4736064053491744,
            "bin_end": 2.4782188989228526,
            "count": 0
           },
           {
            "bin_start": 2.4782188989228526,
            "bin_end": 2.482831392496531,
            "count": 0
           },
           {
            "bin_start": 2.482831392496531,
            "bin_end": 2.487443886070209,
            "count": 0
           },
           {
            "bin_start": 2.487443886070209,
            "bin_end": 2.4920563796438877,
            "count": 0
           },
           {
            "bin_start": 2.4920563796438877,
            "bin_end": 2.496668873217566,
            "count": 0
           },
           {
            "bin_start": 2.496668873217566,
            "bin_end": 2.501281366791244,
            "count": 1
           }
          ]
         }
        },
        {
         "name": "_deepnote_index_column",
         "dtype": "int64"
        }
       ],
       "rows_top": [
        {
         "county": "Autauga County",
         "geoid": 1001,
         "area_km": 1539.614693,
         "avg_neighbor_degree_avg": 2.8012437234453547,
         "avg_weighted_neighbor_degree_avg": 0.0215442880881301,
         "circuity_avg": 1.0959061889786856,
         "cluster_coeff_avg": 0.0452143684820396,
         "cluster_coeff_weighted_avg": 0.0008537819887872,
         "degree_centrality_avg": 0.001109433244641,
         "edge_density_km": 2519.774067263978,
         "edge_length_avg": 375.7002883013743,
         "edge_length_total": 3879481,
         "dead_end_count": 1351,
         "dead_end_proportion": 0.3130938586326767,
         "intersect_3way_count": 2597,
         "intersect_3way_proportion": 0.6018539976825029,
         "intersect_4way_count": 346,
         "intersect_4way_proportion": 0.0801853997682502,
         "intersection_count": 2963,
         "intersect_density_km": 1.924507484548928,
         "k_avg": 4.7860950173812284,
         "edge_count": 10326,
         "node_count": 4315,
         "node_density_km": 2.8026492729762484,
         "pagerank_max": 0.0007700665057169,
         "pagerank_min": 0.000034837075483107936,
         "self_loop_proportion": 0.010265349602944,
         "street_density_km": 1282.7944361531231,
         "street_length_avg": 371.521663280662,
         "street_length_total": 1975009.161999999,
         "street_segments_count": 5316,
         "streets_per_node_avg": 2.455156431054461,
         "_deepnote_index_column": 0
        },
        {
         "county": "Baldwin County",
         "geoid": 1003,
         "area_km": 4117.605847,
         "avg_neighbor_degree_avg": 2.7539286349884886,
         "avg_weighted_neighbor_degree_avg": 0.0262842018612395,
         "circuity_avg": 1.078591579314444,
         "cluster_coeff_avg": 0.0379533724862078,
         "cluster_coeff_weighted_avg": 0.0002406773553795,
         "degree_centrality_avg": 0.0002535503939531,
         "edge_density_km": 2772.858996525498,
         "edge_length_avg": 256.73548338280136,
         "edge_length_total": 11417540,
         "dead_end_count": 5689,
         "dead_end_proportion": 0.303737319807795,
         "intersect_3way_count": 10621,
         "intersect_3way_proportion": 0.5670581954084357,
         "intersect_4way_count": 2124,
         "intersect_4way_proportion": 0.1134009610250934,
         "intersection_count": 13041,
         "intersect_density_km": 3.167131698509073,
         "k_avg": 4.74874532835024,
         "edge_count": 44472,
         "node_count": 18730,
         "node_density_km": 4.548759812366762,
         "pagerank_max": 0.0002029017406304,
         "pagerank_min": 0.00000802390199458343,
         "self_loop_proportion": 0.015717754991905,
         "street_density_km": 1465.7808205215424,
         "street_length_avg": 254.31938635597336,
         "street_length_total": 6035507.67699996,
         "street_segments_count": 23732,
         "streets_per_node_avg": 2.501281366791244,
         "_deepnote_index_column": 1
        }
       ],
       "rows_bottom": null
      },
      "text/plain": "           county  geoid      area_km  avg_neighbor_degree_avg  \\\n0  Autauga County   1001  1539.614693                 2.801244   \n1  Baldwin County   1003  4117.605847                 2.753929   \n\n   avg_weighted_neighbor_degree_avg  circuity_avg  cluster_coeff_avg  \\\n0                          0.021544      1.095906           0.045214   \n1                          0.026284      1.078592           0.037953   \n\n   cluster_coeff_weighted_avg  degree_centrality_avg  edge_density_km  ...  \\\n0                    0.000854               0.001109      2519.774067  ...   \n1                    0.000241               0.000254      2772.858997  ...   \n\n   node_count  node_density_km  pagerank_max  pagerank_min  \\\n0        4315         2.802649      0.000770      0.000035   \n1       18730         4.548760      0.000203      0.000008   \n\n   self_loop_proportion  street_density_km  street_length_avg  \\\n0              0.010265        1282.794436         371.521663   \n1              0.015718        1465.780821         254.319386   \n\n   street_length_total  street_segments_count  streets_per_node_avg  \n0          1975009.162                   5316              2.455156  \n1          6035507.677                  23732              2.501281  \n\n[2 rows x 32 columns]",
      "text/html": "<div>\n<style scoped>\n    .dataframe tbody tr th:only-of-type {\n        vertical-align: middle;\n    }\n\n    .dataframe tbody tr th {\n        vertical-align: top;\n    }\n\n    .dataframe thead th {\n        text-align: right;\n    }\n</style>\n<table border=\"1\" class=\"dataframe\">\n  <thead>\n    <tr style=\"text-align: right;\">\n      <th></th>\n      <th>county</th>\n      <th>geoid</th>\n      <th>area_km</th>\n      <th>avg_neighbor_degree_avg</th>\n      <th>avg_weighted_neighbor_degree_avg</th>\n      <th>circuity_avg</th>\n      <th>cluster_coeff_avg</th>\n      <th>cluster_coeff_weighted_avg</th>\n      <th>degree_centrality_avg</th>\n      <th>edge_density_km</th>\n      <th>...</th>\n      <th>node_count</th>\n      <th>node_density_km</th>\n      <th>pagerank_max</th>\n      <th>pagerank_min</th>\n      <th>self_loop_proportion</th>\n      <th>street_density_km</th>\n      <th>street_length_avg</th>\n      <th>street_length_total</th>\n      <th>street_segments_count</th>\n      <th>streets_per_node_avg</th>\n    </tr>\n  </thead>\n  <tbody>\n    <tr>\n      <th>0</th>\n      <td>Autauga County</td>\n      <td>1001</td>\n      <td>1539.614693</td>\n      <td>2.801244</td>\n      <td>0.021544</td>\n      <td>1.095906</td>\n      <td>0.045214</td>\n      <td>0.000854</td>\n      <td>0.001109</td>\n      <td>2519.774067</td>\n      <td>...</td>\n      <td>4315</td>\n      <td>2.802649</td>\n      <td>0.000770</td>\n      <td>0.000035</td>\n      <td>0.010265</td>\n      <td>1282.794436</td>\n      <td>371.521663</td>\n      <td>1975009.162</td>\n      <td>5316</td>\n      <td>2.455156</td>\n    </tr>\n    <tr>\n      <th>1</th>\n      <td>Baldwin County</td>\n      <td>1003</td>\n      <td>4117.605847</td>\n      <td>2.753929</td>\n      <td>0.026284</td>\n      <td>1.078592</td>\n      <td>0.037953</td>\n      <td>0.000241</td>\n      <td>0.000254</td>\n      <td>2772.858997</td>\n      <td>...</td>\n      <td>18730</td>\n      <td>4.548760</td>\n      <td>0.000203</td>\n      <td>0.000008</td>\n      <td>0.015718</td>\n      <td>1465.780821</td>\n      <td>254.319386</td>\n      <td>6035507.677</td>\n      <td>23732</td>\n      <td>2.501281</td>\n    </tr>\n  </tbody>\n</table>\n<p>2 rows × 32 columns</p>\n</div>"
     },
     "metadata": {}
    }
   ]
  },
  {
   "cell_type": "code",
   "metadata": {
    "tags": [],
    "cell_id": "00014-ad52b21e-2380-43f7-8955-0f6a4c94cc04",
    "deepnote_to_be_reexecuted": false,
    "source_hash": "4cc79cd8",
    "execution_start": 1624685200932,
    "execution_millis": 119,
    "deepnote_cell_type": "code"
   },
   "source": "raw_noaa_storm_events.head(2)",
   "execution_count": null,
   "outputs": [
    {
     "output_type": "execute_result",
     "execution_count": 13,
     "data": {
      "application/vnd.deepnote.dataframe.v2+json": {
       "row_count": 2,
       "column_count": 11,
       "columns": [
        {
         "name": "FAT_YEARMONTH",
         "dtype": "int64",
         "stats": {
          "unique_count": 2,
          "nan_count": 0,
          "min": "201602",
          "max": "201603",
          "histogram": [
           {
            "bin_start": 201602,
            "bin_end": 201602.1,
            "count": 1
           },
           {
            "bin_start": 201602.1,
            "bin_end": 201602.2,
            "count": 0
           },
           {
            "bin_start": 201602.2,
            "bin_end": 201602.3,
            "count": 0
           },
           {
            "bin_start": 201602.3,
            "bin_end": 201602.4,
            "count": 0
           },
           {
            "bin_start": 201602.4,
            "bin_end": 201602.5,
            "count": 0
           },
           {
            "bin_start": 201602.5,
            "bin_end": 201602.6,
            "count": 0
           },
           {
            "bin_start": 201602.6,
            "bin_end": 201602.7,
            "count": 0
           },
           {
            "bin_start": 201602.7,
            "bin_end": 201602.8,
            "count": 0
           },
           {
            "bin_start": 201602.8,
            "bin_end": 201602.9,
            "count": 0
           },
           {
            "bin_start": 201602.9,
            "bin_end": 201603,
            "count": 1
           }
          ]
         }
        },
        {
         "name": "FAT_DAY",
         "dtype": "int64",
         "stats": {
          "unique_count": 2,
          "nan_count": 0,
          "min": "9",
          "max": "24",
          "histogram": [
           {
            "bin_start": 9,
            "bin_end": 10.5,
            "count": 1
           },
           {
            "bin_start": 10.5,
            "bin_end": 12,
            "count": 0
           },
           {
            "bin_start": 12,
            "bin_end": 13.5,
            "count": 0
           },
           {
            "bin_start": 13.5,
            "bin_end": 15,
            "count": 0
           },
           {
            "bin_start": 15,
            "bin_end": 16.5,
            "count": 0
           },
           {
            "bin_start": 16.5,
            "bin_end": 18,
            "count": 0
           },
           {
            "bin_start": 18,
            "bin_end": 19.5,
            "count": 0
           },
           {
            "bin_start": 19.5,
            "bin_end": 21,
            "count": 0
           },
           {
            "bin_start": 21,
            "bin_end": 22.5,
            "count": 0
           },
           {
            "bin_start": 22.5,
            "bin_end": 24,
            "count": 1
           }
          ]
         }
        },
        {
         "name": "FAT_TIME",
         "dtype": "int64",
         "stats": {
          "unique_count": 1,
          "nan_count": 0,
          "min": "0",
          "max": "0",
          "histogram": [
           {
            "bin_start": -0.5,
            "bin_end": -0.4,
            "count": 0
           },
           {
            "bin_start": -0.4,
            "bin_end": -0.3,
            "count": 0
           },
           {
            "bin_start": -0.3,
            "bin_end": -0.19999999999999996,
            "count": 0
           },
           {
            "bin_start": -0.19999999999999996,
            "bin_end": -0.09999999999999998,
            "count": 0
           },
           {
            "bin_start": -0.09999999999999998,
            "bin_end": 0,
            "count": 0
           },
           {
            "bin_start": 0,
            "bin_end": 0.10000000000000009,
            "count": 2
           },
           {
            "bin_start": 0.10000000000000009,
            "bin_end": 0.20000000000000007,
            "count": 0
           },
           {
            "bin_start": 0.20000000000000007,
            "bin_end": 0.30000000000000004,
            "count": 0
           },
           {
            "bin_start": 0.30000000000000004,
            "bin_end": 0.4,
            "count": 0
           },
           {
            "bin_start": 0.4,
            "bin_end": 0.5,
            "count": 0
           }
          ]
         }
        },
        {
         "name": "FATALITY_ID",
         "dtype": "int64",
         "stats": {
          "unique_count": 2,
          "nan_count": 0,
          "min": "30075",
          "max": "30181",
          "histogram": [
           {
            "bin_start": 30075,
            "bin_end": 30085.6,
            "count": 1
           },
           {
            "bin_start": 30085.6,
            "bin_end": 30096.2,
            "count": 0
           },
           {
            "bin_start": 30096.2,
            "bin_end": 30106.8,
            "count": 0
           },
           {
            "bin_start": 30106.8,
            "bin_end": 30117.4,
            "count": 0
           },
           {
            "bin_start": 30117.4,
            "bin_end": 30128,
            "count": 0
           },
           {
            "bin_start": 30128,
            "bin_end": 30138.6,
            "count": 0
           },
           {
            "bin_start": 30138.6,
            "bin_end": 30149.2,
            "count": 0
           },
           {
            "bin_start": 30149.2,
            "bin_end": 30159.8,
            "count": 0
           },
           {
            "bin_start": 30159.8,
            "bin_end": 30170.4,
            "count": 0
           },
           {
            "bin_start": 30170.4,
            "bin_end": 30181,
            "count": 1
           }
          ]
         }
        },
        {
         "name": "EVENT_ID",
         "dtype": "int64",
         "stats": {
          "unique_count": 2,
          "nan_count": 0,
          "min": "619440",
          "max": "626789",
          "histogram": [
           {
            "bin_start": 619440,
            "bin_end": 620174.9,
            "count": 1
           },
           {
            "bin_start": 620174.9,
            "bin_end": 620909.8,
            "count": 0
           },
           {
            "bin_start": 620909.8,
            "bin_end": 621644.7,
            "count": 0
           },
           {
            "bin_start": 621644.7,
            "bin_end": 622379.6,
            "count": 0
           },
           {
            "bin_start": 622379.6,
            "bin_end": 623114.5,
            "count": 0
           },
           {
            "bin_start": 623114.5,
            "bin_end": 623849.4,
            "count": 0
           },
           {
            "bin_start": 623849.4,
            "bin_end": 624584.3,
            "count": 0
           },
           {
            "bin_start": 624584.3,
            "bin_end": 625319.2,
            "count": 0
           },
           {
            "bin_start": 625319.2,
            "bin_end": 626054.1,
            "count": 0
           },
           {
            "bin_start": 626054.1,
            "bin_end": 626789,
            "count": 1
           }
          ]
         }
        },
        {
         "name": "FATALITY_TYPE",
         "dtype": "object",
         "stats": {
          "unique_count": 1,
          "nan_count": 0,
          "categories": [
           {
            "name": "D",
            "count": 2
           }
          ]
         }
        },
        {
         "name": "FATALITY_DATE",
         "dtype": "object",
         "stats": {
          "unique_count": 2,
          "nan_count": 0,
          "categories": [
           {
            "name": "02/24/2016 00:00:00",
            "count": 1
           },
           {
            "name": "03/09/2016 00:00:00",
            "count": 1
           }
          ]
         }
        },
        {
         "name": "FATALITY_AGE",
         "dtype": "float64",
         "stats": {
          "unique_count": 2,
          "nan_count": 0,
          "min": "56.0",
          "max": "78.0",
          "histogram": [
           {
            "bin_start": 56,
            "bin_end": 58.2,
            "count": 1
           },
           {
            "bin_start": 58.2,
            "bin_end": 60.4,
            "count": 0
           },
           {
            "bin_start": 60.4,
            "bin_end": 62.6,
            "count": 0
           },
           {
            "bin_start": 62.6,
            "bin_end": 64.8,
            "count": 0
           },
           {
            "bin_start": 64.8,
            "bin_end": 67,
            "count": 0
           },
           {
            "bin_start": 67,
            "bin_end": 69.2,
            "count": 0
           },
           {
            "bin_start": 69.2,
            "bin_end": 71.4,
            "count": 0
           },
           {
            "bin_start": 71.4,
            "bin_end": 73.6,
            "count": 0
           },
           {
            "bin_start": 73.6,
            "bin_end": 75.8,
            "count": 0
           },
           {
            "bin_start": 75.8,
            "bin_end": 78,
            "count": 1
           }
          ]
         }
        },
        {
         "name": "FATALITY_SEX",
         "dtype": "object",
         "stats": {
          "unique_count": 1,
          "nan_count": 0,
          "categories": [
           {
            "name": "M",
            "count": 2
           }
          ]
         }
        },
        {
         "name": "FATALITY_LOCATION",
         "dtype": "object",
         "stats": {
          "unique_count": 1,
          "nan_count": 0,
          "categories": [
           {
            "name": "Outside/Open Areas",
            "count": 2
           }
          ]
         }
        },
        {
         "name": "EVENT_YEARMONTH",
         "dtype": "float64",
         "stats": {
          "unique_count": 2,
          "nan_count": 0,
          "min": "201602.0",
          "max": "201603.0",
          "histogram": [
           {
            "bin_start": 201602,
            "bin_end": 201602.1,
            "count": 1
           },
           {
            "bin_start": 201602.1,
            "bin_end": 201602.2,
            "count": 0
           },
           {
            "bin_start": 201602.2,
            "bin_end": 201602.3,
            "count": 0
           },
           {
            "bin_start": 201602.3,
            "bin_end": 201602.4,
            "count": 0
           },
           {
            "bin_start": 201602.4,
            "bin_end": 201602.5,
            "count": 0
           },
           {
            "bin_start": 201602.5,
            "bin_end": 201602.6,
            "count": 0
           },
           {
            "bin_start": 201602.6,
            "bin_end": 201602.7,
            "count": 0
           },
           {
            "bin_start": 201602.7,
            "bin_end": 201602.8,
            "count": 0
           },
           {
            "bin_start": 201602.8,
            "bin_end": 201602.9,
            "count": 0
           },
           {
            "bin_start": 201602.9,
            "bin_end": 201603,
            "count": 1
           }
          ]
         }
        },
        {
         "name": "_deepnote_index_column",
         "dtype": "int64"
        }
       ],
       "rows_top": [
        {
         "FAT_YEARMONTH": 201602,
         "FAT_DAY": 24,
         "FAT_TIME": 0,
         "FATALITY_ID": 30075,
         "EVENT_ID": 619440,
         "FATALITY_TYPE": "D",
         "FATALITY_DATE": "02/24/2016 00:00:00",
         "FATALITY_AGE": 78,
         "FATALITY_SEX": "M",
         "FATALITY_LOCATION": "Outside/Open Areas",
         "EVENT_YEARMONTH": 201602,
         "_deepnote_index_column": 0
        },
        {
         "FAT_YEARMONTH": 201603,
         "FAT_DAY": 9,
         "FAT_TIME": 0,
         "FATALITY_ID": 30181,
         "EVENT_ID": 626789,
         "FATALITY_TYPE": "D",
         "FATALITY_DATE": "03/09/2016 00:00:00",
         "FATALITY_AGE": 56,
         "FATALITY_SEX": "M",
         "FATALITY_LOCATION": "Outside/Open Areas",
         "EVENT_YEARMONTH": 201603,
         "_deepnote_index_column": 1
        }
       ],
       "rows_bottom": null
      },
      "text/plain": "   FAT_YEARMONTH  FAT_DAY  FAT_TIME  FATALITY_ID  EVENT_ID FATALITY_TYPE  \\\n0         201602       24         0        30075    619440             D   \n1         201603        9         0        30181    626789             D   \n\n         FATALITY_DATE  FATALITY_AGE FATALITY_SEX   FATALITY_LOCATION  \\\n0  02/24/2016 00:00:00          78.0            M  Outside/Open Areas   \n1  03/09/2016 00:00:00          56.0            M  Outside/Open Areas   \n\n   EVENT_YEARMONTH  \n0         201602.0  \n1         201603.0  ",
      "text/html": "<div>\n<style scoped>\n    .dataframe tbody tr th:only-of-type {\n        vertical-align: middle;\n    }\n\n    .dataframe tbody tr th {\n        vertical-align: top;\n    }\n\n    .dataframe thead th {\n        text-align: right;\n    }\n</style>\n<table border=\"1\" class=\"dataframe\">\n  <thead>\n    <tr style=\"text-align: right;\">\n      <th></th>\n      <th>FAT_YEARMONTH</th>\n      <th>FAT_DAY</th>\n      <th>FAT_TIME</th>\n      <th>FATALITY_ID</th>\n      <th>EVENT_ID</th>\n      <th>FATALITY_TYPE</th>\n      <th>FATALITY_DATE</th>\n      <th>FATALITY_AGE</th>\n      <th>FATALITY_SEX</th>\n      <th>FATALITY_LOCATION</th>\n      <th>EVENT_YEARMONTH</th>\n    </tr>\n  </thead>\n  <tbody>\n    <tr>\n      <th>0</th>\n      <td>201602</td>\n      <td>24</td>\n      <td>0</td>\n      <td>30075</td>\n      <td>619440</td>\n      <td>D</td>\n      <td>02/24/2016 00:00:00</td>\n      <td>78.0</td>\n      <td>M</td>\n      <td>Outside/Open Areas</td>\n      <td>201602.0</td>\n    </tr>\n    <tr>\n      <th>1</th>\n      <td>201603</td>\n      <td>9</td>\n      <td>0</td>\n      <td>30181</td>\n      <td>626789</td>\n      <td>D</td>\n      <td>03/09/2016 00:00:00</td>\n      <td>56.0</td>\n      <td>M</td>\n      <td>Outside/Open Areas</td>\n      <td>201603.0</td>\n    </tr>\n  </tbody>\n</table>\n</div>"
     },
     "metadata": {}
    }
   ]
  },
  {
   "cell_type": "code",
   "metadata": {
    "tags": [],
    "cell_id": "00015-01cebc90-3c94-400f-8c14-8656da3313aa",
    "deepnote_to_be_reexecuted": false,
    "source_hash": "31304557",
    "execution_start": 1624685205170,
    "execution_millis": 160,
    "deepnote_cell_type": "code"
   },
   "source": "raw_openicpsr_crime.head(2)",
   "execution_count": null,
   "outputs": [
    {
     "output_type": "execute_result",
     "execution_count": 14,
     "data": {
      "application/vnd.deepnote.dataframe.v2+json": {
       "row_count": 2,
       "column_count": 25,
       "columns": [
        {
         "name": "STCOFIPS",
         "dtype": "int64",
         "stats": {
          "unique_count": 1,
          "nan_count": 0,
          "min": "1001",
          "max": "1001",
          "histogram": [
           {
            "bin_start": 1000.5,
            "bin_end": 1000.6,
            "count": 0
           },
           {
            "bin_start": 1000.6,
            "bin_end": 1000.7,
            "count": 0
           },
           {
            "bin_start": 1000.7,
            "bin_end": 1000.8,
            "count": 0
           },
           {
            "bin_start": 1000.8,
            "bin_end": 1000.9,
            "count": 0
           },
           {
            "bin_start": 1000.9,
            "bin_end": 1001,
            "count": 0
           },
           {
            "bin_start": 1001,
            "bin_end": 1001.1,
            "count": 2
           },
           {
            "bin_start": 1001.1,
            "bin_end": 1001.2,
            "count": 0
           },
           {
            "bin_start": 1001.2,
            "bin_end": 1001.3,
            "count": 0
           },
           {
            "bin_start": 1001.3,
            "bin_end": 1001.4,
            "count": 0
           },
           {
            "bin_start": 1001.4,
            "bin_end": 1001.5,
            "count": 0
           }
          ]
         }
        },
        {
         "name": "FIPS_ST",
         "dtype": "int64",
         "stats": {
          "unique_count": 1,
          "nan_count": 0,
          "min": "1",
          "max": "1",
          "histogram": [
           {
            "bin_start": 0.5,
            "bin_end": 0.6,
            "count": 0
           },
           {
            "bin_start": 0.6,
            "bin_end": 0.7,
            "count": 0
           },
           {
            "bin_start": 0.7,
            "bin_end": 0.8,
            "count": 0
           },
           {
            "bin_start": 0.8,
            "bin_end": 0.9,
            "count": 0
           },
           {
            "bin_start": 0.9,
            "bin_end": 1,
            "count": 0
           },
           {
            "bin_start": 1,
            "bin_end": 1.1,
            "count": 2
           },
           {
            "bin_start": 1.1,
            "bin_end": 1.2000000000000002,
            "count": 0
           },
           {
            "bin_start": 1.2000000000000002,
            "bin_end": 1.3,
            "count": 0
           },
           {
            "bin_start": 1.3,
            "bin_end": 1.4,
            "count": 0
           },
           {
            "bin_start": 1.4,
            "bin_end": 1.5,
            "count": 0
           }
          ]
         }
        },
        {
         "name": "FIPS_CTY",
         "dtype": "int64",
         "stats": {
          "unique_count": 1,
          "nan_count": 0,
          "min": "1",
          "max": "1",
          "histogram": [
           {
            "bin_start": 0.5,
            "bin_end": 0.6,
            "count": 0
           },
           {
            "bin_start": 0.6,
            "bin_end": 0.7,
            "count": 0
           },
           {
            "bin_start": 0.7,
            "bin_end": 0.8,
            "count": 0
           },
           {
            "bin_start": 0.8,
            "bin_end": 0.9,
            "count": 0
           },
           {
            "bin_start": 0.9,
            "bin_end": 1,
            "count": 0
           },
           {
            "bin_start": 1,
            "bin_end": 1.1,
            "count": 2
           },
           {
            "bin_start": 1.1,
            "bin_end": 1.2000000000000002,
            "count": 0
           },
           {
            "bin_start": 1.2000000000000002,
            "bin_end": 1.3,
            "count": 0
           },
           {
            "bin_start": 1.3,
            "bin_end": 1.4,
            "count": 0
           },
           {
            "bin_start": 1.4,
            "bin_end": 1.5,
            "count": 0
           }
          ]
         }
        },
        {
         "name": "YEAR",
         "dtype": "int64",
         "stats": {
          "unique_count": 2,
          "nan_count": 0,
          "min": "2002",
          "max": "2003",
          "histogram": [
           {
            "bin_start": 2002,
            "bin_end": 2002.1,
            "count": 1
           },
           {
            "bin_start": 2002.1,
            "bin_end": 2002.2,
            "count": 0
           },
           {
            "bin_start": 2002.2,
            "bin_end": 2002.3,
            "count": 0
           },
           {
            "bin_start": 2002.3,
            "bin_end": 2002.4,
            "count": 0
           },
           {
            "bin_start": 2002.4,
            "bin_end": 2002.5,
            "count": 0
           },
           {
            "bin_start": 2002.5,
            "bin_end": 2002.6,
            "count": 0
           },
           {
            "bin_start": 2002.6,
            "bin_end": 2002.7,
            "count": 0
           },
           {
            "bin_start": 2002.7,
            "bin_end": 2002.8,
            "count": 0
           },
           {
            "bin_start": 2002.8,
            "bin_end": 2002.9,
            "count": 0
           },
           {
            "bin_start": 2002.9,
            "bin_end": 2003,
            "count": 1
           }
          ]
         }
        },
        {
         "name": "STUDYNO",
         "dtype": "object",
         "stats": {
          "unique_count": 2,
          "nan_count": 0,
          "categories": [
           {
            "name": "ICPSR Study No",
            "count": 1
           },
           {
            "name": "4360",
            "count": 1
           }
          ]
         }
        },
        {
         "name": "EDITION",
         "dtype": "object",
         "stats": {
          "unique_count": 1,
          "nan_count": 0,
          "categories": [
           {
            "name": "1st ed, August 2004",
            "count": 2
           }
          ]
         }
        },
        {
         "name": "PART",
         "dtype": "object",
         "stats": {
          "unique_count": 1,
          "nan_count": 0,
          "categories": [
           {
            "name": "Crimes-County",
            "count": 2
           }
          ]
         }
        },
        {
         "name": "IDNO",
         "dtype": "int64",
         "stats": {
          "unique_count": 1,
          "nan_count": 0,
          "min": "1",
          "max": "1",
          "histogram": [
           {
            "bin_start": 0.5,
            "bin_end": 0.6,
            "count": 0
           },
           {
            "bin_start": 0.6,
            "bin_end": 0.7,
            "count": 0
           },
           {
            "bin_start": 0.7,
            "bin_end": 0.8,
            "count": 0
           },
           {
            "bin_start": 0.8,
            "bin_end": 0.9,
            "count": 0
           },
           {
            "bin_start": 0.9,
            "bin_end": 1,
            "count": 0
           },
           {
            "bin_start": 1,
            "bin_end": 1.1,
            "count": 2
           },
           {
            "bin_start": 1.1,
            "bin_end": 1.2000000000000002,
            "count": 0
           },
           {
            "bin_start": 1.2000000000000002,
            "bin_end": 1.3,
            "count": 0
           },
           {
            "bin_start": 1.3,
            "bin_end": 1.4,
            "count": 0
           },
           {
            "bin_start": 1.4,
            "bin_end": 1.5,
            "count": 0
           }
          ]
         }
        },
        {
         "name": "CPOPARST",
         "dtype": "int64",
         "stats": {
          "unique_count": 2,
          "nan_count": 0,
          "min": "44959",
          "max": "46808",
          "histogram": [
           {
            "bin_start": 44959,
            "bin_end": 45143.9,
            "count": 1
           },
           {
            "bin_start": 45143.9,
            "bin_end": 45328.8,
            "count": 0
           },
           {
            "bin_start": 45328.8,
            "bin_end": 45513.7,
            "count": 0
           },
           {
            "bin_start": 45513.7,
            "bin_end": 45698.6,
            "count": 0
           },
           {
            "bin_start": 45698.6,
            "bin_end": 45883.5,
            "count": 0
           },
           {
            "bin_start": 45883.5,
            "bin_end": 46068.4,
            "count": 0
           },
           {
            "bin_start": 46068.4,
            "bin_end": 46253.3,
            "count": 0
           },
           {
            "bin_start": 46253.3,
            "bin_end": 46438.2,
            "count": 0
           },
           {
            "bin_start": 46438.2,
            "bin_end": 46623.1,
            "count": 0
           },
           {
            "bin_start": 46623.1,
            "bin_end": 46808,
            "count": 1
           }
          ]
         }
        },
        {
         "name": "CPOPCRIM",
         "dtype": "int64",
         "stats": {
          "unique_count": 2,
          "nan_count": 0,
          "min": "24424",
          "max": "45749",
          "histogram": [
           {
            "bin_start": 24424,
            "bin_end": 26556.5,
            "count": 1
           },
           {
            "bin_start": 26556.5,
            "bin_end": 28689,
            "count": 0
           },
           {
            "bin_start": 28689,
            "bin_end": 30821.5,
            "count": 0
           },
           {
            "bin_start": 30821.5,
            "bin_end": 32954,
            "count": 0
           },
           {
            "bin_start": 32954,
            "bin_end": 35086.5,
            "count": 0
           },
           {
            "bin_start": 35086.5,
            "bin_end": 37219,
            "count": 0
           },
           {
            "bin_start": 37219,
            "bin_end": 39351.5,
            "count": 0
           },
           {
            "bin_start": 39351.5,
            "bin_end": 41484,
            "count": 0
           },
           {
            "bin_start": 41484,
            "bin_end": 43616.5,
            "count": 0
           },
           {
            "bin_start": 43616.5,
            "bin_end": 45749,
            "count": 1
           }
          ]
         }
        },
        {
         "name": "AG_ARRST",
         "dtype": "int64",
         "stats": {
          "unique_count": 1,
          "nan_count": 0,
          "min": "3",
          "max": "3",
          "histogram": [
           {
            "bin_start": 2.5,
            "bin_end": 2.6,
            "count": 0
           },
           {
            "bin_start": 2.6,
            "bin_end": 2.7,
            "count": 0
           },
           {
            "bin_start": 2.7,
            "bin_end": 2.8,
            "count": 0
           },
           {
            "bin_start": 2.8,
            "bin_end": 2.9,
            "count": 0
           },
           {
            "bin_start": 2.9,
            "bin_end": 3,
            "count": 0
           },
           {
            "bin_start": 3,
            "bin_end": 3.1,
            "count": 2
           },
           {
            "bin_start": 3.1,
            "bin_end": 3.2,
            "count": 0
           },
           {
            "bin_start": 3.2,
            "bin_end": 3.3,
            "count": 0
           },
           {
            "bin_start": 3.3,
            "bin_end": 3.4,
            "count": 0
           },
           {
            "bin_start": 3.4,
            "bin_end": 3.5,
            "count": 0
           }
          ]
         }
        },
        {
         "name": "AG_OFF",
         "dtype": "int64",
         "stats": {
          "unique_count": 2,
          "nan_count": 0,
          "min": "2",
          "max": "4",
          "histogram": [
           {
            "bin_start": 2,
            "bin_end": 2.2,
            "count": 1
           },
           {
            "bin_start": 2.2,
            "bin_end": 2.4,
            "count": 0
           },
           {
            "bin_start": 2.4,
            "bin_end": 2.6,
            "count": 0
           },
           {
            "bin_start": 2.6,
            "bin_end": 2.8,
            "count": 0
           },
           {
            "bin_start": 2.8,
            "bin_end": 3,
            "count": 0
           },
           {
            "bin_start": 3,
            "bin_end": 3.2,
            "count": 0
           },
           {
            "bin_start": 3.2,
            "bin_end": 3.4000000000000004,
            "count": 0
           },
           {
            "bin_start": 3.4000000000000004,
            "bin_end": 3.6,
            "count": 0
           },
           {
            "bin_start": 3.6,
            "bin_end": 3.8,
            "count": 0
           },
           {
            "bin_start": 3.8,
            "bin_end": 4,
            "count": 1
           }
          ]
         }
        },
        {
         "name": "COVIND",
         "dtype": "float64",
         "stats": {
          "unique_count": 1,
          "nan_count": 0,
          "min": "100.0",
          "max": "100.0",
          "histogram": [
           {
            "bin_start": 99.5,
            "bin_end": 99.6,
            "count": 0
           },
           {
            "bin_start": 99.6,
            "bin_end": 99.7,
            "count": 0
           },
           {
            "bin_start": 99.7,
            "bin_end": 99.8,
            "count": 0
           },
           {
            "bin_start": 99.8,
            "bin_end": 99.9,
            "count": 0
           },
           {
            "bin_start": 99.9,
            "bin_end": 100,
            "count": 0
           },
           {
            "bin_start": 100,
            "bin_end": 100.1,
            "count": 2
           },
           {
            "bin_start": 100.1,
            "bin_end": 100.2,
            "count": 0
           },
           {
            "bin_start": 100.2,
            "bin_end": 100.3,
            "count": 0
           },
           {
            "bin_start": 100.3,
            "bin_end": 100.4,
            "count": 0
           },
           {
            "bin_start": 100.4,
            "bin_end": 100.5,
            "count": 0
           }
          ]
         }
        },
        {
         "name": "INDEX",
         "dtype": "float64",
         "stats": {
          "unique_count": 2,
          "nan_count": 0,
          "min": "1344.0",
          "max": "1829.0",
          "histogram": [
           {
            "bin_start": 1344,
            "bin_end": 1392.5,
            "count": 1
           },
           {
            "bin_start": 1392.5,
            "bin_end": 1441,
            "count": 0
           },
           {
            "bin_start": 1441,
            "bin_end": 1489.5,
            "count": 0
           },
           {
            "bin_start": 1489.5,
            "bin_end": 1538,
            "count": 0
           },
           {
            "bin_start": 1538,
            "bin_end": 1586.5,
            "count": 0
           },
           {
            "bin_start": 1586.5,
            "bin_end": 1635,
            "count": 0
           },
           {
            "bin_start": 1635,
            "bin_end": 1683.5,
            "count": 0
           },
           {
            "bin_start": 1683.5,
            "bin_end": 1732,
            "count": 0
           },
           {
            "bin_start": 1732,
            "bin_end": 1780.5,
            "count": 0
           },
           {
            "bin_start": 1780.5,
            "bin_end": 1829,
            "count": 1
           }
          ]
         }
        },
        {
         "name": "MODINDX",
         "dtype": "float64",
         "stats": {
          "unique_count": 2,
          "nan_count": 0,
          "min": "1357.0",
          "max": "1832.0",
          "histogram": [
           {
            "bin_start": 1357,
            "bin_end": 1404.5,
            "count": 1
           },
           {
            "bin_start": 1404.5,
            "bin_end": 1452,
            "count": 0
           },
           {
            "bin_start": 1452,
            "bin_end": 1499.5,
            "count": 0
           },
           {
            "bin_start": 1499.5,
            "bin_end": 1547,
            "count": 0
           },
           {
            "bin_start": 1547,
            "bin_end": 1594.5,
            "count": 0
           },
           {
            "bin_start": 1594.5,
            "bin_end": 1642,
            "count": 0
           },
           {
            "bin_start": 1642,
            "bin_end": 1689.5,
            "count": 0
           },
           {
            "bin_start": 1689.5,
            "bin_end": 1737,
            "count": 0
           },
           {
            "bin_start": 1737,
            "bin_end": 1784.5,
            "count": 0
           },
           {
            "bin_start": 1784.5,
            "bin_end": 1832,
            "count": 1
           }
          ]
         }
        },
        {
         "name": "VIOL",
         "dtype": "float64",
         "stats": {
          "unique_count": 0,
          "nan_count": 2,
          "min": null,
          "max": null,
          "histogram": [
           {
            "bin_start": 0,
            "bin_end": 0.1,
            "count": 0
           },
           {
            "bin_start": 0.1,
            "bin_end": 0.2,
            "count": 0
           },
           {
            "bin_start": 0.2,
            "bin_end": 0.30000000000000004,
            "count": 0
           },
           {
            "bin_start": 0.30000000000000004,
            "bin_end": 0.4,
            "count": 0
           },
           {
            "bin_start": 0.4,
            "bin_end": 0.5,
            "count": 0
           },
           {
            "bin_start": 0.5,
            "bin_end": 0.6000000000000001,
            "count": 0
           },
           {
            "bin_start": 0.6000000000000001,
            "bin_end": 0.7000000000000001,
            "count": 0
           },
           {
            "bin_start": 0.7000000000000001,
            "bin_end": 0.8,
            "count": 0
           },
           {
            "bin_start": 0.8,
            "bin_end": 0.9,
            "count": 0
           },
           {
            "bin_start": 0.9,
            "bin_end": 1,
            "count": 0
           }
          ]
         }
        },
        {
         "name": "PROPERTY",
         "dtype": "float64",
         "stats": {
          "unique_count": 0,
          "nan_count": 2,
          "min": null,
          "max": null,
          "histogram": [
           {
            "bin_start": 0,
            "bin_end": 0.1,
            "count": 0
           },
           {
            "bin_start": 0.1,
            "bin_end": 0.2,
            "count": 0
           },
           {
            "bin_start": 0.2,
            "bin_end": 0.30000000000000004,
            "count": 0
           },
           {
            "bin_start": 0.30000000000000004,
            "bin_end": 0.4,
            "count": 0
           },
           {
            "bin_start": 0.4,
            "bin_end": 0.5,
            "count": 0
           },
           {
            "bin_start": 0.5,
            "bin_end": 0.6000000000000001,
            "count": 0
           },
           {
            "bin_start": 0.6000000000000001,
            "bin_end": 0.7000000000000001,
            "count": 0
           },
           {
            "bin_start": 0.7000000000000001,
            "bin_end": 0.8,
            "count": 0
           },
           {
            "bin_start": 0.8,
            "bin_end": 0.9,
            "count": 0
           },
           {
            "bin_start": 0.9,
            "bin_end": 1,
            "count": 0
           }
          ]
         }
        },
        {
         "name": "MURDER",
         "dtype": "int64",
         "stats": {
          "unique_count": 2,
          "nan_count": 0,
          "min": "0",
          "max": "3",
          "histogram": [
           {
            "bin_start": 0,
            "bin_end": 0.3,
            "count": 1
           },
           {
            "bin_start": 0.3,
            "bin_end": 0.6,
            "count": 0
           },
           {
            "bin_start": 0.6,
            "bin_end": 0.8999999999999999,
            "count": 0
           },
           {
            "bin_start": 0.8999999999999999,
            "bin_end": 1.2,
            "count": 0
           },
           {
            "bin_start": 1.2,
            "bin_end": 1.5,
            "count": 0
           },
           {
            "bin_start": 1.5,
            "bin_end": 1.7999999999999998,
            "count": 0
           },
           {
            "bin_start": 1.7999999999999998,
            "bin_end": 2.1,
            "count": 0
           },
           {
            "bin_start": 2.1,
            "bin_end": 2.4,
            "count": 0
           },
           {
            "bin_start": 2.4,
            "bin_end": 2.6999999999999997,
            "count": 0
           },
           {
            "bin_start": 2.6999999999999997,
            "bin_end": 3,
            "count": 1
           }
          ]
         }
        },
        {
         "name": "RAPE",
         "dtype": "int64",
         "stats": {
          "unique_count": 2,
          "nan_count": 0,
          "min": "18",
          "max": "29",
          "histogram": [
           {
            "bin_start": 18,
            "bin_end": 19.1,
            "count": 1
           },
           {
            "bin_start": 19.1,
            "bin_end": 20.2,
            "count": 0
           },
           {
            "bin_start": 20.2,
            "bin_end": 21.3,
            "count": 0
           },
           {
            "bin_start": 21.3,
            "bin_end": 22.4,
            "count": 0
           },
           {
            "bin_start": 22.4,
            "bin_end": 23.5,
            "count": 0
           },
           {
            "bin_start": 23.5,
            "bin_end": 24.6,
            "count": 0
           },
           {
            "bin_start": 24.6,
            "bin_end": 25.700000000000003,
            "count": 0
           },
           {
            "bin_start": 25.700000000000003,
            "bin_end": 26.8,
            "count": 0
           },
           {
            "bin_start": 26.8,
            "bin_end": 27.9,
            "count": 0
           },
           {
            "bin_start": 27.9,
            "bin_end": 29,
            "count": 1
           }
          ]
         }
        },
        {
         "name": "ROBBERY",
         "dtype": "int64",
         "stats": {
          "unique_count": 2,
          "nan_count": 0,
          "min": "34",
          "max": "35",
          "histogram": [
           {
            "bin_start": 34,
            "bin_end": 34.1,
            "count": 1
           },
           {
            "bin_start": 34.1,
            "bin_end": 34.2,
            "count": 0
           },
           {
            "bin_start": 34.2,
            "bin_end": 34.3,
            "count": 0
           },
           {
            "bin_start": 34.3,
            "bin_end": 34.4,
            "count": 0
           },
           {
            "bin_start": 34.4,
            "bin_end": 34.5,
            "count": 0
           },
           {
            "bin_start": 34.5,
            "bin_end": 34.6,
            "count": 0
           },
           {
            "bin_start": 34.6,
            "bin_end": 34.7,
            "count": 0
           },
           {
            "bin_start": 34.7,
            "bin_end": 34.8,
            "count": 0
           },
           {
            "bin_start": 34.8,
            "bin_end": 34.9,
            "count": 0
           },
           {
            "bin_start": 34.9,
            "bin_end": 35,
            "count": 1
           }
          ]
         }
        },
        {
         "name": "AGASSLT",
         "dtype": "int64",
         "stats": {
          "unique_count": 2,
          "nan_count": 0,
          "min": "48",
          "max": "95",
          "histogram": [
           {
            "bin_start": 48,
            "bin_end": 52.7,
            "count": 1
           },
           {
            "bin_start": 52.7,
            "bin_end": 57.4,
            "count": 0
           },
           {
            "bin_start": 57.4,
            "bin_end": 62.1,
            "count": 0
           },
           {
            "bin_start": 62.1,
            "bin_end": 66.8,
            "count": 0
           },
           {
            "bin_start": 66.8,
            "bin_end": 71.5,
            "count": 0
           },
           {
            "bin_start": 71.5,
            "bin_end": 76.2,
            "count": 0
           },
           {
            "bin_start": 76.2,
            "bin_end": 80.9,
            "count": 0
           },
           {
            "bin_start": 80.9,
            "bin_end": 85.6,
            "count": 0
           },
           {
            "bin_start": 85.6,
            "bin_end": 90.30000000000001,
            "count": 0
           },
           {
            "bin_start": 90.30000000000001,
            "bin_end": 95,
            "count": 1
           }
          ]
         }
        },
        {
         "name": "BURGLRY",
         "dtype": "int64",
         "stats": {
          "unique_count": 2,
          "nan_count": 0,
          "min": "172",
          "max": "326",
          "histogram": [
           {
            "bin_start": 172,
            "bin_end": 187.4,
            "count": 1
           },
           {
            "bin_start": 187.4,
            "bin_end": 202.8,
            "count": 0
           },
           {
            "bin_start": 202.8,
            "bin_end": 218.2,
            "count": 0
           },
           {
            "bin_start": 218.2,
            "bin_end": 233.6,
            "count": 0
           },
           {
            "bin_start": 233.6,
            "bin_end": 249,
            "count": 0
           },
           {
            "bin_start": 249,
            "bin_end": 264.4,
            "count": 0
           },
           {
            "bin_start": 264.4,
            "bin_end": 279.8,
            "count": 0
           },
           {
            "bin_start": 279.8,
            "bin_end": 295.2,
            "count": 0
           },
           {
            "bin_start": 295.2,
            "bin_end": 310.6,
            "count": 0
           },
           {
            "bin_start": 310.6,
            "bin_end": 326,
            "count": 1
           }
          ]
         }
        },
        {
         "name": "LARCENY",
         "dtype": "int64",
         "stats": {
          "unique_count": 2,
          "nan_count": 0,
          "min": "1023",
          "max": "1235",
          "histogram": [
           {
            "bin_start": 1023,
            "bin_end": 1044.2,
            "count": 1
           },
           {
            "bin_start": 1044.2,
            "bin_end": 1065.4,
            "count": 0
           },
           {
            "bin_start": 1065.4,
            "bin_end": 1086.6,
            "count": 0
           },
           {
            "bin_start": 1086.6,
            "bin_end": 1107.8,
            "count": 0
           },
           {
            "bin_start": 1107.8,
            "bin_end": 1129,
            "count": 0
           },
           {
            "bin_start": 1129,
            "bin_end": 1150.2,
            "count": 0
           },
           {
            "bin_start": 1150.2,
            "bin_end": 1171.4,
            "count": 0
           },
           {
            "bin_start": 1171.4,
            "bin_end": 1192.6,
            "count": 0
           },
           {
            "bin_start": 1192.6,
            "bin_end": 1213.8,
            "count": 0
           },
           {
            "bin_start": 1213.8,
            "bin_end": 1235,
            "count": 1
           }
          ]
         }
        },
        {
         "name": "MVTHEFT",
         "dtype": "int64",
         "stats": {
          "unique_count": 2,
          "nan_count": 0,
          "min": "48",
          "max": "107",
          "histogram": [
           {
            "bin_start": 48,
            "bin_end": 53.9,
            "count": 1
           },
           {
            "bin_start": 53.9,
            "bin_end": 59.8,
            "count": 0
           },
           {
            "bin_start": 59.8,
            "bin_end": 65.7,
            "count": 0
           },
           {
            "bin_start": 65.7,
            "bin_end": 71.6,
            "count": 0
           },
           {
            "bin_start": 71.6,
            "bin_end": 77.5,
            "count": 0
           },
           {
            "bin_start": 77.5,
            "bin_end": 83.4,
            "count": 0
           },
           {
            "bin_start": 83.4,
            "bin_end": 89.30000000000001,
            "count": 0
           },
           {
            "bin_start": 89.30000000000001,
            "bin_end": 95.2,
            "count": 0
           },
           {
            "bin_start": 95.2,
            "bin_end": 101.1,
            "count": 0
           },
           {
            "bin_start": 101.1,
            "bin_end": 107,
            "count": 1
           }
          ]
         }
        },
        {
         "name": "ARSON",
         "dtype": "int64",
         "stats": {
          "unique_count": 2,
          "nan_count": 0,
          "min": "3",
          "max": "13",
          "histogram": [
           {
            "bin_start": 3,
            "bin_end": 4,
            "count": 1
           },
           {
            "bin_start": 4,
            "bin_end": 5,
            "count": 0
           },
           {
            "bin_start": 5,
            "bin_end": 6,
            "count": 0
           },
           {
            "bin_start": 6,
            "bin_end": 7,
            "count": 0
           },
           {
            "bin_start": 7,
            "bin_end": 8,
            "count": 0
           },
           {
            "bin_start": 8,
            "bin_end": 9,
            "count": 0
           },
           {
            "bin_start": 9,
            "bin_end": 10,
            "count": 0
           },
           {
            "bin_start": 10,
            "bin_end": 11,
            "count": 0
           },
           {
            "bin_start": 11,
            "bin_end": 12,
            "count": 0
           },
           {
            "bin_start": 12,
            "bin_end": 13,
            "count": 1
           }
          ]
         }
        },
        {
         "name": "_deepnote_index_column",
         "dtype": "int64"
        }
       ],
       "rows_top": [
        {
         "STCOFIPS": 1001,
         "FIPS_ST": 1,
         "FIPS_CTY": 1,
         "YEAR": 2002,
         "STUDYNO": "ICPSR Study No",
         "EDITION": "1st ed, August 2004",
         "PART": "Crimes-County",
         "IDNO": 1,
         "CPOPARST": 44959,
         "CPOPCRIM": 24424,
         "AG_ARRST": 3,
         "AG_OFF": 2,
         "COVIND": 100,
         "INDEX": 1344,
         "MODINDX": 1357,
         "VIOL": "nan",
         "PROPERTY": "nan",
         "MURDER": 0,
         "RAPE": 18,
         "ROBBERY": 35,
         "AGASSLT": 48,
         "BURGLRY": 172,
         "LARCENY": 1023,
         "MVTHEFT": 48,
         "ARSON": 13,
         "_deepnote_index_column": 0
        },
        {
         "STCOFIPS": 1001,
         "FIPS_ST": 1,
         "FIPS_CTY": 1,
         "YEAR": 2003,
         "STUDYNO": "4360",
         "EDITION": "1st ed, August 2004",
         "PART": "Crimes-County",
         "IDNO": 1,
         "CPOPARST": 46808,
         "CPOPCRIM": 45749,
         "AG_ARRST": 3,
         "AG_OFF": 4,
         "COVIND": 100,
         "INDEX": 1829,
         "MODINDX": 1832,
         "VIOL": "nan",
         "PROPERTY": "nan",
         "MURDER": 3,
         "RAPE": 29,
         "ROBBERY": 34,
         "AGASSLT": 95,
         "BURGLRY": 326,
         "LARCENY": 1235,
         "MVTHEFT": 107,
         "ARSON": 3,
         "_deepnote_index_column": 1
        }
       ],
       "rows_bottom": null
      },
      "text/plain": "   STCOFIPS  FIPS_ST  FIPS_CTY  YEAR         STUDYNO              EDITION  \\\n0      1001        1         1  2002  ICPSR Study No  1st ed, August 2004   \n1      1001        1         1  2003            4360  1st ed, August 2004   \n\n            PART  IDNO  CPOPARST  CPOPCRIM  ...  VIOL  PROPERTY  MURDER  RAPE  \\\n0  Crimes-County     1     44959     24424  ...   NaN       NaN       0    18   \n1  Crimes-County     1     46808     45749  ...   NaN       NaN       3    29   \n\n   ROBBERY  AGASSLT  BURGLRY  LARCENY  MVTHEFT  ARSON  \n0       35       48      172     1023       48     13  \n1       34       95      326     1235      107      3  \n\n[2 rows x 25 columns]",
      "text/html": "<div>\n<style scoped>\n    .dataframe tbody tr th:only-of-type {\n        vertical-align: middle;\n    }\n\n    .dataframe tbody tr th {\n        vertical-align: top;\n    }\n\n    .dataframe thead th {\n        text-align: right;\n    }\n</style>\n<table border=\"1\" class=\"dataframe\">\n  <thead>\n    <tr style=\"text-align: right;\">\n      <th></th>\n      <th>STCOFIPS</th>\n      <th>FIPS_ST</th>\n      <th>FIPS_CTY</th>\n      <th>YEAR</th>\n      <th>STUDYNO</th>\n      <th>EDITION</th>\n      <th>PART</th>\n      <th>IDNO</th>\n      <th>CPOPARST</th>\n      <th>CPOPCRIM</th>\n      <th>...</th>\n      <th>VIOL</th>\n      <th>PROPERTY</th>\n      <th>MURDER</th>\n      <th>RAPE</th>\n      <th>ROBBERY</th>\n      <th>AGASSLT</th>\n      <th>BURGLRY</th>\n      <th>LARCENY</th>\n      <th>MVTHEFT</th>\n      <th>ARSON</th>\n    </tr>\n  </thead>\n  <tbody>\n    <tr>\n      <th>0</th>\n      <td>1001</td>\n      <td>1</td>\n      <td>1</td>\n      <td>2002</td>\n      <td>ICPSR Study No</td>\n      <td>1st ed, August 2004</td>\n      <td>Crimes-County</td>\n      <td>1</td>\n      <td>44959</td>\n      <td>24424</td>\n      <td>...</td>\n      <td>NaN</td>\n      <td>NaN</td>\n      <td>0</td>\n      <td>18</td>\n      <td>35</td>\n      <td>48</td>\n      <td>172</td>\n      <td>1023</td>\n      <td>48</td>\n      <td>13</td>\n    </tr>\n    <tr>\n      <th>1</th>\n      <td>1001</td>\n      <td>1</td>\n      <td>1</td>\n      <td>2003</td>\n      <td>4360</td>\n      <td>1st ed, August 2004</td>\n      <td>Crimes-County</td>\n      <td>1</td>\n      <td>46808</td>\n      <td>45749</td>\n      <td>...</td>\n      <td>NaN</td>\n      <td>NaN</td>\n      <td>3</td>\n      <td>29</td>\n      <td>34</td>\n      <td>95</td>\n      <td>326</td>\n      <td>1235</td>\n      <td>107</td>\n      <td>3</td>\n    </tr>\n  </tbody>\n</table>\n<p>2 rows × 25 columns</p>\n</div>"
     },
     "metadata": {}
    }
   ]
  },
  {
   "cell_type": "code",
   "metadata": {
    "tags": [],
    "cell_id": "00016-4e0c4f85-1cbd-4bd0-95c0-33c2cf7fffc2",
    "deepnote_to_be_reexecuted": false,
    "source_hash": "978cb98e",
    "execution_start": 1624685210779,
    "execution_millis": 238,
    "deepnote_cell_type": "code"
   },
   "source": "raw_pennstateagri_social_capital_variables.head(3)",
   "execution_count": null,
   "outputs": [
    {
     "output_type": "execute_result",
     "execution_count": 15,
     "data": {
      "application/vnd.deepnote.dataframe.v2+json": {
       "row_count": 3,
       "column_count": 26,
       "columns": [
        {
         "name": "FIPS",
         "dtype": "float64",
         "stats": {
          "unique_count": 3,
          "nan_count": 0,
          "min": "1001.0",
          "max": "1005.0",
          "histogram": [
           {
            "bin_start": 1001,
            "bin_end": 1001.4,
            "count": 1
           },
           {
            "bin_start": 1001.4,
            "bin_end": 1001.8,
            "count": 0
           },
           {
            "bin_start": 1001.8,
            "bin_end": 1002.2,
            "count": 0
           },
           {
            "bin_start": 1002.2,
            "bin_end": 1002.6,
            "count": 0
           },
           {
            "bin_start": 1002.6,
            "bin_end": 1003,
            "count": 0
           },
           {
            "bin_start": 1003,
            "bin_end": 1003.4,
            "count": 1
           },
           {
            "bin_start": 1003.4,
            "bin_end": 1003.8,
            "count": 0
           },
           {
            "bin_start": 1003.8,
            "bin_end": 1004.2,
            "count": 0
           },
           {
            "bin_start": 1004.2,
            "bin_end": 1004.6,
            "count": 0
           },
           {
            "bin_start": 1004.6,
            "bin_end": 1005,
            "count": 1
           }
          ]
         }
        },
        {
         "name": "County_Name",
         "dtype": "object",
         "stats": {
          "unique_count": 3,
          "nan_count": 0,
          "categories": [
           {
            "name": "Autauga County, AL",
            "count": 1
           },
           {
            "name": "Baldwin County, AL",
            "count": 1
           },
           {
            "name": "Barbour County, AL",
            "count": 1
           }
          ]
         }
        },
        {
         "name": "Religious2014",
         "dtype": "float64",
         "stats": {
          "unique_count": 3,
          "nan_count": 0,
          "min": "19.0",
          "max": "169.0",
          "histogram": [
           {
            "bin_start": 19,
            "bin_end": 34,
            "count": 1
           },
           {
            "bin_start": 34,
            "bin_end": 49,
            "count": 0
           },
           {
            "bin_start": 49,
            "bin_end": 64,
            "count": 1
           },
           {
            "bin_start": 64,
            "bin_end": 79,
            "count": 0
           },
           {
            "bin_start": 79,
            "bin_end": 94,
            "count": 0
           },
           {
            "bin_start": 94,
            "bin_end": 109,
            "count": 0
           },
           {
            "bin_start": 109,
            "bin_end": 124,
            "count": 0
           },
           {
            "bin_start": 124,
            "bin_end": 139,
            "count": 0
           },
           {
            "bin_start": 139,
            "bin_end": 154,
            "count": 0
           },
           {
            "bin_start": 154,
            "bin_end": 169,
            "count": 1
           }
          ]
         }
        },
        {
         "name": "Civic2014",
         "dtype": "float64",
         "stats": {
          "unique_count": 3,
          "nan_count": 0,
          "min": "1.0",
          "max": "16.0",
          "histogram": [
           {
            "bin_start": 1,
            "bin_end": 2.5,
            "count": 1
           },
           {
            "bin_start": 2.5,
            "bin_end": 4,
            "count": 0
           },
           {
            "bin_start": 4,
            "bin_end": 5.5,
            "count": 0
           },
           {
            "bin_start": 5.5,
            "bin_end": 7,
            "count": 0
           },
           {
            "bin_start": 7,
            "bin_end": 8.5,
            "count": 1
           },
           {
            "bin_start": 8.5,
            "bin_end": 10,
            "count": 0
           },
           {
            "bin_start": 10,
            "bin_end": 11.5,
            "count": 0
           },
           {
            "bin_start": 11.5,
            "bin_end": 13,
            "count": 0
           },
           {
            "bin_start": 13,
            "bin_end": 14.5,
            "count": 0
           },
           {
            "bin_start": 14.5,
            "bin_end": 16,
            "count": 1
           }
          ]
         }
        },
        {
         "name": "Business2014",
         "dtype": "float64",
         "stats": {
          "unique_count": 3,
          "nan_count": 0,
          "min": "1.0",
          "max": "9.0",
          "histogram": [
           {
            "bin_start": 1,
            "bin_end": 1.8,
            "count": 1
           },
           {
            "bin_start": 1.8,
            "bin_end": 2.6,
            "count": 0
           },
           {
            "bin_start": 2.6,
            "bin_end": 3.4000000000000004,
            "count": 1
           },
           {
            "bin_start": 3.4000000000000004,
            "bin_end": 4.2,
            "count": 0
           },
           {
            "bin_start": 4.2,
            "bin_end": 5,
            "count": 0
           },
           {
            "bin_start": 5,
            "bin_end": 5.800000000000001,
            "count": 0
           },
           {
            "bin_start": 5.800000000000001,
            "bin_end": 6.6000000000000005,
            "count": 0
           },
           {
            "bin_start": 6.6000000000000005,
            "bin_end": 7.4,
            "count": 0
           },
           {
            "bin_start": 7.4,
            "bin_end": 8.2,
            "count": 0
           },
           {
            "bin_start": 8.2,
            "bin_end": 9,
            "count": 1
           }
          ]
         }
        },
        {
         "name": "Political2014",
         "dtype": "float64",
         "stats": {
          "unique_count": 1,
          "nan_count": 0,
          "min": "0.0",
          "max": "0.0",
          "histogram": [
           {
            "bin_start": -0.5,
            "bin_end": -0.4,
            "count": 0
           },
           {
            "bin_start": -0.4,
            "bin_end": -0.3,
            "count": 0
           },
           {
            "bin_start": -0.3,
            "bin_end": -0.19999999999999996,
            "count": 0
           },
           {
            "bin_start": -0.19999999999999996,
            "bin_end": -0.09999999999999998,
            "count": 0
           },
           {
            "bin_start": -0.09999999999999998,
            "bin_end": 0,
            "count": 0
           },
           {
            "bin_start": 0,
            "bin_end": 0.10000000000000009,
            "count": 3
           },
           {
            "bin_start": 0.10000000000000009,
            "bin_end": 0.20000000000000007,
            "count": 0
           },
           {
            "bin_start": 0.20000000000000007,
            "bin_end": 0.30000000000000004,
            "count": 0
           },
           {
            "bin_start": 0.30000000000000004,
            "bin_end": 0.4,
            "count": 0
           },
           {
            "bin_start": 0.4,
            "bin_end": 0.5,
            "count": 0
           }
          ]
         }
        },
        {
         "name": "Professional2014",
         "dtype": "float64",
         "stats": {
          "unique_count": 3,
          "nan_count": 0,
          "min": "0.0",
          "max": "3.0",
          "histogram": [
           {
            "bin_start": 0,
            "bin_end": 0.3,
            "count": 1
           },
           {
            "bin_start": 0.3,
            "bin_end": 0.6,
            "count": 0
           },
           {
            "bin_start": 0.6,
            "bin_end": 0.8999999999999999,
            "count": 0
           },
           {
            "bin_start": 0.8999999999999999,
            "bin_end": 1.2,
            "count": 1
           },
           {
            "bin_start": 1.2,
            "bin_end": 1.5,
            "count": 0
           },
           {
            "bin_start": 1.5,
            "bin_end": 1.7999999999999998,
            "count": 0
           },
           {
            "bin_start": 1.7999999999999998,
            "bin_end": 2.1,
            "count": 0
           },
           {
            "bin_start": 2.1,
            "bin_end": 2.4,
            "count": 0
           },
           {
            "bin_start": 2.4,
            "bin_end": 2.6999999999999997,
            "count": 0
           },
           {
            "bin_start": 2.6999999999999997,
            "bin_end": 3,
            "count": 1
           }
          ]
         }
        },
        {
         "name": "Labor2014",
         "dtype": "float64",
         "stats": {
          "unique_count": 3,
          "nan_count": 0,
          "min": "0.0",
          "max": "4.0",
          "histogram": [
           {
            "bin_start": 0,
            "bin_end": 0.4,
            "count": 1
           },
           {
            "bin_start": 0.4,
            "bin_end": 0.8,
            "count": 0
           },
           {
            "bin_start": 0.8,
            "bin_end": 1.2000000000000002,
            "count": 1
           },
           {
            "bin_start": 1.2000000000000002,
            "bin_end": 1.6,
            "count": 0
           },
           {
            "bin_start": 1.6,
            "bin_end": 2,
            "count": 0
           },
           {
            "bin_start": 2,
            "bin_end": 2.4000000000000004,
            "count": 0
           },
           {
            "bin_start": 2.4000000000000004,
            "bin_end": 2.8000000000000003,
            "count": 0
           },
           {
            "bin_start": 2.8000000000000003,
            "bin_end": 3.2,
            "count": 0
           },
           {
            "bin_start": 3.2,
            "bin_end": 3.6,
            "count": 0
           },
           {
            "bin_start": 3.6,
            "bin_end": 4,
            "count": 1
           }
          ]
         }
        },
        {
         "name": "Bowling2014",
         "dtype": "float64",
         "stats": {
          "unique_count": 2,
          "nan_count": 0,
          "min": "0.0",
          "max": "1.0",
          "histogram": [
           {
            "bin_start": 0,
            "bin_end": 0.1,
            "count": 1
           },
           {
            "bin_start": 0.1,
            "bin_end": 0.2,
            "count": 0
           },
           {
            "bin_start": 0.2,
            "bin_end": 0.30000000000000004,
            "count": 0
           },
           {
            "bin_start": 0.30000000000000004,
            "bin_end": 0.4,
            "count": 0
           },
           {
            "bin_start": 0.4,
            "bin_end": 0.5,
            "count": 0
           },
           {
            "bin_start": 0.5,
            "bin_end": 0.6000000000000001,
            "count": 0
           },
           {
            "bin_start": 0.6000000000000001,
            "bin_end": 0.7000000000000001,
            "count": 0
           },
           {
            "bin_start": 0.7000000000000001,
            "bin_end": 0.8,
            "count": 0
           },
           {
            "bin_start": 0.8,
            "bin_end": 0.9,
            "count": 0
           },
           {
            "bin_start": 0.9,
            "bin_end": 1,
            "count": 2
           }
          ]
         }
        },
        {
         "name": "Recreational2014",
         "dtype": "float64",
         "stats": {
          "unique_count": 3,
          "nan_count": 0,
          "min": "0.0",
          "max": "25.0",
          "histogram": [
           {
            "bin_start": 0,
            "bin_end": 2.5,
            "count": 1
           },
           {
            "bin_start": 2.5,
            "bin_end": 5,
            "count": 0
           },
           {
            "bin_start": 5,
            "bin_end": 7.5,
            "count": 1
           },
           {
            "bin_start": 7.5,
            "bin_end": 10,
            "count": 0
           },
           {
            "bin_start": 10,
            "bin_end": 12.5,
            "count": 0
           },
           {
            "bin_start": 12.5,
            "bin_end": 15,
            "count": 0
           },
           {
            "bin_start": 15,
            "bin_end": 17.5,
            "count": 0
           },
           {
            "bin_start": 17.5,
            "bin_end": 20,
            "count": 0
           },
           {
            "bin_start": 20,
            "bin_end": 22.5,
            "count": 0
           },
           {
            "bin_start": 22.5,
            "bin_end": 25,
            "count": 1
           }
          ]
         }
        },
        {
         "name": "Golf2014",
         "dtype": "float64",
         "stats": {
          "unique_count": 3,
          "nan_count": 0,
          "min": "1.0",
          "max": "7.0",
          "histogram": [
           {
            "bin_start": 1,
            "bin_end": 1.6,
            "count": 1
           },
           {
            "bin_start": 1.6,
            "bin_end": 2.2,
            "count": 1
           },
           {
            "bin_start": 2.2,
            "bin_end": 2.8,
            "count": 0
           },
           {
            "bin_start": 2.8,
            "bin_end": 3.4,
            "count": 0
           },
           {
            "bin_start": 3.4,
            "bin_end": 4,
            "count": 0
           },
           {
            "bin_start": 4,
            "bin_end": 4.6,
            "count": 0
           },
           {
            "bin_start": 4.6,
            "bin_end": 5.2,
            "count": 0
           },
           {
            "bin_start": 5.2,
            "bin_end": 5.8,
            "count": 0
           },
           {
            "bin_start": 5.8,
            "bin_end": 6.3999999999999995,
            "count": 0
           },
           {
            "bin_start": 6.3999999999999995,
            "bin_end": 7,
            "count": 1
           }
          ]
         }
        },
        {
         "name": "Sports2014",
         "dtype": "float64",
         "stats": {
          "unique_count": 1,
          "nan_count": 0,
          "min": "0.0",
          "max": "0.0",
          "histogram": [
           {
            "bin_start": -0.5,
            "bin_end": -0.4,
            "count": 0
           },
           {
            "bin_start": -0.4,
            "bin_end": -0.3,
            "count": 0
           },
           {
            "bin_start": -0.3,
            "bin_end": -0.19999999999999996,
            "count": 0
           },
           {
            "bin_start": -0.19999999999999996,
            "bin_end": -0.09999999999999998,
            "count": 0
           },
           {
            "bin_start": -0.09999999999999998,
            "bin_end": 0,
            "count": 0
           },
           {
            "bin_start": 0,
            "bin_end": 0.10000000000000009,
            "count": 3
           },
           {
            "bin_start": 0.10000000000000009,
            "bin_end": 0.20000000000000007,
            "count": 0
           },
           {
            "bin_start": 0.20000000000000007,
            "bin_end": 0.30000000000000004,
            "count": 0
           },
           {
            "bin_start": 0.30000000000000004,
            "bin_end": 0.4,
            "count": 0
           },
           {
            "bin_start": 0.4,
            "bin_end": 0.5,
            "count": 0
           }
          ]
         }
        },
        {
         "name": "pop2014",
         "dtype": "float64",
         "stats": {
          "unique_count": 3,
          "nan_count": 0,
          "min": "26815.0",
          "max": "199713.0",
          "histogram": [
           {
            "bin_start": 26815,
            "bin_end": 44104.8,
            "count": 1
           },
           {
            "bin_start": 44104.8,
            "bin_end": 61394.6,
            "count": 1
           },
           {
            "bin_start": 61394.6,
            "bin_end": 78684.4,
            "count": 0
           },
           {
            "bin_start": 78684.4,
            "bin_end": 95974.2,
            "count": 0
           },
           {
            "bin_start": 95974.2,
            "bin_end": 113264,
            "count": 0
           },
           {
            "bin_start": 113264,
            "bin_end": 130553.79999999999,
            "count": 0
           },
           {
            "bin_start": 130553.79999999999,
            "bin_end": 147843.59999999998,
            "count": 0
           },
           {
            "bin_start": 147843.59999999998,
            "bin_end": 165133.4,
            "count": 0
           },
           {
            "bin_start": 165133.4,
            "bin_end": 182423.19999999998,
            "count": 0
           },
           {
            "bin_start": 182423.19999999998,
            "bin_end": 199713,
            "count": 1
           }
          ]
         }
        },
        {
         "name": "assn2014",
         "dtype": "float64",
         "stats": {
          "unique_count": 3,
          "nan_count": 0,
          "min": "0.820436323",
          "max": "1.374570447",
          "histogram": [
           {
            "bin_start": 0.820436323,
            "bin_end": 0.8758497354,
            "count": 1
           },
           {
            "bin_start": 0.8758497354,
            "bin_end": 0.9312631478,
            "count": 0
           },
           {
            "bin_start": 0.9312631478,
            "bin_end": 0.9866765602,
            "count": 0
           },
           {
            "bin_start": 0.9866765602,
            "bin_end": 1.0420899726,
            "count": 0
           },
           {
            "bin_start": 1.0420899726,
            "bin_end": 1.097503385,
            "count": 0
           },
           {
            "bin_start": 1.097503385,
            "bin_end": 1.1529167974,
            "count": 0
           },
           {
            "bin_start": 1.1529167974,
            "bin_end": 1.2083302098,
            "count": 1
           },
           {
            "bin_start": 1.2083302098,
            "bin_end": 1.2637436222,
            "count": 0
           },
           {
            "bin_start": 1.2637436222,
            "bin_end": 1.3191570346,
            "count": 0
           },
           {
            "bin_start": 1.3191570346,
            "bin_end": 1.374570447,
            "count": 1
           }
          ]
         }
        },
        {
         "name": "pvote2012",
         "dtype": "float64",
         "stats": {
          "unique_count": 3,
          "nan_count": 0,
          "min": "0.644955609",
          "max": "0.674735405",
          "histogram": [
           {
            "bin_start": 0.644955609,
            "bin_end": 0.6479335886,
            "count": 1
           },
           {
            "bin_start": 0.6479335886,
            "bin_end": 0.6509115682000001,
            "count": 0
           },
           {
            "bin_start": 0.6509115682000001,
            "bin_end": 0.6538895478,
            "count": 0
           },
           {
            "bin_start": 0.6538895478,
            "bin_end": 0.6568675274,
            "count": 0
           },
           {
            "bin_start": 0.6568675274,
            "bin_end": 0.659845507,
            "count": 0
           },
           {
            "bin_start": 0.659845507,
            "bin_end": 0.6628234866,
            "count": 0
           },
           {
            "bin_start": 0.6628234866,
            "bin_end": 0.6658014662,
            "count": 1
           },
           {
            "bin_start": 0.6658014662,
            "bin_end": 0.6687794457999999,
            "count": 0
           },
           {
            "bin_start": 0.6687794457999999,
            "bin_end": 0.6717574253999999,
            "count": 0
           },
           {
            "bin_start": 0.6717574253999999,
            "bin_end": 0.674735405,
            "count": 1
           }
          ]
         }
        },
        {
         "name": "respn2010",
         "dtype": "float64",
         "stats": {
          "unique_count": 3,
          "nan_count": 0,
          "min": "0.63",
          "max": "0.78",
          "histogram": [
           {
            "bin_start": 0.63,
            "bin_end": 0.645,
            "count": 1
           },
           {
            "bin_start": 0.645,
            "bin_end": 0.66,
            "count": 0
           },
           {
            "bin_start": 0.66,
            "bin_end": 0.675,
            "count": 0
           },
           {
            "bin_start": 0.675,
            "bin_end": 0.6900000000000001,
            "count": 0
           },
           {
            "bin_start": 0.6900000000000001,
            "bin_end": 0.7050000000000001,
            "count": 0
           },
           {
            "bin_start": 0.7050000000000001,
            "bin_end": 0.72,
            "count": 0
           },
           {
            "bin_start": 0.72,
            "bin_end": 0.735,
            "count": 1
           },
           {
            "bin_start": 0.735,
            "bin_end": 0.75,
            "count": 0
           },
           {
            "bin_start": 0.75,
            "bin_end": 0.765,
            "count": 0
           },
           {
            "bin_start": 0.765,
            "bin_end": 0.78,
            "count": 1
           }
          ]
         }
        },
        {
         "name": "nccs2014",
         "dtype": "float64",
         "stats": {
          "unique_count": 3,
          "nan_count": 0,
          "min": "92.0",
          "max": "718.0",
          "histogram": [
           {
            "bin_start": 92,
            "bin_end": 154.6,
            "count": 1
           },
           {
            "bin_start": 154.6,
            "bin_end": 217.2,
            "count": 1
           },
           {
            "bin_start": 217.2,
            "bin_end": 279.8,
            "count": 0
           },
           {
            "bin_start": 279.8,
            "bin_end": 342.4,
            "count": 0
           },
           {
            "bin_start": 342.4,
            "bin_end": 405,
            "count": 0
           },
           {
            "bin_start": 405,
            "bin_end": 467.6,
            "count": 0
           },
           {
            "bin_start": 467.6,
            "bin_end": 530.2,
            "count": 0
           },
           {
            "bin_start": 530.2,
            "bin_end": 592.8,
            "count": 0
           },
           {
            "bin_start": 592.8,
            "bin_end": 655.4,
            "count": 0
           },
           {
            "bin_start": 655.4,
            "bin_end": 718,
            "count": 1
           }
          ]
         }
        },
        {
         "name": "sk2014",
         "dtype": "float64",
         "stats": {
          "unique_count": 3,
          "nan_count": 0,
          "min": "-0.891036085",
          "max": "-0.555396006",
          "histogram": [
           {
            "bin_start": -0.891036085,
            "bin_end": -0.8574720771,
            "count": 1
           },
           {
            "bin_start": -0.8574720771,
            "bin_end": -0.8239080692,
            "count": 0
           },
           {
            "bin_start": -0.8239080692,
            "bin_end": -0.7903440613,
            "count": 0
           },
           {
            "bin_start": -0.7903440613,
            "bin_end": -0.7567800534,
            "count": 0
           },
           {
            "bin_start": -0.7567800534,
            "bin_end": -0.7232160455000001,
            "count": 0
           },
           {
            "bin_start": -0.7232160455000001,
            "bin_end": -0.6896520376,
            "count": 0
           },
           {
            "bin_start": -0.6896520376,
            "bin_end": -0.6560880297,
            "count": 0
           },
           {
            "bin_start": -0.6560880297,
            "bin_end": -0.6225240218000001,
            "count": 1
           },
           {
            "bin_start": -0.6225240218000001,
            "bin_end": -0.5889600139000001,
            "count": 0
           },
           {
            "bin_start": -0.5889600139000001,
            "bin_end": -0.555396006,
            "count": 1
           }
          ]
         }
        },
        {
         "name": "Unnamed: 18",
         "dtype": "float64",
         "stats": {
          "unique_count": 0,
          "nan_count": 3,
          "min": null,
          "max": null,
          "histogram": [
           {
            "bin_start": 0,
            "bin_end": 0.1,
            "count": 0
           },
           {
            "bin_start": 0.1,
            "bin_end": 0.2,
            "count": 0
           },
           {
            "bin_start": 0.2,
            "bin_end": 0.30000000000000004,
            "count": 0
           },
           {
            "bin_start": 0.30000000000000004,
            "bin_end": 0.4,
            "count": 0
           },
           {
            "bin_start": 0.4,
            "bin_end": 0.5,
            "count": 0
           },
           {
            "bin_start": 0.5,
            "bin_end": 0.6000000000000001,
            "count": 0
           },
           {
            "bin_start": 0.6000000000000001,
            "bin_end": 0.7000000000000001,
            "count": 0
           },
           {
            "bin_start": 0.7000000000000001,
            "bin_end": 0.8,
            "count": 0
           },
           {
            "bin_start": 0.8,
            "bin_end": 0.9,
            "count": 0
           },
           {
            "bin_start": 0.9,
            "bin_end": 1,
            "count": 0
           }
          ]
         }
        },
        {
         "name": "Unnamed: 19",
         "dtype": "float64",
         "stats": {
          "unique_count": 0,
          "nan_count": 3,
          "min": null,
          "max": null,
          "histogram": [
           {
            "bin_start": 0,
            "bin_end": 0.1,
            "count": 0
           },
           {
            "bin_start": 0.1,
            "bin_end": 0.2,
            "count": 0
           },
           {
            "bin_start": 0.2,
            "bin_end": 0.30000000000000004,
            "count": 0
           },
           {
            "bin_start": 0.30000000000000004,
            "bin_end": 0.4,
            "count": 0
           },
           {
            "bin_start": 0.4,
            "bin_end": 0.5,
            "count": 0
           },
           {
            "bin_start": 0.5,
            "bin_end": 0.6000000000000001,
            "count": 0
           },
           {
            "bin_start": 0.6000000000000001,
            "bin_end": 0.7000000000000001,
            "count": 0
           },
           {
            "bin_start": 0.7000000000000001,
            "bin_end": 0.8,
            "count": 0
           },
           {
            "bin_start": 0.8,
            "bin_end": 0.9,
            "count": 0
           },
           {
            "bin_start": 0.9,
            "bin_end": 1,
            "count": 0
           }
          ]
         }
        },
        {
         "name": "Unnamed: 20",
         "dtype": "float64",
         "stats": {
          "unique_count": 0,
          "nan_count": 3,
          "min": null,
          "max": null,
          "histogram": [
           {
            "bin_start": 0,
            "bin_end": 0.1,
            "count": 0
           },
           {
            "bin_start": 0.1,
            "bin_end": 0.2,
            "count": 0
           },
           {
            "bin_start": 0.2,
            "bin_end": 0.30000000000000004,
            "count": 0
           },
           {
            "bin_start": 0.30000000000000004,
            "bin_end": 0.4,
            "count": 0
           },
           {
            "bin_start": 0.4,
            "bin_end": 0.5,
            "count": 0
           },
           {
            "bin_start": 0.5,
            "bin_end": 0.6000000000000001,
            "count": 0
           },
           {
            "bin_start": 0.6000000000000001,
            "bin_end": 0.7000000000000001,
            "count": 0
           },
           {
            "bin_start": 0.7000000000000001,
            "bin_end": 0.8,
            "count": 0
           },
           {
            "bin_start": 0.8,
            "bin_end": 0.9,
            "count": 0
           },
           {
            "bin_start": 0.9,
            "bin_end": 1,
            "count": 0
           }
          ]
         }
        },
        {
         "name": "Unnamed: 21",
         "dtype": "float64",
         "stats": {
          "unique_count": 0,
          "nan_count": 3,
          "min": null,
          "max": null,
          "histogram": [
           {
            "bin_start": 0,
            "bin_end": 0.1,
            "count": 0
           },
           {
            "bin_start": 0.1,
            "bin_end": 0.2,
            "count": 0
           },
           {
            "bin_start": 0.2,
            "bin_end": 0.30000000000000004,
            "count": 0
           },
           {
            "bin_start": 0.30000000000000004,
            "bin_end": 0.4,
            "count": 0
           },
           {
            "bin_start": 0.4,
            "bin_end": 0.5,
            "count": 0
           },
           {
            "bin_start": 0.5,
            "bin_end": 0.6000000000000001,
            "count": 0
           },
           {
            "bin_start": 0.6000000000000001,
            "bin_end": 0.7000000000000001,
            "count": 0
           },
           {
            "bin_start": 0.7000000000000001,
            "bin_end": 0.8,
            "count": 0
           },
           {
            "bin_start": 0.8,
            "bin_end": 0.9,
            "count": 0
           },
           {
            "bin_start": 0.9,
            "bin_end": 1,
            "count": 0
           }
          ]
         }
        },
        {
         "name": "Unnamed: 22",
         "dtype": "float64",
         "stats": {
          "unique_count": 0,
          "nan_count": 3,
          "min": null,
          "max": null,
          "histogram": [
           {
            "bin_start": 0,
            "bin_end": 0.1,
            "count": 0
           },
           {
            "bin_start": 0.1,
            "bin_end": 0.2,
            "count": 0
           },
           {
            "bin_start": 0.2,
            "bin_end": 0.30000000000000004,
            "count": 0
           },
           {
            "bin_start": 0.30000000000000004,
            "bin_end": 0.4,
            "count": 0
           },
           {
            "bin_start": 0.4,
            "bin_end": 0.5,
            "count": 0
           },
           {
            "bin_start": 0.5,
            "bin_end": 0.6000000000000001,
            "count": 0
           },
           {
            "bin_start": 0.6000000000000001,
            "bin_end": 0.7000000000000001,
            "count": 0
           },
           {
            "bin_start": 0.7000000000000001,
            "bin_end": 0.8,
            "count": 0
           },
           {
            "bin_start": 0.8,
            "bin_end": 0.9,
            "count": 0
           },
           {
            "bin_start": 0.9,
            "bin_end": 1,
            "count": 0
           }
          ]
         }
        },
        {
         "name": "Unnamed: 23",
         "dtype": "float64",
         "stats": {
          "unique_count": 0,
          "nan_count": 3,
          "min": null,
          "max": null,
          "histogram": [
           {
            "bin_start": 0,
            "bin_end": 0.1,
            "count": 0
           },
           {
            "bin_start": 0.1,
            "bin_end": 0.2,
            "count": 0
           },
           {
            "bin_start": 0.2,
            "bin_end": 0.30000000000000004,
            "count": 0
           },
           {
            "bin_start": 0.30000000000000004,
            "bin_end": 0.4,
            "count": 0
           },
           {
            "bin_start": 0.4,
            "bin_end": 0.5,
            "count": 0
           },
           {
            "bin_start": 0.5,
            "bin_end": 0.6000000000000001,
            "count": 0
           },
           {
            "bin_start": 0.6000000000000001,
            "bin_end": 0.7000000000000001,
            "count": 0
           },
           {
            "bin_start": 0.7000000000000001,
            "bin_end": 0.8,
            "count": 0
           },
           {
            "bin_start": 0.8,
            "bin_end": 0.9,
            "count": 0
           },
           {
            "bin_start": 0.9,
            "bin_end": 1,
            "count": 0
           }
          ]
         }
        },
        {
         "name": "Unnamed: 24",
         "dtype": "float64",
         "stats": {
          "unique_count": 0,
          "nan_count": 3,
          "min": null,
          "max": null,
          "histogram": [
           {
            "bin_start": 0,
            "bin_end": 0.1,
            "count": 0
           },
           {
            "bin_start": 0.1,
            "bin_end": 0.2,
            "count": 0
           },
           {
            "bin_start": 0.2,
            "bin_end": 0.30000000000000004,
            "count": 0
           },
           {
            "bin_start": 0.30000000000000004,
            "bin_end": 0.4,
            "count": 0
           },
           {
            "bin_start": 0.4,
            "bin_end": 0.5,
            "count": 0
           },
           {
            "bin_start": 0.5,
            "bin_end": 0.6000000000000001,
            "count": 0
           },
           {
            "bin_start": 0.6000000000000001,
            "bin_end": 0.7000000000000001,
            "count": 0
           },
           {
            "bin_start": 0.7000000000000001,
            "bin_end": 0.8,
            "count": 0
           },
           {
            "bin_start": 0.8,
            "bin_end": 0.9,
            "count": 0
           },
           {
            "bin_start": 0.9,
            "bin_end": 1,
            "count": 0
           }
          ]
         }
        },
        {
         "name": "Unnamed: 25",
         "dtype": "float64",
         "stats": {
          "unique_count": 0,
          "nan_count": 3,
          "min": null,
          "max": null,
          "histogram": [
           {
            "bin_start": 0,
            "bin_end": 0.1,
            "count": 0
           },
           {
            "bin_start": 0.1,
            "bin_end": 0.2,
            "count": 0
           },
           {
            "bin_start": 0.2,
            "bin_end": 0.30000000000000004,
            "count": 0
           },
           {
            "bin_start": 0.30000000000000004,
            "bin_end": 0.4,
            "count": 0
           },
           {
            "bin_start": 0.4,
            "bin_end": 0.5,
            "count": 0
           },
           {
            "bin_start": 0.5,
            "bin_end": 0.6000000000000001,
            "count": 0
           },
           {
            "bin_start": 0.6000000000000001,
            "bin_end": 0.7000000000000001,
            "count": 0
           },
           {
            "bin_start": 0.7000000000000001,
            "bin_end": 0.8,
            "count": 0
           },
           {
            "bin_start": 0.8,
            "bin_end": 0.9,
            "count": 0
           },
           {
            "bin_start": 0.9,
            "bin_end": 1,
            "count": 0
           }
          ]
         }
        },
        {
         "name": "_deepnote_index_column",
         "dtype": "int64"
        }
       ],
       "rows_top": [
        {
         "FIPS": 1001,
         "County_Name": "Autauga County, AL",
         "Religious2014": 53,
         "Civic2014": 7,
         "Business2014": 3,
         "Political2014": 0,
         "Professional2014": 1,
         "Labor2014": 4,
         "Bowling2014": 1,
         "Recreational2014": 5,
         "Golf2014": 2,
         "Sports2014": 0,
         "pop2014": 55290,
         "assn2014": 1.374570447,
         "pvote2012": 0.644955609,
         "respn2010": 0.78,
         "nccs2014": 157,
         "sk2014": -0.63100335,
         "Unnamed: 18": "nan",
         "Unnamed: 19": "nan",
         "Unnamed: 20": "nan",
         "Unnamed: 21": "nan",
         "Unnamed: 22": "nan",
         "Unnamed: 23": "nan",
         "Unnamed: 24": "nan",
         "Unnamed: 25": "nan",
         "_deepnote_index_column": 0
        },
        {
         "FIPS": 1003,
         "County_Name": "Baldwin County, AL",
         "Religious2014": 169,
         "Civic2014": 16,
         "Business2014": 9,
         "Political2014": 0,
         "Professional2014": 3,
         "Labor2014": 1,
         "Bowling2014": 1,
         "Recreational2014": 25,
         "Golf2014": 7,
         "Sports2014": 0,
         "pop2014": 199713,
         "assn2014": 1.156659807,
         "pvote2012": 0.674735405,
         "respn2010": 0.73,
         "nccs2014": 718,
         "sk2014": -0.555396006,
         "Unnamed: 18": "nan",
         "Unnamed: 19": "nan",
         "Unnamed: 20": "nan",
         "Unnamed: 21": "nan",
         "Unnamed: 22": "nan",
         "Unnamed: 23": "nan",
         "Unnamed: 24": "nan",
         "Unnamed: 25": "nan",
         "_deepnote_index_column": 1
        },
        {
         "FIPS": 1005,
         "County_Name": "Barbour County, AL",
         "Religious2014": 19,
         "Civic2014": 1,
         "Business2014": 1,
         "Political2014": 0,
         "Professional2014": 0,
         "Labor2014": 0,
         "Bowling2014": 0,
         "Recreational2014": 0,
         "Golf2014": 1,
         "Sports2014": 0,
         "pop2014": 26815,
         "assn2014": 0.820436323,
         "pvote2012": 0.665030604,
         "respn2010": 0.63,
         "nccs2014": 92,
         "sk2014": -0.891036085,
         "Unnamed: 18": "nan",
         "Unnamed: 19": "nan",
         "Unnamed: 20": "nan",
         "Unnamed: 21": "nan",
         "Unnamed: 22": "nan",
         "Unnamed: 23": "nan",
         "Unnamed: 24": "nan",
         "Unnamed: 25": "nan",
         "_deepnote_index_column": 2
        }
       ],
       "rows_bottom": null
      },
      "text/plain": "     FIPS         County_Name  Religious2014  Civic2014  Business2014  \\\n0  1001.0  Autauga County, AL           53.0        7.0           3.0   \n1  1003.0  Baldwin County, AL          169.0       16.0           9.0   \n2  1005.0  Barbour County, AL           19.0        1.0           1.0   \n\n   Political2014  Professional2014  Labor2014  Bowling2014  Recreational2014  \\\n0            0.0               1.0        4.0          1.0               5.0   \n1            0.0               3.0        1.0          1.0              25.0   \n2            0.0               0.0        0.0          0.0               0.0   \n\n   ...  nccs2014    sk2014  Unnamed: 18  Unnamed: 19  Unnamed: 20  \\\n0  ...     157.0 -0.631003          NaN          NaN          NaN   \n1  ...     718.0 -0.555396          NaN          NaN          NaN   \n2  ...      92.0 -0.891036          NaN          NaN          NaN   \n\n   Unnamed: 21  Unnamed: 22  Unnamed: 23  Unnamed: 24  Unnamed: 25  \n0          NaN          NaN          NaN          NaN          NaN  \n1          NaN          NaN          NaN          NaN          NaN  \n2          NaN          NaN          NaN          NaN          NaN  \n\n[3 rows x 26 columns]",
      "text/html": "<div>\n<style scoped>\n    .dataframe tbody tr th:only-of-type {\n        vertical-align: middle;\n    }\n\n    .dataframe tbody tr th {\n        vertical-align: top;\n    }\n\n    .dataframe thead th {\n        text-align: right;\n    }\n</style>\n<table border=\"1\" class=\"dataframe\">\n  <thead>\n    <tr style=\"text-align: right;\">\n      <th></th>\n      <th>FIPS</th>\n      <th>County_Name</th>\n      <th>Religious2014</th>\n      <th>Civic2014</th>\n      <th>Business2014</th>\n      <th>Political2014</th>\n      <th>Professional2014</th>\n      <th>Labor2014</th>\n      <th>Bowling2014</th>\n      <th>Recreational2014</th>\n      <th>...</th>\n      <th>nccs2014</th>\n      <th>sk2014</th>\n      <th>Unnamed: 18</th>\n      <th>Unnamed: 19</th>\n      <th>Unnamed: 20</th>\n      <th>Unnamed: 21</th>\n      <th>Unnamed: 22</th>\n      <th>Unnamed: 23</th>\n      <th>Unnamed: 24</th>\n      <th>Unnamed: 25</th>\n    </tr>\n  </thead>\n  <tbody>\n    <tr>\n      <th>0</th>\n      <td>1001.0</td>\n      <td>Autauga County, AL</td>\n      <td>53.0</td>\n      <td>7.0</td>\n      <td>3.0</td>\n      <td>0.0</td>\n      <td>1.0</td>\n      <td>4.0</td>\n      <td>1.0</td>\n      <td>5.0</td>\n      <td>...</td>\n      <td>157.0</td>\n      <td>-0.631003</td>\n      <td>NaN</td>\n      <td>NaN</td>\n      <td>NaN</td>\n      <td>NaN</td>\n      <td>NaN</td>\n      <td>NaN</td>\n      <td>NaN</td>\n      <td>NaN</td>\n    </tr>\n    <tr>\n      <th>1</th>\n      <td>1003.0</td>\n      <td>Baldwin County, AL</td>\n      <td>169.0</td>\n      <td>16.0</td>\n      <td>9.0</td>\n      <td>0.0</td>\n      <td>3.0</td>\n      <td>1.0</td>\n      <td>1.0</td>\n      <td>25.0</td>\n      <td>...</td>\n      <td>718.0</td>\n      <td>-0.555396</td>\n      <td>NaN</td>\n      <td>NaN</td>\n      <td>NaN</td>\n      <td>NaN</td>\n      <td>NaN</td>\n      <td>NaN</td>\n      <td>NaN</td>\n      <td>NaN</td>\n    </tr>\n    <tr>\n      <th>2</th>\n      <td>1005.0</td>\n      <td>Barbour County, AL</td>\n      <td>19.0</td>\n      <td>1.0</td>\n      <td>1.0</td>\n      <td>0.0</td>\n      <td>0.0</td>\n      <td>0.0</td>\n      <td>0.0</td>\n      <td>0.0</td>\n      <td>...</td>\n      <td>92.0</td>\n      <td>-0.891036</td>\n      <td>NaN</td>\n      <td>NaN</td>\n      <td>NaN</td>\n      <td>NaN</td>\n      <td>NaN</td>\n      <td>NaN</td>\n      <td>NaN</td>\n      <td>NaN</td>\n    </tr>\n  </tbody>\n</table>\n<p>3 rows × 26 columns</p>\n</div>"
     },
     "metadata": {}
    }
   ]
  },
  {
   "cell_type": "markdown",
   "source": "## DATA SOURCE AND DESCRIPTION\nMost of the datasets from our multiple sources are descriptive of counties in the United States. One county is one record, in general. \n\n### WHAT IS THE TARGET VARIABLE?\nThe target variable is the classification of political leaning.\n\n### WHAT ARE THE PREDICTOR VARIABLES UNDER CONSIDERATION?\nThe predictor variables are divided into three groups:\n#### Cultural\n- Urban and Rural Spectrum Classification\n- Facebook Social Connectedness Index Per County\n- Social Capital Variables from Penn State (including a Religion variable)\n\n#### Physical\n- Land Area (for scaling mainly)\n- Health Variables\n- Broadband\n- Streets and Intersections\n- Storm Fatalities for 2016\n\n#### Socioeconomic\n- Labor and Unemployment\n- Migration\n- Crime",
   "metadata": {
    "cell_id": "00006-ef14170c-b2a6-4bf6-829c-9ceba0291462",
    "deepnote_cell_type": "markdown"
   }
  },
  {
   "cell_type": "markdown",
   "source": "## DATA CLEANING, AGGREGATIONS, AND TRANSFORMATION",
   "metadata": {
    "cell_id": "00007-ddcd0263-e646-4b1f-84ee-fb0f3718b8a1",
    "deepnote_cell_type": "markdown"
   }
  },
  {
   "cell_type": "code",
   "metadata": {
    "tags": [],
    "cell_id": "00018-25134e67-621b-43a6-9683-12f9ef6020f2",
    "deepnote_cell_type": "code"
   },
   "source": "",
   "execution_count": null,
   "outputs": []
  },
  {
   "cell_type": "markdown",
   "source": "## DATA VISUALIZATIONS AND EDA",
   "metadata": {
    "cell_id": "00008-10603970-2306-48a4-a64d-9a0cbef3ae5a",
    "deepnote_cell_type": "markdown"
   }
  },
  {
   "cell_type": "markdown",
   "source": "## DIMENSION REDUCTION AND DETERMINING PREDICTORS",
   "metadata": {
    "cell_id": "00009-616e744c-113e-4951-8c0e-c2474e0cd0a7",
    "deepnote_cell_type": "markdown"
   }
  },
  {
   "cell_type": "markdown",
   "source": "## DATA MODELS",
   "metadata": {
    "cell_id": "00010-e75b12b7-594f-4904-8587-ded8e2716286",
    "deepnote_cell_type": "markdown"
   }
  },
  {
   "cell_type": "markdown",
   "source": "## MODEL EVALUATIONS",
   "metadata": {
    "cell_id": "00011-421a2cf3-2538-4399-8ee0-dadcd52e68a8",
    "deepnote_cell_type": "markdown"
   }
  },
  {
   "cell_type": "markdown",
   "source": "## MODEL SELECTION AND FINDINGS",
   "metadata": {
    "cell_id": "00012-3ff55c0e-1d66-4f9f-baaa-be7e4eabda01",
    "deepnote_cell_type": "markdown"
   }
  },
  {
   "cell_type": "markdown",
   "source": "<a style='text-decoration:none;line-height:16px;display:flex;color:#5B5B62;padding:10px;justify-content:end;' href='https://deepnote.com?utm_source=created-in-deepnote-cell&projectId=5e29d49d-e8a5-4b79-a7a8-5fff20f26b9d' target=\"_blank\">\n<img alt='Created in deepnote.com' style='display:inline;max-height:16px;margin:0px;margin-right:7.5px;' src='data:image/svg+xml;base64,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' > </img>\nCreated in <span style='font-weight:600;margin-left:4px;'>Deepnote</span></a>",
   "metadata": {
    "tags": [],
    "created_in_deepnote_cell": true,
    "deepnote_cell_type": "markdown"
   }
  }
 ],
 "nbformat": 4,
 "nbformat_minor": 5,
 "metadata": {
  "kernelspec": {
   "display_name": "Python 3",
   "language": "python",
   "name": "python3"
  },
  "language_info": {
   "codemirror_mode": {
    "name": "ipython",
    "version": 3
   },
   "file_extension": ".py",
   "mimetype": "text/x-python",
   "name": "python",
   "nbconvert_exporter": "python",
   "pygments_lexer": "ipython3",
   "version": "3.9.5"
  },
  "deepnote_notebook_id": "8bdd97c4-f3c4-498d-87d7-f982a6c05636",
  "deepnote": {},
  "deepnote_execution_queue": []
 }
}