{
 "cells": [
  {
   "cell_type": "markdown",
   "source": "# Draft as of 06/26/2021",
   "metadata": {
    "cell_id": "00000-b632796f-c8a8-411d-8833-21ffd1d29544",
    "deepnote_cell_type": "markdown"
   }
  },
  {
   "cell_type": "code",
   "metadata": {
    "cell_id": "00001-b995630d-50ab-4c93-a6ae-69e945c8fac3",
    "deepnote_to_be_reexecuted": false,
    "source_hash": "be12c32d",
    "execution_start": 1624669973562,
    "execution_millis": 228,
    "deepnote_cell_type": "code"
   },
   "source": "import pandas as pd\nimport xlrd\nimport openpyxl",
   "execution_count": 9,
   "outputs": []
  },
  {
   "cell_type": "code",
   "metadata": {
    "cell_id": "00002-f3161f9c-bfc0-4c1a-ab46-89249225491c",
    "deepnote_to_be_reexecuted": false,
    "source_hash": "eaa16efe",
    "execution_start": 1624671823928,
    "execution_millis": 1585,
    "deepnote_cell_type": "code"
   },
   "source": "# Load all raw datasets first: \nraw_harvard_election_returns_main = pd.read_csv('./data/HarvardData_countypres_2000-2020.csv')\nraw_nytimes_dataset = pd.read_csv('./data/NYTimes_covidcasedata.csv')\nraw_facebook_social_connectedness_index = pd.read_csv('./data/Facebook_Cornell_ERS_SocialConnectednessIndex.csv')\nraw_landareas_counties = pd.read_csv('./data/AgriCensus_LandAreas.csv')\nraw_bls_unemployment_2014 = pd.read_csv('./data/BLS_LaborUnemployment_2014_csv.csv')\nraw_bls_unemployment_2015 = pd.read_csv('./data/BLS_LaborUnemployment_2015_csv.csv')\nraw_bls_unemployment_2016 = pd.read_csv('./data/BLS_LaborUnemployment_2016_csv.csv')\nraw_ers_detailed_labor = pd.read_csv('./data/ERS_RurAtlas_DetailedLabor.csv')\nraw_ers_migration = pd.read_csv('./data/ERS_RurAtlas_Migration.csv')\nraw_ers_urban_rural = pd.read_csv('./data/ERS_RurAtlas_UrbanRuralClassification.csv')\nraw_fcc_health_and_broadband = pd.read_csv('./data/FCC_Health_and_Broadband.csv')\nraw_harvard_streets_and_intersections = pd.read_csv('./data/HarvardData_streets_intersections.csv')\nraw_noaa_storm_events = pd.read_csv('./data/NOAA_StormEvent_Fatalities_2016.csv')\nraw_openicpsr_crime = pd.read_csv('./data/OPENICPSR_Crime.csv')\nraw_pennstateagri_social_capital_variables = pd.read_csv('./data/PennState_AgriScienceDept_Religion_and_Social_Capital.csv')",
   "execution_count": 11,
   "outputs": [
    {
     "name": "stderr",
     "text": "/shared-libs/python3.7/py-core/lib/python3.7/site-packages/IPython/core/interactiveshell.py:3170: DtypeWarning: Columns (2,7,8,9,10,11,12,13,14,15,16,17,18,19,20,21,22,23,24,25,26,27,28,29,30,31,32,33,34,36,38,39,40,41,42,43,44,45,46,47,48,49,50,51,52,53,54,55,56,57,58,59,60,61,62,63,64,65,66,67,68,69,70,73,74,75,76,77,78,79,80,81,82,83,84,85,86,87,88,89,90,91,92,93,94,95,96,97,98,99,100,101,102,103,104,105,106,107,108,109,110,111,112,113,114,115,116,117,118,119,120,121,122,123,124,125,126,127,128,129,130,131,132,133,134,135,136,137,138,139,140,141,142,143,144,145,146,147,148,149,150,151,152,153,154,155,156,157,158,159,160,161,162,163,164,165,166,167,168,169,170,171,172,173,174,175,176,177,178,179,180,181,182,183,184,185,186,187,188,189,190,191,192,193,194,195,196,197,198,199,200,201,202,203,204,205,206,207,208,209,210,211,212,213,214,215,216,217,218,219,220,221,222,223,224,225,226,227,228,229,230,231,232,233,234,235,236,237,238,267,269,303,304) have mixed types.Specify dtype option on import or set low_memory=False.\n  interactivity=interactivity, compiler=compiler, result=result)\n",
     "output_type": "stream"
    }
   ]
  },
  {
   "cell_type": "code",
   "metadata": {
    "cell_id": "00003-ba56cd81-7625-4f4d-b76a-9d8fdcfd98b6",
    "deepnote_cell_type": "code"
   },
   "source": "raw_nytimes_dataset.head()",
   "execution_count": 9,
   "outputs": [
    {
     "data": {
      "text/html": "<div>\n<style scoped>\n    .dataframe tbody tr th:only-of-type {\n        vertical-align: middle;\n    }\n\n    .dataframe tbody tr th {\n        vertical-align: top;\n    }\n\n    .dataframe thead th {\n        text-align: right;\n    }\n</style>\n<table border=\"1\" class=\"dataframe\">\n  <thead>\n    <tr style=\"text-align: right;\">\n      <th></th>\n      <th>date</th>\n      <th>county</th>\n      <th>state</th>\n      <th>fips</th>\n      <th>cases</th>\n      <th>deaths</th>\n    </tr>\n  </thead>\n  <tbody>\n    <tr>\n      <th>0</th>\n      <td>2020-01-21</td>\n      <td>Snohomish</td>\n      <td>Washington</td>\n      <td>53061.0</td>\n      <td>1</td>\n      <td>0.0</td>\n    </tr>\n    <tr>\n      <th>1</th>\n      <td>2020-01-22</td>\n      <td>Snohomish</td>\n      <td>Washington</td>\n      <td>53061.0</td>\n      <td>1</td>\n      <td>0.0</td>\n    </tr>\n    <tr>\n      <th>2</th>\n      <td>2020-01-23</td>\n      <td>Snohomish</td>\n      <td>Washington</td>\n      <td>53061.0</td>\n      <td>1</td>\n      <td>0.0</td>\n    </tr>\n    <tr>\n      <th>3</th>\n      <td>2020-01-24</td>\n      <td>Cook</td>\n      <td>Illinois</td>\n      <td>17031.0</td>\n      <td>1</td>\n      <td>0.0</td>\n    </tr>\n    <tr>\n      <th>4</th>\n      <td>2020-01-24</td>\n      <td>Snohomish</td>\n      <td>Washington</td>\n      <td>53061.0</td>\n      <td>1</td>\n      <td>0.0</td>\n    </tr>\n  </tbody>\n</table>\n</div>",
      "text/plain": "         date     county       state     fips  cases  deaths\n0  2020-01-21  Snohomish  Washington  53061.0      1     0.0\n1  2020-01-22  Snohomish  Washington  53061.0      1     0.0\n2  2020-01-23  Snohomish  Washington  53061.0      1     0.0\n3  2020-01-24       Cook    Illinois  17031.0      1     0.0\n4  2020-01-24  Snohomish  Washington  53061.0      1     0.0"
     },
     "execution_count": 9,
     "metadata": {},
     "output_type": "execute_result"
    }
   ]
  },
  {
   "cell_type": "code",
   "metadata": {
    "cell_id": "00004-05592b61-d375-453d-9d5f-fe6fb09a8727",
    "deepnote_cell_type": "code"
   },
   "source": "raw_harvard_election_returns_main.head()",
   "execution_count": 10,
   "outputs": [
    {
     "data": {
      "text/html": "<div>\n<style scoped>\n    .dataframe tbody tr th:only-of-type {\n        vertical-align: middle;\n    }\n\n    .dataframe tbody tr th {\n        vertical-align: top;\n    }\n\n    .dataframe thead th {\n        text-align: right;\n    }\n</style>\n<table border=\"1\" class=\"dataframe\">\n  <thead>\n    <tr style=\"text-align: right;\">\n      <th></th>\n      <th>year</th>\n      <th>state</th>\n      <th>state_po</th>\n      <th>county_name</th>\n      <th>county_fips</th>\n      <th>office</th>\n      <th>candidate</th>\n      <th>party</th>\n      <th>candidatevotes</th>\n      <th>totalvotes</th>\n      <th>version</th>\n      <th>mode</th>\n    </tr>\n  </thead>\n  <tbody>\n    <tr>\n      <th>0</th>\n      <td>2000</td>\n      <td>ALABAMA</td>\n      <td>AL</td>\n      <td>AUTAUGA</td>\n      <td>1001.0</td>\n      <td>PRESIDENT</td>\n      <td>AL GORE</td>\n      <td>DEMOCRAT</td>\n      <td>4942.0</td>\n      <td>17208.0</td>\n      <td>20191203</td>\n      <td>TOTAL</td>\n    </tr>\n    <tr>\n      <th>1</th>\n      <td>2000</td>\n      <td>ALABAMA</td>\n      <td>AL</td>\n      <td>AUTAUGA</td>\n      <td>1001.0</td>\n      <td>PRESIDENT</td>\n      <td>GEORGE W. BUSH</td>\n      <td>REPUBLICAN</td>\n      <td>11993.0</td>\n      <td>17208.0</td>\n      <td>20191203</td>\n      <td>TOTAL</td>\n    </tr>\n    <tr>\n      <th>2</th>\n      <td>2000</td>\n      <td>ALABAMA</td>\n      <td>AL</td>\n      <td>AUTAUGA</td>\n      <td>1001.0</td>\n      <td>PRESIDENT</td>\n      <td>RALPH NADER</td>\n      <td>GREEN</td>\n      <td>160.0</td>\n      <td>17208.0</td>\n      <td>20191203</td>\n      <td>TOTAL</td>\n    </tr>\n    <tr>\n      <th>3</th>\n      <td>2000</td>\n      <td>ALABAMA</td>\n      <td>AL</td>\n      <td>AUTAUGA</td>\n      <td>1001.0</td>\n      <td>PRESIDENT</td>\n      <td>OTHER</td>\n      <td>OTHER</td>\n      <td>113.0</td>\n      <td>17208.0</td>\n      <td>20191203</td>\n      <td>TOTAL</td>\n    </tr>\n    <tr>\n      <th>4</th>\n      <td>2000</td>\n      <td>ALABAMA</td>\n      <td>AL</td>\n      <td>BALDWIN</td>\n      <td>1003.0</td>\n      <td>PRESIDENT</td>\n      <td>AL GORE</td>\n      <td>DEMOCRAT</td>\n      <td>13997.0</td>\n      <td>56480.0</td>\n      <td>20191203</td>\n      <td>TOTAL</td>\n    </tr>\n  </tbody>\n</table>\n</div>",
      "text/plain": "   year    state state_po county_name  county_fips     office       candidate  \\\n0  2000  ALABAMA       AL     AUTAUGA       1001.0  PRESIDENT         AL GORE   \n1  2000  ALABAMA       AL     AUTAUGA       1001.0  PRESIDENT  GEORGE W. BUSH   \n2  2000  ALABAMA       AL     AUTAUGA       1001.0  PRESIDENT     RALPH NADER   \n3  2000  ALABAMA       AL     AUTAUGA       1001.0  PRESIDENT           OTHER   \n4  2000  ALABAMA       AL     BALDWIN       1003.0  PRESIDENT         AL GORE   \n\n        party  candidatevotes  totalvotes   version   mode  \n0    DEMOCRAT          4942.0     17208.0  20191203  TOTAL  \n1  REPUBLICAN         11993.0     17208.0  20191203  TOTAL  \n2       GREEN           160.0     17208.0  20191203  TOTAL  \n3       OTHER           113.0     17208.0  20191203  TOTAL  \n4    DEMOCRAT         13997.0     56480.0  20191203  TOTAL  "
     },
     "execution_count": 10,
     "metadata": {},
     "output_type": "execute_result"
    }
   ]
  },
  {
   "cell_type": "code",
   "metadata": {
    "cell_id": "00005-0e50d9fc-328a-4ac6-ab19-dff9086e9f09",
    "deepnote_cell_type": "code"
   },
   "source": "raw_facebook_social_connectedness_index.head()\n# Social Index Density within 50 mile, 100 mile and 500 mile radius:",
   "execution_count": 11,
   "outputs": [
    {
     "data": {
      "text/html": "<div>\n<style scoped>\n    .dataframe tbody tr th:only-of-type {\n        vertical-align: middle;\n    }\n\n    .dataframe tbody tr th {\n        vertical-align: top;\n    }\n\n    .dataframe thead th {\n        text-align: right;\n    }\n</style>\n<table border=\"1\" class=\"dataframe\">\n  <thead>\n    <tr style=\"text-align: right;\">\n      <th></th>\n      <th>FIPS</th>\n      <th>sh050m</th>\n      <th>sh100m</th>\n      <th>sh500m</th>\n      <th>income</th>\n      <th>migration</th>\n      <th>birth</th>\n      <th>death</th>\n      <th>education</th>\n      <th>unemployment</th>\n      <th>election</th>\n    </tr>\n  </thead>\n  <tbody>\n    <tr>\n      <th>0</th>\n      <td>1001</td>\n      <td>0.206411</td>\n      <td>0.350840</td>\n      <td>0.291315</td>\n      <td>0.397313</td>\n      <td>0.407286</td>\n      <td>0.226810</td>\n      <td>-0.287958</td>\n      <td>0.653881</td>\n      <td>-0.056201</td>\n      <td>0.537613</td>\n    </tr>\n    <tr>\n      <th>1</th>\n      <td>1003</td>\n      <td>-0.099281</td>\n      <td>-0.641534</td>\n      <td>-0.209279</td>\n      <td>0.551486</td>\n      <td>1.643524</td>\n      <td>-0.174324</td>\n      <td>-0.358580</td>\n      <td>1.036397</td>\n      <td>0.052797</td>\n      <td>0.811953</td>\n    </tr>\n    <tr>\n      <th>2</th>\n      <td>1005</td>\n      <td>0.359257</td>\n      <td>0.516236</td>\n      <td>0.666761</td>\n      <td>-1.290785</td>\n      <td>-1.386023</td>\n      <td>-0.415005</td>\n      <td>-0.005468</td>\n      <td>-0.993064</td>\n      <td>1.687769</td>\n      <td>-0.866032</td>\n    </tr>\n    <tr>\n      <th>3</th>\n      <td>1007</td>\n      <td>1.582025</td>\n      <td>1.260516</td>\n      <td>0.917058</td>\n      <td>-0.494129</td>\n      <td>-0.058211</td>\n      <td>0.186697</td>\n      <td>-0.005468</td>\n      <td>-1.067442</td>\n      <td>0.652287</td>\n      <td>0.713348</td>\n    </tr>\n    <tr>\n      <th>4</th>\n      <td>1009</td>\n      <td>1.582025</td>\n      <td>1.260516</td>\n      <td>0.917058</td>\n      <td>-0.171091</td>\n      <td>-0.073473</td>\n      <td>0.226810</td>\n      <td>0.135776</td>\n      <td>-0.950562</td>\n      <td>0.107296</td>\n      <td>1.531833</td>\n    </tr>\n  </tbody>\n</table>\n</div>",
      "text/plain": "   FIPS    sh050m    sh100m    sh500m    income  migration     birth  \\\n0  1001  0.206411  0.350840  0.291315  0.397313   0.407286  0.226810   \n1  1003 -0.099281 -0.641534 -0.209279  0.551486   1.643524 -0.174324   \n2  1005  0.359257  0.516236  0.666761 -1.290785  -1.386023 -0.415005   \n3  1007  1.582025  1.260516  0.917058 -0.494129  -0.058211  0.186697   \n4  1009  1.582025  1.260516  0.917058 -0.171091  -0.073473  0.226810   \n\n      death  education  unemployment  election  \n0 -0.287958   0.653881     -0.056201  0.537613  \n1 -0.358580   1.036397      0.052797  0.811953  \n2 -0.005468  -0.993064      1.687769 -0.866032  \n3 -0.005468  -1.067442      0.652287  0.713348  \n4  0.135776  -0.950562      0.107296  1.531833  "
     },
     "execution_count": 11,
     "metadata": {},
     "output_type": "execute_result"
    }
   ]
  },
  {
   "cell_type": "markdown",
   "source": "DATA SOURCE AND DESCRIPTION\nWHAT IS THE TARGET VARIABLE\nWHAT ARE THE PREDICTOR VARIABLES IN THE INITIAL RUN\nWHAT ARE THE FINAL PREDICTOR VARS EME",
   "metadata": {
    "cell_id": "00006-ef14170c-b2a6-4bf6-829c-9ceba0291462",
    "deepnote_cell_type": "markdown"
   }
  },
  {
   "cell_type": "markdown",
   "source": "CLEANING AND TRANSFORMATIONS DONE ON THE DATA",
   "metadata": {
    "cell_id": "00007-ddcd0263-e646-4b1f-84ee-fb0f3718b8a1",
    "deepnote_cell_type": "markdown"
   }
  },
  {
   "cell_type": "markdown",
   "source": "DATA VISUALIZATIONS AND EXPLORATORY DATA ANALYSIS WORK",
   "metadata": {
    "cell_id": "00008-10603970-2306-48a4-a64d-9a0cbef3ae5a",
    "deepnote_cell_type": "markdown"
   }
  },
  {
   "cell_type": "markdown",
   "source": "CHOOSING PREDICTORS AND DIMENSION REDUCTION",
   "metadata": {
    "cell_id": "00009-616e744c-113e-4951-8c0e-c2474e0cd0a7",
    "deepnote_cell_type": "markdown"
   }
  },
  {
   "cell_type": "markdown",
   "source": "BINNING AND DATA TRANSFORMATIONS",
   "metadata": {
    "cell_id": "00010-e75b12b7-594f-4904-8587-ded8e2716286",
    "deepnote_cell_type": "markdown"
   }
  },
  {
   "cell_type": "markdown",
   "source": "MULTIPLE MODEL ATTEMPTS",
   "metadata": {
    "cell_id": "00011-421a2cf3-2538-4399-8ee0-dadcd52e68a8",
    "deepnote_cell_type": "markdown"
   }
  },
  {
   "cell_type": "markdown",
   "source": "MODEL EVALUATION; CHOOSE BEST MODEL AND WHY",
   "metadata": {
    "cell_id": "00012-3ff55c0e-1d66-4f9f-baaa-be7e4eabda01",
    "deepnote_cell_type": "markdown"
   }
  },
  {
   "cell_type": "markdown",
   "source": "<a style='text-decoration:none;line-height:16px;display:flex;color:#5B5B62;padding:10px;justify-content:end;' href='https://deepnote.com?utm_source=created-in-deepnote-cell&projectId=5e29d49d-e8a5-4b79-a7a8-5fff20f26b9d' target=\"_blank\">\n<img alt='Created in deepnote.com' style='display:inline;max-height:16px;margin:0px;margin-right:7.5px;' src='data:image/svg+xml;base64,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' > </img>\nCreated in <span style='font-weight:600;margin-left:4px;'>Deepnote</span></a>",
   "metadata": {
    "tags": [],
    "created_in_deepnote_cell": true,
    "deepnote_cell_type": "markdown"
   }
  }
 ],
 "nbformat": 4,
 "nbformat_minor": 5,
 "metadata": {
  "kernelspec": {
   "display_name": "Python 3",
   "language": "python",
   "name": "python3"
  },
  "language_info": {
   "codemirror_mode": {
    "name": "ipython",
    "version": 3
   },
   "file_extension": ".py",
   "mimetype": "text/x-python",
   "name": "python",
   "nbconvert_exporter": "python",
   "pygments_lexer": "ipython3",
   "version": "3.9.5"
  },
  "deepnote_notebook_id": "8bdd97c4-f3c4-498d-87d7-f982a6c05636",
  "deepnote": {},
  "deepnote_execution_queue": []
 }
}