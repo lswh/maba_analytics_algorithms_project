{
 "cells": [
  {
   "cell_type": "markdown",
   "metadata": {},
   "source": [
    "## Predicting Results of US Elections on a County Level"
   ]
  },
  {
   "cell_type": "markdown",
   "metadata": {},
   "source": [
    "#### Table of Contents <a name='top'></a>\n",
    "\n",
    "- [Load Modules and Set Notebook Properties](#modules)\n",
    "- [Define Path and Load Data](#load)\n",
    "- [Inspect Data](#inspect)\n",
    "- [Define a State Selection Function ](#stateselect)\n",
    "- [Define Scaling Function](#scale)\n",
    "- [Create Different Classifier Models](#create)\n",
    "- [Find the Best Model](#evaluate)\n",
    "- [Evaluate and Choose Models](#evaluate)\n",
    "- [Predict](#predict)\n",
    "- [Prepare Submission](#submit)\n",
    "\n",
    "[go to end](#end)"
   ]
  },
  {
   "cell_type": "markdown",
   "metadata": {},
   "source": [
    "#### Load Modules and Set Notebook Properties <a name='modules'></a>"
   ]
  },
  {
   "cell_type": "code",
   "execution_count": 1,
   "metadata": {},
   "outputs": [],
   "source": [
    "import pandas as pd\n",
    "import numpy as np\n",
    "import matplotlib.pyplot as plt\n",
    "import seaborn as sns\n",
    "import warnings\n",
    "import sys\n",
    "import os"
   ]
  },
  {
   "cell_type": "code",
   "execution_count": 2,
   "metadata": {},
   "outputs": [],
   "source": [
    "from config import ALL_STATES"
   ]
  },
  {
   "cell_type": "code",
   "execution_count": 40,
   "metadata": {},
   "outputs": [],
   "source": [
    "from sklearn.metrics import roc_auc_score, accuracy_score, classification_report\n",
    "from sklearn.model_selection import train_test_split\n",
    "from sklearn.preprocessing import StandardScaler, StandardScaler, MinMaxScaler, Normalizer"
   ]
  },
  {
   "cell_type": "code",
   "execution_count": 68,
   "metadata": {},
   "outputs": [],
   "source": [
    "from sklearn.neighbors import KNeighborsClassifier\n",
    "from sklearn.svm import SVC\n",
    "from xgboost import XGBClassifier\n",
    "from sklearn.linear_model import LogisticRegression\n",
    "from sklearn.naive_bayes import BernoulliNB\n",
    "from sklearn.tree import DecisionTreeClassifier\n",
    "from sklearn.neighbors import KNeighborsClassifier\n",
    "from sklearn.model_selection import GridSearchCV"
   ]
  },
  {
   "cell_type": "code",
   "execution_count": 23,
   "metadata": {},
   "outputs": [],
   "source": [
    "warnings.filterwarnings('ignore')\n",
    "pd.options.display.max_columns = None\n",
    "sns.set_style(\"darkgrid\")"
   ]
  },
  {
   "cell_type": "markdown",
   "metadata": {},
   "source": [
    "#### Define Path and Load Data  <a name='load'></a> "
   ]
  },
  {
   "cell_type": "code",
   "execution_count": 24,
   "metadata": {},
   "outputs": [],
   "source": [
    "OUTPUT_PATH = 'outputs'"
   ]
  },
  {
   "cell_type": "code",
   "execution_count": 25,
   "metadata": {},
   "outputs": [],
   "source": [
    "df = pd.read_csv(os.path.join(OUTPUT_PATH, 'results_2020.csv'))\n",
    "df_ = df[['county_fips', 'state', 'winner']]"
   ]
  },
  {
   "cell_type": "code",
   "execution_count": 26,
   "metadata": {},
   "outputs": [],
   "source": [
    "df2 = pd.read_csv(os.path.join(OUTPUT_PATH, 'rate_natural_increase_population_2020.csv'))\n",
    "df3 = pd.read_csv(os.path.join(OUTPUT_PATH, 'rate_international_migration_2020.csv'))\n",
    "df4 = pd.read_csv(os.path.join(OUTPUT_PATH, 'rate_domestic_migration_2020.csv'))\n",
    "df5 = pd.read_csv(os.path.join(OUTPUT_PATH, 'facebook_2014.csv'))\n",
    "df6 = pd.read_csv(os.path.join(OUTPUT_PATH, 'social_capital.csv')) "
   ]
  },
  {
   "cell_type": "code",
   "execution_count": 27,
   "metadata": {},
   "outputs": [],
   "source": [
    "merged = df_.merge(df2, on='county_fips', how='left')\\\n",
    "            .merge(df3, on='county_fips', how='left')\\\n",
    "            .merge(df4, on='county_fips', how='left')\\\n",
    "            .merge(df5, on='county_fips', how='left')\\\n",
    "            .merge(df6, on='county_fips', how='left')"
   ]
  },
  {
   "cell_type": "code",
   "execution_count": 28,
   "metadata": {},
   "outputs": [],
   "source": [
    "merged.fillna(0, inplace=True)"
   ]
  },
  {
   "cell_type": "markdown",
   "metadata": {},
   "source": [
    "#### Inspect Data  <a name='inspect'></a> "
   ]
  },
  {
   "cell_type": "code",
   "execution_count": 29,
   "metadata": {},
   "outputs": [
    {
     "data": {
      "text/html": [
       "<div>\n",
       "<style scoped>\n",
       "    .dataframe tbody tr th:only-of-type {\n",
       "        vertical-align: middle;\n",
       "    }\n",
       "\n",
       "    .dataframe tbody tr th {\n",
       "        vertical-align: top;\n",
       "    }\n",
       "\n",
       "    .dataframe thead th {\n",
       "        text-align: right;\n",
       "    }\n",
       "</style>\n",
       "<table border=\"1\" class=\"dataframe\">\n",
       "  <thead>\n",
       "    <tr style=\"text-align: right;\">\n",
       "      <th></th>\n",
       "      <th>county_fips</th>\n",
       "      <th>state</th>\n",
       "      <th>winner</th>\n",
       "      <th>rate_natural_increase_population</th>\n",
       "      <th>rate_international_migration</th>\n",
       "      <th>rate_domestic_migration</th>\n",
       "      <th>sh050m</th>\n",
       "      <th>sh100m</th>\n",
       "      <th>sh500m</th>\n",
       "      <th>Religious2014</th>\n",
       "      <th>Civic2014</th>\n",
       "      <th>Business2014</th>\n",
       "      <th>Political2014</th>\n",
       "      <th>Professional2014</th>\n",
       "      <th>Labor2014</th>\n",
       "      <th>Bowling2014</th>\n",
       "      <th>Recreational2014</th>\n",
       "      <th>Golf2014</th>\n",
       "      <th>Sports2014</th>\n",
       "      <th>assn2014</th>\n",
       "      <th>pvote2012</th>\n",
       "      <th>respn2010</th>\n",
       "      <th>nccs2014</th>\n",
       "      <th>sk2014</th>\n",
       "    </tr>\n",
       "  </thead>\n",
       "  <tbody>\n",
       "    <tr>\n",
       "      <th>0</th>\n",
       "      <td>1001.0</td>\n",
       "      <td>ALABAMA</td>\n",
       "      <td>republican</td>\n",
       "      <td>1.490099</td>\n",
       "      <td>-0.287248</td>\n",
       "      <td>4.847310</td>\n",
       "      <td>0.206411</td>\n",
       "      <td>0.350840</td>\n",
       "      <td>0.291315</td>\n",
       "      <td>53.0</td>\n",
       "      <td>7.0</td>\n",
       "      <td>3.0</td>\n",
       "      <td>0.0</td>\n",
       "      <td>1.0</td>\n",
       "      <td>4.0</td>\n",
       "      <td>1.0</td>\n",
       "      <td>5.0</td>\n",
       "      <td>2.0</td>\n",
       "      <td>0.0</td>\n",
       "      <td>1.374570</td>\n",
       "      <td>0.644956</td>\n",
       "      <td>0.78</td>\n",
       "      <td>157.0</td>\n",
       "      <td>-0.631003</td>\n",
       "    </tr>\n",
       "    <tr>\n",
       "      <th>1</th>\n",
       "      <td>1003.0</td>\n",
       "      <td>ALABAMA</td>\n",
       "      <td>republican</td>\n",
       "      <td>-0.099753</td>\n",
       "      <td>0.362739</td>\n",
       "      <td>24.017829</td>\n",
       "      <td>-0.099281</td>\n",
       "      <td>-0.641534</td>\n",
       "      <td>-0.209279</td>\n",
       "      <td>169.0</td>\n",
       "      <td>16.0</td>\n",
       "      <td>9.0</td>\n",
       "      <td>0.0</td>\n",
       "      <td>3.0</td>\n",
       "      <td>1.0</td>\n",
       "      <td>1.0</td>\n",
       "      <td>25.0</td>\n",
       "      <td>7.0</td>\n",
       "      <td>0.0</td>\n",
       "      <td>1.156660</td>\n",
       "      <td>0.674735</td>\n",
       "      <td>0.73</td>\n",
       "      <td>718.0</td>\n",
       "      <td>-0.555396</td>\n",
       "    </tr>\n",
       "    <tr>\n",
       "      <th>2</th>\n",
       "      <td>1005.0</td>\n",
       "      <td>ALABAMA</td>\n",
       "      <td>republican</td>\n",
       "      <td>-2.259978</td>\n",
       "      <td>0.524638</td>\n",
       "      <td>-5.690302</td>\n",
       "      <td>0.359257</td>\n",
       "      <td>0.516236</td>\n",
       "      <td>0.666761</td>\n",
       "      <td>19.0</td>\n",
       "      <td>1.0</td>\n",
       "      <td>1.0</td>\n",
       "      <td>0.0</td>\n",
       "      <td>0.0</td>\n",
       "      <td>0.0</td>\n",
       "      <td>0.0</td>\n",
       "      <td>0.0</td>\n",
       "      <td>1.0</td>\n",
       "      <td>0.0</td>\n",
       "      <td>0.820436</td>\n",
       "      <td>0.665031</td>\n",
       "      <td>0.63</td>\n",
       "      <td>92.0</td>\n",
       "      <td>-0.891036</td>\n",
       "    </tr>\n",
       "    <tr>\n",
       "      <th>3</th>\n",
       "      <td>1007.0</td>\n",
       "      <td>ALABAMA</td>\n",
       "      <td>republican</td>\n",
       "      <td>-0.536181</td>\n",
       "      <td>0.446818</td>\n",
       "      <td>1.385134</td>\n",
       "      <td>1.582025</td>\n",
       "      <td>1.260516</td>\n",
       "      <td>0.917058</td>\n",
       "      <td>20.0</td>\n",
       "      <td>0.0</td>\n",
       "      <td>1.0</td>\n",
       "      <td>0.0</td>\n",
       "      <td>0.0</td>\n",
       "      <td>0.0</td>\n",
       "      <td>0.0</td>\n",
       "      <td>1.0</td>\n",
       "      <td>1.0</td>\n",
       "      <td>0.0</td>\n",
       "      <td>1.020001</td>\n",
       "      <td>0.656838</td>\n",
       "      <td>0.58</td>\n",
       "      <td>54.0</td>\n",
       "      <td>-0.906582</td>\n",
       "    </tr>\n",
       "    <tr>\n",
       "      <th>4</th>\n",
       "      <td>1009.0</td>\n",
       "      <td>ALABAMA</td>\n",
       "      <td>republican</td>\n",
       "      <td>-0.103809</td>\n",
       "      <td>0.103809</td>\n",
       "      <td>1.020788</td>\n",
       "      <td>1.582025</td>\n",
       "      <td>1.260516</td>\n",
       "      <td>0.917058</td>\n",
       "      <td>39.0</td>\n",
       "      <td>0.0</td>\n",
       "      <td>1.0</td>\n",
       "      <td>0.0</td>\n",
       "      <td>0.0</td>\n",
       "      <td>3.0</td>\n",
       "      <td>0.0</td>\n",
       "      <td>3.0</td>\n",
       "      <td>3.0</td>\n",
       "      <td>0.0</td>\n",
       "      <td>0.849839</td>\n",
       "      <td>0.708668</td>\n",
       "      <td>0.80</td>\n",
       "      <td>108.0</td>\n",
       "      <td>-1.013280</td>\n",
       "    </tr>\n",
       "  </tbody>\n",
       "</table>\n",
       "</div>"
      ],
      "text/plain": [
       "   county_fips    state      winner  rate_natural_increase_population  \\\n",
       "0       1001.0  ALABAMA  republican                          1.490099   \n",
       "1       1003.0  ALABAMA  republican                         -0.099753   \n",
       "2       1005.0  ALABAMA  republican                         -2.259978   \n",
       "3       1007.0  ALABAMA  republican                         -0.536181   \n",
       "4       1009.0  ALABAMA  republican                         -0.103809   \n",
       "\n",
       "   rate_international_migration  rate_domestic_migration    sh050m    sh100m  \\\n",
       "0                     -0.287248                 4.847310  0.206411  0.350840   \n",
       "1                      0.362739                24.017829 -0.099281 -0.641534   \n",
       "2                      0.524638                -5.690302  0.359257  0.516236   \n",
       "3                      0.446818                 1.385134  1.582025  1.260516   \n",
       "4                      0.103809                 1.020788  1.582025  1.260516   \n",
       "\n",
       "     sh500m  Religious2014  Civic2014  Business2014  Political2014  \\\n",
       "0  0.291315           53.0        7.0           3.0            0.0   \n",
       "1 -0.209279          169.0       16.0           9.0            0.0   \n",
       "2  0.666761           19.0        1.0           1.0            0.0   \n",
       "3  0.917058           20.0        0.0           1.0            0.0   \n",
       "4  0.917058           39.0        0.0           1.0            0.0   \n",
       "\n",
       "   Professional2014  Labor2014  Bowling2014  Recreational2014  Golf2014  \\\n",
       "0               1.0        4.0          1.0               5.0       2.0   \n",
       "1               3.0        1.0          1.0              25.0       7.0   \n",
       "2               0.0        0.0          0.0               0.0       1.0   \n",
       "3               0.0        0.0          0.0               1.0       1.0   \n",
       "4               0.0        3.0          0.0               3.0       3.0   \n",
       "\n",
       "   Sports2014  assn2014  pvote2012  respn2010  nccs2014    sk2014  \n",
       "0         0.0  1.374570   0.644956       0.78     157.0 -0.631003  \n",
       "1         0.0  1.156660   0.674735       0.73     718.0 -0.555396  \n",
       "2         0.0  0.820436   0.665031       0.63      92.0 -0.891036  \n",
       "3         0.0  1.020001   0.656838       0.58      54.0 -0.906582  \n",
       "4         0.0  0.849839   0.708668       0.80     108.0 -1.013280  "
      ]
     },
     "execution_count": 29,
     "metadata": {},
     "output_type": "execute_result"
    }
   ],
   "source": [
    "merged.head()"
   ]
  },
  {
   "cell_type": "markdown",
   "metadata": {},
   "source": [
    "#### Define a State Selection Function <a name='stateselect'></a> "
   ]
  },
  {
   "cell_type": "code",
   "execution_count": 30,
   "metadata": {},
   "outputs": [],
   "source": [
    "def select_states(states=ALL_STATES):\n",
    "    \n",
    "    return merged[merged['state'].isin(states)]"
   ]
  },
  {
   "cell_type": "markdown",
   "metadata": {},
   "source": [
    "#### Define Scaling Function <a name='scale'></a> "
   ]
  },
  {
   "cell_type": "code",
   "execution_count": 31,
   "metadata": {},
   "outputs": [],
   "source": [
    "def scale_values(X_train, X_test, scaler='standard'):\n",
    "    \n",
    "    scaler_dict = {'standard': StandardScaler(), \n",
    "                    'minmax': MinMaxScaler(), \n",
    "                    'normal': Normalizer()}\n",
    "    if scaler is None:\n",
    "        return X_train, X_test\n",
    "    elif scaler not in scaler_dict.keys():\n",
    "        raise ValueError(\"Enter a valid value for scaler! Choose between 'standard', 'minmax', 'normal' or None.\")\n",
    "    else:\n",
    "        scl = scaler_dict[scaler]\n",
    "        X_train = scl.fit_transform(X_train)\n",
    "        X_test = scl.transform(X_test) \n",
    "        return X_train, X_test"
   ]
  },
  {
   "cell_type": "markdown",
   "metadata": {},
   "source": [
    "#### Define Classifiers"
   ]
  },
  {
   "cell_type": "code",
   "execution_count": 32,
   "metadata": {},
   "outputs": [],
   "source": [
    "knn = KNeighborsClassifier(n_neighbors=5)\n",
    "svc = SVC()\n",
    "log_reg =  LogisticRegression(penalty=\"l2\", C=1e42, solver='liblinear')\n",
    "nb = BernoulliNB(binarize=True)\n",
    "dt = DecisionTreeClassifier(criterion = 'entropy', \n",
    "                            max_depth=3, \n",
    "                            random_state = 0)\n",
    "xgb = XGBClassifier(n_estimators=100, \n",
    "                    objective='binary:logistic', \n",
    "                    use_label_encoder=False, \n",
    "                    eval_metric='error')"
   ]
  },
  {
   "cell_type": "code",
   "execution_count": 33,
   "metadata": {},
   "outputs": [],
   "source": [
    "classifier_dict = {'k-Nearest Neighbors': knn,\n",
    "                   'Support Vector': svc,\n",
    "                   'Logistic Regression': log_reg,\n",
    "                   'Naive Bayes': nb,\n",
    "                   'Decision Tree': dt,\n",
    "                   'XGBoost': xgb}"
   ]
  },
  {
   "cell_type": "markdown",
   "metadata": {},
   "source": [
    "#### Test Classifiers without Hyperparameter Tuning"
   ]
  },
  {
   "cell_type": "code",
   "execution_count": 59,
   "metadata": {},
   "outputs": [],
   "source": [
    "final = select_states(['ARIZONA', 'GEORGIA', 'PENNSYLVANIA', 'FLORIDA', 'OHIO', 'MICHIGAN', 'WISCONSIN'])\n",
    "X = final.drop(['county_fips', 'state', 'winner'], axis=1)\n",
    "y = [1 if x == 'republican' else 0 for x in final['winner']]\n",
    "X_train, X_test, y_train, y_test = train_test_split(X, y, test_size=0.30, random_state=27)\n",
    "X_train, X_test = scale_values(X_train, X_test, scaler='minmax')"
   ]
  },
  {
   "cell_type": "code",
   "execution_count": 60,
   "metadata": {},
   "outputs": [
    {
     "name": "stdout",
     "output_type": "stream",
     "text": [
      "Accuracy Scores\n",
      "===============\n",
      "k-Nearest Neighbors: 0.8855\n",
      "Support Vector: 0.8855\n",
      "Logistic Regression: 0.9036\n",
      "Naive Bayes: 0.8554\n",
      "Decision Tree: 0.8735\n",
      "XGBoost: 0.8976\n"
     ]
    }
   ],
   "source": [
    "print('Accuracy Scores')\n",
    "print('===============')\n",
    "for i in classifier_dict:\n",
    "    clf = classifier_dict[i]\n",
    "    clf.fit(X_train, y_train)\n",
    "    pred = clf.predict(X_test)\n",
    "    accuracy = accuracy_score(pred, y_test)\n",
    "    print('{}: {:.4f}'.format(i, accuracy))"
   ]
  },
  {
   "cell_type": "markdown",
   "metadata": {},
   "source": [
    "#### Tune Classifiers"
   ]
  },
  {
   "cell_type": "code",
   "execution_count": 107,
   "metadata": {},
   "outputs": [],
   "source": [
    "knn2 = KNeighborsClassifier()\n",
    "svc2 = SVC()\n",
    "log_reg2 =  LogisticRegression()\n",
    "dt2 = DecisionTreeClassifier()\n",
    "xgb2 = XGBClassifier()"
   ]
  },
  {
   "cell_type": "code",
   "execution_count": 108,
   "metadata": {},
   "outputs": [],
   "source": [
    "knn_params = {'n_neighbors': list(range(1,20))}\n",
    "svc_params = {'C': np.logspace(-3, 2, 6), \n",
    "              'gamma': np.logspace(-3, 2, 6)}\n",
    "logreg_params = {'solver': ['newton-cg', 'lbfgs', 'liblinear'],\n",
    "                 'penalty': ['l2'],\n",
    "                 'C': [100, 10, 1.0, 0.1, 0.01]}\n",
    "dt_params = {'criterion': ['gini', 'entropy'],\n",
    "             'max_depth': range(1,10),\n",
    "             'min_samples_split': range(1,10),\n",
    "             'min_samples_leaf': range(1,10)}\n",
    "xgb_params = {\"learning_rate\": [0.05, 0.10, 0.15, 0.20, 0.25, 0.30 ],\n",
    "              'n_estimators': [10, 20, 40, 100],\n",
    "              'objective': ['binary:logistic'],\n",
    "              'use_label_encoder': [False],\n",
    "              'eval_metric': ['error'],\n",
    "              \"max_depth\": [ 3, 4, 5, 6, 8, 10, 12, 15],\n",
    "              \"min_child_weight\": [ 1, 3, 5, 7 ],\n",
    "              \"gamma\": [ 0.0, 0.1, 0.2 , 0.3, 0.4 ],\n",
    "              \"colsample_bytree\": [ 0.3, 0.4, 0.5 , 0.7 ] }"
   ]
  },
  {
   "cell_type": "code",
   "execution_count": 110,
   "metadata": {},
   "outputs": [],
   "source": [
    "classifier_dict2 = {'k-Nearest Neighbors': [knn2, knn_params],\n",
    "                    'Support Vector': [svc2, svc_params],\n",
    "                    'Logistic Regression': [log_reg2, logreg_params],\n",
    "                    'Decision Tree': [dt2, dt_params],\n",
    "                    'XGBoost': [xgb2, xgb_params]}"
   ]
  },
  {
   "cell_type": "code",
   "execution_count": null,
   "metadata": {},
   "outputs": [
    {
     "name": "stdout",
     "output_type": "stream",
     "text": [
      "Hyperparameter Optimization\n",
      "===========================\n",
      "k-Nearest Neighbors\n",
      "Best Parameters: {'n_neighbors': 9}\n",
      "Accuracy on Training: 0.8780\n",
      "Accuracy on Test: 0.8735\n",
      "+++++++++++++++++++++++++++\n",
      "Support Vector\n",
      "Best Parameters: {'C': 100.0, 'gamma': 0.1}\n",
      "Accuracy on Training: 0.8832\n",
      "Accuracy on Test: 0.9096\n",
      "+++++++++++++++++++++++++++\n",
      "Logistic Regression\n",
      "Best Parameters: {'C': 10, 'penalty': 'l2', 'solver': 'newton-cg'}\n",
      "Accuracy on Training: 0.8858\n",
      "Accuracy on Test: 0.8916\n",
      "+++++++++++++++++++++++++++\n",
      "Decision Tree\n",
      "Best Parameters: {'criterion': 'entropy', 'max_depth': 4, 'min_samples_leaf': 7, 'min_samples_split': 6}\n",
      "Accuracy on Training: 0.8858\n",
      "Accuracy on Test: 0.8735\n",
      "+++++++++++++++++++++++++++\n",
      "XGBoost\n"
     ]
    }
   ],
   "source": [
    "print('Hyperparameter Optimization')\n",
    "print('===========================')\n",
    "for i in classifier_dict2:\n",
    "    print(i)\n",
    "    clf = classifier_dict2[i][0]\n",
    "    params = classifier_dict2[i][1]\n",
    "    grid = GridSearchCV(clf, params, cv=3, scoring='accuracy')\n",
    "    grid.fit(X_train, y_train)\n",
    "    print(f'Best Parameters: {grid.best_params_}')\n",
    "    print('Accuracy on Training: {:.4f}'.format(grid.best_score_))\n",
    "    \n",
    "    best_model = grid.best_estimator_\n",
    "    pred = best_model.predict(X_test)\n",
    "    accuracy = accuracy_score(pred, y_test)\n",
    "    print('Accuracy on Test: {:.4f}'.format(accuracy))\n",
    "    print('+++++++++++++++++++++++++++')"
   ]
  },
  {
   "cell_type": "code",
   "execution_count": null,
   "metadata": {},
   "outputs": [],
   "source": []
  }
 ],
 "metadata": {
  "kernelspec": {
   "display_name": "Python 3",
   "language": "python",
   "name": "python3"
  },
  "language_info": {
   "codemirror_mode": {
    "name": "ipython",
    "version": 3
   },
   "file_extension": ".py",
   "mimetype": "text/x-python",
   "name": "python",
   "nbconvert_exporter": "python",
   "pygments_lexer": "ipython3",
   "version": "3.6.12"
  }
 },
 "nbformat": 4,
 "nbformat_minor": 4
}
